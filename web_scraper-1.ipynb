{
 "cells": [
  {
   "cell_type": "code",
   "execution_count": 3,
   "metadata": {},
   "outputs": [],
   "source": [
    "import pandas as pd\n",
    "\n",
    "# Set the URL of the webpage containing the table\n",
    "url = \"https://en.wikipedia.org/wiki/List_of_Singapore_MRT_stations\"\n",
    "\n",
    "# Use read_html to extract the table data\n",
    "tables = pd.read_html(url, header=0, index_col=0)\n",
    "\n",
    "# Select the table you want to use (in this case, it's the first table on the page)\n",
    "df = tables[2]\n",
    "\n",
    "# Simplify the DataFrame by replacing non-breaking space characters with regular spaces\n",
    "df = df.replace('\\xa0', ' ', regex=True)\n",
    "\n",
    "# Write the DataFrame to a CSV file\n",
    "filename = \"mrt_stations.csv\"\n",
    "df.to_csv(filename, index=True, encoding='utf-8')\n"
   ]
  },
  {
   "cell_type": "code",
   "execution_count": null,
   "metadata": {},
   "outputs": [],
   "source": []
  }
 ],
 "metadata": {
  "kernelspec": {
   "display_name": "ors",
   "language": "python",
   "name": "python3"
  },
  "language_info": {
   "codemirror_mode": {
    "name": "ipython",
    "version": 3
   },
   "file_extension": ".py",
   "mimetype": "text/x-python",
   "name": "python",
   "nbconvert_exporter": "python",
   "pygments_lexer": "ipython3",
   "version": "3.11.3"
  },
  "orig_nbformat": 4
 },
 "nbformat": 4,
 "nbformat_minor": 2
}
