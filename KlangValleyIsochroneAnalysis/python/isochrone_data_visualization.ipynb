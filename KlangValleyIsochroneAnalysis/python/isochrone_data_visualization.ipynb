{
 "metadata": {
  "language_info": {
   "codemirror_mode": {
    "name": "ipython",
    "version": 3
   },
   "file_extension": ".py",
   "mimetype": "text/x-python",
   "name": "python",
   "nbconvert_exporter": "python",
   "pygments_lexer": "ipython3",
   "version": "3.7.9-final"
  },
  "orig_nbformat": 2,
  "kernelspec": {
   "name": "python3",
   "display_name": "Python 3"
  }
 },
 "nbformat": 4,
 "nbformat_minor": 2,
 "cells": [
  {
   "source": [
    "# Visualizing Isochrone data\n",
    "We'll be looking at the average data of walking area accessibility and the population coverage of the train stations. We'll compare different Klang Valley lines and then different cities with KL"
   ],
   "cell_type": "markdown",
   "metadata": {}
  },
  {
   "cell_type": "code",
   "execution_count": 2,
   "metadata": {},
   "outputs": [],
   "source": [
    "import pandas as pd\n",
    "import plotly.express as px\n",
    "from plotly.subplots import make_subplots\n",
    "import plotly.graph_objects as go\n"
   ]
  },
  {
   "cell_type": "code",
   "execution_count": 3,
   "metadata": {},
   "outputs": [],
   "source": [
    "file_kl = '../resources/data/train_stations_iso.csv'\n",
    "file_sg = '../resources/data/mrtsg_iso.csv'\n",
    "file_mtl = '../resources/data/montreal_metro_iso.csv'\n",
    "\n",
    "data_kl = pd.read_csv(file_kl)\n",
    "data_sg = pd.read_csv(file_sg)\n",
    "data_mtl = pd.read_csv(file_mtl)\n"
   ]
  },
  {
   "cell_type": "code",
   "execution_count": 13,
   "metadata": {},
   "outputs": [
    {
     "output_type": "stream",
     "name": "stdout",
     "text": [
      "Index(['Unnamed: 0', 'Stop ID', 'Name', 'Service Provider Name', 'Latitude',\n       'Longitude', 'ROUTE ID', 'Route Name', 'Line Number', 'Line Colour',\n       'Colour Hex Code', 'iso', '5 Minute Range Area', '10 Minute Range Area',\n       '15 Minute Range Area', '5 Minute Reach Factor',\n       '10 Minute Reach Factor', '15 Minute Reach Factor',\n       '5 Minute Population', '10 Minute Population', '15 Minute Population',\n       'City'],\n      dtype='object')\nIndex(['OBJECTID', 'Name', 'STN_NO', 'X', 'Y', 'Latitude', 'Longitude',\n       'Line Colour', 'Colour Hex Code', 'Route Name', 'Unnamed: 10', 'iso',\n       '5 Minute Range Area', '10 Minute Range Area', '15 Minute Range Area',\n       '5 Minute Reach Factor', '10 Minute Reach Factor',\n       '15 Minute Reach Factor', '5 Minute Population', '10 Minute Population',\n       '15 Minute Population', 'City', 'Service Provider Name'],\n      dtype='object')\nIndex(['Unnamed: 0', 'Stop ID', 'Object ID', 'Name', 'Odonym', 'Namesake',\n       'Opened', 'Latitude', 'Longitude', 'Route Name', 'Line Colour',\n       'Colour Hex Code', 'iso', '5 Minute Range Area', '10 Minute Range Area',\n       '15 Minute Range Area', '5 Minute Reach Factor',\n       '10 Minute Reach Factor', '15 Minute Reach Factor',\n       '5 Minute Population', '10 Minute Population', '15 Minute Population',\n       'City', 'Service Provider Name'],\n      dtype='object')\n"
     ]
    }
   ],
   "source": [
    "print(data_kl.columns)\n",
    "print(data_sg.columns)\n",
    "print(data_mtl.columns)\n",
    "data_kl['City']=\"Kuala Lumpur\"\n",
    "data_sg['City']=\"Singapore\"\n",
    "data_mtl['City']=\"Montreal\"\n",
    "data_sg['Service Provider Name']=\"SMRT\"\n",
    "data_mtl['Service Provider Name']=\"STM\"\n",
    "columns = ['Name','Route Name','Latitude','Longitude','Line Colour',\n",
    "            '5 Minute Range Area', '10 Minute Range Area','15 Minute Range Area', \n",
    "            '5 Minute Reach Factor','10 Minute Reach Factor', '15 Minute Reach Factor',\n",
    "            '5 Minute Population', '10 Minute Population', '15 Minute Population','City','Service Provider Name']\n",
    "data_all = pd.concat([data_kl[columns],data_sg[columns],data_mtl[columns]])"
   ]
  },
  {
   "source": [
    "## Visualize walkable area within different timeframes from KL train stations"
   ],
   "cell_type": "markdown",
   "metadata": {}
  },
  {
   "cell_type": "code",
   "execution_count": 69,
   "metadata": {},
   "outputs": [
    {
     "output_type": "display_data",
     "data": {
      "application/vnd.plotly.v1+json": {
       "config": {
        "plotlyServerURL": "https://plot.ly"
       },
       "data": [
        {
         "alignmentgroup": "True",
         "bingroup": "x",
         "histfunc": "avg",
         "hovertemplate": "Lines=%{x}<br>avg of 5 Minutes Walk Area(km^2)=%{y}<extra></extra>",
         "legendgroup": "",
         "marker": {
          "color": "#636efa"
         },
         "name": "",
         "offsetgroup": "",
         "orientation": "v",
         "showlegend": false,
         "type": "histogram",
         "x": [
          "Ampang Line",
          "Ampang Line",
          "Ampang Line",
          "Ampang Line",
          "Ampang Line",
          "Ampang Line",
          "Ampang Line",
          "Ampang Line",
          "Ampang Line",
          "Ampang Line",
          "Ampang Line",
          "Ampang Line",
          "Ampang Line",
          "Ampang Line",
          "Ampang Line",
          "Ampang Line",
          "Ampang Line",
          "Ampang Line",
          "Sri Petaling Line",
          "Sri Petaling Line",
          "Sri Petaling Line",
          "Sri Petaling Line",
          "Sri Petaling Line",
          "Sri Petaling Line",
          "Sri Petaling Line",
          "Sri Petaling Line",
          "Sri Petaling Line",
          "Sri Petaling Line",
          "Sri Petaling Line",
          "Sri Petaling Line",
          "Sri Petaling Line",
          "Sri Petaling Line",
          "Sri Petaling Line",
          "Sri Petaling Line",
          "Sri Petaling Line",
          "Sri Petaling Line",
          "Sri Petaling Line",
          "Sri Petaling Line",
          "Sri Petaling Line",
          "Sri Petaling Line",
          "Sri Petaling Line",
          "Sri Petaling Line",
          "Sri Petaling Line",
          "Sri Petaling Line",
          "Sri Petaling Line",
          "Sri Petaling Line",
          "Sri Petaling Line",
          "Kelana Jaya Line",
          "Kelana Jaya Line",
          "Kelana Jaya Line",
          "Kelana Jaya Line",
          "Kelana Jaya Line",
          "Kelana Jaya Line",
          "Kelana Jaya Line",
          "Kelana Jaya Line",
          "Kelana Jaya Line",
          "Kelana Jaya Line",
          "Kelana Jaya Line",
          "Kelana Jaya Line",
          "Kelana Jaya Line",
          "Kelana Jaya Line",
          "Kelana Jaya Line",
          "Kelana Jaya Line",
          "Kelana Jaya Line",
          "Kelana Jaya Line",
          "Kelana Jaya Line",
          "Kelana Jaya Line",
          "Kelana Jaya Line",
          "Kelana Jaya Line",
          "Kelana Jaya Line",
          "Kelana Jaya Line",
          "Kelana Jaya Line",
          "Kelana Jaya Line",
          "Kelana Jaya Line",
          "Kelana Jaya Line",
          "Kelana Jaya Line",
          "Kelana Jaya Line",
          "Kelana Jaya Line",
          "Kelana Jaya Line",
          "Kelana Jaya Line",
          "Kelana Jaya Line",
          "Kelana Jaya Line",
          "Kelana Jaya Line",
          "Kelana Jaya Line",
          "KL Monorail Line",
          "KL Monorail Line",
          "KL Monorail Line",
          "KL Monorail Line",
          "KL Monorail Line",
          "KL Monorail Line",
          "KL Monorail Line",
          "KL Monorail Line",
          "KL Monorail Line",
          "KL Monorail Line",
          "KL Monorail Line",
          "MRT Sungai Buloh - Kajang Line",
          "MRT Sungai Buloh - Kajang Line",
          "MRT Sungai Buloh - Kajang Line",
          "MRT Sungai Buloh - Kajang Line",
          "MRT Sungai Buloh - Kajang Line",
          "MRT Sungai Buloh - Kajang Line",
          "MRT Sungai Buloh - Kajang Line",
          "MRT Sungai Buloh - Kajang Line",
          "MRT Sungai Buloh - Kajang Line",
          "MRT Sungai Buloh - Kajang Line",
          "MRT Sungai Buloh - Kajang Line",
          "MRT Sungai Buloh - Kajang Line",
          "MRT Sungai Buloh - Kajang Line",
          "MRT Sungai Buloh - Kajang Line",
          "MRT Sungai Buloh - Kajang Line",
          "MRT Sungai Buloh - Kajang Line",
          "MRT Sungai Buloh - Kajang Line",
          "MRT Sungai Buloh - Kajang Line",
          "MRT Sungai Buloh - Kajang Line",
          "MRT Sungai Buloh - Kajang Line",
          "MRT Sungai Buloh - Kajang Line",
          "MRT Sungai Buloh - Kajang Line",
          "MRT Sungai Buloh - Kajang Line",
          "MRT Sungai Buloh - Kajang Line",
          "MRT Sungai Buloh - Kajang Line",
          "MRT Sungai Buloh - Kajang Line",
          "MRT Sungai Buloh - Kajang Line",
          "MRT Sungai Buloh - Kajang Line",
          "MRT Sungai Buloh - Kajang Line",
          "MRT Sungai Buloh - Kajang Line",
          "MRT Sungai Buloh - Kajang Line"
         ],
         "xaxis": "x",
         "y": [
          0.26906171,
          0.15450475,
          0.33872519,
          0.4055085,
          0.15714489,
          0.24470721,
          0.36333794,
          0.07630496,
          0.33342265000000004,
          0.33547277000000003,
          0.06614274,
          0.11082318,
          0.13059189,
          0.11739755,
          0.31730063000000003,
          0.21667868,
          0.20537105,
          0.12197596,
          0.12265542,
          0.33586209999999994,
          0.36522905,
          0.31761483,
          0.21022807,
          0.22576668,
          0.09057403,
          0.10225474,
          0.04970757,
          0.31457741,
          0.13177419,
          0.1906056,
          0.27380348,
          0.26906171,
          0.15450475,
          0.33872519,
          0.4055085,
          0.15714489,
          0.24470721,
          0.36333794,
          0.07630496,
          0.33342265000000004,
          0.20228178,
          0.03054939,
          0.09247795,
          0.33547277000000003,
          0.16389781,
          0.22348186,
          0.06614274,
          0.02530701,
          0.16040958,
          0.1698428,
          0.11361832,
          0.22206273,
          0.07811616,
          0.19771855,
          0.09758441,
          0.27431869,
          0.25019654,
          0.15652442000000005,
          0.01941681,
          0.29413713,
          0.30555996,
          0.32056655,
          0.18513043,
          0.27262057,
          0.23457008,
          0.22490972,
          0.23995215,
          0.07561281,
          0.32445034,
          0.28214027,
          0.30422587,
          0.31950989,
          0.21064803,
          0.18697426,
          0.32710491,
          0.25415424,
          0.34063571000000004,
          0.06022527,
          0.16263701,
          0.01305441,
          0.31715362,
          0.21985721,
          0.22370993,
          0.08860449000000001,
          0.28214027,
          0.29059041,
          0.24917128,
          0.4139009,
          0.31355846000000004,
          0.18190541,
          0.2962856,
          0.14768968,
          0.27496969,
          0.37616625,
          0.41847803,
          0.08765650999999999,
          0.16284754,
          0.08980397,
          0.24337264,
          0.07355569,
          0.19710253,
          0.27255515,
          0.04514654,
          0.19377531,
          0.184111,
          0.24931903,
          0.06253457,
          0.22174793,
          0.29679511,
          0.20178587,
          0.41213447,
          0.23793609999999998,
          0.29826654,
          0.22825747,
          0.31758584,
          0.25106741,
          0.19347108,
          0.11326242,
          0.17065887,
          0.10409232,
          0.22135276,
          0.1445443,
          0.0635617,
          0.22253983,
          0.31536557,
          0.19288203
         ],
         "yaxis": "y"
        }
       ],
       "layout": {
        "barmode": "group",
        "legend": {
         "tracegroupgap": 0
        },
        "showlegend": false,
        "template": {
         "data": {
          "bar": [
           {
            "error_x": {
             "color": "#2a3f5f"
            },
            "error_y": {
             "color": "#2a3f5f"
            },
            "marker": {
             "line": {
              "color": "#E5ECF6",
              "width": 0.5
             }
            },
            "type": "bar"
           }
          ],
          "barpolar": [
           {
            "marker": {
             "line": {
              "color": "#E5ECF6",
              "width": 0.5
             }
            },
            "type": "barpolar"
           }
          ],
          "carpet": [
           {
            "aaxis": {
             "endlinecolor": "#2a3f5f",
             "gridcolor": "white",
             "linecolor": "white",
             "minorgridcolor": "white",
             "startlinecolor": "#2a3f5f"
            },
            "baxis": {
             "endlinecolor": "#2a3f5f",
             "gridcolor": "white",
             "linecolor": "white",
             "minorgridcolor": "white",
             "startlinecolor": "#2a3f5f"
            },
            "type": "carpet"
           }
          ],
          "choropleth": [
           {
            "colorbar": {
             "outlinewidth": 0,
             "ticks": ""
            },
            "type": "choropleth"
           }
          ],
          "contour": [
           {
            "colorbar": {
             "outlinewidth": 0,
             "ticks": ""
            },
            "colorscale": [
             [
              0,
              "#0d0887"
             ],
             [
              0.1111111111111111,
              "#46039f"
             ],
             [
              0.2222222222222222,
              "#7201a8"
             ],
             [
              0.3333333333333333,
              "#9c179e"
             ],
             [
              0.4444444444444444,
              "#bd3786"
             ],
             [
              0.5555555555555556,
              "#d8576b"
             ],
             [
              0.6666666666666666,
              "#ed7953"
             ],
             [
              0.7777777777777778,
              "#fb9f3a"
             ],
             [
              0.8888888888888888,
              "#fdca26"
             ],
             [
              1,
              "#f0f921"
             ]
            ],
            "type": "contour"
           }
          ],
          "contourcarpet": [
           {
            "colorbar": {
             "outlinewidth": 0,
             "ticks": ""
            },
            "type": "contourcarpet"
           }
          ],
          "heatmap": [
           {
            "colorbar": {
             "outlinewidth": 0,
             "ticks": ""
            },
            "colorscale": [
             [
              0,
              "#0d0887"
             ],
             [
              0.1111111111111111,
              "#46039f"
             ],
             [
              0.2222222222222222,
              "#7201a8"
             ],
             [
              0.3333333333333333,
              "#9c179e"
             ],
             [
              0.4444444444444444,
              "#bd3786"
             ],
             [
              0.5555555555555556,
              "#d8576b"
             ],
             [
              0.6666666666666666,
              "#ed7953"
             ],
             [
              0.7777777777777778,
              "#fb9f3a"
             ],
             [
              0.8888888888888888,
              "#fdca26"
             ],
             [
              1,
              "#f0f921"
             ]
            ],
            "type": "heatmap"
           }
          ],
          "heatmapgl": [
           {
            "colorbar": {
             "outlinewidth": 0,
             "ticks": ""
            },
            "colorscale": [
             [
              0,
              "#0d0887"
             ],
             [
              0.1111111111111111,
              "#46039f"
             ],
             [
              0.2222222222222222,
              "#7201a8"
             ],
             [
              0.3333333333333333,
              "#9c179e"
             ],
             [
              0.4444444444444444,
              "#bd3786"
             ],
             [
              0.5555555555555556,
              "#d8576b"
             ],
             [
              0.6666666666666666,
              "#ed7953"
             ],
             [
              0.7777777777777778,
              "#fb9f3a"
             ],
             [
              0.8888888888888888,
              "#fdca26"
             ],
             [
              1,
              "#f0f921"
             ]
            ],
            "type": "heatmapgl"
           }
          ],
          "histogram": [
           {
            "marker": {
             "colorbar": {
              "outlinewidth": 0,
              "ticks": ""
             }
            },
            "type": "histogram"
           }
          ],
          "histogram2d": [
           {
            "colorbar": {
             "outlinewidth": 0,
             "ticks": ""
            },
            "colorscale": [
             [
              0,
              "#0d0887"
             ],
             [
              0.1111111111111111,
              "#46039f"
             ],
             [
              0.2222222222222222,
              "#7201a8"
             ],
             [
              0.3333333333333333,
              "#9c179e"
             ],
             [
              0.4444444444444444,
              "#bd3786"
             ],
             [
              0.5555555555555556,
              "#d8576b"
             ],
             [
              0.6666666666666666,
              "#ed7953"
             ],
             [
              0.7777777777777778,
              "#fb9f3a"
             ],
             [
              0.8888888888888888,
              "#fdca26"
             ],
             [
              1,
              "#f0f921"
             ]
            ],
            "type": "histogram2d"
           }
          ],
          "histogram2dcontour": [
           {
            "colorbar": {
             "outlinewidth": 0,
             "ticks": ""
            },
            "colorscale": [
             [
              0,
              "#0d0887"
             ],
             [
              0.1111111111111111,
              "#46039f"
             ],
             [
              0.2222222222222222,
              "#7201a8"
             ],
             [
              0.3333333333333333,
              "#9c179e"
             ],
             [
              0.4444444444444444,
              "#bd3786"
             ],
             [
              0.5555555555555556,
              "#d8576b"
             ],
             [
              0.6666666666666666,
              "#ed7953"
             ],
             [
              0.7777777777777778,
              "#fb9f3a"
             ],
             [
              0.8888888888888888,
              "#fdca26"
             ],
             [
              1,
              "#f0f921"
             ]
            ],
            "type": "histogram2dcontour"
           }
          ],
          "mesh3d": [
           {
            "colorbar": {
             "outlinewidth": 0,
             "ticks": ""
            },
            "type": "mesh3d"
           }
          ],
          "parcoords": [
           {
            "line": {
             "colorbar": {
              "outlinewidth": 0,
              "ticks": ""
             }
            },
            "type": "parcoords"
           }
          ],
          "pie": [
           {
            "automargin": true,
            "type": "pie"
           }
          ],
          "scatter": [
           {
            "marker": {
             "colorbar": {
              "outlinewidth": 0,
              "ticks": ""
             }
            },
            "type": "scatter"
           }
          ],
          "scatter3d": [
           {
            "line": {
             "colorbar": {
              "outlinewidth": 0,
              "ticks": ""
             }
            },
            "marker": {
             "colorbar": {
              "outlinewidth": 0,
              "ticks": ""
             }
            },
            "type": "scatter3d"
           }
          ],
          "scattercarpet": [
           {
            "marker": {
             "colorbar": {
              "outlinewidth": 0,
              "ticks": ""
             }
            },
            "type": "scattercarpet"
           }
          ],
          "scattergeo": [
           {
            "marker": {
             "colorbar": {
              "outlinewidth": 0,
              "ticks": ""
             }
            },
            "type": "scattergeo"
           }
          ],
          "scattergl": [
           {
            "marker": {
             "colorbar": {
              "outlinewidth": 0,
              "ticks": ""
             }
            },
            "type": "scattergl"
           }
          ],
          "scattermapbox": [
           {
            "marker": {
             "colorbar": {
              "outlinewidth": 0,
              "ticks": ""
             }
            },
            "type": "scattermapbox"
           }
          ],
          "scatterpolar": [
           {
            "marker": {
             "colorbar": {
              "outlinewidth": 0,
              "ticks": ""
             }
            },
            "type": "scatterpolar"
           }
          ],
          "scatterpolargl": [
           {
            "marker": {
             "colorbar": {
              "outlinewidth": 0,
              "ticks": ""
             }
            },
            "type": "scatterpolargl"
           }
          ],
          "scatterternary": [
           {
            "marker": {
             "colorbar": {
              "outlinewidth": 0,
              "ticks": ""
             }
            },
            "type": "scatterternary"
           }
          ],
          "surface": [
           {
            "colorbar": {
             "outlinewidth": 0,
             "ticks": ""
            },
            "colorscale": [
             [
              0,
              "#0d0887"
             ],
             [
              0.1111111111111111,
              "#46039f"
             ],
             [
              0.2222222222222222,
              "#7201a8"
             ],
             [
              0.3333333333333333,
              "#9c179e"
             ],
             [
              0.4444444444444444,
              "#bd3786"
             ],
             [
              0.5555555555555556,
              "#d8576b"
             ],
             [
              0.6666666666666666,
              "#ed7953"
             ],
             [
              0.7777777777777778,
              "#fb9f3a"
             ],
             [
              0.8888888888888888,
              "#fdca26"
             ],
             [
              1,
              "#f0f921"
             ]
            ],
            "type": "surface"
           }
          ],
          "table": [
           {
            "cells": {
             "fill": {
              "color": "#EBF0F8"
             },
             "line": {
              "color": "white"
             }
            },
            "header": {
             "fill": {
              "color": "#C8D4E3"
             },
             "line": {
              "color": "white"
             }
            },
            "type": "table"
           }
          ]
         },
         "layout": {
          "annotationdefaults": {
           "arrowcolor": "#2a3f5f",
           "arrowhead": 0,
           "arrowwidth": 1
          },
          "coloraxis": {
           "colorbar": {
            "outlinewidth": 0,
            "ticks": ""
           }
          },
          "colorscale": {
           "diverging": [
            [
             0,
             "#8e0152"
            ],
            [
             0.1,
             "#c51b7d"
            ],
            [
             0.2,
             "#de77ae"
            ],
            [
             0.3,
             "#f1b6da"
            ],
            [
             0.4,
             "#fde0ef"
            ],
            [
             0.5,
             "#f7f7f7"
            ],
            [
             0.6,
             "#e6f5d0"
            ],
            [
             0.7,
             "#b8e186"
            ],
            [
             0.8,
             "#7fbc41"
            ],
            [
             0.9,
             "#4d9221"
            ],
            [
             1,
             "#276419"
            ]
           ],
           "sequential": [
            [
             0,
             "#0d0887"
            ],
            [
             0.1111111111111111,
             "#46039f"
            ],
            [
             0.2222222222222222,
             "#7201a8"
            ],
            [
             0.3333333333333333,
             "#9c179e"
            ],
            [
             0.4444444444444444,
             "#bd3786"
            ],
            [
             0.5555555555555556,
             "#d8576b"
            ],
            [
             0.6666666666666666,
             "#ed7953"
            ],
            [
             0.7777777777777778,
             "#fb9f3a"
            ],
            [
             0.8888888888888888,
             "#fdca26"
            ],
            [
             1,
             "#f0f921"
            ]
           ],
           "sequentialminus": [
            [
             0,
             "#0d0887"
            ],
            [
             0.1111111111111111,
             "#46039f"
            ],
            [
             0.2222222222222222,
             "#7201a8"
            ],
            [
             0.3333333333333333,
             "#9c179e"
            ],
            [
             0.4444444444444444,
             "#bd3786"
            ],
            [
             0.5555555555555556,
             "#d8576b"
            ],
            [
             0.6666666666666666,
             "#ed7953"
            ],
            [
             0.7777777777777778,
             "#fb9f3a"
            ],
            [
             0.8888888888888888,
             "#fdca26"
            ],
            [
             1,
             "#f0f921"
            ]
           ]
          },
          "colorway": [
           "#636efa",
           "#EF553B",
           "#00cc96",
           "#ab63fa",
           "#FFA15A",
           "#19d3f3",
           "#FF6692",
           "#B6E880",
           "#FF97FF",
           "#FECB52"
          ],
          "font": {
           "color": "#2a3f5f"
          },
          "geo": {
           "bgcolor": "white",
           "lakecolor": "white",
           "landcolor": "#E5ECF6",
           "showlakes": true,
           "showland": true,
           "subunitcolor": "white"
          },
          "hoverlabel": {
           "align": "left"
          },
          "hovermode": "closest",
          "mapbox": {
           "style": "light"
          },
          "paper_bgcolor": "white",
          "plot_bgcolor": "#E5ECF6",
          "polar": {
           "angularaxis": {
            "gridcolor": "white",
            "linecolor": "white",
            "ticks": ""
           },
           "bgcolor": "#E5ECF6",
           "radialaxis": {
            "gridcolor": "white",
            "linecolor": "white",
            "ticks": ""
           }
          },
          "scene": {
           "xaxis": {
            "backgroundcolor": "#E5ECF6",
            "gridcolor": "white",
            "gridwidth": 2,
            "linecolor": "white",
            "showbackground": true,
            "ticks": "",
            "zerolinecolor": "white"
           },
           "yaxis": {
            "backgroundcolor": "#E5ECF6",
            "gridcolor": "white",
            "gridwidth": 2,
            "linecolor": "white",
            "showbackground": true,
            "ticks": "",
            "zerolinecolor": "white"
           },
           "zaxis": {
            "backgroundcolor": "#E5ECF6",
            "gridcolor": "white",
            "gridwidth": 2,
            "linecolor": "white",
            "showbackground": true,
            "ticks": "",
            "zerolinecolor": "white"
           }
          },
          "shapedefaults": {
           "line": {
            "color": "#2a3f5f"
           }
          },
          "ternary": {
           "aaxis": {
            "gridcolor": "white",
            "linecolor": "white",
            "ticks": ""
           },
           "baxis": {
            "gridcolor": "white",
            "linecolor": "white",
            "ticks": ""
           },
           "bgcolor": "#E5ECF6",
           "caxis": {
            "gridcolor": "white",
            "linecolor": "white",
            "ticks": ""
           }
          },
          "title": {
           "x": 0.05
          },
          "xaxis": {
           "automargin": true,
           "gridcolor": "white",
           "linecolor": "white",
           "ticks": "",
           "title": {
            "standoff": 15
           },
           "zerolinecolor": "white",
           "zerolinewidth": 2
          },
          "yaxis": {
           "automargin": true,
           "gridcolor": "white",
           "linecolor": "white",
           "ticks": "",
           "title": {
            "standoff": 15
           },
           "zerolinecolor": "white",
           "zerolinewidth": 2
          }
         }
        },
        "title": {
         "text": "Area coverage within 5 minutes walk from station"
        },
        "xaxis": {
         "anchor": "y",
         "categoryorder": "total ascending",
         "domain": [
          0,
          1
         ],
         "title": {
          "text": "Lines"
         }
        },
        "yaxis": {
         "anchor": "x",
         "domain": [
          0,
          1
         ],
         "title": {
          "text": "avg of 5 Minutes Walk Area(km^2)"
         }
        }
       }
      }
     },
     "metadata": {}
    },
    {
     "output_type": "display_data",
     "data": {
      "application/vnd.plotly.v1+json": {
       "config": {
        "plotlyServerURL": "https://plot.ly"
       },
       "data": [
        {
         "alignmentgroup": "True",
         "bingroup": "x",
         "histfunc": "avg",
         "hovertemplate": "Lines=%{x}<br>avg of 10 Minutes Walk Area(km^2)=%{y}<extra></extra>",
         "legendgroup": "",
         "marker": {
          "color": "#636efa"
         },
         "name": "",
         "offsetgroup": "",
         "orientation": "v",
         "showlegend": false,
         "type": "histogram",
         "x": [
          "Ampang Line",
          "Ampang Line",
          "Ampang Line",
          "Ampang Line",
          "Ampang Line",
          "Ampang Line",
          "Ampang Line",
          "Ampang Line",
          "Ampang Line",
          "Ampang Line",
          "Ampang Line",
          "Ampang Line",
          "Ampang Line",
          "Ampang Line",
          "Ampang Line",
          "Ampang Line",
          "Ampang Line",
          "Ampang Line",
          "Sri Petaling Line",
          "Sri Petaling Line",
          "Sri Petaling Line",
          "Sri Petaling Line",
          "Sri Petaling Line",
          "Sri Petaling Line",
          "Sri Petaling Line",
          "Sri Petaling Line",
          "Sri Petaling Line",
          "Sri Petaling Line",
          "Sri Petaling Line",
          "Sri Petaling Line",
          "Sri Petaling Line",
          "Sri Petaling Line",
          "Sri Petaling Line",
          "Sri Petaling Line",
          "Sri Petaling Line",
          "Sri Petaling Line",
          "Sri Petaling Line",
          "Sri Petaling Line",
          "Sri Petaling Line",
          "Sri Petaling Line",
          "Sri Petaling Line",
          "Sri Petaling Line",
          "Sri Petaling Line",
          "Sri Petaling Line",
          "Sri Petaling Line",
          "Sri Petaling Line",
          "Sri Petaling Line",
          "Kelana Jaya Line",
          "Kelana Jaya Line",
          "Kelana Jaya Line",
          "Kelana Jaya Line",
          "Kelana Jaya Line",
          "Kelana Jaya Line",
          "Kelana Jaya Line",
          "Kelana Jaya Line",
          "Kelana Jaya Line",
          "Kelana Jaya Line",
          "Kelana Jaya Line",
          "Kelana Jaya Line",
          "Kelana Jaya Line",
          "Kelana Jaya Line",
          "Kelana Jaya Line",
          "Kelana Jaya Line",
          "Kelana Jaya Line",
          "Kelana Jaya Line",
          "Kelana Jaya Line",
          "Kelana Jaya Line",
          "Kelana Jaya Line",
          "Kelana Jaya Line",
          "Kelana Jaya Line",
          "Kelana Jaya Line",
          "Kelana Jaya Line",
          "Kelana Jaya Line",
          "Kelana Jaya Line",
          "Kelana Jaya Line",
          "Kelana Jaya Line",
          "Kelana Jaya Line",
          "Kelana Jaya Line",
          "Kelana Jaya Line",
          "Kelana Jaya Line",
          "Kelana Jaya Line",
          "Kelana Jaya Line",
          "Kelana Jaya Line",
          "Kelana Jaya Line",
          "KL Monorail Line",
          "KL Monorail Line",
          "KL Monorail Line",
          "KL Monorail Line",
          "KL Monorail Line",
          "KL Monorail Line",
          "KL Monorail Line",
          "KL Monorail Line",
          "KL Monorail Line",
          "KL Monorail Line",
          "KL Monorail Line",
          "MRT Sungai Buloh - Kajang Line",
          "MRT Sungai Buloh - Kajang Line",
          "MRT Sungai Buloh - Kajang Line",
          "MRT Sungai Buloh - Kajang Line",
          "MRT Sungai Buloh - Kajang Line",
          "MRT Sungai Buloh - Kajang Line",
          "MRT Sungai Buloh - Kajang Line",
          "MRT Sungai Buloh - Kajang Line",
          "MRT Sungai Buloh - Kajang Line",
          "MRT Sungai Buloh - Kajang Line",
          "MRT Sungai Buloh - Kajang Line",
          "MRT Sungai Buloh - Kajang Line",
          "MRT Sungai Buloh - Kajang Line",
          "MRT Sungai Buloh - Kajang Line",
          "MRT Sungai Buloh - Kajang Line",
          "MRT Sungai Buloh - Kajang Line",
          "MRT Sungai Buloh - Kajang Line",
          "MRT Sungai Buloh - Kajang Line",
          "MRT Sungai Buloh - Kajang Line",
          "MRT Sungai Buloh - Kajang Line",
          "MRT Sungai Buloh - Kajang Line",
          "MRT Sungai Buloh - Kajang Line",
          "MRT Sungai Buloh - Kajang Line",
          "MRT Sungai Buloh - Kajang Line",
          "MRT Sungai Buloh - Kajang Line",
          "MRT Sungai Buloh - Kajang Line",
          "MRT Sungai Buloh - Kajang Line",
          "MRT Sungai Buloh - Kajang Line",
          "MRT Sungai Buloh - Kajang Line",
          "MRT Sungai Buloh - Kajang Line",
          "MRT Sungai Buloh - Kajang Line"
         ],
         "xaxis": "x",
         "y": [
          0.92417691,
          0.7984011999999999,
          1.36472762,
          1.34298447,
          0.98090547,
          1.02357174,
          1.55746101,
          0.72298485,
          1.41198538,
          1.4821436,
          0.62672413,
          0.7806436999999999,
          0.9356476,
          0.47636267,
          1.24453257,
          1.07525999,
          1.09510422,
          0.81903971,
          0.73257024,
          1.13294357,
          1.45600931,
          0.89987739,
          0.50985454,
          0.98216324,
          0.5042118400000001,
          0.90260851,
          0.32759746999999995,
          0.97697634,
          0.73425544,
          0.68582553,
          1.1683941100000002,
          0.92417691,
          0.7984011999999999,
          1.36472762,
          1.34298447,
          0.98090547,
          1.02357174,
          1.55746101,
          0.72298485,
          1.41198538,
          0.6867144599999999,
          0.14878633,
          0.39869570000000004,
          1.4821436,
          0.53962213,
          0.67318924,
          0.62672413,
          0.16422948,
          0.43262021,
          0.90576992,
          0.7680285,
          1.16814541,
          0.5649235600000001,
          0.6922888199999999,
          0.36784969,
          1.36313283,
          1.20327689,
          0.4365715200000001,
          0.35407823,
          1.1214638600000002,
          1.20383972,
          1.47026098,
          1.04967702,
          1.0948993500000002,
          0.90765761,
          1.04413535,
          1.11366205,
          0.54064726,
          1.22922377,
          1.0931096000000002,
          1.27589121,
          1.53404851,
          1.05327822,
          1.12110455,
          1.28973037,
          1.08005197,
          1.3024851000000002,
          0.31488911,
          0.60695367,
          0.3482228,
          1.24033532,
          1.11105647,
          0.95118687,
          0.63528049,
          1.0931096000000002,
          1.08590635,
          1.2373238000000002,
          1.60333891,
          1.41190189,
          0.82693069,
          1.27349018,
          1.01102235,
          1.33114698,
          1.62392868,
          1.6669872,
          0.57855598,
          0.41209059,
          0.68896523,
          1.10352806,
          0.27228962,
          1.05843076,
          1.20413996,
          0.30540356,
          0.94476396,
          0.79133798,
          0.92885163,
          0.18720546,
          1.1003413700000002,
          1.2527901,
          0.96496008,
          1.64609813,
          1.11365675,
          1.2501091599999998,
          1.37201775,
          1.44542673,
          0.98727396,
          1.05876432,
          0.55486018,
          0.6937985600000001,
          0.46559112,
          0.96051064,
          0.69035179,
          0.42910788,
          1.0818770800000002,
          1.34557196,
          0.63328998
         ],
         "yaxis": "y"
        }
       ],
       "layout": {
        "barmode": "group",
        "legend": {
         "tracegroupgap": 0
        },
        "showlegend": false,
        "template": {
         "data": {
          "bar": [
           {
            "error_x": {
             "color": "#2a3f5f"
            },
            "error_y": {
             "color": "#2a3f5f"
            },
            "marker": {
             "line": {
              "color": "#E5ECF6",
              "width": 0.5
             }
            },
            "type": "bar"
           }
          ],
          "barpolar": [
           {
            "marker": {
             "line": {
              "color": "#E5ECF6",
              "width": 0.5
             }
            },
            "type": "barpolar"
           }
          ],
          "carpet": [
           {
            "aaxis": {
             "endlinecolor": "#2a3f5f",
             "gridcolor": "white",
             "linecolor": "white",
             "minorgridcolor": "white",
             "startlinecolor": "#2a3f5f"
            },
            "baxis": {
             "endlinecolor": "#2a3f5f",
             "gridcolor": "white",
             "linecolor": "white",
             "minorgridcolor": "white",
             "startlinecolor": "#2a3f5f"
            },
            "type": "carpet"
           }
          ],
          "choropleth": [
           {
            "colorbar": {
             "outlinewidth": 0,
             "ticks": ""
            },
            "type": "choropleth"
           }
          ],
          "contour": [
           {
            "colorbar": {
             "outlinewidth": 0,
             "ticks": ""
            },
            "colorscale": [
             [
              0,
              "#0d0887"
             ],
             [
              0.1111111111111111,
              "#46039f"
             ],
             [
              0.2222222222222222,
              "#7201a8"
             ],
             [
              0.3333333333333333,
              "#9c179e"
             ],
             [
              0.4444444444444444,
              "#bd3786"
             ],
             [
              0.5555555555555556,
              "#d8576b"
             ],
             [
              0.6666666666666666,
              "#ed7953"
             ],
             [
              0.7777777777777778,
              "#fb9f3a"
             ],
             [
              0.8888888888888888,
              "#fdca26"
             ],
             [
              1,
              "#f0f921"
             ]
            ],
            "type": "contour"
           }
          ],
          "contourcarpet": [
           {
            "colorbar": {
             "outlinewidth": 0,
             "ticks": ""
            },
            "type": "contourcarpet"
           }
          ],
          "heatmap": [
           {
            "colorbar": {
             "outlinewidth": 0,
             "ticks": ""
            },
            "colorscale": [
             [
              0,
              "#0d0887"
             ],
             [
              0.1111111111111111,
              "#46039f"
             ],
             [
              0.2222222222222222,
              "#7201a8"
             ],
             [
              0.3333333333333333,
              "#9c179e"
             ],
             [
              0.4444444444444444,
              "#bd3786"
             ],
             [
              0.5555555555555556,
              "#d8576b"
             ],
             [
              0.6666666666666666,
              "#ed7953"
             ],
             [
              0.7777777777777778,
              "#fb9f3a"
             ],
             [
              0.8888888888888888,
              "#fdca26"
             ],
             [
              1,
              "#f0f921"
             ]
            ],
            "type": "heatmap"
           }
          ],
          "heatmapgl": [
           {
            "colorbar": {
             "outlinewidth": 0,
             "ticks": ""
            },
            "colorscale": [
             [
              0,
              "#0d0887"
             ],
             [
              0.1111111111111111,
              "#46039f"
             ],
             [
              0.2222222222222222,
              "#7201a8"
             ],
             [
              0.3333333333333333,
              "#9c179e"
             ],
             [
              0.4444444444444444,
              "#bd3786"
             ],
             [
              0.5555555555555556,
              "#d8576b"
             ],
             [
              0.6666666666666666,
              "#ed7953"
             ],
             [
              0.7777777777777778,
              "#fb9f3a"
             ],
             [
              0.8888888888888888,
              "#fdca26"
             ],
             [
              1,
              "#f0f921"
             ]
            ],
            "type": "heatmapgl"
           }
          ],
          "histogram": [
           {
            "marker": {
             "colorbar": {
              "outlinewidth": 0,
              "ticks": ""
             }
            },
            "type": "histogram"
           }
          ],
          "histogram2d": [
           {
            "colorbar": {
             "outlinewidth": 0,
             "ticks": ""
            },
            "colorscale": [
             [
              0,
              "#0d0887"
             ],
             [
              0.1111111111111111,
              "#46039f"
             ],
             [
              0.2222222222222222,
              "#7201a8"
             ],
             [
              0.3333333333333333,
              "#9c179e"
             ],
             [
              0.4444444444444444,
              "#bd3786"
             ],
             [
              0.5555555555555556,
              "#d8576b"
             ],
             [
              0.6666666666666666,
              "#ed7953"
             ],
             [
              0.7777777777777778,
              "#fb9f3a"
             ],
             [
              0.8888888888888888,
              "#fdca26"
             ],
             [
              1,
              "#f0f921"
             ]
            ],
            "type": "histogram2d"
           }
          ],
          "histogram2dcontour": [
           {
            "colorbar": {
             "outlinewidth": 0,
             "ticks": ""
            },
            "colorscale": [
             [
              0,
              "#0d0887"
             ],
             [
              0.1111111111111111,
              "#46039f"
             ],
             [
              0.2222222222222222,
              "#7201a8"
             ],
             [
              0.3333333333333333,
              "#9c179e"
             ],
             [
              0.4444444444444444,
              "#bd3786"
             ],
             [
              0.5555555555555556,
              "#d8576b"
             ],
             [
              0.6666666666666666,
              "#ed7953"
             ],
             [
              0.7777777777777778,
              "#fb9f3a"
             ],
             [
              0.8888888888888888,
              "#fdca26"
             ],
             [
              1,
              "#f0f921"
             ]
            ],
            "type": "histogram2dcontour"
           }
          ],
          "mesh3d": [
           {
            "colorbar": {
             "outlinewidth": 0,
             "ticks": ""
            },
            "type": "mesh3d"
           }
          ],
          "parcoords": [
           {
            "line": {
             "colorbar": {
              "outlinewidth": 0,
              "ticks": ""
             }
            },
            "type": "parcoords"
           }
          ],
          "pie": [
           {
            "automargin": true,
            "type": "pie"
           }
          ],
          "scatter": [
           {
            "marker": {
             "colorbar": {
              "outlinewidth": 0,
              "ticks": ""
             }
            },
            "type": "scatter"
           }
          ],
          "scatter3d": [
           {
            "line": {
             "colorbar": {
              "outlinewidth": 0,
              "ticks": ""
             }
            },
            "marker": {
             "colorbar": {
              "outlinewidth": 0,
              "ticks": ""
             }
            },
            "type": "scatter3d"
           }
          ],
          "scattercarpet": [
           {
            "marker": {
             "colorbar": {
              "outlinewidth": 0,
              "ticks": ""
             }
            },
            "type": "scattercarpet"
           }
          ],
          "scattergeo": [
           {
            "marker": {
             "colorbar": {
              "outlinewidth": 0,
              "ticks": ""
             }
            },
            "type": "scattergeo"
           }
          ],
          "scattergl": [
           {
            "marker": {
             "colorbar": {
              "outlinewidth": 0,
              "ticks": ""
             }
            },
            "type": "scattergl"
           }
          ],
          "scattermapbox": [
           {
            "marker": {
             "colorbar": {
              "outlinewidth": 0,
              "ticks": ""
             }
            },
            "type": "scattermapbox"
           }
          ],
          "scatterpolar": [
           {
            "marker": {
             "colorbar": {
              "outlinewidth": 0,
              "ticks": ""
             }
            },
            "type": "scatterpolar"
           }
          ],
          "scatterpolargl": [
           {
            "marker": {
             "colorbar": {
              "outlinewidth": 0,
              "ticks": ""
             }
            },
            "type": "scatterpolargl"
           }
          ],
          "scatterternary": [
           {
            "marker": {
             "colorbar": {
              "outlinewidth": 0,
              "ticks": ""
             }
            },
            "type": "scatterternary"
           }
          ],
          "surface": [
           {
            "colorbar": {
             "outlinewidth": 0,
             "ticks": ""
            },
            "colorscale": [
             [
              0,
              "#0d0887"
             ],
             [
              0.1111111111111111,
              "#46039f"
             ],
             [
              0.2222222222222222,
              "#7201a8"
             ],
             [
              0.3333333333333333,
              "#9c179e"
             ],
             [
              0.4444444444444444,
              "#bd3786"
             ],
             [
              0.5555555555555556,
              "#d8576b"
             ],
             [
              0.6666666666666666,
              "#ed7953"
             ],
             [
              0.7777777777777778,
              "#fb9f3a"
             ],
             [
              0.8888888888888888,
              "#fdca26"
             ],
             [
              1,
              "#f0f921"
             ]
            ],
            "type": "surface"
           }
          ],
          "table": [
           {
            "cells": {
             "fill": {
              "color": "#EBF0F8"
             },
             "line": {
              "color": "white"
             }
            },
            "header": {
             "fill": {
              "color": "#C8D4E3"
             },
             "line": {
              "color": "white"
             }
            },
            "type": "table"
           }
          ]
         },
         "layout": {
          "annotationdefaults": {
           "arrowcolor": "#2a3f5f",
           "arrowhead": 0,
           "arrowwidth": 1
          },
          "coloraxis": {
           "colorbar": {
            "outlinewidth": 0,
            "ticks": ""
           }
          },
          "colorscale": {
           "diverging": [
            [
             0,
             "#8e0152"
            ],
            [
             0.1,
             "#c51b7d"
            ],
            [
             0.2,
             "#de77ae"
            ],
            [
             0.3,
             "#f1b6da"
            ],
            [
             0.4,
             "#fde0ef"
            ],
            [
             0.5,
             "#f7f7f7"
            ],
            [
             0.6,
             "#e6f5d0"
            ],
            [
             0.7,
             "#b8e186"
            ],
            [
             0.8,
             "#7fbc41"
            ],
            [
             0.9,
             "#4d9221"
            ],
            [
             1,
             "#276419"
            ]
           ],
           "sequential": [
            [
             0,
             "#0d0887"
            ],
            [
             0.1111111111111111,
             "#46039f"
            ],
            [
             0.2222222222222222,
             "#7201a8"
            ],
            [
             0.3333333333333333,
             "#9c179e"
            ],
            [
             0.4444444444444444,
             "#bd3786"
            ],
            [
             0.5555555555555556,
             "#d8576b"
            ],
            [
             0.6666666666666666,
             "#ed7953"
            ],
            [
             0.7777777777777778,
             "#fb9f3a"
            ],
            [
             0.8888888888888888,
             "#fdca26"
            ],
            [
             1,
             "#f0f921"
            ]
           ],
           "sequentialminus": [
            [
             0,
             "#0d0887"
            ],
            [
             0.1111111111111111,
             "#46039f"
            ],
            [
             0.2222222222222222,
             "#7201a8"
            ],
            [
             0.3333333333333333,
             "#9c179e"
            ],
            [
             0.4444444444444444,
             "#bd3786"
            ],
            [
             0.5555555555555556,
             "#d8576b"
            ],
            [
             0.6666666666666666,
             "#ed7953"
            ],
            [
             0.7777777777777778,
             "#fb9f3a"
            ],
            [
             0.8888888888888888,
             "#fdca26"
            ],
            [
             1,
             "#f0f921"
            ]
           ]
          },
          "colorway": [
           "#636efa",
           "#EF553B",
           "#00cc96",
           "#ab63fa",
           "#FFA15A",
           "#19d3f3",
           "#FF6692",
           "#B6E880",
           "#FF97FF",
           "#FECB52"
          ],
          "font": {
           "color": "#2a3f5f"
          },
          "geo": {
           "bgcolor": "white",
           "lakecolor": "white",
           "landcolor": "#E5ECF6",
           "showlakes": true,
           "showland": true,
           "subunitcolor": "white"
          },
          "hoverlabel": {
           "align": "left"
          },
          "hovermode": "closest",
          "mapbox": {
           "style": "light"
          },
          "paper_bgcolor": "white",
          "plot_bgcolor": "#E5ECF6",
          "polar": {
           "angularaxis": {
            "gridcolor": "white",
            "linecolor": "white",
            "ticks": ""
           },
           "bgcolor": "#E5ECF6",
           "radialaxis": {
            "gridcolor": "white",
            "linecolor": "white",
            "ticks": ""
           }
          },
          "scene": {
           "xaxis": {
            "backgroundcolor": "#E5ECF6",
            "gridcolor": "white",
            "gridwidth": 2,
            "linecolor": "white",
            "showbackground": true,
            "ticks": "",
            "zerolinecolor": "white"
           },
           "yaxis": {
            "backgroundcolor": "#E5ECF6",
            "gridcolor": "white",
            "gridwidth": 2,
            "linecolor": "white",
            "showbackground": true,
            "ticks": "",
            "zerolinecolor": "white"
           },
           "zaxis": {
            "backgroundcolor": "#E5ECF6",
            "gridcolor": "white",
            "gridwidth": 2,
            "linecolor": "white",
            "showbackground": true,
            "ticks": "",
            "zerolinecolor": "white"
           }
          },
          "shapedefaults": {
           "line": {
            "color": "#2a3f5f"
           }
          },
          "ternary": {
           "aaxis": {
            "gridcolor": "white",
            "linecolor": "white",
            "ticks": ""
           },
           "baxis": {
            "gridcolor": "white",
            "linecolor": "white",
            "ticks": ""
           },
           "bgcolor": "#E5ECF6",
           "caxis": {
            "gridcolor": "white",
            "linecolor": "white",
            "ticks": ""
           }
          },
          "title": {
           "x": 0.05
          },
          "xaxis": {
           "automargin": true,
           "gridcolor": "white",
           "linecolor": "white",
           "ticks": "",
           "title": {
            "standoff": 15
           },
           "zerolinecolor": "white",
           "zerolinewidth": 2
          },
          "yaxis": {
           "automargin": true,
           "gridcolor": "white",
           "linecolor": "white",
           "ticks": "",
           "title": {
            "standoff": 15
           },
           "zerolinecolor": "white",
           "zerolinewidth": 2
          }
         }
        },
        "title": {
         "text": "Area coverage within 10 minutes walk from station"
        },
        "xaxis": {
         "anchor": "y",
         "categoryorder": "total ascending",
         "domain": [
          0,
          1
         ],
         "title": {
          "text": "Lines"
         }
        },
        "yaxis": {
         "anchor": "x",
         "domain": [
          0,
          1
         ],
         "title": {
          "text": "avg of 10 Minutes Walk Area(km^2)"
         }
        }
       }
      }
     },
     "metadata": {}
    },
    {
     "output_type": "display_data",
     "data": {
      "application/vnd.plotly.v1+json": {
       "config": {
        "plotlyServerURL": "https://plot.ly"
       },
       "data": [
        {
         "alignmentgroup": "True",
         "bingroup": "x",
         "histfunc": "avg",
         "hovertemplate": "Lines=%{x}<br>avg of 15 Minutes Walk Area(km^2)=%{y}<extra></extra>",
         "legendgroup": "",
         "marker": {
          "color": "#636efa"
         },
         "name": "",
         "offsetgroup": "",
         "orientation": "v",
         "showlegend": false,
         "type": "histogram",
         "x": [
          "Ampang Line",
          "Ampang Line",
          "Ampang Line",
          "Ampang Line",
          "Ampang Line",
          "Ampang Line",
          "Ampang Line",
          "Ampang Line",
          "Ampang Line",
          "Ampang Line",
          "Ampang Line",
          "Ampang Line",
          "Ampang Line",
          "Ampang Line",
          "Ampang Line",
          "Ampang Line",
          "Ampang Line",
          "Ampang Line",
          "Sri Petaling Line",
          "Sri Petaling Line",
          "Sri Petaling Line",
          "Sri Petaling Line",
          "Sri Petaling Line",
          "Sri Petaling Line",
          "Sri Petaling Line",
          "Sri Petaling Line",
          "Sri Petaling Line",
          "Sri Petaling Line",
          "Sri Petaling Line",
          "Sri Petaling Line",
          "Sri Petaling Line",
          "Sri Petaling Line",
          "Sri Petaling Line",
          "Sri Petaling Line",
          "Sri Petaling Line",
          "Sri Petaling Line",
          "Sri Petaling Line",
          "Sri Petaling Line",
          "Sri Petaling Line",
          "Sri Petaling Line",
          "Sri Petaling Line",
          "Sri Petaling Line",
          "Sri Petaling Line",
          "Sri Petaling Line",
          "Sri Petaling Line",
          "Sri Petaling Line",
          "Sri Petaling Line",
          "Kelana Jaya Line",
          "Kelana Jaya Line",
          "Kelana Jaya Line",
          "Kelana Jaya Line",
          "Kelana Jaya Line",
          "Kelana Jaya Line",
          "Kelana Jaya Line",
          "Kelana Jaya Line",
          "Kelana Jaya Line",
          "Kelana Jaya Line",
          "Kelana Jaya Line",
          "Kelana Jaya Line",
          "Kelana Jaya Line",
          "Kelana Jaya Line",
          "Kelana Jaya Line",
          "Kelana Jaya Line",
          "Kelana Jaya Line",
          "Kelana Jaya Line",
          "Kelana Jaya Line",
          "Kelana Jaya Line",
          "Kelana Jaya Line",
          "Kelana Jaya Line",
          "Kelana Jaya Line",
          "Kelana Jaya Line",
          "Kelana Jaya Line",
          "Kelana Jaya Line",
          "Kelana Jaya Line",
          "Kelana Jaya Line",
          "Kelana Jaya Line",
          "Kelana Jaya Line",
          "Kelana Jaya Line",
          "Kelana Jaya Line",
          "Kelana Jaya Line",
          "Kelana Jaya Line",
          "Kelana Jaya Line",
          "Kelana Jaya Line",
          "Kelana Jaya Line",
          "KL Monorail Line",
          "KL Monorail Line",
          "KL Monorail Line",
          "KL Monorail Line",
          "KL Monorail Line",
          "KL Monorail Line",
          "KL Monorail Line",
          "KL Monorail Line",
          "KL Monorail Line",
          "KL Monorail Line",
          "KL Monorail Line",
          "MRT Sungai Buloh - Kajang Line",
          "MRT Sungai Buloh - Kajang Line",
          "MRT Sungai Buloh - Kajang Line",
          "MRT Sungai Buloh - Kajang Line",
          "MRT Sungai Buloh - Kajang Line",
          "MRT Sungai Buloh - Kajang Line",
          "MRT Sungai Buloh - Kajang Line",
          "MRT Sungai Buloh - Kajang Line",
          "MRT Sungai Buloh - Kajang Line",
          "MRT Sungai Buloh - Kajang Line",
          "MRT Sungai Buloh - Kajang Line",
          "MRT Sungai Buloh - Kajang Line",
          "MRT Sungai Buloh - Kajang Line",
          "MRT Sungai Buloh - Kajang Line",
          "MRT Sungai Buloh - Kajang Line",
          "MRT Sungai Buloh - Kajang Line",
          "MRT Sungai Buloh - Kajang Line",
          "MRT Sungai Buloh - Kajang Line",
          "MRT Sungai Buloh - Kajang Line",
          "MRT Sungai Buloh - Kajang Line",
          "MRT Sungai Buloh - Kajang Line",
          "MRT Sungai Buloh - Kajang Line",
          "MRT Sungai Buloh - Kajang Line",
          "MRT Sungai Buloh - Kajang Line",
          "MRT Sungai Buloh - Kajang Line",
          "MRT Sungai Buloh - Kajang Line",
          "MRT Sungai Buloh - Kajang Line",
          "MRT Sungai Buloh - Kajang Line",
          "MRT Sungai Buloh - Kajang Line",
          "MRT Sungai Buloh - Kajang Line",
          "MRT Sungai Buloh - Kajang Line"
         ],
         "xaxis": "x",
         "y": [
          2.3260019300000003,
          2.06784459,
          3.03409228,
          3.3478489500000004,
          2.27737988,
          2.42609726,
          3.55529003,
          2.15203207,
          3.19636508,
          3.3698826800000004,
          1.89715902,
          1.81025062,
          2.64383973,
          1.24546492,
          2.74410522,
          2.66057506,
          2.68636732,
          2.21643169,
          1.79636909,
          2.18843466,
          2.98010054,
          1.6374171599999998,
          0.98722519,
          2.21720784,
          1.23887132,
          2.06855075,
          1.16462712,
          2.00087113,
          1.52501166,
          1.79644307,
          2.45575257,
          2.3260019300000003,
          2.06784459,
          3.03409228,
          3.3478489500000004,
          2.27737988,
          2.42609726,
          3.55529003,
          2.15203207,
          3.19636508,
          1.29755614,
          0.25411249,
          1.26139229,
          3.3698826800000004,
          1.21211723,
          1.39905382,
          1.89715902,
          0.74580275,
          1.18892094,
          2.09640578,
          1.72637379,
          2.73355393,
          1.73639403,
          1.34087778,
          1.25403992,
          2.9872992000000003,
          2.81145117,
          1.18112971,
          1.2894693000000002,
          2.8605457000000003,
          2.76278958,
          3.41797496,
          2.66861507,
          2.80025152,
          2.38782148,
          2.07408561,
          2.51127217,
          1.60348074,
          3.01341988,
          2.73994134,
          3.00989514,
          3.39048139,
          2.54368452,
          2.67726333,
          2.96054976,
          2.5220779500000003,
          3.0872502,
          1.04935299,
          1.62723771,
          1.186555,
          2.85647758,
          2.8539164,
          2.31582804,
          1.87815032,
          2.73994134,
          2.3940083,
          2.99052753,
          3.4782148,
          2.9054479900000003,
          2.32324576,
          3.13054985,
          2.89758152,
          3.17771479,
          3.54678045,
          3.60001605,
          1.4906206000000002,
          0.82758591,
          1.82938798,
          2.3169378700000003,
          0.95605398,
          2.65375175,
          2.65303658,
          1.13780803,
          2.15393431,
          1.77871072,
          1.97489201,
          0.39435068,
          2.63121517,
          2.94639003,
          2.5506919,
          3.53785805,
          2.62723105,
          2.8983506,
          3.04547806,
          3.00657,
          2.54802141,
          2.5048589100000003,
          1.2397028,
          1.56865318,
          1.07107906,
          2.0038023700000003,
          1.19038395,
          1.13365564,
          2.59764313,
          3.36253283,
          1.09095396
         ],
         "yaxis": "y"
        }
       ],
       "layout": {
        "barmode": "group",
        "legend": {
         "tracegroupgap": 0
        },
        "showlegend": false,
        "template": {
         "data": {
          "bar": [
           {
            "error_x": {
             "color": "#2a3f5f"
            },
            "error_y": {
             "color": "#2a3f5f"
            },
            "marker": {
             "line": {
              "color": "#E5ECF6",
              "width": 0.5
             }
            },
            "type": "bar"
           }
          ],
          "barpolar": [
           {
            "marker": {
             "line": {
              "color": "#E5ECF6",
              "width": 0.5
             }
            },
            "type": "barpolar"
           }
          ],
          "carpet": [
           {
            "aaxis": {
             "endlinecolor": "#2a3f5f",
             "gridcolor": "white",
             "linecolor": "white",
             "minorgridcolor": "white",
             "startlinecolor": "#2a3f5f"
            },
            "baxis": {
             "endlinecolor": "#2a3f5f",
             "gridcolor": "white",
             "linecolor": "white",
             "minorgridcolor": "white",
             "startlinecolor": "#2a3f5f"
            },
            "type": "carpet"
           }
          ],
          "choropleth": [
           {
            "colorbar": {
             "outlinewidth": 0,
             "ticks": ""
            },
            "type": "choropleth"
           }
          ],
          "contour": [
           {
            "colorbar": {
             "outlinewidth": 0,
             "ticks": ""
            },
            "colorscale": [
             [
              0,
              "#0d0887"
             ],
             [
              0.1111111111111111,
              "#46039f"
             ],
             [
              0.2222222222222222,
              "#7201a8"
             ],
             [
              0.3333333333333333,
              "#9c179e"
             ],
             [
              0.4444444444444444,
              "#bd3786"
             ],
             [
              0.5555555555555556,
              "#d8576b"
             ],
             [
              0.6666666666666666,
              "#ed7953"
             ],
             [
              0.7777777777777778,
              "#fb9f3a"
             ],
             [
              0.8888888888888888,
              "#fdca26"
             ],
             [
              1,
              "#f0f921"
             ]
            ],
            "type": "contour"
           }
          ],
          "contourcarpet": [
           {
            "colorbar": {
             "outlinewidth": 0,
             "ticks": ""
            },
            "type": "contourcarpet"
           }
          ],
          "heatmap": [
           {
            "colorbar": {
             "outlinewidth": 0,
             "ticks": ""
            },
            "colorscale": [
             [
              0,
              "#0d0887"
             ],
             [
              0.1111111111111111,
              "#46039f"
             ],
             [
              0.2222222222222222,
              "#7201a8"
             ],
             [
              0.3333333333333333,
              "#9c179e"
             ],
             [
              0.4444444444444444,
              "#bd3786"
             ],
             [
              0.5555555555555556,
              "#d8576b"
             ],
             [
              0.6666666666666666,
              "#ed7953"
             ],
             [
              0.7777777777777778,
              "#fb9f3a"
             ],
             [
              0.8888888888888888,
              "#fdca26"
             ],
             [
              1,
              "#f0f921"
             ]
            ],
            "type": "heatmap"
           }
          ],
          "heatmapgl": [
           {
            "colorbar": {
             "outlinewidth": 0,
             "ticks": ""
            },
            "colorscale": [
             [
              0,
              "#0d0887"
             ],
             [
              0.1111111111111111,
              "#46039f"
             ],
             [
              0.2222222222222222,
              "#7201a8"
             ],
             [
              0.3333333333333333,
              "#9c179e"
             ],
             [
              0.4444444444444444,
              "#bd3786"
             ],
             [
              0.5555555555555556,
              "#d8576b"
             ],
             [
              0.6666666666666666,
              "#ed7953"
             ],
             [
              0.7777777777777778,
              "#fb9f3a"
             ],
             [
              0.8888888888888888,
              "#fdca26"
             ],
             [
              1,
              "#f0f921"
             ]
            ],
            "type": "heatmapgl"
           }
          ],
          "histogram": [
           {
            "marker": {
             "colorbar": {
              "outlinewidth": 0,
              "ticks": ""
             }
            },
            "type": "histogram"
           }
          ],
          "histogram2d": [
           {
            "colorbar": {
             "outlinewidth": 0,
             "ticks": ""
            },
            "colorscale": [
             [
              0,
              "#0d0887"
             ],
             [
              0.1111111111111111,
              "#46039f"
             ],
             [
              0.2222222222222222,
              "#7201a8"
             ],
             [
              0.3333333333333333,
              "#9c179e"
             ],
             [
              0.4444444444444444,
              "#bd3786"
             ],
             [
              0.5555555555555556,
              "#d8576b"
             ],
             [
              0.6666666666666666,
              "#ed7953"
             ],
             [
              0.7777777777777778,
              "#fb9f3a"
             ],
             [
              0.8888888888888888,
              "#fdca26"
             ],
             [
              1,
              "#f0f921"
             ]
            ],
            "type": "histogram2d"
           }
          ],
          "histogram2dcontour": [
           {
            "colorbar": {
             "outlinewidth": 0,
             "ticks": ""
            },
            "colorscale": [
             [
              0,
              "#0d0887"
             ],
             [
              0.1111111111111111,
              "#46039f"
             ],
             [
              0.2222222222222222,
              "#7201a8"
             ],
             [
              0.3333333333333333,
              "#9c179e"
             ],
             [
              0.4444444444444444,
              "#bd3786"
             ],
             [
              0.5555555555555556,
              "#d8576b"
             ],
             [
              0.6666666666666666,
              "#ed7953"
             ],
             [
              0.7777777777777778,
              "#fb9f3a"
             ],
             [
              0.8888888888888888,
              "#fdca26"
             ],
             [
              1,
              "#f0f921"
             ]
            ],
            "type": "histogram2dcontour"
           }
          ],
          "mesh3d": [
           {
            "colorbar": {
             "outlinewidth": 0,
             "ticks": ""
            },
            "type": "mesh3d"
           }
          ],
          "parcoords": [
           {
            "line": {
             "colorbar": {
              "outlinewidth": 0,
              "ticks": ""
             }
            },
            "type": "parcoords"
           }
          ],
          "pie": [
           {
            "automargin": true,
            "type": "pie"
           }
          ],
          "scatter": [
           {
            "marker": {
             "colorbar": {
              "outlinewidth": 0,
              "ticks": ""
             }
            },
            "type": "scatter"
           }
          ],
          "scatter3d": [
           {
            "line": {
             "colorbar": {
              "outlinewidth": 0,
              "ticks": ""
             }
            },
            "marker": {
             "colorbar": {
              "outlinewidth": 0,
              "ticks": ""
             }
            },
            "type": "scatter3d"
           }
          ],
          "scattercarpet": [
           {
            "marker": {
             "colorbar": {
              "outlinewidth": 0,
              "ticks": ""
             }
            },
            "type": "scattercarpet"
           }
          ],
          "scattergeo": [
           {
            "marker": {
             "colorbar": {
              "outlinewidth": 0,
              "ticks": ""
             }
            },
            "type": "scattergeo"
           }
          ],
          "scattergl": [
           {
            "marker": {
             "colorbar": {
              "outlinewidth": 0,
              "ticks": ""
             }
            },
            "type": "scattergl"
           }
          ],
          "scattermapbox": [
           {
            "marker": {
             "colorbar": {
              "outlinewidth": 0,
              "ticks": ""
             }
            },
            "type": "scattermapbox"
           }
          ],
          "scatterpolar": [
           {
            "marker": {
             "colorbar": {
              "outlinewidth": 0,
              "ticks": ""
             }
            },
            "type": "scatterpolar"
           }
          ],
          "scatterpolargl": [
           {
            "marker": {
             "colorbar": {
              "outlinewidth": 0,
              "ticks": ""
             }
            },
            "type": "scatterpolargl"
           }
          ],
          "scatterternary": [
           {
            "marker": {
             "colorbar": {
              "outlinewidth": 0,
              "ticks": ""
             }
            },
            "type": "scatterternary"
           }
          ],
          "surface": [
           {
            "colorbar": {
             "outlinewidth": 0,
             "ticks": ""
            },
            "colorscale": [
             [
              0,
              "#0d0887"
             ],
             [
              0.1111111111111111,
              "#46039f"
             ],
             [
              0.2222222222222222,
              "#7201a8"
             ],
             [
              0.3333333333333333,
              "#9c179e"
             ],
             [
              0.4444444444444444,
              "#bd3786"
             ],
             [
              0.5555555555555556,
              "#d8576b"
             ],
             [
              0.6666666666666666,
              "#ed7953"
             ],
             [
              0.7777777777777778,
              "#fb9f3a"
             ],
             [
              0.8888888888888888,
              "#fdca26"
             ],
             [
              1,
              "#f0f921"
             ]
            ],
            "type": "surface"
           }
          ],
          "table": [
           {
            "cells": {
             "fill": {
              "color": "#EBF0F8"
             },
             "line": {
              "color": "white"
             }
            },
            "header": {
             "fill": {
              "color": "#C8D4E3"
             },
             "line": {
              "color": "white"
             }
            },
            "type": "table"
           }
          ]
         },
         "layout": {
          "annotationdefaults": {
           "arrowcolor": "#2a3f5f",
           "arrowhead": 0,
           "arrowwidth": 1
          },
          "coloraxis": {
           "colorbar": {
            "outlinewidth": 0,
            "ticks": ""
           }
          },
          "colorscale": {
           "diverging": [
            [
             0,
             "#8e0152"
            ],
            [
             0.1,
             "#c51b7d"
            ],
            [
             0.2,
             "#de77ae"
            ],
            [
             0.3,
             "#f1b6da"
            ],
            [
             0.4,
             "#fde0ef"
            ],
            [
             0.5,
             "#f7f7f7"
            ],
            [
             0.6,
             "#e6f5d0"
            ],
            [
             0.7,
             "#b8e186"
            ],
            [
             0.8,
             "#7fbc41"
            ],
            [
             0.9,
             "#4d9221"
            ],
            [
             1,
             "#276419"
            ]
           ],
           "sequential": [
            [
             0,
             "#0d0887"
            ],
            [
             0.1111111111111111,
             "#46039f"
            ],
            [
             0.2222222222222222,
             "#7201a8"
            ],
            [
             0.3333333333333333,
             "#9c179e"
            ],
            [
             0.4444444444444444,
             "#bd3786"
            ],
            [
             0.5555555555555556,
             "#d8576b"
            ],
            [
             0.6666666666666666,
             "#ed7953"
            ],
            [
             0.7777777777777778,
             "#fb9f3a"
            ],
            [
             0.8888888888888888,
             "#fdca26"
            ],
            [
             1,
             "#f0f921"
            ]
           ],
           "sequentialminus": [
            [
             0,
             "#0d0887"
            ],
            [
             0.1111111111111111,
             "#46039f"
            ],
            [
             0.2222222222222222,
             "#7201a8"
            ],
            [
             0.3333333333333333,
             "#9c179e"
            ],
            [
             0.4444444444444444,
             "#bd3786"
            ],
            [
             0.5555555555555556,
             "#d8576b"
            ],
            [
             0.6666666666666666,
             "#ed7953"
            ],
            [
             0.7777777777777778,
             "#fb9f3a"
            ],
            [
             0.8888888888888888,
             "#fdca26"
            ],
            [
             1,
             "#f0f921"
            ]
           ]
          },
          "colorway": [
           "#636efa",
           "#EF553B",
           "#00cc96",
           "#ab63fa",
           "#FFA15A",
           "#19d3f3",
           "#FF6692",
           "#B6E880",
           "#FF97FF",
           "#FECB52"
          ],
          "font": {
           "color": "#2a3f5f"
          },
          "geo": {
           "bgcolor": "white",
           "lakecolor": "white",
           "landcolor": "#E5ECF6",
           "showlakes": true,
           "showland": true,
           "subunitcolor": "white"
          },
          "hoverlabel": {
           "align": "left"
          },
          "hovermode": "closest",
          "mapbox": {
           "style": "light"
          },
          "paper_bgcolor": "white",
          "plot_bgcolor": "#E5ECF6",
          "polar": {
           "angularaxis": {
            "gridcolor": "white",
            "linecolor": "white",
            "ticks": ""
           },
           "bgcolor": "#E5ECF6",
           "radialaxis": {
            "gridcolor": "white",
            "linecolor": "white",
            "ticks": ""
           }
          },
          "scene": {
           "xaxis": {
            "backgroundcolor": "#E5ECF6",
            "gridcolor": "white",
            "gridwidth": 2,
            "linecolor": "white",
            "showbackground": true,
            "ticks": "",
            "zerolinecolor": "white"
           },
           "yaxis": {
            "backgroundcolor": "#E5ECF6",
            "gridcolor": "white",
            "gridwidth": 2,
            "linecolor": "white",
            "showbackground": true,
            "ticks": "",
            "zerolinecolor": "white"
           },
           "zaxis": {
            "backgroundcolor": "#E5ECF6",
            "gridcolor": "white",
            "gridwidth": 2,
            "linecolor": "white",
            "showbackground": true,
            "ticks": "",
            "zerolinecolor": "white"
           }
          },
          "shapedefaults": {
           "line": {
            "color": "#2a3f5f"
           }
          },
          "ternary": {
           "aaxis": {
            "gridcolor": "white",
            "linecolor": "white",
            "ticks": ""
           },
           "baxis": {
            "gridcolor": "white",
            "linecolor": "white",
            "ticks": ""
           },
           "bgcolor": "#E5ECF6",
           "caxis": {
            "gridcolor": "white",
            "linecolor": "white",
            "ticks": ""
           }
          },
          "title": {
           "x": 0.05
          },
          "xaxis": {
           "automargin": true,
           "gridcolor": "white",
           "linecolor": "white",
           "ticks": "",
           "title": {
            "standoff": 15
           },
           "zerolinecolor": "white",
           "zerolinewidth": 2
          },
          "yaxis": {
           "automargin": true,
           "gridcolor": "white",
           "linecolor": "white",
           "ticks": "",
           "title": {
            "standoff": 15
           },
           "zerolinecolor": "white",
           "zerolinewidth": 2
          }
         }
        },
        "title": {
         "text": "Area coverage within 15 minutes walk from station"
        },
        "xaxis": {
         "anchor": "y",
         "categoryorder": "total ascending",
         "domain": [
          0,
          1
         ],
         "title": {
          "text": "Lines"
         }
        },
        "yaxis": {
         "anchor": "x",
         "domain": [
          0,
          1
         ],
         "title": {
          "text": "avg of 15 Minutes Walk Area(km^2)"
         }
        }
       }
      }
     },
     "metadata": {}
    },
    {
     "output_type": "display_data",
     "data": {
      "application/vnd.plotly.v1+json": {
       "config": {
        "plotlyServerURL": "https://plot.ly"
       },
       "data": [
        {
         "alignmentgroup": "True",
         "bingroup": "x",
         "histfunc": "avg",
         "hovertemplate": "variable=5 Minute Range Area<br>Lines=%{x}<br>avg of Walk Area Coverage(km^2)=%{y}<extra></extra>",
         "legendgroup": "5 Minute Range Area",
         "marker": {
          "color": "#636efa"
         },
         "name": "5 Minute Range Area",
         "offsetgroup": "5 Minute Range Area",
         "orientation": "v",
         "showlegend": true,
         "type": "histogram",
         "x": [
          "Seremban Line",
          "Seremban Line",
          "Seremban Line",
          "Seremban Line",
          "Seremban Line",
          "Seremban Line",
          "Seremban Line",
          "Seremban Line",
          "Seremban Line",
          "Seremban Line",
          "Seremban Line",
          "Seremban Line",
          "Seremban Line",
          "Seremban Line",
          "Seremban Line",
          "Seremban Line",
          "Seremban Line",
          "Seremban Line",
          "Seremban Line",
          "Seremban Line",
          "Seremban Line",
          "Seremban Line",
          "Seremban Line",
          "Seremban Line",
          "Seremban Line",
          "Seremban Line",
          "Port Klang Line",
          "Port Klang Line",
          "Port Klang Line",
          "Port Klang Line",
          "Port Klang Line",
          "Port Klang Line",
          "Port Klang Line",
          "Port Klang Line",
          "Port Klang Line",
          "Port Klang Line",
          "Port Klang Line",
          "Port Klang Line",
          "Port Klang Line",
          "Port Klang Line",
          "Port Klang Line",
          "Port Klang Line",
          "Port Klang Line",
          "Port Klang Line",
          "Port Klang Line",
          "Port Klang Line",
          "Port Klang Line",
          "Port Klang Line",
          "Port Klang Line",
          "Port Klang Line",
          "Port Klang Line",
          "Port Klang Line",
          "Port Klang Line",
          "Port Klang Line",
          "Port Klang Line",
          "Port Klang Line",
          "Port Klang Line",
          "Port Klang Line",
          "Port Klang Line",
          "Port Klang Line",
          "Ampang Line",
          "Ampang Line",
          "Ampang Line",
          "Ampang Line",
          "Ampang Line",
          "Ampang Line",
          "Ampang Line",
          "Ampang Line",
          "Ampang Line",
          "Ampang Line",
          "Ampang Line",
          "Ampang Line",
          "Ampang Line",
          "Ampang Line",
          "Ampang Line",
          "Ampang Line",
          "Ampang Line",
          "Ampang Line",
          "Sri Petaling Line",
          "Sri Petaling Line",
          "Sri Petaling Line",
          "Sri Petaling Line",
          "Sri Petaling Line",
          "Sri Petaling Line",
          "Sri Petaling Line",
          "Sri Petaling Line",
          "Sri Petaling Line",
          "Sri Petaling Line",
          "Sri Petaling Line",
          "Sri Petaling Line",
          "Sri Petaling Line",
          "Sri Petaling Line",
          "Sri Petaling Line",
          "Sri Petaling Line",
          "Sri Petaling Line",
          "Sri Petaling Line",
          "Sri Petaling Line",
          "Sri Petaling Line",
          "Sri Petaling Line",
          "Sri Petaling Line",
          "Sri Petaling Line",
          "Sri Petaling Line",
          "Sri Petaling Line",
          "Sri Petaling Line",
          "Sri Petaling Line",
          "Sri Petaling Line",
          "Sri Petaling Line",
          "Kelana Jaya Line",
          "Kelana Jaya Line",
          "Kelana Jaya Line",
          "Kelana Jaya Line",
          "Kelana Jaya Line",
          "Kelana Jaya Line",
          "Kelana Jaya Line",
          "Kelana Jaya Line",
          "Kelana Jaya Line",
          "Kelana Jaya Line",
          "Kelana Jaya Line",
          "Kelana Jaya Line",
          "Kelana Jaya Line",
          "Kelana Jaya Line",
          "Kelana Jaya Line",
          "Kelana Jaya Line",
          "Kelana Jaya Line",
          "Kelana Jaya Line",
          "Kelana Jaya Line",
          "Kelana Jaya Line",
          "Kelana Jaya Line",
          "Kelana Jaya Line",
          "Kelana Jaya Line",
          "Kelana Jaya Line",
          "Kelana Jaya Line",
          "Kelana Jaya Line",
          "Kelana Jaya Line",
          "Kelana Jaya Line",
          "Kelana Jaya Line",
          "Kelana Jaya Line",
          "Kelana Jaya Line",
          "Kelana Jaya Line",
          "Kelana Jaya Line",
          "Kelana Jaya Line",
          "Kelana Jaya Line",
          "Kelana Jaya Line",
          "Kelana Jaya Line",
          "KLIA Ekspres",
          "KLIA Ekspres",
          "KLIA Ekspres",
          "KLIA Transit",
          "KLIA Transit",
          "KLIA Transit",
          "KLIA Transit",
          "KLIA Transit",
          "KLIA Transit",
          "KL Monorail Line",
          "KL Monorail Line",
          "KL Monorail Line",
          "KL Monorail Line",
          "KL Monorail Line",
          "KL Monorail Line",
          "KL Monorail Line",
          "KL Monorail Line",
          "KL Monorail Line",
          "KL Monorail Line",
          "KL Monorail Line",
          "MRT Sungai Buloh - Kajang Line",
          "MRT Sungai Buloh - Kajang Line",
          "MRT Sungai Buloh - Kajang Line",
          "MRT Sungai Buloh - Kajang Line",
          "MRT Sungai Buloh - Kajang Line",
          "MRT Sungai Buloh - Kajang Line",
          "MRT Sungai Buloh - Kajang Line",
          "MRT Sungai Buloh - Kajang Line",
          "MRT Sungai Buloh - Kajang Line",
          "MRT Sungai Buloh - Kajang Line",
          "MRT Sungai Buloh - Kajang Line",
          "MRT Sungai Buloh - Kajang Line",
          "MRT Sungai Buloh - Kajang Line",
          "MRT Sungai Buloh - Kajang Line",
          "MRT Sungai Buloh - Kajang Line",
          "MRT Sungai Buloh - Kajang Line",
          "MRT Sungai Buloh - Kajang Line",
          "MRT Sungai Buloh - Kajang Line",
          "MRT Sungai Buloh - Kajang Line",
          "MRT Sungai Buloh - Kajang Line",
          "MRT Sungai Buloh - Kajang Line",
          "MRT Sungai Buloh - Kajang Line",
          "MRT Sungai Buloh - Kajang Line",
          "MRT Sungai Buloh - Kajang Line",
          "MRT Sungai Buloh - Kajang Line",
          "MRT Sungai Buloh - Kajang Line",
          "MRT Sungai Buloh - Kajang Line",
          "MRT Sungai Buloh - Kajang Line",
          "MRT Sungai Buloh - Kajang Line",
          "MRT Sungai Buloh - Kajang Line",
          "MRT Sungai Buloh - Kajang Line",
          "Skypark Link",
          "Skypark Link",
          "Skypark Link",
          "BRT Sunway Line",
          "BRT Sunway Line",
          "BRT Sunway Line",
          "BRT Sunway Line",
          "BRT Sunway Line",
          "BRT Sunway Line",
          "BRT Sunway Line"
         ],
         "xaxis": "x",
         "y": [
          0.32765351000000004,
          0.15378145999999998,
          0.30944167,
          0.12894231,
          0.26333767,
          0.23569890000000002,
          0.15626559,
          0.10554084,
          0.28927298,
          0.28124615000000003,
          0.20864258,
          0.09247795,
          0.07058007000000001,
          0.04488191,
          0.18541348,
          0.12999937,
          0.19109563,
          0.18098696,
          0.15003422,
          0.09666951,
          0.19763621,
          0.13049238,
          0.09894579,
          0.09894579,
          0.016573240000000003,
          0.28214027,
          0.29370462,
          0.09039204,
          0.13010351,
          0.20638871,
          0.26761459000000004,
          0.02883313,
          0.13675313,
          0.08867388000000001,
          0.19103299999999998,
          0.1762646,
          0.18476805,
          0.07903412,
          0.09696549,
          0.07355569,
          0.09758441,
          0.22034955,
          0.05508505,
          0.20487294,
          0.07508122,
          0.18420633,
          0.26409569,
          0.14126332,
          0.25480319,
          0.05312806,
          0.0937705,
          0.13944608,
          0.18687775,
          0.22552366,
          0.07561281,
          0.04912999,
          0.10554084,
          0.28927298,
          0.25899232,
          0.28214027,
          0.26906171,
          0.15450475,
          0.33872519,
          0.4055085,
          0.15714489,
          0.24470721,
          0.36333794,
          0.07630496,
          0.33342265000000004,
          0.33547277000000003,
          0.06614274,
          0.11082318,
          0.13059189,
          0.11739755,
          0.31730063000000003,
          0.21667868,
          0.20537105,
          0.12197596,
          0.12265542,
          0.33586209999999994,
          0.36522905,
          0.31761483,
          0.21022807,
          0.22576668,
          0.09057403,
          0.10225474,
          0.04970757,
          0.31457741,
          0.13177419,
          0.1906056,
          0.27380348,
          0.26906171,
          0.15450475,
          0.33872519,
          0.4055085,
          0.15714489,
          0.24470721,
          0.36333794,
          0.07630496,
          0.33342265000000004,
          0.20228178,
          0.03054939,
          0.09247795,
          0.33547277000000003,
          0.16389781,
          0.22348186,
          0.06614274,
          0.02530701,
          0.16040958,
          0.1698428,
          0.11361832,
          0.22206273,
          0.07811616,
          0.19771855,
          0.09758441,
          0.27431869,
          0.25019654,
          0.15652442000000005,
          0.01941681,
          0.29413713,
          0.30555996,
          0.32056655,
          0.18513043,
          0.27262057,
          0.23457008,
          0.22490972,
          0.23995215,
          0.07561281,
          0.32445034,
          0.28214027,
          0.30422587,
          0.31950989,
          0.21064803,
          0.18697426,
          0.32710491,
          0.25415424,
          0.34063571000000004,
          0.06022527,
          0.16263701,
          0.01305441,
          0.31715362,
          0.21985721,
          0.22370993,
          0.08860449000000001,
          0.17006614,
          0.05010074,
          0.28214027,
          0.27877693,
          0.17006614,
          0.05010074,
          0.09247795,
          0.14038814000000002,
          0.28214027,
          0.28214027,
          0.29059041,
          0.24917128,
          0.4139009,
          0.31355846000000004,
          0.18190541,
          0.2962856,
          0.14768968,
          0.27496969,
          0.37616625,
          0.41847803,
          0.08765650999999999,
          0.16284754,
          0.08980397,
          0.24337264,
          0.07355569,
          0.19710253,
          0.27255515,
          0.04514654,
          0.19377531,
          0.184111,
          0.24931903,
          0.06253457,
          0.22174793,
          0.29679511,
          0.20178587,
          0.41213447,
          0.23793609999999998,
          0.29826654,
          0.22825747,
          0.31758584,
          0.25106741,
          0.19347108,
          0.11326242,
          0.17065887,
          0.10409232,
          0.22135276,
          0.1445443,
          0.0635617,
          0.22253983,
          0.31536557,
          0.19288203,
          0.05971812,
          0.09758441,
          0.28214027,
          0.29413713,
          0.21333085,
          0.34904991,
          0.26206269,
          0.31848344,
          0.25480689,
          0.21040562
         ],
         "yaxis": "y"
        },
        {
         "alignmentgroup": "True",
         "bingroup": "x",
         "histfunc": "avg",
         "hovertemplate": "variable=10 Minute Range Area<br>Lines=%{x}<br>avg of Walk Area Coverage(km^2)=%{y}<extra></extra>",
         "legendgroup": "10 Minute Range Area",
         "marker": {
          "color": "#EF553B"
         },
         "name": "10 Minute Range Area",
         "offsetgroup": "10 Minute Range Area",
         "orientation": "v",
         "showlegend": true,
         "type": "histogram",
         "x": [
          "Seremban Line",
          "Seremban Line",
          "Seremban Line",
          "Seremban Line",
          "Seremban Line",
          "Seremban Line",
          "Seremban Line",
          "Seremban Line",
          "Seremban Line",
          "Seremban Line",
          "Seremban Line",
          "Seremban Line",
          "Seremban Line",
          "Seremban Line",
          "Seremban Line",
          "Seremban Line",
          "Seremban Line",
          "Seremban Line",
          "Seremban Line",
          "Seremban Line",
          "Seremban Line",
          "Seremban Line",
          "Seremban Line",
          "Seremban Line",
          "Seremban Line",
          "Seremban Line",
          "Port Klang Line",
          "Port Klang Line",
          "Port Klang Line",
          "Port Klang Line",
          "Port Klang Line",
          "Port Klang Line",
          "Port Klang Line",
          "Port Klang Line",
          "Port Klang Line",
          "Port Klang Line",
          "Port Klang Line",
          "Port Klang Line",
          "Port Klang Line",
          "Port Klang Line",
          "Port Klang Line",
          "Port Klang Line",
          "Port Klang Line",
          "Port Klang Line",
          "Port Klang Line",
          "Port Klang Line",
          "Port Klang Line",
          "Port Klang Line",
          "Port Klang Line",
          "Port Klang Line",
          "Port Klang Line",
          "Port Klang Line",
          "Port Klang Line",
          "Port Klang Line",
          "Port Klang Line",
          "Port Klang Line",
          "Port Klang Line",
          "Port Klang Line",
          "Port Klang Line",
          "Port Klang Line",
          "Ampang Line",
          "Ampang Line",
          "Ampang Line",
          "Ampang Line",
          "Ampang Line",
          "Ampang Line",
          "Ampang Line",
          "Ampang Line",
          "Ampang Line",
          "Ampang Line",
          "Ampang Line",
          "Ampang Line",
          "Ampang Line",
          "Ampang Line",
          "Ampang Line",
          "Ampang Line",
          "Ampang Line",
          "Ampang Line",
          "Sri Petaling Line",
          "Sri Petaling Line",
          "Sri Petaling Line",
          "Sri Petaling Line",
          "Sri Petaling Line",
          "Sri Petaling Line",
          "Sri Petaling Line",
          "Sri Petaling Line",
          "Sri Petaling Line",
          "Sri Petaling Line",
          "Sri Petaling Line",
          "Sri Petaling Line",
          "Sri Petaling Line",
          "Sri Petaling Line",
          "Sri Petaling Line",
          "Sri Petaling Line",
          "Sri Petaling Line",
          "Sri Petaling Line",
          "Sri Petaling Line",
          "Sri Petaling Line",
          "Sri Petaling Line",
          "Sri Petaling Line",
          "Sri Petaling Line",
          "Sri Petaling Line",
          "Sri Petaling Line",
          "Sri Petaling Line",
          "Sri Petaling Line",
          "Sri Petaling Line",
          "Sri Petaling Line",
          "Kelana Jaya Line",
          "Kelana Jaya Line",
          "Kelana Jaya Line",
          "Kelana Jaya Line",
          "Kelana Jaya Line",
          "Kelana Jaya Line",
          "Kelana Jaya Line",
          "Kelana Jaya Line",
          "Kelana Jaya Line",
          "Kelana Jaya Line",
          "Kelana Jaya Line",
          "Kelana Jaya Line",
          "Kelana Jaya Line",
          "Kelana Jaya Line",
          "Kelana Jaya Line",
          "Kelana Jaya Line",
          "Kelana Jaya Line",
          "Kelana Jaya Line",
          "Kelana Jaya Line",
          "Kelana Jaya Line",
          "Kelana Jaya Line",
          "Kelana Jaya Line",
          "Kelana Jaya Line",
          "Kelana Jaya Line",
          "Kelana Jaya Line",
          "Kelana Jaya Line",
          "Kelana Jaya Line",
          "Kelana Jaya Line",
          "Kelana Jaya Line",
          "Kelana Jaya Line",
          "Kelana Jaya Line",
          "Kelana Jaya Line",
          "Kelana Jaya Line",
          "Kelana Jaya Line",
          "Kelana Jaya Line",
          "Kelana Jaya Line",
          "Kelana Jaya Line",
          "KLIA Ekspres",
          "KLIA Ekspres",
          "KLIA Ekspres",
          "KLIA Transit",
          "KLIA Transit",
          "KLIA Transit",
          "KLIA Transit",
          "KLIA Transit",
          "KLIA Transit",
          "KL Monorail Line",
          "KL Monorail Line",
          "KL Monorail Line",
          "KL Monorail Line",
          "KL Monorail Line",
          "KL Monorail Line",
          "KL Monorail Line",
          "KL Monorail Line",
          "KL Monorail Line",
          "KL Monorail Line",
          "KL Monorail Line",
          "MRT Sungai Buloh - Kajang Line",
          "MRT Sungai Buloh - Kajang Line",
          "MRT Sungai Buloh - Kajang Line",
          "MRT Sungai Buloh - Kajang Line",
          "MRT Sungai Buloh - Kajang Line",
          "MRT Sungai Buloh - Kajang Line",
          "MRT Sungai Buloh - Kajang Line",
          "MRT Sungai Buloh - Kajang Line",
          "MRT Sungai Buloh - Kajang Line",
          "MRT Sungai Buloh - Kajang Line",
          "MRT Sungai Buloh - Kajang Line",
          "MRT Sungai Buloh - Kajang Line",
          "MRT Sungai Buloh - Kajang Line",
          "MRT Sungai Buloh - Kajang Line",
          "MRT Sungai Buloh - Kajang Line",
          "MRT Sungai Buloh - Kajang Line",
          "MRT Sungai Buloh - Kajang Line",
          "MRT Sungai Buloh - Kajang Line",
          "MRT Sungai Buloh - Kajang Line",
          "MRT Sungai Buloh - Kajang Line",
          "MRT Sungai Buloh - Kajang Line",
          "MRT Sungai Buloh - Kajang Line",
          "MRT Sungai Buloh - Kajang Line",
          "MRT Sungai Buloh - Kajang Line",
          "MRT Sungai Buloh - Kajang Line",
          "MRT Sungai Buloh - Kajang Line",
          "MRT Sungai Buloh - Kajang Line",
          "MRT Sungai Buloh - Kajang Line",
          "MRT Sungai Buloh - Kajang Line",
          "MRT Sungai Buloh - Kajang Line",
          "MRT Sungai Buloh - Kajang Line",
          "Skypark Link",
          "Skypark Link",
          "Skypark Link",
          "BRT Sunway Line",
          "BRT Sunway Line",
          "BRT Sunway Line",
          "BRT Sunway Line",
          "BRT Sunway Line",
          "BRT Sunway Line",
          "BRT Sunway Line"
         ],
         "xaxis": "x",
         "y": [
          1.19458476,
          0.92322406,
          1.20319849,
          0.66629096,
          1.01786752,
          0.88169165,
          0.78141393,
          0.40998643,
          1.17557929,
          1.26916641,
          0.5570005600000001,
          0.39869570000000004,
          0.18775819,
          0.26273133000000004,
          0.85493727,
          0.53798206,
          0.71022836,
          0.60270187,
          0.59263345,
          0.3572807,
          1.04599893,
          0.59543981,
          0.51729286,
          0.51729286,
          0.18012369,
          1.0931096000000002,
          0.82052602,
          0.52567653,
          0.7111703199999999,
          0.89960417,
          1.19408713,
          0.3229881,
          0.56213832,
          0.35803617,
          0.61930961,
          0.6679169100000001,
          0.6698892399999999,
          0.58352512,
          0.6862111700000001,
          0.27228962,
          0.36784969,
          0.72364396,
          0.34555912,
          0.93884229,
          0.3917979,
          0.8082080300000001,
          0.95656712,
          0.5545176700000001,
          0.5727876000000001,
          0.41039783,
          0.60009625,
          0.56176939,
          0.96501145,
          0.8061689000000001,
          0.54064726,
          0.28148031,
          0.40998643,
          1.17557929,
          1.13738681,
          1.0931096000000002,
          0.92417691,
          0.7984011999999999,
          1.36472762,
          1.34298447,
          0.98090547,
          1.02357174,
          1.55746101,
          0.72298485,
          1.41198538,
          1.4821436,
          0.62672413,
          0.7806436999999999,
          0.9356476,
          0.47636267,
          1.24453257,
          1.07525999,
          1.09510422,
          0.81903971,
          0.73257024,
          1.13294357,
          1.45600931,
          0.89987739,
          0.50985454,
          0.98216324,
          0.5042118400000001,
          0.90260851,
          0.32759746999999995,
          0.97697634,
          0.73425544,
          0.68582553,
          1.1683941100000002,
          0.92417691,
          0.7984011999999999,
          1.36472762,
          1.34298447,
          0.98090547,
          1.02357174,
          1.55746101,
          0.72298485,
          1.41198538,
          0.6867144599999999,
          0.14878633,
          0.39869570000000004,
          1.4821436,
          0.53962213,
          0.67318924,
          0.62672413,
          0.16422948,
          0.43262021,
          0.90576992,
          0.7680285,
          1.16814541,
          0.5649235600000001,
          0.6922888199999999,
          0.36784969,
          1.36313283,
          1.20327689,
          0.4365715200000001,
          0.35407823,
          1.1214638600000002,
          1.20383972,
          1.47026098,
          1.04967702,
          1.0948993500000002,
          0.90765761,
          1.04413535,
          1.11366205,
          0.54064726,
          1.22922377,
          1.0931096000000002,
          1.27589121,
          1.53404851,
          1.05327822,
          1.12110455,
          1.28973037,
          1.08005197,
          1.3024851000000002,
          0.31488911,
          0.60695367,
          0.3482228,
          1.24033532,
          1.11105647,
          0.95118687,
          0.63528049,
          0.45343195,
          0.16152919,
          1.0931096000000002,
          0.8896073800000001,
          0.45343195,
          0.16152919,
          0.39869570000000004,
          0.49248065,
          1.0931096000000002,
          1.0931096000000002,
          1.08590635,
          1.2373238000000002,
          1.60333891,
          1.41190189,
          0.82693069,
          1.27349018,
          1.01102235,
          1.33114698,
          1.62392868,
          1.6669872,
          0.57855598,
          0.41209059,
          0.68896523,
          1.10352806,
          0.27228962,
          1.05843076,
          1.20413996,
          0.30540356,
          0.94476396,
          0.79133798,
          0.92885163,
          0.18720546,
          1.1003413700000002,
          1.2527901,
          0.96496008,
          1.64609813,
          1.11365675,
          1.2501091599999998,
          1.37201775,
          1.44542673,
          0.98727396,
          1.05876432,
          0.55486018,
          0.6937985600000001,
          0.46559112,
          0.96051064,
          0.69035179,
          0.42910788,
          1.0818770800000002,
          1.34557196,
          0.63328998,
          0.28073536,
          0.36784969,
          1.0931096000000002,
          1.1214638600000002,
          0.5079446400000001,
          1.17967282,
          0.97888919,
          0.99451347,
          0.81143723,
          0.71230474
         ],
         "yaxis": "y"
        },
        {
         "alignmentgroup": "True",
         "bingroup": "x",
         "histfunc": "avg",
         "hovertemplate": "variable=15 Minute Range Area<br>Lines=%{x}<br>avg of Walk Area Coverage(km^2)=%{y}<extra></extra>",
         "legendgroup": "15 Minute Range Area",
         "marker": {
          "color": "#00cc96"
         },
         "name": "15 Minute Range Area",
         "offsetgroup": "15 Minute Range Area",
         "orientation": "v",
         "showlegend": true,
         "type": "histogram",
         "x": [
          "Seremban Line",
          "Seremban Line",
          "Seremban Line",
          "Seremban Line",
          "Seremban Line",
          "Seremban Line",
          "Seremban Line",
          "Seremban Line",
          "Seremban Line",
          "Seremban Line",
          "Seremban Line",
          "Seremban Line",
          "Seremban Line",
          "Seremban Line",
          "Seremban Line",
          "Seremban Line",
          "Seremban Line",
          "Seremban Line",
          "Seremban Line",
          "Seremban Line",
          "Seremban Line",
          "Seremban Line",
          "Seremban Line",
          "Seremban Line",
          "Seremban Line",
          "Seremban Line",
          "Port Klang Line",
          "Port Klang Line",
          "Port Klang Line",
          "Port Klang Line",
          "Port Klang Line",
          "Port Klang Line",
          "Port Klang Line",
          "Port Klang Line",
          "Port Klang Line",
          "Port Klang Line",
          "Port Klang Line",
          "Port Klang Line",
          "Port Klang Line",
          "Port Klang Line",
          "Port Klang Line",
          "Port Klang Line",
          "Port Klang Line",
          "Port Klang Line",
          "Port Klang Line",
          "Port Klang Line",
          "Port Klang Line",
          "Port Klang Line",
          "Port Klang Line",
          "Port Klang Line",
          "Port Klang Line",
          "Port Klang Line",
          "Port Klang Line",
          "Port Klang Line",
          "Port Klang Line",
          "Port Klang Line",
          "Port Klang Line",
          "Port Klang Line",
          "Port Klang Line",
          "Port Klang Line",
          "Ampang Line",
          "Ampang Line",
          "Ampang Line",
          "Ampang Line",
          "Ampang Line",
          "Ampang Line",
          "Ampang Line",
          "Ampang Line",
          "Ampang Line",
          "Ampang Line",
          "Ampang Line",
          "Ampang Line",
          "Ampang Line",
          "Ampang Line",
          "Ampang Line",
          "Ampang Line",
          "Ampang Line",
          "Ampang Line",
          "Sri Petaling Line",
          "Sri Petaling Line",
          "Sri Petaling Line",
          "Sri Petaling Line",
          "Sri Petaling Line",
          "Sri Petaling Line",
          "Sri Petaling Line",
          "Sri Petaling Line",
          "Sri Petaling Line",
          "Sri Petaling Line",
          "Sri Petaling Line",
          "Sri Petaling Line",
          "Sri Petaling Line",
          "Sri Petaling Line",
          "Sri Petaling Line",
          "Sri Petaling Line",
          "Sri Petaling Line",
          "Sri Petaling Line",
          "Sri Petaling Line",
          "Sri Petaling Line",
          "Sri Petaling Line",
          "Sri Petaling Line",
          "Sri Petaling Line",
          "Sri Petaling Line",
          "Sri Petaling Line",
          "Sri Petaling Line",
          "Sri Petaling Line",
          "Sri Petaling Line",
          "Sri Petaling Line",
          "Kelana Jaya Line",
          "Kelana Jaya Line",
          "Kelana Jaya Line",
          "Kelana Jaya Line",
          "Kelana Jaya Line",
          "Kelana Jaya Line",
          "Kelana Jaya Line",
          "Kelana Jaya Line",
          "Kelana Jaya Line",
          "Kelana Jaya Line",
          "Kelana Jaya Line",
          "Kelana Jaya Line",
          "Kelana Jaya Line",
          "Kelana Jaya Line",
          "Kelana Jaya Line",
          "Kelana Jaya Line",
          "Kelana Jaya Line",
          "Kelana Jaya Line",
          "Kelana Jaya Line",
          "Kelana Jaya Line",
          "Kelana Jaya Line",
          "Kelana Jaya Line",
          "Kelana Jaya Line",
          "Kelana Jaya Line",
          "Kelana Jaya Line",
          "Kelana Jaya Line",
          "Kelana Jaya Line",
          "Kelana Jaya Line",
          "Kelana Jaya Line",
          "Kelana Jaya Line",
          "Kelana Jaya Line",
          "Kelana Jaya Line",
          "Kelana Jaya Line",
          "Kelana Jaya Line",
          "Kelana Jaya Line",
          "Kelana Jaya Line",
          "Kelana Jaya Line",
          "KLIA Ekspres",
          "KLIA Ekspres",
          "KLIA Ekspres",
          "KLIA Transit",
          "KLIA Transit",
          "KLIA Transit",
          "KLIA Transit",
          "KLIA Transit",
          "KLIA Transit",
          "KL Monorail Line",
          "KL Monorail Line",
          "KL Monorail Line",
          "KL Monorail Line",
          "KL Monorail Line",
          "KL Monorail Line",
          "KL Monorail Line",
          "KL Monorail Line",
          "KL Monorail Line",
          "KL Monorail Line",
          "KL Monorail Line",
          "MRT Sungai Buloh - Kajang Line",
          "MRT Sungai Buloh - Kajang Line",
          "MRT Sungai Buloh - Kajang Line",
          "MRT Sungai Buloh - Kajang Line",
          "MRT Sungai Buloh - Kajang Line",
          "MRT Sungai Buloh - Kajang Line",
          "MRT Sungai Buloh - Kajang Line",
          "MRT Sungai Buloh - Kajang Line",
          "MRT Sungai Buloh - Kajang Line",
          "MRT Sungai Buloh - Kajang Line",
          "MRT Sungai Buloh - Kajang Line",
          "MRT Sungai Buloh - Kajang Line",
          "MRT Sungai Buloh - Kajang Line",
          "MRT Sungai Buloh - Kajang Line",
          "MRT Sungai Buloh - Kajang Line",
          "MRT Sungai Buloh - Kajang Line",
          "MRT Sungai Buloh - Kajang Line",
          "MRT Sungai Buloh - Kajang Line",
          "MRT Sungai Buloh - Kajang Line",
          "MRT Sungai Buloh - Kajang Line",
          "MRT Sungai Buloh - Kajang Line",
          "MRT Sungai Buloh - Kajang Line",
          "MRT Sungai Buloh - Kajang Line",
          "MRT Sungai Buloh - Kajang Line",
          "MRT Sungai Buloh - Kajang Line",
          "MRT Sungai Buloh - Kajang Line",
          "MRT Sungai Buloh - Kajang Line",
          "MRT Sungai Buloh - Kajang Line",
          "MRT Sungai Buloh - Kajang Line",
          "MRT Sungai Buloh - Kajang Line",
          "MRT Sungai Buloh - Kajang Line",
          "Skypark Link",
          "Skypark Link",
          "Skypark Link",
          "BRT Sunway Line",
          "BRT Sunway Line",
          "BRT Sunway Line",
          "BRT Sunway Line",
          "BRT Sunway Line",
          "BRT Sunway Line",
          "BRT Sunway Line"
         ],
         "xaxis": "x",
         "y": [
          2.00371821,
          2.24015703,
          2.56897301,
          1.42326959,
          2.26314888,
          2.00185846,
          2.1742236800000003,
          1.1700403999999998,
          2.80683992,
          2.99074894,
          0.99197871,
          1.26139229,
          0.29554645,
          1.00918412,
          1.9232231,
          1.49744933,
          1.50700804,
          1.57696946,
          1.27532947,
          0.69918839,
          2.4177613900000003,
          1.71577967,
          1.1710366799999998,
          1.1710366799999998,
          0.86936934,
          2.73994134,
          1.73757164,
          1.26943068,
          1.38672527,
          2.02745004,
          2.99071179,
          1.04197374,
          1.1219590700000002,
          1.1634936000000002,
          1.30902106,
          1.45018829,
          1.53974752,
          1.57854443,
          1.81943367,
          0.95605398,
          1.25403992,
          1.79661797,
          0.91307283,
          2.5563389900000004,
          1.64587292,
          1.81280979,
          1.90750434,
          1.53965244,
          1.13224416,
          1.08614115,
          1.61943349,
          1.23907132,
          2.40118023,
          1.42011928,
          1.60348074,
          0.52693028,
          1.1700403999999998,
          2.80683992,
          2.83371611,
          2.73994134,
          2.3260019300000003,
          2.06784459,
          3.03409228,
          3.3478489500000004,
          2.27737988,
          2.42609726,
          3.55529003,
          2.15203207,
          3.19636508,
          3.3698826800000004,
          1.89715902,
          1.81025062,
          2.64383973,
          1.24546492,
          2.74410522,
          2.66057506,
          2.68636732,
          2.21643169,
          1.79636909,
          2.18843466,
          2.98010054,
          1.6374171599999998,
          0.98722519,
          2.21720784,
          1.23887132,
          2.06855075,
          1.16462712,
          2.00087113,
          1.52501166,
          1.79644307,
          2.45575257,
          2.3260019300000003,
          2.06784459,
          3.03409228,
          3.3478489500000004,
          2.27737988,
          2.42609726,
          3.55529003,
          2.15203207,
          3.19636508,
          1.29755614,
          0.25411249,
          1.26139229,
          3.3698826800000004,
          1.21211723,
          1.39905382,
          1.89715902,
          0.74580275,
          1.18892094,
          2.09640578,
          1.72637379,
          2.73355393,
          1.73639403,
          1.34087778,
          1.25403992,
          2.9872992000000003,
          2.81145117,
          1.18112971,
          1.2894693000000002,
          2.8605457000000003,
          2.76278958,
          3.41797496,
          2.66861507,
          2.80025152,
          2.38782148,
          2.07408561,
          2.51127217,
          1.60348074,
          3.01341988,
          2.73994134,
          3.00989514,
          3.39048139,
          2.54368452,
          2.67726333,
          2.96054976,
          2.5220779500000003,
          3.0872502,
          1.04935299,
          1.62723771,
          1.186555,
          2.85647758,
          2.8539164,
          2.31582804,
          1.87815032,
          0.8330673000000001,
          0.5388226899999999,
          2.73994134,
          1.6578118899999998,
          0.8330673000000001,
          0.5388226899999999,
          1.26139229,
          1.0927403,
          2.73994134,
          2.73994134,
          2.3940083,
          2.99052753,
          3.4782148,
          2.9054479900000003,
          2.32324576,
          3.13054985,
          2.89758152,
          3.17771479,
          3.54678045,
          3.60001605,
          1.4906206000000002,
          0.82758591,
          1.82938798,
          2.3169378700000003,
          0.95605398,
          2.65375175,
          2.65303658,
          1.13780803,
          2.15393431,
          1.77871072,
          1.97489201,
          0.39435068,
          2.63121517,
          2.94639003,
          2.5506919,
          3.53785805,
          2.62723105,
          2.8983506,
          3.04547806,
          3.00657,
          2.54802141,
          2.5048589100000003,
          1.2397028,
          1.56865318,
          1.07107906,
          2.0038023700000003,
          1.19038395,
          1.13365564,
          2.59764313,
          3.36253283,
          1.09095396,
          0.75462764,
          1.25403992,
          2.73994134,
          2.8605457000000003,
          1.19364534,
          2.2140274100000004,
          2.07718496,
          2.05904436,
          1.9014248,
          1.70466786
         ],
         "yaxis": "y"
        }
       ],
       "layout": {
        "barmode": "group",
        "legend": {
         "title": {
          "text": "variable"
         },
         "tracegroupgap": 0
        },
        "template": {
         "data": {
          "bar": [
           {
            "error_x": {
             "color": "#2a3f5f"
            },
            "error_y": {
             "color": "#2a3f5f"
            },
            "marker": {
             "line": {
              "color": "#E5ECF6",
              "width": 0.5
             }
            },
            "type": "bar"
           }
          ],
          "barpolar": [
           {
            "marker": {
             "line": {
              "color": "#E5ECF6",
              "width": 0.5
             }
            },
            "type": "barpolar"
           }
          ],
          "carpet": [
           {
            "aaxis": {
             "endlinecolor": "#2a3f5f",
             "gridcolor": "white",
             "linecolor": "white",
             "minorgridcolor": "white",
             "startlinecolor": "#2a3f5f"
            },
            "baxis": {
             "endlinecolor": "#2a3f5f",
             "gridcolor": "white",
             "linecolor": "white",
             "minorgridcolor": "white",
             "startlinecolor": "#2a3f5f"
            },
            "type": "carpet"
           }
          ],
          "choropleth": [
           {
            "colorbar": {
             "outlinewidth": 0,
             "ticks": ""
            },
            "type": "choropleth"
           }
          ],
          "contour": [
           {
            "colorbar": {
             "outlinewidth": 0,
             "ticks": ""
            },
            "colorscale": [
             [
              0,
              "#0d0887"
             ],
             [
              0.1111111111111111,
              "#46039f"
             ],
             [
              0.2222222222222222,
              "#7201a8"
             ],
             [
              0.3333333333333333,
              "#9c179e"
             ],
             [
              0.4444444444444444,
              "#bd3786"
             ],
             [
              0.5555555555555556,
              "#d8576b"
             ],
             [
              0.6666666666666666,
              "#ed7953"
             ],
             [
              0.7777777777777778,
              "#fb9f3a"
             ],
             [
              0.8888888888888888,
              "#fdca26"
             ],
             [
              1,
              "#f0f921"
             ]
            ],
            "type": "contour"
           }
          ],
          "contourcarpet": [
           {
            "colorbar": {
             "outlinewidth": 0,
             "ticks": ""
            },
            "type": "contourcarpet"
           }
          ],
          "heatmap": [
           {
            "colorbar": {
             "outlinewidth": 0,
             "ticks": ""
            },
            "colorscale": [
             [
              0,
              "#0d0887"
             ],
             [
              0.1111111111111111,
              "#46039f"
             ],
             [
              0.2222222222222222,
              "#7201a8"
             ],
             [
              0.3333333333333333,
              "#9c179e"
             ],
             [
              0.4444444444444444,
              "#bd3786"
             ],
             [
              0.5555555555555556,
              "#d8576b"
             ],
             [
              0.6666666666666666,
              "#ed7953"
             ],
             [
              0.7777777777777778,
              "#fb9f3a"
             ],
             [
              0.8888888888888888,
              "#fdca26"
             ],
             [
              1,
              "#f0f921"
             ]
            ],
            "type": "heatmap"
           }
          ],
          "heatmapgl": [
           {
            "colorbar": {
             "outlinewidth": 0,
             "ticks": ""
            },
            "colorscale": [
             [
              0,
              "#0d0887"
             ],
             [
              0.1111111111111111,
              "#46039f"
             ],
             [
              0.2222222222222222,
              "#7201a8"
             ],
             [
              0.3333333333333333,
              "#9c179e"
             ],
             [
              0.4444444444444444,
              "#bd3786"
             ],
             [
              0.5555555555555556,
              "#d8576b"
             ],
             [
              0.6666666666666666,
              "#ed7953"
             ],
             [
              0.7777777777777778,
              "#fb9f3a"
             ],
             [
              0.8888888888888888,
              "#fdca26"
             ],
             [
              1,
              "#f0f921"
             ]
            ],
            "type": "heatmapgl"
           }
          ],
          "histogram": [
           {
            "marker": {
             "colorbar": {
              "outlinewidth": 0,
              "ticks": ""
             }
            },
            "type": "histogram"
           }
          ],
          "histogram2d": [
           {
            "colorbar": {
             "outlinewidth": 0,
             "ticks": ""
            },
            "colorscale": [
             [
              0,
              "#0d0887"
             ],
             [
              0.1111111111111111,
              "#46039f"
             ],
             [
              0.2222222222222222,
              "#7201a8"
             ],
             [
              0.3333333333333333,
              "#9c179e"
             ],
             [
              0.4444444444444444,
              "#bd3786"
             ],
             [
              0.5555555555555556,
              "#d8576b"
             ],
             [
              0.6666666666666666,
              "#ed7953"
             ],
             [
              0.7777777777777778,
              "#fb9f3a"
             ],
             [
              0.8888888888888888,
              "#fdca26"
             ],
             [
              1,
              "#f0f921"
             ]
            ],
            "type": "histogram2d"
           }
          ],
          "histogram2dcontour": [
           {
            "colorbar": {
             "outlinewidth": 0,
             "ticks": ""
            },
            "colorscale": [
             [
              0,
              "#0d0887"
             ],
             [
              0.1111111111111111,
              "#46039f"
             ],
             [
              0.2222222222222222,
              "#7201a8"
             ],
             [
              0.3333333333333333,
              "#9c179e"
             ],
             [
              0.4444444444444444,
              "#bd3786"
             ],
             [
              0.5555555555555556,
              "#d8576b"
             ],
             [
              0.6666666666666666,
              "#ed7953"
             ],
             [
              0.7777777777777778,
              "#fb9f3a"
             ],
             [
              0.8888888888888888,
              "#fdca26"
             ],
             [
              1,
              "#f0f921"
             ]
            ],
            "type": "histogram2dcontour"
           }
          ],
          "mesh3d": [
           {
            "colorbar": {
             "outlinewidth": 0,
             "ticks": ""
            },
            "type": "mesh3d"
           }
          ],
          "parcoords": [
           {
            "line": {
             "colorbar": {
              "outlinewidth": 0,
              "ticks": ""
             }
            },
            "type": "parcoords"
           }
          ],
          "pie": [
           {
            "automargin": true,
            "type": "pie"
           }
          ],
          "scatter": [
           {
            "marker": {
             "colorbar": {
              "outlinewidth": 0,
              "ticks": ""
             }
            },
            "type": "scatter"
           }
          ],
          "scatter3d": [
           {
            "line": {
             "colorbar": {
              "outlinewidth": 0,
              "ticks": ""
             }
            },
            "marker": {
             "colorbar": {
              "outlinewidth": 0,
              "ticks": ""
             }
            },
            "type": "scatter3d"
           }
          ],
          "scattercarpet": [
           {
            "marker": {
             "colorbar": {
              "outlinewidth": 0,
              "ticks": ""
             }
            },
            "type": "scattercarpet"
           }
          ],
          "scattergeo": [
           {
            "marker": {
             "colorbar": {
              "outlinewidth": 0,
              "ticks": ""
             }
            },
            "type": "scattergeo"
           }
          ],
          "scattergl": [
           {
            "marker": {
             "colorbar": {
              "outlinewidth": 0,
              "ticks": ""
             }
            },
            "type": "scattergl"
           }
          ],
          "scattermapbox": [
           {
            "marker": {
             "colorbar": {
              "outlinewidth": 0,
              "ticks": ""
             }
            },
            "type": "scattermapbox"
           }
          ],
          "scatterpolar": [
           {
            "marker": {
             "colorbar": {
              "outlinewidth": 0,
              "ticks": ""
             }
            },
            "type": "scatterpolar"
           }
          ],
          "scatterpolargl": [
           {
            "marker": {
             "colorbar": {
              "outlinewidth": 0,
              "ticks": ""
             }
            },
            "type": "scatterpolargl"
           }
          ],
          "scatterternary": [
           {
            "marker": {
             "colorbar": {
              "outlinewidth": 0,
              "ticks": ""
             }
            },
            "type": "scatterternary"
           }
          ],
          "surface": [
           {
            "colorbar": {
             "outlinewidth": 0,
             "ticks": ""
            },
            "colorscale": [
             [
              0,
              "#0d0887"
             ],
             [
              0.1111111111111111,
              "#46039f"
             ],
             [
              0.2222222222222222,
              "#7201a8"
             ],
             [
              0.3333333333333333,
              "#9c179e"
             ],
             [
              0.4444444444444444,
              "#bd3786"
             ],
             [
              0.5555555555555556,
              "#d8576b"
             ],
             [
              0.6666666666666666,
              "#ed7953"
             ],
             [
              0.7777777777777778,
              "#fb9f3a"
             ],
             [
              0.8888888888888888,
              "#fdca26"
             ],
             [
              1,
              "#f0f921"
             ]
            ],
            "type": "surface"
           }
          ],
          "table": [
           {
            "cells": {
             "fill": {
              "color": "#EBF0F8"
             },
             "line": {
              "color": "white"
             }
            },
            "header": {
             "fill": {
              "color": "#C8D4E3"
             },
             "line": {
              "color": "white"
             }
            },
            "type": "table"
           }
          ]
         },
         "layout": {
          "annotationdefaults": {
           "arrowcolor": "#2a3f5f",
           "arrowhead": 0,
           "arrowwidth": 1
          },
          "coloraxis": {
           "colorbar": {
            "outlinewidth": 0,
            "ticks": ""
           }
          },
          "colorscale": {
           "diverging": [
            [
             0,
             "#8e0152"
            ],
            [
             0.1,
             "#c51b7d"
            ],
            [
             0.2,
             "#de77ae"
            ],
            [
             0.3,
             "#f1b6da"
            ],
            [
             0.4,
             "#fde0ef"
            ],
            [
             0.5,
             "#f7f7f7"
            ],
            [
             0.6,
             "#e6f5d0"
            ],
            [
             0.7,
             "#b8e186"
            ],
            [
             0.8,
             "#7fbc41"
            ],
            [
             0.9,
             "#4d9221"
            ],
            [
             1,
             "#276419"
            ]
           ],
           "sequential": [
            [
             0,
             "#0d0887"
            ],
            [
             0.1111111111111111,
             "#46039f"
            ],
            [
             0.2222222222222222,
             "#7201a8"
            ],
            [
             0.3333333333333333,
             "#9c179e"
            ],
            [
             0.4444444444444444,
             "#bd3786"
            ],
            [
             0.5555555555555556,
             "#d8576b"
            ],
            [
             0.6666666666666666,
             "#ed7953"
            ],
            [
             0.7777777777777778,
             "#fb9f3a"
            ],
            [
             0.8888888888888888,
             "#fdca26"
            ],
            [
             1,
             "#f0f921"
            ]
           ],
           "sequentialminus": [
            [
             0,
             "#0d0887"
            ],
            [
             0.1111111111111111,
             "#46039f"
            ],
            [
             0.2222222222222222,
             "#7201a8"
            ],
            [
             0.3333333333333333,
             "#9c179e"
            ],
            [
             0.4444444444444444,
             "#bd3786"
            ],
            [
             0.5555555555555556,
             "#d8576b"
            ],
            [
             0.6666666666666666,
             "#ed7953"
            ],
            [
             0.7777777777777778,
             "#fb9f3a"
            ],
            [
             0.8888888888888888,
             "#fdca26"
            ],
            [
             1,
             "#f0f921"
            ]
           ]
          },
          "colorway": [
           "#636efa",
           "#EF553B",
           "#00cc96",
           "#ab63fa",
           "#FFA15A",
           "#19d3f3",
           "#FF6692",
           "#B6E880",
           "#FF97FF",
           "#FECB52"
          ],
          "font": {
           "color": "#2a3f5f"
          },
          "geo": {
           "bgcolor": "white",
           "lakecolor": "white",
           "landcolor": "#E5ECF6",
           "showlakes": true,
           "showland": true,
           "subunitcolor": "white"
          },
          "hoverlabel": {
           "align": "left"
          },
          "hovermode": "closest",
          "mapbox": {
           "style": "light"
          },
          "paper_bgcolor": "white",
          "plot_bgcolor": "#E5ECF6",
          "polar": {
           "angularaxis": {
            "gridcolor": "white",
            "linecolor": "white",
            "ticks": ""
           },
           "bgcolor": "#E5ECF6",
           "radialaxis": {
            "gridcolor": "white",
            "linecolor": "white",
            "ticks": ""
           }
          },
          "scene": {
           "xaxis": {
            "backgroundcolor": "#E5ECF6",
            "gridcolor": "white",
            "gridwidth": 2,
            "linecolor": "white",
            "showbackground": true,
            "ticks": "",
            "zerolinecolor": "white"
           },
           "yaxis": {
            "backgroundcolor": "#E5ECF6",
            "gridcolor": "white",
            "gridwidth": 2,
            "linecolor": "white",
            "showbackground": true,
            "ticks": "",
            "zerolinecolor": "white"
           },
           "zaxis": {
            "backgroundcolor": "#E5ECF6",
            "gridcolor": "white",
            "gridwidth": 2,
            "linecolor": "white",
            "showbackground": true,
            "ticks": "",
            "zerolinecolor": "white"
           }
          },
          "shapedefaults": {
           "line": {
            "color": "#2a3f5f"
           }
          },
          "ternary": {
           "aaxis": {
            "gridcolor": "white",
            "linecolor": "white",
            "ticks": ""
           },
           "baxis": {
            "gridcolor": "white",
            "linecolor": "white",
            "ticks": ""
           },
           "bgcolor": "#E5ECF6",
           "caxis": {
            "gridcolor": "white",
            "linecolor": "white",
            "ticks": ""
           }
          },
          "title": {
           "x": 0.05
          },
          "xaxis": {
           "automargin": true,
           "gridcolor": "white",
           "linecolor": "white",
           "ticks": "",
           "title": {
            "standoff": 15
           },
           "zerolinecolor": "white",
           "zerolinewidth": 2
          },
          "yaxis": {
           "automargin": true,
           "gridcolor": "white",
           "linecolor": "white",
           "ticks": "",
           "title": {
            "standoff": 15
           },
           "zerolinecolor": "white",
           "zerolinewidth": 2
          }
         }
        },
        "title": {
         "text": "Area coverage within walking times from station"
        },
        "xaxis": {
         "anchor": "y",
         "categoryorder": "total ascending",
         "domain": [
          0,
          1
         ],
         "title": {
          "text": "Lines"
         }
        },
        "yaxis": {
         "anchor": "x",
         "domain": [
          0,
          1
         ],
         "title": {
          "text": "avg of Walk Area Coverage(km^2)"
         }
        }
       }
      }
     },
     "metadata": {}
    }
   ],
   "source": [
    "# draws histograms for RapidKL lines' 5 minute walking area coverage\n",
    "fig = px.histogram(data_all[(data_all[\"City\"]=='Kuala Lumpur') &(data_all[\"Service Provider Name\"]=='Rapid KL')]\n",
    "             ,x='Route Name'\n",
    "             ,y='5 Minute Range Area'\n",
    "             , barmode = 'group'\n",
    "             , title=\"Area coverage within 5 minutes walk from station\"\n",
    "             , template='plotly'\n",
    "             , histfunc = 'avg'\n",
    "             ,labels={'Route Name': \"Lines\", '5 Minute Range Area' : \"5 Minutes Walk Area(km^2)\"}\n",
    "            ).update_xaxes(categoryorder='total ascending')\n",
    "fig.update_layout(showlegend=False)\n",
    "fig.show() \n",
    "\n",
    "# draws histograms for RapidKL lines' 10 minute walking area coverage\n",
    "fig = px.histogram(data_all[(data_all[\"City\"]=='Kuala Lumpur') &(data_all[\"Service Provider Name\"]=='Rapid KL')]\n",
    "             ,x='Route Name'\n",
    "             ,y='10 Minute Range Area'\n",
    "             , barmode = 'group'\n",
    "             , title=\"Area coverage within 10 minutes walk from station\"\n",
    "             , template='plotly'\n",
    "             , histfunc = 'avg'\n",
    "             ,labels={'Route Name': \"Lines\", '10 Minute Range Area' : \"10 Minutes Walk Area(km^2)\"}\n",
    "            ).update_xaxes(categoryorder='total ascending')\n",
    "fig.update_layout(showlegend=False)\n",
    "fig.show()\n",
    "\n",
    "# draws histograms for RapidKL lines' 15 minute walking area coverage\n",
    "fig = px.histogram(data_all[(data_all[\"City\"]=='Kuala Lumpur') &(data_all[\"Service Provider Name\"]=='Rapid KL')]\n",
    "             ,x='Route Name'\n",
    "             ,y='15 Minute Range Area'\n",
    "             , barmode = 'group'\n",
    "             , title=\"Area coverage within 15 minutes walk from station\"\n",
    "             , template='plotly'\n",
    "             , histfunc = 'avg'\n",
    "             ,labels={'Route Name': \"Lines\", '15 Minute Range Area' : \"15 Minutes Walk Area(km^2)\"}\n",
    "            ).update_xaxes(categoryorder='total ascending')\n",
    "fig.update_layout(showlegend=False)\n",
    "fig.show() \n",
    "\n",
    "# draws all coverage in one chart along with all train lines\n",
    "fig = px.histogram(data_all[(data_all[\"City\"]=='Kuala Lumpur') ]\n",
    "             ,x='Route Name'\n",
    "             ,y=['5 Minute Range Area','10 Minute Range Area','15 Minute Range Area']\n",
    "             , barmode = 'group'\n",
    "             , title=\"Area coverage within walking times from station\"\n",
    "             , template='plotly'\n",
    "             , histfunc = 'avg'\n",
    "             ,labels={'Route Name': \"Lines\",'value' : \"Walk Area Coverage(km^2)\"}\n",
    "            ).update_xaxes(categoryorder='total ascending')\n",
    "\n",
    "fig.show()       "
   ]
  },
  {
   "cell_type": "code",
   "execution_count": 68,
   "metadata": {},
   "outputs": [
    {
     "output_type": "display_data",
     "data": {
      "application/vnd.plotly.v1+json": {
       "config": {
        "plotlyServerURL": "https://plot.ly"
       },
       "data": [
        {
         "alignmentgroup": "True",
         "bingroup": "x",
         "histfunc": "avg",
         "hovertemplate": "Lines=%{x}<br>avg of Population Coverage=%{y}<extra></extra>",
         "legendgroup": "",
         "marker": {
          "color": "#636efa"
         },
         "name": "",
         "offsetgroup": "",
         "orientation": "v",
         "showlegend": false,
         "type": "histogram",
         "x": [
          "Ampang Line",
          "Ampang Line",
          "Ampang Line",
          "Ampang Line",
          "Ampang Line",
          "Ampang Line",
          "Ampang Line",
          "Ampang Line",
          "Ampang Line",
          "Ampang Line",
          "Ampang Line",
          "Ampang Line",
          "Ampang Line",
          "Ampang Line",
          "Ampang Line",
          "Ampang Line",
          "Ampang Line",
          "Ampang Line",
          "Sri Petaling Line",
          "Sri Petaling Line",
          "Sri Petaling Line",
          "Sri Petaling Line",
          "Sri Petaling Line",
          "Sri Petaling Line",
          "Sri Petaling Line",
          "Sri Petaling Line",
          "Sri Petaling Line",
          "Sri Petaling Line",
          "Sri Petaling Line",
          "Sri Petaling Line",
          "Sri Petaling Line",
          "Sri Petaling Line",
          "Sri Petaling Line",
          "Sri Petaling Line",
          "Sri Petaling Line",
          "Sri Petaling Line",
          "Sri Petaling Line",
          "Sri Petaling Line",
          "Sri Petaling Line",
          "Sri Petaling Line",
          "Sri Petaling Line",
          "Sri Petaling Line",
          "Sri Petaling Line",
          "Sri Petaling Line",
          "Sri Petaling Line",
          "Sri Petaling Line",
          "Sri Petaling Line",
          "Kelana Jaya Line",
          "Kelana Jaya Line",
          "Kelana Jaya Line",
          "Kelana Jaya Line",
          "Kelana Jaya Line",
          "Kelana Jaya Line",
          "Kelana Jaya Line",
          "Kelana Jaya Line",
          "Kelana Jaya Line",
          "Kelana Jaya Line",
          "Kelana Jaya Line",
          "Kelana Jaya Line",
          "Kelana Jaya Line",
          "Kelana Jaya Line",
          "Kelana Jaya Line",
          "Kelana Jaya Line",
          "Kelana Jaya Line",
          "Kelana Jaya Line",
          "Kelana Jaya Line",
          "Kelana Jaya Line",
          "Kelana Jaya Line",
          "Kelana Jaya Line",
          "Kelana Jaya Line",
          "Kelana Jaya Line",
          "Kelana Jaya Line",
          "Kelana Jaya Line",
          "Kelana Jaya Line",
          "Kelana Jaya Line",
          "Kelana Jaya Line",
          "Kelana Jaya Line",
          "Kelana Jaya Line",
          "Kelana Jaya Line",
          "Kelana Jaya Line",
          "Kelana Jaya Line",
          "Kelana Jaya Line",
          "Kelana Jaya Line",
          "Kelana Jaya Line",
          "KL Monorail Line",
          "KL Monorail Line",
          "KL Monorail Line",
          "KL Monorail Line",
          "KL Monorail Line",
          "KL Monorail Line",
          "KL Monorail Line",
          "KL Monorail Line",
          "KL Monorail Line",
          "KL Monorail Line",
          "KL Monorail Line",
          "MRT Sungai Buloh - Kajang Line",
          "MRT Sungai Buloh - Kajang Line",
          "MRT Sungai Buloh - Kajang Line",
          "MRT Sungai Buloh - Kajang Line",
          "MRT Sungai Buloh - Kajang Line",
          "MRT Sungai Buloh - Kajang Line",
          "MRT Sungai Buloh - Kajang Line",
          "MRT Sungai Buloh - Kajang Line",
          "MRT Sungai Buloh - Kajang Line",
          "MRT Sungai Buloh - Kajang Line",
          "MRT Sungai Buloh - Kajang Line",
          "MRT Sungai Buloh - Kajang Line",
          "MRT Sungai Buloh - Kajang Line",
          "MRT Sungai Buloh - Kajang Line",
          "MRT Sungai Buloh - Kajang Line",
          "MRT Sungai Buloh - Kajang Line",
          "MRT Sungai Buloh - Kajang Line",
          "MRT Sungai Buloh - Kajang Line",
          "MRT Sungai Buloh - Kajang Line",
          "MRT Sungai Buloh - Kajang Line",
          "MRT Sungai Buloh - Kajang Line",
          "MRT Sungai Buloh - Kajang Line",
          "MRT Sungai Buloh - Kajang Line",
          "MRT Sungai Buloh - Kajang Line",
          "MRT Sungai Buloh - Kajang Line",
          "MRT Sungai Buloh - Kajang Line",
          "MRT Sungai Buloh - Kajang Line",
          "MRT Sungai Buloh - Kajang Line",
          "MRT Sungai Buloh - Kajang Line",
          "MRT Sungai Buloh - Kajang Line",
          "MRT Sungai Buloh - Kajang Line"
         ],
         "xaxis": "x",
         "y": [
          1359,
          1273,
          2717,
          3121,
          1245,
          1160,
          2176,
          903,
          2208,
          2678,
          453,
          1019,
          891,
          1668,
          3536,
          4477,
          2675,
          1772,
          978,
          2419,
          3412,
          3031,
          1954,
          2036,
          1018,
          1018,
          1018,
          2840,
          573,
          1526,
          2509,
          1359,
          1273,
          2717,
          3121,
          1245,
          1160,
          2176,
          903,
          2208,
          1876,
          534,
          1718,
          2678,
          1543,
          1784,
          453,
          330,
          661,
          978,
          661,
          659,
          331,
          490,
          297,
          1617,
          1650,
          179,
          331,
          1654,
          1515,
          1742,
          1063,
          960,
          1251,
          1452,
          1827,
          494,
          2549,
          1811,
          1759,
          2628,
          1275,
          1811,
          1788,
          1714,
          3313,
          194,
          906,
          0,
          1992,
          1872,
          2004,
          686,
          1811,
          1781,
          1359,
          2249,
          2237,
          885,
          1951,
          1170,
          1669,
          3170,
          3623,
          130,
          636,
          265,
          1492,
          397,
          1258,
          1678,
          427,
          1366,
          1460,
          1878,
          0,
          1300,
          1759,
          1648,
          3623,
          1754,
          1966,
          1762,
          3075,
          2065,
          1033,
          1528,
          1314,
          419,
          2076,
          876,
          438,
          931,
          1310,
          1006
         ],
         "yaxis": "y"
        }
       ],
       "layout": {
        "barmode": "group",
        "legend": {
         "tracegroupgap": 0
        },
        "showlegend": false,
        "template": {
         "data": {
          "bar": [
           {
            "error_x": {
             "color": "#2a3f5f"
            },
            "error_y": {
             "color": "#2a3f5f"
            },
            "marker": {
             "line": {
              "color": "#E5ECF6",
              "width": 0.5
             }
            },
            "type": "bar"
           }
          ],
          "barpolar": [
           {
            "marker": {
             "line": {
              "color": "#E5ECF6",
              "width": 0.5
             }
            },
            "type": "barpolar"
           }
          ],
          "carpet": [
           {
            "aaxis": {
             "endlinecolor": "#2a3f5f",
             "gridcolor": "white",
             "linecolor": "white",
             "minorgridcolor": "white",
             "startlinecolor": "#2a3f5f"
            },
            "baxis": {
             "endlinecolor": "#2a3f5f",
             "gridcolor": "white",
             "linecolor": "white",
             "minorgridcolor": "white",
             "startlinecolor": "#2a3f5f"
            },
            "type": "carpet"
           }
          ],
          "choropleth": [
           {
            "colorbar": {
             "outlinewidth": 0,
             "ticks": ""
            },
            "type": "choropleth"
           }
          ],
          "contour": [
           {
            "colorbar": {
             "outlinewidth": 0,
             "ticks": ""
            },
            "colorscale": [
             [
              0,
              "#0d0887"
             ],
             [
              0.1111111111111111,
              "#46039f"
             ],
             [
              0.2222222222222222,
              "#7201a8"
             ],
             [
              0.3333333333333333,
              "#9c179e"
             ],
             [
              0.4444444444444444,
              "#bd3786"
             ],
             [
              0.5555555555555556,
              "#d8576b"
             ],
             [
              0.6666666666666666,
              "#ed7953"
             ],
             [
              0.7777777777777778,
              "#fb9f3a"
             ],
             [
              0.8888888888888888,
              "#fdca26"
             ],
             [
              1,
              "#f0f921"
             ]
            ],
            "type": "contour"
           }
          ],
          "contourcarpet": [
           {
            "colorbar": {
             "outlinewidth": 0,
             "ticks": ""
            },
            "type": "contourcarpet"
           }
          ],
          "heatmap": [
           {
            "colorbar": {
             "outlinewidth": 0,
             "ticks": ""
            },
            "colorscale": [
             [
              0,
              "#0d0887"
             ],
             [
              0.1111111111111111,
              "#46039f"
             ],
             [
              0.2222222222222222,
              "#7201a8"
             ],
             [
              0.3333333333333333,
              "#9c179e"
             ],
             [
              0.4444444444444444,
              "#bd3786"
             ],
             [
              0.5555555555555556,
              "#d8576b"
             ],
             [
              0.6666666666666666,
              "#ed7953"
             ],
             [
              0.7777777777777778,
              "#fb9f3a"
             ],
             [
              0.8888888888888888,
              "#fdca26"
             ],
             [
              1,
              "#f0f921"
             ]
            ],
            "type": "heatmap"
           }
          ],
          "heatmapgl": [
           {
            "colorbar": {
             "outlinewidth": 0,
             "ticks": ""
            },
            "colorscale": [
             [
              0,
              "#0d0887"
             ],
             [
              0.1111111111111111,
              "#46039f"
             ],
             [
              0.2222222222222222,
              "#7201a8"
             ],
             [
              0.3333333333333333,
              "#9c179e"
             ],
             [
              0.4444444444444444,
              "#bd3786"
             ],
             [
              0.5555555555555556,
              "#d8576b"
             ],
             [
              0.6666666666666666,
              "#ed7953"
             ],
             [
              0.7777777777777778,
              "#fb9f3a"
             ],
             [
              0.8888888888888888,
              "#fdca26"
             ],
             [
              1,
              "#f0f921"
             ]
            ],
            "type": "heatmapgl"
           }
          ],
          "histogram": [
           {
            "marker": {
             "colorbar": {
              "outlinewidth": 0,
              "ticks": ""
             }
            },
            "type": "histogram"
           }
          ],
          "histogram2d": [
           {
            "colorbar": {
             "outlinewidth": 0,
             "ticks": ""
            },
            "colorscale": [
             [
              0,
              "#0d0887"
             ],
             [
              0.1111111111111111,
              "#46039f"
             ],
             [
              0.2222222222222222,
              "#7201a8"
             ],
             [
              0.3333333333333333,
              "#9c179e"
             ],
             [
              0.4444444444444444,
              "#bd3786"
             ],
             [
              0.5555555555555556,
              "#d8576b"
             ],
             [
              0.6666666666666666,
              "#ed7953"
             ],
             [
              0.7777777777777778,
              "#fb9f3a"
             ],
             [
              0.8888888888888888,
              "#fdca26"
             ],
             [
              1,
              "#f0f921"
             ]
            ],
            "type": "histogram2d"
           }
          ],
          "histogram2dcontour": [
           {
            "colorbar": {
             "outlinewidth": 0,
             "ticks": ""
            },
            "colorscale": [
             [
              0,
              "#0d0887"
             ],
             [
              0.1111111111111111,
              "#46039f"
             ],
             [
              0.2222222222222222,
              "#7201a8"
             ],
             [
              0.3333333333333333,
              "#9c179e"
             ],
             [
              0.4444444444444444,
              "#bd3786"
             ],
             [
              0.5555555555555556,
              "#d8576b"
             ],
             [
              0.6666666666666666,
              "#ed7953"
             ],
             [
              0.7777777777777778,
              "#fb9f3a"
             ],
             [
              0.8888888888888888,
              "#fdca26"
             ],
             [
              1,
              "#f0f921"
             ]
            ],
            "type": "histogram2dcontour"
           }
          ],
          "mesh3d": [
           {
            "colorbar": {
             "outlinewidth": 0,
             "ticks": ""
            },
            "type": "mesh3d"
           }
          ],
          "parcoords": [
           {
            "line": {
             "colorbar": {
              "outlinewidth": 0,
              "ticks": ""
             }
            },
            "type": "parcoords"
           }
          ],
          "pie": [
           {
            "automargin": true,
            "type": "pie"
           }
          ],
          "scatter": [
           {
            "marker": {
             "colorbar": {
              "outlinewidth": 0,
              "ticks": ""
             }
            },
            "type": "scatter"
           }
          ],
          "scatter3d": [
           {
            "line": {
             "colorbar": {
              "outlinewidth": 0,
              "ticks": ""
             }
            },
            "marker": {
             "colorbar": {
              "outlinewidth": 0,
              "ticks": ""
             }
            },
            "type": "scatter3d"
           }
          ],
          "scattercarpet": [
           {
            "marker": {
             "colorbar": {
              "outlinewidth": 0,
              "ticks": ""
             }
            },
            "type": "scattercarpet"
           }
          ],
          "scattergeo": [
           {
            "marker": {
             "colorbar": {
              "outlinewidth": 0,
              "ticks": ""
             }
            },
            "type": "scattergeo"
           }
          ],
          "scattergl": [
           {
            "marker": {
             "colorbar": {
              "outlinewidth": 0,
              "ticks": ""
             }
            },
            "type": "scattergl"
           }
          ],
          "scattermapbox": [
           {
            "marker": {
             "colorbar": {
              "outlinewidth": 0,
              "ticks": ""
             }
            },
            "type": "scattermapbox"
           }
          ],
          "scatterpolar": [
           {
            "marker": {
             "colorbar": {
              "outlinewidth": 0,
              "ticks": ""
             }
            },
            "type": "scatterpolar"
           }
          ],
          "scatterpolargl": [
           {
            "marker": {
             "colorbar": {
              "outlinewidth": 0,
              "ticks": ""
             }
            },
            "type": "scatterpolargl"
           }
          ],
          "scatterternary": [
           {
            "marker": {
             "colorbar": {
              "outlinewidth": 0,
              "ticks": ""
             }
            },
            "type": "scatterternary"
           }
          ],
          "surface": [
           {
            "colorbar": {
             "outlinewidth": 0,
             "ticks": ""
            },
            "colorscale": [
             [
              0,
              "#0d0887"
             ],
             [
              0.1111111111111111,
              "#46039f"
             ],
             [
              0.2222222222222222,
              "#7201a8"
             ],
             [
              0.3333333333333333,
              "#9c179e"
             ],
             [
              0.4444444444444444,
              "#bd3786"
             ],
             [
              0.5555555555555556,
              "#d8576b"
             ],
             [
              0.6666666666666666,
              "#ed7953"
             ],
             [
              0.7777777777777778,
              "#fb9f3a"
             ],
             [
              0.8888888888888888,
              "#fdca26"
             ],
             [
              1,
              "#f0f921"
             ]
            ],
            "type": "surface"
           }
          ],
          "table": [
           {
            "cells": {
             "fill": {
              "color": "#EBF0F8"
             },
             "line": {
              "color": "white"
             }
            },
            "header": {
             "fill": {
              "color": "#C8D4E3"
             },
             "line": {
              "color": "white"
             }
            },
            "type": "table"
           }
          ]
         },
         "layout": {
          "annotationdefaults": {
           "arrowcolor": "#2a3f5f",
           "arrowhead": 0,
           "arrowwidth": 1
          },
          "coloraxis": {
           "colorbar": {
            "outlinewidth": 0,
            "ticks": ""
           }
          },
          "colorscale": {
           "diverging": [
            [
             0,
             "#8e0152"
            ],
            [
             0.1,
             "#c51b7d"
            ],
            [
             0.2,
             "#de77ae"
            ],
            [
             0.3,
             "#f1b6da"
            ],
            [
             0.4,
             "#fde0ef"
            ],
            [
             0.5,
             "#f7f7f7"
            ],
            [
             0.6,
             "#e6f5d0"
            ],
            [
             0.7,
             "#b8e186"
            ],
            [
             0.8,
             "#7fbc41"
            ],
            [
             0.9,
             "#4d9221"
            ],
            [
             1,
             "#276419"
            ]
           ],
           "sequential": [
            [
             0,
             "#0d0887"
            ],
            [
             0.1111111111111111,
             "#46039f"
            ],
            [
             0.2222222222222222,
             "#7201a8"
            ],
            [
             0.3333333333333333,
             "#9c179e"
            ],
            [
             0.4444444444444444,
             "#bd3786"
            ],
            [
             0.5555555555555556,
             "#d8576b"
            ],
            [
             0.6666666666666666,
             "#ed7953"
            ],
            [
             0.7777777777777778,
             "#fb9f3a"
            ],
            [
             0.8888888888888888,
             "#fdca26"
            ],
            [
             1,
             "#f0f921"
            ]
           ],
           "sequentialminus": [
            [
             0,
             "#0d0887"
            ],
            [
             0.1111111111111111,
             "#46039f"
            ],
            [
             0.2222222222222222,
             "#7201a8"
            ],
            [
             0.3333333333333333,
             "#9c179e"
            ],
            [
             0.4444444444444444,
             "#bd3786"
            ],
            [
             0.5555555555555556,
             "#d8576b"
            ],
            [
             0.6666666666666666,
             "#ed7953"
            ],
            [
             0.7777777777777778,
             "#fb9f3a"
            ],
            [
             0.8888888888888888,
             "#fdca26"
            ],
            [
             1,
             "#f0f921"
            ]
           ]
          },
          "colorway": [
           "#636efa",
           "#EF553B",
           "#00cc96",
           "#ab63fa",
           "#FFA15A",
           "#19d3f3",
           "#FF6692",
           "#B6E880",
           "#FF97FF",
           "#FECB52"
          ],
          "font": {
           "color": "#2a3f5f"
          },
          "geo": {
           "bgcolor": "white",
           "lakecolor": "white",
           "landcolor": "#E5ECF6",
           "showlakes": true,
           "showland": true,
           "subunitcolor": "white"
          },
          "hoverlabel": {
           "align": "left"
          },
          "hovermode": "closest",
          "mapbox": {
           "style": "light"
          },
          "paper_bgcolor": "white",
          "plot_bgcolor": "#E5ECF6",
          "polar": {
           "angularaxis": {
            "gridcolor": "white",
            "linecolor": "white",
            "ticks": ""
           },
           "bgcolor": "#E5ECF6",
           "radialaxis": {
            "gridcolor": "white",
            "linecolor": "white",
            "ticks": ""
           }
          },
          "scene": {
           "xaxis": {
            "backgroundcolor": "#E5ECF6",
            "gridcolor": "white",
            "gridwidth": 2,
            "linecolor": "white",
            "showbackground": true,
            "ticks": "",
            "zerolinecolor": "white"
           },
           "yaxis": {
            "backgroundcolor": "#E5ECF6",
            "gridcolor": "white",
            "gridwidth": 2,
            "linecolor": "white",
            "showbackground": true,
            "ticks": "",
            "zerolinecolor": "white"
           },
           "zaxis": {
            "backgroundcolor": "#E5ECF6",
            "gridcolor": "white",
            "gridwidth": 2,
            "linecolor": "white",
            "showbackground": true,
            "ticks": "",
            "zerolinecolor": "white"
           }
          },
          "shapedefaults": {
           "line": {
            "color": "#2a3f5f"
           }
          },
          "ternary": {
           "aaxis": {
            "gridcolor": "white",
            "linecolor": "white",
            "ticks": ""
           },
           "baxis": {
            "gridcolor": "white",
            "linecolor": "white",
            "ticks": ""
           },
           "bgcolor": "#E5ECF6",
           "caxis": {
            "gridcolor": "white",
            "linecolor": "white",
            "ticks": ""
           }
          },
          "title": {
           "x": 0.05
          },
          "xaxis": {
           "automargin": true,
           "gridcolor": "white",
           "linecolor": "white",
           "ticks": "",
           "title": {
            "standoff": 15
           },
           "zerolinecolor": "white",
           "zerolinewidth": 2
          },
          "yaxis": {
           "automargin": true,
           "gridcolor": "white",
           "linecolor": "white",
           "ticks": "",
           "title": {
            "standoff": 15
           },
           "zerolinecolor": "white",
           "zerolinewidth": 2
          }
         }
        },
        "title": {
         "text": "Population covered within 5 minutes walk from station"
        },
        "xaxis": {
         "anchor": "y",
         "categoryorder": "total ascending",
         "domain": [
          0,
          1
         ],
         "title": {
          "text": "Lines"
         }
        },
        "yaxis": {
         "anchor": "x",
         "domain": [
          0,
          1
         ],
         "title": {
          "text": "avg of Population Coverage"
         }
        }
       }
      }
     },
     "metadata": {}
    },
    {
     "output_type": "display_data",
     "data": {
      "application/vnd.plotly.v1+json": {
       "config": {
        "plotlyServerURL": "https://plot.ly"
       },
       "data": [
        {
         "alignmentgroup": "True",
         "bingroup": "x",
         "histfunc": "avg",
         "hovertemplate": "Lines=%{x}<br>avg of Population Coverage=%{y}<extra></extra>",
         "legendgroup": "",
         "marker": {
          "color": "#636efa"
         },
         "name": "",
         "offsetgroup": "",
         "orientation": "v",
         "showlegend": false,
         "type": "histogram",
         "x": [
          "Ampang Line",
          "Ampang Line",
          "Ampang Line",
          "Ampang Line",
          "Ampang Line",
          "Ampang Line",
          "Ampang Line",
          "Ampang Line",
          "Ampang Line",
          "Ampang Line",
          "Ampang Line",
          "Ampang Line",
          "Ampang Line",
          "Ampang Line",
          "Ampang Line",
          "Ampang Line",
          "Ampang Line",
          "Ampang Line",
          "Sri Petaling Line",
          "Sri Petaling Line",
          "Sri Petaling Line",
          "Sri Petaling Line",
          "Sri Petaling Line",
          "Sri Petaling Line",
          "Sri Petaling Line",
          "Sri Petaling Line",
          "Sri Petaling Line",
          "Sri Petaling Line",
          "Sri Petaling Line",
          "Sri Petaling Line",
          "Sri Petaling Line",
          "Sri Petaling Line",
          "Sri Petaling Line",
          "Sri Petaling Line",
          "Sri Petaling Line",
          "Sri Petaling Line",
          "Sri Petaling Line",
          "Sri Petaling Line",
          "Sri Petaling Line",
          "Sri Petaling Line",
          "Sri Petaling Line",
          "Sri Petaling Line",
          "Sri Petaling Line",
          "Sri Petaling Line",
          "Sri Petaling Line",
          "Sri Petaling Line",
          "Sri Petaling Line",
          "Kelana Jaya Line",
          "Kelana Jaya Line",
          "Kelana Jaya Line",
          "Kelana Jaya Line",
          "Kelana Jaya Line",
          "Kelana Jaya Line",
          "Kelana Jaya Line",
          "Kelana Jaya Line",
          "Kelana Jaya Line",
          "Kelana Jaya Line",
          "Kelana Jaya Line",
          "Kelana Jaya Line",
          "Kelana Jaya Line",
          "Kelana Jaya Line",
          "Kelana Jaya Line",
          "Kelana Jaya Line",
          "Kelana Jaya Line",
          "Kelana Jaya Line",
          "Kelana Jaya Line",
          "Kelana Jaya Line",
          "Kelana Jaya Line",
          "Kelana Jaya Line",
          "Kelana Jaya Line",
          "Kelana Jaya Line",
          "Kelana Jaya Line",
          "Kelana Jaya Line",
          "Kelana Jaya Line",
          "Kelana Jaya Line",
          "Kelana Jaya Line",
          "Kelana Jaya Line",
          "Kelana Jaya Line",
          "Kelana Jaya Line",
          "Kelana Jaya Line",
          "Kelana Jaya Line",
          "Kelana Jaya Line",
          "Kelana Jaya Line",
          "Kelana Jaya Line",
          "KL Monorail Line",
          "KL Monorail Line",
          "KL Monorail Line",
          "KL Monorail Line",
          "KL Monorail Line",
          "KL Monorail Line",
          "KL Monorail Line",
          "KL Monorail Line",
          "KL Monorail Line",
          "KL Monorail Line",
          "KL Monorail Line",
          "MRT Sungai Buloh - Kajang Line",
          "MRT Sungai Buloh - Kajang Line",
          "MRT Sungai Buloh - Kajang Line",
          "MRT Sungai Buloh - Kajang Line",
          "MRT Sungai Buloh - Kajang Line",
          "MRT Sungai Buloh - Kajang Line",
          "MRT Sungai Buloh - Kajang Line",
          "MRT Sungai Buloh - Kajang Line",
          "MRT Sungai Buloh - Kajang Line",
          "MRT Sungai Buloh - Kajang Line",
          "MRT Sungai Buloh - Kajang Line",
          "MRT Sungai Buloh - Kajang Line",
          "MRT Sungai Buloh - Kajang Line",
          "MRT Sungai Buloh - Kajang Line",
          "MRT Sungai Buloh - Kajang Line",
          "MRT Sungai Buloh - Kajang Line",
          "MRT Sungai Buloh - Kajang Line",
          "MRT Sungai Buloh - Kajang Line",
          "MRT Sungai Buloh - Kajang Line",
          "MRT Sungai Buloh - Kajang Line",
          "MRT Sungai Buloh - Kajang Line",
          "MRT Sungai Buloh - Kajang Line",
          "MRT Sungai Buloh - Kajang Line",
          "MRT Sungai Buloh - Kajang Line",
          "MRT Sungai Buloh - Kajang Line",
          "MRT Sungai Buloh - Kajang Line",
          "MRT Sungai Buloh - Kajang Line",
          "MRT Sungai Buloh - Kajang Line",
          "MRT Sungai Buloh - Kajang Line",
          "MRT Sungai Buloh - Kajang Line",
          "MRT Sungai Buloh - Kajang Line"
         ],
         "xaxis": "x",
         "y": [
          7026,
          5538,
          9469,
          9825,
          6512,
          7336,
          11040,
          4827,
          9770,
          10245,
          4062,
          5466,
          5818,
          5997,
          18422,
          14299,
          16906,
          10727,
          3172,
          8501,
          11611,
          6304,
          3976,
          7757,
          4011,
          6685,
          3126,
          7573,
          6458,
          6245,
          8803,
          7026,
          5538,
          9469,
          9825,
          6512,
          7336,
          11040,
          4827,
          9770,
          5320,
          1622,
          3842,
          10245,
          4560,
          4712,
          4062,
          330,
          2811,
          4897,
          3823,
          6845,
          3277,
          2834,
          1908,
          6730,
          6507,
          1441,
          1983,
          5847,
          7484,
          9485,
          6345,
          5675,
          3827,
          6724,
          8243,
          4589,
          8212,
          7256,
          8546,
          10902,
          7143,
          8938,
          8767,
          6622,
          16658,
          2793,
          3965,
          4004,
          8665,
          7236,
          6952,
          6105,
          7256,
          5646,
          8470,
          11710,
          9919,
          3958,
          8706,
          6247,
          8111,
          11360,
          12004,
          449,
          2656,
          3703,
          6464,
          1600,
          6857,
          8299,
          2127,
          6347,
          4717,
          7708,
          1441,
          5734,
          8108,
          6831,
          11551,
          6540,
          8978,
          10268,
          11125,
          7458,
          8222,
          4426,
          4819,
          3253,
          5189,
          3917,
          3055,
          4261,
          6229,
          3009
         ],
         "yaxis": "y"
        }
       ],
       "layout": {
        "barmode": "group",
        "legend": {
         "tracegroupgap": 0
        },
        "showlegend": false,
        "template": {
         "data": {
          "bar": [
           {
            "error_x": {
             "color": "#2a3f5f"
            },
            "error_y": {
             "color": "#2a3f5f"
            },
            "marker": {
             "line": {
              "color": "#E5ECF6",
              "width": 0.5
             }
            },
            "type": "bar"
           }
          ],
          "barpolar": [
           {
            "marker": {
             "line": {
              "color": "#E5ECF6",
              "width": 0.5
             }
            },
            "type": "barpolar"
           }
          ],
          "carpet": [
           {
            "aaxis": {
             "endlinecolor": "#2a3f5f",
             "gridcolor": "white",
             "linecolor": "white",
             "minorgridcolor": "white",
             "startlinecolor": "#2a3f5f"
            },
            "baxis": {
             "endlinecolor": "#2a3f5f",
             "gridcolor": "white",
             "linecolor": "white",
             "minorgridcolor": "white",
             "startlinecolor": "#2a3f5f"
            },
            "type": "carpet"
           }
          ],
          "choropleth": [
           {
            "colorbar": {
             "outlinewidth": 0,
             "ticks": ""
            },
            "type": "choropleth"
           }
          ],
          "contour": [
           {
            "colorbar": {
             "outlinewidth": 0,
             "ticks": ""
            },
            "colorscale": [
             [
              0,
              "#0d0887"
             ],
             [
              0.1111111111111111,
              "#46039f"
             ],
             [
              0.2222222222222222,
              "#7201a8"
             ],
             [
              0.3333333333333333,
              "#9c179e"
             ],
             [
              0.4444444444444444,
              "#bd3786"
             ],
             [
              0.5555555555555556,
              "#d8576b"
             ],
             [
              0.6666666666666666,
              "#ed7953"
             ],
             [
              0.7777777777777778,
              "#fb9f3a"
             ],
             [
              0.8888888888888888,
              "#fdca26"
             ],
             [
              1,
              "#f0f921"
             ]
            ],
            "type": "contour"
           }
          ],
          "contourcarpet": [
           {
            "colorbar": {
             "outlinewidth": 0,
             "ticks": ""
            },
            "type": "contourcarpet"
           }
          ],
          "heatmap": [
           {
            "colorbar": {
             "outlinewidth": 0,
             "ticks": ""
            },
            "colorscale": [
             [
              0,
              "#0d0887"
             ],
             [
              0.1111111111111111,
              "#46039f"
             ],
             [
              0.2222222222222222,
              "#7201a8"
             ],
             [
              0.3333333333333333,
              "#9c179e"
             ],
             [
              0.4444444444444444,
              "#bd3786"
             ],
             [
              0.5555555555555556,
              "#d8576b"
             ],
             [
              0.6666666666666666,
              "#ed7953"
             ],
             [
              0.7777777777777778,
              "#fb9f3a"
             ],
             [
              0.8888888888888888,
              "#fdca26"
             ],
             [
              1,
              "#f0f921"
             ]
            ],
            "type": "heatmap"
           }
          ],
          "heatmapgl": [
           {
            "colorbar": {
             "outlinewidth": 0,
             "ticks": ""
            },
            "colorscale": [
             [
              0,
              "#0d0887"
             ],
             [
              0.1111111111111111,
              "#46039f"
             ],
             [
              0.2222222222222222,
              "#7201a8"
             ],
             [
              0.3333333333333333,
              "#9c179e"
             ],
             [
              0.4444444444444444,
              "#bd3786"
             ],
             [
              0.5555555555555556,
              "#d8576b"
             ],
             [
              0.6666666666666666,
              "#ed7953"
             ],
             [
              0.7777777777777778,
              "#fb9f3a"
             ],
             [
              0.8888888888888888,
              "#fdca26"
             ],
             [
              1,
              "#f0f921"
             ]
            ],
            "type": "heatmapgl"
           }
          ],
          "histogram": [
           {
            "marker": {
             "colorbar": {
              "outlinewidth": 0,
              "ticks": ""
             }
            },
            "type": "histogram"
           }
          ],
          "histogram2d": [
           {
            "colorbar": {
             "outlinewidth": 0,
             "ticks": ""
            },
            "colorscale": [
             [
              0,
              "#0d0887"
             ],
             [
              0.1111111111111111,
              "#46039f"
             ],
             [
              0.2222222222222222,
              "#7201a8"
             ],
             [
              0.3333333333333333,
              "#9c179e"
             ],
             [
              0.4444444444444444,
              "#bd3786"
             ],
             [
              0.5555555555555556,
              "#d8576b"
             ],
             [
              0.6666666666666666,
              "#ed7953"
             ],
             [
              0.7777777777777778,
              "#fb9f3a"
             ],
             [
              0.8888888888888888,
              "#fdca26"
             ],
             [
              1,
              "#f0f921"
             ]
            ],
            "type": "histogram2d"
           }
          ],
          "histogram2dcontour": [
           {
            "colorbar": {
             "outlinewidth": 0,
             "ticks": ""
            },
            "colorscale": [
             [
              0,
              "#0d0887"
             ],
             [
              0.1111111111111111,
              "#46039f"
             ],
             [
              0.2222222222222222,
              "#7201a8"
             ],
             [
              0.3333333333333333,
              "#9c179e"
             ],
             [
              0.4444444444444444,
              "#bd3786"
             ],
             [
              0.5555555555555556,
              "#d8576b"
             ],
             [
              0.6666666666666666,
              "#ed7953"
             ],
             [
              0.7777777777777778,
              "#fb9f3a"
             ],
             [
              0.8888888888888888,
              "#fdca26"
             ],
             [
              1,
              "#f0f921"
             ]
            ],
            "type": "histogram2dcontour"
           }
          ],
          "mesh3d": [
           {
            "colorbar": {
             "outlinewidth": 0,
             "ticks": ""
            },
            "type": "mesh3d"
           }
          ],
          "parcoords": [
           {
            "line": {
             "colorbar": {
              "outlinewidth": 0,
              "ticks": ""
             }
            },
            "type": "parcoords"
           }
          ],
          "pie": [
           {
            "automargin": true,
            "type": "pie"
           }
          ],
          "scatter": [
           {
            "marker": {
             "colorbar": {
              "outlinewidth": 0,
              "ticks": ""
             }
            },
            "type": "scatter"
           }
          ],
          "scatter3d": [
           {
            "line": {
             "colorbar": {
              "outlinewidth": 0,
              "ticks": ""
             }
            },
            "marker": {
             "colorbar": {
              "outlinewidth": 0,
              "ticks": ""
             }
            },
            "type": "scatter3d"
           }
          ],
          "scattercarpet": [
           {
            "marker": {
             "colorbar": {
              "outlinewidth": 0,
              "ticks": ""
             }
            },
            "type": "scattercarpet"
           }
          ],
          "scattergeo": [
           {
            "marker": {
             "colorbar": {
              "outlinewidth": 0,
              "ticks": ""
             }
            },
            "type": "scattergeo"
           }
          ],
          "scattergl": [
           {
            "marker": {
             "colorbar": {
              "outlinewidth": 0,
              "ticks": ""
             }
            },
            "type": "scattergl"
           }
          ],
          "scattermapbox": [
           {
            "marker": {
             "colorbar": {
              "outlinewidth": 0,
              "ticks": ""
             }
            },
            "type": "scattermapbox"
           }
          ],
          "scatterpolar": [
           {
            "marker": {
             "colorbar": {
              "outlinewidth": 0,
              "ticks": ""
             }
            },
            "type": "scatterpolar"
           }
          ],
          "scatterpolargl": [
           {
            "marker": {
             "colorbar": {
              "outlinewidth": 0,
              "ticks": ""
             }
            },
            "type": "scatterpolargl"
           }
          ],
          "scatterternary": [
           {
            "marker": {
             "colorbar": {
              "outlinewidth": 0,
              "ticks": ""
             }
            },
            "type": "scatterternary"
           }
          ],
          "surface": [
           {
            "colorbar": {
             "outlinewidth": 0,
             "ticks": ""
            },
            "colorscale": [
             [
              0,
              "#0d0887"
             ],
             [
              0.1111111111111111,
              "#46039f"
             ],
             [
              0.2222222222222222,
              "#7201a8"
             ],
             [
              0.3333333333333333,
              "#9c179e"
             ],
             [
              0.4444444444444444,
              "#bd3786"
             ],
             [
              0.5555555555555556,
              "#d8576b"
             ],
             [
              0.6666666666666666,
              "#ed7953"
             ],
             [
              0.7777777777777778,
              "#fb9f3a"
             ],
             [
              0.8888888888888888,
              "#fdca26"
             ],
             [
              1,
              "#f0f921"
             ]
            ],
            "type": "surface"
           }
          ],
          "table": [
           {
            "cells": {
             "fill": {
              "color": "#EBF0F8"
             },
             "line": {
              "color": "white"
             }
            },
            "header": {
             "fill": {
              "color": "#C8D4E3"
             },
             "line": {
              "color": "white"
             }
            },
            "type": "table"
           }
          ]
         },
         "layout": {
          "annotationdefaults": {
           "arrowcolor": "#2a3f5f",
           "arrowhead": 0,
           "arrowwidth": 1
          },
          "coloraxis": {
           "colorbar": {
            "outlinewidth": 0,
            "ticks": ""
           }
          },
          "colorscale": {
           "diverging": [
            [
             0,
             "#8e0152"
            ],
            [
             0.1,
             "#c51b7d"
            ],
            [
             0.2,
             "#de77ae"
            ],
            [
             0.3,
             "#f1b6da"
            ],
            [
             0.4,
             "#fde0ef"
            ],
            [
             0.5,
             "#f7f7f7"
            ],
            [
             0.6,
             "#e6f5d0"
            ],
            [
             0.7,
             "#b8e186"
            ],
            [
             0.8,
             "#7fbc41"
            ],
            [
             0.9,
             "#4d9221"
            ],
            [
             1,
             "#276419"
            ]
           ],
           "sequential": [
            [
             0,
             "#0d0887"
            ],
            [
             0.1111111111111111,
             "#46039f"
            ],
            [
             0.2222222222222222,
             "#7201a8"
            ],
            [
             0.3333333333333333,
             "#9c179e"
            ],
            [
             0.4444444444444444,
             "#bd3786"
            ],
            [
             0.5555555555555556,
             "#d8576b"
            ],
            [
             0.6666666666666666,
             "#ed7953"
            ],
            [
             0.7777777777777778,
             "#fb9f3a"
            ],
            [
             0.8888888888888888,
             "#fdca26"
            ],
            [
             1,
             "#f0f921"
            ]
           ],
           "sequentialminus": [
            [
             0,
             "#0d0887"
            ],
            [
             0.1111111111111111,
             "#46039f"
            ],
            [
             0.2222222222222222,
             "#7201a8"
            ],
            [
             0.3333333333333333,
             "#9c179e"
            ],
            [
             0.4444444444444444,
             "#bd3786"
            ],
            [
             0.5555555555555556,
             "#d8576b"
            ],
            [
             0.6666666666666666,
             "#ed7953"
            ],
            [
             0.7777777777777778,
             "#fb9f3a"
            ],
            [
             0.8888888888888888,
             "#fdca26"
            ],
            [
             1,
             "#f0f921"
            ]
           ]
          },
          "colorway": [
           "#636efa",
           "#EF553B",
           "#00cc96",
           "#ab63fa",
           "#FFA15A",
           "#19d3f3",
           "#FF6692",
           "#B6E880",
           "#FF97FF",
           "#FECB52"
          ],
          "font": {
           "color": "#2a3f5f"
          },
          "geo": {
           "bgcolor": "white",
           "lakecolor": "white",
           "landcolor": "#E5ECF6",
           "showlakes": true,
           "showland": true,
           "subunitcolor": "white"
          },
          "hoverlabel": {
           "align": "left"
          },
          "hovermode": "closest",
          "mapbox": {
           "style": "light"
          },
          "paper_bgcolor": "white",
          "plot_bgcolor": "#E5ECF6",
          "polar": {
           "angularaxis": {
            "gridcolor": "white",
            "linecolor": "white",
            "ticks": ""
           },
           "bgcolor": "#E5ECF6",
           "radialaxis": {
            "gridcolor": "white",
            "linecolor": "white",
            "ticks": ""
           }
          },
          "scene": {
           "xaxis": {
            "backgroundcolor": "#E5ECF6",
            "gridcolor": "white",
            "gridwidth": 2,
            "linecolor": "white",
            "showbackground": true,
            "ticks": "",
            "zerolinecolor": "white"
           },
           "yaxis": {
            "backgroundcolor": "#E5ECF6",
            "gridcolor": "white",
            "gridwidth": 2,
            "linecolor": "white",
            "showbackground": true,
            "ticks": "",
            "zerolinecolor": "white"
           },
           "zaxis": {
            "backgroundcolor": "#E5ECF6",
            "gridcolor": "white",
            "gridwidth": 2,
            "linecolor": "white",
            "showbackground": true,
            "ticks": "",
            "zerolinecolor": "white"
           }
          },
          "shapedefaults": {
           "line": {
            "color": "#2a3f5f"
           }
          },
          "ternary": {
           "aaxis": {
            "gridcolor": "white",
            "linecolor": "white",
            "ticks": ""
           },
           "baxis": {
            "gridcolor": "white",
            "linecolor": "white",
            "ticks": ""
           },
           "bgcolor": "#E5ECF6",
           "caxis": {
            "gridcolor": "white",
            "linecolor": "white",
            "ticks": ""
           }
          },
          "title": {
           "x": 0.05
          },
          "xaxis": {
           "automargin": true,
           "gridcolor": "white",
           "linecolor": "white",
           "ticks": "",
           "title": {
            "standoff": 15
           },
           "zerolinecolor": "white",
           "zerolinewidth": 2
          },
          "yaxis": {
           "automargin": true,
           "gridcolor": "white",
           "linecolor": "white",
           "ticks": "",
           "title": {
            "standoff": 15
           },
           "zerolinecolor": "white",
           "zerolinewidth": 2
          }
         }
        },
        "title": {
         "text": "Population coverage within 10 minutes walk from station"
        },
        "xaxis": {
         "anchor": "y",
         "categoryorder": "total ascending",
         "domain": [
          0,
          1
         ],
         "title": {
          "text": "Lines"
         }
        },
        "yaxis": {
         "anchor": "x",
         "domain": [
          0,
          1
         ],
         "title": {
          "text": "avg of Population Coverage"
         }
        }
       }
      }
     },
     "metadata": {}
    },
    {
     "output_type": "display_data",
     "data": {
      "application/vnd.plotly.v1+json": {
       "config": {
        "plotlyServerURL": "https://plot.ly"
       },
       "data": [
        {
         "alignmentgroup": "True",
         "bingroup": "x",
         "histfunc": "avg",
         "hovertemplate": "Lines=%{x}<br>avg of Population Coverage=%{y}<extra></extra>",
         "legendgroup": "",
         "marker": {
          "color": "#636efa"
         },
         "name": "",
         "offsetgroup": "",
         "orientation": "v",
         "showlegend": false,
         "type": "histogram",
         "x": [
          "Ampang Line",
          "Ampang Line",
          "Ampang Line",
          "Ampang Line",
          "Ampang Line",
          "Ampang Line",
          "Ampang Line",
          "Ampang Line",
          "Ampang Line",
          "Ampang Line",
          "Ampang Line",
          "Ampang Line",
          "Ampang Line",
          "Ampang Line",
          "Ampang Line",
          "Ampang Line",
          "Ampang Line",
          "Ampang Line",
          "Sri Petaling Line",
          "Sri Petaling Line",
          "Sri Petaling Line",
          "Sri Petaling Line",
          "Sri Petaling Line",
          "Sri Petaling Line",
          "Sri Petaling Line",
          "Sri Petaling Line",
          "Sri Petaling Line",
          "Sri Petaling Line",
          "Sri Petaling Line",
          "Sri Petaling Line",
          "Sri Petaling Line",
          "Sri Petaling Line",
          "Sri Petaling Line",
          "Sri Petaling Line",
          "Sri Petaling Line",
          "Sri Petaling Line",
          "Sri Petaling Line",
          "Sri Petaling Line",
          "Sri Petaling Line",
          "Sri Petaling Line",
          "Sri Petaling Line",
          "Sri Petaling Line",
          "Sri Petaling Line",
          "Sri Petaling Line",
          "Sri Petaling Line",
          "Sri Petaling Line",
          "Sri Petaling Line",
          "Kelana Jaya Line",
          "Kelana Jaya Line",
          "Kelana Jaya Line",
          "Kelana Jaya Line",
          "Kelana Jaya Line",
          "Kelana Jaya Line",
          "Kelana Jaya Line",
          "Kelana Jaya Line",
          "Kelana Jaya Line",
          "Kelana Jaya Line",
          "Kelana Jaya Line",
          "Kelana Jaya Line",
          "Kelana Jaya Line",
          "Kelana Jaya Line",
          "Kelana Jaya Line",
          "Kelana Jaya Line",
          "Kelana Jaya Line",
          "Kelana Jaya Line",
          "Kelana Jaya Line",
          "Kelana Jaya Line",
          "Kelana Jaya Line",
          "Kelana Jaya Line",
          "Kelana Jaya Line",
          "Kelana Jaya Line",
          "Kelana Jaya Line",
          "Kelana Jaya Line",
          "Kelana Jaya Line",
          "Kelana Jaya Line",
          "Kelana Jaya Line",
          "Kelana Jaya Line",
          "Kelana Jaya Line",
          "Kelana Jaya Line",
          "Kelana Jaya Line",
          "Kelana Jaya Line",
          "Kelana Jaya Line",
          "Kelana Jaya Line",
          "Kelana Jaya Line",
          "KL Monorail Line",
          "KL Monorail Line",
          "KL Monorail Line",
          "KL Monorail Line",
          "KL Monorail Line",
          "KL Monorail Line",
          "KL Monorail Line",
          "KL Monorail Line",
          "KL Monorail Line",
          "KL Monorail Line",
          "KL Monorail Line",
          "MRT Sungai Buloh - Kajang Line",
          "MRT Sungai Buloh - Kajang Line",
          "MRT Sungai Buloh - Kajang Line",
          "MRT Sungai Buloh - Kajang Line",
          "MRT Sungai Buloh - Kajang Line",
          "MRT Sungai Buloh - Kajang Line",
          "MRT Sungai Buloh - Kajang Line",
          "MRT Sungai Buloh - Kajang Line",
          "MRT Sungai Buloh - Kajang Line",
          "MRT Sungai Buloh - Kajang Line",
          "MRT Sungai Buloh - Kajang Line",
          "MRT Sungai Buloh - Kajang Line",
          "MRT Sungai Buloh - Kajang Line",
          "MRT Sungai Buloh - Kajang Line",
          "MRT Sungai Buloh - Kajang Line",
          "MRT Sungai Buloh - Kajang Line",
          "MRT Sungai Buloh - Kajang Line",
          "MRT Sungai Buloh - Kajang Line",
          "MRT Sungai Buloh - Kajang Line",
          "MRT Sungai Buloh - Kajang Line",
          "MRT Sungai Buloh - Kajang Line",
          "MRT Sungai Buloh - Kajang Line",
          "MRT Sungai Buloh - Kajang Line",
          "MRT Sungai Buloh - Kajang Line",
          "MRT Sungai Buloh - Kajang Line",
          "MRT Sungai Buloh - Kajang Line",
          "MRT Sungai Buloh - Kajang Line",
          "MRT Sungai Buloh - Kajang Line",
          "MRT Sungai Buloh - Kajang Line",
          "MRT Sungai Buloh - Kajang Line",
          "MRT Sungai Buloh - Kajang Line"
         ],
         "xaxis": "x",
         "y": [
          16752,
          13620,
          19064,
          23762,
          16646,
          17389,
          23193,
          14708,
          20020,
          23074,
          13484,
          13151,
          19323,
          15618,
          37614,
          36095,
          38349,
          31269,
          7872,
          15335,
          24087,
          11681,
          8194,
          16941,
          10067,
          16452,
          8383,
          13709,
          11936,
          13486,
          16488,
          16752,
          13620,
          19064,
          23762,
          16646,
          17389,
          23193,
          14708,
          20020,
          9081,
          2351,
          10549,
          23074,
          7850,
          9388,
          13484,
          3851,
          5839,
          10618,
          8452,
          14705,
          8876,
          6087,
          6042,
          15830,
          14043,
          5505,
          6924,
          15199,
          17824,
          19787,
          15400,
          13718,
          11175,
          13333,
          17808,
          11196,
          19288,
          16615,
          18742,
          22081,
          17416,
          18670,
          19671,
          16796,
          34491,
          9569,
          12627,
          14262,
          20697,
          19950,
          19024,
          18691,
          16615,
          14362,
          21109,
          24494,
          19886,
          13857,
          20371,
          18441,
          21682,
          23588,
          24045,
          3516,
          4173,
          10324,
          13186,
          5704,
          13699,
          17162,
          7926,
          14286,
          9356,
          15108,
          3292,
          12436,
          17116,
          15693,
          22470,
          14973,
          21212,
          21574,
          22375,
          19963,
          20399,
          9573,
          9061,
          6926,
          10677,
          7776,
          7735,
          11198,
          15349,
          5159
         ],
         "yaxis": "y"
        }
       ],
       "layout": {
        "barmode": "group",
        "legend": {
         "tracegroupgap": 0
        },
        "showlegend": false,
        "template": {
         "data": {
          "bar": [
           {
            "error_x": {
             "color": "#2a3f5f"
            },
            "error_y": {
             "color": "#2a3f5f"
            },
            "marker": {
             "line": {
              "color": "#E5ECF6",
              "width": 0.5
             }
            },
            "type": "bar"
           }
          ],
          "barpolar": [
           {
            "marker": {
             "line": {
              "color": "#E5ECF6",
              "width": 0.5
             }
            },
            "type": "barpolar"
           }
          ],
          "carpet": [
           {
            "aaxis": {
             "endlinecolor": "#2a3f5f",
             "gridcolor": "white",
             "linecolor": "white",
             "minorgridcolor": "white",
             "startlinecolor": "#2a3f5f"
            },
            "baxis": {
             "endlinecolor": "#2a3f5f",
             "gridcolor": "white",
             "linecolor": "white",
             "minorgridcolor": "white",
             "startlinecolor": "#2a3f5f"
            },
            "type": "carpet"
           }
          ],
          "choropleth": [
           {
            "colorbar": {
             "outlinewidth": 0,
             "ticks": ""
            },
            "type": "choropleth"
           }
          ],
          "contour": [
           {
            "colorbar": {
             "outlinewidth": 0,
             "ticks": ""
            },
            "colorscale": [
             [
              0,
              "#0d0887"
             ],
             [
              0.1111111111111111,
              "#46039f"
             ],
             [
              0.2222222222222222,
              "#7201a8"
             ],
             [
              0.3333333333333333,
              "#9c179e"
             ],
             [
              0.4444444444444444,
              "#bd3786"
             ],
             [
              0.5555555555555556,
              "#d8576b"
             ],
             [
              0.6666666666666666,
              "#ed7953"
             ],
             [
              0.7777777777777778,
              "#fb9f3a"
             ],
             [
              0.8888888888888888,
              "#fdca26"
             ],
             [
              1,
              "#f0f921"
             ]
            ],
            "type": "contour"
           }
          ],
          "contourcarpet": [
           {
            "colorbar": {
             "outlinewidth": 0,
             "ticks": ""
            },
            "type": "contourcarpet"
           }
          ],
          "heatmap": [
           {
            "colorbar": {
             "outlinewidth": 0,
             "ticks": ""
            },
            "colorscale": [
             [
              0,
              "#0d0887"
             ],
             [
              0.1111111111111111,
              "#46039f"
             ],
             [
              0.2222222222222222,
              "#7201a8"
             ],
             [
              0.3333333333333333,
              "#9c179e"
             ],
             [
              0.4444444444444444,
              "#bd3786"
             ],
             [
              0.5555555555555556,
              "#d8576b"
             ],
             [
              0.6666666666666666,
              "#ed7953"
             ],
             [
              0.7777777777777778,
              "#fb9f3a"
             ],
             [
              0.8888888888888888,
              "#fdca26"
             ],
             [
              1,
              "#f0f921"
             ]
            ],
            "type": "heatmap"
           }
          ],
          "heatmapgl": [
           {
            "colorbar": {
             "outlinewidth": 0,
             "ticks": ""
            },
            "colorscale": [
             [
              0,
              "#0d0887"
             ],
             [
              0.1111111111111111,
              "#46039f"
             ],
             [
              0.2222222222222222,
              "#7201a8"
             ],
             [
              0.3333333333333333,
              "#9c179e"
             ],
             [
              0.4444444444444444,
              "#bd3786"
             ],
             [
              0.5555555555555556,
              "#d8576b"
             ],
             [
              0.6666666666666666,
              "#ed7953"
             ],
             [
              0.7777777777777778,
              "#fb9f3a"
             ],
             [
              0.8888888888888888,
              "#fdca26"
             ],
             [
              1,
              "#f0f921"
             ]
            ],
            "type": "heatmapgl"
           }
          ],
          "histogram": [
           {
            "marker": {
             "colorbar": {
              "outlinewidth": 0,
              "ticks": ""
             }
            },
            "type": "histogram"
           }
          ],
          "histogram2d": [
           {
            "colorbar": {
             "outlinewidth": 0,
             "ticks": ""
            },
            "colorscale": [
             [
              0,
              "#0d0887"
             ],
             [
              0.1111111111111111,
              "#46039f"
             ],
             [
              0.2222222222222222,
              "#7201a8"
             ],
             [
              0.3333333333333333,
              "#9c179e"
             ],
             [
              0.4444444444444444,
              "#bd3786"
             ],
             [
              0.5555555555555556,
              "#d8576b"
             ],
             [
              0.6666666666666666,
              "#ed7953"
             ],
             [
              0.7777777777777778,
              "#fb9f3a"
             ],
             [
              0.8888888888888888,
              "#fdca26"
             ],
             [
              1,
              "#f0f921"
             ]
            ],
            "type": "histogram2d"
           }
          ],
          "histogram2dcontour": [
           {
            "colorbar": {
             "outlinewidth": 0,
             "ticks": ""
            },
            "colorscale": [
             [
              0,
              "#0d0887"
             ],
             [
              0.1111111111111111,
              "#46039f"
             ],
             [
              0.2222222222222222,
              "#7201a8"
             ],
             [
              0.3333333333333333,
              "#9c179e"
             ],
             [
              0.4444444444444444,
              "#bd3786"
             ],
             [
              0.5555555555555556,
              "#d8576b"
             ],
             [
              0.6666666666666666,
              "#ed7953"
             ],
             [
              0.7777777777777778,
              "#fb9f3a"
             ],
             [
              0.8888888888888888,
              "#fdca26"
             ],
             [
              1,
              "#f0f921"
             ]
            ],
            "type": "histogram2dcontour"
           }
          ],
          "mesh3d": [
           {
            "colorbar": {
             "outlinewidth": 0,
             "ticks": ""
            },
            "type": "mesh3d"
           }
          ],
          "parcoords": [
           {
            "line": {
             "colorbar": {
              "outlinewidth": 0,
              "ticks": ""
             }
            },
            "type": "parcoords"
           }
          ],
          "pie": [
           {
            "automargin": true,
            "type": "pie"
           }
          ],
          "scatter": [
           {
            "marker": {
             "colorbar": {
              "outlinewidth": 0,
              "ticks": ""
             }
            },
            "type": "scatter"
           }
          ],
          "scatter3d": [
           {
            "line": {
             "colorbar": {
              "outlinewidth": 0,
              "ticks": ""
             }
            },
            "marker": {
             "colorbar": {
              "outlinewidth": 0,
              "ticks": ""
             }
            },
            "type": "scatter3d"
           }
          ],
          "scattercarpet": [
           {
            "marker": {
             "colorbar": {
              "outlinewidth": 0,
              "ticks": ""
             }
            },
            "type": "scattercarpet"
           }
          ],
          "scattergeo": [
           {
            "marker": {
             "colorbar": {
              "outlinewidth": 0,
              "ticks": ""
             }
            },
            "type": "scattergeo"
           }
          ],
          "scattergl": [
           {
            "marker": {
             "colorbar": {
              "outlinewidth": 0,
              "ticks": ""
             }
            },
            "type": "scattergl"
           }
          ],
          "scattermapbox": [
           {
            "marker": {
             "colorbar": {
              "outlinewidth": 0,
              "ticks": ""
             }
            },
            "type": "scattermapbox"
           }
          ],
          "scatterpolar": [
           {
            "marker": {
             "colorbar": {
              "outlinewidth": 0,
              "ticks": ""
             }
            },
            "type": "scatterpolar"
           }
          ],
          "scatterpolargl": [
           {
            "marker": {
             "colorbar": {
              "outlinewidth": 0,
              "ticks": ""
             }
            },
            "type": "scatterpolargl"
           }
          ],
          "scatterternary": [
           {
            "marker": {
             "colorbar": {
              "outlinewidth": 0,
              "ticks": ""
             }
            },
            "type": "scatterternary"
           }
          ],
          "surface": [
           {
            "colorbar": {
             "outlinewidth": 0,
             "ticks": ""
            },
            "colorscale": [
             [
              0,
              "#0d0887"
             ],
             [
              0.1111111111111111,
              "#46039f"
             ],
             [
              0.2222222222222222,
              "#7201a8"
             ],
             [
              0.3333333333333333,
              "#9c179e"
             ],
             [
              0.4444444444444444,
              "#bd3786"
             ],
             [
              0.5555555555555556,
              "#d8576b"
             ],
             [
              0.6666666666666666,
              "#ed7953"
             ],
             [
              0.7777777777777778,
              "#fb9f3a"
             ],
             [
              0.8888888888888888,
              "#fdca26"
             ],
             [
              1,
              "#f0f921"
             ]
            ],
            "type": "surface"
           }
          ],
          "table": [
           {
            "cells": {
             "fill": {
              "color": "#EBF0F8"
             },
             "line": {
              "color": "white"
             }
            },
            "header": {
             "fill": {
              "color": "#C8D4E3"
             },
             "line": {
              "color": "white"
             }
            },
            "type": "table"
           }
          ]
         },
         "layout": {
          "annotationdefaults": {
           "arrowcolor": "#2a3f5f",
           "arrowhead": 0,
           "arrowwidth": 1
          },
          "coloraxis": {
           "colorbar": {
            "outlinewidth": 0,
            "ticks": ""
           }
          },
          "colorscale": {
           "diverging": [
            [
             0,
             "#8e0152"
            ],
            [
             0.1,
             "#c51b7d"
            ],
            [
             0.2,
             "#de77ae"
            ],
            [
             0.3,
             "#f1b6da"
            ],
            [
             0.4,
             "#fde0ef"
            ],
            [
             0.5,
             "#f7f7f7"
            ],
            [
             0.6,
             "#e6f5d0"
            ],
            [
             0.7,
             "#b8e186"
            ],
            [
             0.8,
             "#7fbc41"
            ],
            [
             0.9,
             "#4d9221"
            ],
            [
             1,
             "#276419"
            ]
           ],
           "sequential": [
            [
             0,
             "#0d0887"
            ],
            [
             0.1111111111111111,
             "#46039f"
            ],
            [
             0.2222222222222222,
             "#7201a8"
            ],
            [
             0.3333333333333333,
             "#9c179e"
            ],
            [
             0.4444444444444444,
             "#bd3786"
            ],
            [
             0.5555555555555556,
             "#d8576b"
            ],
            [
             0.6666666666666666,
             "#ed7953"
            ],
            [
             0.7777777777777778,
             "#fb9f3a"
            ],
            [
             0.8888888888888888,
             "#fdca26"
            ],
            [
             1,
             "#f0f921"
            ]
           ],
           "sequentialminus": [
            [
             0,
             "#0d0887"
            ],
            [
             0.1111111111111111,
             "#46039f"
            ],
            [
             0.2222222222222222,
             "#7201a8"
            ],
            [
             0.3333333333333333,
             "#9c179e"
            ],
            [
             0.4444444444444444,
             "#bd3786"
            ],
            [
             0.5555555555555556,
             "#d8576b"
            ],
            [
             0.6666666666666666,
             "#ed7953"
            ],
            [
             0.7777777777777778,
             "#fb9f3a"
            ],
            [
             0.8888888888888888,
             "#fdca26"
            ],
            [
             1,
             "#f0f921"
            ]
           ]
          },
          "colorway": [
           "#636efa",
           "#EF553B",
           "#00cc96",
           "#ab63fa",
           "#FFA15A",
           "#19d3f3",
           "#FF6692",
           "#B6E880",
           "#FF97FF",
           "#FECB52"
          ],
          "font": {
           "color": "#2a3f5f"
          },
          "geo": {
           "bgcolor": "white",
           "lakecolor": "white",
           "landcolor": "#E5ECF6",
           "showlakes": true,
           "showland": true,
           "subunitcolor": "white"
          },
          "hoverlabel": {
           "align": "left"
          },
          "hovermode": "closest",
          "mapbox": {
           "style": "light"
          },
          "paper_bgcolor": "white",
          "plot_bgcolor": "#E5ECF6",
          "polar": {
           "angularaxis": {
            "gridcolor": "white",
            "linecolor": "white",
            "ticks": ""
           },
           "bgcolor": "#E5ECF6",
           "radialaxis": {
            "gridcolor": "white",
            "linecolor": "white",
            "ticks": ""
           }
          },
          "scene": {
           "xaxis": {
            "backgroundcolor": "#E5ECF6",
            "gridcolor": "white",
            "gridwidth": 2,
            "linecolor": "white",
            "showbackground": true,
            "ticks": "",
            "zerolinecolor": "white"
           },
           "yaxis": {
            "backgroundcolor": "#E5ECF6",
            "gridcolor": "white",
            "gridwidth": 2,
            "linecolor": "white",
            "showbackground": true,
            "ticks": "",
            "zerolinecolor": "white"
           },
           "zaxis": {
            "backgroundcolor": "#E5ECF6",
            "gridcolor": "white",
            "gridwidth": 2,
            "linecolor": "white",
            "showbackground": true,
            "ticks": "",
            "zerolinecolor": "white"
           }
          },
          "shapedefaults": {
           "line": {
            "color": "#2a3f5f"
           }
          },
          "ternary": {
           "aaxis": {
            "gridcolor": "white",
            "linecolor": "white",
            "ticks": ""
           },
           "baxis": {
            "gridcolor": "white",
            "linecolor": "white",
            "ticks": ""
           },
           "bgcolor": "#E5ECF6",
           "caxis": {
            "gridcolor": "white",
            "linecolor": "white",
            "ticks": ""
           }
          },
          "title": {
           "x": 0.05
          },
          "xaxis": {
           "automargin": true,
           "gridcolor": "white",
           "linecolor": "white",
           "ticks": "",
           "title": {
            "standoff": 15
           },
           "zerolinecolor": "white",
           "zerolinewidth": 2
          },
          "yaxis": {
           "automargin": true,
           "gridcolor": "white",
           "linecolor": "white",
           "ticks": "",
           "title": {
            "standoff": 15
           },
           "zerolinecolor": "white",
           "zerolinewidth": 2
          }
         }
        },
        "title": {
         "text": "Population coverage within 15 minutes walk from station"
        },
        "xaxis": {
         "anchor": "y",
         "categoryorder": "total ascending",
         "domain": [
          0,
          1
         ],
         "title": {
          "text": "Lines"
         }
        },
        "yaxis": {
         "anchor": "x",
         "domain": [
          0,
          1
         ],
         "title": {
          "text": "avg of Population Coverage"
         }
        }
       }
      }
     },
     "metadata": {}
    },
    {
     "output_type": "display_data",
     "data": {
      "application/vnd.plotly.v1+json": {
       "config": {
        "plotlyServerURL": "https://plot.ly"
       },
       "data": [
        {
         "alignmentgroup": "True",
         "bingroup": "x",
         "histfunc": "avg",
         "hovertemplate": "variable=5 Minute Population<br>Lines=%{x}<br>avg of Population Coverage=%{y}<extra></extra>",
         "legendgroup": "5 Minute Population",
         "marker": {
          "color": "#636efa"
         },
         "name": "5 Minute Population",
         "offsetgroup": "5 Minute Population",
         "orientation": "v",
         "showlegend": true,
         "type": "histogram",
         "x": [
          "Seremban Line",
          "Seremban Line",
          "Seremban Line",
          "Seremban Line",
          "Seremban Line",
          "Seremban Line",
          "Seremban Line",
          "Seremban Line",
          "Seremban Line",
          "Seremban Line",
          "Seremban Line",
          "Seremban Line",
          "Seremban Line",
          "Seremban Line",
          "Seremban Line",
          "Seremban Line",
          "Seremban Line",
          "Seremban Line",
          "Seremban Line",
          "Seremban Line",
          "Seremban Line",
          "Seremban Line",
          "Seremban Line",
          "Seremban Line",
          "Seremban Line",
          "Seremban Line",
          "Port Klang Line",
          "Port Klang Line",
          "Port Klang Line",
          "Port Klang Line",
          "Port Klang Line",
          "Port Klang Line",
          "Port Klang Line",
          "Port Klang Line",
          "Port Klang Line",
          "Port Klang Line",
          "Port Klang Line",
          "Port Klang Line",
          "Port Klang Line",
          "Port Klang Line",
          "Port Klang Line",
          "Port Klang Line",
          "Port Klang Line",
          "Port Klang Line",
          "Port Klang Line",
          "Port Klang Line",
          "Port Klang Line",
          "Port Klang Line",
          "Port Klang Line",
          "Port Klang Line",
          "Port Klang Line",
          "Port Klang Line",
          "Port Klang Line",
          "Port Klang Line",
          "Port Klang Line",
          "Port Klang Line",
          "Port Klang Line",
          "Port Klang Line",
          "Port Klang Line",
          "Port Klang Line",
          "Ampang Line",
          "Ampang Line",
          "Ampang Line",
          "Ampang Line",
          "Ampang Line",
          "Ampang Line",
          "Ampang Line",
          "Ampang Line",
          "Ampang Line",
          "Ampang Line",
          "Ampang Line",
          "Ampang Line",
          "Ampang Line",
          "Ampang Line",
          "Ampang Line",
          "Ampang Line",
          "Ampang Line",
          "Ampang Line",
          "Sri Petaling Line",
          "Sri Petaling Line",
          "Sri Petaling Line",
          "Sri Petaling Line",
          "Sri Petaling Line",
          "Sri Petaling Line",
          "Sri Petaling Line",
          "Sri Petaling Line",
          "Sri Petaling Line",
          "Sri Petaling Line",
          "Sri Petaling Line",
          "Sri Petaling Line",
          "Sri Petaling Line",
          "Sri Petaling Line",
          "Sri Petaling Line",
          "Sri Petaling Line",
          "Sri Petaling Line",
          "Sri Petaling Line",
          "Sri Petaling Line",
          "Sri Petaling Line",
          "Sri Petaling Line",
          "Sri Petaling Line",
          "Sri Petaling Line",
          "Sri Petaling Line",
          "Sri Petaling Line",
          "Sri Petaling Line",
          "Sri Petaling Line",
          "Sri Petaling Line",
          "Sri Petaling Line",
          "Kelana Jaya Line",
          "Kelana Jaya Line",
          "Kelana Jaya Line",
          "Kelana Jaya Line",
          "Kelana Jaya Line",
          "Kelana Jaya Line",
          "Kelana Jaya Line",
          "Kelana Jaya Line",
          "Kelana Jaya Line",
          "Kelana Jaya Line",
          "Kelana Jaya Line",
          "Kelana Jaya Line",
          "Kelana Jaya Line",
          "Kelana Jaya Line",
          "Kelana Jaya Line",
          "Kelana Jaya Line",
          "Kelana Jaya Line",
          "Kelana Jaya Line",
          "Kelana Jaya Line",
          "Kelana Jaya Line",
          "Kelana Jaya Line",
          "Kelana Jaya Line",
          "Kelana Jaya Line",
          "Kelana Jaya Line",
          "Kelana Jaya Line",
          "Kelana Jaya Line",
          "Kelana Jaya Line",
          "Kelana Jaya Line",
          "Kelana Jaya Line",
          "Kelana Jaya Line",
          "Kelana Jaya Line",
          "Kelana Jaya Line",
          "Kelana Jaya Line",
          "Kelana Jaya Line",
          "Kelana Jaya Line",
          "Kelana Jaya Line",
          "Kelana Jaya Line",
          "KLIA Ekspres",
          "KLIA Ekspres",
          "KLIA Ekspres",
          "KLIA Transit",
          "KLIA Transit",
          "KLIA Transit",
          "KLIA Transit",
          "KLIA Transit",
          "KLIA Transit",
          "KL Monorail Line",
          "KL Monorail Line",
          "KL Monorail Line",
          "KL Monorail Line",
          "KL Monorail Line",
          "KL Monorail Line",
          "KL Monorail Line",
          "KL Monorail Line",
          "KL Monorail Line",
          "KL Monorail Line",
          "KL Monorail Line",
          "MRT Sungai Buloh - Kajang Line",
          "MRT Sungai Buloh - Kajang Line",
          "MRT Sungai Buloh - Kajang Line",
          "MRT Sungai Buloh - Kajang Line",
          "MRT Sungai Buloh - Kajang Line",
          "MRT Sungai Buloh - Kajang Line",
          "MRT Sungai Buloh - Kajang Line",
          "MRT Sungai Buloh - Kajang Line",
          "MRT Sungai Buloh - Kajang Line",
          "MRT Sungai Buloh - Kajang Line",
          "MRT Sungai Buloh - Kajang Line",
          "MRT Sungai Buloh - Kajang Line",
          "MRT Sungai Buloh - Kajang Line",
          "MRT Sungai Buloh - Kajang Line",
          "MRT Sungai Buloh - Kajang Line",
          "MRT Sungai Buloh - Kajang Line",
          "MRT Sungai Buloh - Kajang Line",
          "MRT Sungai Buloh - Kajang Line",
          "MRT Sungai Buloh - Kajang Line",
          "MRT Sungai Buloh - Kajang Line",
          "MRT Sungai Buloh - Kajang Line",
          "MRT Sungai Buloh - Kajang Line",
          "MRT Sungai Buloh - Kajang Line",
          "MRT Sungai Buloh - Kajang Line",
          "MRT Sungai Buloh - Kajang Line",
          "MRT Sungai Buloh - Kajang Line",
          "MRT Sungai Buloh - Kajang Line",
          "MRT Sungai Buloh - Kajang Line",
          "MRT Sungai Buloh - Kajang Line",
          "MRT Sungai Buloh - Kajang Line",
          "MRT Sungai Buloh - Kajang Line",
          "Skypark Link",
          "Skypark Link",
          "Skypark Link",
          "BRT Sunway Line",
          "BRT Sunway Line",
          "BRT Sunway Line",
          "BRT Sunway Line",
          "BRT Sunway Line",
          "BRT Sunway Line",
          "BRT Sunway Line"
         ],
         "xaxis": "x",
         "y": [
          2054,
          1021,
          2211,
          1540,
          1335,
          1898,
          1258,
          709,
          1770,
          1767,
          1936,
          1718,
          508,
          92,
          772,
          1294,
          338,
          425,
          284,
          106,
          665,
          263,
          216,
          216,
          183,
          1811,
          695,
          190,
          546,
          813,
          1336,
          0,
          336,
          534,
          446,
          661,
          258,
          615,
          205,
          397,
          297,
          1316,
          120,
          1858,
          0,
          2034,
          408,
          1013,
          142,
          145,
          894,
          1122,
          1327,
          2115,
          494,
          0,
          709,
          1770,
          1739,
          1811,
          1359,
          1273,
          2717,
          3121,
          1245,
          1160,
          2176,
          903,
          2208,
          2678,
          453,
          1019,
          891,
          1668,
          3536,
          4477,
          2675,
          1772,
          978,
          2419,
          3412,
          3031,
          1954,
          2036,
          1018,
          1018,
          1018,
          2840,
          573,
          1526,
          2509,
          1359,
          1273,
          2717,
          3121,
          1245,
          1160,
          2176,
          903,
          2208,
          1876,
          534,
          1718,
          2678,
          1543,
          1784,
          453,
          330,
          661,
          978,
          661,
          659,
          331,
          490,
          297,
          1617,
          1650,
          179,
          331,
          1654,
          1515,
          1742,
          1063,
          960,
          1251,
          1452,
          1827,
          494,
          2549,
          1811,
          1759,
          2628,
          1275,
          1811,
          1788,
          1714,
          3313,
          194,
          906,
          0,
          1992,
          1872,
          2004,
          686,
          40,
          0,
          1811,
          787,
          40,
          0,
          1718,
          156,
          1811,
          1811,
          1781,
          1359,
          2249,
          2237,
          885,
          1951,
          1170,
          1669,
          3170,
          3623,
          130,
          636,
          265,
          1492,
          397,
          1258,
          1678,
          427,
          1366,
          1460,
          1878,
          0,
          1300,
          1759,
          1648,
          3623,
          1754,
          1966,
          1762,
          3075,
          2065,
          1033,
          1528,
          1314,
          419,
          2076,
          876,
          438,
          931,
          1310,
          1006,
          427,
          297,
          1811,
          1654,
          1323,
          1743,
          1781,
          1647,
          1601,
          1316
         ],
         "yaxis": "y"
        },
        {
         "alignmentgroup": "True",
         "bingroup": "x",
         "histfunc": "avg",
         "hovertemplate": "variable=10 Minute Population<br>Lines=%{x}<br>avg of Population Coverage=%{y}<extra></extra>",
         "legendgroup": "10 Minute Population",
         "marker": {
          "color": "#EF553B"
         },
         "name": "10 Minute Population",
         "offsetgroup": "10 Minute Population",
         "orientation": "v",
         "showlegend": true,
         "type": "histogram",
         "x": [
          "Seremban Line",
          "Seremban Line",
          "Seremban Line",
          "Seremban Line",
          "Seremban Line",
          "Seremban Line",
          "Seremban Line",
          "Seremban Line",
          "Seremban Line",
          "Seremban Line",
          "Seremban Line",
          "Seremban Line",
          "Seremban Line",
          "Seremban Line",
          "Seremban Line",
          "Seremban Line",
          "Seremban Line",
          "Seremban Line",
          "Seremban Line",
          "Seremban Line",
          "Seremban Line",
          "Seremban Line",
          "Seremban Line",
          "Seremban Line",
          "Seremban Line",
          "Seremban Line",
          "Port Klang Line",
          "Port Klang Line",
          "Port Klang Line",
          "Port Klang Line",
          "Port Klang Line",
          "Port Klang Line",
          "Port Klang Line",
          "Port Klang Line",
          "Port Klang Line",
          "Port Klang Line",
          "Port Klang Line",
          "Port Klang Line",
          "Port Klang Line",
          "Port Klang Line",
          "Port Klang Line",
          "Port Klang Line",
          "Port Klang Line",
          "Port Klang Line",
          "Port Klang Line",
          "Port Klang Line",
          "Port Klang Line",
          "Port Klang Line",
          "Port Klang Line",
          "Port Klang Line",
          "Port Klang Line",
          "Port Klang Line",
          "Port Klang Line",
          "Port Klang Line",
          "Port Klang Line",
          "Port Klang Line",
          "Port Klang Line",
          "Port Klang Line",
          "Port Klang Line",
          "Port Klang Line",
          "Ampang Line",
          "Ampang Line",
          "Ampang Line",
          "Ampang Line",
          "Ampang Line",
          "Ampang Line",
          "Ampang Line",
          "Ampang Line",
          "Ampang Line",
          "Ampang Line",
          "Ampang Line",
          "Ampang Line",
          "Ampang Line",
          "Ampang Line",
          "Ampang Line",
          "Ampang Line",
          "Ampang Line",
          "Ampang Line",
          "Sri Petaling Line",
          "Sri Petaling Line",
          "Sri Petaling Line",
          "Sri Petaling Line",
          "Sri Petaling Line",
          "Sri Petaling Line",
          "Sri Petaling Line",
          "Sri Petaling Line",
          "Sri Petaling Line",
          "Sri Petaling Line",
          "Sri Petaling Line",
          "Sri Petaling Line",
          "Sri Petaling Line",
          "Sri Petaling Line",
          "Sri Petaling Line",
          "Sri Petaling Line",
          "Sri Petaling Line",
          "Sri Petaling Line",
          "Sri Petaling Line",
          "Sri Petaling Line",
          "Sri Petaling Line",
          "Sri Petaling Line",
          "Sri Petaling Line",
          "Sri Petaling Line",
          "Sri Petaling Line",
          "Sri Petaling Line",
          "Sri Petaling Line",
          "Sri Petaling Line",
          "Sri Petaling Line",
          "Kelana Jaya Line",
          "Kelana Jaya Line",
          "Kelana Jaya Line",
          "Kelana Jaya Line",
          "Kelana Jaya Line",
          "Kelana Jaya Line",
          "Kelana Jaya Line",
          "Kelana Jaya Line",
          "Kelana Jaya Line",
          "Kelana Jaya Line",
          "Kelana Jaya Line",
          "Kelana Jaya Line",
          "Kelana Jaya Line",
          "Kelana Jaya Line",
          "Kelana Jaya Line",
          "Kelana Jaya Line",
          "Kelana Jaya Line",
          "Kelana Jaya Line",
          "Kelana Jaya Line",
          "Kelana Jaya Line",
          "Kelana Jaya Line",
          "Kelana Jaya Line",
          "Kelana Jaya Line",
          "Kelana Jaya Line",
          "Kelana Jaya Line",
          "Kelana Jaya Line",
          "Kelana Jaya Line",
          "Kelana Jaya Line",
          "Kelana Jaya Line",
          "Kelana Jaya Line",
          "Kelana Jaya Line",
          "Kelana Jaya Line",
          "Kelana Jaya Line",
          "Kelana Jaya Line",
          "Kelana Jaya Line",
          "Kelana Jaya Line",
          "Kelana Jaya Line",
          "KLIA Ekspres",
          "KLIA Ekspres",
          "KLIA Ekspres",
          "KLIA Transit",
          "KLIA Transit",
          "KLIA Transit",
          "KLIA Transit",
          "KLIA Transit",
          "KLIA Transit",
          "KL Monorail Line",
          "KL Monorail Line",
          "KL Monorail Line",
          "KL Monorail Line",
          "KL Monorail Line",
          "KL Monorail Line",
          "KL Monorail Line",
          "KL Monorail Line",
          "KL Monorail Line",
          "KL Monorail Line",
          "KL Monorail Line",
          "MRT Sungai Buloh - Kajang Line",
          "MRT Sungai Buloh - Kajang Line",
          "MRT Sungai Buloh - Kajang Line",
          "MRT Sungai Buloh - Kajang Line",
          "MRT Sungai Buloh - Kajang Line",
          "MRT Sungai Buloh - Kajang Line",
          "MRT Sungai Buloh - Kajang Line",
          "MRT Sungai Buloh - Kajang Line",
          "MRT Sungai Buloh - Kajang Line",
          "MRT Sungai Buloh - Kajang Line",
          "MRT Sungai Buloh - Kajang Line",
          "MRT Sungai Buloh - Kajang Line",
          "MRT Sungai Buloh - Kajang Line",
          "MRT Sungai Buloh - Kajang Line",
          "MRT Sungai Buloh - Kajang Line",
          "MRT Sungai Buloh - Kajang Line",
          "MRT Sungai Buloh - Kajang Line",
          "MRT Sungai Buloh - Kajang Line",
          "MRT Sungai Buloh - Kajang Line",
          "MRT Sungai Buloh - Kajang Line",
          "MRT Sungai Buloh - Kajang Line",
          "MRT Sungai Buloh - Kajang Line",
          "MRT Sungai Buloh - Kajang Line",
          "MRT Sungai Buloh - Kajang Line",
          "MRT Sungai Buloh - Kajang Line",
          "MRT Sungai Buloh - Kajang Line",
          "MRT Sungai Buloh - Kajang Line",
          "MRT Sungai Buloh - Kajang Line",
          "MRT Sungai Buloh - Kajang Line",
          "MRT Sungai Buloh - Kajang Line",
          "MRT Sungai Buloh - Kajang Line",
          "Skypark Link",
          "Skypark Link",
          "Skypark Link",
          "BRT Sunway Line",
          "BRT Sunway Line",
          "BRT Sunway Line",
          "BRT Sunway Line",
          "BRT Sunway Line",
          "BRT Sunway Line",
          "BRT Sunway Line"
         ],
         "xaxis": "x",
         "y": [
          8101,
          7403,
          8714,
          6605,
          8266,
          6393,
          5955,
          1964,
          7381,
          7583,
          4376,
          3842,
          991,
          804,
          3155,
          2931,
          1122,
          831,
          944,
          408,
          3303,
          2092,
          1769,
          1769,
          384,
          7256,
          2090,
          1927,
          3097,
          3591,
          4644,
          759,
          1616,
          1354,
          1393,
          3813,
          1193,
          2284,
          2015,
          1600,
          1908,
          3454,
          606,
          6523,
          3538,
          6713,
          1982,
          4602,
          523,
          504,
          3700,
          4917,
          7576,
          5653,
          4589,
          2016,
          1964,
          7381,
          7031,
          7256,
          7026,
          5538,
          9469,
          9825,
          6512,
          7336,
          11040,
          4827,
          9770,
          10245,
          4062,
          5466,
          5818,
          5997,
          18422,
          14299,
          16906,
          10727,
          3172,
          8501,
          11611,
          6304,
          3976,
          7757,
          4011,
          6685,
          3126,
          7573,
          6458,
          6245,
          8803,
          7026,
          5538,
          9469,
          9825,
          6512,
          7336,
          11040,
          4827,
          9770,
          5320,
          1622,
          3842,
          10245,
          4560,
          4712,
          4062,
          330,
          2811,
          4897,
          3823,
          6845,
          3277,
          2834,
          1908,
          6730,
          6507,
          1441,
          1983,
          5847,
          7484,
          9485,
          6345,
          5675,
          3827,
          6724,
          8243,
          4589,
          8212,
          7256,
          8546,
          10902,
          7143,
          8938,
          8767,
          6622,
          16658,
          2793,
          3965,
          4004,
          8665,
          7236,
          6952,
          6105,
          128,
          31,
          7256,
          2471,
          128,
          31,
          3842,
          424,
          7256,
          7256,
          5646,
          8470,
          11710,
          9919,
          3958,
          8706,
          6247,
          8111,
          11360,
          12004,
          449,
          2656,
          3703,
          6464,
          1600,
          6857,
          8299,
          2127,
          6347,
          4717,
          7708,
          1441,
          5734,
          8108,
          6831,
          11551,
          6540,
          8978,
          10268,
          11125,
          7458,
          8222,
          4426,
          4819,
          3253,
          5189,
          3917,
          3055,
          4261,
          6229,
          3009,
          2252,
          1908,
          7256,
          5847,
          2315,
          5748,
          4940,
          5375,
          3871,
          3454
         ],
         "yaxis": "y"
        },
        {
         "alignmentgroup": "True",
         "bingroup": "x",
         "histfunc": "avg",
         "hovertemplate": "variable=15 Minute Population<br>Lines=%{x}<br>avg of Population Coverage=%{y}<extra></extra>",
         "legendgroup": "15 Minute Population",
         "marker": {
          "color": "#00cc96"
         },
         "name": "15 Minute Population",
         "offsetgroup": "15 Minute Population",
         "orientation": "v",
         "showlegend": true,
         "type": "histogram",
         "x": [
          "Seremban Line",
          "Seremban Line",
          "Seremban Line",
          "Seremban Line",
          "Seremban Line",
          "Seremban Line",
          "Seremban Line",
          "Seremban Line",
          "Seremban Line",
          "Seremban Line",
          "Seremban Line",
          "Seremban Line",
          "Seremban Line",
          "Seremban Line",
          "Seremban Line",
          "Seremban Line",
          "Seremban Line",
          "Seremban Line",
          "Seremban Line",
          "Seremban Line",
          "Seremban Line",
          "Seremban Line",
          "Seremban Line",
          "Seremban Line",
          "Seremban Line",
          "Seremban Line",
          "Port Klang Line",
          "Port Klang Line",
          "Port Klang Line",
          "Port Klang Line",
          "Port Klang Line",
          "Port Klang Line",
          "Port Klang Line",
          "Port Klang Line",
          "Port Klang Line",
          "Port Klang Line",
          "Port Klang Line",
          "Port Klang Line",
          "Port Klang Line",
          "Port Klang Line",
          "Port Klang Line",
          "Port Klang Line",
          "Port Klang Line",
          "Port Klang Line",
          "Port Klang Line",
          "Port Klang Line",
          "Port Klang Line",
          "Port Klang Line",
          "Port Klang Line",
          "Port Klang Line",
          "Port Klang Line",
          "Port Klang Line",
          "Port Klang Line",
          "Port Klang Line",
          "Port Klang Line",
          "Port Klang Line",
          "Port Klang Line",
          "Port Klang Line",
          "Port Klang Line",
          "Port Klang Line",
          "Ampang Line",
          "Ampang Line",
          "Ampang Line",
          "Ampang Line",
          "Ampang Line",
          "Ampang Line",
          "Ampang Line",
          "Ampang Line",
          "Ampang Line",
          "Ampang Line",
          "Ampang Line",
          "Ampang Line",
          "Ampang Line",
          "Ampang Line",
          "Ampang Line",
          "Ampang Line",
          "Ampang Line",
          "Ampang Line",
          "Sri Petaling Line",
          "Sri Petaling Line",
          "Sri Petaling Line",
          "Sri Petaling Line",
          "Sri Petaling Line",
          "Sri Petaling Line",
          "Sri Petaling Line",
          "Sri Petaling Line",
          "Sri Petaling Line",
          "Sri Petaling Line",
          "Sri Petaling Line",
          "Sri Petaling Line",
          "Sri Petaling Line",
          "Sri Petaling Line",
          "Sri Petaling Line",
          "Sri Petaling Line",
          "Sri Petaling Line",
          "Sri Petaling Line",
          "Sri Petaling Line",
          "Sri Petaling Line",
          "Sri Petaling Line",
          "Sri Petaling Line",
          "Sri Petaling Line",
          "Sri Petaling Line",
          "Sri Petaling Line",
          "Sri Petaling Line",
          "Sri Petaling Line",
          "Sri Petaling Line",
          "Sri Petaling Line",
          "Kelana Jaya Line",
          "Kelana Jaya Line",
          "Kelana Jaya Line",
          "Kelana Jaya Line",
          "Kelana Jaya Line",
          "Kelana Jaya Line",
          "Kelana Jaya Line",
          "Kelana Jaya Line",
          "Kelana Jaya Line",
          "Kelana Jaya Line",
          "Kelana Jaya Line",
          "Kelana Jaya Line",
          "Kelana Jaya Line",
          "Kelana Jaya Line",
          "Kelana Jaya Line",
          "Kelana Jaya Line",
          "Kelana Jaya Line",
          "Kelana Jaya Line",
          "Kelana Jaya Line",
          "Kelana Jaya Line",
          "Kelana Jaya Line",
          "Kelana Jaya Line",
          "Kelana Jaya Line",
          "Kelana Jaya Line",
          "Kelana Jaya Line",
          "Kelana Jaya Line",
          "Kelana Jaya Line",
          "Kelana Jaya Line",
          "Kelana Jaya Line",
          "Kelana Jaya Line",
          "Kelana Jaya Line",
          "Kelana Jaya Line",
          "Kelana Jaya Line",
          "Kelana Jaya Line",
          "Kelana Jaya Line",
          "Kelana Jaya Line",
          "Kelana Jaya Line",
          "KLIA Ekspres",
          "KLIA Ekspres",
          "KLIA Ekspres",
          "KLIA Transit",
          "KLIA Transit",
          "KLIA Transit",
          "KLIA Transit",
          "KLIA Transit",
          "KLIA Transit",
          "KL Monorail Line",
          "KL Monorail Line",
          "KL Monorail Line",
          "KL Monorail Line",
          "KL Monorail Line",
          "KL Monorail Line",
          "KL Monorail Line",
          "KL Monorail Line",
          "KL Monorail Line",
          "KL Monorail Line",
          "KL Monorail Line",
          "MRT Sungai Buloh - Kajang Line",
          "MRT Sungai Buloh - Kajang Line",
          "MRT Sungai Buloh - Kajang Line",
          "MRT Sungai Buloh - Kajang Line",
          "MRT Sungai Buloh - Kajang Line",
          "MRT Sungai Buloh - Kajang Line",
          "MRT Sungai Buloh - Kajang Line",
          "MRT Sungai Buloh - Kajang Line",
          "MRT Sungai Buloh - Kajang Line",
          "MRT Sungai Buloh - Kajang Line",
          "MRT Sungai Buloh - Kajang Line",
          "MRT Sungai Buloh - Kajang Line",
          "MRT Sungai Buloh - Kajang Line",
          "MRT Sungai Buloh - Kajang Line",
          "MRT Sungai Buloh - Kajang Line",
          "MRT Sungai Buloh - Kajang Line",
          "MRT Sungai Buloh - Kajang Line",
          "MRT Sungai Buloh - Kajang Line",
          "MRT Sungai Buloh - Kajang Line",
          "MRT Sungai Buloh - Kajang Line",
          "MRT Sungai Buloh - Kajang Line",
          "MRT Sungai Buloh - Kajang Line",
          "MRT Sungai Buloh - Kajang Line",
          "MRT Sungai Buloh - Kajang Line",
          "MRT Sungai Buloh - Kajang Line",
          "MRT Sungai Buloh - Kajang Line",
          "MRT Sungai Buloh - Kajang Line",
          "MRT Sungai Buloh - Kajang Line",
          "MRT Sungai Buloh - Kajang Line",
          "MRT Sungai Buloh - Kajang Line",
          "MRT Sungai Buloh - Kajang Line",
          "Skypark Link",
          "Skypark Link",
          "Skypark Link",
          "BRT Sunway Line",
          "BRT Sunway Line",
          "BRT Sunway Line",
          "BRT Sunway Line",
          "BRT Sunway Line",
          "BRT Sunway Line",
          "BRT Sunway Line"
         ],
         "xaxis": "x",
         "y": [
          14051,
          16796,
          16846,
          11113,
          15689,
          14643,
          14777,
          6499,
          16570,
          16533,
          6666,
          10549,
          1500,
          3686,
          5997,
          7144,
          2463,
          1194,
          1793,
          531,
          7174,
          6294,
          3836,
          3836,
          2758,
          16615,
          5888,
          4804,
          5259,
          8435,
          11779,
          2545,
          4056,
          4184,
          3461,
          7965,
          2649,
          6440,
          5036,
          5704,
          6042,
          8718,
          1288,
          17190,
          13834,
          12918,
          4218,
          12782,
          1429,
          1379,
          13891,
          10252,
          18793,
          10948,
          11196,
          4417,
          6499,
          16570,
          15435,
          16615,
          16752,
          13620,
          19064,
          23762,
          16646,
          17389,
          23193,
          14708,
          20020,
          23074,
          13484,
          13151,
          19323,
          15618,
          37614,
          36095,
          38349,
          31269,
          7872,
          15335,
          24087,
          11681,
          8194,
          16941,
          10067,
          16452,
          8383,
          13709,
          11936,
          13486,
          16488,
          16752,
          13620,
          19064,
          23762,
          16646,
          17389,
          23193,
          14708,
          20020,
          9081,
          2351,
          10549,
          23074,
          7850,
          9388,
          13484,
          3851,
          5839,
          10618,
          8452,
          14705,
          8876,
          6087,
          6042,
          15830,
          14043,
          5505,
          6924,
          15199,
          17824,
          19787,
          15400,
          13718,
          11175,
          13333,
          17808,
          11196,
          19288,
          16615,
          18742,
          22081,
          17416,
          18670,
          19671,
          16796,
          34491,
          9569,
          12627,
          14262,
          20697,
          19950,
          19024,
          18691,
          184,
          249,
          16615,
          4580,
          184,
          249,
          10549,
          958,
          16615,
          16615,
          14362,
          21109,
          24494,
          19886,
          13857,
          20371,
          18441,
          21682,
          23588,
          24045,
          3516,
          4173,
          10324,
          13186,
          5704,
          13699,
          17162,
          7926,
          14286,
          9356,
          15108,
          3292,
          12436,
          17116,
          15693,
          22470,
          14973,
          21212,
          21574,
          22375,
          19963,
          20399,
          9573,
          9061,
          6926,
          10677,
          7776,
          7735,
          11198,
          15349,
          5159,
          4921,
          6042,
          16615,
          15199,
          6326,
          10667,
          10474,
          10516,
          9438,
          8371
         ],
         "yaxis": "y"
        }
       ],
       "layout": {
        "barmode": "group",
        "legend": {
         "title": {
          "text": "variable"
         },
         "tracegroupgap": 0
        },
        "template": {
         "data": {
          "bar": [
           {
            "error_x": {
             "color": "#2a3f5f"
            },
            "error_y": {
             "color": "#2a3f5f"
            },
            "marker": {
             "line": {
              "color": "#E5ECF6",
              "width": 0.5
             }
            },
            "type": "bar"
           }
          ],
          "barpolar": [
           {
            "marker": {
             "line": {
              "color": "#E5ECF6",
              "width": 0.5
             }
            },
            "type": "barpolar"
           }
          ],
          "carpet": [
           {
            "aaxis": {
             "endlinecolor": "#2a3f5f",
             "gridcolor": "white",
             "linecolor": "white",
             "minorgridcolor": "white",
             "startlinecolor": "#2a3f5f"
            },
            "baxis": {
             "endlinecolor": "#2a3f5f",
             "gridcolor": "white",
             "linecolor": "white",
             "minorgridcolor": "white",
             "startlinecolor": "#2a3f5f"
            },
            "type": "carpet"
           }
          ],
          "choropleth": [
           {
            "colorbar": {
             "outlinewidth": 0,
             "ticks": ""
            },
            "type": "choropleth"
           }
          ],
          "contour": [
           {
            "colorbar": {
             "outlinewidth": 0,
             "ticks": ""
            },
            "colorscale": [
             [
              0,
              "#0d0887"
             ],
             [
              0.1111111111111111,
              "#46039f"
             ],
             [
              0.2222222222222222,
              "#7201a8"
             ],
             [
              0.3333333333333333,
              "#9c179e"
             ],
             [
              0.4444444444444444,
              "#bd3786"
             ],
             [
              0.5555555555555556,
              "#d8576b"
             ],
             [
              0.6666666666666666,
              "#ed7953"
             ],
             [
              0.7777777777777778,
              "#fb9f3a"
             ],
             [
              0.8888888888888888,
              "#fdca26"
             ],
             [
              1,
              "#f0f921"
             ]
            ],
            "type": "contour"
           }
          ],
          "contourcarpet": [
           {
            "colorbar": {
             "outlinewidth": 0,
             "ticks": ""
            },
            "type": "contourcarpet"
           }
          ],
          "heatmap": [
           {
            "colorbar": {
             "outlinewidth": 0,
             "ticks": ""
            },
            "colorscale": [
             [
              0,
              "#0d0887"
             ],
             [
              0.1111111111111111,
              "#46039f"
             ],
             [
              0.2222222222222222,
              "#7201a8"
             ],
             [
              0.3333333333333333,
              "#9c179e"
             ],
             [
              0.4444444444444444,
              "#bd3786"
             ],
             [
              0.5555555555555556,
              "#d8576b"
             ],
             [
              0.6666666666666666,
              "#ed7953"
             ],
             [
              0.7777777777777778,
              "#fb9f3a"
             ],
             [
              0.8888888888888888,
              "#fdca26"
             ],
             [
              1,
              "#f0f921"
             ]
            ],
            "type": "heatmap"
           }
          ],
          "heatmapgl": [
           {
            "colorbar": {
             "outlinewidth": 0,
             "ticks": ""
            },
            "colorscale": [
             [
              0,
              "#0d0887"
             ],
             [
              0.1111111111111111,
              "#46039f"
             ],
             [
              0.2222222222222222,
              "#7201a8"
             ],
             [
              0.3333333333333333,
              "#9c179e"
             ],
             [
              0.4444444444444444,
              "#bd3786"
             ],
             [
              0.5555555555555556,
              "#d8576b"
             ],
             [
              0.6666666666666666,
              "#ed7953"
             ],
             [
              0.7777777777777778,
              "#fb9f3a"
             ],
             [
              0.8888888888888888,
              "#fdca26"
             ],
             [
              1,
              "#f0f921"
             ]
            ],
            "type": "heatmapgl"
           }
          ],
          "histogram": [
           {
            "marker": {
             "colorbar": {
              "outlinewidth": 0,
              "ticks": ""
             }
            },
            "type": "histogram"
           }
          ],
          "histogram2d": [
           {
            "colorbar": {
             "outlinewidth": 0,
             "ticks": ""
            },
            "colorscale": [
             [
              0,
              "#0d0887"
             ],
             [
              0.1111111111111111,
              "#46039f"
             ],
             [
              0.2222222222222222,
              "#7201a8"
             ],
             [
              0.3333333333333333,
              "#9c179e"
             ],
             [
              0.4444444444444444,
              "#bd3786"
             ],
             [
              0.5555555555555556,
              "#d8576b"
             ],
             [
              0.6666666666666666,
              "#ed7953"
             ],
             [
              0.7777777777777778,
              "#fb9f3a"
             ],
             [
              0.8888888888888888,
              "#fdca26"
             ],
             [
              1,
              "#f0f921"
             ]
            ],
            "type": "histogram2d"
           }
          ],
          "histogram2dcontour": [
           {
            "colorbar": {
             "outlinewidth": 0,
             "ticks": ""
            },
            "colorscale": [
             [
              0,
              "#0d0887"
             ],
             [
              0.1111111111111111,
              "#46039f"
             ],
             [
              0.2222222222222222,
              "#7201a8"
             ],
             [
              0.3333333333333333,
              "#9c179e"
             ],
             [
              0.4444444444444444,
              "#bd3786"
             ],
             [
              0.5555555555555556,
              "#d8576b"
             ],
             [
              0.6666666666666666,
              "#ed7953"
             ],
             [
              0.7777777777777778,
              "#fb9f3a"
             ],
             [
              0.8888888888888888,
              "#fdca26"
             ],
             [
              1,
              "#f0f921"
             ]
            ],
            "type": "histogram2dcontour"
           }
          ],
          "mesh3d": [
           {
            "colorbar": {
             "outlinewidth": 0,
             "ticks": ""
            },
            "type": "mesh3d"
           }
          ],
          "parcoords": [
           {
            "line": {
             "colorbar": {
              "outlinewidth": 0,
              "ticks": ""
             }
            },
            "type": "parcoords"
           }
          ],
          "pie": [
           {
            "automargin": true,
            "type": "pie"
           }
          ],
          "scatter": [
           {
            "marker": {
             "colorbar": {
              "outlinewidth": 0,
              "ticks": ""
             }
            },
            "type": "scatter"
           }
          ],
          "scatter3d": [
           {
            "line": {
             "colorbar": {
              "outlinewidth": 0,
              "ticks": ""
             }
            },
            "marker": {
             "colorbar": {
              "outlinewidth": 0,
              "ticks": ""
             }
            },
            "type": "scatter3d"
           }
          ],
          "scattercarpet": [
           {
            "marker": {
             "colorbar": {
              "outlinewidth": 0,
              "ticks": ""
             }
            },
            "type": "scattercarpet"
           }
          ],
          "scattergeo": [
           {
            "marker": {
             "colorbar": {
              "outlinewidth": 0,
              "ticks": ""
             }
            },
            "type": "scattergeo"
           }
          ],
          "scattergl": [
           {
            "marker": {
             "colorbar": {
              "outlinewidth": 0,
              "ticks": ""
             }
            },
            "type": "scattergl"
           }
          ],
          "scattermapbox": [
           {
            "marker": {
             "colorbar": {
              "outlinewidth": 0,
              "ticks": ""
             }
            },
            "type": "scattermapbox"
           }
          ],
          "scatterpolar": [
           {
            "marker": {
             "colorbar": {
              "outlinewidth": 0,
              "ticks": ""
             }
            },
            "type": "scatterpolar"
           }
          ],
          "scatterpolargl": [
           {
            "marker": {
             "colorbar": {
              "outlinewidth": 0,
              "ticks": ""
             }
            },
            "type": "scatterpolargl"
           }
          ],
          "scatterternary": [
           {
            "marker": {
             "colorbar": {
              "outlinewidth": 0,
              "ticks": ""
             }
            },
            "type": "scatterternary"
           }
          ],
          "surface": [
           {
            "colorbar": {
             "outlinewidth": 0,
             "ticks": ""
            },
            "colorscale": [
             [
              0,
              "#0d0887"
             ],
             [
              0.1111111111111111,
              "#46039f"
             ],
             [
              0.2222222222222222,
              "#7201a8"
             ],
             [
              0.3333333333333333,
              "#9c179e"
             ],
             [
              0.4444444444444444,
              "#bd3786"
             ],
             [
              0.5555555555555556,
              "#d8576b"
             ],
             [
              0.6666666666666666,
              "#ed7953"
             ],
             [
              0.7777777777777778,
              "#fb9f3a"
             ],
             [
              0.8888888888888888,
              "#fdca26"
             ],
             [
              1,
              "#f0f921"
             ]
            ],
            "type": "surface"
           }
          ],
          "table": [
           {
            "cells": {
             "fill": {
              "color": "#EBF0F8"
             },
             "line": {
              "color": "white"
             }
            },
            "header": {
             "fill": {
              "color": "#C8D4E3"
             },
             "line": {
              "color": "white"
             }
            },
            "type": "table"
           }
          ]
         },
         "layout": {
          "annotationdefaults": {
           "arrowcolor": "#2a3f5f",
           "arrowhead": 0,
           "arrowwidth": 1
          },
          "coloraxis": {
           "colorbar": {
            "outlinewidth": 0,
            "ticks": ""
           }
          },
          "colorscale": {
           "diverging": [
            [
             0,
             "#8e0152"
            ],
            [
             0.1,
             "#c51b7d"
            ],
            [
             0.2,
             "#de77ae"
            ],
            [
             0.3,
             "#f1b6da"
            ],
            [
             0.4,
             "#fde0ef"
            ],
            [
             0.5,
             "#f7f7f7"
            ],
            [
             0.6,
             "#e6f5d0"
            ],
            [
             0.7,
             "#b8e186"
            ],
            [
             0.8,
             "#7fbc41"
            ],
            [
             0.9,
             "#4d9221"
            ],
            [
             1,
             "#276419"
            ]
           ],
           "sequential": [
            [
             0,
             "#0d0887"
            ],
            [
             0.1111111111111111,
             "#46039f"
            ],
            [
             0.2222222222222222,
             "#7201a8"
            ],
            [
             0.3333333333333333,
             "#9c179e"
            ],
            [
             0.4444444444444444,
             "#bd3786"
            ],
            [
             0.5555555555555556,
             "#d8576b"
            ],
            [
             0.6666666666666666,
             "#ed7953"
            ],
            [
             0.7777777777777778,
             "#fb9f3a"
            ],
            [
             0.8888888888888888,
             "#fdca26"
            ],
            [
             1,
             "#f0f921"
            ]
           ],
           "sequentialminus": [
            [
             0,
             "#0d0887"
            ],
            [
             0.1111111111111111,
             "#46039f"
            ],
            [
             0.2222222222222222,
             "#7201a8"
            ],
            [
             0.3333333333333333,
             "#9c179e"
            ],
            [
             0.4444444444444444,
             "#bd3786"
            ],
            [
             0.5555555555555556,
             "#d8576b"
            ],
            [
             0.6666666666666666,
             "#ed7953"
            ],
            [
             0.7777777777777778,
             "#fb9f3a"
            ],
            [
             0.8888888888888888,
             "#fdca26"
            ],
            [
             1,
             "#f0f921"
            ]
           ]
          },
          "colorway": [
           "#636efa",
           "#EF553B",
           "#00cc96",
           "#ab63fa",
           "#FFA15A",
           "#19d3f3",
           "#FF6692",
           "#B6E880",
           "#FF97FF",
           "#FECB52"
          ],
          "font": {
           "color": "#2a3f5f"
          },
          "geo": {
           "bgcolor": "white",
           "lakecolor": "white",
           "landcolor": "#E5ECF6",
           "showlakes": true,
           "showland": true,
           "subunitcolor": "white"
          },
          "hoverlabel": {
           "align": "left"
          },
          "hovermode": "closest",
          "mapbox": {
           "style": "light"
          },
          "paper_bgcolor": "white",
          "plot_bgcolor": "#E5ECF6",
          "polar": {
           "angularaxis": {
            "gridcolor": "white",
            "linecolor": "white",
            "ticks": ""
           },
           "bgcolor": "#E5ECF6",
           "radialaxis": {
            "gridcolor": "white",
            "linecolor": "white",
            "ticks": ""
           }
          },
          "scene": {
           "xaxis": {
            "backgroundcolor": "#E5ECF6",
            "gridcolor": "white",
            "gridwidth": 2,
            "linecolor": "white",
            "showbackground": true,
            "ticks": "",
            "zerolinecolor": "white"
           },
           "yaxis": {
            "backgroundcolor": "#E5ECF6",
            "gridcolor": "white",
            "gridwidth": 2,
            "linecolor": "white",
            "showbackground": true,
            "ticks": "",
            "zerolinecolor": "white"
           },
           "zaxis": {
            "backgroundcolor": "#E5ECF6",
            "gridcolor": "white",
            "gridwidth": 2,
            "linecolor": "white",
            "showbackground": true,
            "ticks": "",
            "zerolinecolor": "white"
           }
          },
          "shapedefaults": {
           "line": {
            "color": "#2a3f5f"
           }
          },
          "ternary": {
           "aaxis": {
            "gridcolor": "white",
            "linecolor": "white",
            "ticks": ""
           },
           "baxis": {
            "gridcolor": "white",
            "linecolor": "white",
            "ticks": ""
           },
           "bgcolor": "#E5ECF6",
           "caxis": {
            "gridcolor": "white",
            "linecolor": "white",
            "ticks": ""
           }
          },
          "title": {
           "x": 0.05
          },
          "xaxis": {
           "automargin": true,
           "gridcolor": "white",
           "linecolor": "white",
           "ticks": "",
           "title": {
            "standoff": 15
           },
           "zerolinecolor": "white",
           "zerolinewidth": 2
          },
          "yaxis": {
           "automargin": true,
           "gridcolor": "white",
           "linecolor": "white",
           "ticks": "",
           "title": {
            "standoff": 15
           },
           "zerolinecolor": "white",
           "zerolinewidth": 2
          }
         }
        },
        "title": {
         "text": "Population coverage within walking times from station"
        },
        "xaxis": {
         "anchor": "y",
         "categoryorder": "total ascending",
         "domain": [
          0,
          1
         ],
         "title": {
          "text": "Lines"
         }
        },
        "yaxis": {
         "anchor": "x",
         "domain": [
          0,
          1
         ],
         "title": {
          "text": "avg of Population Coverage"
         }
        }
       }
      }
     },
     "metadata": {}
    }
   ],
   "source": [
    "# drawshistograms for RapidKL lines' 5 minute walking population coverage\n",
    "\n",
    "fig = px.histogram(data_all[(data_all[\"City\"]=='Kuala Lumpur')&(data_all[\"Service Provider Name\"]=='Rapid KL')]\n",
    "             ,x='Route Name'\n",
    "             ,y='5 Minute Population'\n",
    "             , barmode = 'group'\n",
    "             , title=\"Population covered within 5 minutes walk from station\"\n",
    "             , template='plotly'\n",
    "             , histfunc = 'avg'\n",
    "             ,labels={'Route Name': \"Lines\", '5 Minute Population' : \"Population Coverage\"}\n",
    "            ).update_xaxes(categoryorder='total ascending')\n",
    "fig.update_layout(showlegend=False)\n",
    "fig.show() \n",
    "\n",
    "# draws histograms for RapidKL lines' 10 minute walking population coverage\n",
    "\n",
    "fig = px.histogram(data_all[(data_all[\"City\"]=='Kuala Lumpur')&(data_all[\"Service Provider Name\"]=='Rapid KL')]\n",
    "             ,x='Route Name'\n",
    "             ,y='10 Minute Population'\n",
    "             , barmode = 'group'\n",
    "             , title=\"Population coverage within 10 minutes walk from station\"\n",
    "             , template='plotly'\n",
    "             , histfunc = 'avg'\n",
    "             ,labels={'Route Name': \"Lines\", '10 Minute Population' : \"Population Coverage\"}\n",
    "            ).update_xaxes(categoryorder='total ascending')\n",
    "fig.update_layout(showlegend=False)\n",
    "fig.show() \n",
    "\n",
    "# draws histograms for RapidKL lines' 15 minute walking population coverage\n",
    "\n",
    "fig = px.histogram(data_all[(data_all[\"City\"]=='Kuala Lumpur')&(data_all[\"Service Provider Name\"]=='Rapid KL')]\n",
    "             ,x='Route Name'\n",
    "             ,y='15 Minute Population'\n",
    "             , barmode = 'group'\n",
    "             , title=\"Population coverage within 15 minutes walk from station\"\n",
    "             , template='plotly'\n",
    "             , histfunc = 'avg'\n",
    "             ,labels={'Route Name': \"Lines\", '15 Minute Population' : \"Population Coverage\"}\n",
    "            ).update_xaxes(categoryorder='total ascending')\n",
    "fig.update_layout(showlegend=False)\n",
    "fig.show() \n",
    "\n",
    "# draws  histograms for RapidKL lines' 5,10,15 minute walking population coverage\n",
    "\n",
    "fig = px.histogram(data_all[data_all[\"City\"]=='Kuala Lumpur']\n",
    "             ,x='Route Name'\n",
    "             ,y=['5 Minute Population','10 Minute Population','15 Minute Population']\n",
    "             , barmode = 'group'\n",
    "             , title=\"Population coverage within walking times from station\"\n",
    "             , template='plotly'\n",
    "             , histfunc = 'avg'\n",
    "             ,labels={'Route Name': \"Lines\",'value' : \"Population Coverage\"}\n",
    "            ).update_xaxes(categoryorder='total ascending')\n",
    "\n",
    "fig.show()       "
   ]
  },
  {
   "cell_type": "code",
   "execution_count": 66,
   "metadata": {},
   "outputs": [
    {
     "output_type": "display_data",
     "data": {
      "application/vnd.plotly.v1+json": {
       "config": {
        "plotlyServerURL": "https://plot.ly"
       },
       "data": [
        {
         "alignmentgroup": "True",
         "bingroup": "x",
         "histfunc": "avg",
         "hovertemplate": "Name=%{x}<br>avg of 15 Minute Range Area=%{y}<extra></extra>",
         "legendgroup": "",
         "marker": {
          "color": "#636efa"
         },
         "name": "",
         "offsetgroup": "",
         "orientation": "v",
         "showlegend": false,
         "type": "histogram",
         "x": [
          "TAMAN WAHYU",
          "KAMPUNG BATU",
          "MID VALLEY",
          "BATU KENTOMEN",
          "BATU CAVES",
          "SEPUTEH",
          "SENTUL",
          "PUTRA",
          "BANK NEGARA",
          "KUALA LUMPUR",
          "SALAK SELATAN",
          "BANDAR TASIK SELATAN",
          "SERDANG",
          "BANGI",
          "UKM",
          "KAJANG",
          "NILAI",
          "LABU",
          "BATANG BENAR",
          "TIROI",
          "SEREMBAN",
          "SENAWANG",
          "SUNGAI GADUT",
          "REMBAU",
          "PULAU SEBANG/TAMPIN",
          "KL SENTRAL",
          "PORT KLANG",
          "JALAN KASTAM",
          "KAMPUNG RAJA UDA",
          "TELUK GADONG",
          "TELUK PULAI",
          "KLANG",
          "BUKIT BADAK",
          "PADANG JAWA",
          "TANJUNG MALIM",
          "SHAH ALAM",
          "KUANG",
          "BATU TIGA",
          "RAWANG",
          "SUNGAI BULOH",
          "SUBANG JAYA",
          "SETIA JAYA",
          "SERENDAH",
          "SERI SETIA",
          "KEPONG SENTRAL",
          "KAMPUNG DATO HARUN",
          "RASA",
          "KEPONG",
          "BATANG KALI",
          "KUALA KUBU BHARU",
          "JALAN TEMPLER",
          "PETALING",
          "SEGAMBUT",
          "PANTAI DALAM",
          "ABDULLAH HUKUM",
          "ANGKASAPURI",
          "PUTRA",
          "BANK NEGARA",
          "KUALA LUMPUR",
          "KL SENTRAL",
          "PWTC",
          "SULTAN ISMAIL",
          "BANDARAYA",
          "TITIWANGSA",
          "SENTUL TIMUR",
          "SENTUL",
          "MASJID JAMEK",
          "PLAZA RAKYAT",
          "HANG TUAH",
          "PUDU",
          "CHAN SOW LIN",
          "MIHARJA",
          "MALURI",
          "PANDAN JAYA",
          "PANDAN INDAH",
          "CEMPAKA",
          "CAHAYA",
          "AMPANG",
          "PUTRA HEIGHTS",
          "PUCHONG PRIMA",
          "PUCHONG PERDANA",
          "BANDAR PUTERI",
          "TAMAN PERINDUSTRIAN PUCHONG (TPP)",
          "PUSAT BANDAR PUCHONG",
          "IOI PUCHONG JAYA",
          "KINRARA",
          "ALAM SUTERA",
          "MUHIBBAH",
          "AWAN BESAR",
          "SRI PETALING",
          "BUKIT JALIL",
          "PWTC",
          "SULTAN ISMAIL",
          "BANDARAYA",
          "TITIWANGSA",
          "SENTUL TIMUR",
          "SENTUL",
          "MASJID JAMEK",
          "PLAZA RAKYAT",
          "HANG TUAH",
          "SALAK SELATAN",
          "SUNGAI BESI",
          "BANDAR TASIK SELATAN",
          "PUDU",
          "BANDAR TUN RAZAK",
          "CHERAS",
          "CHAN SOW LIN",
          "ALAM MEGAH",
          "SUBANG ALAM",
          "PUTRA HEIGHTS",
          "USJ21",
          "SS18",
          "SS15",
          "ARA DAMANSARA",
          "SUBANG JAYA",
          "WAWASAN",
          "TAIPAN",
          "GLENMARIE",
          "LEMBAH SUBANG",
          "USJ7",
          "KELANA JAYA",
          "TAMAN BAHAGIA",
          "TAMAN PARAMOUNT",
          "ASIA JAYA",
          "TAMAN JAYA",
          "UNIVERSITI",
          "KERINCHI",
          "ABDULLAH HUKUM",
          "BANGSAR",
          "KL SENTRAL",
          "PASAR SENI",
          "MASJID JAMEK",
          "DANG WANGI",
          "KAMPUNG BARU",
          "KLCC",
          "AMPANG PARK",
          "TAMAN MELATI",
          "GOMBAK",
          "DAMAI",
          "WANGSA MAJU",
          "DATO' KERAMAT",
          "JELATEK",
          "SETIAWANGSA",
          "SRI RAMPAI",
          "KLIA2",
          "KUALA LUMPUR INTERNATIONAL AIRPORT",
          "KL SENTRAL",
          "PUTRAJAYA & CYBERJAYA",
          "KLIA2",
          "KUALA LUMPUR INTERNATIONAL AIRPORT",
          "BANDAR TASIK SELATAN",
          "SALAK TINGGI",
          "KL SENTRAL",
          "KL SENTRAL",
          "TUN SAMBANTHAN",
          "TITIWANGSA",
          "CHOW KIT",
          "MEDAN TUANKU",
          "MAHARAJALELA",
          "BUKIT NANAS",
          "HANG TUAH",
          "IMBI",
          "RAJA CHULAN",
          "BUKIT BINTANG",
          "KWASA SENTRAL",
          "KWASA DAMANSARA",
          "KAMPUNG SELAMAT",
          "KOTA DAMANSARA",
          "SUNGAI BULOH",
          "SURIAN",
          "MUTIARA DAMANSARA",
          "BANDAR UTAMA",
          "TTDI",
          "PHILEO DAMANSARA",
          "PUSAT BANDAR DAMANSARA",
          "SEMANTAN",
          "MUZIUM NEGARA",
          "PASAR SENI",
          "MERDEKA",
          "BUKIT BINTANG",
          "TUN RAZAK EXCHANGE",
          "COCHRANE",
          "MALURI",
          "TAMAN PERTAMA",
          "TAMAN MIDAH",
          "TAMAN MUTIARA",
          "TAMAN CONNAUGHT",
          "TAMAN SUNTEX",
          "BUKIT DUKUNG",
          "SRI RAYA",
          "BATU 11 CHERAS",
          "BANDAR TUN HUSSIEN ONN",
          "SUNGAI JERNIH",
          "STADIUM KAJANG",
          "KAJANG",
          "TERMINAL SKYPARK",
          "SUBANG JAYA",
          "KL SENTRAL",
          "USJ7",
          "SOUTH QUAY-USJ1",
          "SUNU MONASH",
          "SUNMED",
          "MENTARI",
          "SUNWAY LAGOON",
          "SUNWAY-SETIA JAYA"
         ],
         "xaxis": "x",
         "y": [
          2.00371821,
          2.24015703,
          2.56897301,
          1.42326959,
          2.26314888,
          2.00185846,
          2.1742236800000003,
          1.1700403999999998,
          2.80683992,
          2.99074894,
          0.99197871,
          1.26139229,
          0.29554645,
          1.00918412,
          1.9232231,
          1.49744933,
          1.50700804,
          1.57696946,
          1.27532947,
          0.69918839,
          2.4177613900000003,
          1.71577967,
          1.1710366799999998,
          1.1710366799999998,
          0.86936934,
          2.73994134,
          1.73757164,
          1.26943068,
          1.38672527,
          2.02745004,
          2.99071179,
          1.04197374,
          1.1219590700000002,
          1.1634936000000002,
          1.30902106,
          1.45018829,
          1.53974752,
          1.57854443,
          1.81943367,
          0.95605398,
          1.25403992,
          1.79661797,
          0.91307283,
          2.5563389900000004,
          1.64587292,
          1.81280979,
          1.90750434,
          1.53965244,
          1.13224416,
          1.08614115,
          1.61943349,
          1.23907132,
          2.40118023,
          1.42011928,
          1.60348074,
          0.52693028,
          1.1700403999999998,
          2.80683992,
          2.83371611,
          2.73994134,
          2.3260019300000003,
          2.06784459,
          3.03409228,
          3.3478489500000004,
          2.27737988,
          2.42609726,
          3.55529003,
          2.15203207,
          3.19636508,
          3.3698826800000004,
          1.89715902,
          1.81025062,
          2.64383973,
          1.24546492,
          2.74410522,
          2.66057506,
          2.68636732,
          2.21643169,
          1.79636909,
          2.18843466,
          2.98010054,
          1.6374171599999998,
          0.98722519,
          2.21720784,
          1.23887132,
          2.06855075,
          1.16462712,
          2.00087113,
          1.52501166,
          1.79644307,
          2.45575257,
          2.3260019300000003,
          2.06784459,
          3.03409228,
          3.3478489500000004,
          2.27737988,
          2.42609726,
          3.55529003,
          2.15203207,
          3.19636508,
          1.29755614,
          0.25411249,
          1.26139229,
          3.3698826800000004,
          1.21211723,
          1.39905382,
          1.89715902,
          0.74580275,
          1.18892094,
          2.09640578,
          1.72637379,
          2.73355393,
          1.73639403,
          1.34087778,
          1.25403992,
          2.9872992000000003,
          2.81145117,
          1.18112971,
          1.2894693000000002,
          2.8605457000000003,
          2.76278958,
          3.41797496,
          2.66861507,
          2.80025152,
          2.38782148,
          2.07408561,
          2.51127217,
          1.60348074,
          3.01341988,
          2.73994134,
          3.00989514,
          3.39048139,
          2.54368452,
          2.67726333,
          2.96054976,
          2.5220779500000003,
          3.0872502,
          1.04935299,
          1.62723771,
          1.186555,
          2.85647758,
          2.8539164,
          2.31582804,
          1.87815032,
          0.8330673000000001,
          0.5388226899999999,
          2.73994134,
          1.6578118899999998,
          0.8330673000000001,
          0.5388226899999999,
          1.26139229,
          1.0927403,
          2.73994134,
          2.73994134,
          2.3940083,
          2.99052753,
          3.4782148,
          2.9054479900000003,
          2.32324576,
          3.13054985,
          2.89758152,
          3.17771479,
          3.54678045,
          3.60001605,
          1.4906206000000002,
          0.82758591,
          1.82938798,
          2.3169378700000003,
          0.95605398,
          2.65375175,
          2.65303658,
          1.13780803,
          2.15393431,
          1.77871072,
          1.97489201,
          0.39435068,
          2.63121517,
          2.94639003,
          2.5506919,
          3.53785805,
          2.62723105,
          2.8983506,
          3.04547806,
          3.00657,
          2.54802141,
          2.5048589100000003,
          1.2397028,
          1.56865318,
          1.07107906,
          2.0038023700000003,
          1.19038395,
          1.13365564,
          2.59764313,
          3.36253283,
          1.09095396,
          0.75462764,
          1.25403992,
          2.73994134,
          2.8605457000000003,
          1.19364534,
          2.2140274100000004,
          2.07718496,
          2.05904436,
          1.9014248,
          1.70466786
         ],
         "yaxis": "y"
        }
       ],
       "layout": {
        "barmode": "relative",
        "legend": {
         "tracegroupgap": 0
        },
        "template": {
         "data": {
          "bar": [
           {
            "error_x": {
             "color": "#2a3f5f"
            },
            "error_y": {
             "color": "#2a3f5f"
            },
            "marker": {
             "line": {
              "color": "#E5ECF6",
              "width": 0.5
             }
            },
            "type": "bar"
           }
          ],
          "barpolar": [
           {
            "marker": {
             "line": {
              "color": "#E5ECF6",
              "width": 0.5
             }
            },
            "type": "barpolar"
           }
          ],
          "carpet": [
           {
            "aaxis": {
             "endlinecolor": "#2a3f5f",
             "gridcolor": "white",
             "linecolor": "white",
             "minorgridcolor": "white",
             "startlinecolor": "#2a3f5f"
            },
            "baxis": {
             "endlinecolor": "#2a3f5f",
             "gridcolor": "white",
             "linecolor": "white",
             "minorgridcolor": "white",
             "startlinecolor": "#2a3f5f"
            },
            "type": "carpet"
           }
          ],
          "choropleth": [
           {
            "colorbar": {
             "outlinewidth": 0,
             "ticks": ""
            },
            "type": "choropleth"
           }
          ],
          "contour": [
           {
            "colorbar": {
             "outlinewidth": 0,
             "ticks": ""
            },
            "colorscale": [
             [
              0,
              "#0d0887"
             ],
             [
              0.1111111111111111,
              "#46039f"
             ],
             [
              0.2222222222222222,
              "#7201a8"
             ],
             [
              0.3333333333333333,
              "#9c179e"
             ],
             [
              0.4444444444444444,
              "#bd3786"
             ],
             [
              0.5555555555555556,
              "#d8576b"
             ],
             [
              0.6666666666666666,
              "#ed7953"
             ],
             [
              0.7777777777777778,
              "#fb9f3a"
             ],
             [
              0.8888888888888888,
              "#fdca26"
             ],
             [
              1,
              "#f0f921"
             ]
            ],
            "type": "contour"
           }
          ],
          "contourcarpet": [
           {
            "colorbar": {
             "outlinewidth": 0,
             "ticks": ""
            },
            "type": "contourcarpet"
           }
          ],
          "heatmap": [
           {
            "colorbar": {
             "outlinewidth": 0,
             "ticks": ""
            },
            "colorscale": [
             [
              0,
              "#0d0887"
             ],
             [
              0.1111111111111111,
              "#46039f"
             ],
             [
              0.2222222222222222,
              "#7201a8"
             ],
             [
              0.3333333333333333,
              "#9c179e"
             ],
             [
              0.4444444444444444,
              "#bd3786"
             ],
             [
              0.5555555555555556,
              "#d8576b"
             ],
             [
              0.6666666666666666,
              "#ed7953"
             ],
             [
              0.7777777777777778,
              "#fb9f3a"
             ],
             [
              0.8888888888888888,
              "#fdca26"
             ],
             [
              1,
              "#f0f921"
             ]
            ],
            "type": "heatmap"
           }
          ],
          "heatmapgl": [
           {
            "colorbar": {
             "outlinewidth": 0,
             "ticks": ""
            },
            "colorscale": [
             [
              0,
              "#0d0887"
             ],
             [
              0.1111111111111111,
              "#46039f"
             ],
             [
              0.2222222222222222,
              "#7201a8"
             ],
             [
              0.3333333333333333,
              "#9c179e"
             ],
             [
              0.4444444444444444,
              "#bd3786"
             ],
             [
              0.5555555555555556,
              "#d8576b"
             ],
             [
              0.6666666666666666,
              "#ed7953"
             ],
             [
              0.7777777777777778,
              "#fb9f3a"
             ],
             [
              0.8888888888888888,
              "#fdca26"
             ],
             [
              1,
              "#f0f921"
             ]
            ],
            "type": "heatmapgl"
           }
          ],
          "histogram": [
           {
            "marker": {
             "colorbar": {
              "outlinewidth": 0,
              "ticks": ""
             }
            },
            "type": "histogram"
           }
          ],
          "histogram2d": [
           {
            "colorbar": {
             "outlinewidth": 0,
             "ticks": ""
            },
            "colorscale": [
             [
              0,
              "#0d0887"
             ],
             [
              0.1111111111111111,
              "#46039f"
             ],
             [
              0.2222222222222222,
              "#7201a8"
             ],
             [
              0.3333333333333333,
              "#9c179e"
             ],
             [
              0.4444444444444444,
              "#bd3786"
             ],
             [
              0.5555555555555556,
              "#d8576b"
             ],
             [
              0.6666666666666666,
              "#ed7953"
             ],
             [
              0.7777777777777778,
              "#fb9f3a"
             ],
             [
              0.8888888888888888,
              "#fdca26"
             ],
             [
              1,
              "#f0f921"
             ]
            ],
            "type": "histogram2d"
           }
          ],
          "histogram2dcontour": [
           {
            "colorbar": {
             "outlinewidth": 0,
             "ticks": ""
            },
            "colorscale": [
             [
              0,
              "#0d0887"
             ],
             [
              0.1111111111111111,
              "#46039f"
             ],
             [
              0.2222222222222222,
              "#7201a8"
             ],
             [
              0.3333333333333333,
              "#9c179e"
             ],
             [
              0.4444444444444444,
              "#bd3786"
             ],
             [
              0.5555555555555556,
              "#d8576b"
             ],
             [
              0.6666666666666666,
              "#ed7953"
             ],
             [
              0.7777777777777778,
              "#fb9f3a"
             ],
             [
              0.8888888888888888,
              "#fdca26"
             ],
             [
              1,
              "#f0f921"
             ]
            ],
            "type": "histogram2dcontour"
           }
          ],
          "mesh3d": [
           {
            "colorbar": {
             "outlinewidth": 0,
             "ticks": ""
            },
            "type": "mesh3d"
           }
          ],
          "parcoords": [
           {
            "line": {
             "colorbar": {
              "outlinewidth": 0,
              "ticks": ""
             }
            },
            "type": "parcoords"
           }
          ],
          "pie": [
           {
            "automargin": true,
            "type": "pie"
           }
          ],
          "scatter": [
           {
            "marker": {
             "colorbar": {
              "outlinewidth": 0,
              "ticks": ""
             }
            },
            "type": "scatter"
           }
          ],
          "scatter3d": [
           {
            "line": {
             "colorbar": {
              "outlinewidth": 0,
              "ticks": ""
             }
            },
            "marker": {
             "colorbar": {
              "outlinewidth": 0,
              "ticks": ""
             }
            },
            "type": "scatter3d"
           }
          ],
          "scattercarpet": [
           {
            "marker": {
             "colorbar": {
              "outlinewidth": 0,
              "ticks": ""
             }
            },
            "type": "scattercarpet"
           }
          ],
          "scattergeo": [
           {
            "marker": {
             "colorbar": {
              "outlinewidth": 0,
              "ticks": ""
             }
            },
            "type": "scattergeo"
           }
          ],
          "scattergl": [
           {
            "marker": {
             "colorbar": {
              "outlinewidth": 0,
              "ticks": ""
             }
            },
            "type": "scattergl"
           }
          ],
          "scattermapbox": [
           {
            "marker": {
             "colorbar": {
              "outlinewidth": 0,
              "ticks": ""
             }
            },
            "type": "scattermapbox"
           }
          ],
          "scatterpolar": [
           {
            "marker": {
             "colorbar": {
              "outlinewidth": 0,
              "ticks": ""
             }
            },
            "type": "scatterpolar"
           }
          ],
          "scatterpolargl": [
           {
            "marker": {
             "colorbar": {
              "outlinewidth": 0,
              "ticks": ""
             }
            },
            "type": "scatterpolargl"
           }
          ],
          "scatterternary": [
           {
            "marker": {
             "colorbar": {
              "outlinewidth": 0,
              "ticks": ""
             }
            },
            "type": "scatterternary"
           }
          ],
          "surface": [
           {
            "colorbar": {
             "outlinewidth": 0,
             "ticks": ""
            },
            "colorscale": [
             [
              0,
              "#0d0887"
             ],
             [
              0.1111111111111111,
              "#46039f"
             ],
             [
              0.2222222222222222,
              "#7201a8"
             ],
             [
              0.3333333333333333,
              "#9c179e"
             ],
             [
              0.4444444444444444,
              "#bd3786"
             ],
             [
              0.5555555555555556,
              "#d8576b"
             ],
             [
              0.6666666666666666,
              "#ed7953"
             ],
             [
              0.7777777777777778,
              "#fb9f3a"
             ],
             [
              0.8888888888888888,
              "#fdca26"
             ],
             [
              1,
              "#f0f921"
             ]
            ],
            "type": "surface"
           }
          ],
          "table": [
           {
            "cells": {
             "fill": {
              "color": "#EBF0F8"
             },
             "line": {
              "color": "white"
             }
            },
            "header": {
             "fill": {
              "color": "#C8D4E3"
             },
             "line": {
              "color": "white"
             }
            },
            "type": "table"
           }
          ]
         },
         "layout": {
          "annotationdefaults": {
           "arrowcolor": "#2a3f5f",
           "arrowhead": 0,
           "arrowwidth": 1
          },
          "coloraxis": {
           "colorbar": {
            "outlinewidth": 0,
            "ticks": ""
           }
          },
          "colorscale": {
           "diverging": [
            [
             0,
             "#8e0152"
            ],
            [
             0.1,
             "#c51b7d"
            ],
            [
             0.2,
             "#de77ae"
            ],
            [
             0.3,
             "#f1b6da"
            ],
            [
             0.4,
             "#fde0ef"
            ],
            [
             0.5,
             "#f7f7f7"
            ],
            [
             0.6,
             "#e6f5d0"
            ],
            [
             0.7,
             "#b8e186"
            ],
            [
             0.8,
             "#7fbc41"
            ],
            [
             0.9,
             "#4d9221"
            ],
            [
             1,
             "#276419"
            ]
           ],
           "sequential": [
            [
             0,
             "#0d0887"
            ],
            [
             0.1111111111111111,
             "#46039f"
            ],
            [
             0.2222222222222222,
             "#7201a8"
            ],
            [
             0.3333333333333333,
             "#9c179e"
            ],
            [
             0.4444444444444444,
             "#bd3786"
            ],
            [
             0.5555555555555556,
             "#d8576b"
            ],
            [
             0.6666666666666666,
             "#ed7953"
            ],
            [
             0.7777777777777778,
             "#fb9f3a"
            ],
            [
             0.8888888888888888,
             "#fdca26"
            ],
            [
             1,
             "#f0f921"
            ]
           ],
           "sequentialminus": [
            [
             0,
             "#0d0887"
            ],
            [
             0.1111111111111111,
             "#46039f"
            ],
            [
             0.2222222222222222,
             "#7201a8"
            ],
            [
             0.3333333333333333,
             "#9c179e"
            ],
            [
             0.4444444444444444,
             "#bd3786"
            ],
            [
             0.5555555555555556,
             "#d8576b"
            ],
            [
             0.6666666666666666,
             "#ed7953"
            ],
            [
             0.7777777777777778,
             "#fb9f3a"
            ],
            [
             0.8888888888888888,
             "#fdca26"
            ],
            [
             1,
             "#f0f921"
            ]
           ]
          },
          "colorway": [
           "#636efa",
           "#EF553B",
           "#00cc96",
           "#ab63fa",
           "#FFA15A",
           "#19d3f3",
           "#FF6692",
           "#B6E880",
           "#FF97FF",
           "#FECB52"
          ],
          "font": {
           "color": "#2a3f5f"
          },
          "geo": {
           "bgcolor": "white",
           "lakecolor": "white",
           "landcolor": "#E5ECF6",
           "showlakes": true,
           "showland": true,
           "subunitcolor": "white"
          },
          "hoverlabel": {
           "align": "left"
          },
          "hovermode": "closest",
          "mapbox": {
           "style": "light"
          },
          "paper_bgcolor": "white",
          "plot_bgcolor": "#E5ECF6",
          "polar": {
           "angularaxis": {
            "gridcolor": "white",
            "linecolor": "white",
            "ticks": ""
           },
           "bgcolor": "#E5ECF6",
           "radialaxis": {
            "gridcolor": "white",
            "linecolor": "white",
            "ticks": ""
           }
          },
          "scene": {
           "xaxis": {
            "backgroundcolor": "#E5ECF6",
            "gridcolor": "white",
            "gridwidth": 2,
            "linecolor": "white",
            "showbackground": true,
            "ticks": "",
            "zerolinecolor": "white"
           },
           "yaxis": {
            "backgroundcolor": "#E5ECF6",
            "gridcolor": "white",
            "gridwidth": 2,
            "linecolor": "white",
            "showbackground": true,
            "ticks": "",
            "zerolinecolor": "white"
           },
           "zaxis": {
            "backgroundcolor": "#E5ECF6",
            "gridcolor": "white",
            "gridwidth": 2,
            "linecolor": "white",
            "showbackground": true,
            "ticks": "",
            "zerolinecolor": "white"
           }
          },
          "shapedefaults": {
           "line": {
            "color": "#2a3f5f"
           }
          },
          "ternary": {
           "aaxis": {
            "gridcolor": "white",
            "linecolor": "white",
            "ticks": ""
           },
           "baxis": {
            "gridcolor": "white",
            "linecolor": "white",
            "ticks": ""
           },
           "bgcolor": "#E5ECF6",
           "caxis": {
            "gridcolor": "white",
            "linecolor": "white",
            "ticks": ""
           }
          },
          "title": {
           "x": 0.05
          },
          "xaxis": {
           "automargin": true,
           "gridcolor": "white",
           "linecolor": "white",
           "ticks": "",
           "title": {
            "standoff": 15
           },
           "zerolinecolor": "white",
           "zerolinewidth": 2
          },
          "yaxis": {
           "automargin": true,
           "gridcolor": "white",
           "linecolor": "white",
           "ticks": "",
           "title": {
            "standoff": 15
           },
           "zerolinecolor": "white",
           "zerolinewidth": 2
          }
         }
        },
        "title": {
         "text": "Average Area covered by 15 minute Walk"
        },
        "xaxis": {
         "anchor": "y",
         "categoryorder": "total ascending",
         "domain": [
          0,
          1
         ],
         "title": {
          "text": "Name"
         }
        },
        "yaxis": {
         "anchor": "x",
         "domain": [
          0,
          1
         ],
         "title": {
          "text": "avg of 15 Minute Range Area"
         }
        }
       }
      }
     },
     "metadata": {}
    }
   ],
   "source": [
    "#Thought it would be fun to draw the 15 minutes walking area coverage for each KL train station, Bukit Bintang is the best, Sg Besi the worst \n",
    "fig = px.histogram(data_all[data_all[\"City\"]=='Kuala Lumpur']\n",
    "             ,x='Name'\n",
    "             ,y='15 Minute Range Area'\n",
    "             #,color='Route Name'\n",
    "             , labels={'count':'Count of Heroes'}\n",
    "             , title=\"Average Area covered by 15 minute Walk\"\n",
    "             , template='plotly' \n",
    "             , histfunc = 'avg'\n",
    "            ).update_xaxes(categoryorder='total ascending')\n",
    "        \n",
    "fig.show()"
   ]
  },
  {
   "source": [
    "The Singapore and Montreal dataset doesn't really include the equivalent of Komuter trains like KL so i thought it would be unfair to bundle them together because generally the coverage for those stations are not as great due to low density. So i excluded Komuter in the following averages so that we get purely mass transit styled train stations"
   ],
   "cell_type": "markdown",
   "metadata": {}
  },
  {
   "cell_type": "code",
   "execution_count": 32,
   "metadata": {},
   "outputs": [
    {
     "output_type": "execute_result",
     "data": {
      "text/plain": [
       "array(['Keretapi Tanah Melayu', 'Rapid KL', 'Express Rail Link',\n",
       "       'Rapid Bus'], dtype=object)"
      ]
     },
     "metadata": {},
     "execution_count": 32
    }
   ],
   "source": [
    "data_kl['Service Provider Name'].unique()"
   ]
  },
  {
   "cell_type": "code",
   "execution_count": 59,
   "metadata": {},
   "outputs": [],
   "source": [
    "non_rapidkl =['Keretapi Tanah Melayu', 'Express Rail Link','Rapid Bus']\n",
    "data_temp = data_all[(data_all[\"Service Provider Name\"]=='STM')|(data_all[\"Service Provider Name\"]=='Rapid KL')|(data_all[\"Service Provider Name\"]=='SMRT')]"
   ]
  },
  {
   "cell_type": "code",
   "execution_count": 60,
   "metadata": {},
   "outputs": [
    {
     "output_type": "execute_result",
     "data": {
      "text/plain": [
       "                                  Name   Route Name   Latitude   Longitude  \\\n",
       "60                                PWTC  Ampang Line   3.166563  101.693594   \n",
       "61                       SULTAN ISMAIL  Ampang Line   3.161185  101.694127   \n",
       "62                           BANDARAYA  Ampang Line   3.155548  101.694406   \n",
       "63                          TITIWANGSA  Ampang Line   3.173591  101.695273   \n",
       "64                        SENTUL TIMUR  Ampang Line   3.185821  101.695335   \n",
       "..                                 ...          ...        ...         ...   \n",
       "68                         D'Iberville    Blue Line  45.553078  -73.602270   \n",
       "69                        Saint-Michel    Blue Line  45.559813  -73.599940   \n",
       "70                          Berri–UQAM  Yellow Line  45.515027  -73.561260   \n",
       "71                        Jean-Drapeau  Yellow Line  45.512435  -73.533170   \n",
       "72  Longueuil–Université-de-Sherbrooke  Yellow Line  45.524966  -73.521970   \n",
       "\n",
       "   Line Colour  5 Minute Range Area  10 Minute Range Area  \\\n",
       "60      Orange             0.269062              0.924177   \n",
       "61      Orange             0.154505              0.798401   \n",
       "62      Orange             0.338725              1.364728   \n",
       "63      Orange             0.405508              1.342984   \n",
       "64      Orange             0.157145              0.980905   \n",
       "..         ...                  ...                   ...   \n",
       "68        Blue             0.392088              1.532228   \n",
       "69        Blue             0.375009              1.528195   \n",
       "70      Yellow             0.395714              1.521756   \n",
       "71      Yellow             0.357867              1.249158   \n",
       "72      Yellow             0.274063              0.869148   \n",
       "\n",
       "    15 Minute Range Area  5 Minute Reach Factor  10 Minute Reach Factor  \\\n",
       "60              2.326002                 0.4933                  0.4236   \n",
       "61              2.067845                 0.2833                  0.3660   \n",
       "62              3.034092                 0.6210                  0.6255   \n",
       "63              3.347849                 0.7435                  0.6156   \n",
       "64              2.277380                 0.2881                  0.4496   \n",
       "..                   ...                    ...                     ...   \n",
       "68              3.482008                 0.7189                  0.7023   \n",
       "69              3.478716                 0.6876                  0.7005   \n",
       "70              3.442349                 0.7255                  0.6975   \n",
       "71              2.073656                 0.6561                  0.5726   \n",
       "72              1.877722                 0.5025                  0.3984   \n",
       "\n",
       "    15 Minute Reach Factor  5 Minute Population  10 Minute Population  \\\n",
       "60                  0.4738               1359.0                7026.0   \n",
       "61                  0.4213               1273.0                5538.0   \n",
       "62                  0.6181               2717.0                9469.0   \n",
       "63                  0.6820               3121.0                9825.0   \n",
       "64                  0.4639               1245.0                6512.0   \n",
       "..                     ...                  ...                   ...   \n",
       "68                  0.7093               4854.0               16359.0   \n",
       "69                  0.7087               3847.0               16371.0   \n",
       "70                  0.7013               1952.0               16004.0   \n",
       "71                  0.4224                  0.0                   0.0   \n",
       "72                  0.3825               3288.0                4240.0   \n",
       "\n",
       "    15 Minute Population          City Service Provider Name  \n",
       "60               16752.0  Kuala Lumpur              Rapid KL  \n",
       "61               13620.0  Kuala Lumpur              Rapid KL  \n",
       "62               19064.0  Kuala Lumpur              Rapid KL  \n",
       "63               23762.0  Kuala Lumpur              Rapid KL  \n",
       "64               16646.0  Kuala Lumpur              Rapid KL  \n",
       "..                   ...           ...                   ...  \n",
       "68               40443.0      Montreal                   STM  \n",
       "69               30414.0      Montreal                   STM  \n",
       "70               33577.0      Montreal                   STM  \n",
       "71                   0.0      Montreal                   STM  \n",
       "72                7946.0      Montreal                   STM  \n",
       "\n",
       "[387 rows x 16 columns]"
      ],
      "text/html": "<div>\n<style scoped>\n    .dataframe tbody tr th:only-of-type {\n        vertical-align: middle;\n    }\n\n    .dataframe tbody tr th {\n        vertical-align: top;\n    }\n\n    .dataframe thead th {\n        text-align: right;\n    }\n</style>\n<table border=\"1\" class=\"dataframe\">\n  <thead>\n    <tr style=\"text-align: right;\">\n      <th></th>\n      <th>Name</th>\n      <th>Route Name</th>\n      <th>Latitude</th>\n      <th>Longitude</th>\n      <th>Line Colour</th>\n      <th>5 Minute Range Area</th>\n      <th>10 Minute Range Area</th>\n      <th>15 Minute Range Area</th>\n      <th>5 Minute Reach Factor</th>\n      <th>10 Minute Reach Factor</th>\n      <th>15 Minute Reach Factor</th>\n      <th>5 Minute Population</th>\n      <th>10 Minute Population</th>\n      <th>15 Minute Population</th>\n      <th>City</th>\n      <th>Service Provider Name</th>\n    </tr>\n  </thead>\n  <tbody>\n    <tr>\n      <th>60</th>\n      <td>PWTC</td>\n      <td>Ampang Line</td>\n      <td>3.166563</td>\n      <td>101.693594</td>\n      <td>Orange</td>\n      <td>0.269062</td>\n      <td>0.924177</td>\n      <td>2.326002</td>\n      <td>0.4933</td>\n      <td>0.4236</td>\n      <td>0.4738</td>\n      <td>1359.0</td>\n      <td>7026.0</td>\n      <td>16752.0</td>\n      <td>Kuala Lumpur</td>\n      <td>Rapid KL</td>\n    </tr>\n    <tr>\n      <th>61</th>\n      <td>SULTAN ISMAIL</td>\n      <td>Ampang Line</td>\n      <td>3.161185</td>\n      <td>101.694127</td>\n      <td>Orange</td>\n      <td>0.154505</td>\n      <td>0.798401</td>\n      <td>2.067845</td>\n      <td>0.2833</td>\n      <td>0.3660</td>\n      <td>0.4213</td>\n      <td>1273.0</td>\n      <td>5538.0</td>\n      <td>13620.0</td>\n      <td>Kuala Lumpur</td>\n      <td>Rapid KL</td>\n    </tr>\n    <tr>\n      <th>62</th>\n      <td>BANDARAYA</td>\n      <td>Ampang Line</td>\n      <td>3.155548</td>\n      <td>101.694406</td>\n      <td>Orange</td>\n      <td>0.338725</td>\n      <td>1.364728</td>\n      <td>3.034092</td>\n      <td>0.6210</td>\n      <td>0.6255</td>\n      <td>0.6181</td>\n      <td>2717.0</td>\n      <td>9469.0</td>\n      <td>19064.0</td>\n      <td>Kuala Lumpur</td>\n      <td>Rapid KL</td>\n    </tr>\n    <tr>\n      <th>63</th>\n      <td>TITIWANGSA</td>\n      <td>Ampang Line</td>\n      <td>3.173591</td>\n      <td>101.695273</td>\n      <td>Orange</td>\n      <td>0.405508</td>\n      <td>1.342984</td>\n      <td>3.347849</td>\n      <td>0.7435</td>\n      <td>0.6156</td>\n      <td>0.6820</td>\n      <td>3121.0</td>\n      <td>9825.0</td>\n      <td>23762.0</td>\n      <td>Kuala Lumpur</td>\n      <td>Rapid KL</td>\n    </tr>\n    <tr>\n      <th>64</th>\n      <td>SENTUL TIMUR</td>\n      <td>Ampang Line</td>\n      <td>3.185821</td>\n      <td>101.695335</td>\n      <td>Orange</td>\n      <td>0.157145</td>\n      <td>0.980905</td>\n      <td>2.277380</td>\n      <td>0.2881</td>\n      <td>0.4496</td>\n      <td>0.4639</td>\n      <td>1245.0</td>\n      <td>6512.0</td>\n      <td>16646.0</td>\n      <td>Kuala Lumpur</td>\n      <td>Rapid KL</td>\n    </tr>\n    <tr>\n      <th>...</th>\n      <td>...</td>\n      <td>...</td>\n      <td>...</td>\n      <td>...</td>\n      <td>...</td>\n      <td>...</td>\n      <td>...</td>\n      <td>...</td>\n      <td>...</td>\n      <td>...</td>\n      <td>...</td>\n      <td>...</td>\n      <td>...</td>\n      <td>...</td>\n      <td>...</td>\n      <td>...</td>\n    </tr>\n    <tr>\n      <th>68</th>\n      <td>D'Iberville</td>\n      <td>Blue Line</td>\n      <td>45.553078</td>\n      <td>-73.602270</td>\n      <td>Blue</td>\n      <td>0.392088</td>\n      <td>1.532228</td>\n      <td>3.482008</td>\n      <td>0.7189</td>\n      <td>0.7023</td>\n      <td>0.7093</td>\n      <td>4854.0</td>\n      <td>16359.0</td>\n      <td>40443.0</td>\n      <td>Montreal</td>\n      <td>STM</td>\n    </tr>\n    <tr>\n      <th>69</th>\n      <td>Saint-Michel</td>\n      <td>Blue Line</td>\n      <td>45.559813</td>\n      <td>-73.599940</td>\n      <td>Blue</td>\n      <td>0.375009</td>\n      <td>1.528195</td>\n      <td>3.478716</td>\n      <td>0.6876</td>\n      <td>0.7005</td>\n      <td>0.7087</td>\n      <td>3847.0</td>\n      <td>16371.0</td>\n      <td>30414.0</td>\n      <td>Montreal</td>\n      <td>STM</td>\n    </tr>\n    <tr>\n      <th>70</th>\n      <td>Berri–UQAM</td>\n      <td>Yellow Line</td>\n      <td>45.515027</td>\n      <td>-73.561260</td>\n      <td>Yellow</td>\n      <td>0.395714</td>\n      <td>1.521756</td>\n      <td>3.442349</td>\n      <td>0.7255</td>\n      <td>0.6975</td>\n      <td>0.7013</td>\n      <td>1952.0</td>\n      <td>16004.0</td>\n      <td>33577.0</td>\n      <td>Montreal</td>\n      <td>STM</td>\n    </tr>\n    <tr>\n      <th>71</th>\n      <td>Jean-Drapeau</td>\n      <td>Yellow Line</td>\n      <td>45.512435</td>\n      <td>-73.533170</td>\n      <td>Yellow</td>\n      <td>0.357867</td>\n      <td>1.249158</td>\n      <td>2.073656</td>\n      <td>0.6561</td>\n      <td>0.5726</td>\n      <td>0.4224</td>\n      <td>0.0</td>\n      <td>0.0</td>\n      <td>0.0</td>\n      <td>Montreal</td>\n      <td>STM</td>\n    </tr>\n    <tr>\n      <th>72</th>\n      <td>Longueuil–Université-de-Sherbrooke</td>\n      <td>Yellow Line</td>\n      <td>45.524966</td>\n      <td>-73.521970</td>\n      <td>Yellow</td>\n      <td>0.274063</td>\n      <td>0.869148</td>\n      <td>1.877722</td>\n      <td>0.5025</td>\n      <td>0.3984</td>\n      <td>0.3825</td>\n      <td>3288.0</td>\n      <td>4240.0</td>\n      <td>7946.0</td>\n      <td>Montreal</td>\n      <td>STM</td>\n    </tr>\n  </tbody>\n</table>\n<p>387 rows × 16 columns</p>\n</div>"
     },
     "metadata": {},
     "execution_count": 60
    }
   ],
   "source": [
    "data_temp"
   ]
  },
  {
   "cell_type": "code",
   "execution_count": 73,
   "metadata": {},
   "outputs": [
    {
     "output_type": "display_data",
     "data": {
      "application/vnd.plotly.v1+json": {
       "config": {
        "plotlyServerURL": "https://plot.ly"
       },
       "data": [
        {
         "alignmentgroup": "True",
         "bingroup": "x",
         "histfunc": "avg",
         "hovertemplate": "variable=5 Minute Range Area<br>City=%{x}<br>avg of Walk Able Area Coverage(km^2)=%{y}<extra></extra>",
         "legendgroup": "5 Minute Range Area",
         "marker": {
          "color": "#636efa"
         },
         "name": "5 Minute Range Area",
         "offsetgroup": "5 Minute Range Area",
         "orientation": "v",
         "showlegend": true,
         "type": "histogram",
         "x": [
          "Kuala Lumpur",
          "Kuala Lumpur",
          "Kuala Lumpur",
          "Kuala Lumpur",
          "Kuala Lumpur",
          "Kuala Lumpur",
          "Kuala Lumpur",
          "Kuala Lumpur",
          "Kuala Lumpur",
          "Kuala Lumpur",
          "Kuala Lumpur",
          "Kuala Lumpur",
          "Kuala Lumpur",
          "Kuala Lumpur",
          "Kuala Lumpur",
          "Kuala Lumpur",
          "Kuala Lumpur",
          "Kuala Lumpur",
          "Kuala Lumpur",
          "Kuala Lumpur",
          "Kuala Lumpur",
          "Kuala Lumpur",
          "Kuala Lumpur",
          "Kuala Lumpur",
          "Kuala Lumpur",
          "Kuala Lumpur",
          "Kuala Lumpur",
          "Kuala Lumpur",
          "Kuala Lumpur",
          "Kuala Lumpur",
          "Kuala Lumpur",
          "Kuala Lumpur",
          "Kuala Lumpur",
          "Kuala Lumpur",
          "Kuala Lumpur",
          "Kuala Lumpur",
          "Kuala Lumpur",
          "Kuala Lumpur",
          "Kuala Lumpur",
          "Kuala Lumpur",
          "Kuala Lumpur",
          "Kuala Lumpur",
          "Kuala Lumpur",
          "Kuala Lumpur",
          "Kuala Lumpur",
          "Kuala Lumpur",
          "Kuala Lumpur",
          "Kuala Lumpur",
          "Kuala Lumpur",
          "Kuala Lumpur",
          "Kuala Lumpur",
          "Kuala Lumpur",
          "Kuala Lumpur",
          "Kuala Lumpur",
          "Kuala Lumpur",
          "Kuala Lumpur",
          "Kuala Lumpur",
          "Kuala Lumpur",
          "Kuala Lumpur",
          "Kuala Lumpur",
          "Kuala Lumpur",
          "Kuala Lumpur",
          "Kuala Lumpur",
          "Kuala Lumpur",
          "Kuala Lumpur",
          "Kuala Lumpur",
          "Kuala Lumpur",
          "Kuala Lumpur",
          "Kuala Lumpur",
          "Kuala Lumpur",
          "Kuala Lumpur",
          "Kuala Lumpur",
          "Kuala Lumpur",
          "Kuala Lumpur",
          "Kuala Lumpur",
          "Kuala Lumpur",
          "Kuala Lumpur",
          "Kuala Lumpur",
          "Kuala Lumpur",
          "Kuala Lumpur",
          "Kuala Lumpur",
          "Kuala Lumpur",
          "Kuala Lumpur",
          "Kuala Lumpur",
          "Kuala Lumpur",
          "Kuala Lumpur",
          "Kuala Lumpur",
          "Kuala Lumpur",
          "Kuala Lumpur",
          "Kuala Lumpur",
          "Kuala Lumpur",
          "Kuala Lumpur",
          "Kuala Lumpur",
          "Kuala Lumpur",
          "Kuala Lumpur",
          "Kuala Lumpur",
          "Kuala Lumpur",
          "Kuala Lumpur",
          "Kuala Lumpur",
          "Kuala Lumpur",
          "Kuala Lumpur",
          "Kuala Lumpur",
          "Kuala Lumpur",
          "Kuala Lumpur",
          "Kuala Lumpur",
          "Kuala Lumpur",
          "Kuala Lumpur",
          "Kuala Lumpur",
          "Kuala Lumpur",
          "Kuala Lumpur",
          "Kuala Lumpur",
          "Kuala Lumpur",
          "Kuala Lumpur",
          "Kuala Lumpur",
          "Kuala Lumpur",
          "Kuala Lumpur",
          "Kuala Lumpur",
          "Kuala Lumpur",
          "Kuala Lumpur",
          "Kuala Lumpur",
          "Kuala Lumpur",
          "Kuala Lumpur",
          "Kuala Lumpur",
          "Kuala Lumpur",
          "Kuala Lumpur",
          "Kuala Lumpur",
          "Singapore",
          "Singapore",
          "Singapore",
          "Singapore",
          "Singapore",
          "Singapore",
          "Singapore",
          "Singapore",
          "Singapore",
          "Singapore",
          "Singapore",
          "Singapore",
          "Singapore",
          "Singapore",
          "Singapore",
          "Singapore",
          "Singapore",
          "Singapore",
          "Singapore",
          "Singapore",
          "Singapore",
          "Singapore",
          "Singapore",
          "Singapore",
          "Singapore",
          "Singapore",
          "Singapore",
          "Singapore",
          "Singapore",
          "Singapore",
          "Singapore",
          "Singapore",
          "Singapore",
          "Singapore",
          "Singapore",
          "Singapore",
          "Singapore",
          "Singapore",
          "Singapore",
          "Singapore",
          "Singapore",
          "Singapore",
          "Singapore",
          "Singapore",
          "Singapore",
          "Singapore",
          "Singapore",
          "Singapore",
          "Singapore",
          "Singapore",
          "Singapore",
          "Singapore",
          "Singapore",
          "Singapore",
          "Singapore",
          "Singapore",
          "Singapore",
          "Singapore",
          "Singapore",
          "Singapore",
          "Singapore",
          "Singapore",
          "Singapore",
          "Singapore",
          "Singapore",
          "Singapore",
          "Singapore",
          "Singapore",
          "Singapore",
          "Singapore",
          "Singapore",
          "Singapore",
          "Singapore",
          "Singapore",
          "Singapore",
          "Singapore",
          "Singapore",
          "Singapore",
          "Singapore",
          "Singapore",
          "Singapore",
          "Singapore",
          "Singapore",
          "Singapore",
          "Singapore",
          "Singapore",
          "Singapore",
          "Singapore",
          "Singapore",
          "Singapore",
          "Singapore",
          "Singapore",
          "Singapore",
          "Singapore",
          "Singapore",
          "Singapore",
          "Singapore",
          "Singapore",
          "Singapore",
          "Singapore",
          "Singapore",
          "Singapore",
          "Singapore",
          "Singapore",
          "Singapore",
          "Singapore",
          "Singapore",
          "Singapore",
          "Singapore",
          "Singapore",
          "Singapore",
          "Singapore",
          "Singapore",
          "Singapore",
          "Singapore",
          "Singapore",
          "Singapore",
          "Singapore",
          "Singapore",
          "Singapore",
          "Singapore",
          "Singapore",
          "Singapore",
          "Singapore",
          "Singapore",
          "Singapore",
          "Singapore",
          "Singapore",
          "Singapore",
          "Singapore",
          "Singapore",
          "Singapore",
          "Singapore",
          "Singapore",
          "Singapore",
          "Singapore",
          "Singapore",
          "Singapore",
          "Singapore",
          "Singapore",
          "Singapore",
          "Singapore",
          "Singapore",
          "Singapore",
          "Singapore",
          "Singapore",
          "Singapore",
          "Singapore",
          "Singapore",
          "Singapore",
          "Singapore",
          "Singapore",
          "Singapore",
          "Singapore",
          "Singapore",
          "Singapore",
          "Singapore",
          "Singapore",
          "Singapore",
          "Singapore",
          "Singapore",
          "Singapore",
          "Singapore",
          "Singapore",
          "Singapore",
          "Singapore",
          "Singapore",
          "Singapore",
          "Singapore",
          "Singapore",
          "Singapore",
          "Singapore",
          "Singapore",
          "Singapore",
          "Singapore",
          "Singapore",
          "Singapore",
          "Singapore",
          "Singapore",
          "Singapore",
          "Singapore",
          "Singapore",
          "Singapore",
          "Singapore",
          "Singapore",
          "Singapore",
          "Singapore",
          "Singapore",
          "Montreal",
          "Montreal",
          "Montreal",
          "Montreal",
          "Montreal",
          "Montreal",
          "Montreal",
          "Montreal",
          "Montreal",
          "Montreal",
          "Montreal",
          "Montreal",
          "Montreal",
          "Montreal",
          "Montreal",
          "Montreal",
          "Montreal",
          "Montreal",
          "Montreal",
          "Montreal",
          "Montreal",
          "Montreal",
          "Montreal",
          "Montreal",
          "Montreal",
          "Montreal",
          "Montreal",
          "Montreal",
          "Montreal",
          "Montreal",
          "Montreal",
          "Montreal",
          "Montreal",
          "Montreal",
          "Montreal",
          "Montreal",
          "Montreal",
          "Montreal",
          "Montreal",
          "Montreal",
          "Montreal",
          "Montreal",
          "Montreal",
          "Montreal",
          "Montreal",
          "Montreal",
          "Montreal",
          "Montreal",
          "Montreal",
          "Montreal",
          "Montreal",
          "Montreal",
          "Montreal",
          "Montreal",
          "Montreal",
          "Montreal",
          "Montreal",
          "Montreal",
          "Montreal",
          "Montreal",
          "Montreal",
          "Montreal",
          "Montreal",
          "Montreal",
          "Montreal",
          "Montreal",
          "Montreal",
          "Montreal",
          "Montreal",
          "Montreal",
          "Montreal",
          "Montreal",
          "Montreal"
         ],
         "xaxis": "x",
         "y": [
          0.26906171,
          0.15450475,
          0.33872519,
          0.4055085,
          0.15714489,
          0.24470721,
          0.36333794,
          0.07630496,
          0.33342265000000004,
          0.33547277000000003,
          0.06614274,
          0.11082318,
          0.13059189,
          0.11739755,
          0.31730063000000003,
          0.21667868,
          0.20537105,
          0.12197596,
          0.12265542,
          0.33586209999999994,
          0.36522905,
          0.31761483,
          0.21022807,
          0.22576668,
          0.09057403,
          0.10225474,
          0.04970757,
          0.31457741,
          0.13177419,
          0.1906056,
          0.27380348,
          0.26906171,
          0.15450475,
          0.33872519,
          0.4055085,
          0.15714489,
          0.24470721,
          0.36333794,
          0.07630496,
          0.33342265000000004,
          0.20228178,
          0.03054939,
          0.09247795,
          0.33547277000000003,
          0.16389781,
          0.22348186,
          0.06614274,
          0.02530701,
          0.16040958,
          0.1698428,
          0.11361832,
          0.22206273,
          0.07811616,
          0.19771855,
          0.09758441,
          0.27431869,
          0.25019654,
          0.15652442000000005,
          0.01941681,
          0.29413713,
          0.30555996,
          0.32056655,
          0.18513043,
          0.27262057,
          0.23457008,
          0.22490972,
          0.23995215,
          0.07561281,
          0.32445034,
          0.28214027,
          0.30422587,
          0.31950989,
          0.21064803,
          0.18697426,
          0.32710491,
          0.25415424,
          0.34063571000000004,
          0.06022527,
          0.16263701,
          0.01305441,
          0.31715362,
          0.21985721,
          0.22370993,
          0.08860449000000001,
          0.28214027,
          0.29059041,
          0.24917128,
          0.4139009,
          0.31355846000000004,
          0.18190541,
          0.2962856,
          0.14768968,
          0.27496969,
          0.37616625,
          0.41847803,
          0.08765650999999999,
          0.16284754,
          0.08980397,
          0.24337264,
          0.07355569,
          0.19710253,
          0.27255515,
          0.04514654,
          0.19377531,
          0.184111,
          0.24931903,
          0.06253457,
          0.22174793,
          0.29679511,
          0.20178587,
          0.41213447,
          0.23793609999999998,
          0.29826654,
          0.22825747,
          0.31758584,
          0.25106741,
          0.19347108,
          0.11326242,
          0.17065887,
          0.10409232,
          0.22135276,
          0.1445443,
          0.0635617,
          0.22253983,
          0.31536557,
          0.19288203,
          0.32083076,
          0.24974448,
          0.39122226,
          0.35549572,
          0.40423276,
          0.23860742,
          0.38141276,
          0.37592321,
          0.32682163000000003,
          0.38039419,
          0.22064463,
          0.27596921,
          0.4038661,
          0.29721442,
          0.04368641,
          0.37988838,
          0.33689349,
          0.30012209,
          0.35519624,
          0.21481487,
          0.10788819,
          0.25373975,
          0.37328935,
          0.36428131,
          0.33806044,
          0.35140752000000003,
          0.30217058,
          0.41911905,
          0.25963923,
          0.40034478,
          0.39344699,
          0.37079496,
          0.31394972,
          0.36673288,
          0.27050781,
          0.29378288,
          0.33596387,
          0.30124514,
          0.27060484999999995,
          0.39712975,
          0.26134764,
          0.28028084000000003,
          0.36694037,
          0.3469751,
          0.3237457,
          0.29145252,
          0.30467572,
          0.34119790000000005,
          0.30120607,
          0.29333324,
          0.22607003,
          0.32384003,
          0.29099093,
          0.27612154,
          0.28898696,
          0.27828554,
          0.39032676,
          0.17509821,
          0.29890735,
          0.34112614,
          0.24869253,
          0.31770639,
          0.38106891,
          0.16705035,
          0.40615219,
          0.39032676,
          0.39032676,
          0.17444122,
          0.30015401,
          0.23522243,
          0.26207781,
          0.13936781,
          0.44662694,
          0.21257505,
          0.36649291,
          0.39269192,
          0.31185648,
          0.05565127,
          0.35452717,
          0.12260258,
          0.39788734,
          0.20661844,
          0.33600344,
          0.28256859,
          0.43725735,
          0.25569524,
          0.30815654,
          0.30385473,
          0.32792069,
          0.24440502,
          0.36379326,
          0.38939618,
          0.23860742,
          0.23860742,
          0.16077712,
          0.01274809,
          0.08822469999999999,
          0.33049512,
          0.28049632,
          0.33406233,
          0.37923081,
          0.30792559,
          0.3003659,
          0.40118079,
          0.30786795,
          0.30988151,
          0.33830562,
          0.32408999,
          0.14790731,
          0.29842571999999995,
          0.31364039,
          0.03951637,
          0.40002796,
          0.27584246999999995,
          0.37443396,
          0.06117714,
          0.32973487,
          0.38721209,
          0.28670156,
          0.30587506,
          0.37675099,
          0.24746583,
          0.24919145,
          0.22610717,
          0.35356203,
          0.3965147,
          0.3473953,
          0.25624502,
          0.29428877000000003,
          0.40720284,
          0.26925827,
          0.15680152,
          0.39879008,
          0.37728026,
          0.31655628,
          0.14790731,
          0.14790731,
          0.30854023,
          0.33272704,
          0.31336999,
          0.31360144,
          0.20174143,
          0.35522732,
          0.22610717,
          0.22610717,
          0.31278875,
          0.26354590000000006,
          0.12733044999999998,
          0.29092321000000004,
          0.32774196,
          0.3105843,
          0.26222574,
          0.25356893,
          0.29428877000000003,
          0.29428877000000003,
          0.16151010000000002,
          0.20174942,
          0.12947608,
          0.32442305,
          0.14335177,
          0.19179456,
          0.35066585,
          0.23964457,
          0.32246328,
          0.27496883,
          0.34496908000000004,
          0.32175121,
          0.24434739000000005,
          0.27374774,
          0.26486935,
          0.15856835,
          0.316239,
          0.26796662,
          0.27538221,
          0.22809766,
          0.30385665,
          0.27795057,
          0.35497017,
          0.23677624,
          0.22940376,
          0.37261368,
          0.29435137,
          0.31078164,
          0.34631443,
          0.29890735,
          0.30945208,
          0.30660389,
          0.03287103,
          0.37383366,
          0.3914287,
          0.37632413,
          0.38748382,
          0.4035171,
          0.28849926000000004,
          0.42427207,
          0.37267480000000003,
          0.40749663,
          0.38254458,
          0.39522666,
          0.39400676,
          0.39505627,
          0.3986232,
          0.39571435,
          0.18676032,
          0.25110096,
          0.37973419,
          0.40275467,
          0.37726783,
          0.34685577,
          0.34242676,
          0.33127459000000004,
          0.38379295,
          0.39764963,
          0.37805018,
          0.39478023,
          0.409486,
          0.38677325,
          0.26703797,
          0.40911922,
          0.41268376,
          0.38813196,
          0.34906852,
          0.38260035,
          0.3500844,
          0.34186343,
          0.17970057,
          0.39934889,
          0.35178218,
          0.40195145,
          0.37601133,
          0.35873564,
          0.32598871999999995,
          0.32518096,
          0.36354624,
          0.29776519,
          0.08345632,
          0.3244336,
          0.34680237,
          0.38793811,
          0.39087348,
          0.3912551,
          0.41350870000000006,
          0.36868676,
          0.29508840000000003,
          0.34035555,
          0.35036949,
          0.34906852,
          0.39640117,
          0.29979778,
          0.34585941,
          0.37597107,
          0.38903384,
          0.33710517,
          0.40669168,
          0.38816969,
          0.39178688,
          0.39208831,
          0.3750088,
          0.39571435,
          0.35786694,
          0.27406334000000004
         ],
         "yaxis": "y"
        },
        {
         "alignmentgroup": "True",
         "bingroup": "x",
         "histfunc": "avg",
         "hovertemplate": "variable=10 Minute Range Area<br>City=%{x}<br>avg of Walk Able Area Coverage(km^2)=%{y}<extra></extra>",
         "legendgroup": "10 Minute Range Area",
         "marker": {
          "color": "#EF553B"
         },
         "name": "10 Minute Range Area",
         "offsetgroup": "10 Minute Range Area",
         "orientation": "v",
         "showlegend": true,
         "type": "histogram",
         "x": [
          "Kuala Lumpur",
          "Kuala Lumpur",
          "Kuala Lumpur",
          "Kuala Lumpur",
          "Kuala Lumpur",
          "Kuala Lumpur",
          "Kuala Lumpur",
          "Kuala Lumpur",
          "Kuala Lumpur",
          "Kuala Lumpur",
          "Kuala Lumpur",
          "Kuala Lumpur",
          "Kuala Lumpur",
          "Kuala Lumpur",
          "Kuala Lumpur",
          "Kuala Lumpur",
          "Kuala Lumpur",
          "Kuala Lumpur",
          "Kuala Lumpur",
          "Kuala Lumpur",
          "Kuala Lumpur",
          "Kuala Lumpur",
          "Kuala Lumpur",
          "Kuala Lumpur",
          "Kuala Lumpur",
          "Kuala Lumpur",
          "Kuala Lumpur",
          "Kuala Lumpur",
          "Kuala Lumpur",
          "Kuala Lumpur",
          "Kuala Lumpur",
          "Kuala Lumpur",
          "Kuala Lumpur",
          "Kuala Lumpur",
          "Kuala Lumpur",
          "Kuala Lumpur",
          "Kuala Lumpur",
          "Kuala Lumpur",
          "Kuala Lumpur",
          "Kuala Lumpur",
          "Kuala Lumpur",
          "Kuala Lumpur",
          "Kuala Lumpur",
          "Kuala Lumpur",
          "Kuala Lumpur",
          "Kuala Lumpur",
          "Kuala Lumpur",
          "Kuala Lumpur",
          "Kuala Lumpur",
          "Kuala Lumpur",
          "Kuala Lumpur",
          "Kuala Lumpur",
          "Kuala Lumpur",
          "Kuala Lumpur",
          "Kuala Lumpur",
          "Kuala Lumpur",
          "Kuala Lumpur",
          "Kuala Lumpur",
          "Kuala Lumpur",
          "Kuala Lumpur",
          "Kuala Lumpur",
          "Kuala Lumpur",
          "Kuala Lumpur",
          "Kuala Lumpur",
          "Kuala Lumpur",
          "Kuala Lumpur",
          "Kuala Lumpur",
          "Kuala Lumpur",
          "Kuala Lumpur",
          "Kuala Lumpur",
          "Kuala Lumpur",
          "Kuala Lumpur",
          "Kuala Lumpur",
          "Kuala Lumpur",
          "Kuala Lumpur",
          "Kuala Lumpur",
          "Kuala Lumpur",
          "Kuala Lumpur",
          "Kuala Lumpur",
          "Kuala Lumpur",
          "Kuala Lumpur",
          "Kuala Lumpur",
          "Kuala Lumpur",
          "Kuala Lumpur",
          "Kuala Lumpur",
          "Kuala Lumpur",
          "Kuala Lumpur",
          "Kuala Lumpur",
          "Kuala Lumpur",
          "Kuala Lumpur",
          "Kuala Lumpur",
          "Kuala Lumpur",
          "Kuala Lumpur",
          "Kuala Lumpur",
          "Kuala Lumpur",
          "Kuala Lumpur",
          "Kuala Lumpur",
          "Kuala Lumpur",
          "Kuala Lumpur",
          "Kuala Lumpur",
          "Kuala Lumpur",
          "Kuala Lumpur",
          "Kuala Lumpur",
          "Kuala Lumpur",
          "Kuala Lumpur",
          "Kuala Lumpur",
          "Kuala Lumpur",
          "Kuala Lumpur",
          "Kuala Lumpur",
          "Kuala Lumpur",
          "Kuala Lumpur",
          "Kuala Lumpur",
          "Kuala Lumpur",
          "Kuala Lumpur",
          "Kuala Lumpur",
          "Kuala Lumpur",
          "Kuala Lumpur",
          "Kuala Lumpur",
          "Kuala Lumpur",
          "Kuala Lumpur",
          "Kuala Lumpur",
          "Kuala Lumpur",
          "Kuala Lumpur",
          "Kuala Lumpur",
          "Kuala Lumpur",
          "Kuala Lumpur",
          "Singapore",
          "Singapore",
          "Singapore",
          "Singapore",
          "Singapore",
          "Singapore",
          "Singapore",
          "Singapore",
          "Singapore",
          "Singapore",
          "Singapore",
          "Singapore",
          "Singapore",
          "Singapore",
          "Singapore",
          "Singapore",
          "Singapore",
          "Singapore",
          "Singapore",
          "Singapore",
          "Singapore",
          "Singapore",
          "Singapore",
          "Singapore",
          "Singapore",
          "Singapore",
          "Singapore",
          "Singapore",
          "Singapore",
          "Singapore",
          "Singapore",
          "Singapore",
          "Singapore",
          "Singapore",
          "Singapore",
          "Singapore",
          "Singapore",
          "Singapore",
          "Singapore",
          "Singapore",
          "Singapore",
          "Singapore",
          "Singapore",
          "Singapore",
          "Singapore",
          "Singapore",
          "Singapore",
          "Singapore",
          "Singapore",
          "Singapore",
          "Singapore",
          "Singapore",
          "Singapore",
          "Singapore",
          "Singapore",
          "Singapore",
          "Singapore",
          "Singapore",
          "Singapore",
          "Singapore",
          "Singapore",
          "Singapore",
          "Singapore",
          "Singapore",
          "Singapore",
          "Singapore",
          "Singapore",
          "Singapore",
          "Singapore",
          "Singapore",
          "Singapore",
          "Singapore",
          "Singapore",
          "Singapore",
          "Singapore",
          "Singapore",
          "Singapore",
          "Singapore",
          "Singapore",
          "Singapore",
          "Singapore",
          "Singapore",
          "Singapore",
          "Singapore",
          "Singapore",
          "Singapore",
          "Singapore",
          "Singapore",
          "Singapore",
          "Singapore",
          "Singapore",
          "Singapore",
          "Singapore",
          "Singapore",
          "Singapore",
          "Singapore",
          "Singapore",
          "Singapore",
          "Singapore",
          "Singapore",
          "Singapore",
          "Singapore",
          "Singapore",
          "Singapore",
          "Singapore",
          "Singapore",
          "Singapore",
          "Singapore",
          "Singapore",
          "Singapore",
          "Singapore",
          "Singapore",
          "Singapore",
          "Singapore",
          "Singapore",
          "Singapore",
          "Singapore",
          "Singapore",
          "Singapore",
          "Singapore",
          "Singapore",
          "Singapore",
          "Singapore",
          "Singapore",
          "Singapore",
          "Singapore",
          "Singapore",
          "Singapore",
          "Singapore",
          "Singapore",
          "Singapore",
          "Singapore",
          "Singapore",
          "Singapore",
          "Singapore",
          "Singapore",
          "Singapore",
          "Singapore",
          "Singapore",
          "Singapore",
          "Singapore",
          "Singapore",
          "Singapore",
          "Singapore",
          "Singapore",
          "Singapore",
          "Singapore",
          "Singapore",
          "Singapore",
          "Singapore",
          "Singapore",
          "Singapore",
          "Singapore",
          "Singapore",
          "Singapore",
          "Singapore",
          "Singapore",
          "Singapore",
          "Singapore",
          "Singapore",
          "Singapore",
          "Singapore",
          "Singapore",
          "Singapore",
          "Singapore",
          "Singapore",
          "Singapore",
          "Singapore",
          "Singapore",
          "Singapore",
          "Singapore",
          "Singapore",
          "Singapore",
          "Singapore",
          "Singapore",
          "Singapore",
          "Singapore",
          "Singapore",
          "Singapore",
          "Singapore",
          "Singapore",
          "Singapore",
          "Singapore",
          "Singapore",
          "Singapore",
          "Singapore",
          "Singapore",
          "Singapore",
          "Montreal",
          "Montreal",
          "Montreal",
          "Montreal",
          "Montreal",
          "Montreal",
          "Montreal",
          "Montreal",
          "Montreal",
          "Montreal",
          "Montreal",
          "Montreal",
          "Montreal",
          "Montreal",
          "Montreal",
          "Montreal",
          "Montreal",
          "Montreal",
          "Montreal",
          "Montreal",
          "Montreal",
          "Montreal",
          "Montreal",
          "Montreal",
          "Montreal",
          "Montreal",
          "Montreal",
          "Montreal",
          "Montreal",
          "Montreal",
          "Montreal",
          "Montreal",
          "Montreal",
          "Montreal",
          "Montreal",
          "Montreal",
          "Montreal",
          "Montreal",
          "Montreal",
          "Montreal",
          "Montreal",
          "Montreal",
          "Montreal",
          "Montreal",
          "Montreal",
          "Montreal",
          "Montreal",
          "Montreal",
          "Montreal",
          "Montreal",
          "Montreal",
          "Montreal",
          "Montreal",
          "Montreal",
          "Montreal",
          "Montreal",
          "Montreal",
          "Montreal",
          "Montreal",
          "Montreal",
          "Montreal",
          "Montreal",
          "Montreal",
          "Montreal",
          "Montreal",
          "Montreal",
          "Montreal",
          "Montreal",
          "Montreal",
          "Montreal",
          "Montreal",
          "Montreal",
          "Montreal"
         ],
         "xaxis": "x",
         "y": [
          0.92417691,
          0.7984011999999999,
          1.36472762,
          1.34298447,
          0.98090547,
          1.02357174,
          1.55746101,
          0.72298485,
          1.41198538,
          1.4821436,
          0.62672413,
          0.7806436999999999,
          0.9356476,
          0.47636267,
          1.24453257,
          1.07525999,
          1.09510422,
          0.81903971,
          0.73257024,
          1.13294357,
          1.45600931,
          0.89987739,
          0.50985454,
          0.98216324,
          0.5042118400000001,
          0.90260851,
          0.32759746999999995,
          0.97697634,
          0.73425544,
          0.68582553,
          1.1683941100000002,
          0.92417691,
          0.7984011999999999,
          1.36472762,
          1.34298447,
          0.98090547,
          1.02357174,
          1.55746101,
          0.72298485,
          1.41198538,
          0.6867144599999999,
          0.14878633,
          0.39869570000000004,
          1.4821436,
          0.53962213,
          0.67318924,
          0.62672413,
          0.16422948,
          0.43262021,
          0.90576992,
          0.7680285,
          1.16814541,
          0.5649235600000001,
          0.6922888199999999,
          0.36784969,
          1.36313283,
          1.20327689,
          0.4365715200000001,
          0.35407823,
          1.1214638600000002,
          1.20383972,
          1.47026098,
          1.04967702,
          1.0948993500000002,
          0.90765761,
          1.04413535,
          1.11366205,
          0.54064726,
          1.22922377,
          1.0931096000000002,
          1.27589121,
          1.53404851,
          1.05327822,
          1.12110455,
          1.28973037,
          1.08005197,
          1.3024851000000002,
          0.31488911,
          0.60695367,
          0.3482228,
          1.24033532,
          1.11105647,
          0.95118687,
          0.63528049,
          1.0931096000000002,
          1.08590635,
          1.2373238000000002,
          1.60333891,
          1.41190189,
          0.82693069,
          1.27349018,
          1.01102235,
          1.33114698,
          1.62392868,
          1.6669872,
          0.57855598,
          0.41209059,
          0.68896523,
          1.10352806,
          0.27228962,
          1.05843076,
          1.20413996,
          0.30540356,
          0.94476396,
          0.79133798,
          0.92885163,
          0.18720546,
          1.1003413700000002,
          1.2527901,
          0.96496008,
          1.64609813,
          1.11365675,
          1.2501091599999998,
          1.37201775,
          1.44542673,
          0.98727396,
          1.05876432,
          0.55486018,
          0.6937985600000001,
          0.46559112,
          0.96051064,
          0.69035179,
          0.42910788,
          1.0818770800000002,
          1.34557196,
          0.63328998,
          1.53113113,
          1.07176247,
          1.5743571200000002,
          1.30611486,
          1.5836738899999998,
          1.1223221,
          1.52608661,
          1.43187952,
          1.3097426799999998,
          1.5553198899999998,
          1.23262706,
          1.29668335,
          1.5002853799999998,
          1.15940331,
          0.74180487,
          1.3721876000000002,
          1.26633734,
          1.1982833000000002,
          1.41948029,
          1.04635007,
          0.78198805,
          1.34657377,
          1.4337218,
          1.55276902,
          1.45506478,
          1.48998349,
          1.03790775,
          1.65000645,
          1.29902357,
          1.58489696,
          1.5840154199999998,
          1.47464092,
          1.17821185,
          1.45935521,
          1.16413859,
          1.05231065,
          1.36783022,
          1.36715596,
          1.03631906,
          1.32333344,
          1.25159535,
          1.2552633999999998,
          1.42343131,
          1.41338068,
          1.11811405,
          1.29016303,
          1.29359923,
          0.98764028,
          1.41934521,
          1.34265833,
          1.13276947,
          1.41821142,
          1.24609581,
          1.13293124,
          1.33398866,
          1.2181877,
          1.43861496,
          1.13605388,
          1.43264901,
          1.47659836,
          1.25530822,
          1.31416863,
          1.5580054,
          1.00376902,
          1.57922438,
          1.43861496,
          1.43861496,
          0.8835772900000001,
          1.29382706,
          1.0968311899999998,
          1.02459187,
          0.68698045,
          1.73175627,
          1.05561514,
          1.66048357,
          1.52046193,
          1.01592012,
          0.55248069,
          1.48035562,
          0.91170193,
          1.59739128,
          1.0772316599999998,
          1.40003077,
          0.87505462,
          1.41707594,
          0.91451141,
          1.14334468,
          1.35140745,
          1.39044743,
          1.14224964,
          1.46785597,
          1.40504356,
          1.1223221,
          1.1223221,
          0.92298066,
          0.33871851000000003,
          0.24268361,
          1.39045251,
          1.30823229,
          1.44840732,
          1.43075665,
          1.33720812,
          1.39628497,
          1.35593387,
          1.38960604,
          1.28243115,
          1.36701456,
          1.42235052,
          0.92021224,
          1.32171204,
          0.95943535,
          0.10312241,
          1.4076495,
          1.28775594,
          1.4869218400000002,
          0.68110763,
          1.29668647,
          1.59865882,
          1.23355012,
          1.3831632,
          1.35192101,
          1.1918581499999998,
          1.23903412,
          1.21292144,
          1.38939346,
          1.57972833,
          1.39108827,
          1.34925203,
          0.97678689,
          1.60258792,
          1.20658632,
          0.86126554,
          1.29953697,
          1.47846389,
          1.43361786,
          0.92021224,
          0.92021224,
          1.29702198,
          1.47306214,
          1.16793905,
          1.39614903,
          0.8396337700000001,
          1.40751916,
          1.21292144,
          1.21292144,
          1.33071668,
          1.29227145,
          0.85271489,
          1.29512364,
          1.41103514,
          1.09679385,
          1.38019256,
          1.05488899,
          0.97678689,
          0.97678689,
          1.13855996,
          1.17049947,
          0.6442948100000001,
          1.42185855,
          0.7980155,
          0.9556007,
          1.27480795,
          1.00123476,
          1.19727392,
          1.26116763,
          1.4444350700000002,
          1.1772221699999998,
          1.11620031,
          0.78895855,
          1.0214803,
          0.46731606,
          1.27100393,
          0.85439594,
          1.25187503,
          0.91093632,
          1.2909656399999998,
          1.29976231,
          1.3580285,
          1.1832616100000002,
          0.8548066400000001,
          1.32153549,
          1.0820693600000002,
          1.31420945,
          1.44305706,
          1.43264901,
          1.02912665,
          1.44749495,
          0.25182782,
          1.34705782,
          1.4375126100000002,
          1.47242364,
          1.4023828,
          1.52110845,
          1.19207575,
          1.47381578,
          1.52285143,
          1.53432354,
          1.52281176,
          1.53811805,
          1.57145841,
          1.55739985,
          1.57319796,
          1.52175602,
          1.01708063,
          1.14510239,
          1.40660781,
          1.46629808,
          1.51447504,
          1.42659356,
          1.10265227,
          1.34732547,
          1.50054257,
          1.53829174,
          1.46451219,
          1.43501709,
          1.5248205700000002,
          1.39950899,
          1.20764753,
          1.3594442,
          1.5466711599999998,
          1.5024729,
          1.4289938999999998,
          1.4343523,
          1.26544768,
          1.29122052,
          1.13618352,
          1.58929685,
          1.46389171,
          1.5246791000000002,
          1.53792079,
          1.4728685,
          1.39041645,
          1.42984118,
          1.4886983,
          1.36187953,
          0.80520038,
          1.3815727,
          1.41828756,
          1.51911249,
          1.5225503,
          1.56619971,
          1.52848107,
          1.44221315,
          1.15283976,
          1.43575701,
          1.28787609,
          1.4289938999999998,
          1.4847229,
          1.2891715700000002,
          1.39858267,
          1.48556951,
          1.5534956000000002,
          1.2365643400000002,
          1.50813383,
          1.5111252,
          1.5108191599999998,
          1.53222806,
          1.5281948,
          1.52175602,
          1.24915759,
          0.86914759
         ],
         "yaxis": "y"
        },
        {
         "alignmentgroup": "True",
         "bingroup": "x",
         "histfunc": "avg",
         "hovertemplate": "variable=15 Minute Range Area<br>City=%{x}<br>avg of Walk Able Area Coverage(km^2)=%{y}<extra></extra>",
         "legendgroup": "15 Minute Range Area",
         "marker": {
          "color": "#00cc96"
         },
         "name": "15 Minute Range Area",
         "offsetgroup": "15 Minute Range Area",
         "orientation": "v",
         "showlegend": true,
         "type": "histogram",
         "x": [
          "Kuala Lumpur",
          "Kuala Lumpur",
          "Kuala Lumpur",
          "Kuala Lumpur",
          "Kuala Lumpur",
          "Kuala Lumpur",
          "Kuala Lumpur",
          "Kuala Lumpur",
          "Kuala Lumpur",
          "Kuala Lumpur",
          "Kuala Lumpur",
          "Kuala Lumpur",
          "Kuala Lumpur",
          "Kuala Lumpur",
          "Kuala Lumpur",
          "Kuala Lumpur",
          "Kuala Lumpur",
          "Kuala Lumpur",
          "Kuala Lumpur",
          "Kuala Lumpur",
          "Kuala Lumpur",
          "Kuala Lumpur",
          "Kuala Lumpur",
          "Kuala Lumpur",
          "Kuala Lumpur",
          "Kuala Lumpur",
          "Kuala Lumpur",
          "Kuala Lumpur",
          "Kuala Lumpur",
          "Kuala Lumpur",
          "Kuala Lumpur",
          "Kuala Lumpur",
          "Kuala Lumpur",
          "Kuala Lumpur",
          "Kuala Lumpur",
          "Kuala Lumpur",
          "Kuala Lumpur",
          "Kuala Lumpur",
          "Kuala Lumpur",
          "Kuala Lumpur",
          "Kuala Lumpur",
          "Kuala Lumpur",
          "Kuala Lumpur",
          "Kuala Lumpur",
          "Kuala Lumpur",
          "Kuala Lumpur",
          "Kuala Lumpur",
          "Kuala Lumpur",
          "Kuala Lumpur",
          "Kuala Lumpur",
          "Kuala Lumpur",
          "Kuala Lumpur",
          "Kuala Lumpur",
          "Kuala Lumpur",
          "Kuala Lumpur",
          "Kuala Lumpur",
          "Kuala Lumpur",
          "Kuala Lumpur",
          "Kuala Lumpur",
          "Kuala Lumpur",
          "Kuala Lumpur",
          "Kuala Lumpur",
          "Kuala Lumpur",
          "Kuala Lumpur",
          "Kuala Lumpur",
          "Kuala Lumpur",
          "Kuala Lumpur",
          "Kuala Lumpur",
          "Kuala Lumpur",
          "Kuala Lumpur",
          "Kuala Lumpur",
          "Kuala Lumpur",
          "Kuala Lumpur",
          "Kuala Lumpur",
          "Kuala Lumpur",
          "Kuala Lumpur",
          "Kuala Lumpur",
          "Kuala Lumpur",
          "Kuala Lumpur",
          "Kuala Lumpur",
          "Kuala Lumpur",
          "Kuala Lumpur",
          "Kuala Lumpur",
          "Kuala Lumpur",
          "Kuala Lumpur",
          "Kuala Lumpur",
          "Kuala Lumpur",
          "Kuala Lumpur",
          "Kuala Lumpur",
          "Kuala Lumpur",
          "Kuala Lumpur",
          "Kuala Lumpur",
          "Kuala Lumpur",
          "Kuala Lumpur",
          "Kuala Lumpur",
          "Kuala Lumpur",
          "Kuala Lumpur",
          "Kuala Lumpur",
          "Kuala Lumpur",
          "Kuala Lumpur",
          "Kuala Lumpur",
          "Kuala Lumpur",
          "Kuala Lumpur",
          "Kuala Lumpur",
          "Kuala Lumpur",
          "Kuala Lumpur",
          "Kuala Lumpur",
          "Kuala Lumpur",
          "Kuala Lumpur",
          "Kuala Lumpur",
          "Kuala Lumpur",
          "Kuala Lumpur",
          "Kuala Lumpur",
          "Kuala Lumpur",
          "Kuala Lumpur",
          "Kuala Lumpur",
          "Kuala Lumpur",
          "Kuala Lumpur",
          "Kuala Lumpur",
          "Kuala Lumpur",
          "Kuala Lumpur",
          "Kuala Lumpur",
          "Kuala Lumpur",
          "Kuala Lumpur",
          "Kuala Lumpur",
          "Kuala Lumpur",
          "Singapore",
          "Singapore",
          "Singapore",
          "Singapore",
          "Singapore",
          "Singapore",
          "Singapore",
          "Singapore",
          "Singapore",
          "Singapore",
          "Singapore",
          "Singapore",
          "Singapore",
          "Singapore",
          "Singapore",
          "Singapore",
          "Singapore",
          "Singapore",
          "Singapore",
          "Singapore",
          "Singapore",
          "Singapore",
          "Singapore",
          "Singapore",
          "Singapore",
          "Singapore",
          "Singapore",
          "Singapore",
          "Singapore",
          "Singapore",
          "Singapore",
          "Singapore",
          "Singapore",
          "Singapore",
          "Singapore",
          "Singapore",
          "Singapore",
          "Singapore",
          "Singapore",
          "Singapore",
          "Singapore",
          "Singapore",
          "Singapore",
          "Singapore",
          "Singapore",
          "Singapore",
          "Singapore",
          "Singapore",
          "Singapore",
          "Singapore",
          "Singapore",
          "Singapore",
          "Singapore",
          "Singapore",
          "Singapore",
          "Singapore",
          "Singapore",
          "Singapore",
          "Singapore",
          "Singapore",
          "Singapore",
          "Singapore",
          "Singapore",
          "Singapore",
          "Singapore",
          "Singapore",
          "Singapore",
          "Singapore",
          "Singapore",
          "Singapore",
          "Singapore",
          "Singapore",
          "Singapore",
          "Singapore",
          "Singapore",
          "Singapore",
          "Singapore",
          "Singapore",
          "Singapore",
          "Singapore",
          "Singapore",
          "Singapore",
          "Singapore",
          "Singapore",
          "Singapore",
          "Singapore",
          "Singapore",
          "Singapore",
          "Singapore",
          "Singapore",
          "Singapore",
          "Singapore",
          "Singapore",
          "Singapore",
          "Singapore",
          "Singapore",
          "Singapore",
          "Singapore",
          "Singapore",
          "Singapore",
          "Singapore",
          "Singapore",
          "Singapore",
          "Singapore",
          "Singapore",
          "Singapore",
          "Singapore",
          "Singapore",
          "Singapore",
          "Singapore",
          "Singapore",
          "Singapore",
          "Singapore",
          "Singapore",
          "Singapore",
          "Singapore",
          "Singapore",
          "Singapore",
          "Singapore",
          "Singapore",
          "Singapore",
          "Singapore",
          "Singapore",
          "Singapore",
          "Singapore",
          "Singapore",
          "Singapore",
          "Singapore",
          "Singapore",
          "Singapore",
          "Singapore",
          "Singapore",
          "Singapore",
          "Singapore",
          "Singapore",
          "Singapore",
          "Singapore",
          "Singapore",
          "Singapore",
          "Singapore",
          "Singapore",
          "Singapore",
          "Singapore",
          "Singapore",
          "Singapore",
          "Singapore",
          "Singapore",
          "Singapore",
          "Singapore",
          "Singapore",
          "Singapore",
          "Singapore",
          "Singapore",
          "Singapore",
          "Singapore",
          "Singapore",
          "Singapore",
          "Singapore",
          "Singapore",
          "Singapore",
          "Singapore",
          "Singapore",
          "Singapore",
          "Singapore",
          "Singapore",
          "Singapore",
          "Singapore",
          "Singapore",
          "Singapore",
          "Singapore",
          "Singapore",
          "Singapore",
          "Singapore",
          "Singapore",
          "Singapore",
          "Singapore",
          "Singapore",
          "Singapore",
          "Singapore",
          "Singapore",
          "Singapore",
          "Singapore",
          "Singapore",
          "Singapore",
          "Singapore",
          "Singapore",
          "Singapore",
          "Singapore",
          "Montreal",
          "Montreal",
          "Montreal",
          "Montreal",
          "Montreal",
          "Montreal",
          "Montreal",
          "Montreal",
          "Montreal",
          "Montreal",
          "Montreal",
          "Montreal",
          "Montreal",
          "Montreal",
          "Montreal",
          "Montreal",
          "Montreal",
          "Montreal",
          "Montreal",
          "Montreal",
          "Montreal",
          "Montreal",
          "Montreal",
          "Montreal",
          "Montreal",
          "Montreal",
          "Montreal",
          "Montreal",
          "Montreal",
          "Montreal",
          "Montreal",
          "Montreal",
          "Montreal",
          "Montreal",
          "Montreal",
          "Montreal",
          "Montreal",
          "Montreal",
          "Montreal",
          "Montreal",
          "Montreal",
          "Montreal",
          "Montreal",
          "Montreal",
          "Montreal",
          "Montreal",
          "Montreal",
          "Montreal",
          "Montreal",
          "Montreal",
          "Montreal",
          "Montreal",
          "Montreal",
          "Montreal",
          "Montreal",
          "Montreal",
          "Montreal",
          "Montreal",
          "Montreal",
          "Montreal",
          "Montreal",
          "Montreal",
          "Montreal",
          "Montreal",
          "Montreal",
          "Montreal",
          "Montreal",
          "Montreal",
          "Montreal",
          "Montreal",
          "Montreal",
          "Montreal",
          "Montreal"
         ],
         "xaxis": "x",
         "y": [
          2.3260019300000003,
          2.06784459,
          3.03409228,
          3.3478489500000004,
          2.27737988,
          2.42609726,
          3.55529003,
          2.15203207,
          3.19636508,
          3.3698826800000004,
          1.89715902,
          1.81025062,
          2.64383973,
          1.24546492,
          2.74410522,
          2.66057506,
          2.68636732,
          2.21643169,
          1.79636909,
          2.18843466,
          2.98010054,
          1.6374171599999998,
          0.98722519,
          2.21720784,
          1.23887132,
          2.06855075,
          1.16462712,
          2.00087113,
          1.52501166,
          1.79644307,
          2.45575257,
          2.3260019300000003,
          2.06784459,
          3.03409228,
          3.3478489500000004,
          2.27737988,
          2.42609726,
          3.55529003,
          2.15203207,
          3.19636508,
          1.29755614,
          0.25411249,
          1.26139229,
          3.3698826800000004,
          1.21211723,
          1.39905382,
          1.89715902,
          0.74580275,
          1.18892094,
          2.09640578,
          1.72637379,
          2.73355393,
          1.73639403,
          1.34087778,
          1.25403992,
          2.9872992000000003,
          2.81145117,
          1.18112971,
          1.2894693000000002,
          2.8605457000000003,
          2.76278958,
          3.41797496,
          2.66861507,
          2.80025152,
          2.38782148,
          2.07408561,
          2.51127217,
          1.60348074,
          3.01341988,
          2.73994134,
          3.00989514,
          3.39048139,
          2.54368452,
          2.67726333,
          2.96054976,
          2.5220779500000003,
          3.0872502,
          1.04935299,
          1.62723771,
          1.186555,
          2.85647758,
          2.8539164,
          2.31582804,
          1.87815032,
          2.73994134,
          2.3940083,
          2.99052753,
          3.4782148,
          2.9054479900000003,
          2.32324576,
          3.13054985,
          2.89758152,
          3.17771479,
          3.54678045,
          3.60001605,
          1.4906206000000002,
          0.82758591,
          1.82938798,
          2.3169378700000003,
          0.95605398,
          2.65375175,
          2.65303658,
          1.13780803,
          2.15393431,
          1.77871072,
          1.97489201,
          0.39435068,
          2.63121517,
          2.94639003,
          2.5506919,
          3.53785805,
          2.62723105,
          2.8983506,
          3.04547806,
          3.00657,
          2.54802141,
          2.5048589100000003,
          1.2397028,
          1.56865318,
          1.07107906,
          2.0038023700000003,
          1.19038395,
          1.13365564,
          2.59764313,
          3.36253283,
          1.09095396,
          3.41250644,
          2.54827031,
          3.5455191,
          3.0552604,
          3.59173937,
          2.69327547,
          3.42264795,
          2.79460143,
          3.20105883,
          3.59446692,
          3.05351361,
          2.93491671,
          2.86426427,
          2.60979625,
          2.16183052,
          2.81125044,
          3.06128666,
          2.83096345,
          3.35492784,
          2.63578254,
          2.19966486,
          3.28105116,
          3.20119296,
          3.3728589999999996,
          3.21415779,
          3.40376744,
          2.53479377,
          3.4771517000000003,
          2.85851892,
          3.43726859,
          3.20669763,
          3.2660547,
          2.81025303,
          3.2896859700000003,
          3.02794769,
          1.85520685,
          3.09185091,
          2.94481984,
          2.10411011,
          2.98010614,
          2.75727785,
          2.3699578,
          2.99781329,
          3.08381551,
          2.68331364,
          3.04527087,
          2.98146369,
          1.69756428,
          3.22636669,
          3.21398706,
          2.8947099900000004,
          3.15819882,
          2.93188419,
          2.61614835,
          3.0464307400000004,
          3.09801725,
          3.24143061,
          2.34825932,
          3.17496438,
          3.30029715,
          3.14910832,
          2.99991697,
          3.33615294,
          2.55771666,
          3.51898778,
          3.24143061,
          3.24143061,
          2.17739107,
          2.86401164,
          2.32848928,
          2.34972648,
          1.5747403400000002,
          3.83218467,
          2.65202319,
          3.48092844,
          3.35228514,
          2.4789492400000004,
          1.7026243600000002,
          2.77843279,
          2.4831644500000003,
          3.4487782200000003,
          2.62370187,
          3.28430663,
          1.77341498,
          3.08830592,
          1.78257608,
          2.53296727,
          3.18699557,
          3.31201172,
          2.59307099,
          3.38229841,
          3.0530792200000003,
          2.69327547,
          2.69327547,
          2.1973163,
          1.10625557,
          0.38469198,
          2.95437571,
          2.95505109,
          3.2333960999999998,
          3.18658514,
          3.1141616400000003,
          3.2023587000000004,
          2.90635469,
          3.15553639,
          2.71860243,
          3.11140538,
          3.16607077,
          1.93502788,
          2.73769014,
          1.70657243,
          0.88664949,
          2.95478059,
          3.02835661,
          3.17909082,
          2.10765067,
          3.04318807,
          3.31807505,
          2.90701663,
          3.23280639,
          2.55257744,
          2.85015809,
          2.97070154,
          2.78243146,
          2.7088249,
          3.63938158,
          3.10264381,
          3.14734666,
          2.1369849700000003,
          3.45740354,
          2.9191171,
          1.99135524,
          2.68572765,
          3.20809132,
          3.1851068700000003,
          1.93502788,
          1.93502788,
          3.1544526800000003,
          3.12327351,
          2.93288125,
          3.22490729,
          1.87384645,
          2.66392132,
          2.78243146,
          2.78243146,
          2.97167093,
          3.16877684,
          2.07733175,
          3.08215888,
          3.27523298,
          1.98969561,
          2.78268556,
          2.54900402,
          2.1369849700000003,
          2.1369849700000003,
          2.97244585,
          2.69343738,
          1.90827543,
          2.75608604,
          1.91409605,
          2.12567033,
          2.57647433,
          2.4546874,
          2.61928736,
          2.86620298,
          3.28628154,
          2.2495359500000003,
          2.7753887400000004,
          1.40382818,
          2.42954313,
          0.95571545,
          2.70756503,
          2.16476182,
          2.85653487,
          2.12365853,
          2.77706195,
          2.96387732,
          3.11319696,
          2.51546526,
          2.36933164,
          2.7270662000000003,
          2.39455926,
          3.02235158,
          3.20503196,
          3.17496438,
          1.8569794999999998,
          3.374736,
          0.72878146,
          3.1267422,
          3.36563703,
          3.34754866,
          3.1117759300000003,
          3.24703309,
          2.71295456,
          3.33296317,
          3.52111954,
          3.37244426,
          3.42647288,
          3.43075151,
          3.52888932,
          3.49611928,
          3.5464071,
          3.4423493,
          2.47379547,
          2.48993028,
          3.05483997,
          3.3481547000000003,
          3.44896379,
          3.31123949,
          2.81778716,
          2.94403075,
          3.31136883,
          3.37774206,
          3.1993252400000003,
          3.19089716,
          3.39038228,
          3.02870679,
          2.85681978,
          3.0451229100000003,
          3.46590275,
          3.40950132,
          3.21947551,
          3.30193938,
          2.72144646,
          2.69988571,
          2.93418013,
          3.35129379,
          3.42504677,
          3.4708597400000003,
          3.4253894500000004,
          3.25939242,
          3.10948983,
          3.34510542,
          3.4213247000000004,
          3.19636853,
          2.3192828,
          3.2565734500000003,
          3.19117851,
          3.41546281,
          3.45254993,
          3.51138988,
          3.4572342000000003,
          2.99464234,
          2.47120248,
          3.31174075,
          2.7090947,
          3.21947551,
          3.42398027,
          3.13866382,
          3.18270198,
          3.4172669300000003,
          3.37719553,
          2.96245959,
          3.32103431,
          3.42973777,
          3.35266966,
          3.4820076600000003,
          3.47871553,
          3.4423493,
          2.07365564,
          1.87772188
         ],
         "yaxis": "y"
        }
       ],
       "layout": {
        "barmode": "group",
        "legend": {
         "title": {
          "text": "variable"
         },
         "tracegroupgap": 0
        },
        "template": {
         "data": {
          "bar": [
           {
            "error_x": {
             "color": "#2a3f5f"
            },
            "error_y": {
             "color": "#2a3f5f"
            },
            "marker": {
             "line": {
              "color": "#E5ECF6",
              "width": 0.5
             }
            },
            "type": "bar"
           }
          ],
          "barpolar": [
           {
            "marker": {
             "line": {
              "color": "#E5ECF6",
              "width": 0.5
             }
            },
            "type": "barpolar"
           }
          ],
          "carpet": [
           {
            "aaxis": {
             "endlinecolor": "#2a3f5f",
             "gridcolor": "white",
             "linecolor": "white",
             "minorgridcolor": "white",
             "startlinecolor": "#2a3f5f"
            },
            "baxis": {
             "endlinecolor": "#2a3f5f",
             "gridcolor": "white",
             "linecolor": "white",
             "minorgridcolor": "white",
             "startlinecolor": "#2a3f5f"
            },
            "type": "carpet"
           }
          ],
          "choropleth": [
           {
            "colorbar": {
             "outlinewidth": 0,
             "ticks": ""
            },
            "type": "choropleth"
           }
          ],
          "contour": [
           {
            "colorbar": {
             "outlinewidth": 0,
             "ticks": ""
            },
            "colorscale": [
             [
              0,
              "#0d0887"
             ],
             [
              0.1111111111111111,
              "#46039f"
             ],
             [
              0.2222222222222222,
              "#7201a8"
             ],
             [
              0.3333333333333333,
              "#9c179e"
             ],
             [
              0.4444444444444444,
              "#bd3786"
             ],
             [
              0.5555555555555556,
              "#d8576b"
             ],
             [
              0.6666666666666666,
              "#ed7953"
             ],
             [
              0.7777777777777778,
              "#fb9f3a"
             ],
             [
              0.8888888888888888,
              "#fdca26"
             ],
             [
              1,
              "#f0f921"
             ]
            ],
            "type": "contour"
           }
          ],
          "contourcarpet": [
           {
            "colorbar": {
             "outlinewidth": 0,
             "ticks": ""
            },
            "type": "contourcarpet"
           }
          ],
          "heatmap": [
           {
            "colorbar": {
             "outlinewidth": 0,
             "ticks": ""
            },
            "colorscale": [
             [
              0,
              "#0d0887"
             ],
             [
              0.1111111111111111,
              "#46039f"
             ],
             [
              0.2222222222222222,
              "#7201a8"
             ],
             [
              0.3333333333333333,
              "#9c179e"
             ],
             [
              0.4444444444444444,
              "#bd3786"
             ],
             [
              0.5555555555555556,
              "#d8576b"
             ],
             [
              0.6666666666666666,
              "#ed7953"
             ],
             [
              0.7777777777777778,
              "#fb9f3a"
             ],
             [
              0.8888888888888888,
              "#fdca26"
             ],
             [
              1,
              "#f0f921"
             ]
            ],
            "type": "heatmap"
           }
          ],
          "heatmapgl": [
           {
            "colorbar": {
             "outlinewidth": 0,
             "ticks": ""
            },
            "colorscale": [
             [
              0,
              "#0d0887"
             ],
             [
              0.1111111111111111,
              "#46039f"
             ],
             [
              0.2222222222222222,
              "#7201a8"
             ],
             [
              0.3333333333333333,
              "#9c179e"
             ],
             [
              0.4444444444444444,
              "#bd3786"
             ],
             [
              0.5555555555555556,
              "#d8576b"
             ],
             [
              0.6666666666666666,
              "#ed7953"
             ],
             [
              0.7777777777777778,
              "#fb9f3a"
             ],
             [
              0.8888888888888888,
              "#fdca26"
             ],
             [
              1,
              "#f0f921"
             ]
            ],
            "type": "heatmapgl"
           }
          ],
          "histogram": [
           {
            "marker": {
             "colorbar": {
              "outlinewidth": 0,
              "ticks": ""
             }
            },
            "type": "histogram"
           }
          ],
          "histogram2d": [
           {
            "colorbar": {
             "outlinewidth": 0,
             "ticks": ""
            },
            "colorscale": [
             [
              0,
              "#0d0887"
             ],
             [
              0.1111111111111111,
              "#46039f"
             ],
             [
              0.2222222222222222,
              "#7201a8"
             ],
             [
              0.3333333333333333,
              "#9c179e"
             ],
             [
              0.4444444444444444,
              "#bd3786"
             ],
             [
              0.5555555555555556,
              "#d8576b"
             ],
             [
              0.6666666666666666,
              "#ed7953"
             ],
             [
              0.7777777777777778,
              "#fb9f3a"
             ],
             [
              0.8888888888888888,
              "#fdca26"
             ],
             [
              1,
              "#f0f921"
             ]
            ],
            "type": "histogram2d"
           }
          ],
          "histogram2dcontour": [
           {
            "colorbar": {
             "outlinewidth": 0,
             "ticks": ""
            },
            "colorscale": [
             [
              0,
              "#0d0887"
             ],
             [
              0.1111111111111111,
              "#46039f"
             ],
             [
              0.2222222222222222,
              "#7201a8"
             ],
             [
              0.3333333333333333,
              "#9c179e"
             ],
             [
              0.4444444444444444,
              "#bd3786"
             ],
             [
              0.5555555555555556,
              "#d8576b"
             ],
             [
              0.6666666666666666,
              "#ed7953"
             ],
             [
              0.7777777777777778,
              "#fb9f3a"
             ],
             [
              0.8888888888888888,
              "#fdca26"
             ],
             [
              1,
              "#f0f921"
             ]
            ],
            "type": "histogram2dcontour"
           }
          ],
          "mesh3d": [
           {
            "colorbar": {
             "outlinewidth": 0,
             "ticks": ""
            },
            "type": "mesh3d"
           }
          ],
          "parcoords": [
           {
            "line": {
             "colorbar": {
              "outlinewidth": 0,
              "ticks": ""
             }
            },
            "type": "parcoords"
           }
          ],
          "pie": [
           {
            "automargin": true,
            "type": "pie"
           }
          ],
          "scatter": [
           {
            "marker": {
             "colorbar": {
              "outlinewidth": 0,
              "ticks": ""
             }
            },
            "type": "scatter"
           }
          ],
          "scatter3d": [
           {
            "line": {
             "colorbar": {
              "outlinewidth": 0,
              "ticks": ""
             }
            },
            "marker": {
             "colorbar": {
              "outlinewidth": 0,
              "ticks": ""
             }
            },
            "type": "scatter3d"
           }
          ],
          "scattercarpet": [
           {
            "marker": {
             "colorbar": {
              "outlinewidth": 0,
              "ticks": ""
             }
            },
            "type": "scattercarpet"
           }
          ],
          "scattergeo": [
           {
            "marker": {
             "colorbar": {
              "outlinewidth": 0,
              "ticks": ""
             }
            },
            "type": "scattergeo"
           }
          ],
          "scattergl": [
           {
            "marker": {
             "colorbar": {
              "outlinewidth": 0,
              "ticks": ""
             }
            },
            "type": "scattergl"
           }
          ],
          "scattermapbox": [
           {
            "marker": {
             "colorbar": {
              "outlinewidth": 0,
              "ticks": ""
             }
            },
            "type": "scattermapbox"
           }
          ],
          "scatterpolar": [
           {
            "marker": {
             "colorbar": {
              "outlinewidth": 0,
              "ticks": ""
             }
            },
            "type": "scatterpolar"
           }
          ],
          "scatterpolargl": [
           {
            "marker": {
             "colorbar": {
              "outlinewidth": 0,
              "ticks": ""
             }
            },
            "type": "scatterpolargl"
           }
          ],
          "scatterternary": [
           {
            "marker": {
             "colorbar": {
              "outlinewidth": 0,
              "ticks": ""
             }
            },
            "type": "scatterternary"
           }
          ],
          "surface": [
           {
            "colorbar": {
             "outlinewidth": 0,
             "ticks": ""
            },
            "colorscale": [
             [
              0,
              "#0d0887"
             ],
             [
              0.1111111111111111,
              "#46039f"
             ],
             [
              0.2222222222222222,
              "#7201a8"
             ],
             [
              0.3333333333333333,
              "#9c179e"
             ],
             [
              0.4444444444444444,
              "#bd3786"
             ],
             [
              0.5555555555555556,
              "#d8576b"
             ],
             [
              0.6666666666666666,
              "#ed7953"
             ],
             [
              0.7777777777777778,
              "#fb9f3a"
             ],
             [
              0.8888888888888888,
              "#fdca26"
             ],
             [
              1,
              "#f0f921"
             ]
            ],
            "type": "surface"
           }
          ],
          "table": [
           {
            "cells": {
             "fill": {
              "color": "#EBF0F8"
             },
             "line": {
              "color": "white"
             }
            },
            "header": {
             "fill": {
              "color": "#C8D4E3"
             },
             "line": {
              "color": "white"
             }
            },
            "type": "table"
           }
          ]
         },
         "layout": {
          "annotationdefaults": {
           "arrowcolor": "#2a3f5f",
           "arrowhead": 0,
           "arrowwidth": 1
          },
          "coloraxis": {
           "colorbar": {
            "outlinewidth": 0,
            "ticks": ""
           }
          },
          "colorscale": {
           "diverging": [
            [
             0,
             "#8e0152"
            ],
            [
             0.1,
             "#c51b7d"
            ],
            [
             0.2,
             "#de77ae"
            ],
            [
             0.3,
             "#f1b6da"
            ],
            [
             0.4,
             "#fde0ef"
            ],
            [
             0.5,
             "#f7f7f7"
            ],
            [
             0.6,
             "#e6f5d0"
            ],
            [
             0.7,
             "#b8e186"
            ],
            [
             0.8,
             "#7fbc41"
            ],
            [
             0.9,
             "#4d9221"
            ],
            [
             1,
             "#276419"
            ]
           ],
           "sequential": [
            [
             0,
             "#0d0887"
            ],
            [
             0.1111111111111111,
             "#46039f"
            ],
            [
             0.2222222222222222,
             "#7201a8"
            ],
            [
             0.3333333333333333,
             "#9c179e"
            ],
            [
             0.4444444444444444,
             "#bd3786"
            ],
            [
             0.5555555555555556,
             "#d8576b"
            ],
            [
             0.6666666666666666,
             "#ed7953"
            ],
            [
             0.7777777777777778,
             "#fb9f3a"
            ],
            [
             0.8888888888888888,
             "#fdca26"
            ],
            [
             1,
             "#f0f921"
            ]
           ],
           "sequentialminus": [
            [
             0,
             "#0d0887"
            ],
            [
             0.1111111111111111,
             "#46039f"
            ],
            [
             0.2222222222222222,
             "#7201a8"
            ],
            [
             0.3333333333333333,
             "#9c179e"
            ],
            [
             0.4444444444444444,
             "#bd3786"
            ],
            [
             0.5555555555555556,
             "#d8576b"
            ],
            [
             0.6666666666666666,
             "#ed7953"
            ],
            [
             0.7777777777777778,
             "#fb9f3a"
            ],
            [
             0.8888888888888888,
             "#fdca26"
            ],
            [
             1,
             "#f0f921"
            ]
           ]
          },
          "colorway": [
           "#636efa",
           "#EF553B",
           "#00cc96",
           "#ab63fa",
           "#FFA15A",
           "#19d3f3",
           "#FF6692",
           "#B6E880",
           "#FF97FF",
           "#FECB52"
          ],
          "font": {
           "color": "#2a3f5f"
          },
          "geo": {
           "bgcolor": "white",
           "lakecolor": "white",
           "landcolor": "#E5ECF6",
           "showlakes": true,
           "showland": true,
           "subunitcolor": "white"
          },
          "hoverlabel": {
           "align": "left"
          },
          "hovermode": "closest",
          "mapbox": {
           "style": "light"
          },
          "paper_bgcolor": "white",
          "plot_bgcolor": "#E5ECF6",
          "polar": {
           "angularaxis": {
            "gridcolor": "white",
            "linecolor": "white",
            "ticks": ""
           },
           "bgcolor": "#E5ECF6",
           "radialaxis": {
            "gridcolor": "white",
            "linecolor": "white",
            "ticks": ""
           }
          },
          "scene": {
           "xaxis": {
            "backgroundcolor": "#E5ECF6",
            "gridcolor": "white",
            "gridwidth": 2,
            "linecolor": "white",
            "showbackground": true,
            "ticks": "",
            "zerolinecolor": "white"
           },
           "yaxis": {
            "backgroundcolor": "#E5ECF6",
            "gridcolor": "white",
            "gridwidth": 2,
            "linecolor": "white",
            "showbackground": true,
            "ticks": "",
            "zerolinecolor": "white"
           },
           "zaxis": {
            "backgroundcolor": "#E5ECF6",
            "gridcolor": "white",
            "gridwidth": 2,
            "linecolor": "white",
            "showbackground": true,
            "ticks": "",
            "zerolinecolor": "white"
           }
          },
          "shapedefaults": {
           "line": {
            "color": "#2a3f5f"
           }
          },
          "ternary": {
           "aaxis": {
            "gridcolor": "white",
            "linecolor": "white",
            "ticks": ""
           },
           "baxis": {
            "gridcolor": "white",
            "linecolor": "white",
            "ticks": ""
           },
           "bgcolor": "#E5ECF6",
           "caxis": {
            "gridcolor": "white",
            "linecolor": "white",
            "ticks": ""
           }
          },
          "title": {
           "x": 0.05
          },
          "xaxis": {
           "automargin": true,
           "gridcolor": "white",
           "linecolor": "white",
           "ticks": "",
           "title": {
            "standoff": 15
           },
           "zerolinecolor": "white",
           "zerolinewidth": 2
          },
          "yaxis": {
           "automargin": true,
           "gridcolor": "white",
           "linecolor": "white",
           "ticks": "",
           "title": {
            "standoff": 15
           },
           "zerolinecolor": "white",
           "zerolinewidth": 2
          }
         }
        },
        "title": {
         "text": "Area coverage within walking times from station"
        },
        "xaxis": {
         "anchor": "y",
         "categoryorder": "total ascending",
         "domain": [
          0,
          1
         ],
         "title": {
          "text": "City"
         }
        },
        "yaxis": {
         "anchor": "x",
         "domain": [
          0,
          1
         ],
         "title": {
          "text": "avg of Walk Able Area Coverage(km^2)"
         }
        }
       }
      }
     },
     "metadata": {}
    }
   ],
   "source": [
    "#comparing walking area coverage averaged out for different cities this includes all our train lines\n",
    "fig = px.histogram(data_temp\n",
    "             ,x='City'\n",
    "             ,y=['5 Minute Range Area','10 Minute Range Area','15 Minute Range Area']\n",
    "             , barmode = 'group'\n",
    "             , title=\"Area coverage within walking times from station\"\n",
    "             , template='plotly'\n",
    "             , histfunc = 'avg'\n",
    "             ,labels={'Route Name': \"Lines\", 'value':'Walk Able Area Coverage(km^2)'}\n",
    "            ).update_xaxes(categoryorder='total ascending')\n",
    "\n",
    "fig.show() "
   ]
  },
  {
   "cell_type": "code",
   "execution_count": 74,
   "metadata": {},
   "outputs": [
    {
     "output_type": "display_data",
     "data": {
      "application/vnd.plotly.v1+json": {
       "config": {
        "plotlyServerURL": "https://plot.ly"
       },
       "data": [
        {
         "alignmentgroup": "True",
         "bingroup": "x",
         "histfunc": "avg",
         "hovertemplate": "variable=5 Minute Population<br>City=%{x}<br>avg of Population Coverage=%{y}<extra></extra>",
         "legendgroup": "5 Minute Population",
         "marker": {
          "color": "#636efa"
         },
         "name": "5 Minute Population",
         "offsetgroup": "5 Minute Population",
         "orientation": "v",
         "showlegend": true,
         "type": "histogram",
         "x": [
          "Kuala Lumpur",
          "Kuala Lumpur",
          "Kuala Lumpur",
          "Kuala Lumpur",
          "Kuala Lumpur",
          "Kuala Lumpur",
          "Kuala Lumpur",
          "Kuala Lumpur",
          "Kuala Lumpur",
          "Kuala Lumpur",
          "Kuala Lumpur",
          "Kuala Lumpur",
          "Kuala Lumpur",
          "Kuala Lumpur",
          "Kuala Lumpur",
          "Kuala Lumpur",
          "Kuala Lumpur",
          "Kuala Lumpur",
          "Kuala Lumpur",
          "Kuala Lumpur",
          "Kuala Lumpur",
          "Kuala Lumpur",
          "Kuala Lumpur",
          "Kuala Lumpur",
          "Kuala Lumpur",
          "Kuala Lumpur",
          "Kuala Lumpur",
          "Kuala Lumpur",
          "Kuala Lumpur",
          "Kuala Lumpur",
          "Kuala Lumpur",
          "Kuala Lumpur",
          "Kuala Lumpur",
          "Kuala Lumpur",
          "Kuala Lumpur",
          "Kuala Lumpur",
          "Kuala Lumpur",
          "Kuala Lumpur",
          "Kuala Lumpur",
          "Kuala Lumpur",
          "Kuala Lumpur",
          "Kuala Lumpur",
          "Kuala Lumpur",
          "Kuala Lumpur",
          "Kuala Lumpur",
          "Kuala Lumpur",
          "Kuala Lumpur",
          "Kuala Lumpur",
          "Kuala Lumpur",
          "Kuala Lumpur",
          "Kuala Lumpur",
          "Kuala Lumpur",
          "Kuala Lumpur",
          "Kuala Lumpur",
          "Kuala Lumpur",
          "Kuala Lumpur",
          "Kuala Lumpur",
          "Kuala Lumpur",
          "Kuala Lumpur",
          "Kuala Lumpur",
          "Kuala Lumpur",
          "Kuala Lumpur",
          "Kuala Lumpur",
          "Kuala Lumpur",
          "Kuala Lumpur",
          "Kuala Lumpur",
          "Kuala Lumpur",
          "Kuala Lumpur",
          "Kuala Lumpur",
          "Kuala Lumpur",
          "Kuala Lumpur",
          "Kuala Lumpur",
          "Kuala Lumpur",
          "Kuala Lumpur",
          "Kuala Lumpur",
          "Kuala Lumpur",
          "Kuala Lumpur",
          "Kuala Lumpur",
          "Kuala Lumpur",
          "Kuala Lumpur",
          "Kuala Lumpur",
          "Kuala Lumpur",
          "Kuala Lumpur",
          "Kuala Lumpur",
          "Kuala Lumpur",
          "Kuala Lumpur",
          "Kuala Lumpur",
          "Kuala Lumpur",
          "Kuala Lumpur",
          "Kuala Lumpur",
          "Kuala Lumpur",
          "Kuala Lumpur",
          "Kuala Lumpur",
          "Kuala Lumpur",
          "Kuala Lumpur",
          "Kuala Lumpur",
          "Kuala Lumpur",
          "Kuala Lumpur",
          "Kuala Lumpur",
          "Kuala Lumpur",
          "Kuala Lumpur",
          "Kuala Lumpur",
          "Kuala Lumpur",
          "Kuala Lumpur",
          "Kuala Lumpur",
          "Kuala Lumpur",
          "Kuala Lumpur",
          "Kuala Lumpur",
          "Kuala Lumpur",
          "Kuala Lumpur",
          "Kuala Lumpur",
          "Kuala Lumpur",
          "Kuala Lumpur",
          "Kuala Lumpur",
          "Kuala Lumpur",
          "Kuala Lumpur",
          "Kuala Lumpur",
          "Kuala Lumpur",
          "Kuala Lumpur",
          "Kuala Lumpur",
          "Kuala Lumpur",
          "Kuala Lumpur",
          "Kuala Lumpur",
          "Kuala Lumpur",
          "Kuala Lumpur",
          "Kuala Lumpur",
          "Singapore",
          "Singapore",
          "Singapore",
          "Singapore",
          "Singapore",
          "Singapore",
          "Singapore",
          "Singapore",
          "Singapore",
          "Singapore",
          "Singapore",
          "Singapore",
          "Singapore",
          "Singapore",
          "Singapore",
          "Singapore",
          "Singapore",
          "Singapore",
          "Singapore",
          "Singapore",
          "Singapore",
          "Singapore",
          "Singapore",
          "Singapore",
          "Singapore",
          "Singapore",
          "Singapore",
          "Singapore",
          "Singapore",
          "Singapore",
          "Singapore",
          "Singapore",
          "Singapore",
          "Singapore",
          "Singapore",
          "Singapore",
          "Singapore",
          "Singapore",
          "Singapore",
          "Singapore",
          "Singapore",
          "Singapore",
          "Singapore",
          "Singapore",
          "Singapore",
          "Singapore",
          "Singapore",
          "Singapore",
          "Singapore",
          "Singapore",
          "Singapore",
          "Singapore",
          "Singapore",
          "Singapore",
          "Singapore",
          "Singapore",
          "Singapore",
          "Singapore",
          "Singapore",
          "Singapore",
          "Singapore",
          "Singapore",
          "Singapore",
          "Singapore",
          "Singapore",
          "Singapore",
          "Singapore",
          "Singapore",
          "Singapore",
          "Singapore",
          "Singapore",
          "Singapore",
          "Singapore",
          "Singapore",
          "Singapore",
          "Singapore",
          "Singapore",
          "Singapore",
          "Singapore",
          "Singapore",
          "Singapore",
          "Singapore",
          "Singapore",
          "Singapore",
          "Singapore",
          "Singapore",
          "Singapore",
          "Singapore",
          "Singapore",
          "Singapore",
          "Singapore",
          "Singapore",
          "Singapore",
          "Singapore",
          "Singapore",
          "Singapore",
          "Singapore",
          "Singapore",
          "Singapore",
          "Singapore",
          "Singapore",
          "Singapore",
          "Singapore",
          "Singapore",
          "Singapore",
          "Singapore",
          "Singapore",
          "Singapore",
          "Singapore",
          "Singapore",
          "Singapore",
          "Singapore",
          "Singapore",
          "Singapore",
          "Singapore",
          "Singapore",
          "Singapore",
          "Singapore",
          "Singapore",
          "Singapore",
          "Singapore",
          "Singapore",
          "Singapore",
          "Singapore",
          "Singapore",
          "Singapore",
          "Singapore",
          "Singapore",
          "Singapore",
          "Singapore",
          "Singapore",
          "Singapore",
          "Singapore",
          "Singapore",
          "Singapore",
          "Singapore",
          "Singapore",
          "Singapore",
          "Singapore",
          "Singapore",
          "Singapore",
          "Singapore",
          "Singapore",
          "Singapore",
          "Singapore",
          "Singapore",
          "Singapore",
          "Singapore",
          "Singapore",
          "Singapore",
          "Singapore",
          "Singapore",
          "Singapore",
          "Singapore",
          "Singapore",
          "Singapore",
          "Singapore",
          "Singapore",
          "Singapore",
          "Singapore",
          "Singapore",
          "Singapore",
          "Singapore",
          "Singapore",
          "Singapore",
          "Singapore",
          "Singapore",
          "Singapore",
          "Singapore",
          "Singapore",
          "Singapore",
          "Singapore",
          "Singapore",
          "Singapore",
          "Singapore",
          "Singapore",
          "Singapore",
          "Singapore",
          "Singapore",
          "Singapore",
          "Singapore",
          "Singapore",
          "Singapore",
          "Singapore",
          "Singapore",
          "Singapore",
          "Singapore",
          "Singapore",
          "Montreal",
          "Montreal",
          "Montreal",
          "Montreal",
          "Montreal",
          "Montreal",
          "Montreal",
          "Montreal",
          "Montreal",
          "Montreal",
          "Montreal",
          "Montreal",
          "Montreal",
          "Montreal",
          "Montreal",
          "Montreal",
          "Montreal",
          "Montreal",
          "Montreal",
          "Montreal",
          "Montreal",
          "Montreal",
          "Montreal",
          "Montreal",
          "Montreal",
          "Montreal",
          "Montreal",
          "Montreal",
          "Montreal",
          "Montreal",
          "Montreal",
          "Montreal",
          "Montreal",
          "Montreal",
          "Montreal",
          "Montreal",
          "Montreal",
          "Montreal",
          "Montreal",
          "Montreal",
          "Montreal",
          "Montreal",
          "Montreal",
          "Montreal",
          "Montreal",
          "Montreal",
          "Montreal",
          "Montreal",
          "Montreal",
          "Montreal",
          "Montreal",
          "Montreal",
          "Montreal",
          "Montreal",
          "Montreal",
          "Montreal",
          "Montreal",
          "Montreal",
          "Montreal",
          "Montreal",
          "Montreal",
          "Montreal",
          "Montreal",
          "Montreal",
          "Montreal",
          "Montreal",
          "Montreal",
          "Montreal",
          "Montreal",
          "Montreal",
          "Montreal",
          "Montreal",
          "Montreal"
         ],
         "xaxis": "x",
         "y": [
          1359,
          1273,
          2717,
          3121,
          1245,
          1160,
          2176,
          903,
          2208,
          2678,
          453,
          1019,
          891,
          1668,
          3536,
          4477,
          2675,
          1772,
          978,
          2419,
          3412,
          3031,
          1954,
          2036,
          1018,
          1018,
          1018,
          2840,
          573,
          1526,
          2509,
          1359,
          1273,
          2717,
          3121,
          1245,
          1160,
          2176,
          903,
          2208,
          1876,
          534,
          1718,
          2678,
          1543,
          1784,
          453,
          330,
          661,
          978,
          661,
          659,
          331,
          490,
          297,
          1617,
          1650,
          179,
          331,
          1654,
          1515,
          1742,
          1063,
          960,
          1251,
          1452,
          1827,
          494,
          2549,
          1811,
          1759,
          2628,
          1275,
          1811,
          1788,
          1714,
          3313,
          194,
          906,
          0,
          1992,
          1872,
          2004,
          686,
          1811,
          1781,
          1359,
          2249,
          2237,
          885,
          1951,
          1170,
          1669,
          3170,
          3623,
          130,
          636,
          265,
          1492,
          397,
          1258,
          1678,
          427,
          1366,
          1460,
          1878,
          0,
          1300,
          1759,
          1648,
          3623,
          1754,
          1966,
          1762,
          3075,
          2065,
          1033,
          1528,
          1314,
          419,
          2076,
          876,
          438,
          931,
          1310,
          1006,
          2610,
          227,
          1209,
          6351,
          6389,
          2751,
          513,
          6596,
          512,
          6759,
          1511,
          2036,
          9235,
          1383,
          902,
          6659,
          2407,
          9454,
          6207,
          6003,
          2088,
          1643,
          5035,
          6095,
          2086,
          16326,
          8971,
          3277,
          4078,
          3146,
          11972,
          7227,
          6275,
          7206,
          15121,
          12724,
          12211,
          9141,
          12115,
          17694,
          12639,
          12105,
          26115,
          17686,
          10671,
          11642,
          12636,
          12452,
          5047,
          709,
          0,
          4444,
          7670,
          6678,
          4608,
          13866,
          6464,
          3690,
          13912,
          10290,
          5168,
          4457,
          6716,
          3425,
          1814,
          6464,
          6464,
          1649,
          3323,
          6074,
          4416,
          0,
          7158,
          1822,
          3726,
          537,
          3282,
          1069,
          4682,
          2184,
          4689,
          3360,
          4867,
          2026,
          6943,
          2337,
          7066,
          0,
          7234,
          202,
          1940,
          3774,
          2751,
          2751,
          199,
          0,
          15,
          5764,
          1085,
          6425,
          13038,
          2913,
          5456,
          11624,
          8067,
          5488,
          5197,
          7003,
          6636,
          2833,
          0,
          0,
          0,
          4740,
          0,
          672,
          2647,
          11096,
          7193,
          7603,
          0,
          4323,
          2048,
          3247,
          392,
          1877,
          4050,
          4985,
          10811,
          7426,
          3501,
          0,
          20153,
          13210,
          9025,
          6636,
          6636,
          10972,
          4652,
          8716,
          7014,
          4183,
          13773,
          3247,
          3247,
          0,
          644,
          134,
          0,
          3949,
          0,
          5132,
          8202,
          10811,
          10811,
          634,
          5269,
          618,
          6063,
          303,
          3065,
          4751,
          4072,
          7664,
          3221,
          6174,
          6460,
          6170,
          2185,
          4932,
          173,
          13148,
          6382,
          16414,
          1970,
          10785,
          17789,
          22865,
          11988,
          10337,
          26676,
          11204,
          21654,
          24524,
          13912,
          8389,
          13305,
          72,
          1626,
          4098,
          2014,
          6780,
          5376,
          3857,
          3181,
          3969,
          2699,
          10093,
          4137,
          730,
          1698,
          3227,
          1952,
          2871,
          2023,
          2849,
          3116,
          5483,
          2531,
          1846,
          1545,
          4028,
          1930,
          1393,
          1321,
          4150,
          1548,
          366,
          265,
          5048,
          6763,
          3151,
          3527,
          1544,
          3349,
          2362,
          4012,
          2284,
          29,
          1257,
          1832,
          2105,
          1957,
          3924,
          4140,
          1187,
          1588,
          5552,
          5424,
          6278,
          3713,
          2133,
          1173,
          422,
          2508,
          151,
          3151,
          4261,
          1090,
          1417,
          3767,
          3071,
          5933,
          3149,
          4407,
          5007,
          4854,
          3847,
          1952,
          0,
          3288
         ],
         "yaxis": "y"
        },
        {
         "alignmentgroup": "True",
         "bingroup": "x",
         "histfunc": "avg",
         "hovertemplate": "variable=10 Minute Population<br>City=%{x}<br>avg of Population Coverage=%{y}<extra></extra>",
         "legendgroup": "10 Minute Population",
         "marker": {
          "color": "#EF553B"
         },
         "name": "10 Minute Population",
         "offsetgroup": "10 Minute Population",
         "orientation": "v",
         "showlegend": true,
         "type": "histogram",
         "x": [
          "Kuala Lumpur",
          "Kuala Lumpur",
          "Kuala Lumpur",
          "Kuala Lumpur",
          "Kuala Lumpur",
          "Kuala Lumpur",
          "Kuala Lumpur",
          "Kuala Lumpur",
          "Kuala Lumpur",
          "Kuala Lumpur",
          "Kuala Lumpur",
          "Kuala Lumpur",
          "Kuala Lumpur",
          "Kuala Lumpur",
          "Kuala Lumpur",
          "Kuala Lumpur",
          "Kuala Lumpur",
          "Kuala Lumpur",
          "Kuala Lumpur",
          "Kuala Lumpur",
          "Kuala Lumpur",
          "Kuala Lumpur",
          "Kuala Lumpur",
          "Kuala Lumpur",
          "Kuala Lumpur",
          "Kuala Lumpur",
          "Kuala Lumpur",
          "Kuala Lumpur",
          "Kuala Lumpur",
          "Kuala Lumpur",
          "Kuala Lumpur",
          "Kuala Lumpur",
          "Kuala Lumpur",
          "Kuala Lumpur",
          "Kuala Lumpur",
          "Kuala Lumpur",
          "Kuala Lumpur",
          "Kuala Lumpur",
          "Kuala Lumpur",
          "Kuala Lumpur",
          "Kuala Lumpur",
          "Kuala Lumpur",
          "Kuala Lumpur",
          "Kuala Lumpur",
          "Kuala Lumpur",
          "Kuala Lumpur",
          "Kuala Lumpur",
          "Kuala Lumpur",
          "Kuala Lumpur",
          "Kuala Lumpur",
          "Kuala Lumpur",
          "Kuala Lumpur",
          "Kuala Lumpur",
          "Kuala Lumpur",
          "Kuala Lumpur",
          "Kuala Lumpur",
          "Kuala Lumpur",
          "Kuala Lumpur",
          "Kuala Lumpur",
          "Kuala Lumpur",
          "Kuala Lumpur",
          "Kuala Lumpur",
          "Kuala Lumpur",
          "Kuala Lumpur",
          "Kuala Lumpur",
          "Kuala Lumpur",
          "Kuala Lumpur",
          "Kuala Lumpur",
          "Kuala Lumpur",
          "Kuala Lumpur",
          "Kuala Lumpur",
          "Kuala Lumpur",
          "Kuala Lumpur",
          "Kuala Lumpur",
          "Kuala Lumpur",
          "Kuala Lumpur",
          "Kuala Lumpur",
          "Kuala Lumpur",
          "Kuala Lumpur",
          "Kuala Lumpur",
          "Kuala Lumpur",
          "Kuala Lumpur",
          "Kuala Lumpur",
          "Kuala Lumpur",
          "Kuala Lumpur",
          "Kuala Lumpur",
          "Kuala Lumpur",
          "Kuala Lumpur",
          "Kuala Lumpur",
          "Kuala Lumpur",
          "Kuala Lumpur",
          "Kuala Lumpur",
          "Kuala Lumpur",
          "Kuala Lumpur",
          "Kuala Lumpur",
          "Kuala Lumpur",
          "Kuala Lumpur",
          "Kuala Lumpur",
          "Kuala Lumpur",
          "Kuala Lumpur",
          "Kuala Lumpur",
          "Kuala Lumpur",
          "Kuala Lumpur",
          "Kuala Lumpur",
          "Kuala Lumpur",
          "Kuala Lumpur",
          "Kuala Lumpur",
          "Kuala Lumpur",
          "Kuala Lumpur",
          "Kuala Lumpur",
          "Kuala Lumpur",
          "Kuala Lumpur",
          "Kuala Lumpur",
          "Kuala Lumpur",
          "Kuala Lumpur",
          "Kuala Lumpur",
          "Kuala Lumpur",
          "Kuala Lumpur",
          "Kuala Lumpur",
          "Kuala Lumpur",
          "Kuala Lumpur",
          "Kuala Lumpur",
          "Kuala Lumpur",
          "Kuala Lumpur",
          "Kuala Lumpur",
          "Kuala Lumpur",
          "Singapore",
          "Singapore",
          "Singapore",
          "Singapore",
          "Singapore",
          "Singapore",
          "Singapore",
          "Singapore",
          "Singapore",
          "Singapore",
          "Singapore",
          "Singapore",
          "Singapore",
          "Singapore",
          "Singapore",
          "Singapore",
          "Singapore",
          "Singapore",
          "Singapore",
          "Singapore",
          "Singapore",
          "Singapore",
          "Singapore",
          "Singapore",
          "Singapore",
          "Singapore",
          "Singapore",
          "Singapore",
          "Singapore",
          "Singapore",
          "Singapore",
          "Singapore",
          "Singapore",
          "Singapore",
          "Singapore",
          "Singapore",
          "Singapore",
          "Singapore",
          "Singapore",
          "Singapore",
          "Singapore",
          "Singapore",
          "Singapore",
          "Singapore",
          "Singapore",
          "Singapore",
          "Singapore",
          "Singapore",
          "Singapore",
          "Singapore",
          "Singapore",
          "Singapore",
          "Singapore",
          "Singapore",
          "Singapore",
          "Singapore",
          "Singapore",
          "Singapore",
          "Singapore",
          "Singapore",
          "Singapore",
          "Singapore",
          "Singapore",
          "Singapore",
          "Singapore",
          "Singapore",
          "Singapore",
          "Singapore",
          "Singapore",
          "Singapore",
          "Singapore",
          "Singapore",
          "Singapore",
          "Singapore",
          "Singapore",
          "Singapore",
          "Singapore",
          "Singapore",
          "Singapore",
          "Singapore",
          "Singapore",
          "Singapore",
          "Singapore",
          "Singapore",
          "Singapore",
          "Singapore",
          "Singapore",
          "Singapore",
          "Singapore",
          "Singapore",
          "Singapore",
          "Singapore",
          "Singapore",
          "Singapore",
          "Singapore",
          "Singapore",
          "Singapore",
          "Singapore",
          "Singapore",
          "Singapore",
          "Singapore",
          "Singapore",
          "Singapore",
          "Singapore",
          "Singapore",
          "Singapore",
          "Singapore",
          "Singapore",
          "Singapore",
          "Singapore",
          "Singapore",
          "Singapore",
          "Singapore",
          "Singapore",
          "Singapore",
          "Singapore",
          "Singapore",
          "Singapore",
          "Singapore",
          "Singapore",
          "Singapore",
          "Singapore",
          "Singapore",
          "Singapore",
          "Singapore",
          "Singapore",
          "Singapore",
          "Singapore",
          "Singapore",
          "Singapore",
          "Singapore",
          "Singapore",
          "Singapore",
          "Singapore",
          "Singapore",
          "Singapore",
          "Singapore",
          "Singapore",
          "Singapore",
          "Singapore",
          "Singapore",
          "Singapore",
          "Singapore",
          "Singapore",
          "Singapore",
          "Singapore",
          "Singapore",
          "Singapore",
          "Singapore",
          "Singapore",
          "Singapore",
          "Singapore",
          "Singapore",
          "Singapore",
          "Singapore",
          "Singapore",
          "Singapore",
          "Singapore",
          "Singapore",
          "Singapore",
          "Singapore",
          "Singapore",
          "Singapore",
          "Singapore",
          "Singapore",
          "Singapore",
          "Singapore",
          "Singapore",
          "Singapore",
          "Singapore",
          "Singapore",
          "Singapore",
          "Singapore",
          "Singapore",
          "Singapore",
          "Singapore",
          "Singapore",
          "Singapore",
          "Singapore",
          "Singapore",
          "Singapore",
          "Singapore",
          "Singapore",
          "Singapore",
          "Singapore",
          "Singapore",
          "Singapore",
          "Singapore",
          "Montreal",
          "Montreal",
          "Montreal",
          "Montreal",
          "Montreal",
          "Montreal",
          "Montreal",
          "Montreal",
          "Montreal",
          "Montreal",
          "Montreal",
          "Montreal",
          "Montreal",
          "Montreal",
          "Montreal",
          "Montreal",
          "Montreal",
          "Montreal",
          "Montreal",
          "Montreal",
          "Montreal",
          "Montreal",
          "Montreal",
          "Montreal",
          "Montreal",
          "Montreal",
          "Montreal",
          "Montreal",
          "Montreal",
          "Montreal",
          "Montreal",
          "Montreal",
          "Montreal",
          "Montreal",
          "Montreal",
          "Montreal",
          "Montreal",
          "Montreal",
          "Montreal",
          "Montreal",
          "Montreal",
          "Montreal",
          "Montreal",
          "Montreal",
          "Montreal",
          "Montreal",
          "Montreal",
          "Montreal",
          "Montreal",
          "Montreal",
          "Montreal",
          "Montreal",
          "Montreal",
          "Montreal",
          "Montreal",
          "Montreal",
          "Montreal",
          "Montreal",
          "Montreal",
          "Montreal",
          "Montreal",
          "Montreal",
          "Montreal",
          "Montreal",
          "Montreal",
          "Montreal",
          "Montreal",
          "Montreal",
          "Montreal",
          "Montreal",
          "Montreal",
          "Montreal",
          "Montreal"
         ],
         "xaxis": "x",
         "y": [
          7026,
          5538,
          9469,
          9825,
          6512,
          7336,
          11040,
          4827,
          9770,
          10245,
          4062,
          5466,
          5818,
          5997,
          18422,
          14299,
          16906,
          10727,
          3172,
          8501,
          11611,
          6304,
          3976,
          7757,
          4011,
          6685,
          3126,
          7573,
          6458,
          6245,
          8803,
          7026,
          5538,
          9469,
          9825,
          6512,
          7336,
          11040,
          4827,
          9770,
          5320,
          1622,
          3842,
          10245,
          4560,
          4712,
          4062,
          330,
          2811,
          4897,
          3823,
          6845,
          3277,
          2834,
          1908,
          6730,
          6507,
          1441,
          1983,
          5847,
          7484,
          9485,
          6345,
          5675,
          3827,
          6724,
          8243,
          4589,
          8212,
          7256,
          8546,
          10902,
          7143,
          8938,
          8767,
          6622,
          16658,
          2793,
          3965,
          4004,
          8665,
          7236,
          6952,
          6105,
          7256,
          5646,
          8470,
          11710,
          9919,
          3958,
          8706,
          6247,
          8111,
          11360,
          12004,
          449,
          2656,
          3703,
          6464,
          1600,
          6857,
          8299,
          2127,
          6347,
          4717,
          7708,
          1441,
          5734,
          8108,
          6831,
          11551,
          6540,
          8978,
          10268,
          11125,
          7458,
          8222,
          4426,
          4819,
          3253,
          5189,
          3917,
          3055,
          4261,
          6229,
          3009,
          9680,
          1938,
          11791,
          23395,
          23505,
          13246,
          6628,
          25491,
          3951,
          19441,
          8777,
          9941,
          34986,
          7821,
          12914,
          26290,
          11817,
          28168,
          33348,
          17756,
          14781,
          8685,
          17794,
          16793,
          7545,
          57673,
          36249,
          10764,
          24102,
          13365,
          42117,
          33254,
          24063,
          27319,
          49481,
          39662,
          60219,
          59751,
          40023,
          60648,
          46772,
          57397,
          60252,
          58084,
          47337,
          52170,
          53444,
          40019,
          23901,
          9681,
          3751,
          16092,
          26345,
          26414,
          22760,
          62448,
          28276,
          19301,
          73234,
          38611,
          20343,
          14744,
          30132,
          16109,
          5916,
          28276,
          28276,
          8279,
          11436,
          23626,
          12986,
          31,
          27544,
          7463,
          13975,
          2329,
          9801,
          6489,
          13652,
          16435,
          25697,
          13779,
          22940,
          9466,
          22476,
          9198,
          21830,
          4273,
          31602,
          2090,
          7992,
          12132,
          13246,
          13246,
          612,
          8193,
          46,
          27087,
          10176,
          24892,
          48282,
          13378,
          23548,
          35602,
          37943,
          16565,
          23325,
          23377,
          44680,
          14196,
          0,
          0,
          0,
          19677,
          0,
          5101,
          8593,
          39966,
          44422,
          33392,
          5201,
          31300,
          15086,
          20021,
          12093,
          15306,
          26334,
          19826,
          27782,
          29993,
          32082,
          0,
          66924,
          59130,
          35700,
          44680,
          44680,
          47135,
          20089,
          31660,
          33495,
          20131,
          34453,
          20021,
          20021,
          4469,
          4087,
          612,
          3751,
          16747,
          0,
          26317,
          26071,
          27782,
          27782,
          7145,
          24620,
          7704,
          25899,
          6923,
          11198,
          19467,
          21235,
          30189,
          19759,
          46765,
          16379,
          25679,
          3573,
          12659,
          2592,
          50718,
          17265,
          64704,
          18927,
          38528,
          62073,
          63417,
          38957,
          36951,
          68783,
          58621,
          75490,
          72921,
          73234,
          30391,
          53475,
          2492,
          7361,
          13981,
          12098,
          19348,
          18163,
          9739,
          10901,
          12373,
          20061,
          22646,
          8900,
          9766,
          15020,
          13222,
          16004,
          11166,
          9553,
          14259,
          15790,
          18122,
          10830,
          5794,
          4619,
          11568,
          11028,
          4679,
          6026,
          12391,
          5877,
          3037,
          5398,
          26210,
          22751,
          13931,
          14688,
          9057,
          11295,
          9310,
          18180,
          9733,
          6375,
          4064,
          6337,
          8294,
          16181,
          19788,
          17278,
          12713,
          12341,
          17909,
          20795,
          21940,
          14580,
          9822,
          8888,
          5505,
          8470,
          3410,
          13931,
          16444,
          8192,
          5897,
          14328,
          12996,
          16952,
          14514,
          19351,
          21516,
          16359,
          16371,
          16004,
          0,
          4240
         ],
         "yaxis": "y"
        },
        {
         "alignmentgroup": "True",
         "bingroup": "x",
         "histfunc": "avg",
         "hovertemplate": "variable=15 Minute Population<br>City=%{x}<br>avg of Population Coverage=%{y}<extra></extra>",
         "legendgroup": "15 Minute Population",
         "marker": {
          "color": "#00cc96"
         },
         "name": "15 Minute Population",
         "offsetgroup": "15 Minute Population",
         "orientation": "v",
         "showlegend": true,
         "type": "histogram",
         "x": [
          "Kuala Lumpur",
          "Kuala Lumpur",
          "Kuala Lumpur",
          "Kuala Lumpur",
          "Kuala Lumpur",
          "Kuala Lumpur",
          "Kuala Lumpur",
          "Kuala Lumpur",
          "Kuala Lumpur",
          "Kuala Lumpur",
          "Kuala Lumpur",
          "Kuala Lumpur",
          "Kuala Lumpur",
          "Kuala Lumpur",
          "Kuala Lumpur",
          "Kuala Lumpur",
          "Kuala Lumpur",
          "Kuala Lumpur",
          "Kuala Lumpur",
          "Kuala Lumpur",
          "Kuala Lumpur",
          "Kuala Lumpur",
          "Kuala Lumpur",
          "Kuala Lumpur",
          "Kuala Lumpur",
          "Kuala Lumpur",
          "Kuala Lumpur",
          "Kuala Lumpur",
          "Kuala Lumpur",
          "Kuala Lumpur",
          "Kuala Lumpur",
          "Kuala Lumpur",
          "Kuala Lumpur",
          "Kuala Lumpur",
          "Kuala Lumpur",
          "Kuala Lumpur",
          "Kuala Lumpur",
          "Kuala Lumpur",
          "Kuala Lumpur",
          "Kuala Lumpur",
          "Kuala Lumpur",
          "Kuala Lumpur",
          "Kuala Lumpur",
          "Kuala Lumpur",
          "Kuala Lumpur",
          "Kuala Lumpur",
          "Kuala Lumpur",
          "Kuala Lumpur",
          "Kuala Lumpur",
          "Kuala Lumpur",
          "Kuala Lumpur",
          "Kuala Lumpur",
          "Kuala Lumpur",
          "Kuala Lumpur",
          "Kuala Lumpur",
          "Kuala Lumpur",
          "Kuala Lumpur",
          "Kuala Lumpur",
          "Kuala Lumpur",
          "Kuala Lumpur",
          "Kuala Lumpur",
          "Kuala Lumpur",
          "Kuala Lumpur",
          "Kuala Lumpur",
          "Kuala Lumpur",
          "Kuala Lumpur",
          "Kuala Lumpur",
          "Kuala Lumpur",
          "Kuala Lumpur",
          "Kuala Lumpur",
          "Kuala Lumpur",
          "Kuala Lumpur",
          "Kuala Lumpur",
          "Kuala Lumpur",
          "Kuala Lumpur",
          "Kuala Lumpur",
          "Kuala Lumpur",
          "Kuala Lumpur",
          "Kuala Lumpur",
          "Kuala Lumpur",
          "Kuala Lumpur",
          "Kuala Lumpur",
          "Kuala Lumpur",
          "Kuala Lumpur",
          "Kuala Lumpur",
          "Kuala Lumpur",
          "Kuala Lumpur",
          "Kuala Lumpur",
          "Kuala Lumpur",
          "Kuala Lumpur",
          "Kuala Lumpur",
          "Kuala Lumpur",
          "Kuala Lumpur",
          "Kuala Lumpur",
          "Kuala Lumpur",
          "Kuala Lumpur",
          "Kuala Lumpur",
          "Kuala Lumpur",
          "Kuala Lumpur",
          "Kuala Lumpur",
          "Kuala Lumpur",
          "Kuala Lumpur",
          "Kuala Lumpur",
          "Kuala Lumpur",
          "Kuala Lumpur",
          "Kuala Lumpur",
          "Kuala Lumpur",
          "Kuala Lumpur",
          "Kuala Lumpur",
          "Kuala Lumpur",
          "Kuala Lumpur",
          "Kuala Lumpur",
          "Kuala Lumpur",
          "Kuala Lumpur",
          "Kuala Lumpur",
          "Kuala Lumpur",
          "Kuala Lumpur",
          "Kuala Lumpur",
          "Kuala Lumpur",
          "Kuala Lumpur",
          "Kuala Lumpur",
          "Kuala Lumpur",
          "Kuala Lumpur",
          "Kuala Lumpur",
          "Kuala Lumpur",
          "Kuala Lumpur",
          "Singapore",
          "Singapore",
          "Singapore",
          "Singapore",
          "Singapore",
          "Singapore",
          "Singapore",
          "Singapore",
          "Singapore",
          "Singapore",
          "Singapore",
          "Singapore",
          "Singapore",
          "Singapore",
          "Singapore",
          "Singapore",
          "Singapore",
          "Singapore",
          "Singapore",
          "Singapore",
          "Singapore",
          "Singapore",
          "Singapore",
          "Singapore",
          "Singapore",
          "Singapore",
          "Singapore",
          "Singapore",
          "Singapore",
          "Singapore",
          "Singapore",
          "Singapore",
          "Singapore",
          "Singapore",
          "Singapore",
          "Singapore",
          "Singapore",
          "Singapore",
          "Singapore",
          "Singapore",
          "Singapore",
          "Singapore",
          "Singapore",
          "Singapore",
          "Singapore",
          "Singapore",
          "Singapore",
          "Singapore",
          "Singapore",
          "Singapore",
          "Singapore",
          "Singapore",
          "Singapore",
          "Singapore",
          "Singapore",
          "Singapore",
          "Singapore",
          "Singapore",
          "Singapore",
          "Singapore",
          "Singapore",
          "Singapore",
          "Singapore",
          "Singapore",
          "Singapore",
          "Singapore",
          "Singapore",
          "Singapore",
          "Singapore",
          "Singapore",
          "Singapore",
          "Singapore",
          "Singapore",
          "Singapore",
          "Singapore",
          "Singapore",
          "Singapore",
          "Singapore",
          "Singapore",
          "Singapore",
          "Singapore",
          "Singapore",
          "Singapore",
          "Singapore",
          "Singapore",
          "Singapore",
          "Singapore",
          "Singapore",
          "Singapore",
          "Singapore",
          "Singapore",
          "Singapore",
          "Singapore",
          "Singapore",
          "Singapore",
          "Singapore",
          "Singapore",
          "Singapore",
          "Singapore",
          "Singapore",
          "Singapore",
          "Singapore",
          "Singapore",
          "Singapore",
          "Singapore",
          "Singapore",
          "Singapore",
          "Singapore",
          "Singapore",
          "Singapore",
          "Singapore",
          "Singapore",
          "Singapore",
          "Singapore",
          "Singapore",
          "Singapore",
          "Singapore",
          "Singapore",
          "Singapore",
          "Singapore",
          "Singapore",
          "Singapore",
          "Singapore",
          "Singapore",
          "Singapore",
          "Singapore",
          "Singapore",
          "Singapore",
          "Singapore",
          "Singapore",
          "Singapore",
          "Singapore",
          "Singapore",
          "Singapore",
          "Singapore",
          "Singapore",
          "Singapore",
          "Singapore",
          "Singapore",
          "Singapore",
          "Singapore",
          "Singapore",
          "Singapore",
          "Singapore",
          "Singapore",
          "Singapore",
          "Singapore",
          "Singapore",
          "Singapore",
          "Singapore",
          "Singapore",
          "Singapore",
          "Singapore",
          "Singapore",
          "Singapore",
          "Singapore",
          "Singapore",
          "Singapore",
          "Singapore",
          "Singapore",
          "Singapore",
          "Singapore",
          "Singapore",
          "Singapore",
          "Singapore",
          "Singapore",
          "Singapore",
          "Singapore",
          "Singapore",
          "Singapore",
          "Singapore",
          "Singapore",
          "Singapore",
          "Singapore",
          "Singapore",
          "Singapore",
          "Singapore",
          "Singapore",
          "Singapore",
          "Singapore",
          "Singapore",
          "Singapore",
          "Singapore",
          "Singapore",
          "Singapore",
          "Singapore",
          "Singapore",
          "Singapore",
          "Montreal",
          "Montreal",
          "Montreal",
          "Montreal",
          "Montreal",
          "Montreal",
          "Montreal",
          "Montreal",
          "Montreal",
          "Montreal",
          "Montreal",
          "Montreal",
          "Montreal",
          "Montreal",
          "Montreal",
          "Montreal",
          "Montreal",
          "Montreal",
          "Montreal",
          "Montreal",
          "Montreal",
          "Montreal",
          "Montreal",
          "Montreal",
          "Montreal",
          "Montreal",
          "Montreal",
          "Montreal",
          "Montreal",
          "Montreal",
          "Montreal",
          "Montreal",
          "Montreal",
          "Montreal",
          "Montreal",
          "Montreal",
          "Montreal",
          "Montreal",
          "Montreal",
          "Montreal",
          "Montreal",
          "Montreal",
          "Montreal",
          "Montreal",
          "Montreal",
          "Montreal",
          "Montreal",
          "Montreal",
          "Montreal",
          "Montreal",
          "Montreal",
          "Montreal",
          "Montreal",
          "Montreal",
          "Montreal",
          "Montreal",
          "Montreal",
          "Montreal",
          "Montreal",
          "Montreal",
          "Montreal",
          "Montreal",
          "Montreal",
          "Montreal",
          "Montreal",
          "Montreal",
          "Montreal",
          "Montreal",
          "Montreal",
          "Montreal",
          "Montreal",
          "Montreal",
          "Montreal"
         ],
         "xaxis": "x",
         "y": [
          16752,
          13620,
          19064,
          23762,
          16646,
          17389,
          23193,
          14708,
          20020,
          23074,
          13484,
          13151,
          19323,
          15618,
          37614,
          36095,
          38349,
          31269,
          7872,
          15335,
          24087,
          11681,
          8194,
          16941,
          10067,
          16452,
          8383,
          13709,
          11936,
          13486,
          16488,
          16752,
          13620,
          19064,
          23762,
          16646,
          17389,
          23193,
          14708,
          20020,
          9081,
          2351,
          10549,
          23074,
          7850,
          9388,
          13484,
          3851,
          5839,
          10618,
          8452,
          14705,
          8876,
          6087,
          6042,
          15830,
          14043,
          5505,
          6924,
          15199,
          17824,
          19787,
          15400,
          13718,
          11175,
          13333,
          17808,
          11196,
          19288,
          16615,
          18742,
          22081,
          17416,
          18670,
          19671,
          16796,
          34491,
          9569,
          12627,
          14262,
          20697,
          19950,
          19024,
          18691,
          16615,
          14362,
          21109,
          24494,
          19886,
          13857,
          20371,
          18441,
          21682,
          23588,
          24045,
          3516,
          4173,
          10324,
          13186,
          5704,
          13699,
          17162,
          7926,
          14286,
          9356,
          15108,
          3292,
          12436,
          17116,
          15693,
          22470,
          14973,
          21212,
          21574,
          22375,
          19963,
          20399,
          9573,
          9061,
          6926,
          10677,
          7776,
          7735,
          11198,
          15349,
          5159,
          20250,
          6922,
          33135,
          54090,
          49029,
          25840,
          15366,
          56518,
          10583,
          31876,
          23778,
          22384,
          60945,
          17618,
          41755,
          61588,
          24560,
          63748,
          81951,
          49113,
          39049,
          23051,
          40982,
          36927,
          18836,
          136086,
          77980,
          22713,
          54405,
          25414,
          82144,
          69668,
          51604,
          58778,
          121345,
          69215,
          118533,
          121248,
          92820,
          132070,
          93994,
          110467,
          119744,
          115321,
          91710,
          116242,
          108397,
          65417,
          47721,
          21129,
          13117,
          37902,
          56914,
          62610,
          57415,
          123521,
          59768,
          38108,
          164145,
          83114,
          36292,
          47183,
          57133,
          41904,
          16148,
          59768,
          59768,
          17982,
          23127,
          48193,
          28782,
          4019,
          58087,
          17065,
          28770,
          11569,
          21232,
          18483,
          25761,
          43073,
          59852,
          40550,
          51905,
          17657,
          52436,
          16829,
          45439,
          13778,
          68435,
          7677,
          21316,
          25348,
          25840,
          25840,
          1364,
          23777,
          111,
          63940,
          21874,
          49998,
          117226,
          24151,
          52265,
          67806,
          76190,
          34420,
          43521,
          53531,
          94690,
          31498,
          0,
          0,
          0,
          51339,
          0,
          17535,
          25142,
          77451,
          95692,
          78532,
          6994,
          73437,
          49299,
          53262,
          26985,
          33684,
          51646,
          46110,
          48930,
          51343,
          64271,
          1452,
          96799,
          116021,
          78984,
          94690,
          94690,
          117299,
          38212,
          72589,
          75209,
          39592,
          68053,
          53262,
          53262,
          10351,
          12587,
          1364,
          13778,
          38655,
          69,
          56758,
          54176,
          48930,
          48930,
          20232,
          49213,
          24340,
          44089,
          14857,
          20565,
          53951,
          39589,
          66488,
          42406,
          94864,
          38161,
          77476,
          8223,
          30718,
          5853,
          100347,
          62207,
          125535,
          53420,
          80017,
          120780,
          130932,
          65300,
          97627,
          123690,
          104793,
          143484,
          141644,
          164145,
          55205,
          122355,
          5110,
          12499,
          24154,
          34071,
          34945,
          30932,
          17807,
          26183,
          30443,
          35734,
          34705,
          30479,
          26541,
          27712,
          33387,
          33577,
          22879,
          21554,
          26828,
          32403,
          39727,
          25081,
          12442,
          10960,
          22627,
          20409,
          15992,
          15913,
          22654,
          11841,
          6518,
          15770,
          45848,
          47317,
          35180,
          29328,
          21409,
          19856,
          24105,
          34796,
          31775,
          17194,
          16993,
          14875,
          16071,
          34360,
          38751,
          41822,
          29056,
          31346,
          34880,
          43673,
          34746,
          30105,
          21634,
          19195,
          11520,
          19066,
          9675,
          35180,
          37030,
          22826,
          14457,
          29863,
          30986,
          28514,
          34692,
          42511,
          43712,
          40443,
          30414,
          33577,
          0,
          7946
         ],
         "yaxis": "y"
        }
       ],
       "layout": {
        "barmode": "group",
        "legend": {
         "title": {
          "text": "variable"
         },
         "tracegroupgap": 0
        },
        "template": {
         "data": {
          "bar": [
           {
            "error_x": {
             "color": "#2a3f5f"
            },
            "error_y": {
             "color": "#2a3f5f"
            },
            "marker": {
             "line": {
              "color": "#E5ECF6",
              "width": 0.5
             }
            },
            "type": "bar"
           }
          ],
          "barpolar": [
           {
            "marker": {
             "line": {
              "color": "#E5ECF6",
              "width": 0.5
             }
            },
            "type": "barpolar"
           }
          ],
          "carpet": [
           {
            "aaxis": {
             "endlinecolor": "#2a3f5f",
             "gridcolor": "white",
             "linecolor": "white",
             "minorgridcolor": "white",
             "startlinecolor": "#2a3f5f"
            },
            "baxis": {
             "endlinecolor": "#2a3f5f",
             "gridcolor": "white",
             "linecolor": "white",
             "minorgridcolor": "white",
             "startlinecolor": "#2a3f5f"
            },
            "type": "carpet"
           }
          ],
          "choropleth": [
           {
            "colorbar": {
             "outlinewidth": 0,
             "ticks": ""
            },
            "type": "choropleth"
           }
          ],
          "contour": [
           {
            "colorbar": {
             "outlinewidth": 0,
             "ticks": ""
            },
            "colorscale": [
             [
              0,
              "#0d0887"
             ],
             [
              0.1111111111111111,
              "#46039f"
             ],
             [
              0.2222222222222222,
              "#7201a8"
             ],
             [
              0.3333333333333333,
              "#9c179e"
             ],
             [
              0.4444444444444444,
              "#bd3786"
             ],
             [
              0.5555555555555556,
              "#d8576b"
             ],
             [
              0.6666666666666666,
              "#ed7953"
             ],
             [
              0.7777777777777778,
              "#fb9f3a"
             ],
             [
              0.8888888888888888,
              "#fdca26"
             ],
             [
              1,
              "#f0f921"
             ]
            ],
            "type": "contour"
           }
          ],
          "contourcarpet": [
           {
            "colorbar": {
             "outlinewidth": 0,
             "ticks": ""
            },
            "type": "contourcarpet"
           }
          ],
          "heatmap": [
           {
            "colorbar": {
             "outlinewidth": 0,
             "ticks": ""
            },
            "colorscale": [
             [
              0,
              "#0d0887"
             ],
             [
              0.1111111111111111,
              "#46039f"
             ],
             [
              0.2222222222222222,
              "#7201a8"
             ],
             [
              0.3333333333333333,
              "#9c179e"
             ],
             [
              0.4444444444444444,
              "#bd3786"
             ],
             [
              0.5555555555555556,
              "#d8576b"
             ],
             [
              0.6666666666666666,
              "#ed7953"
             ],
             [
              0.7777777777777778,
              "#fb9f3a"
             ],
             [
              0.8888888888888888,
              "#fdca26"
             ],
             [
              1,
              "#f0f921"
             ]
            ],
            "type": "heatmap"
           }
          ],
          "heatmapgl": [
           {
            "colorbar": {
             "outlinewidth": 0,
             "ticks": ""
            },
            "colorscale": [
             [
              0,
              "#0d0887"
             ],
             [
              0.1111111111111111,
              "#46039f"
             ],
             [
              0.2222222222222222,
              "#7201a8"
             ],
             [
              0.3333333333333333,
              "#9c179e"
             ],
             [
              0.4444444444444444,
              "#bd3786"
             ],
             [
              0.5555555555555556,
              "#d8576b"
             ],
             [
              0.6666666666666666,
              "#ed7953"
             ],
             [
              0.7777777777777778,
              "#fb9f3a"
             ],
             [
              0.8888888888888888,
              "#fdca26"
             ],
             [
              1,
              "#f0f921"
             ]
            ],
            "type": "heatmapgl"
           }
          ],
          "histogram": [
           {
            "marker": {
             "colorbar": {
              "outlinewidth": 0,
              "ticks": ""
             }
            },
            "type": "histogram"
           }
          ],
          "histogram2d": [
           {
            "colorbar": {
             "outlinewidth": 0,
             "ticks": ""
            },
            "colorscale": [
             [
              0,
              "#0d0887"
             ],
             [
              0.1111111111111111,
              "#46039f"
             ],
             [
              0.2222222222222222,
              "#7201a8"
             ],
             [
              0.3333333333333333,
              "#9c179e"
             ],
             [
              0.4444444444444444,
              "#bd3786"
             ],
             [
              0.5555555555555556,
              "#d8576b"
             ],
             [
              0.6666666666666666,
              "#ed7953"
             ],
             [
              0.7777777777777778,
              "#fb9f3a"
             ],
             [
              0.8888888888888888,
              "#fdca26"
             ],
             [
              1,
              "#f0f921"
             ]
            ],
            "type": "histogram2d"
           }
          ],
          "histogram2dcontour": [
           {
            "colorbar": {
             "outlinewidth": 0,
             "ticks": ""
            },
            "colorscale": [
             [
              0,
              "#0d0887"
             ],
             [
              0.1111111111111111,
              "#46039f"
             ],
             [
              0.2222222222222222,
              "#7201a8"
             ],
             [
              0.3333333333333333,
              "#9c179e"
             ],
             [
              0.4444444444444444,
              "#bd3786"
             ],
             [
              0.5555555555555556,
              "#d8576b"
             ],
             [
              0.6666666666666666,
              "#ed7953"
             ],
             [
              0.7777777777777778,
              "#fb9f3a"
             ],
             [
              0.8888888888888888,
              "#fdca26"
             ],
             [
              1,
              "#f0f921"
             ]
            ],
            "type": "histogram2dcontour"
           }
          ],
          "mesh3d": [
           {
            "colorbar": {
             "outlinewidth": 0,
             "ticks": ""
            },
            "type": "mesh3d"
           }
          ],
          "parcoords": [
           {
            "line": {
             "colorbar": {
              "outlinewidth": 0,
              "ticks": ""
             }
            },
            "type": "parcoords"
           }
          ],
          "pie": [
           {
            "automargin": true,
            "type": "pie"
           }
          ],
          "scatter": [
           {
            "marker": {
             "colorbar": {
              "outlinewidth": 0,
              "ticks": ""
             }
            },
            "type": "scatter"
           }
          ],
          "scatter3d": [
           {
            "line": {
             "colorbar": {
              "outlinewidth": 0,
              "ticks": ""
             }
            },
            "marker": {
             "colorbar": {
              "outlinewidth": 0,
              "ticks": ""
             }
            },
            "type": "scatter3d"
           }
          ],
          "scattercarpet": [
           {
            "marker": {
             "colorbar": {
              "outlinewidth": 0,
              "ticks": ""
             }
            },
            "type": "scattercarpet"
           }
          ],
          "scattergeo": [
           {
            "marker": {
             "colorbar": {
              "outlinewidth": 0,
              "ticks": ""
             }
            },
            "type": "scattergeo"
           }
          ],
          "scattergl": [
           {
            "marker": {
             "colorbar": {
              "outlinewidth": 0,
              "ticks": ""
             }
            },
            "type": "scattergl"
           }
          ],
          "scattermapbox": [
           {
            "marker": {
             "colorbar": {
              "outlinewidth": 0,
              "ticks": ""
             }
            },
            "type": "scattermapbox"
           }
          ],
          "scatterpolar": [
           {
            "marker": {
             "colorbar": {
              "outlinewidth": 0,
              "ticks": ""
             }
            },
            "type": "scatterpolar"
           }
          ],
          "scatterpolargl": [
           {
            "marker": {
             "colorbar": {
              "outlinewidth": 0,
              "ticks": ""
             }
            },
            "type": "scatterpolargl"
           }
          ],
          "scatterternary": [
           {
            "marker": {
             "colorbar": {
              "outlinewidth": 0,
              "ticks": ""
             }
            },
            "type": "scatterternary"
           }
          ],
          "surface": [
           {
            "colorbar": {
             "outlinewidth": 0,
             "ticks": ""
            },
            "colorscale": [
             [
              0,
              "#0d0887"
             ],
             [
              0.1111111111111111,
              "#46039f"
             ],
             [
              0.2222222222222222,
              "#7201a8"
             ],
             [
              0.3333333333333333,
              "#9c179e"
             ],
             [
              0.4444444444444444,
              "#bd3786"
             ],
             [
              0.5555555555555556,
              "#d8576b"
             ],
             [
              0.6666666666666666,
              "#ed7953"
             ],
             [
              0.7777777777777778,
              "#fb9f3a"
             ],
             [
              0.8888888888888888,
              "#fdca26"
             ],
             [
              1,
              "#f0f921"
             ]
            ],
            "type": "surface"
           }
          ],
          "table": [
           {
            "cells": {
             "fill": {
              "color": "#EBF0F8"
             },
             "line": {
              "color": "white"
             }
            },
            "header": {
             "fill": {
              "color": "#C8D4E3"
             },
             "line": {
              "color": "white"
             }
            },
            "type": "table"
           }
          ]
         },
         "layout": {
          "annotationdefaults": {
           "arrowcolor": "#2a3f5f",
           "arrowhead": 0,
           "arrowwidth": 1
          },
          "coloraxis": {
           "colorbar": {
            "outlinewidth": 0,
            "ticks": ""
           }
          },
          "colorscale": {
           "diverging": [
            [
             0,
             "#8e0152"
            ],
            [
             0.1,
             "#c51b7d"
            ],
            [
             0.2,
             "#de77ae"
            ],
            [
             0.3,
             "#f1b6da"
            ],
            [
             0.4,
             "#fde0ef"
            ],
            [
             0.5,
             "#f7f7f7"
            ],
            [
             0.6,
             "#e6f5d0"
            ],
            [
             0.7,
             "#b8e186"
            ],
            [
             0.8,
             "#7fbc41"
            ],
            [
             0.9,
             "#4d9221"
            ],
            [
             1,
             "#276419"
            ]
           ],
           "sequential": [
            [
             0,
             "#0d0887"
            ],
            [
             0.1111111111111111,
             "#46039f"
            ],
            [
             0.2222222222222222,
             "#7201a8"
            ],
            [
             0.3333333333333333,
             "#9c179e"
            ],
            [
             0.4444444444444444,
             "#bd3786"
            ],
            [
             0.5555555555555556,
             "#d8576b"
            ],
            [
             0.6666666666666666,
             "#ed7953"
            ],
            [
             0.7777777777777778,
             "#fb9f3a"
            ],
            [
             0.8888888888888888,
             "#fdca26"
            ],
            [
             1,
             "#f0f921"
            ]
           ],
           "sequentialminus": [
            [
             0,
             "#0d0887"
            ],
            [
             0.1111111111111111,
             "#46039f"
            ],
            [
             0.2222222222222222,
             "#7201a8"
            ],
            [
             0.3333333333333333,
             "#9c179e"
            ],
            [
             0.4444444444444444,
             "#bd3786"
            ],
            [
             0.5555555555555556,
             "#d8576b"
            ],
            [
             0.6666666666666666,
             "#ed7953"
            ],
            [
             0.7777777777777778,
             "#fb9f3a"
            ],
            [
             0.8888888888888888,
             "#fdca26"
            ],
            [
             1,
             "#f0f921"
            ]
           ]
          },
          "colorway": [
           "#636efa",
           "#EF553B",
           "#00cc96",
           "#ab63fa",
           "#FFA15A",
           "#19d3f3",
           "#FF6692",
           "#B6E880",
           "#FF97FF",
           "#FECB52"
          ],
          "font": {
           "color": "#2a3f5f"
          },
          "geo": {
           "bgcolor": "white",
           "lakecolor": "white",
           "landcolor": "#E5ECF6",
           "showlakes": true,
           "showland": true,
           "subunitcolor": "white"
          },
          "hoverlabel": {
           "align": "left"
          },
          "hovermode": "closest",
          "mapbox": {
           "style": "light"
          },
          "paper_bgcolor": "white",
          "plot_bgcolor": "#E5ECF6",
          "polar": {
           "angularaxis": {
            "gridcolor": "white",
            "linecolor": "white",
            "ticks": ""
           },
           "bgcolor": "#E5ECF6",
           "radialaxis": {
            "gridcolor": "white",
            "linecolor": "white",
            "ticks": ""
           }
          },
          "scene": {
           "xaxis": {
            "backgroundcolor": "#E5ECF6",
            "gridcolor": "white",
            "gridwidth": 2,
            "linecolor": "white",
            "showbackground": true,
            "ticks": "",
            "zerolinecolor": "white"
           },
           "yaxis": {
            "backgroundcolor": "#E5ECF6",
            "gridcolor": "white",
            "gridwidth": 2,
            "linecolor": "white",
            "showbackground": true,
            "ticks": "",
            "zerolinecolor": "white"
           },
           "zaxis": {
            "backgroundcolor": "#E5ECF6",
            "gridcolor": "white",
            "gridwidth": 2,
            "linecolor": "white",
            "showbackground": true,
            "ticks": "",
            "zerolinecolor": "white"
           }
          },
          "shapedefaults": {
           "line": {
            "color": "#2a3f5f"
           }
          },
          "ternary": {
           "aaxis": {
            "gridcolor": "white",
            "linecolor": "white",
            "ticks": ""
           },
           "baxis": {
            "gridcolor": "white",
            "linecolor": "white",
            "ticks": ""
           },
           "bgcolor": "#E5ECF6",
           "caxis": {
            "gridcolor": "white",
            "linecolor": "white",
            "ticks": ""
           }
          },
          "title": {
           "x": 0.05
          },
          "xaxis": {
           "automargin": true,
           "gridcolor": "white",
           "linecolor": "white",
           "ticks": "",
           "title": {
            "standoff": 15
           },
           "zerolinecolor": "white",
           "zerolinewidth": 2
          },
          "yaxis": {
           "automargin": true,
           "gridcolor": "white",
           "linecolor": "white",
           "ticks": "",
           "title": {
            "standoff": 15
           },
           "zerolinecolor": "white",
           "zerolinewidth": 2
          }
         }
        },
        "title": {
         "text": "Area coverage within walking times from station"
        },
        "xaxis": {
         "anchor": "y",
         "categoryorder": "total ascending",
         "domain": [
          0,
          1
         ],
         "title": {
          "text": "City"
         }
        },
        "yaxis": {
         "anchor": "x",
         "domain": [
          0,
          1
         ],
         "title": {
          "text": "avg of Population Coverage"
         }
        }
       }
      }
     },
     "metadata": {}
    }
   ],
   "source": [
    "fig = px.histogram(data_temp\n",
    "             ,x='City'\n",
    "             ,y=['5 Minute Population','10 Minute Population','15 Minute Population']\n",
    "             , barmode = 'group'\n",
    "             , title=\"Area coverage within walking times from station\"\n",
    "             , template='plotly'\n",
    "             , histfunc = 'avg'\n",
    "             ,labels={'Route Name': \"Lines\",'value':'Population Coverage'}\n",
    "            ).update_xaxes(categoryorder='total ascending')\n",
    "\n",
    "fig.show() "
   ]
  },
  {
   "source": [
    "# Conclusions\n",
    "Well as we suspect we dont seem to maximize our train stations for the users compared to other cities like Montreal where our population number is similar or Singapore where our culture and weather are similar. The reasons for that could definitely be further analyzed by looking at individual stations and understanding why it may be so."
   ],
   "cell_type": "markdown",
   "metadata": {}
  },
  {
   "cell_type": "code",
   "execution_count": null,
   "metadata": {},
   "outputs": [],
   "source": []
  }
 ]
}