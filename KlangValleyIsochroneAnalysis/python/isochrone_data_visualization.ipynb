{
 "cells": [
  {
   "cell_type": "markdown",
   "metadata": {},
   "source": [
    "# Visualizing Isochrone data\n",
    "We'll be looking at the average data of walking area accessibility and the population coverage of the train stations. We'll compare different Klang Valley lines and then different cities with KL.\n",
    "This notebook assumes that the rapidkl_isochrones notebook has been run and isochrone data is available in csv form. \n",
    "Or isochrones data has been gathered via other means."
   ]
  },
  {
   "cell_type": "code",
   "execution_count": 1,
   "metadata": {},
   "outputs": [],
   "source": [
    "import pandas as pd\n",
    "import plotly.express as px\n",
    "from plotly.subplots import make_subplots\n",
    "import plotly.graph_objects as go\n",
    "from isochrones import * \n",
    "import folium\n"
   ]
  },
  {
   "cell_type": "code",
   "execution_count": 2,
   "metadata": {},
   "outputs": [],
   "source": [
    "# Calling csv files containing isochrones data from all metros of KL, Singapore and Montreal into dataframes\n",
    "\n",
    "file_kl = '../resources/data/klang_valley_stations_isochrones_2021-07-29.csv'\n",
    "file_sg = '../resources/data/mrtsg_iso.csv'\n",
    "file_mtl = '../resources/data/montreal_metro_iso.csv'\n",
    "\n",
    "#each city are assigned a separate unique dataframe\n",
    "data_kl = pd.read_csv(file_kl)\n",
    "data_sg = pd.read_csv(file_sg)\n",
    "data_mtl = pd.read_csv(file_mtl)\n"
   ]
  },
  {
   "cell_type": "markdown",
   "metadata": {},
   "source": [
    "# Data preprocessing\n",
    "Requires some understanding of the imported dataframes. <br>\n",
    "We would want to combine the individual dataframes into one dataframe so that we can easily compare and visual the data. <br>\n",
    "However each metro station don't have any identifier to determine which city the station is from. We will create a column called \"City\" an assign the correct city to each metro station. "
   ]
  },
  {
   "cell_type": "code",
   "execution_count": 3,
   "metadata": {},
   "outputs": [
    {
     "name": "stdout",
     "output_type": "stream",
     "text": [
      "Index(['Unnamed: 0', 'Stop ID', 'Name', 'Service Provider Name', 'Latitude',\n",
      "       'Longitude', 'ROUTE ID', 'Route Name', 'Line Number', 'Line Colour',\n",
      "       'Colour Hex Code', 'iso', '5 Minute Range Area', '10 Minute Range Area',\n",
      "       '15 Minute Range Area', '5 Minute Reach Factor',\n",
      "       '10 Minute Reach Factor', '15 Minute Reach Factor',\n",
      "       '5 Minute Population', '10 Minute Population', '15 Minute Population'],\n",
      "      dtype='object')\n",
      "Index(['OBJECTID', 'Name', 'STN_NO', 'X', 'Y', 'Latitude', 'Longitude',\n",
      "       'Line Colour', 'Colour Hex Code', 'Route Name', 'Unnamed: 10', 'iso',\n",
      "       '5 Minute Range Area', '10 Minute Range Area', '15 Minute Range Area',\n",
      "       '5 Minute Reach Factor', '10 Minute Reach Factor',\n",
      "       '15 Minute Reach Factor', '5 Minute Population', '10 Minute Population',\n",
      "       '15 Minute Population'],\n",
      "      dtype='object')\n",
      "Index(['Unnamed: 0', 'Stop ID', 'Object ID', 'Name', 'Odonym', 'Namesake',\n",
      "       'Opened', 'Latitude', 'Longitude', 'Route Name', 'Line Colour',\n",
      "       'Colour Hex Code', 'iso', '5 Minute Range Area', '10 Minute Range Area',\n",
      "       '15 Minute Range Area', '5 Minute Reach Factor',\n",
      "       '10 Minute Reach Factor', '15 Minute Reach Factor',\n",
      "       '5 Minute Population', '10 Minute Population', '15 Minute Population'],\n",
      "      dtype='object')\n"
     ]
    }
   ],
   "source": [
    "\n",
    "print(data_kl.columns)\n",
    "print(data_sg.columns)\n",
    "print(data_mtl.columns)\n",
    "\n",
    "#Assigning each city dataframe a column to represent their city\n",
    "data_kl['City']=\"Kuala Lumpur\"\n",
    "data_sg['City']=\"Singapore\"\n",
    "data_mtl['City']=\"Montreal\"\n",
    "\n",
    "#only Kl has the 'Service Provider Name' column. We will add one for montreal and singapore\n",
    "data_sg['Service Provider Name']=\"SMRT\"\n",
    "data_mtl['Service Provider Name']=\"STM\"\n",
    "\n",
    "#we don't actually need every column for the overall dataframe. so we will select a few relevant columns\n",
    "columns = ['Name','Route Name','Latitude','Longitude','Line Colour',\n",
    "            '5 Minute Range Area', '10 Minute Range Area','15 Minute Range Area', \n",
    "            '5 Minute Reach Factor','10 Minute Reach Factor', '15 Minute Reach Factor',\n",
    "            '5 Minute Population', '10 Minute Population', '15 Minute Population','City','Service Provider Name']\n",
    "\n",
    "#combining the kl, singapore and montreal dataframes\n",
    "data_all = pd.concat([data_kl[columns],data_sg[columns],data_mtl[columns]])"
   ]
  },
  {
   "cell_type": "markdown",
   "metadata": {},
   "source": [
    "## Visualize walkable area within different timeframes from KL train stations\n",
    "We will visualize data in the three following aspects\n",
    "- Area coverage \n",
    "- Population (ORS uses data from https://ghsl.jrc.ec.europa.eu/visLanding.php .and open data project by the European Union)\n",
    "- Reach factor (how circular an isochrone is on a scale of 0 to 1, where 1 is perfectly circle meaning maximum reachability)"
   ]
  },
  {
   "cell_type": "code",
   "execution_count": 4,
   "metadata": {},
   "outputs": [
    {
     "data": {
      "application/vnd.plotly.v1+json": {
       "config": {
        "plotlyServerURL": "https://plot.ly"
       },
       "data": [
        {
         "alignmentgroup": "True",
         "bingroup": "x",
         "histfunc": "avg",
         "hovertemplate": "Lines=%{x}<br>avg of 5 Minutes Walk Area(km^2)=%{y}<extra></extra>",
         "legendgroup": "",
         "marker": {
          "color": "#636efa"
         },
         "name": "",
         "offsetgroup": "",
         "orientation": "v",
         "showlegend": false,
         "type": "histogram",
         "x": [
          "Ampang Line",
          "Ampang Line",
          "Ampang Line",
          "Ampang Line",
          "Ampang Line",
          "Ampang Line",
          "Ampang Line",
          "Ampang Line",
          "Ampang Line",
          "Ampang Line",
          "Ampang Line",
          "Ampang Line",
          "Ampang Line",
          "Ampang Line",
          "Ampang Line",
          "Ampang Line",
          "Ampang Line",
          "Ampang Line",
          "Sri Petaling Line",
          "Sri Petaling Line",
          "Sri Petaling Line",
          "Sri Petaling Line",
          "Sri Petaling Line",
          "Sri Petaling Line",
          "Sri Petaling Line",
          "Sri Petaling Line",
          "Sri Petaling Line",
          "Sri Petaling Line",
          "Sri Petaling Line",
          "Sri Petaling Line",
          "Sri Petaling Line",
          "Sri Petaling Line",
          "Sri Petaling Line",
          "Sri Petaling Line",
          "Sri Petaling Line",
          "Sri Petaling Line",
          "Sri Petaling Line",
          "Sri Petaling Line",
          "Sri Petaling Line",
          "Sri Petaling Line",
          "Sri Petaling Line",
          "Sri Petaling Line",
          "Sri Petaling Line",
          "Sri Petaling Line",
          "Sri Petaling Line",
          "Sri Petaling Line",
          "Sri Petaling Line",
          "Kelana Jaya Line",
          "Kelana Jaya Line",
          "Kelana Jaya Line",
          "Kelana Jaya Line",
          "Kelana Jaya Line",
          "Kelana Jaya Line",
          "Kelana Jaya Line",
          "Kelana Jaya Line",
          "Kelana Jaya Line",
          "Kelana Jaya Line",
          "Kelana Jaya Line",
          "Kelana Jaya Line",
          "Kelana Jaya Line",
          "Kelana Jaya Line",
          "Kelana Jaya Line",
          "Kelana Jaya Line",
          "Kelana Jaya Line",
          "Kelana Jaya Line",
          "Kelana Jaya Line",
          "Kelana Jaya Line",
          "Kelana Jaya Line",
          "Kelana Jaya Line",
          "Kelana Jaya Line",
          "Kelana Jaya Line",
          "Kelana Jaya Line",
          "Kelana Jaya Line",
          "Kelana Jaya Line",
          "Kelana Jaya Line",
          "Kelana Jaya Line",
          "Kelana Jaya Line",
          "Kelana Jaya Line",
          "Kelana Jaya Line",
          "Kelana Jaya Line",
          "Kelana Jaya Line",
          "Kelana Jaya Line",
          "Kelana Jaya Line",
          "Kelana Jaya Line",
          "KL Monorail Line",
          "KL Monorail Line",
          "KL Monorail Line",
          "KL Monorail Line",
          "KL Monorail Line",
          "KL Monorail Line",
          "KL Monorail Line",
          "KL Monorail Line",
          "KL Monorail Line",
          "KL Monorail Line",
          "KL Monorail Line",
          "MRT Sungai Buloh - Kajang Line",
          "MRT Sungai Buloh - Kajang Line",
          "MRT Sungai Buloh - Kajang Line",
          "MRT Sungai Buloh - Kajang Line",
          "MRT Sungai Buloh - Kajang Line",
          "MRT Sungai Buloh - Kajang Line",
          "MRT Sungai Buloh - Kajang Line",
          "MRT Sungai Buloh - Kajang Line",
          "MRT Sungai Buloh - Kajang Line",
          "MRT Sungai Buloh - Kajang Line",
          "MRT Sungai Buloh - Kajang Line",
          "MRT Sungai Buloh - Kajang Line",
          "MRT Sungai Buloh - Kajang Line",
          "MRT Sungai Buloh - Kajang Line",
          "MRT Sungai Buloh - Kajang Line",
          "MRT Sungai Buloh - Kajang Line",
          "MRT Sungai Buloh - Kajang Line",
          "MRT Sungai Buloh - Kajang Line",
          "MRT Sungai Buloh - Kajang Line",
          "MRT Sungai Buloh - Kajang Line",
          "MRT Sungai Buloh - Kajang Line",
          "MRT Sungai Buloh - Kajang Line",
          "MRT Sungai Buloh - Kajang Line",
          "MRT Sungai Buloh - Kajang Line",
          "MRT Sungai Buloh - Kajang Line",
          "MRT Sungai Buloh - Kajang Line",
          "MRT Sungai Buloh - Kajang Line",
          "MRT Sungai Buloh - Kajang Line",
          "MRT Sungai Buloh - Kajang Line",
          "MRT Sungai Buloh - Kajang Line",
          "MRT Sungai Buloh - Kajang Line"
         ],
         "xaxis": "x",
         "y": [
          0.33724218,
          0.1546662,
          0.33176681,
          0.37727368,
          0.15932879,
          0.24879704,
          0.35354969,
          0.07686364,
          0.29995945,
          0.20698176,
          0.08520355,
          0.10908823,
          0.12765432000000002,
          0.10372052,
          0.30964279,
          0.21829926,
          0.14038832999999998,
          0.08700395,
          0.15914785,
          0.31987013000000003,
          0.36440737,
          0.28778113,
          0.18058166,
          0.25175232000000003,
          0.14368163,
          0.09205028,
          0.15237542,
          0.31456235,
          0.11328153,
          0.17176765,
          0.35933424,
          0.33724218,
          0.1546662,
          0.33176681,
          0.37727368,
          0.15932879,
          0.24879704,
          0.35354969,
          0.07686364,
          0.29995945,
          0.18159136,
          0.19527194,
          0.09621198,
          0.20698176,
          0.16106156,
          0.22306622,
          0.08520355,
          0.02267377,
          0.12847033,
          0.15774998999999998,
          0.16809358,
          0.28003389,
          0.19492496,
          0.22591129,
          0.11824999,
          0.28283391,
          0.35358716,
          0.14676751999999998,
          0.02152531,
          0.27510395,
          0.24235682,
          0.3222016,
          0.18799781,
          0.22266883,
          0.24884647,
          0.25081894,
          0.23236677,
          0.06879924000000001,
          0.28727626,
          0.26123897,
          0.29123198,
          0.32106086,
          0.21444045,
          0.17781184,
          0.33269748,
          0.20476568,
          0.32679448,
          0.0971136,
          0.16797594,
          0.020076300000000002,
          0.29868451,
          0.23714405,
          0.23981816,
          0.08149613,
          0.282571,
          0.32216819,
          0.19872931,
          0.40916697,
          0.23397354,
          0.18207893,
          0.30759115000000004,
          0.14989506,
          0.26908476000000003,
          0.32843958,
          0.36637874,
          0.08337092,
          0.14304667,
          0.10847691,
          0.24301521,
          0.06015653,
          0.18350335,
          0.2537391,
          0.05812919,
          0.21586482,
          0.11754646,
          0.16716919,
          0.18153927,
          0.21390516,
          0.30103121,
          0.20341446,
          0.40743421,
          0.09877055,
          0.32171969,
          0.22988957,
          0.30111587,
          0.24658695,
          0.15422356,
          0.10901780000000001,
          0.17065887,
          0.08552002,
          0.18767169,
          0.13546985,
          0.06215426,
          0.21858111,
          0.31359252000000004,
          0.12926258999999998
         ],
         "yaxis": "y"
        }
       ],
       "layout": {
        "barmode": "group",
        "legend": {
         "tracegroupgap": 0
        },
        "showlegend": false,
        "template": {
         "data": {
          "bar": [
           {
            "error_x": {
             "color": "#2a3f5f"
            },
            "error_y": {
             "color": "#2a3f5f"
            },
            "marker": {
             "line": {
              "color": "#E5ECF6",
              "width": 0.5
             }
            },
            "type": "bar"
           }
          ],
          "barpolar": [
           {
            "marker": {
             "line": {
              "color": "#E5ECF6",
              "width": 0.5
             }
            },
            "type": "barpolar"
           }
          ],
          "carpet": [
           {
            "aaxis": {
             "endlinecolor": "#2a3f5f",
             "gridcolor": "white",
             "linecolor": "white",
             "minorgridcolor": "white",
             "startlinecolor": "#2a3f5f"
            },
            "baxis": {
             "endlinecolor": "#2a3f5f",
             "gridcolor": "white",
             "linecolor": "white",
             "minorgridcolor": "white",
             "startlinecolor": "#2a3f5f"
            },
            "type": "carpet"
           }
          ],
          "choropleth": [
           {
            "colorbar": {
             "outlinewidth": 0,
             "ticks": ""
            },
            "type": "choropleth"
           }
          ],
          "contour": [
           {
            "colorbar": {
             "outlinewidth": 0,
             "ticks": ""
            },
            "colorscale": [
             [
              0,
              "#0d0887"
             ],
             [
              0.1111111111111111,
              "#46039f"
             ],
             [
              0.2222222222222222,
              "#7201a8"
             ],
             [
              0.3333333333333333,
              "#9c179e"
             ],
             [
              0.4444444444444444,
              "#bd3786"
             ],
             [
              0.5555555555555556,
              "#d8576b"
             ],
             [
              0.6666666666666666,
              "#ed7953"
             ],
             [
              0.7777777777777778,
              "#fb9f3a"
             ],
             [
              0.8888888888888888,
              "#fdca26"
             ],
             [
              1,
              "#f0f921"
             ]
            ],
            "type": "contour"
           }
          ],
          "contourcarpet": [
           {
            "colorbar": {
             "outlinewidth": 0,
             "ticks": ""
            },
            "type": "contourcarpet"
           }
          ],
          "heatmap": [
           {
            "colorbar": {
             "outlinewidth": 0,
             "ticks": ""
            },
            "colorscale": [
             [
              0,
              "#0d0887"
             ],
             [
              0.1111111111111111,
              "#46039f"
             ],
             [
              0.2222222222222222,
              "#7201a8"
             ],
             [
              0.3333333333333333,
              "#9c179e"
             ],
             [
              0.4444444444444444,
              "#bd3786"
             ],
             [
              0.5555555555555556,
              "#d8576b"
             ],
             [
              0.6666666666666666,
              "#ed7953"
             ],
             [
              0.7777777777777778,
              "#fb9f3a"
             ],
             [
              0.8888888888888888,
              "#fdca26"
             ],
             [
              1,
              "#f0f921"
             ]
            ],
            "type": "heatmap"
           }
          ],
          "heatmapgl": [
           {
            "colorbar": {
             "outlinewidth": 0,
             "ticks": ""
            },
            "colorscale": [
             [
              0,
              "#0d0887"
             ],
             [
              0.1111111111111111,
              "#46039f"
             ],
             [
              0.2222222222222222,
              "#7201a8"
             ],
             [
              0.3333333333333333,
              "#9c179e"
             ],
             [
              0.4444444444444444,
              "#bd3786"
             ],
             [
              0.5555555555555556,
              "#d8576b"
             ],
             [
              0.6666666666666666,
              "#ed7953"
             ],
             [
              0.7777777777777778,
              "#fb9f3a"
             ],
             [
              0.8888888888888888,
              "#fdca26"
             ],
             [
              1,
              "#f0f921"
             ]
            ],
            "type": "heatmapgl"
           }
          ],
          "histogram": [
           {
            "marker": {
             "colorbar": {
              "outlinewidth": 0,
              "ticks": ""
             }
            },
            "type": "histogram"
           }
          ],
          "histogram2d": [
           {
            "colorbar": {
             "outlinewidth": 0,
             "ticks": ""
            },
            "colorscale": [
             [
              0,
              "#0d0887"
             ],
             [
              0.1111111111111111,
              "#46039f"
             ],
             [
              0.2222222222222222,
              "#7201a8"
             ],
             [
              0.3333333333333333,
              "#9c179e"
             ],
             [
              0.4444444444444444,
              "#bd3786"
             ],
             [
              0.5555555555555556,
              "#d8576b"
             ],
             [
              0.6666666666666666,
              "#ed7953"
             ],
             [
              0.7777777777777778,
              "#fb9f3a"
             ],
             [
              0.8888888888888888,
              "#fdca26"
             ],
             [
              1,
              "#f0f921"
             ]
            ],
            "type": "histogram2d"
           }
          ],
          "histogram2dcontour": [
           {
            "colorbar": {
             "outlinewidth": 0,
             "ticks": ""
            },
            "colorscale": [
             [
              0,
              "#0d0887"
             ],
             [
              0.1111111111111111,
              "#46039f"
             ],
             [
              0.2222222222222222,
              "#7201a8"
             ],
             [
              0.3333333333333333,
              "#9c179e"
             ],
             [
              0.4444444444444444,
              "#bd3786"
             ],
             [
              0.5555555555555556,
              "#d8576b"
             ],
             [
              0.6666666666666666,
              "#ed7953"
             ],
             [
              0.7777777777777778,
              "#fb9f3a"
             ],
             [
              0.8888888888888888,
              "#fdca26"
             ],
             [
              1,
              "#f0f921"
             ]
            ],
            "type": "histogram2dcontour"
           }
          ],
          "mesh3d": [
           {
            "colorbar": {
             "outlinewidth": 0,
             "ticks": ""
            },
            "type": "mesh3d"
           }
          ],
          "parcoords": [
           {
            "line": {
             "colorbar": {
              "outlinewidth": 0,
              "ticks": ""
             }
            },
            "type": "parcoords"
           }
          ],
          "pie": [
           {
            "automargin": true,
            "type": "pie"
           }
          ],
          "scatter": [
           {
            "marker": {
             "colorbar": {
              "outlinewidth": 0,
              "ticks": ""
             }
            },
            "type": "scatter"
           }
          ],
          "scatter3d": [
           {
            "line": {
             "colorbar": {
              "outlinewidth": 0,
              "ticks": ""
             }
            },
            "marker": {
             "colorbar": {
              "outlinewidth": 0,
              "ticks": ""
             }
            },
            "type": "scatter3d"
           }
          ],
          "scattercarpet": [
           {
            "marker": {
             "colorbar": {
              "outlinewidth": 0,
              "ticks": ""
             }
            },
            "type": "scattercarpet"
           }
          ],
          "scattergeo": [
           {
            "marker": {
             "colorbar": {
              "outlinewidth": 0,
              "ticks": ""
             }
            },
            "type": "scattergeo"
           }
          ],
          "scattergl": [
           {
            "marker": {
             "colorbar": {
              "outlinewidth": 0,
              "ticks": ""
             }
            },
            "type": "scattergl"
           }
          ],
          "scattermapbox": [
           {
            "marker": {
             "colorbar": {
              "outlinewidth": 0,
              "ticks": ""
             }
            },
            "type": "scattermapbox"
           }
          ],
          "scatterpolar": [
           {
            "marker": {
             "colorbar": {
              "outlinewidth": 0,
              "ticks": ""
             }
            },
            "type": "scatterpolar"
           }
          ],
          "scatterpolargl": [
           {
            "marker": {
             "colorbar": {
              "outlinewidth": 0,
              "ticks": ""
             }
            },
            "type": "scatterpolargl"
           }
          ],
          "scatterternary": [
           {
            "marker": {
             "colorbar": {
              "outlinewidth": 0,
              "ticks": ""
             }
            },
            "type": "scatterternary"
           }
          ],
          "surface": [
           {
            "colorbar": {
             "outlinewidth": 0,
             "ticks": ""
            },
            "colorscale": [
             [
              0,
              "#0d0887"
             ],
             [
              0.1111111111111111,
              "#46039f"
             ],
             [
              0.2222222222222222,
              "#7201a8"
             ],
             [
              0.3333333333333333,
              "#9c179e"
             ],
             [
              0.4444444444444444,
              "#bd3786"
             ],
             [
              0.5555555555555556,
              "#d8576b"
             ],
             [
              0.6666666666666666,
              "#ed7953"
             ],
             [
              0.7777777777777778,
              "#fb9f3a"
             ],
             [
              0.8888888888888888,
              "#fdca26"
             ],
             [
              1,
              "#f0f921"
             ]
            ],
            "type": "surface"
           }
          ],
          "table": [
           {
            "cells": {
             "fill": {
              "color": "#EBF0F8"
             },
             "line": {
              "color": "white"
             }
            },
            "header": {
             "fill": {
              "color": "#C8D4E3"
             },
             "line": {
              "color": "white"
             }
            },
            "type": "table"
           }
          ]
         },
         "layout": {
          "annotationdefaults": {
           "arrowcolor": "#2a3f5f",
           "arrowhead": 0,
           "arrowwidth": 1
          },
          "coloraxis": {
           "colorbar": {
            "outlinewidth": 0,
            "ticks": ""
           }
          },
          "colorscale": {
           "diverging": [
            [
             0,
             "#8e0152"
            ],
            [
             0.1,
             "#c51b7d"
            ],
            [
             0.2,
             "#de77ae"
            ],
            [
             0.3,
             "#f1b6da"
            ],
            [
             0.4,
             "#fde0ef"
            ],
            [
             0.5,
             "#f7f7f7"
            ],
            [
             0.6,
             "#e6f5d0"
            ],
            [
             0.7,
             "#b8e186"
            ],
            [
             0.8,
             "#7fbc41"
            ],
            [
             0.9,
             "#4d9221"
            ],
            [
             1,
             "#276419"
            ]
           ],
           "sequential": [
            [
             0,
             "#0d0887"
            ],
            [
             0.1111111111111111,
             "#46039f"
            ],
            [
             0.2222222222222222,
             "#7201a8"
            ],
            [
             0.3333333333333333,
             "#9c179e"
            ],
            [
             0.4444444444444444,
             "#bd3786"
            ],
            [
             0.5555555555555556,
             "#d8576b"
            ],
            [
             0.6666666666666666,
             "#ed7953"
            ],
            [
             0.7777777777777778,
             "#fb9f3a"
            ],
            [
             0.8888888888888888,
             "#fdca26"
            ],
            [
             1,
             "#f0f921"
            ]
           ],
           "sequentialminus": [
            [
             0,
             "#0d0887"
            ],
            [
             0.1111111111111111,
             "#46039f"
            ],
            [
             0.2222222222222222,
             "#7201a8"
            ],
            [
             0.3333333333333333,
             "#9c179e"
            ],
            [
             0.4444444444444444,
             "#bd3786"
            ],
            [
             0.5555555555555556,
             "#d8576b"
            ],
            [
             0.6666666666666666,
             "#ed7953"
            ],
            [
             0.7777777777777778,
             "#fb9f3a"
            ],
            [
             0.8888888888888888,
             "#fdca26"
            ],
            [
             1,
             "#f0f921"
            ]
           ]
          },
          "colorway": [
           "#636efa",
           "#EF553B",
           "#00cc96",
           "#ab63fa",
           "#FFA15A",
           "#19d3f3",
           "#FF6692",
           "#B6E880",
           "#FF97FF",
           "#FECB52"
          ],
          "font": {
           "color": "#2a3f5f"
          },
          "geo": {
           "bgcolor": "white",
           "lakecolor": "white",
           "landcolor": "#E5ECF6",
           "showlakes": true,
           "showland": true,
           "subunitcolor": "white"
          },
          "hoverlabel": {
           "align": "left"
          },
          "hovermode": "closest",
          "mapbox": {
           "style": "light"
          },
          "paper_bgcolor": "white",
          "plot_bgcolor": "#E5ECF6",
          "polar": {
           "angularaxis": {
            "gridcolor": "white",
            "linecolor": "white",
            "ticks": ""
           },
           "bgcolor": "#E5ECF6",
           "radialaxis": {
            "gridcolor": "white",
            "linecolor": "white",
            "ticks": ""
           }
          },
          "scene": {
           "xaxis": {
            "backgroundcolor": "#E5ECF6",
            "gridcolor": "white",
            "gridwidth": 2,
            "linecolor": "white",
            "showbackground": true,
            "ticks": "",
            "zerolinecolor": "white"
           },
           "yaxis": {
            "backgroundcolor": "#E5ECF6",
            "gridcolor": "white",
            "gridwidth": 2,
            "linecolor": "white",
            "showbackground": true,
            "ticks": "",
            "zerolinecolor": "white"
           },
           "zaxis": {
            "backgroundcolor": "#E5ECF6",
            "gridcolor": "white",
            "gridwidth": 2,
            "linecolor": "white",
            "showbackground": true,
            "ticks": "",
            "zerolinecolor": "white"
           }
          },
          "shapedefaults": {
           "line": {
            "color": "#2a3f5f"
           }
          },
          "ternary": {
           "aaxis": {
            "gridcolor": "white",
            "linecolor": "white",
            "ticks": ""
           },
           "baxis": {
            "gridcolor": "white",
            "linecolor": "white",
            "ticks": ""
           },
           "bgcolor": "#E5ECF6",
           "caxis": {
            "gridcolor": "white",
            "linecolor": "white",
            "ticks": ""
           }
          },
          "title": {
           "x": 0.05
          },
          "xaxis": {
           "automargin": true,
           "gridcolor": "white",
           "linecolor": "white",
           "ticks": "",
           "title": {
            "standoff": 15
           },
           "zerolinecolor": "white",
           "zerolinewidth": 2
          },
          "yaxis": {
           "automargin": true,
           "gridcolor": "white",
           "linecolor": "white",
           "ticks": "",
           "title": {
            "standoff": 15
           },
           "zerolinecolor": "white",
           "zerolinewidth": 2
          }
         }
        },
        "title": {
         "text": "Area coverage within 5 minutes walk from station"
        },
        "xaxis": {
         "anchor": "y",
         "categoryorder": "total ascending",
         "domain": [
          0,
          1
         ],
         "title": {
          "text": "Lines"
         }
        },
        "yaxis": {
         "anchor": "x",
         "domain": [
          0,
          1
         ],
         "title": {
          "text": "avg of 5 Minutes Walk Area(km^2)"
         }
        }
       }
      }
     },
     "metadata": {},
     "output_type": "display_data"
    },
    {
     "data": {
      "application/vnd.plotly.v1+json": {
       "config": {
        "plotlyServerURL": "https://plot.ly"
       },
       "data": [
        {
         "alignmentgroup": "True",
         "bingroup": "x",
         "histfunc": "avg",
         "hovertemplate": "Lines=%{x}<br>avg of 10 Minutes Walk Area(km^2)=%{y}<extra></extra>",
         "legendgroup": "",
         "marker": {
          "color": "#636efa"
         },
         "name": "",
         "offsetgroup": "",
         "orientation": "v",
         "showlegend": false,
         "type": "histogram",
         "x": [
          "Ampang Line",
          "Ampang Line",
          "Ampang Line",
          "Ampang Line",
          "Ampang Line",
          "Ampang Line",
          "Ampang Line",
          "Ampang Line",
          "Ampang Line",
          "Ampang Line",
          "Ampang Line",
          "Ampang Line",
          "Ampang Line",
          "Ampang Line",
          "Ampang Line",
          "Ampang Line",
          "Ampang Line",
          "Ampang Line",
          "Sri Petaling Line",
          "Sri Petaling Line",
          "Sri Petaling Line",
          "Sri Petaling Line",
          "Sri Petaling Line",
          "Sri Petaling Line",
          "Sri Petaling Line",
          "Sri Petaling Line",
          "Sri Petaling Line",
          "Sri Petaling Line",
          "Sri Petaling Line",
          "Sri Petaling Line",
          "Sri Petaling Line",
          "Sri Petaling Line",
          "Sri Petaling Line",
          "Sri Petaling Line",
          "Sri Petaling Line",
          "Sri Petaling Line",
          "Sri Petaling Line",
          "Sri Petaling Line",
          "Sri Petaling Line",
          "Sri Petaling Line",
          "Sri Petaling Line",
          "Sri Petaling Line",
          "Sri Petaling Line",
          "Sri Petaling Line",
          "Sri Petaling Line",
          "Sri Petaling Line",
          "Sri Petaling Line",
          "Kelana Jaya Line",
          "Kelana Jaya Line",
          "Kelana Jaya Line",
          "Kelana Jaya Line",
          "Kelana Jaya Line",
          "Kelana Jaya Line",
          "Kelana Jaya Line",
          "Kelana Jaya Line",
          "Kelana Jaya Line",
          "Kelana Jaya Line",
          "Kelana Jaya Line",
          "Kelana Jaya Line",
          "Kelana Jaya Line",
          "Kelana Jaya Line",
          "Kelana Jaya Line",
          "Kelana Jaya Line",
          "Kelana Jaya Line",
          "Kelana Jaya Line",
          "Kelana Jaya Line",
          "Kelana Jaya Line",
          "Kelana Jaya Line",
          "Kelana Jaya Line",
          "Kelana Jaya Line",
          "Kelana Jaya Line",
          "Kelana Jaya Line",
          "Kelana Jaya Line",
          "Kelana Jaya Line",
          "Kelana Jaya Line",
          "Kelana Jaya Line",
          "Kelana Jaya Line",
          "Kelana Jaya Line",
          "Kelana Jaya Line",
          "Kelana Jaya Line",
          "Kelana Jaya Line",
          "Kelana Jaya Line",
          "Kelana Jaya Line",
          "Kelana Jaya Line",
          "KL Monorail Line",
          "KL Monorail Line",
          "KL Monorail Line",
          "KL Monorail Line",
          "KL Monorail Line",
          "KL Monorail Line",
          "KL Monorail Line",
          "KL Monorail Line",
          "KL Monorail Line",
          "KL Monorail Line",
          "KL Monorail Line",
          "MRT Sungai Buloh - Kajang Line",
          "MRT Sungai Buloh - Kajang Line",
          "MRT Sungai Buloh - Kajang Line",
          "MRT Sungai Buloh - Kajang Line",
          "MRT Sungai Buloh - Kajang Line",
          "MRT Sungai Buloh - Kajang Line",
          "MRT Sungai Buloh - Kajang Line",
          "MRT Sungai Buloh - Kajang Line",
          "MRT Sungai Buloh - Kajang Line",
          "MRT Sungai Buloh - Kajang Line",
          "MRT Sungai Buloh - Kajang Line",
          "MRT Sungai Buloh - Kajang Line",
          "MRT Sungai Buloh - Kajang Line",
          "MRT Sungai Buloh - Kajang Line",
          "MRT Sungai Buloh - Kajang Line",
          "MRT Sungai Buloh - Kajang Line",
          "MRT Sungai Buloh - Kajang Line",
          "MRT Sungai Buloh - Kajang Line",
          "MRT Sungai Buloh - Kajang Line",
          "MRT Sungai Buloh - Kajang Line",
          "MRT Sungai Buloh - Kajang Line",
          "MRT Sungai Buloh - Kajang Line",
          "MRT Sungai Buloh - Kajang Line",
          "MRT Sungai Buloh - Kajang Line",
          "MRT Sungai Buloh - Kajang Line",
          "MRT Sungai Buloh - Kajang Line",
          "MRT Sungai Buloh - Kajang Line",
          "MRT Sungai Buloh - Kajang Line",
          "MRT Sungai Buloh - Kajang Line",
          "MRT Sungai Buloh - Kajang Line",
          "MRT Sungai Buloh - Kajang Line"
         ],
         "xaxis": "x",
         "y": [
          1.09334887,
          0.80231439,
          1.3299142,
          1.31730172,
          0.98019944,
          0.9941378,
          1.5230143799999998,
          0.7287783299999999,
          1.3736323899999998,
          1.14943278,
          0.68970727,
          0.5937145500000001,
          0.9350726999999999,
          0.4834335,
          1.20690344,
          1.06719648,
          0.86601087,
          0.80194669,
          0.86313283,
          1.15664441,
          1.42769142,
          0.90251369,
          0.52016311,
          0.98766563,
          0.55619289,
          0.66678646,
          0.94313668,
          0.97527387,
          0.6901240799999999,
          0.6597359899999999,
          1.39635365,
          1.09334887,
          0.80231439,
          1.3299142,
          1.31730172,
          0.98019944,
          0.9941378,
          1.5230143799999998,
          0.7287783299999999,
          1.3736323899999998,
          0.6489337,
          0.86325234,
          0.4124528,
          1.14943278,
          0.51988839,
          0.6792649300000001,
          0.68970727,
          0.17516605999999998,
          0.55438652,
          0.86589967,
          0.84586189,
          1.28355542,
          1.19836021,
          0.70439516,
          0.50044574,
          1.38068874,
          1.38658291,
          1.09200724,
          0.39645643,
          1.27643156,
          1.1012631899999998,
          1.49388015,
          1.04064393,
          0.96485189,
          0.98989655,
          1.11638015,
          1.08560675,
          0.5238393,
          1.1931968700000002,
          1.03103308,
          1.24463438,
          1.54427346,
          1.0594265900000002,
          1.09898814,
          1.29000994,
          0.9643110999999999,
          1.3261784399999998,
          0.42379399999999995,
          0.6094221999999999,
          0.4053551,
          1.18938463,
          1.14565526,
          0.93928982,
          0.61438852,
          1.09211687,
          1.12171054,
          1.1069307,
          1.5978103899999998,
          1.367721,
          0.83609601,
          1.31818673,
          1.0102258,
          1.30095197,
          1.54870424,
          1.52258909,
          0.47777056,
          0.32680685,
          0.70574069,
          1.09880969,
          0.25483471,
          1.05479949,
          1.24189861,
          0.34321703000000003,
          1.03133178,
          0.81246512,
          0.792776,
          0.69851637,
          1.00576163,
          1.23598569,
          1.00091417,
          1.61694446,
          0.54084151,
          1.32363621,
          1.39069973,
          1.37199615,
          0.99480425,
          0.93110482,
          0.49464933,
          0.69375911,
          0.41850527,
          0.91200428,
          0.67322998,
          0.41825578,
          1.08586026,
          1.34582422,
          0.6108315799999999
         ],
         "yaxis": "y"
        }
       ],
       "layout": {
        "barmode": "group",
        "legend": {
         "tracegroupgap": 0
        },
        "showlegend": false,
        "template": {
         "data": {
          "bar": [
           {
            "error_x": {
             "color": "#2a3f5f"
            },
            "error_y": {
             "color": "#2a3f5f"
            },
            "marker": {
             "line": {
              "color": "#E5ECF6",
              "width": 0.5
             }
            },
            "type": "bar"
           }
          ],
          "barpolar": [
           {
            "marker": {
             "line": {
              "color": "#E5ECF6",
              "width": 0.5
             }
            },
            "type": "barpolar"
           }
          ],
          "carpet": [
           {
            "aaxis": {
             "endlinecolor": "#2a3f5f",
             "gridcolor": "white",
             "linecolor": "white",
             "minorgridcolor": "white",
             "startlinecolor": "#2a3f5f"
            },
            "baxis": {
             "endlinecolor": "#2a3f5f",
             "gridcolor": "white",
             "linecolor": "white",
             "minorgridcolor": "white",
             "startlinecolor": "#2a3f5f"
            },
            "type": "carpet"
           }
          ],
          "choropleth": [
           {
            "colorbar": {
             "outlinewidth": 0,
             "ticks": ""
            },
            "type": "choropleth"
           }
          ],
          "contour": [
           {
            "colorbar": {
             "outlinewidth": 0,
             "ticks": ""
            },
            "colorscale": [
             [
              0,
              "#0d0887"
             ],
             [
              0.1111111111111111,
              "#46039f"
             ],
             [
              0.2222222222222222,
              "#7201a8"
             ],
             [
              0.3333333333333333,
              "#9c179e"
             ],
             [
              0.4444444444444444,
              "#bd3786"
             ],
             [
              0.5555555555555556,
              "#d8576b"
             ],
             [
              0.6666666666666666,
              "#ed7953"
             ],
             [
              0.7777777777777778,
              "#fb9f3a"
             ],
             [
              0.8888888888888888,
              "#fdca26"
             ],
             [
              1,
              "#f0f921"
             ]
            ],
            "type": "contour"
           }
          ],
          "contourcarpet": [
           {
            "colorbar": {
             "outlinewidth": 0,
             "ticks": ""
            },
            "type": "contourcarpet"
           }
          ],
          "heatmap": [
           {
            "colorbar": {
             "outlinewidth": 0,
             "ticks": ""
            },
            "colorscale": [
             [
              0,
              "#0d0887"
             ],
             [
              0.1111111111111111,
              "#46039f"
             ],
             [
              0.2222222222222222,
              "#7201a8"
             ],
             [
              0.3333333333333333,
              "#9c179e"
             ],
             [
              0.4444444444444444,
              "#bd3786"
             ],
             [
              0.5555555555555556,
              "#d8576b"
             ],
             [
              0.6666666666666666,
              "#ed7953"
             ],
             [
              0.7777777777777778,
              "#fb9f3a"
             ],
             [
              0.8888888888888888,
              "#fdca26"
             ],
             [
              1,
              "#f0f921"
             ]
            ],
            "type": "heatmap"
           }
          ],
          "heatmapgl": [
           {
            "colorbar": {
             "outlinewidth": 0,
             "ticks": ""
            },
            "colorscale": [
             [
              0,
              "#0d0887"
             ],
             [
              0.1111111111111111,
              "#46039f"
             ],
             [
              0.2222222222222222,
              "#7201a8"
             ],
             [
              0.3333333333333333,
              "#9c179e"
             ],
             [
              0.4444444444444444,
              "#bd3786"
             ],
             [
              0.5555555555555556,
              "#d8576b"
             ],
             [
              0.6666666666666666,
              "#ed7953"
             ],
             [
              0.7777777777777778,
              "#fb9f3a"
             ],
             [
              0.8888888888888888,
              "#fdca26"
             ],
             [
              1,
              "#f0f921"
             ]
            ],
            "type": "heatmapgl"
           }
          ],
          "histogram": [
           {
            "marker": {
             "colorbar": {
              "outlinewidth": 0,
              "ticks": ""
             }
            },
            "type": "histogram"
           }
          ],
          "histogram2d": [
           {
            "colorbar": {
             "outlinewidth": 0,
             "ticks": ""
            },
            "colorscale": [
             [
              0,
              "#0d0887"
             ],
             [
              0.1111111111111111,
              "#46039f"
             ],
             [
              0.2222222222222222,
              "#7201a8"
             ],
             [
              0.3333333333333333,
              "#9c179e"
             ],
             [
              0.4444444444444444,
              "#bd3786"
             ],
             [
              0.5555555555555556,
              "#d8576b"
             ],
             [
              0.6666666666666666,
              "#ed7953"
             ],
             [
              0.7777777777777778,
              "#fb9f3a"
             ],
             [
              0.8888888888888888,
              "#fdca26"
             ],
             [
              1,
              "#f0f921"
             ]
            ],
            "type": "histogram2d"
           }
          ],
          "histogram2dcontour": [
           {
            "colorbar": {
             "outlinewidth": 0,
             "ticks": ""
            },
            "colorscale": [
             [
              0,
              "#0d0887"
             ],
             [
              0.1111111111111111,
              "#46039f"
             ],
             [
              0.2222222222222222,
              "#7201a8"
             ],
             [
              0.3333333333333333,
              "#9c179e"
             ],
             [
              0.4444444444444444,
              "#bd3786"
             ],
             [
              0.5555555555555556,
              "#d8576b"
             ],
             [
              0.6666666666666666,
              "#ed7953"
             ],
             [
              0.7777777777777778,
              "#fb9f3a"
             ],
             [
              0.8888888888888888,
              "#fdca26"
             ],
             [
              1,
              "#f0f921"
             ]
            ],
            "type": "histogram2dcontour"
           }
          ],
          "mesh3d": [
           {
            "colorbar": {
             "outlinewidth": 0,
             "ticks": ""
            },
            "type": "mesh3d"
           }
          ],
          "parcoords": [
           {
            "line": {
             "colorbar": {
              "outlinewidth": 0,
              "ticks": ""
             }
            },
            "type": "parcoords"
           }
          ],
          "pie": [
           {
            "automargin": true,
            "type": "pie"
           }
          ],
          "scatter": [
           {
            "marker": {
             "colorbar": {
              "outlinewidth": 0,
              "ticks": ""
             }
            },
            "type": "scatter"
           }
          ],
          "scatter3d": [
           {
            "line": {
             "colorbar": {
              "outlinewidth": 0,
              "ticks": ""
             }
            },
            "marker": {
             "colorbar": {
              "outlinewidth": 0,
              "ticks": ""
             }
            },
            "type": "scatter3d"
           }
          ],
          "scattercarpet": [
           {
            "marker": {
             "colorbar": {
              "outlinewidth": 0,
              "ticks": ""
             }
            },
            "type": "scattercarpet"
           }
          ],
          "scattergeo": [
           {
            "marker": {
             "colorbar": {
              "outlinewidth": 0,
              "ticks": ""
             }
            },
            "type": "scattergeo"
           }
          ],
          "scattergl": [
           {
            "marker": {
             "colorbar": {
              "outlinewidth": 0,
              "ticks": ""
             }
            },
            "type": "scattergl"
           }
          ],
          "scattermapbox": [
           {
            "marker": {
             "colorbar": {
              "outlinewidth": 0,
              "ticks": ""
             }
            },
            "type": "scattermapbox"
           }
          ],
          "scatterpolar": [
           {
            "marker": {
             "colorbar": {
              "outlinewidth": 0,
              "ticks": ""
             }
            },
            "type": "scatterpolar"
           }
          ],
          "scatterpolargl": [
           {
            "marker": {
             "colorbar": {
              "outlinewidth": 0,
              "ticks": ""
             }
            },
            "type": "scatterpolargl"
           }
          ],
          "scatterternary": [
           {
            "marker": {
             "colorbar": {
              "outlinewidth": 0,
              "ticks": ""
             }
            },
            "type": "scatterternary"
           }
          ],
          "surface": [
           {
            "colorbar": {
             "outlinewidth": 0,
             "ticks": ""
            },
            "colorscale": [
             [
              0,
              "#0d0887"
             ],
             [
              0.1111111111111111,
              "#46039f"
             ],
             [
              0.2222222222222222,
              "#7201a8"
             ],
             [
              0.3333333333333333,
              "#9c179e"
             ],
             [
              0.4444444444444444,
              "#bd3786"
             ],
             [
              0.5555555555555556,
              "#d8576b"
             ],
             [
              0.6666666666666666,
              "#ed7953"
             ],
             [
              0.7777777777777778,
              "#fb9f3a"
             ],
             [
              0.8888888888888888,
              "#fdca26"
             ],
             [
              1,
              "#f0f921"
             ]
            ],
            "type": "surface"
           }
          ],
          "table": [
           {
            "cells": {
             "fill": {
              "color": "#EBF0F8"
             },
             "line": {
              "color": "white"
             }
            },
            "header": {
             "fill": {
              "color": "#C8D4E3"
             },
             "line": {
              "color": "white"
             }
            },
            "type": "table"
           }
          ]
         },
         "layout": {
          "annotationdefaults": {
           "arrowcolor": "#2a3f5f",
           "arrowhead": 0,
           "arrowwidth": 1
          },
          "coloraxis": {
           "colorbar": {
            "outlinewidth": 0,
            "ticks": ""
           }
          },
          "colorscale": {
           "diverging": [
            [
             0,
             "#8e0152"
            ],
            [
             0.1,
             "#c51b7d"
            ],
            [
             0.2,
             "#de77ae"
            ],
            [
             0.3,
             "#f1b6da"
            ],
            [
             0.4,
             "#fde0ef"
            ],
            [
             0.5,
             "#f7f7f7"
            ],
            [
             0.6,
             "#e6f5d0"
            ],
            [
             0.7,
             "#b8e186"
            ],
            [
             0.8,
             "#7fbc41"
            ],
            [
             0.9,
             "#4d9221"
            ],
            [
             1,
             "#276419"
            ]
           ],
           "sequential": [
            [
             0,
             "#0d0887"
            ],
            [
             0.1111111111111111,
             "#46039f"
            ],
            [
             0.2222222222222222,
             "#7201a8"
            ],
            [
             0.3333333333333333,
             "#9c179e"
            ],
            [
             0.4444444444444444,
             "#bd3786"
            ],
            [
             0.5555555555555556,
             "#d8576b"
            ],
            [
             0.6666666666666666,
             "#ed7953"
            ],
            [
             0.7777777777777778,
             "#fb9f3a"
            ],
            [
             0.8888888888888888,
             "#fdca26"
            ],
            [
             1,
             "#f0f921"
            ]
           ],
           "sequentialminus": [
            [
             0,
             "#0d0887"
            ],
            [
             0.1111111111111111,
             "#46039f"
            ],
            [
             0.2222222222222222,
             "#7201a8"
            ],
            [
             0.3333333333333333,
             "#9c179e"
            ],
            [
             0.4444444444444444,
             "#bd3786"
            ],
            [
             0.5555555555555556,
             "#d8576b"
            ],
            [
             0.6666666666666666,
             "#ed7953"
            ],
            [
             0.7777777777777778,
             "#fb9f3a"
            ],
            [
             0.8888888888888888,
             "#fdca26"
            ],
            [
             1,
             "#f0f921"
            ]
           ]
          },
          "colorway": [
           "#636efa",
           "#EF553B",
           "#00cc96",
           "#ab63fa",
           "#FFA15A",
           "#19d3f3",
           "#FF6692",
           "#B6E880",
           "#FF97FF",
           "#FECB52"
          ],
          "font": {
           "color": "#2a3f5f"
          },
          "geo": {
           "bgcolor": "white",
           "lakecolor": "white",
           "landcolor": "#E5ECF6",
           "showlakes": true,
           "showland": true,
           "subunitcolor": "white"
          },
          "hoverlabel": {
           "align": "left"
          },
          "hovermode": "closest",
          "mapbox": {
           "style": "light"
          },
          "paper_bgcolor": "white",
          "plot_bgcolor": "#E5ECF6",
          "polar": {
           "angularaxis": {
            "gridcolor": "white",
            "linecolor": "white",
            "ticks": ""
           },
           "bgcolor": "#E5ECF6",
           "radialaxis": {
            "gridcolor": "white",
            "linecolor": "white",
            "ticks": ""
           }
          },
          "scene": {
           "xaxis": {
            "backgroundcolor": "#E5ECF6",
            "gridcolor": "white",
            "gridwidth": 2,
            "linecolor": "white",
            "showbackground": true,
            "ticks": "",
            "zerolinecolor": "white"
           },
           "yaxis": {
            "backgroundcolor": "#E5ECF6",
            "gridcolor": "white",
            "gridwidth": 2,
            "linecolor": "white",
            "showbackground": true,
            "ticks": "",
            "zerolinecolor": "white"
           },
           "zaxis": {
            "backgroundcolor": "#E5ECF6",
            "gridcolor": "white",
            "gridwidth": 2,
            "linecolor": "white",
            "showbackground": true,
            "ticks": "",
            "zerolinecolor": "white"
           }
          },
          "shapedefaults": {
           "line": {
            "color": "#2a3f5f"
           }
          },
          "ternary": {
           "aaxis": {
            "gridcolor": "white",
            "linecolor": "white",
            "ticks": ""
           },
           "baxis": {
            "gridcolor": "white",
            "linecolor": "white",
            "ticks": ""
           },
           "bgcolor": "#E5ECF6",
           "caxis": {
            "gridcolor": "white",
            "linecolor": "white",
            "ticks": ""
           }
          },
          "title": {
           "x": 0.05
          },
          "xaxis": {
           "automargin": true,
           "gridcolor": "white",
           "linecolor": "white",
           "ticks": "",
           "title": {
            "standoff": 15
           },
           "zerolinecolor": "white",
           "zerolinewidth": 2
          },
          "yaxis": {
           "automargin": true,
           "gridcolor": "white",
           "linecolor": "white",
           "ticks": "",
           "title": {
            "standoff": 15
           },
           "zerolinecolor": "white",
           "zerolinewidth": 2
          }
         }
        },
        "title": {
         "text": "Area coverage within 10 minutes walk from station"
        },
        "xaxis": {
         "anchor": "y",
         "categoryorder": "total ascending",
         "domain": [
          0,
          1
         ],
         "title": {
          "text": "Lines"
         }
        },
        "yaxis": {
         "anchor": "x",
         "domain": [
          0,
          1
         ],
         "title": {
          "text": "avg of 10 Minutes Walk Area(km^2)"
         }
        }
       }
      }
     },
     "metadata": {},
     "output_type": "display_data"
    },
    {
     "data": {
      "application/vnd.plotly.v1+json": {
       "config": {
        "plotlyServerURL": "https://plot.ly"
       },
       "data": [
        {
         "alignmentgroup": "True",
         "bingroup": "x",
         "histfunc": "avg",
         "hovertemplate": "Lines=%{x}<br>avg of 15 Minutes Walk Area(km^2)=%{y}<extra></extra>",
         "legendgroup": "",
         "marker": {
          "color": "#636efa"
         },
         "name": "",
         "offsetgroup": "",
         "orientation": "v",
         "showlegend": false,
         "type": "histogram",
         "x": [
          "Ampang Line",
          "Ampang Line",
          "Ampang Line",
          "Ampang Line",
          "Ampang Line",
          "Ampang Line",
          "Ampang Line",
          "Ampang Line",
          "Ampang Line",
          "Ampang Line",
          "Ampang Line",
          "Ampang Line",
          "Ampang Line",
          "Ampang Line",
          "Ampang Line",
          "Ampang Line",
          "Ampang Line",
          "Ampang Line",
          "Sri Petaling Line",
          "Sri Petaling Line",
          "Sri Petaling Line",
          "Sri Petaling Line",
          "Sri Petaling Line",
          "Sri Petaling Line",
          "Sri Petaling Line",
          "Sri Petaling Line",
          "Sri Petaling Line",
          "Sri Petaling Line",
          "Sri Petaling Line",
          "Sri Petaling Line",
          "Sri Petaling Line",
          "Sri Petaling Line",
          "Sri Petaling Line",
          "Sri Petaling Line",
          "Sri Petaling Line",
          "Sri Petaling Line",
          "Sri Petaling Line",
          "Sri Petaling Line",
          "Sri Petaling Line",
          "Sri Petaling Line",
          "Sri Petaling Line",
          "Sri Petaling Line",
          "Sri Petaling Line",
          "Sri Petaling Line",
          "Sri Petaling Line",
          "Sri Petaling Line",
          "Sri Petaling Line",
          "Kelana Jaya Line",
          "Kelana Jaya Line",
          "Kelana Jaya Line",
          "Kelana Jaya Line",
          "Kelana Jaya Line",
          "Kelana Jaya Line",
          "Kelana Jaya Line",
          "Kelana Jaya Line",
          "Kelana Jaya Line",
          "Kelana Jaya Line",
          "Kelana Jaya Line",
          "Kelana Jaya Line",
          "Kelana Jaya Line",
          "Kelana Jaya Line",
          "Kelana Jaya Line",
          "Kelana Jaya Line",
          "Kelana Jaya Line",
          "Kelana Jaya Line",
          "Kelana Jaya Line",
          "Kelana Jaya Line",
          "Kelana Jaya Line",
          "Kelana Jaya Line",
          "Kelana Jaya Line",
          "Kelana Jaya Line",
          "Kelana Jaya Line",
          "Kelana Jaya Line",
          "Kelana Jaya Line",
          "Kelana Jaya Line",
          "Kelana Jaya Line",
          "Kelana Jaya Line",
          "Kelana Jaya Line",
          "Kelana Jaya Line",
          "Kelana Jaya Line",
          "Kelana Jaya Line",
          "Kelana Jaya Line",
          "Kelana Jaya Line",
          "Kelana Jaya Line",
          "KL Monorail Line",
          "KL Monorail Line",
          "KL Monorail Line",
          "KL Monorail Line",
          "KL Monorail Line",
          "KL Monorail Line",
          "KL Monorail Line",
          "KL Monorail Line",
          "KL Monorail Line",
          "KL Monorail Line",
          "KL Monorail Line",
          "MRT Sungai Buloh - Kajang Line",
          "MRT Sungai Buloh - Kajang Line",
          "MRT Sungai Buloh - Kajang Line",
          "MRT Sungai Buloh - Kajang Line",
          "MRT Sungai Buloh - Kajang Line",
          "MRT Sungai Buloh - Kajang Line",
          "MRT Sungai Buloh - Kajang Line",
          "MRT Sungai Buloh - Kajang Line",
          "MRT Sungai Buloh - Kajang Line",
          "MRT Sungai Buloh - Kajang Line",
          "MRT Sungai Buloh - Kajang Line",
          "MRT Sungai Buloh - Kajang Line",
          "MRT Sungai Buloh - Kajang Line",
          "MRT Sungai Buloh - Kajang Line",
          "MRT Sungai Buloh - Kajang Line",
          "MRT Sungai Buloh - Kajang Line",
          "MRT Sungai Buloh - Kajang Line",
          "MRT Sungai Buloh - Kajang Line",
          "MRT Sungai Buloh - Kajang Line",
          "MRT Sungai Buloh - Kajang Line",
          "MRT Sungai Buloh - Kajang Line",
          "MRT Sungai Buloh - Kajang Line",
          "MRT Sungai Buloh - Kajang Line",
          "MRT Sungai Buloh - Kajang Line",
          "MRT Sungai Buloh - Kajang Line",
          "MRT Sungai Buloh - Kajang Line",
          "MRT Sungai Buloh - Kajang Line",
          "MRT Sungai Buloh - Kajang Line",
          "MRT Sungai Buloh - Kajang Line",
          "MRT Sungai Buloh - Kajang Line",
          "MRT Sungai Buloh - Kajang Line"
         ],
         "xaxis": "x",
         "y": [
          2.50320723,
          2.18713898,
          2.97553758,
          3.24989455,
          2.30154847,
          2.43804193,
          3.57417472,
          2.15523282,
          3.13635847,
          2.87843455,
          2.00438714,
          1.72766469,
          2.63536614,
          1.30700796,
          2.8398799300000004,
          2.6485886,
          2.36282791,
          2.18438939,
          2.15049166,
          2.21036431,
          2.92087017,
          1.70459228,
          0.99874736,
          2.31082803,
          1.46526333,
          2.00864547,
          1.96053364,
          1.99741613,
          1.4407928799999998,
          1.78729107,
          2.56875504,
          2.50320723,
          2.18713898,
          2.97553758,
          3.24989455,
          2.30154847,
          2.43804193,
          3.57417472,
          2.15523282,
          3.13635847,
          1.23613699,
          1.80755973,
          1.28215506,
          2.87843455,
          1.16625679,
          1.48917365,
          2.00438714,
          0.73848588,
          0.96879234,
          2.14291925,
          1.7670411,
          2.55634706,
          2.5685247400000004,
          1.36584476,
          1.4989333,
          3.05360071,
          3.07315564,
          2.30392579,
          1.33235855,
          3.0407064100000003,
          2.65852396,
          3.41690366,
          2.66858784,
          2.55299055,
          2.54116602,
          2.15266294,
          2.47394872,
          1.5659501299999998,
          2.91673712,
          2.47261526,
          2.97844454,
          3.47835279,
          2.55415807,
          2.67538928,
          2.9409497200000003,
          2.27835626,
          3.16651208,
          1.0854431299999998,
          1.63097096,
          1.25523608,
          2.80011178,
          2.85647793,
          2.3320872,
          1.84844813,
          2.65349169,
          2.4697297,
          2.8377076,
          3.4585355000000004,
          2.89450107,
          2.31622159,
          3.18113759,
          2.86908831,
          3.18807073,
          3.43811055,
          3.43721354,
          1.39431611,
          0.77787122,
          1.84313567,
          2.4039592,
          0.93031178,
          2.63810659,
          2.6266688300000003,
          1.1560063,
          2.21364998,
          1.7190148999999997,
          1.88394972,
          1.5214177,
          2.57465602,
          2.93804371,
          2.55486237,
          3.53382386,
          1.61326365,
          2.88430088,
          3.03546832,
          2.87970501,
          2.55413829,
          2.39006463,
          1.1586145,
          1.57184147,
          1.02247819,
          1.92063742,
          1.17586881,
          1.08940472,
          2.53917369,
          3.40544625,
          1.09995471
         ],
         "yaxis": "y"
        }
       ],
       "layout": {
        "barmode": "group",
        "legend": {
         "tracegroupgap": 0
        },
        "showlegend": false,
        "template": {
         "data": {
          "bar": [
           {
            "error_x": {
             "color": "#2a3f5f"
            },
            "error_y": {
             "color": "#2a3f5f"
            },
            "marker": {
             "line": {
              "color": "#E5ECF6",
              "width": 0.5
             }
            },
            "type": "bar"
           }
          ],
          "barpolar": [
           {
            "marker": {
             "line": {
              "color": "#E5ECF6",
              "width": 0.5
             }
            },
            "type": "barpolar"
           }
          ],
          "carpet": [
           {
            "aaxis": {
             "endlinecolor": "#2a3f5f",
             "gridcolor": "white",
             "linecolor": "white",
             "minorgridcolor": "white",
             "startlinecolor": "#2a3f5f"
            },
            "baxis": {
             "endlinecolor": "#2a3f5f",
             "gridcolor": "white",
             "linecolor": "white",
             "minorgridcolor": "white",
             "startlinecolor": "#2a3f5f"
            },
            "type": "carpet"
           }
          ],
          "choropleth": [
           {
            "colorbar": {
             "outlinewidth": 0,
             "ticks": ""
            },
            "type": "choropleth"
           }
          ],
          "contour": [
           {
            "colorbar": {
             "outlinewidth": 0,
             "ticks": ""
            },
            "colorscale": [
             [
              0,
              "#0d0887"
             ],
             [
              0.1111111111111111,
              "#46039f"
             ],
             [
              0.2222222222222222,
              "#7201a8"
             ],
             [
              0.3333333333333333,
              "#9c179e"
             ],
             [
              0.4444444444444444,
              "#bd3786"
             ],
             [
              0.5555555555555556,
              "#d8576b"
             ],
             [
              0.6666666666666666,
              "#ed7953"
             ],
             [
              0.7777777777777778,
              "#fb9f3a"
             ],
             [
              0.8888888888888888,
              "#fdca26"
             ],
             [
              1,
              "#f0f921"
             ]
            ],
            "type": "contour"
           }
          ],
          "contourcarpet": [
           {
            "colorbar": {
             "outlinewidth": 0,
             "ticks": ""
            },
            "type": "contourcarpet"
           }
          ],
          "heatmap": [
           {
            "colorbar": {
             "outlinewidth": 0,
             "ticks": ""
            },
            "colorscale": [
             [
              0,
              "#0d0887"
             ],
             [
              0.1111111111111111,
              "#46039f"
             ],
             [
              0.2222222222222222,
              "#7201a8"
             ],
             [
              0.3333333333333333,
              "#9c179e"
             ],
             [
              0.4444444444444444,
              "#bd3786"
             ],
             [
              0.5555555555555556,
              "#d8576b"
             ],
             [
              0.6666666666666666,
              "#ed7953"
             ],
             [
              0.7777777777777778,
              "#fb9f3a"
             ],
             [
              0.8888888888888888,
              "#fdca26"
             ],
             [
              1,
              "#f0f921"
             ]
            ],
            "type": "heatmap"
           }
          ],
          "heatmapgl": [
           {
            "colorbar": {
             "outlinewidth": 0,
             "ticks": ""
            },
            "colorscale": [
             [
              0,
              "#0d0887"
             ],
             [
              0.1111111111111111,
              "#46039f"
             ],
             [
              0.2222222222222222,
              "#7201a8"
             ],
             [
              0.3333333333333333,
              "#9c179e"
             ],
             [
              0.4444444444444444,
              "#bd3786"
             ],
             [
              0.5555555555555556,
              "#d8576b"
             ],
             [
              0.6666666666666666,
              "#ed7953"
             ],
             [
              0.7777777777777778,
              "#fb9f3a"
             ],
             [
              0.8888888888888888,
              "#fdca26"
             ],
             [
              1,
              "#f0f921"
             ]
            ],
            "type": "heatmapgl"
           }
          ],
          "histogram": [
           {
            "marker": {
             "colorbar": {
              "outlinewidth": 0,
              "ticks": ""
             }
            },
            "type": "histogram"
           }
          ],
          "histogram2d": [
           {
            "colorbar": {
             "outlinewidth": 0,
             "ticks": ""
            },
            "colorscale": [
             [
              0,
              "#0d0887"
             ],
             [
              0.1111111111111111,
              "#46039f"
             ],
             [
              0.2222222222222222,
              "#7201a8"
             ],
             [
              0.3333333333333333,
              "#9c179e"
             ],
             [
              0.4444444444444444,
              "#bd3786"
             ],
             [
              0.5555555555555556,
              "#d8576b"
             ],
             [
              0.6666666666666666,
              "#ed7953"
             ],
             [
              0.7777777777777778,
              "#fb9f3a"
             ],
             [
              0.8888888888888888,
              "#fdca26"
             ],
             [
              1,
              "#f0f921"
             ]
            ],
            "type": "histogram2d"
           }
          ],
          "histogram2dcontour": [
           {
            "colorbar": {
             "outlinewidth": 0,
             "ticks": ""
            },
            "colorscale": [
             [
              0,
              "#0d0887"
             ],
             [
              0.1111111111111111,
              "#46039f"
             ],
             [
              0.2222222222222222,
              "#7201a8"
             ],
             [
              0.3333333333333333,
              "#9c179e"
             ],
             [
              0.4444444444444444,
              "#bd3786"
             ],
             [
              0.5555555555555556,
              "#d8576b"
             ],
             [
              0.6666666666666666,
              "#ed7953"
             ],
             [
              0.7777777777777778,
              "#fb9f3a"
             ],
             [
              0.8888888888888888,
              "#fdca26"
             ],
             [
              1,
              "#f0f921"
             ]
            ],
            "type": "histogram2dcontour"
           }
          ],
          "mesh3d": [
           {
            "colorbar": {
             "outlinewidth": 0,
             "ticks": ""
            },
            "type": "mesh3d"
           }
          ],
          "parcoords": [
           {
            "line": {
             "colorbar": {
              "outlinewidth": 0,
              "ticks": ""
             }
            },
            "type": "parcoords"
           }
          ],
          "pie": [
           {
            "automargin": true,
            "type": "pie"
           }
          ],
          "scatter": [
           {
            "marker": {
             "colorbar": {
              "outlinewidth": 0,
              "ticks": ""
             }
            },
            "type": "scatter"
           }
          ],
          "scatter3d": [
           {
            "line": {
             "colorbar": {
              "outlinewidth": 0,
              "ticks": ""
             }
            },
            "marker": {
             "colorbar": {
              "outlinewidth": 0,
              "ticks": ""
             }
            },
            "type": "scatter3d"
           }
          ],
          "scattercarpet": [
           {
            "marker": {
             "colorbar": {
              "outlinewidth": 0,
              "ticks": ""
             }
            },
            "type": "scattercarpet"
           }
          ],
          "scattergeo": [
           {
            "marker": {
             "colorbar": {
              "outlinewidth": 0,
              "ticks": ""
             }
            },
            "type": "scattergeo"
           }
          ],
          "scattergl": [
           {
            "marker": {
             "colorbar": {
              "outlinewidth": 0,
              "ticks": ""
             }
            },
            "type": "scattergl"
           }
          ],
          "scattermapbox": [
           {
            "marker": {
             "colorbar": {
              "outlinewidth": 0,
              "ticks": ""
             }
            },
            "type": "scattermapbox"
           }
          ],
          "scatterpolar": [
           {
            "marker": {
             "colorbar": {
              "outlinewidth": 0,
              "ticks": ""
             }
            },
            "type": "scatterpolar"
           }
          ],
          "scatterpolargl": [
           {
            "marker": {
             "colorbar": {
              "outlinewidth": 0,
              "ticks": ""
             }
            },
            "type": "scatterpolargl"
           }
          ],
          "scatterternary": [
           {
            "marker": {
             "colorbar": {
              "outlinewidth": 0,
              "ticks": ""
             }
            },
            "type": "scatterternary"
           }
          ],
          "surface": [
           {
            "colorbar": {
             "outlinewidth": 0,
             "ticks": ""
            },
            "colorscale": [
             [
              0,
              "#0d0887"
             ],
             [
              0.1111111111111111,
              "#46039f"
             ],
             [
              0.2222222222222222,
              "#7201a8"
             ],
             [
              0.3333333333333333,
              "#9c179e"
             ],
             [
              0.4444444444444444,
              "#bd3786"
             ],
             [
              0.5555555555555556,
              "#d8576b"
             ],
             [
              0.6666666666666666,
              "#ed7953"
             ],
             [
              0.7777777777777778,
              "#fb9f3a"
             ],
             [
              0.8888888888888888,
              "#fdca26"
             ],
             [
              1,
              "#f0f921"
             ]
            ],
            "type": "surface"
           }
          ],
          "table": [
           {
            "cells": {
             "fill": {
              "color": "#EBF0F8"
             },
             "line": {
              "color": "white"
             }
            },
            "header": {
             "fill": {
              "color": "#C8D4E3"
             },
             "line": {
              "color": "white"
             }
            },
            "type": "table"
           }
          ]
         },
         "layout": {
          "annotationdefaults": {
           "arrowcolor": "#2a3f5f",
           "arrowhead": 0,
           "arrowwidth": 1
          },
          "coloraxis": {
           "colorbar": {
            "outlinewidth": 0,
            "ticks": ""
           }
          },
          "colorscale": {
           "diverging": [
            [
             0,
             "#8e0152"
            ],
            [
             0.1,
             "#c51b7d"
            ],
            [
             0.2,
             "#de77ae"
            ],
            [
             0.3,
             "#f1b6da"
            ],
            [
             0.4,
             "#fde0ef"
            ],
            [
             0.5,
             "#f7f7f7"
            ],
            [
             0.6,
             "#e6f5d0"
            ],
            [
             0.7,
             "#b8e186"
            ],
            [
             0.8,
             "#7fbc41"
            ],
            [
             0.9,
             "#4d9221"
            ],
            [
             1,
             "#276419"
            ]
           ],
           "sequential": [
            [
             0,
             "#0d0887"
            ],
            [
             0.1111111111111111,
             "#46039f"
            ],
            [
             0.2222222222222222,
             "#7201a8"
            ],
            [
             0.3333333333333333,
             "#9c179e"
            ],
            [
             0.4444444444444444,
             "#bd3786"
            ],
            [
             0.5555555555555556,
             "#d8576b"
            ],
            [
             0.6666666666666666,
             "#ed7953"
            ],
            [
             0.7777777777777778,
             "#fb9f3a"
            ],
            [
             0.8888888888888888,
             "#fdca26"
            ],
            [
             1,
             "#f0f921"
            ]
           ],
           "sequentialminus": [
            [
             0,
             "#0d0887"
            ],
            [
             0.1111111111111111,
             "#46039f"
            ],
            [
             0.2222222222222222,
             "#7201a8"
            ],
            [
             0.3333333333333333,
             "#9c179e"
            ],
            [
             0.4444444444444444,
             "#bd3786"
            ],
            [
             0.5555555555555556,
             "#d8576b"
            ],
            [
             0.6666666666666666,
             "#ed7953"
            ],
            [
             0.7777777777777778,
             "#fb9f3a"
            ],
            [
             0.8888888888888888,
             "#fdca26"
            ],
            [
             1,
             "#f0f921"
            ]
           ]
          },
          "colorway": [
           "#636efa",
           "#EF553B",
           "#00cc96",
           "#ab63fa",
           "#FFA15A",
           "#19d3f3",
           "#FF6692",
           "#B6E880",
           "#FF97FF",
           "#FECB52"
          ],
          "font": {
           "color": "#2a3f5f"
          },
          "geo": {
           "bgcolor": "white",
           "lakecolor": "white",
           "landcolor": "#E5ECF6",
           "showlakes": true,
           "showland": true,
           "subunitcolor": "white"
          },
          "hoverlabel": {
           "align": "left"
          },
          "hovermode": "closest",
          "mapbox": {
           "style": "light"
          },
          "paper_bgcolor": "white",
          "plot_bgcolor": "#E5ECF6",
          "polar": {
           "angularaxis": {
            "gridcolor": "white",
            "linecolor": "white",
            "ticks": ""
           },
           "bgcolor": "#E5ECF6",
           "radialaxis": {
            "gridcolor": "white",
            "linecolor": "white",
            "ticks": ""
           }
          },
          "scene": {
           "xaxis": {
            "backgroundcolor": "#E5ECF6",
            "gridcolor": "white",
            "gridwidth": 2,
            "linecolor": "white",
            "showbackground": true,
            "ticks": "",
            "zerolinecolor": "white"
           },
           "yaxis": {
            "backgroundcolor": "#E5ECF6",
            "gridcolor": "white",
            "gridwidth": 2,
            "linecolor": "white",
            "showbackground": true,
            "ticks": "",
            "zerolinecolor": "white"
           },
           "zaxis": {
            "backgroundcolor": "#E5ECF6",
            "gridcolor": "white",
            "gridwidth": 2,
            "linecolor": "white",
            "showbackground": true,
            "ticks": "",
            "zerolinecolor": "white"
           }
          },
          "shapedefaults": {
           "line": {
            "color": "#2a3f5f"
           }
          },
          "ternary": {
           "aaxis": {
            "gridcolor": "white",
            "linecolor": "white",
            "ticks": ""
           },
           "baxis": {
            "gridcolor": "white",
            "linecolor": "white",
            "ticks": ""
           },
           "bgcolor": "#E5ECF6",
           "caxis": {
            "gridcolor": "white",
            "linecolor": "white",
            "ticks": ""
           }
          },
          "title": {
           "x": 0.05
          },
          "xaxis": {
           "automargin": true,
           "gridcolor": "white",
           "linecolor": "white",
           "ticks": "",
           "title": {
            "standoff": 15
           },
           "zerolinecolor": "white",
           "zerolinewidth": 2
          },
          "yaxis": {
           "automargin": true,
           "gridcolor": "white",
           "linecolor": "white",
           "ticks": "",
           "title": {
            "standoff": 15
           },
           "zerolinecolor": "white",
           "zerolinewidth": 2
          }
         }
        },
        "title": {
         "text": "Area coverage within 15 minutes walk from station"
        },
        "xaxis": {
         "anchor": "y",
         "categoryorder": "total ascending",
         "domain": [
          0,
          1
         ],
         "title": {
          "text": "Lines"
         }
        },
        "yaxis": {
         "anchor": "x",
         "domain": [
          0,
          1
         ],
         "title": {
          "text": "avg of 15 Minutes Walk Area(km^2)"
         }
        }
       }
      }
     },
     "metadata": {},
     "output_type": "display_data"
    },
    {
     "data": {
      "application/vnd.plotly.v1+json": {
       "config": {
        "plotlyServerURL": "https://plot.ly"
       },
       "data": [
        {
         "alignmentgroup": "True",
         "bingroup": "x",
         "histfunc": "avg",
         "hovertemplate": "variable=5 Minute Range Area<br>Lines=%{x}<br>avg of Walk Area Coverage(km^2)=%{y}<extra></extra>",
         "legendgroup": "5 Minute Range Area",
         "marker": {
          "color": "#636efa"
         },
         "name": "5 Minute Range Area",
         "offsetgroup": "5 Minute Range Area",
         "orientation": "v",
         "showlegend": true,
         "type": "histogram",
         "x": [
          "Seremban Line",
          "Seremban Line",
          "Seremban Line",
          "Seremban Line",
          "Seremban Line",
          "Seremban Line",
          "Seremban Line",
          "Seremban Line",
          "Seremban Line",
          "Seremban Line",
          "Seremban Line",
          "Seremban Line",
          "Seremban Line",
          "Seremban Line",
          "Seremban Line",
          "Seremban Line",
          "Seremban Line",
          "Seremban Line",
          "Seremban Line",
          "Seremban Line",
          "Seremban Line",
          "Seremban Line",
          "Seremban Line",
          "Seremban Line",
          "Seremban Line",
          "Seremban Line",
          "Port Klang Line",
          "Port Klang Line",
          "Port Klang Line",
          "Port Klang Line",
          "Port Klang Line",
          "Port Klang Line",
          "Port Klang Line",
          "Port Klang Line",
          "Port Klang Line",
          "Port Klang Line",
          "Port Klang Line",
          "Port Klang Line",
          "Port Klang Line",
          "Port Klang Line",
          "Port Klang Line",
          "Port Klang Line",
          "Port Klang Line",
          "Port Klang Line",
          "Port Klang Line",
          "Port Klang Line",
          "Port Klang Line",
          "Port Klang Line",
          "Port Klang Line",
          "Port Klang Line",
          "Port Klang Line",
          "Port Klang Line",
          "Port Klang Line",
          "Port Klang Line",
          "Port Klang Line",
          "Port Klang Line",
          "Port Klang Line",
          "Port Klang Line",
          "Port Klang Line",
          "Port Klang Line",
          "Ampang Line",
          "Ampang Line",
          "Ampang Line",
          "Ampang Line",
          "Ampang Line",
          "Ampang Line",
          "Ampang Line",
          "Ampang Line",
          "Ampang Line",
          "Ampang Line",
          "Ampang Line",
          "Ampang Line",
          "Ampang Line",
          "Ampang Line",
          "Ampang Line",
          "Ampang Line",
          "Ampang Line",
          "Ampang Line",
          "Sri Petaling Line",
          "Sri Petaling Line",
          "Sri Petaling Line",
          "Sri Petaling Line",
          "Sri Petaling Line",
          "Sri Petaling Line",
          "Sri Petaling Line",
          "Sri Petaling Line",
          "Sri Petaling Line",
          "Sri Petaling Line",
          "Sri Petaling Line",
          "Sri Petaling Line",
          "Sri Petaling Line",
          "Sri Petaling Line",
          "Sri Petaling Line",
          "Sri Petaling Line",
          "Sri Petaling Line",
          "Sri Petaling Line",
          "Sri Petaling Line",
          "Sri Petaling Line",
          "Sri Petaling Line",
          "Sri Petaling Line",
          "Sri Petaling Line",
          "Sri Petaling Line",
          "Sri Petaling Line",
          "Sri Petaling Line",
          "Sri Petaling Line",
          "Sri Petaling Line",
          "Sri Petaling Line",
          "Kelana Jaya Line",
          "Kelana Jaya Line",
          "Kelana Jaya Line",
          "Kelana Jaya Line",
          "Kelana Jaya Line",
          "Kelana Jaya Line",
          "Kelana Jaya Line",
          "Kelana Jaya Line",
          "Kelana Jaya Line",
          "Kelana Jaya Line",
          "Kelana Jaya Line",
          "Kelana Jaya Line",
          "Kelana Jaya Line",
          "Kelana Jaya Line",
          "Kelana Jaya Line",
          "Kelana Jaya Line",
          "Kelana Jaya Line",
          "Kelana Jaya Line",
          "Kelana Jaya Line",
          "Kelana Jaya Line",
          "Kelana Jaya Line",
          "Kelana Jaya Line",
          "Kelana Jaya Line",
          "Kelana Jaya Line",
          "Kelana Jaya Line",
          "Kelana Jaya Line",
          "Kelana Jaya Line",
          "Kelana Jaya Line",
          "Kelana Jaya Line",
          "Kelana Jaya Line",
          "Kelana Jaya Line",
          "Kelana Jaya Line",
          "Kelana Jaya Line",
          "Kelana Jaya Line",
          "Kelana Jaya Line",
          "Kelana Jaya Line",
          "Kelana Jaya Line",
          "KLIA Ekspres",
          "KLIA Ekspres",
          "KLIA Ekspres",
          "KLIA Transit",
          "KLIA Transit",
          "KLIA Transit",
          "KLIA Transit",
          "KLIA Transit",
          "KLIA Transit",
          "KL Monorail Line",
          "KL Monorail Line",
          "KL Monorail Line",
          "KL Monorail Line",
          "KL Monorail Line",
          "KL Monorail Line",
          "KL Monorail Line",
          "KL Monorail Line",
          "KL Monorail Line",
          "KL Monorail Line",
          "KL Monorail Line",
          "MRT Sungai Buloh - Kajang Line",
          "MRT Sungai Buloh - Kajang Line",
          "MRT Sungai Buloh - Kajang Line",
          "MRT Sungai Buloh - Kajang Line",
          "MRT Sungai Buloh - Kajang Line",
          "MRT Sungai Buloh - Kajang Line",
          "MRT Sungai Buloh - Kajang Line",
          "MRT Sungai Buloh - Kajang Line",
          "MRT Sungai Buloh - Kajang Line",
          "MRT Sungai Buloh - Kajang Line",
          "MRT Sungai Buloh - Kajang Line",
          "MRT Sungai Buloh - Kajang Line",
          "MRT Sungai Buloh - Kajang Line",
          "MRT Sungai Buloh - Kajang Line",
          "MRT Sungai Buloh - Kajang Line",
          "MRT Sungai Buloh - Kajang Line",
          "MRT Sungai Buloh - Kajang Line",
          "MRT Sungai Buloh - Kajang Line",
          "MRT Sungai Buloh - Kajang Line",
          "MRT Sungai Buloh - Kajang Line",
          "MRT Sungai Buloh - Kajang Line",
          "MRT Sungai Buloh - Kajang Line",
          "MRT Sungai Buloh - Kajang Line",
          "MRT Sungai Buloh - Kajang Line",
          "MRT Sungai Buloh - Kajang Line",
          "MRT Sungai Buloh - Kajang Line",
          "MRT Sungai Buloh - Kajang Line",
          "MRT Sungai Buloh - Kajang Line",
          "MRT Sungai Buloh - Kajang Line",
          "MRT Sungai Buloh - Kajang Line",
          "MRT Sungai Buloh - Kajang Line",
          "Skypark Link",
          "Skypark Link",
          "Skypark Link",
          "BRT Sunway Line",
          "BRT Sunway Line",
          "BRT Sunway Line",
          "BRT Sunway Line",
          "BRT Sunway Line",
          "BRT Sunway Line",
          "BRT Sunway Line"
         ],
         "xaxis": "x",
         "y": [
          0.32502953,
          0.16784903,
          0.27048784000000003,
          0.12951717999999998,
          0.22497591,
          0.24695309,
          0.14691288,
          0.24300364,
          0.26691009000000004,
          0.2173759,
          0.14826303,
          0.07591764999999999,
          0.06805375,
          0.07905383,
          0.17442169,
          0.12741632,
          0.13816735,
          0.18085449,
          0.14079759,
          0.10197641,
          0.17407785,
          0.13489618,
          0.11370632,
          0.11370632,
          0.01762412,
          0.27823226,
          0.32621006,
          0.11046878,
          0.10660750000000001,
          0.20198707,
          0.24395129,
          0.03707489,
          0.15379572,
          0.08884778,
          0.1070488,
          0.18660114000000005,
          0.18361411,
          0.10761164,
          0.13660521,
          0.17313678,
          0.09203497,
          0.17371794000000002,
          0.04604104,
          0.21055564,
          0.07511641000000001,
          0.18488481,
          0.21241443,
          0.11611197,
          0.25350275,
          0.05376949,
          0.07807717,
          0.14296140000000002,
          0.15579032999999998,
          0.25485059,
          0.06879924000000001,
          0.02821196,
          0.24300364,
          0.27001568,
          0.24957902,
          0.27823226,
          0.33724218,
          0.1546662,
          0.33176681,
          0.37727368,
          0.15932879,
          0.24879704,
          0.35354969,
          0.07686364,
          0.29995945,
          0.20698176,
          0.08520355,
          0.10908823,
          0.12765432000000002,
          0.10372052,
          0.30964279,
          0.21829926,
          0.14038832999999998,
          0.08700395,
          0.15914785,
          0.31987013000000003,
          0.36440737,
          0.28778113,
          0.18058166,
          0.25175232000000003,
          0.14368163,
          0.09205028,
          0.15237542,
          0.31456235,
          0.11328153,
          0.17176765,
          0.35933424,
          0.33724218,
          0.1546662,
          0.33176681,
          0.37727368,
          0.15932879,
          0.24879704,
          0.35354969,
          0.07686364,
          0.29995945,
          0.18159136,
          0.19527194,
          0.09621198,
          0.20698176,
          0.16106156,
          0.22306622,
          0.08520355,
          0.02267377,
          0.12847033,
          0.15774998999999998,
          0.16809358,
          0.28003389,
          0.19492496,
          0.22591129,
          0.11824999,
          0.28283391,
          0.35358716,
          0.14676751999999998,
          0.02152531,
          0.27510395,
          0.24235682,
          0.3222016,
          0.18799781,
          0.22266883,
          0.24884647,
          0.25081894,
          0.23236677,
          0.06879924000000001,
          0.28727626,
          0.26123897,
          0.29123198,
          0.32106086,
          0.21444045,
          0.17781184,
          0.33269748,
          0.20476568,
          0.32679448,
          0.0971136,
          0.16797594,
          0.020076300000000002,
          0.29868451,
          0.23714405,
          0.23981816,
          0.08149613,
          0.13592358999999998,
          0.049920660000000006,
          0.282571,
          0.28080876,
          0.13592358999999998,
          0.049920660000000006,
          0.09621198,
          0.13187564999999998,
          0.282571,
          0.282571,
          0.32216819,
          0.19872931,
          0.40916697,
          0.23397354,
          0.18207893,
          0.30759115000000004,
          0.14989506,
          0.26908476000000003,
          0.32843958,
          0.36637874,
          0.08337092,
          0.14304667,
          0.10847691,
          0.24301521,
          0.06015653,
          0.18350335,
          0.2537391,
          0.05812919,
          0.21586482,
          0.11754646,
          0.16716919,
          0.18153927,
          0.21390516,
          0.30103121,
          0.20341446,
          0.40743421,
          0.09877055,
          0.32171969,
          0.22988957,
          0.30111587,
          0.24658695,
          0.15422356,
          0.10901780000000001,
          0.17065887,
          0.08552002,
          0.18767169,
          0.13546985,
          0.06215426,
          0.21858111,
          0.31359252000000004,
          0.12926258999999998,
          0.06272664,
          0.09203497,
          0.282571,
          0.2911925,
          0.21232131,
          0.32477513,
          0.23819861,
          0.31464996,
          0.25319603,
          0.21011433
         ],
         "yaxis": "y"
        },
        {
         "alignmentgroup": "True",
         "bingroup": "x",
         "histfunc": "avg",
         "hovertemplate": "variable=10 Minute Range Area<br>Lines=%{x}<br>avg of Walk Area Coverage(km^2)=%{y}<extra></extra>",
         "legendgroup": "10 Minute Range Area",
         "marker": {
          "color": "#EF553B"
         },
         "name": "10 Minute Range Area",
         "offsetgroup": "10 Minute Range Area",
         "orientation": "v",
         "showlegend": true,
         "type": "histogram",
         "x": [
          "Seremban Line",
          "Seremban Line",
          "Seremban Line",
          "Seremban Line",
          "Seremban Line",
          "Seremban Line",
          "Seremban Line",
          "Seremban Line",
          "Seremban Line",
          "Seremban Line",
          "Seremban Line",
          "Seremban Line",
          "Seremban Line",
          "Seremban Line",
          "Seremban Line",
          "Seremban Line",
          "Seremban Line",
          "Seremban Line",
          "Seremban Line",
          "Seremban Line",
          "Seremban Line",
          "Seremban Line",
          "Seremban Line",
          "Seremban Line",
          "Seremban Line",
          "Seremban Line",
          "Port Klang Line",
          "Port Klang Line",
          "Port Klang Line",
          "Port Klang Line",
          "Port Klang Line",
          "Port Klang Line",
          "Port Klang Line",
          "Port Klang Line",
          "Port Klang Line",
          "Port Klang Line",
          "Port Klang Line",
          "Port Klang Line",
          "Port Klang Line",
          "Port Klang Line",
          "Port Klang Line",
          "Port Klang Line",
          "Port Klang Line",
          "Port Klang Line",
          "Port Klang Line",
          "Port Klang Line",
          "Port Klang Line",
          "Port Klang Line",
          "Port Klang Line",
          "Port Klang Line",
          "Port Klang Line",
          "Port Klang Line",
          "Port Klang Line",
          "Port Klang Line",
          "Port Klang Line",
          "Port Klang Line",
          "Port Klang Line",
          "Port Klang Line",
          "Port Klang Line",
          "Port Klang Line",
          "Ampang Line",
          "Ampang Line",
          "Ampang Line",
          "Ampang Line",
          "Ampang Line",
          "Ampang Line",
          "Ampang Line",
          "Ampang Line",
          "Ampang Line",
          "Ampang Line",
          "Ampang Line",
          "Ampang Line",
          "Ampang Line",
          "Ampang Line",
          "Ampang Line",
          "Ampang Line",
          "Ampang Line",
          "Ampang Line",
          "Sri Petaling Line",
          "Sri Petaling Line",
          "Sri Petaling Line",
          "Sri Petaling Line",
          "Sri Petaling Line",
          "Sri Petaling Line",
          "Sri Petaling Line",
          "Sri Petaling Line",
          "Sri Petaling Line",
          "Sri Petaling Line",
          "Sri Petaling Line",
          "Sri Petaling Line",
          "Sri Petaling Line",
          "Sri Petaling Line",
          "Sri Petaling Line",
          "Sri Petaling Line",
          "Sri Petaling Line",
          "Sri Petaling Line",
          "Sri Petaling Line",
          "Sri Petaling Line",
          "Sri Petaling Line",
          "Sri Petaling Line",
          "Sri Petaling Line",
          "Sri Petaling Line",
          "Sri Petaling Line",
          "Sri Petaling Line",
          "Sri Petaling Line",
          "Sri Petaling Line",
          "Sri Petaling Line",
          "Kelana Jaya Line",
          "Kelana Jaya Line",
          "Kelana Jaya Line",
          "Kelana Jaya Line",
          "Kelana Jaya Line",
          "Kelana Jaya Line",
          "Kelana Jaya Line",
          "Kelana Jaya Line",
          "Kelana Jaya Line",
          "Kelana Jaya Line",
          "Kelana Jaya Line",
          "Kelana Jaya Line",
          "Kelana Jaya Line",
          "Kelana Jaya Line",
          "Kelana Jaya Line",
          "Kelana Jaya Line",
          "Kelana Jaya Line",
          "Kelana Jaya Line",
          "Kelana Jaya Line",
          "Kelana Jaya Line",
          "Kelana Jaya Line",
          "Kelana Jaya Line",
          "Kelana Jaya Line",
          "Kelana Jaya Line",
          "Kelana Jaya Line",
          "Kelana Jaya Line",
          "Kelana Jaya Line",
          "Kelana Jaya Line",
          "Kelana Jaya Line",
          "Kelana Jaya Line",
          "Kelana Jaya Line",
          "Kelana Jaya Line",
          "Kelana Jaya Line",
          "Kelana Jaya Line",
          "Kelana Jaya Line",
          "Kelana Jaya Line",
          "Kelana Jaya Line",
          "KLIA Ekspres",
          "KLIA Ekspres",
          "KLIA Ekspres",
          "KLIA Transit",
          "KLIA Transit",
          "KLIA Transit",
          "KLIA Transit",
          "KLIA Transit",
          "KLIA Transit",
          "KL Monorail Line",
          "KL Monorail Line",
          "KL Monorail Line",
          "KL Monorail Line",
          "KL Monorail Line",
          "KL Monorail Line",
          "KL Monorail Line",
          "KL Monorail Line",
          "KL Monorail Line",
          "KL Monorail Line",
          "KL Monorail Line",
          "MRT Sungai Buloh - Kajang Line",
          "MRT Sungai Buloh - Kajang Line",
          "MRT Sungai Buloh - Kajang Line",
          "MRT Sungai Buloh - Kajang Line",
          "MRT Sungai Buloh - Kajang Line",
          "MRT Sungai Buloh - Kajang Line",
          "MRT Sungai Buloh - Kajang Line",
          "MRT Sungai Buloh - Kajang Line",
          "MRT Sungai Buloh - Kajang Line",
          "MRT Sungai Buloh - Kajang Line",
          "MRT Sungai Buloh - Kajang Line",
          "MRT Sungai Buloh - Kajang Line",
          "MRT Sungai Buloh - Kajang Line",
          "MRT Sungai Buloh - Kajang Line",
          "MRT Sungai Buloh - Kajang Line",
          "MRT Sungai Buloh - Kajang Line",
          "MRT Sungai Buloh - Kajang Line",
          "MRT Sungai Buloh - Kajang Line",
          "MRT Sungai Buloh - Kajang Line",
          "MRT Sungai Buloh - Kajang Line",
          "MRT Sungai Buloh - Kajang Line",
          "MRT Sungai Buloh - Kajang Line",
          "MRT Sungai Buloh - Kajang Line",
          "MRT Sungai Buloh - Kajang Line",
          "MRT Sungai Buloh - Kajang Line",
          "MRT Sungai Buloh - Kajang Line",
          "MRT Sungai Buloh - Kajang Line",
          "MRT Sungai Buloh - Kajang Line",
          "MRT Sungai Buloh - Kajang Line",
          "MRT Sungai Buloh - Kajang Line",
          "MRT Sungai Buloh - Kajang Line",
          "Skypark Link",
          "Skypark Link",
          "Skypark Link",
          "BRT Sunway Line",
          "BRT Sunway Line",
          "BRT Sunway Line",
          "BRT Sunway Line",
          "BRT Sunway Line",
          "BRT Sunway Line",
          "BRT Sunway Line"
         ],
         "xaxis": "x",
         "y": [
          1.21931523,
          0.93091182,
          1.20720364,
          0.6638396999999999,
          1.02597001,
          0.9032924999999999,
          0.77416673,
          0.8685140699999999,
          1.13775825,
          1.11858001,
          0.40280231,
          0.37747057,
          0.18251768,
          0.25101196,
          0.7785853100000001,
          0.5337569799999999,
          0.67900321,
          0.58214818,
          0.56711463,
          0.37310711,
          0.98667713,
          0.5932754499999999,
          0.5405813100000001,
          0.5405813100000001,
          0.17022995000000002,
          1.01348749,
          0.7971475100000001,
          0.53795601,
          0.64384983,
          0.8918127299999999,
          1.30960395,
          0.22108196,
          0.59910964,
          0.40536444,
          0.6258474399999999,
          0.6558845799999999,
          0.67504321,
          0.71811103,
          0.85441038,
          0.80285747,
          0.321812,
          0.6461156899999999,
          0.34027096,
          0.95838971,
          0.39256715,
          0.79374341,
          0.8763598100000001,
          0.48630316,
          0.5826496,
          0.39222133,
          0.57097745,
          0.53032784,
          0.8921458299999999,
          1.004872,
          0.5238393,
          0.12340055,
          0.8685140699999999,
          1.1410543,
          1.1359266499999998,
          1.01348749,
          1.09334887,
          0.80231439,
          1.3299142,
          1.31730172,
          0.98019944,
          0.9941378,
          1.5230143799999998,
          0.7287783299999999,
          1.3736323899999998,
          1.14943278,
          0.68970727,
          0.5937145500000001,
          0.9350726999999999,
          0.4834335,
          1.20690344,
          1.06719648,
          0.86601087,
          0.80194669,
          0.86313283,
          1.15664441,
          1.42769142,
          0.90251369,
          0.52016311,
          0.98766563,
          0.55619289,
          0.66678646,
          0.94313668,
          0.97527387,
          0.6901240799999999,
          0.6597359899999999,
          1.39635365,
          1.09334887,
          0.80231439,
          1.3299142,
          1.31730172,
          0.98019944,
          0.9941378,
          1.5230143799999998,
          0.7287783299999999,
          1.3736323899999998,
          0.6489337,
          0.86325234,
          0.4124528,
          1.14943278,
          0.51988839,
          0.6792649300000001,
          0.68970727,
          0.17516605999999998,
          0.55438652,
          0.86589967,
          0.84586189,
          1.28355542,
          1.19836021,
          0.70439516,
          0.50044574,
          1.38068874,
          1.38658291,
          1.09200724,
          0.39645643,
          1.27643156,
          1.1012631899999998,
          1.49388015,
          1.04064393,
          0.96485189,
          0.98989655,
          1.11638015,
          1.08560675,
          0.5238393,
          1.1931968700000002,
          1.03103308,
          1.24463438,
          1.54427346,
          1.0594265900000002,
          1.09898814,
          1.29000994,
          0.9643110999999999,
          1.3261784399999998,
          0.42379399999999995,
          0.6094221999999999,
          0.4053551,
          1.18938463,
          1.14565526,
          0.93928982,
          0.61438852,
          0.44272923,
          0.1887088,
          1.09211687,
          0.90935294,
          0.44272923,
          0.1887088,
          0.4124528,
          0.38223419,
          1.09211687,
          1.09211687,
          1.12171054,
          1.1069307,
          1.5978103899999998,
          1.367721,
          0.83609601,
          1.31818673,
          1.0102258,
          1.30095197,
          1.54870424,
          1.52258909,
          0.47777056,
          0.32680685,
          0.70574069,
          1.09880969,
          0.25483471,
          1.05479949,
          1.24189861,
          0.34321703000000003,
          1.03133178,
          0.81246512,
          0.792776,
          0.69851637,
          1.00576163,
          1.23598569,
          1.00091417,
          1.61694446,
          0.54084151,
          1.32363621,
          1.39069973,
          1.37199615,
          0.99480425,
          0.93110482,
          0.49464933,
          0.69375911,
          0.41850527,
          0.91200428,
          0.67322998,
          0.41825578,
          1.08586026,
          1.34582422,
          0.6108315799999999,
          0.33009262,
          0.321812,
          1.09211687,
          1.10423381,
          0.47774563,
          1.18945482,
          0.9588839,
          0.99985214,
          0.80817385,
          0.71166428
         ],
         "yaxis": "y"
        },
        {
         "alignmentgroup": "True",
         "bingroup": "x",
         "histfunc": "avg",
         "hovertemplate": "variable=15 Minute Range Area<br>Lines=%{x}<br>avg of Walk Area Coverage(km^2)=%{y}<extra></extra>",
         "legendgroup": "15 Minute Range Area",
         "marker": {
          "color": "#00cc96"
         },
         "name": "15 Minute Range Area",
         "offsetgroup": "15 Minute Range Area",
         "orientation": "v",
         "showlegend": true,
         "type": "histogram",
         "x": [
          "Seremban Line",
          "Seremban Line",
          "Seremban Line",
          "Seremban Line",
          "Seremban Line",
          "Seremban Line",
          "Seremban Line",
          "Seremban Line",
          "Seremban Line",
          "Seremban Line",
          "Seremban Line",
          "Seremban Line",
          "Seremban Line",
          "Seremban Line",
          "Seremban Line",
          "Seremban Line",
          "Seremban Line",
          "Seremban Line",
          "Seremban Line",
          "Seremban Line",
          "Seremban Line",
          "Seremban Line",
          "Seremban Line",
          "Seremban Line",
          "Seremban Line",
          "Seremban Line",
          "Port Klang Line",
          "Port Klang Line",
          "Port Klang Line",
          "Port Klang Line",
          "Port Klang Line",
          "Port Klang Line",
          "Port Klang Line",
          "Port Klang Line",
          "Port Klang Line",
          "Port Klang Line",
          "Port Klang Line",
          "Port Klang Line",
          "Port Klang Line",
          "Port Klang Line",
          "Port Klang Line",
          "Port Klang Line",
          "Port Klang Line",
          "Port Klang Line",
          "Port Klang Line",
          "Port Klang Line",
          "Port Klang Line",
          "Port Klang Line",
          "Port Klang Line",
          "Port Klang Line",
          "Port Klang Line",
          "Port Klang Line",
          "Port Klang Line",
          "Port Klang Line",
          "Port Klang Line",
          "Port Klang Line",
          "Port Klang Line",
          "Port Klang Line",
          "Port Klang Line",
          "Port Klang Line",
          "Ampang Line",
          "Ampang Line",
          "Ampang Line",
          "Ampang Line",
          "Ampang Line",
          "Ampang Line",
          "Ampang Line",
          "Ampang Line",
          "Ampang Line",
          "Ampang Line",
          "Ampang Line",
          "Ampang Line",
          "Ampang Line",
          "Ampang Line",
          "Ampang Line",
          "Ampang Line",
          "Ampang Line",
          "Ampang Line",
          "Sri Petaling Line",
          "Sri Petaling Line",
          "Sri Petaling Line",
          "Sri Petaling Line",
          "Sri Petaling Line",
          "Sri Petaling Line",
          "Sri Petaling Line",
          "Sri Petaling Line",
          "Sri Petaling Line",
          "Sri Petaling Line",
          "Sri Petaling Line",
          "Sri Petaling Line",
          "Sri Petaling Line",
          "Sri Petaling Line",
          "Sri Petaling Line",
          "Sri Petaling Line",
          "Sri Petaling Line",
          "Sri Petaling Line",
          "Sri Petaling Line",
          "Sri Petaling Line",
          "Sri Petaling Line",
          "Sri Petaling Line",
          "Sri Petaling Line",
          "Sri Petaling Line",
          "Sri Petaling Line",
          "Sri Petaling Line",
          "Sri Petaling Line",
          "Sri Petaling Line",
          "Sri Petaling Line",
          "Kelana Jaya Line",
          "Kelana Jaya Line",
          "Kelana Jaya Line",
          "Kelana Jaya Line",
          "Kelana Jaya Line",
          "Kelana Jaya Line",
          "Kelana Jaya Line",
          "Kelana Jaya Line",
          "Kelana Jaya Line",
          "Kelana Jaya Line",
          "Kelana Jaya Line",
          "Kelana Jaya Line",
          "Kelana Jaya Line",
          "Kelana Jaya Line",
          "Kelana Jaya Line",
          "Kelana Jaya Line",
          "Kelana Jaya Line",
          "Kelana Jaya Line",
          "Kelana Jaya Line",
          "Kelana Jaya Line",
          "Kelana Jaya Line",
          "Kelana Jaya Line",
          "Kelana Jaya Line",
          "Kelana Jaya Line",
          "Kelana Jaya Line",
          "Kelana Jaya Line",
          "Kelana Jaya Line",
          "Kelana Jaya Line",
          "Kelana Jaya Line",
          "Kelana Jaya Line",
          "Kelana Jaya Line",
          "Kelana Jaya Line",
          "Kelana Jaya Line",
          "Kelana Jaya Line",
          "Kelana Jaya Line",
          "Kelana Jaya Line",
          "Kelana Jaya Line",
          "KLIA Ekspres",
          "KLIA Ekspres",
          "KLIA Ekspres",
          "KLIA Transit",
          "KLIA Transit",
          "KLIA Transit",
          "KLIA Transit",
          "KLIA Transit",
          "KLIA Transit",
          "KL Monorail Line",
          "KL Monorail Line",
          "KL Monorail Line",
          "KL Monorail Line",
          "KL Monorail Line",
          "KL Monorail Line",
          "KL Monorail Line",
          "KL Monorail Line",
          "KL Monorail Line",
          "KL Monorail Line",
          "KL Monorail Line",
          "MRT Sungai Buloh - Kajang Line",
          "MRT Sungai Buloh - Kajang Line",
          "MRT Sungai Buloh - Kajang Line",
          "MRT Sungai Buloh - Kajang Line",
          "MRT Sungai Buloh - Kajang Line",
          "MRT Sungai Buloh - Kajang Line",
          "MRT Sungai Buloh - Kajang Line",
          "MRT Sungai Buloh - Kajang Line",
          "MRT Sungai Buloh - Kajang Line",
          "MRT Sungai Buloh - Kajang Line",
          "MRT Sungai Buloh - Kajang Line",
          "MRT Sungai Buloh - Kajang Line",
          "MRT Sungai Buloh - Kajang Line",
          "MRT Sungai Buloh - Kajang Line",
          "MRT Sungai Buloh - Kajang Line",
          "MRT Sungai Buloh - Kajang Line",
          "MRT Sungai Buloh - Kajang Line",
          "MRT Sungai Buloh - Kajang Line",
          "MRT Sungai Buloh - Kajang Line",
          "MRT Sungai Buloh - Kajang Line",
          "MRT Sungai Buloh - Kajang Line",
          "MRT Sungai Buloh - Kajang Line",
          "MRT Sungai Buloh - Kajang Line",
          "MRT Sungai Buloh - Kajang Line",
          "MRT Sungai Buloh - Kajang Line",
          "MRT Sungai Buloh - Kajang Line",
          "MRT Sungai Buloh - Kajang Line",
          "MRT Sungai Buloh - Kajang Line",
          "MRT Sungai Buloh - Kajang Line",
          "MRT Sungai Buloh - Kajang Line",
          "MRT Sungai Buloh - Kajang Line",
          "Skypark Link",
          "Skypark Link",
          "Skypark Link",
          "BRT Sunway Line",
          "BRT Sunway Line",
          "BRT Sunway Line",
          "BRT Sunway Line",
          "BRT Sunway Line",
          "BRT Sunway Line",
          "BRT Sunway Line"
         ],
         "xaxis": "x",
         "y": [
          2.01372087,
          2.17127068,
          2.48414194,
          1.48011698,
          2.1961619100000003,
          2.04364832,
          2.1467981600000003,
          2.1587216,
          2.66303866,
          2.79807204,
          0.77668935,
          1.08777585,
          0.29188265,
          0.64270174,
          1.89625466,
          1.49313344,
          1.45951211,
          1.54205525,
          1.2556628,
          0.72429019,
          2.33026197,
          1.69244408,
          1.24454468,
          1.24454468,
          0.85267845,
          2.53606819,
          1.5478033100000002,
          1.29715947,
          1.3352201499999998,
          2.0227466,
          3.05769708,
          0.77981681,
          1.2065108,
          1.24413481,
          1.33726152,
          1.44101731,
          1.49972089,
          1.69686571,
          2.04634475,
          1.58638318,
          1.1513782,
          1.62531859,
          0.86404136,
          2.59634847,
          1.64602341,
          1.8300464,
          1.77151378,
          1.41677477,
          1.1314363,
          1.06013488,
          1.5269925800000002,
          1.20257125,
          2.17071255,
          2.2585546,
          1.5659501299999998,
          0.41799525,
          2.1587216,
          2.66329878,
          2.79773503,
          2.53606819,
          2.50320723,
          2.18713898,
          2.97553758,
          3.24989455,
          2.30154847,
          2.43804193,
          3.57417472,
          2.15523282,
          3.13635847,
          2.87843455,
          2.00438714,
          1.72766469,
          2.63536614,
          1.30700796,
          2.8398799300000004,
          2.6485886,
          2.36282791,
          2.18438939,
          2.15049166,
          2.21036431,
          2.92087017,
          1.70459228,
          0.99874736,
          2.31082803,
          1.46526333,
          2.00864547,
          1.96053364,
          1.99741613,
          1.4407928799999998,
          1.78729107,
          2.56875504,
          2.50320723,
          2.18713898,
          2.97553758,
          3.24989455,
          2.30154847,
          2.43804193,
          3.57417472,
          2.15523282,
          3.13635847,
          1.23613699,
          1.80755973,
          1.28215506,
          2.87843455,
          1.16625679,
          1.48917365,
          2.00438714,
          0.73848588,
          0.96879234,
          2.14291925,
          1.7670411,
          2.55634706,
          2.5685247400000004,
          1.36584476,
          1.4989333,
          3.05360071,
          3.07315564,
          2.30392579,
          1.33235855,
          3.0407064100000003,
          2.65852396,
          3.41690366,
          2.66858784,
          2.55299055,
          2.54116602,
          2.15266294,
          2.47394872,
          1.5659501299999998,
          2.91673712,
          2.47261526,
          2.97844454,
          3.47835279,
          2.55415807,
          2.67538928,
          2.9409497200000003,
          2.27835626,
          3.16651208,
          1.0854431299999998,
          1.63097096,
          1.25523608,
          2.80011178,
          2.85647793,
          2.3320872,
          1.84844813,
          0.7644734999999999,
          0.59148389,
          2.65349169,
          1.71205727,
          0.7644734999999999,
          0.59148389,
          1.28215506,
          0.80806759,
          2.65349169,
          2.65349169,
          2.4697297,
          2.8377076,
          3.4585355000000004,
          2.89450107,
          2.31622159,
          3.18113759,
          2.86908831,
          3.18807073,
          3.43811055,
          3.43721354,
          1.39431611,
          0.77787122,
          1.84313567,
          2.4039592,
          0.93031178,
          2.63810659,
          2.6266688300000003,
          1.1560063,
          2.21364998,
          1.7190148999999997,
          1.88394972,
          1.5214177,
          2.57465602,
          2.93804371,
          2.55486237,
          3.53382386,
          1.61326365,
          2.88430088,
          3.03546832,
          2.87970501,
          2.55413829,
          2.39006463,
          1.1586145,
          1.57184147,
          1.02247819,
          1.92063742,
          1.17586881,
          1.08940472,
          2.53917369,
          3.40544625,
          1.09995471,
          0.7546312900000001,
          1.1513782,
          2.65349169,
          2.84510193,
          1.19718294,
          2.25366035,
          2.12975314,
          2.1030639,
          1.89476671,
          1.70544332
         ],
         "yaxis": "y"
        }
       ],
       "layout": {
        "barmode": "group",
        "legend": {
         "title": {
          "text": "variable"
         },
         "tracegroupgap": 0
        },
        "template": {
         "data": {
          "bar": [
           {
            "error_x": {
             "color": "#2a3f5f"
            },
            "error_y": {
             "color": "#2a3f5f"
            },
            "marker": {
             "line": {
              "color": "#E5ECF6",
              "width": 0.5
             }
            },
            "type": "bar"
           }
          ],
          "barpolar": [
           {
            "marker": {
             "line": {
              "color": "#E5ECF6",
              "width": 0.5
             }
            },
            "type": "barpolar"
           }
          ],
          "carpet": [
           {
            "aaxis": {
             "endlinecolor": "#2a3f5f",
             "gridcolor": "white",
             "linecolor": "white",
             "minorgridcolor": "white",
             "startlinecolor": "#2a3f5f"
            },
            "baxis": {
             "endlinecolor": "#2a3f5f",
             "gridcolor": "white",
             "linecolor": "white",
             "minorgridcolor": "white",
             "startlinecolor": "#2a3f5f"
            },
            "type": "carpet"
           }
          ],
          "choropleth": [
           {
            "colorbar": {
             "outlinewidth": 0,
             "ticks": ""
            },
            "type": "choropleth"
           }
          ],
          "contour": [
           {
            "colorbar": {
             "outlinewidth": 0,
             "ticks": ""
            },
            "colorscale": [
             [
              0,
              "#0d0887"
             ],
             [
              0.1111111111111111,
              "#46039f"
             ],
             [
              0.2222222222222222,
              "#7201a8"
             ],
             [
              0.3333333333333333,
              "#9c179e"
             ],
             [
              0.4444444444444444,
              "#bd3786"
             ],
             [
              0.5555555555555556,
              "#d8576b"
             ],
             [
              0.6666666666666666,
              "#ed7953"
             ],
             [
              0.7777777777777778,
              "#fb9f3a"
             ],
             [
              0.8888888888888888,
              "#fdca26"
             ],
             [
              1,
              "#f0f921"
             ]
            ],
            "type": "contour"
           }
          ],
          "contourcarpet": [
           {
            "colorbar": {
             "outlinewidth": 0,
             "ticks": ""
            },
            "type": "contourcarpet"
           }
          ],
          "heatmap": [
           {
            "colorbar": {
             "outlinewidth": 0,
             "ticks": ""
            },
            "colorscale": [
             [
              0,
              "#0d0887"
             ],
             [
              0.1111111111111111,
              "#46039f"
             ],
             [
              0.2222222222222222,
              "#7201a8"
             ],
             [
              0.3333333333333333,
              "#9c179e"
             ],
             [
              0.4444444444444444,
              "#bd3786"
             ],
             [
              0.5555555555555556,
              "#d8576b"
             ],
             [
              0.6666666666666666,
              "#ed7953"
             ],
             [
              0.7777777777777778,
              "#fb9f3a"
             ],
             [
              0.8888888888888888,
              "#fdca26"
             ],
             [
              1,
              "#f0f921"
             ]
            ],
            "type": "heatmap"
           }
          ],
          "heatmapgl": [
           {
            "colorbar": {
             "outlinewidth": 0,
             "ticks": ""
            },
            "colorscale": [
             [
              0,
              "#0d0887"
             ],
             [
              0.1111111111111111,
              "#46039f"
             ],
             [
              0.2222222222222222,
              "#7201a8"
             ],
             [
              0.3333333333333333,
              "#9c179e"
             ],
             [
              0.4444444444444444,
              "#bd3786"
             ],
             [
              0.5555555555555556,
              "#d8576b"
             ],
             [
              0.6666666666666666,
              "#ed7953"
             ],
             [
              0.7777777777777778,
              "#fb9f3a"
             ],
             [
              0.8888888888888888,
              "#fdca26"
             ],
             [
              1,
              "#f0f921"
             ]
            ],
            "type": "heatmapgl"
           }
          ],
          "histogram": [
           {
            "marker": {
             "colorbar": {
              "outlinewidth": 0,
              "ticks": ""
             }
            },
            "type": "histogram"
           }
          ],
          "histogram2d": [
           {
            "colorbar": {
             "outlinewidth": 0,
             "ticks": ""
            },
            "colorscale": [
             [
              0,
              "#0d0887"
             ],
             [
              0.1111111111111111,
              "#46039f"
             ],
             [
              0.2222222222222222,
              "#7201a8"
             ],
             [
              0.3333333333333333,
              "#9c179e"
             ],
             [
              0.4444444444444444,
              "#bd3786"
             ],
             [
              0.5555555555555556,
              "#d8576b"
             ],
             [
              0.6666666666666666,
              "#ed7953"
             ],
             [
              0.7777777777777778,
              "#fb9f3a"
             ],
             [
              0.8888888888888888,
              "#fdca26"
             ],
             [
              1,
              "#f0f921"
             ]
            ],
            "type": "histogram2d"
           }
          ],
          "histogram2dcontour": [
           {
            "colorbar": {
             "outlinewidth": 0,
             "ticks": ""
            },
            "colorscale": [
             [
              0,
              "#0d0887"
             ],
             [
              0.1111111111111111,
              "#46039f"
             ],
             [
              0.2222222222222222,
              "#7201a8"
             ],
             [
              0.3333333333333333,
              "#9c179e"
             ],
             [
              0.4444444444444444,
              "#bd3786"
             ],
             [
              0.5555555555555556,
              "#d8576b"
             ],
             [
              0.6666666666666666,
              "#ed7953"
             ],
             [
              0.7777777777777778,
              "#fb9f3a"
             ],
             [
              0.8888888888888888,
              "#fdca26"
             ],
             [
              1,
              "#f0f921"
             ]
            ],
            "type": "histogram2dcontour"
           }
          ],
          "mesh3d": [
           {
            "colorbar": {
             "outlinewidth": 0,
             "ticks": ""
            },
            "type": "mesh3d"
           }
          ],
          "parcoords": [
           {
            "line": {
             "colorbar": {
              "outlinewidth": 0,
              "ticks": ""
             }
            },
            "type": "parcoords"
           }
          ],
          "pie": [
           {
            "automargin": true,
            "type": "pie"
           }
          ],
          "scatter": [
           {
            "marker": {
             "colorbar": {
              "outlinewidth": 0,
              "ticks": ""
             }
            },
            "type": "scatter"
           }
          ],
          "scatter3d": [
           {
            "line": {
             "colorbar": {
              "outlinewidth": 0,
              "ticks": ""
             }
            },
            "marker": {
             "colorbar": {
              "outlinewidth": 0,
              "ticks": ""
             }
            },
            "type": "scatter3d"
           }
          ],
          "scattercarpet": [
           {
            "marker": {
             "colorbar": {
              "outlinewidth": 0,
              "ticks": ""
             }
            },
            "type": "scattercarpet"
           }
          ],
          "scattergeo": [
           {
            "marker": {
             "colorbar": {
              "outlinewidth": 0,
              "ticks": ""
             }
            },
            "type": "scattergeo"
           }
          ],
          "scattergl": [
           {
            "marker": {
             "colorbar": {
              "outlinewidth": 0,
              "ticks": ""
             }
            },
            "type": "scattergl"
           }
          ],
          "scattermapbox": [
           {
            "marker": {
             "colorbar": {
              "outlinewidth": 0,
              "ticks": ""
             }
            },
            "type": "scattermapbox"
           }
          ],
          "scatterpolar": [
           {
            "marker": {
             "colorbar": {
              "outlinewidth": 0,
              "ticks": ""
             }
            },
            "type": "scatterpolar"
           }
          ],
          "scatterpolargl": [
           {
            "marker": {
             "colorbar": {
              "outlinewidth": 0,
              "ticks": ""
             }
            },
            "type": "scatterpolargl"
           }
          ],
          "scatterternary": [
           {
            "marker": {
             "colorbar": {
              "outlinewidth": 0,
              "ticks": ""
             }
            },
            "type": "scatterternary"
           }
          ],
          "surface": [
           {
            "colorbar": {
             "outlinewidth": 0,
             "ticks": ""
            },
            "colorscale": [
             [
              0,
              "#0d0887"
             ],
             [
              0.1111111111111111,
              "#46039f"
             ],
             [
              0.2222222222222222,
              "#7201a8"
             ],
             [
              0.3333333333333333,
              "#9c179e"
             ],
             [
              0.4444444444444444,
              "#bd3786"
             ],
             [
              0.5555555555555556,
              "#d8576b"
             ],
             [
              0.6666666666666666,
              "#ed7953"
             ],
             [
              0.7777777777777778,
              "#fb9f3a"
             ],
             [
              0.8888888888888888,
              "#fdca26"
             ],
             [
              1,
              "#f0f921"
             ]
            ],
            "type": "surface"
           }
          ],
          "table": [
           {
            "cells": {
             "fill": {
              "color": "#EBF0F8"
             },
             "line": {
              "color": "white"
             }
            },
            "header": {
             "fill": {
              "color": "#C8D4E3"
             },
             "line": {
              "color": "white"
             }
            },
            "type": "table"
           }
          ]
         },
         "layout": {
          "annotationdefaults": {
           "arrowcolor": "#2a3f5f",
           "arrowhead": 0,
           "arrowwidth": 1
          },
          "coloraxis": {
           "colorbar": {
            "outlinewidth": 0,
            "ticks": ""
           }
          },
          "colorscale": {
           "diverging": [
            [
             0,
             "#8e0152"
            ],
            [
             0.1,
             "#c51b7d"
            ],
            [
             0.2,
             "#de77ae"
            ],
            [
             0.3,
             "#f1b6da"
            ],
            [
             0.4,
             "#fde0ef"
            ],
            [
             0.5,
             "#f7f7f7"
            ],
            [
             0.6,
             "#e6f5d0"
            ],
            [
             0.7,
             "#b8e186"
            ],
            [
             0.8,
             "#7fbc41"
            ],
            [
             0.9,
             "#4d9221"
            ],
            [
             1,
             "#276419"
            ]
           ],
           "sequential": [
            [
             0,
             "#0d0887"
            ],
            [
             0.1111111111111111,
             "#46039f"
            ],
            [
             0.2222222222222222,
             "#7201a8"
            ],
            [
             0.3333333333333333,
             "#9c179e"
            ],
            [
             0.4444444444444444,
             "#bd3786"
            ],
            [
             0.5555555555555556,
             "#d8576b"
            ],
            [
             0.6666666666666666,
             "#ed7953"
            ],
            [
             0.7777777777777778,
             "#fb9f3a"
            ],
            [
             0.8888888888888888,
             "#fdca26"
            ],
            [
             1,
             "#f0f921"
            ]
           ],
           "sequentialminus": [
            [
             0,
             "#0d0887"
            ],
            [
             0.1111111111111111,
             "#46039f"
            ],
            [
             0.2222222222222222,
             "#7201a8"
            ],
            [
             0.3333333333333333,
             "#9c179e"
            ],
            [
             0.4444444444444444,
             "#bd3786"
            ],
            [
             0.5555555555555556,
             "#d8576b"
            ],
            [
             0.6666666666666666,
             "#ed7953"
            ],
            [
             0.7777777777777778,
             "#fb9f3a"
            ],
            [
             0.8888888888888888,
             "#fdca26"
            ],
            [
             1,
             "#f0f921"
            ]
           ]
          },
          "colorway": [
           "#636efa",
           "#EF553B",
           "#00cc96",
           "#ab63fa",
           "#FFA15A",
           "#19d3f3",
           "#FF6692",
           "#B6E880",
           "#FF97FF",
           "#FECB52"
          ],
          "font": {
           "color": "#2a3f5f"
          },
          "geo": {
           "bgcolor": "white",
           "lakecolor": "white",
           "landcolor": "#E5ECF6",
           "showlakes": true,
           "showland": true,
           "subunitcolor": "white"
          },
          "hoverlabel": {
           "align": "left"
          },
          "hovermode": "closest",
          "mapbox": {
           "style": "light"
          },
          "paper_bgcolor": "white",
          "plot_bgcolor": "#E5ECF6",
          "polar": {
           "angularaxis": {
            "gridcolor": "white",
            "linecolor": "white",
            "ticks": ""
           },
           "bgcolor": "#E5ECF6",
           "radialaxis": {
            "gridcolor": "white",
            "linecolor": "white",
            "ticks": ""
           }
          },
          "scene": {
           "xaxis": {
            "backgroundcolor": "#E5ECF6",
            "gridcolor": "white",
            "gridwidth": 2,
            "linecolor": "white",
            "showbackground": true,
            "ticks": "",
            "zerolinecolor": "white"
           },
           "yaxis": {
            "backgroundcolor": "#E5ECF6",
            "gridcolor": "white",
            "gridwidth": 2,
            "linecolor": "white",
            "showbackground": true,
            "ticks": "",
            "zerolinecolor": "white"
           },
           "zaxis": {
            "backgroundcolor": "#E5ECF6",
            "gridcolor": "white",
            "gridwidth": 2,
            "linecolor": "white",
            "showbackground": true,
            "ticks": "",
            "zerolinecolor": "white"
           }
          },
          "shapedefaults": {
           "line": {
            "color": "#2a3f5f"
           }
          },
          "ternary": {
           "aaxis": {
            "gridcolor": "white",
            "linecolor": "white",
            "ticks": ""
           },
           "baxis": {
            "gridcolor": "white",
            "linecolor": "white",
            "ticks": ""
           },
           "bgcolor": "#E5ECF6",
           "caxis": {
            "gridcolor": "white",
            "linecolor": "white",
            "ticks": ""
           }
          },
          "title": {
           "x": 0.05
          },
          "xaxis": {
           "automargin": true,
           "gridcolor": "white",
           "linecolor": "white",
           "ticks": "",
           "title": {
            "standoff": 15
           },
           "zerolinecolor": "white",
           "zerolinewidth": 2
          },
          "yaxis": {
           "automargin": true,
           "gridcolor": "white",
           "linecolor": "white",
           "ticks": "",
           "title": {
            "standoff": 15
           },
           "zerolinecolor": "white",
           "zerolinewidth": 2
          }
         }
        },
        "title": {
         "text": "Area coverage within walking times from station"
        },
        "xaxis": {
         "anchor": "y",
         "categoryorder": "total ascending",
         "domain": [
          0,
          1
         ],
         "title": {
          "text": "Lines"
         }
        },
        "yaxis": {
         "anchor": "x",
         "domain": [
          0,
          1
         ],
         "title": {
          "text": "avg of Walk Area Coverage(km^2)"
         }
        }
       }
      }
     },
     "metadata": {},
     "output_type": "display_data"
    }
   ],
   "source": [
    "# draws histograms for RapidKL lines' 5 minute walking area coverage\n",
    "fig = px.histogram(data_all[(data_all[\"City\"]=='Kuala Lumpur') &(data_all[\"Service Provider Name\"]=='Rapid KL')]\n",
    "             ,x='Route Name'\n",
    "             ,y='5 Minute Range Area'\n",
    "             , barmode = 'group'\n",
    "             , title=\"Area coverage within 5 minutes walk from station\"\n",
    "             , template='plotly'\n",
    "             , histfunc = 'avg'\n",
    "             ,labels={'Route Name': \"Lines\", '5 Minute Range Area' : \"5 Minutes Walk Area(km^2)\"}\n",
    "            ).update_xaxes(categoryorder='total ascending')\n",
    "fig.update_layout(showlegend=False)\n",
    "fig.show() \n",
    "\n",
    "# draws histograms for RapidKL lines' 10 minute walking area coverage\n",
    "fig = px.histogram(data_all[(data_all[\"City\"]=='Kuala Lumpur') &(data_all[\"Service Provider Name\"]=='Rapid KL')]\n",
    "             ,x='Route Name'\n",
    "             ,y='10 Minute Range Area'\n",
    "             , barmode = 'group'\n",
    "             , title=\"Area coverage within 10 minutes walk from station\"\n",
    "             , template='plotly'\n",
    "             , histfunc = 'avg'\n",
    "             ,labels={'Route Name': \"Lines\", '10 Minute Range Area' : \"10 Minutes Walk Area(km^2)\"}\n",
    "            ).update_xaxes(categoryorder='total ascending')\n",
    "fig.update_layout(showlegend=False)\n",
    "fig.show()\n",
    "\n",
    "# draws histograms for RapidKL lines' 15 minute walking area coverage\n",
    "fig = px.histogram(data_all[(data_all[\"City\"]=='Kuala Lumpur') &(data_all[\"Service Provider Name\"]=='Rapid KL')]\n",
    "             ,x='Route Name'\n",
    "             ,y='15 Minute Range Area'\n",
    "             , barmode = 'group'\n",
    "             , title=\"Area coverage within 15 minutes walk from station\"\n",
    "             , template='plotly'\n",
    "             , histfunc = 'avg'\n",
    "             ,labels={'Route Name': \"Lines\", '15 Minute Range Area' : \"15 Minutes Walk Area(km^2)\"}\n",
    "            ).update_xaxes(categoryorder='total ascending')\n",
    "fig.update_layout(showlegend=False)\n",
    "fig.show() \n",
    "\n",
    "# draws all coverage in one chart along with all train lines\n",
    "fig = px.histogram(data_all[(data_all[\"City\"]=='Kuala Lumpur') ]\n",
    "             ,x='Route Name'\n",
    "             ,y=['5 Minute Range Area','10 Minute Range Area','15 Minute Range Area']\n",
    "             , barmode = 'group'\n",
    "             , title=\"Area coverage within walking times from station\"\n",
    "             , template='plotly'\n",
    "             , histfunc = 'avg'\n",
    "             ,labels={'Route Name': \"Lines\",'value' : \"Walk Area Coverage(km^2)\"}\n",
    "            ).update_xaxes(categoryorder='total ascending')\n",
    "\n",
    "fig.show()       "
   ]
  },
  {
   "cell_type": "code",
   "execution_count": 5,
   "metadata": {},
   "outputs": [
    {
     "data": {
      "application/vnd.plotly.v1+json": {
       "config": {
        "plotlyServerURL": "https://plot.ly"
       },
       "data": [
        {
         "alignmentgroup": "True",
         "bingroup": "x",
         "histfunc": "avg",
         "hovertemplate": "Lines=%{x}<br>avg of Population Coverage=%{y}<extra></extra>",
         "legendgroup": "",
         "marker": {
          "color": "#636efa"
         },
         "name": "",
         "offsetgroup": "",
         "orientation": "v",
         "showlegend": false,
         "type": "histogram",
         "x": [
          "Ampang Line",
          "Ampang Line",
          "Ampang Line",
          "Ampang Line",
          "Ampang Line",
          "Ampang Line",
          "Ampang Line",
          "Ampang Line",
          "Ampang Line",
          "Ampang Line",
          "Ampang Line",
          "Ampang Line",
          "Ampang Line",
          "Ampang Line",
          "Ampang Line",
          "Ampang Line",
          "Ampang Line",
          "Ampang Line",
          "Sri Petaling Line",
          "Sri Petaling Line",
          "Sri Petaling Line",
          "Sri Petaling Line",
          "Sri Petaling Line",
          "Sri Petaling Line",
          "Sri Petaling Line",
          "Sri Petaling Line",
          "Sri Petaling Line",
          "Sri Petaling Line",
          "Sri Petaling Line",
          "Sri Petaling Line",
          "Sri Petaling Line",
          "Sri Petaling Line",
          "Sri Petaling Line",
          "Sri Petaling Line",
          "Sri Petaling Line",
          "Sri Petaling Line",
          "Sri Petaling Line",
          "Sri Petaling Line",
          "Sri Petaling Line",
          "Sri Petaling Line",
          "Sri Petaling Line",
          "Sri Petaling Line",
          "Sri Petaling Line",
          "Sri Petaling Line",
          "Sri Petaling Line",
          "Sri Petaling Line",
          "Sri Petaling Line",
          "Kelana Jaya Line",
          "Kelana Jaya Line",
          "Kelana Jaya Line",
          "Kelana Jaya Line",
          "Kelana Jaya Line",
          "Kelana Jaya Line",
          "Kelana Jaya Line",
          "Kelana Jaya Line",
          "Kelana Jaya Line",
          "Kelana Jaya Line",
          "Kelana Jaya Line",
          "Kelana Jaya Line",
          "Kelana Jaya Line",
          "Kelana Jaya Line",
          "Kelana Jaya Line",
          "Kelana Jaya Line",
          "Kelana Jaya Line",
          "Kelana Jaya Line",
          "Kelana Jaya Line",
          "Kelana Jaya Line",
          "Kelana Jaya Line",
          "Kelana Jaya Line",
          "Kelana Jaya Line",
          "Kelana Jaya Line",
          "Kelana Jaya Line",
          "Kelana Jaya Line",
          "Kelana Jaya Line",
          "Kelana Jaya Line",
          "Kelana Jaya Line",
          "Kelana Jaya Line",
          "Kelana Jaya Line",
          "Kelana Jaya Line",
          "Kelana Jaya Line",
          "Kelana Jaya Line",
          "Kelana Jaya Line",
          "Kelana Jaya Line",
          "Kelana Jaya Line",
          "KL Monorail Line",
          "KL Monorail Line",
          "KL Monorail Line",
          "KL Monorail Line",
          "KL Monorail Line",
          "KL Monorail Line",
          "KL Monorail Line",
          "KL Monorail Line",
          "KL Monorail Line",
          "KL Monorail Line",
          "KL Monorail Line",
          "MRT Sungai Buloh - Kajang Line",
          "MRT Sungai Buloh - Kajang Line",
          "MRT Sungai Buloh - Kajang Line",
          "MRT Sungai Buloh - Kajang Line",
          "MRT Sungai Buloh - Kajang Line",
          "MRT Sungai Buloh - Kajang Line",
          "MRT Sungai Buloh - Kajang Line",
          "MRT Sungai Buloh - Kajang Line",
          "MRT Sungai Buloh - Kajang Line",
          "MRT Sungai Buloh - Kajang Line",
          "MRT Sungai Buloh - Kajang Line",
          "MRT Sungai Buloh - Kajang Line",
          "MRT Sungai Buloh - Kajang Line",
          "MRT Sungai Buloh - Kajang Line",
          "MRT Sungai Buloh - Kajang Line",
          "MRT Sungai Buloh - Kajang Line",
          "MRT Sungai Buloh - Kajang Line",
          "MRT Sungai Buloh - Kajang Line",
          "MRT Sungai Buloh - Kajang Line",
          "MRT Sungai Buloh - Kajang Line",
          "MRT Sungai Buloh - Kajang Line",
          "MRT Sungai Buloh - Kajang Line",
          "MRT Sungai Buloh - Kajang Line",
          "MRT Sungai Buloh - Kajang Line",
          "MRT Sungai Buloh - Kajang Line",
          "MRT Sungai Buloh - Kajang Line",
          "MRT Sungai Buloh - Kajang Line",
          "MRT Sungai Buloh - Kajang Line",
          "MRT Sungai Buloh - Kajang Line",
          "MRT Sungai Buloh - Kajang Line",
          "MRT Sungai Buloh - Kajang Line"
         ],
         "xaxis": "x",
         "y": [
          2186,
          845,
          2141,
          3133,
          847,
          1729,
          2248,
          456,
          2779,
          1788,
          456,
          1020,
          892,
          814,
          3618,
          2741,
          1829,
          1832,
          764,
          2655,
          3544,
          2377,
          1288,
          2431,
          1617,
          619,
          1025,
          2955,
          495,
          629,
          2502,
          2186,
          845,
          2141,
          3133,
          847,
          1729,
          2248,
          456,
          2779,
          967,
          1694,
          606,
          1788,
          1076,
          930,
          456,
          0,
          0,
          501,
          754,
          1667,
          1245,
          1069,
          659,
          1939,
          1885,
          631,
          0,
          2002,
          1694,
          2101,
          606,
          1274,
          824,
          2000,
          1555,
          433,
          1785,
          1809,
          1803,
          2254,
          1360,
          910,
          2194,
          1285,
          3353,
          1060,
          906,
          834,
          1767,
          1369,
          2023,
          982,
          1822,
          2780,
          1353,
          3169,
          913,
          1053,
          1574,
          345,
          1808,
          1819,
          2258,
          75,
          339,
          443,
          867,
          335,
          1148,
          1333,
          512,
          1440,
          316,
          526,
          1122,
          1031,
          1803,
          1328,
          2258,
          456,
          2227,
          1348,
          2725,
          1124,
          1666,
          1915,
          515,
          502,
          1005,
          1532,
          485,
          1765,
          2222,
          1622
         ],
         "yaxis": "y"
        }
       ],
       "layout": {
        "barmode": "group",
        "legend": {
         "tracegroupgap": 0
        },
        "showlegend": false,
        "template": {
         "data": {
          "bar": [
           {
            "error_x": {
             "color": "#2a3f5f"
            },
            "error_y": {
             "color": "#2a3f5f"
            },
            "marker": {
             "line": {
              "color": "#E5ECF6",
              "width": 0.5
             }
            },
            "type": "bar"
           }
          ],
          "barpolar": [
           {
            "marker": {
             "line": {
              "color": "#E5ECF6",
              "width": 0.5
             }
            },
            "type": "barpolar"
           }
          ],
          "carpet": [
           {
            "aaxis": {
             "endlinecolor": "#2a3f5f",
             "gridcolor": "white",
             "linecolor": "white",
             "minorgridcolor": "white",
             "startlinecolor": "#2a3f5f"
            },
            "baxis": {
             "endlinecolor": "#2a3f5f",
             "gridcolor": "white",
             "linecolor": "white",
             "minorgridcolor": "white",
             "startlinecolor": "#2a3f5f"
            },
            "type": "carpet"
           }
          ],
          "choropleth": [
           {
            "colorbar": {
             "outlinewidth": 0,
             "ticks": ""
            },
            "type": "choropleth"
           }
          ],
          "contour": [
           {
            "colorbar": {
             "outlinewidth": 0,
             "ticks": ""
            },
            "colorscale": [
             [
              0,
              "#0d0887"
             ],
             [
              0.1111111111111111,
              "#46039f"
             ],
             [
              0.2222222222222222,
              "#7201a8"
             ],
             [
              0.3333333333333333,
              "#9c179e"
             ],
             [
              0.4444444444444444,
              "#bd3786"
             ],
             [
              0.5555555555555556,
              "#d8576b"
             ],
             [
              0.6666666666666666,
              "#ed7953"
             ],
             [
              0.7777777777777778,
              "#fb9f3a"
             ],
             [
              0.8888888888888888,
              "#fdca26"
             ],
             [
              1,
              "#f0f921"
             ]
            ],
            "type": "contour"
           }
          ],
          "contourcarpet": [
           {
            "colorbar": {
             "outlinewidth": 0,
             "ticks": ""
            },
            "type": "contourcarpet"
           }
          ],
          "heatmap": [
           {
            "colorbar": {
             "outlinewidth": 0,
             "ticks": ""
            },
            "colorscale": [
             [
              0,
              "#0d0887"
             ],
             [
              0.1111111111111111,
              "#46039f"
             ],
             [
              0.2222222222222222,
              "#7201a8"
             ],
             [
              0.3333333333333333,
              "#9c179e"
             ],
             [
              0.4444444444444444,
              "#bd3786"
             ],
             [
              0.5555555555555556,
              "#d8576b"
             ],
             [
              0.6666666666666666,
              "#ed7953"
             ],
             [
              0.7777777777777778,
              "#fb9f3a"
             ],
             [
              0.8888888888888888,
              "#fdca26"
             ],
             [
              1,
              "#f0f921"
             ]
            ],
            "type": "heatmap"
           }
          ],
          "heatmapgl": [
           {
            "colorbar": {
             "outlinewidth": 0,
             "ticks": ""
            },
            "colorscale": [
             [
              0,
              "#0d0887"
             ],
             [
              0.1111111111111111,
              "#46039f"
             ],
             [
              0.2222222222222222,
              "#7201a8"
             ],
             [
              0.3333333333333333,
              "#9c179e"
             ],
             [
              0.4444444444444444,
              "#bd3786"
             ],
             [
              0.5555555555555556,
              "#d8576b"
             ],
             [
              0.6666666666666666,
              "#ed7953"
             ],
             [
              0.7777777777777778,
              "#fb9f3a"
             ],
             [
              0.8888888888888888,
              "#fdca26"
             ],
             [
              1,
              "#f0f921"
             ]
            ],
            "type": "heatmapgl"
           }
          ],
          "histogram": [
           {
            "marker": {
             "colorbar": {
              "outlinewidth": 0,
              "ticks": ""
             }
            },
            "type": "histogram"
           }
          ],
          "histogram2d": [
           {
            "colorbar": {
             "outlinewidth": 0,
             "ticks": ""
            },
            "colorscale": [
             [
              0,
              "#0d0887"
             ],
             [
              0.1111111111111111,
              "#46039f"
             ],
             [
              0.2222222222222222,
              "#7201a8"
             ],
             [
              0.3333333333333333,
              "#9c179e"
             ],
             [
              0.4444444444444444,
              "#bd3786"
             ],
             [
              0.5555555555555556,
              "#d8576b"
             ],
             [
              0.6666666666666666,
              "#ed7953"
             ],
             [
              0.7777777777777778,
              "#fb9f3a"
             ],
             [
              0.8888888888888888,
              "#fdca26"
             ],
             [
              1,
              "#f0f921"
             ]
            ],
            "type": "histogram2d"
           }
          ],
          "histogram2dcontour": [
           {
            "colorbar": {
             "outlinewidth": 0,
             "ticks": ""
            },
            "colorscale": [
             [
              0,
              "#0d0887"
             ],
             [
              0.1111111111111111,
              "#46039f"
             ],
             [
              0.2222222222222222,
              "#7201a8"
             ],
             [
              0.3333333333333333,
              "#9c179e"
             ],
             [
              0.4444444444444444,
              "#bd3786"
             ],
             [
              0.5555555555555556,
              "#d8576b"
             ],
             [
              0.6666666666666666,
              "#ed7953"
             ],
             [
              0.7777777777777778,
              "#fb9f3a"
             ],
             [
              0.8888888888888888,
              "#fdca26"
             ],
             [
              1,
              "#f0f921"
             ]
            ],
            "type": "histogram2dcontour"
           }
          ],
          "mesh3d": [
           {
            "colorbar": {
             "outlinewidth": 0,
             "ticks": ""
            },
            "type": "mesh3d"
           }
          ],
          "parcoords": [
           {
            "line": {
             "colorbar": {
              "outlinewidth": 0,
              "ticks": ""
             }
            },
            "type": "parcoords"
           }
          ],
          "pie": [
           {
            "automargin": true,
            "type": "pie"
           }
          ],
          "scatter": [
           {
            "marker": {
             "colorbar": {
              "outlinewidth": 0,
              "ticks": ""
             }
            },
            "type": "scatter"
           }
          ],
          "scatter3d": [
           {
            "line": {
             "colorbar": {
              "outlinewidth": 0,
              "ticks": ""
             }
            },
            "marker": {
             "colorbar": {
              "outlinewidth": 0,
              "ticks": ""
             }
            },
            "type": "scatter3d"
           }
          ],
          "scattercarpet": [
           {
            "marker": {
             "colorbar": {
              "outlinewidth": 0,
              "ticks": ""
             }
            },
            "type": "scattercarpet"
           }
          ],
          "scattergeo": [
           {
            "marker": {
             "colorbar": {
              "outlinewidth": 0,
              "ticks": ""
             }
            },
            "type": "scattergeo"
           }
          ],
          "scattergl": [
           {
            "marker": {
             "colorbar": {
              "outlinewidth": 0,
              "ticks": ""
             }
            },
            "type": "scattergl"
           }
          ],
          "scattermapbox": [
           {
            "marker": {
             "colorbar": {
              "outlinewidth": 0,
              "ticks": ""
             }
            },
            "type": "scattermapbox"
           }
          ],
          "scatterpolar": [
           {
            "marker": {
             "colorbar": {
              "outlinewidth": 0,
              "ticks": ""
             }
            },
            "type": "scatterpolar"
           }
          ],
          "scatterpolargl": [
           {
            "marker": {
             "colorbar": {
              "outlinewidth": 0,
              "ticks": ""
             }
            },
            "type": "scatterpolargl"
           }
          ],
          "scatterternary": [
           {
            "marker": {
             "colorbar": {
              "outlinewidth": 0,
              "ticks": ""
             }
            },
            "type": "scatterternary"
           }
          ],
          "surface": [
           {
            "colorbar": {
             "outlinewidth": 0,
             "ticks": ""
            },
            "colorscale": [
             [
              0,
              "#0d0887"
             ],
             [
              0.1111111111111111,
              "#46039f"
             ],
             [
              0.2222222222222222,
              "#7201a8"
             ],
             [
              0.3333333333333333,
              "#9c179e"
             ],
             [
              0.4444444444444444,
              "#bd3786"
             ],
             [
              0.5555555555555556,
              "#d8576b"
             ],
             [
              0.6666666666666666,
              "#ed7953"
             ],
             [
              0.7777777777777778,
              "#fb9f3a"
             ],
             [
              0.8888888888888888,
              "#fdca26"
             ],
             [
              1,
              "#f0f921"
             ]
            ],
            "type": "surface"
           }
          ],
          "table": [
           {
            "cells": {
             "fill": {
              "color": "#EBF0F8"
             },
             "line": {
              "color": "white"
             }
            },
            "header": {
             "fill": {
              "color": "#C8D4E3"
             },
             "line": {
              "color": "white"
             }
            },
            "type": "table"
           }
          ]
         },
         "layout": {
          "annotationdefaults": {
           "arrowcolor": "#2a3f5f",
           "arrowhead": 0,
           "arrowwidth": 1
          },
          "coloraxis": {
           "colorbar": {
            "outlinewidth": 0,
            "ticks": ""
           }
          },
          "colorscale": {
           "diverging": [
            [
             0,
             "#8e0152"
            ],
            [
             0.1,
             "#c51b7d"
            ],
            [
             0.2,
             "#de77ae"
            ],
            [
             0.3,
             "#f1b6da"
            ],
            [
             0.4,
             "#fde0ef"
            ],
            [
             0.5,
             "#f7f7f7"
            ],
            [
             0.6,
             "#e6f5d0"
            ],
            [
             0.7,
             "#b8e186"
            ],
            [
             0.8,
             "#7fbc41"
            ],
            [
             0.9,
             "#4d9221"
            ],
            [
             1,
             "#276419"
            ]
           ],
           "sequential": [
            [
             0,
             "#0d0887"
            ],
            [
             0.1111111111111111,
             "#46039f"
            ],
            [
             0.2222222222222222,
             "#7201a8"
            ],
            [
             0.3333333333333333,
             "#9c179e"
            ],
            [
             0.4444444444444444,
             "#bd3786"
            ],
            [
             0.5555555555555556,
             "#d8576b"
            ],
            [
             0.6666666666666666,
             "#ed7953"
            ],
            [
             0.7777777777777778,
             "#fb9f3a"
            ],
            [
             0.8888888888888888,
             "#fdca26"
            ],
            [
             1,
             "#f0f921"
            ]
           ],
           "sequentialminus": [
            [
             0,
             "#0d0887"
            ],
            [
             0.1111111111111111,
             "#46039f"
            ],
            [
             0.2222222222222222,
             "#7201a8"
            ],
            [
             0.3333333333333333,
             "#9c179e"
            ],
            [
             0.4444444444444444,
             "#bd3786"
            ],
            [
             0.5555555555555556,
             "#d8576b"
            ],
            [
             0.6666666666666666,
             "#ed7953"
            ],
            [
             0.7777777777777778,
             "#fb9f3a"
            ],
            [
             0.8888888888888888,
             "#fdca26"
            ],
            [
             1,
             "#f0f921"
            ]
           ]
          },
          "colorway": [
           "#636efa",
           "#EF553B",
           "#00cc96",
           "#ab63fa",
           "#FFA15A",
           "#19d3f3",
           "#FF6692",
           "#B6E880",
           "#FF97FF",
           "#FECB52"
          ],
          "font": {
           "color": "#2a3f5f"
          },
          "geo": {
           "bgcolor": "white",
           "lakecolor": "white",
           "landcolor": "#E5ECF6",
           "showlakes": true,
           "showland": true,
           "subunitcolor": "white"
          },
          "hoverlabel": {
           "align": "left"
          },
          "hovermode": "closest",
          "mapbox": {
           "style": "light"
          },
          "paper_bgcolor": "white",
          "plot_bgcolor": "#E5ECF6",
          "polar": {
           "angularaxis": {
            "gridcolor": "white",
            "linecolor": "white",
            "ticks": ""
           },
           "bgcolor": "#E5ECF6",
           "radialaxis": {
            "gridcolor": "white",
            "linecolor": "white",
            "ticks": ""
           }
          },
          "scene": {
           "xaxis": {
            "backgroundcolor": "#E5ECF6",
            "gridcolor": "white",
            "gridwidth": 2,
            "linecolor": "white",
            "showbackground": true,
            "ticks": "",
            "zerolinecolor": "white"
           },
           "yaxis": {
            "backgroundcolor": "#E5ECF6",
            "gridcolor": "white",
            "gridwidth": 2,
            "linecolor": "white",
            "showbackground": true,
            "ticks": "",
            "zerolinecolor": "white"
           },
           "zaxis": {
            "backgroundcolor": "#E5ECF6",
            "gridcolor": "white",
            "gridwidth": 2,
            "linecolor": "white",
            "showbackground": true,
            "ticks": "",
            "zerolinecolor": "white"
           }
          },
          "shapedefaults": {
           "line": {
            "color": "#2a3f5f"
           }
          },
          "ternary": {
           "aaxis": {
            "gridcolor": "white",
            "linecolor": "white",
            "ticks": ""
           },
           "baxis": {
            "gridcolor": "white",
            "linecolor": "white",
            "ticks": ""
           },
           "bgcolor": "#E5ECF6",
           "caxis": {
            "gridcolor": "white",
            "linecolor": "white",
            "ticks": ""
           }
          },
          "title": {
           "x": 0.05
          },
          "xaxis": {
           "automargin": true,
           "gridcolor": "white",
           "linecolor": "white",
           "ticks": "",
           "title": {
            "standoff": 15
           },
           "zerolinecolor": "white",
           "zerolinewidth": 2
          },
          "yaxis": {
           "automargin": true,
           "gridcolor": "white",
           "linecolor": "white",
           "ticks": "",
           "title": {
            "standoff": 15
           },
           "zerolinecolor": "white",
           "zerolinewidth": 2
          }
         }
        },
        "title": {
         "text": "Population covered within 5 minutes walk from station"
        },
        "xaxis": {
         "anchor": "y",
         "categoryorder": "total ascending",
         "domain": [
          0,
          1
         ],
         "title": {
          "text": "Lines"
         }
        },
        "yaxis": {
         "anchor": "x",
         "domain": [
          0,
          1
         ],
         "title": {
          "text": "avg of Population Coverage"
         }
        }
       }
      }
     },
     "metadata": {},
     "output_type": "display_data"
    },
    {
     "data": {
      "application/vnd.plotly.v1+json": {
       "config": {
        "plotlyServerURL": "https://plot.ly"
       },
       "data": [
        {
         "alignmentgroup": "True",
         "bingroup": "x",
         "histfunc": "avg",
         "hovertemplate": "Lines=%{x}<br>avg of Population Coverage=%{y}<extra></extra>",
         "legendgroup": "",
         "marker": {
          "color": "#636efa"
         },
         "name": "",
         "offsetgroup": "",
         "orientation": "v",
         "showlegend": false,
         "type": "histogram",
         "x": [
          "Ampang Line",
          "Ampang Line",
          "Ampang Line",
          "Ampang Line",
          "Ampang Line",
          "Ampang Line",
          "Ampang Line",
          "Ampang Line",
          "Ampang Line",
          "Ampang Line",
          "Ampang Line",
          "Ampang Line",
          "Ampang Line",
          "Ampang Line",
          "Ampang Line",
          "Ampang Line",
          "Ampang Line",
          "Ampang Line",
          "Sri Petaling Line",
          "Sri Petaling Line",
          "Sri Petaling Line",
          "Sri Petaling Line",
          "Sri Petaling Line",
          "Sri Petaling Line",
          "Sri Petaling Line",
          "Sri Petaling Line",
          "Sri Petaling Line",
          "Sri Petaling Line",
          "Sri Petaling Line",
          "Sri Petaling Line",
          "Sri Petaling Line",
          "Sri Petaling Line",
          "Sri Petaling Line",
          "Sri Petaling Line",
          "Sri Petaling Line",
          "Sri Petaling Line",
          "Sri Petaling Line",
          "Sri Petaling Line",
          "Sri Petaling Line",
          "Sri Petaling Line",
          "Sri Petaling Line",
          "Sri Petaling Line",
          "Sri Petaling Line",
          "Sri Petaling Line",
          "Sri Petaling Line",
          "Sri Petaling Line",
          "Sri Petaling Line",
          "Kelana Jaya Line",
          "Kelana Jaya Line",
          "Kelana Jaya Line",
          "Kelana Jaya Line",
          "Kelana Jaya Line",
          "Kelana Jaya Line",
          "Kelana Jaya Line",
          "Kelana Jaya Line",
          "Kelana Jaya Line",
          "Kelana Jaya Line",
          "Kelana Jaya Line",
          "Kelana Jaya Line",
          "Kelana Jaya Line",
          "Kelana Jaya Line",
          "Kelana Jaya Line",
          "Kelana Jaya Line",
          "Kelana Jaya Line",
          "Kelana Jaya Line",
          "Kelana Jaya Line",
          "Kelana Jaya Line",
          "Kelana Jaya Line",
          "Kelana Jaya Line",
          "Kelana Jaya Line",
          "Kelana Jaya Line",
          "Kelana Jaya Line",
          "Kelana Jaya Line",
          "Kelana Jaya Line",
          "Kelana Jaya Line",
          "Kelana Jaya Line",
          "Kelana Jaya Line",
          "Kelana Jaya Line",
          "Kelana Jaya Line",
          "Kelana Jaya Line",
          "Kelana Jaya Line",
          "Kelana Jaya Line",
          "Kelana Jaya Line",
          "Kelana Jaya Line",
          "KL Monorail Line",
          "KL Monorail Line",
          "KL Monorail Line",
          "KL Monorail Line",
          "KL Monorail Line",
          "KL Monorail Line",
          "KL Monorail Line",
          "KL Monorail Line",
          "KL Monorail Line",
          "KL Monorail Line",
          "KL Monorail Line",
          "MRT Sungai Buloh - Kajang Line",
          "MRT Sungai Buloh - Kajang Line",
          "MRT Sungai Buloh - Kajang Line",
          "MRT Sungai Buloh - Kajang Line",
          "MRT Sungai Buloh - Kajang Line",
          "MRT Sungai Buloh - Kajang Line",
          "MRT Sungai Buloh - Kajang Line",
          "MRT Sungai Buloh - Kajang Line",
          "MRT Sungai Buloh - Kajang Line",
          "MRT Sungai Buloh - Kajang Line",
          "MRT Sungai Buloh - Kajang Line",
          "MRT Sungai Buloh - Kajang Line",
          "MRT Sungai Buloh - Kajang Line",
          "MRT Sungai Buloh - Kajang Line",
          "MRT Sungai Buloh - Kajang Line",
          "MRT Sungai Buloh - Kajang Line",
          "MRT Sungai Buloh - Kajang Line",
          "MRT Sungai Buloh - Kajang Line",
          "MRT Sungai Buloh - Kajang Line",
          "MRT Sungai Buloh - Kajang Line",
          "MRT Sungai Buloh - Kajang Line",
          "MRT Sungai Buloh - Kajang Line",
          "MRT Sungai Buloh - Kajang Line",
          "MRT Sungai Buloh - Kajang Line",
          "MRT Sungai Buloh - Kajang Line",
          "MRT Sungai Buloh - Kajang Line",
          "MRT Sungai Buloh - Kajang Line",
          "MRT Sungai Buloh - Kajang Line",
          "MRT Sungai Buloh - Kajang Line",
          "MRT Sungai Buloh - Kajang Line",
          "MRT Sungai Buloh - Kajang Line"
         ],
         "xaxis": "x",
         "y": [
          7710,
          5572,
          8555,
          9015,
          7814,
          7021,
          10523,
          5363,
          9011,
          7523,
          5440,
          4121,
          6732,
          6886,
          17935,
          14500,
          12773,
          11958,
          2387,
          9582,
          13636,
          8462,
          4341,
          8350,
          5500,
          5237,
          7929,
          7294,
          5837,
          5509,
          10726,
          7710,
          5572,
          8555,
          9015,
          7814,
          7021,
          10523,
          5363,
          9011,
          4385,
          6322,
          3682,
          7523,
          4063,
          4411,
          5440,
          702,
          1674,
          2513,
          4671,
          8706,
          6919,
          3654,
          2946,
          7783,
          8545,
          3721,
          2303,
          7382,
          7588,
          10379,
          5641,
          4550,
          4477,
          7870,
          9145,
          3827,
          7720,
          7646,
          7012,
          11635,
          6810,
          6545,
          8305,
          6811,
          17809,
          2927,
          3987,
          4834,
          9108,
          8618,
          8359,
          6286,
          6876,
          6492,
          7344,
          11278,
          9566,
          4607,
          9177,
          6558,
          9273,
          11360,
          10857,
          719,
          1116,
          3837,
          4860,
          2132,
          6108,
          8722,
          2452,
          7735,
          4223,
          5471,
          5398,
          4487,
          7663,
          6259,
          10833,
          3455,
          9109,
          9829,
          10667,
          8497,
          8274,
          3270,
          6190,
          3203,
          5933,
          5642,
          3502,
          5738,
          6762,
          4705
         ],
         "yaxis": "y"
        }
       ],
       "layout": {
        "barmode": "group",
        "legend": {
         "tracegroupgap": 0
        },
        "showlegend": false,
        "template": {
         "data": {
          "bar": [
           {
            "error_x": {
             "color": "#2a3f5f"
            },
            "error_y": {
             "color": "#2a3f5f"
            },
            "marker": {
             "line": {
              "color": "#E5ECF6",
              "width": 0.5
             }
            },
            "type": "bar"
           }
          ],
          "barpolar": [
           {
            "marker": {
             "line": {
              "color": "#E5ECF6",
              "width": 0.5
             }
            },
            "type": "barpolar"
           }
          ],
          "carpet": [
           {
            "aaxis": {
             "endlinecolor": "#2a3f5f",
             "gridcolor": "white",
             "linecolor": "white",
             "minorgridcolor": "white",
             "startlinecolor": "#2a3f5f"
            },
            "baxis": {
             "endlinecolor": "#2a3f5f",
             "gridcolor": "white",
             "linecolor": "white",
             "minorgridcolor": "white",
             "startlinecolor": "#2a3f5f"
            },
            "type": "carpet"
           }
          ],
          "choropleth": [
           {
            "colorbar": {
             "outlinewidth": 0,
             "ticks": ""
            },
            "type": "choropleth"
           }
          ],
          "contour": [
           {
            "colorbar": {
             "outlinewidth": 0,
             "ticks": ""
            },
            "colorscale": [
             [
              0,
              "#0d0887"
             ],
             [
              0.1111111111111111,
              "#46039f"
             ],
             [
              0.2222222222222222,
              "#7201a8"
             ],
             [
              0.3333333333333333,
              "#9c179e"
             ],
             [
              0.4444444444444444,
              "#bd3786"
             ],
             [
              0.5555555555555556,
              "#d8576b"
             ],
             [
              0.6666666666666666,
              "#ed7953"
             ],
             [
              0.7777777777777778,
              "#fb9f3a"
             ],
             [
              0.8888888888888888,
              "#fdca26"
             ],
             [
              1,
              "#f0f921"
             ]
            ],
            "type": "contour"
           }
          ],
          "contourcarpet": [
           {
            "colorbar": {
             "outlinewidth": 0,
             "ticks": ""
            },
            "type": "contourcarpet"
           }
          ],
          "heatmap": [
           {
            "colorbar": {
             "outlinewidth": 0,
             "ticks": ""
            },
            "colorscale": [
             [
              0,
              "#0d0887"
             ],
             [
              0.1111111111111111,
              "#46039f"
             ],
             [
              0.2222222222222222,
              "#7201a8"
             ],
             [
              0.3333333333333333,
              "#9c179e"
             ],
             [
              0.4444444444444444,
              "#bd3786"
             ],
             [
              0.5555555555555556,
              "#d8576b"
             ],
             [
              0.6666666666666666,
              "#ed7953"
             ],
             [
              0.7777777777777778,
              "#fb9f3a"
             ],
             [
              0.8888888888888888,
              "#fdca26"
             ],
             [
              1,
              "#f0f921"
             ]
            ],
            "type": "heatmap"
           }
          ],
          "heatmapgl": [
           {
            "colorbar": {
             "outlinewidth": 0,
             "ticks": ""
            },
            "colorscale": [
             [
              0,
              "#0d0887"
             ],
             [
              0.1111111111111111,
              "#46039f"
             ],
             [
              0.2222222222222222,
              "#7201a8"
             ],
             [
              0.3333333333333333,
              "#9c179e"
             ],
             [
              0.4444444444444444,
              "#bd3786"
             ],
             [
              0.5555555555555556,
              "#d8576b"
             ],
             [
              0.6666666666666666,
              "#ed7953"
             ],
             [
              0.7777777777777778,
              "#fb9f3a"
             ],
             [
              0.8888888888888888,
              "#fdca26"
             ],
             [
              1,
              "#f0f921"
             ]
            ],
            "type": "heatmapgl"
           }
          ],
          "histogram": [
           {
            "marker": {
             "colorbar": {
              "outlinewidth": 0,
              "ticks": ""
             }
            },
            "type": "histogram"
           }
          ],
          "histogram2d": [
           {
            "colorbar": {
             "outlinewidth": 0,
             "ticks": ""
            },
            "colorscale": [
             [
              0,
              "#0d0887"
             ],
             [
              0.1111111111111111,
              "#46039f"
             ],
             [
              0.2222222222222222,
              "#7201a8"
             ],
             [
              0.3333333333333333,
              "#9c179e"
             ],
             [
              0.4444444444444444,
              "#bd3786"
             ],
             [
              0.5555555555555556,
              "#d8576b"
             ],
             [
              0.6666666666666666,
              "#ed7953"
             ],
             [
              0.7777777777777778,
              "#fb9f3a"
             ],
             [
              0.8888888888888888,
              "#fdca26"
             ],
             [
              1,
              "#f0f921"
             ]
            ],
            "type": "histogram2d"
           }
          ],
          "histogram2dcontour": [
           {
            "colorbar": {
             "outlinewidth": 0,
             "ticks": ""
            },
            "colorscale": [
             [
              0,
              "#0d0887"
             ],
             [
              0.1111111111111111,
              "#46039f"
             ],
             [
              0.2222222222222222,
              "#7201a8"
             ],
             [
              0.3333333333333333,
              "#9c179e"
             ],
             [
              0.4444444444444444,
              "#bd3786"
             ],
             [
              0.5555555555555556,
              "#d8576b"
             ],
             [
              0.6666666666666666,
              "#ed7953"
             ],
             [
              0.7777777777777778,
              "#fb9f3a"
             ],
             [
              0.8888888888888888,
              "#fdca26"
             ],
             [
              1,
              "#f0f921"
             ]
            ],
            "type": "histogram2dcontour"
           }
          ],
          "mesh3d": [
           {
            "colorbar": {
             "outlinewidth": 0,
             "ticks": ""
            },
            "type": "mesh3d"
           }
          ],
          "parcoords": [
           {
            "line": {
             "colorbar": {
              "outlinewidth": 0,
              "ticks": ""
             }
            },
            "type": "parcoords"
           }
          ],
          "pie": [
           {
            "automargin": true,
            "type": "pie"
           }
          ],
          "scatter": [
           {
            "marker": {
             "colorbar": {
              "outlinewidth": 0,
              "ticks": ""
             }
            },
            "type": "scatter"
           }
          ],
          "scatter3d": [
           {
            "line": {
             "colorbar": {
              "outlinewidth": 0,
              "ticks": ""
             }
            },
            "marker": {
             "colorbar": {
              "outlinewidth": 0,
              "ticks": ""
             }
            },
            "type": "scatter3d"
           }
          ],
          "scattercarpet": [
           {
            "marker": {
             "colorbar": {
              "outlinewidth": 0,
              "ticks": ""
             }
            },
            "type": "scattercarpet"
           }
          ],
          "scattergeo": [
           {
            "marker": {
             "colorbar": {
              "outlinewidth": 0,
              "ticks": ""
             }
            },
            "type": "scattergeo"
           }
          ],
          "scattergl": [
           {
            "marker": {
             "colorbar": {
              "outlinewidth": 0,
              "ticks": ""
             }
            },
            "type": "scattergl"
           }
          ],
          "scattermapbox": [
           {
            "marker": {
             "colorbar": {
              "outlinewidth": 0,
              "ticks": ""
             }
            },
            "type": "scattermapbox"
           }
          ],
          "scatterpolar": [
           {
            "marker": {
             "colorbar": {
              "outlinewidth": 0,
              "ticks": ""
             }
            },
            "type": "scatterpolar"
           }
          ],
          "scatterpolargl": [
           {
            "marker": {
             "colorbar": {
              "outlinewidth": 0,
              "ticks": ""
             }
            },
            "type": "scatterpolargl"
           }
          ],
          "scatterternary": [
           {
            "marker": {
             "colorbar": {
              "outlinewidth": 0,
              "ticks": ""
             }
            },
            "type": "scatterternary"
           }
          ],
          "surface": [
           {
            "colorbar": {
             "outlinewidth": 0,
             "ticks": ""
            },
            "colorscale": [
             [
              0,
              "#0d0887"
             ],
             [
              0.1111111111111111,
              "#46039f"
             ],
             [
              0.2222222222222222,
              "#7201a8"
             ],
             [
              0.3333333333333333,
              "#9c179e"
             ],
             [
              0.4444444444444444,
              "#bd3786"
             ],
             [
              0.5555555555555556,
              "#d8576b"
             ],
             [
              0.6666666666666666,
              "#ed7953"
             ],
             [
              0.7777777777777778,
              "#fb9f3a"
             ],
             [
              0.8888888888888888,
              "#fdca26"
             ],
             [
              1,
              "#f0f921"
             ]
            ],
            "type": "surface"
           }
          ],
          "table": [
           {
            "cells": {
             "fill": {
              "color": "#EBF0F8"
             },
             "line": {
              "color": "white"
             }
            },
            "header": {
             "fill": {
              "color": "#C8D4E3"
             },
             "line": {
              "color": "white"
             }
            },
            "type": "table"
           }
          ]
         },
         "layout": {
          "annotationdefaults": {
           "arrowcolor": "#2a3f5f",
           "arrowhead": 0,
           "arrowwidth": 1
          },
          "coloraxis": {
           "colorbar": {
            "outlinewidth": 0,
            "ticks": ""
           }
          },
          "colorscale": {
           "diverging": [
            [
             0,
             "#8e0152"
            ],
            [
             0.1,
             "#c51b7d"
            ],
            [
             0.2,
             "#de77ae"
            ],
            [
             0.3,
             "#f1b6da"
            ],
            [
             0.4,
             "#fde0ef"
            ],
            [
             0.5,
             "#f7f7f7"
            ],
            [
             0.6,
             "#e6f5d0"
            ],
            [
             0.7,
             "#b8e186"
            ],
            [
             0.8,
             "#7fbc41"
            ],
            [
             0.9,
             "#4d9221"
            ],
            [
             1,
             "#276419"
            ]
           ],
           "sequential": [
            [
             0,
             "#0d0887"
            ],
            [
             0.1111111111111111,
             "#46039f"
            ],
            [
             0.2222222222222222,
             "#7201a8"
            ],
            [
             0.3333333333333333,
             "#9c179e"
            ],
            [
             0.4444444444444444,
             "#bd3786"
            ],
            [
             0.5555555555555556,
             "#d8576b"
            ],
            [
             0.6666666666666666,
             "#ed7953"
            ],
            [
             0.7777777777777778,
             "#fb9f3a"
            ],
            [
             0.8888888888888888,
             "#fdca26"
            ],
            [
             1,
             "#f0f921"
            ]
           ],
           "sequentialminus": [
            [
             0,
             "#0d0887"
            ],
            [
             0.1111111111111111,
             "#46039f"
            ],
            [
             0.2222222222222222,
             "#7201a8"
            ],
            [
             0.3333333333333333,
             "#9c179e"
            ],
            [
             0.4444444444444444,
             "#bd3786"
            ],
            [
             0.5555555555555556,
             "#d8576b"
            ],
            [
             0.6666666666666666,
             "#ed7953"
            ],
            [
             0.7777777777777778,
             "#fb9f3a"
            ],
            [
             0.8888888888888888,
             "#fdca26"
            ],
            [
             1,
             "#f0f921"
            ]
           ]
          },
          "colorway": [
           "#636efa",
           "#EF553B",
           "#00cc96",
           "#ab63fa",
           "#FFA15A",
           "#19d3f3",
           "#FF6692",
           "#B6E880",
           "#FF97FF",
           "#FECB52"
          ],
          "font": {
           "color": "#2a3f5f"
          },
          "geo": {
           "bgcolor": "white",
           "lakecolor": "white",
           "landcolor": "#E5ECF6",
           "showlakes": true,
           "showland": true,
           "subunitcolor": "white"
          },
          "hoverlabel": {
           "align": "left"
          },
          "hovermode": "closest",
          "mapbox": {
           "style": "light"
          },
          "paper_bgcolor": "white",
          "plot_bgcolor": "#E5ECF6",
          "polar": {
           "angularaxis": {
            "gridcolor": "white",
            "linecolor": "white",
            "ticks": ""
           },
           "bgcolor": "#E5ECF6",
           "radialaxis": {
            "gridcolor": "white",
            "linecolor": "white",
            "ticks": ""
           }
          },
          "scene": {
           "xaxis": {
            "backgroundcolor": "#E5ECF6",
            "gridcolor": "white",
            "gridwidth": 2,
            "linecolor": "white",
            "showbackground": true,
            "ticks": "",
            "zerolinecolor": "white"
           },
           "yaxis": {
            "backgroundcolor": "#E5ECF6",
            "gridcolor": "white",
            "gridwidth": 2,
            "linecolor": "white",
            "showbackground": true,
            "ticks": "",
            "zerolinecolor": "white"
           },
           "zaxis": {
            "backgroundcolor": "#E5ECF6",
            "gridcolor": "white",
            "gridwidth": 2,
            "linecolor": "white",
            "showbackground": true,
            "ticks": "",
            "zerolinecolor": "white"
           }
          },
          "shapedefaults": {
           "line": {
            "color": "#2a3f5f"
           }
          },
          "ternary": {
           "aaxis": {
            "gridcolor": "white",
            "linecolor": "white",
            "ticks": ""
           },
           "baxis": {
            "gridcolor": "white",
            "linecolor": "white",
            "ticks": ""
           },
           "bgcolor": "#E5ECF6",
           "caxis": {
            "gridcolor": "white",
            "linecolor": "white",
            "ticks": ""
           }
          },
          "title": {
           "x": 0.05
          },
          "xaxis": {
           "automargin": true,
           "gridcolor": "white",
           "linecolor": "white",
           "ticks": "",
           "title": {
            "standoff": 15
           },
           "zerolinecolor": "white",
           "zerolinewidth": 2
          },
          "yaxis": {
           "automargin": true,
           "gridcolor": "white",
           "linecolor": "white",
           "ticks": "",
           "title": {
            "standoff": 15
           },
           "zerolinecolor": "white",
           "zerolinewidth": 2
          }
         }
        },
        "title": {
         "text": "Population coverage within 10 minutes walk from station"
        },
        "xaxis": {
         "anchor": "y",
         "categoryorder": "total ascending",
         "domain": [
          0,
          1
         ],
         "title": {
          "text": "Lines"
         }
        },
        "yaxis": {
         "anchor": "x",
         "domain": [
          0,
          1
         ],
         "title": {
          "text": "avg of Population Coverage"
         }
        }
       }
      }
     },
     "metadata": {},
     "output_type": "display_data"
    },
    {
     "data": {
      "application/vnd.plotly.v1+json": {
       "config": {
        "plotlyServerURL": "https://plot.ly"
       },
       "data": [
        {
         "alignmentgroup": "True",
         "bingroup": "x",
         "histfunc": "avg",
         "hovertemplate": "Lines=%{x}<br>avg of Population Coverage=%{y}<extra></extra>",
         "legendgroup": "",
         "marker": {
          "color": "#636efa"
         },
         "name": "",
         "offsetgroup": "",
         "orientation": "v",
         "showlegend": false,
         "type": "histogram",
         "x": [
          "Ampang Line",
          "Ampang Line",
          "Ampang Line",
          "Ampang Line",
          "Ampang Line",
          "Ampang Line",
          "Ampang Line",
          "Ampang Line",
          "Ampang Line",
          "Ampang Line",
          "Ampang Line",
          "Ampang Line",
          "Ampang Line",
          "Ampang Line",
          "Ampang Line",
          "Ampang Line",
          "Ampang Line",
          "Ampang Line",
          "Sri Petaling Line",
          "Sri Petaling Line",
          "Sri Petaling Line",
          "Sri Petaling Line",
          "Sri Petaling Line",
          "Sri Petaling Line",
          "Sri Petaling Line",
          "Sri Petaling Line",
          "Sri Petaling Line",
          "Sri Petaling Line",
          "Sri Petaling Line",
          "Sri Petaling Line",
          "Sri Petaling Line",
          "Sri Petaling Line",
          "Sri Petaling Line",
          "Sri Petaling Line",
          "Sri Petaling Line",
          "Sri Petaling Line",
          "Sri Petaling Line",
          "Sri Petaling Line",
          "Sri Petaling Line",
          "Sri Petaling Line",
          "Sri Petaling Line",
          "Sri Petaling Line",
          "Sri Petaling Line",
          "Sri Petaling Line",
          "Sri Petaling Line",
          "Sri Petaling Line",
          "Sri Petaling Line",
          "Kelana Jaya Line",
          "Kelana Jaya Line",
          "Kelana Jaya Line",
          "Kelana Jaya Line",
          "Kelana Jaya Line",
          "Kelana Jaya Line",
          "Kelana Jaya Line",
          "Kelana Jaya Line",
          "Kelana Jaya Line",
          "Kelana Jaya Line",
          "Kelana Jaya Line",
          "Kelana Jaya Line",
          "Kelana Jaya Line",
          "Kelana Jaya Line",
          "Kelana Jaya Line",
          "Kelana Jaya Line",
          "Kelana Jaya Line",
          "Kelana Jaya Line",
          "Kelana Jaya Line",
          "Kelana Jaya Line",
          "Kelana Jaya Line",
          "Kelana Jaya Line",
          "Kelana Jaya Line",
          "Kelana Jaya Line",
          "Kelana Jaya Line",
          "Kelana Jaya Line",
          "Kelana Jaya Line",
          "Kelana Jaya Line",
          "Kelana Jaya Line",
          "Kelana Jaya Line",
          "Kelana Jaya Line",
          "Kelana Jaya Line",
          "Kelana Jaya Line",
          "Kelana Jaya Line",
          "Kelana Jaya Line",
          "Kelana Jaya Line",
          "Kelana Jaya Line",
          "KL Monorail Line",
          "KL Monorail Line",
          "KL Monorail Line",
          "KL Monorail Line",
          "KL Monorail Line",
          "KL Monorail Line",
          "KL Monorail Line",
          "KL Monorail Line",
          "KL Monorail Line",
          "KL Monorail Line",
          "KL Monorail Line",
          "MRT Sungai Buloh - Kajang Line",
          "MRT Sungai Buloh - Kajang Line",
          "MRT Sungai Buloh - Kajang Line",
          "MRT Sungai Buloh - Kajang Line",
          "MRT Sungai Buloh - Kajang Line",
          "MRT Sungai Buloh - Kajang Line",
          "MRT Sungai Buloh - Kajang Line",
          "MRT Sungai Buloh - Kajang Line",
          "MRT Sungai Buloh - Kajang Line",
          "MRT Sungai Buloh - Kajang Line",
          "MRT Sungai Buloh - Kajang Line",
          "MRT Sungai Buloh - Kajang Line",
          "MRT Sungai Buloh - Kajang Line",
          "MRT Sungai Buloh - Kajang Line",
          "MRT Sungai Buloh - Kajang Line",
          "MRT Sungai Buloh - Kajang Line",
          "MRT Sungai Buloh - Kajang Line",
          "MRT Sungai Buloh - Kajang Line",
          "MRT Sungai Buloh - Kajang Line",
          "MRT Sungai Buloh - Kajang Line",
          "MRT Sungai Buloh - Kajang Line",
          "MRT Sungai Buloh - Kajang Line",
          "MRT Sungai Buloh - Kajang Line",
          "MRT Sungai Buloh - Kajang Line",
          "MRT Sungai Buloh - Kajang Line",
          "MRT Sungai Buloh - Kajang Line",
          "MRT Sungai Buloh - Kajang Line",
          "MRT Sungai Buloh - Kajang Line",
          "MRT Sungai Buloh - Kajang Line",
          "MRT Sungai Buloh - Kajang Line",
          "MRT Sungai Buloh - Kajang Line"
         ],
         "xaxis": "x",
         "y": [
          16554,
          15104,
          20457,
          21377,
          16574,
          17712,
          22370,
          14307,
          21086,
          19977,
          15394,
          12314,
          18943,
          16566,
          40666,
          38505,
          34832,
          30937,
          5666,
          16990,
          25927,
          15410,
          8805,
          17657,
          12116,
          14465,
          14499,
          14781,
          10761,
          13889,
          17209,
          16554,
          15104,
          20457,
          21377,
          16574,
          17712,
          22370,
          14307,
          21086,
          8721,
          12776,
          9890,
          19977,
          8068,
          10629,
          15394,
          4281,
          3130,
          5894,
          10137,
          15830,
          16929,
          6935,
          7486,
          17231,
          17672,
          8260,
          7808,
          18028,
          18602,
          24796,
          17305,
          12033,
          11077,
          14232,
          17653,
          12063,
          19391,
          14774,
          18749,
          22995,
          17013,
          18467,
          19607,
          15524,
          37835,
          10573,
          13043,
          14998,
          19682,
          20997,
          19359,
          18481,
          15278,
          13569,
          19530,
          24638,
          20691,
          14554,
          22770,
          18375,
          22631,
          23057,
          23894,
          3570,
          4018,
          10650,
          13078,
          6188,
          15335,
          17932,
          8946,
          15286,
          9265,
          15246,
          12014,
          12526,
          19341,
          16047,
          23359,
          10160,
          19656,
          21947,
          21264,
          21709,
          20585,
          7640,
          12308,
          6703,
          11032,
          9647,
          8779,
          10854,
          18142,
          7102
         ],
         "yaxis": "y"
        }
       ],
       "layout": {
        "barmode": "group",
        "legend": {
         "tracegroupgap": 0
        },
        "showlegend": false,
        "template": {
         "data": {
          "bar": [
           {
            "error_x": {
             "color": "#2a3f5f"
            },
            "error_y": {
             "color": "#2a3f5f"
            },
            "marker": {
             "line": {
              "color": "#E5ECF6",
              "width": 0.5
             }
            },
            "type": "bar"
           }
          ],
          "barpolar": [
           {
            "marker": {
             "line": {
              "color": "#E5ECF6",
              "width": 0.5
             }
            },
            "type": "barpolar"
           }
          ],
          "carpet": [
           {
            "aaxis": {
             "endlinecolor": "#2a3f5f",
             "gridcolor": "white",
             "linecolor": "white",
             "minorgridcolor": "white",
             "startlinecolor": "#2a3f5f"
            },
            "baxis": {
             "endlinecolor": "#2a3f5f",
             "gridcolor": "white",
             "linecolor": "white",
             "minorgridcolor": "white",
             "startlinecolor": "#2a3f5f"
            },
            "type": "carpet"
           }
          ],
          "choropleth": [
           {
            "colorbar": {
             "outlinewidth": 0,
             "ticks": ""
            },
            "type": "choropleth"
           }
          ],
          "contour": [
           {
            "colorbar": {
             "outlinewidth": 0,
             "ticks": ""
            },
            "colorscale": [
             [
              0,
              "#0d0887"
             ],
             [
              0.1111111111111111,
              "#46039f"
             ],
             [
              0.2222222222222222,
              "#7201a8"
             ],
             [
              0.3333333333333333,
              "#9c179e"
             ],
             [
              0.4444444444444444,
              "#bd3786"
             ],
             [
              0.5555555555555556,
              "#d8576b"
             ],
             [
              0.6666666666666666,
              "#ed7953"
             ],
             [
              0.7777777777777778,
              "#fb9f3a"
             ],
             [
              0.8888888888888888,
              "#fdca26"
             ],
             [
              1,
              "#f0f921"
             ]
            ],
            "type": "contour"
           }
          ],
          "contourcarpet": [
           {
            "colorbar": {
             "outlinewidth": 0,
             "ticks": ""
            },
            "type": "contourcarpet"
           }
          ],
          "heatmap": [
           {
            "colorbar": {
             "outlinewidth": 0,
             "ticks": ""
            },
            "colorscale": [
             [
              0,
              "#0d0887"
             ],
             [
              0.1111111111111111,
              "#46039f"
             ],
             [
              0.2222222222222222,
              "#7201a8"
             ],
             [
              0.3333333333333333,
              "#9c179e"
             ],
             [
              0.4444444444444444,
              "#bd3786"
             ],
             [
              0.5555555555555556,
              "#d8576b"
             ],
             [
              0.6666666666666666,
              "#ed7953"
             ],
             [
              0.7777777777777778,
              "#fb9f3a"
             ],
             [
              0.8888888888888888,
              "#fdca26"
             ],
             [
              1,
              "#f0f921"
             ]
            ],
            "type": "heatmap"
           }
          ],
          "heatmapgl": [
           {
            "colorbar": {
             "outlinewidth": 0,
             "ticks": ""
            },
            "colorscale": [
             [
              0,
              "#0d0887"
             ],
             [
              0.1111111111111111,
              "#46039f"
             ],
             [
              0.2222222222222222,
              "#7201a8"
             ],
             [
              0.3333333333333333,
              "#9c179e"
             ],
             [
              0.4444444444444444,
              "#bd3786"
             ],
             [
              0.5555555555555556,
              "#d8576b"
             ],
             [
              0.6666666666666666,
              "#ed7953"
             ],
             [
              0.7777777777777778,
              "#fb9f3a"
             ],
             [
              0.8888888888888888,
              "#fdca26"
             ],
             [
              1,
              "#f0f921"
             ]
            ],
            "type": "heatmapgl"
           }
          ],
          "histogram": [
           {
            "marker": {
             "colorbar": {
              "outlinewidth": 0,
              "ticks": ""
             }
            },
            "type": "histogram"
           }
          ],
          "histogram2d": [
           {
            "colorbar": {
             "outlinewidth": 0,
             "ticks": ""
            },
            "colorscale": [
             [
              0,
              "#0d0887"
             ],
             [
              0.1111111111111111,
              "#46039f"
             ],
             [
              0.2222222222222222,
              "#7201a8"
             ],
             [
              0.3333333333333333,
              "#9c179e"
             ],
             [
              0.4444444444444444,
              "#bd3786"
             ],
             [
              0.5555555555555556,
              "#d8576b"
             ],
             [
              0.6666666666666666,
              "#ed7953"
             ],
             [
              0.7777777777777778,
              "#fb9f3a"
             ],
             [
              0.8888888888888888,
              "#fdca26"
             ],
             [
              1,
              "#f0f921"
             ]
            ],
            "type": "histogram2d"
           }
          ],
          "histogram2dcontour": [
           {
            "colorbar": {
             "outlinewidth": 0,
             "ticks": ""
            },
            "colorscale": [
             [
              0,
              "#0d0887"
             ],
             [
              0.1111111111111111,
              "#46039f"
             ],
             [
              0.2222222222222222,
              "#7201a8"
             ],
             [
              0.3333333333333333,
              "#9c179e"
             ],
             [
              0.4444444444444444,
              "#bd3786"
             ],
             [
              0.5555555555555556,
              "#d8576b"
             ],
             [
              0.6666666666666666,
              "#ed7953"
             ],
             [
              0.7777777777777778,
              "#fb9f3a"
             ],
             [
              0.8888888888888888,
              "#fdca26"
             ],
             [
              1,
              "#f0f921"
             ]
            ],
            "type": "histogram2dcontour"
           }
          ],
          "mesh3d": [
           {
            "colorbar": {
             "outlinewidth": 0,
             "ticks": ""
            },
            "type": "mesh3d"
           }
          ],
          "parcoords": [
           {
            "line": {
             "colorbar": {
              "outlinewidth": 0,
              "ticks": ""
             }
            },
            "type": "parcoords"
           }
          ],
          "pie": [
           {
            "automargin": true,
            "type": "pie"
           }
          ],
          "scatter": [
           {
            "marker": {
             "colorbar": {
              "outlinewidth": 0,
              "ticks": ""
             }
            },
            "type": "scatter"
           }
          ],
          "scatter3d": [
           {
            "line": {
             "colorbar": {
              "outlinewidth": 0,
              "ticks": ""
             }
            },
            "marker": {
             "colorbar": {
              "outlinewidth": 0,
              "ticks": ""
             }
            },
            "type": "scatter3d"
           }
          ],
          "scattercarpet": [
           {
            "marker": {
             "colorbar": {
              "outlinewidth": 0,
              "ticks": ""
             }
            },
            "type": "scattercarpet"
           }
          ],
          "scattergeo": [
           {
            "marker": {
             "colorbar": {
              "outlinewidth": 0,
              "ticks": ""
             }
            },
            "type": "scattergeo"
           }
          ],
          "scattergl": [
           {
            "marker": {
             "colorbar": {
              "outlinewidth": 0,
              "ticks": ""
             }
            },
            "type": "scattergl"
           }
          ],
          "scattermapbox": [
           {
            "marker": {
             "colorbar": {
              "outlinewidth": 0,
              "ticks": ""
             }
            },
            "type": "scattermapbox"
           }
          ],
          "scatterpolar": [
           {
            "marker": {
             "colorbar": {
              "outlinewidth": 0,
              "ticks": ""
             }
            },
            "type": "scatterpolar"
           }
          ],
          "scatterpolargl": [
           {
            "marker": {
             "colorbar": {
              "outlinewidth": 0,
              "ticks": ""
             }
            },
            "type": "scatterpolargl"
           }
          ],
          "scatterternary": [
           {
            "marker": {
             "colorbar": {
              "outlinewidth": 0,
              "ticks": ""
             }
            },
            "type": "scatterternary"
           }
          ],
          "surface": [
           {
            "colorbar": {
             "outlinewidth": 0,
             "ticks": ""
            },
            "colorscale": [
             [
              0,
              "#0d0887"
             ],
             [
              0.1111111111111111,
              "#46039f"
             ],
             [
              0.2222222222222222,
              "#7201a8"
             ],
             [
              0.3333333333333333,
              "#9c179e"
             ],
             [
              0.4444444444444444,
              "#bd3786"
             ],
             [
              0.5555555555555556,
              "#d8576b"
             ],
             [
              0.6666666666666666,
              "#ed7953"
             ],
             [
              0.7777777777777778,
              "#fb9f3a"
             ],
             [
              0.8888888888888888,
              "#fdca26"
             ],
             [
              1,
              "#f0f921"
             ]
            ],
            "type": "surface"
           }
          ],
          "table": [
           {
            "cells": {
             "fill": {
              "color": "#EBF0F8"
             },
             "line": {
              "color": "white"
             }
            },
            "header": {
             "fill": {
              "color": "#C8D4E3"
             },
             "line": {
              "color": "white"
             }
            },
            "type": "table"
           }
          ]
         },
         "layout": {
          "annotationdefaults": {
           "arrowcolor": "#2a3f5f",
           "arrowhead": 0,
           "arrowwidth": 1
          },
          "coloraxis": {
           "colorbar": {
            "outlinewidth": 0,
            "ticks": ""
           }
          },
          "colorscale": {
           "diverging": [
            [
             0,
             "#8e0152"
            ],
            [
             0.1,
             "#c51b7d"
            ],
            [
             0.2,
             "#de77ae"
            ],
            [
             0.3,
             "#f1b6da"
            ],
            [
             0.4,
             "#fde0ef"
            ],
            [
             0.5,
             "#f7f7f7"
            ],
            [
             0.6,
             "#e6f5d0"
            ],
            [
             0.7,
             "#b8e186"
            ],
            [
             0.8,
             "#7fbc41"
            ],
            [
             0.9,
             "#4d9221"
            ],
            [
             1,
             "#276419"
            ]
           ],
           "sequential": [
            [
             0,
             "#0d0887"
            ],
            [
             0.1111111111111111,
             "#46039f"
            ],
            [
             0.2222222222222222,
             "#7201a8"
            ],
            [
             0.3333333333333333,
             "#9c179e"
            ],
            [
             0.4444444444444444,
             "#bd3786"
            ],
            [
             0.5555555555555556,
             "#d8576b"
            ],
            [
             0.6666666666666666,
             "#ed7953"
            ],
            [
             0.7777777777777778,
             "#fb9f3a"
            ],
            [
             0.8888888888888888,
             "#fdca26"
            ],
            [
             1,
             "#f0f921"
            ]
           ],
           "sequentialminus": [
            [
             0,
             "#0d0887"
            ],
            [
             0.1111111111111111,
             "#46039f"
            ],
            [
             0.2222222222222222,
             "#7201a8"
            ],
            [
             0.3333333333333333,
             "#9c179e"
            ],
            [
             0.4444444444444444,
             "#bd3786"
            ],
            [
             0.5555555555555556,
             "#d8576b"
            ],
            [
             0.6666666666666666,
             "#ed7953"
            ],
            [
             0.7777777777777778,
             "#fb9f3a"
            ],
            [
             0.8888888888888888,
             "#fdca26"
            ],
            [
             1,
             "#f0f921"
            ]
           ]
          },
          "colorway": [
           "#636efa",
           "#EF553B",
           "#00cc96",
           "#ab63fa",
           "#FFA15A",
           "#19d3f3",
           "#FF6692",
           "#B6E880",
           "#FF97FF",
           "#FECB52"
          ],
          "font": {
           "color": "#2a3f5f"
          },
          "geo": {
           "bgcolor": "white",
           "lakecolor": "white",
           "landcolor": "#E5ECF6",
           "showlakes": true,
           "showland": true,
           "subunitcolor": "white"
          },
          "hoverlabel": {
           "align": "left"
          },
          "hovermode": "closest",
          "mapbox": {
           "style": "light"
          },
          "paper_bgcolor": "white",
          "plot_bgcolor": "#E5ECF6",
          "polar": {
           "angularaxis": {
            "gridcolor": "white",
            "linecolor": "white",
            "ticks": ""
           },
           "bgcolor": "#E5ECF6",
           "radialaxis": {
            "gridcolor": "white",
            "linecolor": "white",
            "ticks": ""
           }
          },
          "scene": {
           "xaxis": {
            "backgroundcolor": "#E5ECF6",
            "gridcolor": "white",
            "gridwidth": 2,
            "linecolor": "white",
            "showbackground": true,
            "ticks": "",
            "zerolinecolor": "white"
           },
           "yaxis": {
            "backgroundcolor": "#E5ECF6",
            "gridcolor": "white",
            "gridwidth": 2,
            "linecolor": "white",
            "showbackground": true,
            "ticks": "",
            "zerolinecolor": "white"
           },
           "zaxis": {
            "backgroundcolor": "#E5ECF6",
            "gridcolor": "white",
            "gridwidth": 2,
            "linecolor": "white",
            "showbackground": true,
            "ticks": "",
            "zerolinecolor": "white"
           }
          },
          "shapedefaults": {
           "line": {
            "color": "#2a3f5f"
           }
          },
          "ternary": {
           "aaxis": {
            "gridcolor": "white",
            "linecolor": "white",
            "ticks": ""
           },
           "baxis": {
            "gridcolor": "white",
            "linecolor": "white",
            "ticks": ""
           },
           "bgcolor": "#E5ECF6",
           "caxis": {
            "gridcolor": "white",
            "linecolor": "white",
            "ticks": ""
           }
          },
          "title": {
           "x": 0.05
          },
          "xaxis": {
           "automargin": true,
           "gridcolor": "white",
           "linecolor": "white",
           "ticks": "",
           "title": {
            "standoff": 15
           },
           "zerolinecolor": "white",
           "zerolinewidth": 2
          },
          "yaxis": {
           "automargin": true,
           "gridcolor": "white",
           "linecolor": "white",
           "ticks": "",
           "title": {
            "standoff": 15
           },
           "zerolinecolor": "white",
           "zerolinewidth": 2
          }
         }
        },
        "title": {
         "text": "Population coverage within 15 minutes walk from station"
        },
        "xaxis": {
         "anchor": "y",
         "categoryorder": "total ascending",
         "domain": [
          0,
          1
         ],
         "title": {
          "text": "Lines"
         }
        },
        "yaxis": {
         "anchor": "x",
         "domain": [
          0,
          1
         ],
         "title": {
          "text": "avg of Population Coverage"
         }
        }
       }
      }
     },
     "metadata": {},
     "output_type": "display_data"
    },
    {
     "data": {
      "application/vnd.plotly.v1+json": {
       "config": {
        "plotlyServerURL": "https://plot.ly"
       },
       "data": [
        {
         "alignmentgroup": "True",
         "bingroup": "x",
         "histfunc": "avg",
         "hovertemplate": "variable=5 Minute Population<br>Lines=%{x}<br>avg of Population Coverage=%{y}<extra></extra>",
         "legendgroup": "5 Minute Population",
         "marker": {
          "color": "#636efa"
         },
         "name": "5 Minute Population",
         "offsetgroup": "5 Minute Population",
         "orientation": "v",
         "showlegend": true,
         "type": "histogram",
         "x": [
          "Seremban Line",
          "Seremban Line",
          "Seremban Line",
          "Seremban Line",
          "Seremban Line",
          "Seremban Line",
          "Seremban Line",
          "Seremban Line",
          "Seremban Line",
          "Seremban Line",
          "Seremban Line",
          "Seremban Line",
          "Seremban Line",
          "Seremban Line",
          "Seremban Line",
          "Seremban Line",
          "Seremban Line",
          "Seremban Line",
          "Seremban Line",
          "Seremban Line",
          "Seremban Line",
          "Seremban Line",
          "Seremban Line",
          "Seremban Line",
          "Seremban Line",
          "Seremban Line",
          "Port Klang Line",
          "Port Klang Line",
          "Port Klang Line",
          "Port Klang Line",
          "Port Klang Line",
          "Port Klang Line",
          "Port Klang Line",
          "Port Klang Line",
          "Port Klang Line",
          "Port Klang Line",
          "Port Klang Line",
          "Port Klang Line",
          "Port Klang Line",
          "Port Klang Line",
          "Port Klang Line",
          "Port Klang Line",
          "Port Klang Line",
          "Port Klang Line",
          "Port Klang Line",
          "Port Klang Line",
          "Port Klang Line",
          "Port Klang Line",
          "Port Klang Line",
          "Port Klang Line",
          "Port Klang Line",
          "Port Klang Line",
          "Port Klang Line",
          "Port Klang Line",
          "Port Klang Line",
          "Port Klang Line",
          "Port Klang Line",
          "Port Klang Line",
          "Port Klang Line",
          "Port Klang Line",
          "Ampang Line",
          "Ampang Line",
          "Ampang Line",
          "Ampang Line",
          "Ampang Line",
          "Ampang Line",
          "Ampang Line",
          "Ampang Line",
          "Ampang Line",
          "Ampang Line",
          "Ampang Line",
          "Ampang Line",
          "Ampang Line",
          "Ampang Line",
          "Ampang Line",
          "Ampang Line",
          "Ampang Line",
          "Ampang Line",
          "Sri Petaling Line",
          "Sri Petaling Line",
          "Sri Petaling Line",
          "Sri Petaling Line",
          "Sri Petaling Line",
          "Sri Petaling Line",
          "Sri Petaling Line",
          "Sri Petaling Line",
          "Sri Petaling Line",
          "Sri Petaling Line",
          "Sri Petaling Line",
          "Sri Petaling Line",
          "Sri Petaling Line",
          "Sri Petaling Line",
          "Sri Petaling Line",
          "Sri Petaling Line",
          "Sri Petaling Line",
          "Sri Petaling Line",
          "Sri Petaling Line",
          "Sri Petaling Line",
          "Sri Petaling Line",
          "Sri Petaling Line",
          "Sri Petaling Line",
          "Sri Petaling Line",
          "Sri Petaling Line",
          "Sri Petaling Line",
          "Sri Petaling Line",
          "Sri Petaling Line",
          "Sri Petaling Line",
          "Kelana Jaya Line",
          "Kelana Jaya Line",
          "Kelana Jaya Line",
          "Kelana Jaya Line",
          "Kelana Jaya Line",
          "Kelana Jaya Line",
          "Kelana Jaya Line",
          "Kelana Jaya Line",
          "Kelana Jaya Line",
          "Kelana Jaya Line",
          "Kelana Jaya Line",
          "Kelana Jaya Line",
          "Kelana Jaya Line",
          "Kelana Jaya Line",
          "Kelana Jaya Line",
          "Kelana Jaya Line",
          "Kelana Jaya Line",
          "Kelana Jaya Line",
          "Kelana Jaya Line",
          "Kelana Jaya Line",
          "Kelana Jaya Line",
          "Kelana Jaya Line",
          "Kelana Jaya Line",
          "Kelana Jaya Line",
          "Kelana Jaya Line",
          "Kelana Jaya Line",
          "Kelana Jaya Line",
          "Kelana Jaya Line",
          "Kelana Jaya Line",
          "Kelana Jaya Line",
          "Kelana Jaya Line",
          "Kelana Jaya Line",
          "Kelana Jaya Line",
          "Kelana Jaya Line",
          "Kelana Jaya Line",
          "Kelana Jaya Line",
          "Kelana Jaya Line",
          "KLIA Ekspres",
          "KLIA Ekspres",
          "KLIA Ekspres",
          "KLIA Transit",
          "KLIA Transit",
          "KLIA Transit",
          "KLIA Transit",
          "KLIA Transit",
          "KLIA Transit",
          "KL Monorail Line",
          "KL Monorail Line",
          "KL Monorail Line",
          "KL Monorail Line",
          "KL Monorail Line",
          "KL Monorail Line",
          "KL Monorail Line",
          "KL Monorail Line",
          "KL Monorail Line",
          "KL Monorail Line",
          "KL Monorail Line",
          "MRT Sungai Buloh - Kajang Line",
          "MRT Sungai Buloh - Kajang Line",
          "MRT Sungai Buloh - Kajang Line",
          "MRT Sungai Buloh - Kajang Line",
          "MRT Sungai Buloh - Kajang Line",
          "MRT Sungai Buloh - Kajang Line",
          "MRT Sungai Buloh - Kajang Line",
          "MRT Sungai Buloh - Kajang Line",
          "MRT Sungai Buloh - Kajang Line",
          "MRT Sungai Buloh - Kajang Line",
          "MRT Sungai Buloh - Kajang Line",
          "MRT Sungai Buloh - Kajang Line",
          "MRT Sungai Buloh - Kajang Line",
          "MRT Sungai Buloh - Kajang Line",
          "MRT Sungai Buloh - Kajang Line",
          "MRT Sungai Buloh - Kajang Line",
          "MRT Sungai Buloh - Kajang Line",
          "MRT Sungai Buloh - Kajang Line",
          "MRT Sungai Buloh - Kajang Line",
          "MRT Sungai Buloh - Kajang Line",
          "MRT Sungai Buloh - Kajang Line",
          "MRT Sungai Buloh - Kajang Line",
          "MRT Sungai Buloh - Kajang Line",
          "MRT Sungai Buloh - Kajang Line",
          "MRT Sungai Buloh - Kajang Line",
          "MRT Sungai Buloh - Kajang Line",
          "MRT Sungai Buloh - Kajang Line",
          "MRT Sungai Buloh - Kajang Line",
          "MRT Sungai Buloh - Kajang Line",
          "MRT Sungai Buloh - Kajang Line",
          "MRT Sungai Buloh - Kajang Line",
          "Skypark Link",
          "Skypark Link",
          "Skypark Link",
          "BRT Sunway Line",
          "BRT Sunway Line",
          "BRT Sunway Line",
          "BRT Sunway Line",
          "BRT Sunway Line",
          "BRT Sunway Line",
          "BRT Sunway Line"
         ],
         "xaxis": "x",
         "y": [
          2980,
          1635,
          1951,
          1097,
          1969,
          1815,
          817,
          756,
          1988,
          1712,
          1024,
          606,
          560,
          630,
          565,
          0,
          301,
          347,
          301,
          300,
          723,
          1170,
          496,
          496,
          0,
          1747,
          967,
          428,
          360,
          1004,
          1028,
          629,
          266,
          968,
          167,
          1061,
          716,
          942,
          1003,
          592,
          328,
          837,
          0,
          2539,
          953,
          2603,
          473,
          1066,
          519,
          35,
          325,
          1138,
          1254,
          2267,
          433,
          0,
          756,
          1988,
          1701,
          1747,
          2186,
          845,
          2141,
          3133,
          847,
          1729,
          2248,
          456,
          2779,
          1788,
          456,
          1020,
          892,
          814,
          3618,
          2741,
          1829,
          1832,
          764,
          2655,
          3544,
          2377,
          1288,
          2431,
          1617,
          619,
          1025,
          2955,
          495,
          629,
          2502,
          2186,
          845,
          2141,
          3133,
          847,
          1729,
          2248,
          456,
          2779,
          967,
          1694,
          606,
          1788,
          1076,
          930,
          456,
          0,
          0,
          501,
          754,
          1667,
          1245,
          1069,
          659,
          1939,
          1885,
          631,
          0,
          2002,
          1694,
          2101,
          606,
          1274,
          824,
          2000,
          1555,
          433,
          1785,
          1809,
          1803,
          2254,
          1360,
          910,
          2194,
          1285,
          3353,
          1060,
          906,
          834,
          1767,
          1369,
          2023,
          982,
          4,
          95,
          1822,
          824,
          4,
          95,
          606,
          0,
          1822,
          1822,
          2780,
          1353,
          3169,
          913,
          1053,
          1574,
          345,
          1808,
          1819,
          2258,
          75,
          339,
          443,
          867,
          335,
          1148,
          1333,
          512,
          1440,
          316,
          526,
          1122,
          1031,
          1803,
          1328,
          2258,
          456,
          2227,
          1348,
          2725,
          1124,
          1666,
          1915,
          515,
          502,
          1005,
          1532,
          485,
          1765,
          2222,
          1622,
          515,
          328,
          1822,
          1633,
          1243,
          1338,
          1413,
          2827,
          1134,
          1668
         ],
         "yaxis": "y"
        },
        {
         "alignmentgroup": "True",
         "bingroup": "x",
         "histfunc": "avg",
         "hovertemplate": "variable=10 Minute Population<br>Lines=%{x}<br>avg of Population Coverage=%{y}<extra></extra>",
         "legendgroup": "10 Minute Population",
         "marker": {
          "color": "#EF553B"
         },
         "name": "10 Minute Population",
         "offsetgroup": "10 Minute Population",
         "orientation": "v",
         "showlegend": true,
         "type": "histogram",
         "x": [
          "Seremban Line",
          "Seremban Line",
          "Seremban Line",
          "Seremban Line",
          "Seremban Line",
          "Seremban Line",
          "Seremban Line",
          "Seremban Line",
          "Seremban Line",
          "Seremban Line",
          "Seremban Line",
          "Seremban Line",
          "Seremban Line",
          "Seremban Line",
          "Seremban Line",
          "Seremban Line",
          "Seremban Line",
          "Seremban Line",
          "Seremban Line",
          "Seremban Line",
          "Seremban Line",
          "Seremban Line",
          "Seremban Line",
          "Seremban Line",
          "Seremban Line",
          "Seremban Line",
          "Port Klang Line",
          "Port Klang Line",
          "Port Klang Line",
          "Port Klang Line",
          "Port Klang Line",
          "Port Klang Line",
          "Port Klang Line",
          "Port Klang Line",
          "Port Klang Line",
          "Port Klang Line",
          "Port Klang Line",
          "Port Klang Line",
          "Port Klang Line",
          "Port Klang Line",
          "Port Klang Line",
          "Port Klang Line",
          "Port Klang Line",
          "Port Klang Line",
          "Port Klang Line",
          "Port Klang Line",
          "Port Klang Line",
          "Port Klang Line",
          "Port Klang Line",
          "Port Klang Line",
          "Port Klang Line",
          "Port Klang Line",
          "Port Klang Line",
          "Port Klang Line",
          "Port Klang Line",
          "Port Klang Line",
          "Port Klang Line",
          "Port Klang Line",
          "Port Klang Line",
          "Port Klang Line",
          "Ampang Line",
          "Ampang Line",
          "Ampang Line",
          "Ampang Line",
          "Ampang Line",
          "Ampang Line",
          "Ampang Line",
          "Ampang Line",
          "Ampang Line",
          "Ampang Line",
          "Ampang Line",
          "Ampang Line",
          "Ampang Line",
          "Ampang Line",
          "Ampang Line",
          "Ampang Line",
          "Ampang Line",
          "Ampang Line",
          "Sri Petaling Line",
          "Sri Petaling Line",
          "Sri Petaling Line",
          "Sri Petaling Line",
          "Sri Petaling Line",
          "Sri Petaling Line",
          "Sri Petaling Line",
          "Sri Petaling Line",
          "Sri Petaling Line",
          "Sri Petaling Line",
          "Sri Petaling Line",
          "Sri Petaling Line",
          "Sri Petaling Line",
          "Sri Petaling Line",
          "Sri Petaling Line",
          "Sri Petaling Line",
          "Sri Petaling Line",
          "Sri Petaling Line",
          "Sri Petaling Line",
          "Sri Petaling Line",
          "Sri Petaling Line",
          "Sri Petaling Line",
          "Sri Petaling Line",
          "Sri Petaling Line",
          "Sri Petaling Line",
          "Sri Petaling Line",
          "Sri Petaling Line",
          "Sri Petaling Line",
          "Sri Petaling Line",
          "Kelana Jaya Line",
          "Kelana Jaya Line",
          "Kelana Jaya Line",
          "Kelana Jaya Line",
          "Kelana Jaya Line",
          "Kelana Jaya Line",
          "Kelana Jaya Line",
          "Kelana Jaya Line",
          "Kelana Jaya Line",
          "Kelana Jaya Line",
          "Kelana Jaya Line",
          "Kelana Jaya Line",
          "Kelana Jaya Line",
          "Kelana Jaya Line",
          "Kelana Jaya Line",
          "Kelana Jaya Line",
          "Kelana Jaya Line",
          "Kelana Jaya Line",
          "Kelana Jaya Line",
          "Kelana Jaya Line",
          "Kelana Jaya Line",
          "Kelana Jaya Line",
          "Kelana Jaya Line",
          "Kelana Jaya Line",
          "Kelana Jaya Line",
          "Kelana Jaya Line",
          "Kelana Jaya Line",
          "Kelana Jaya Line",
          "Kelana Jaya Line",
          "Kelana Jaya Line",
          "Kelana Jaya Line",
          "Kelana Jaya Line",
          "Kelana Jaya Line",
          "Kelana Jaya Line",
          "Kelana Jaya Line",
          "Kelana Jaya Line",
          "Kelana Jaya Line",
          "KLIA Ekspres",
          "KLIA Ekspres",
          "KLIA Ekspres",
          "KLIA Transit",
          "KLIA Transit",
          "KLIA Transit",
          "KLIA Transit",
          "KLIA Transit",
          "KLIA Transit",
          "KL Monorail Line",
          "KL Monorail Line",
          "KL Monorail Line",
          "KL Monorail Line",
          "KL Monorail Line",
          "KL Monorail Line",
          "KL Monorail Line",
          "KL Monorail Line",
          "KL Monorail Line",
          "KL Monorail Line",
          "KL Monorail Line",
          "MRT Sungai Buloh - Kajang Line",
          "MRT Sungai Buloh - Kajang Line",
          "MRT Sungai Buloh - Kajang Line",
          "MRT Sungai Buloh - Kajang Line",
          "MRT Sungai Buloh - Kajang Line",
          "MRT Sungai Buloh - Kajang Line",
          "MRT Sungai Buloh - Kajang Line",
          "MRT Sungai Buloh - Kajang Line",
          "MRT Sungai Buloh - Kajang Line",
          "MRT Sungai Buloh - Kajang Line",
          "MRT Sungai Buloh - Kajang Line",
          "MRT Sungai Buloh - Kajang Line",
          "MRT Sungai Buloh - Kajang Line",
          "MRT Sungai Buloh - Kajang Line",
          "MRT Sungai Buloh - Kajang Line",
          "MRT Sungai Buloh - Kajang Line",
          "MRT Sungai Buloh - Kajang Line",
          "MRT Sungai Buloh - Kajang Line",
          "MRT Sungai Buloh - Kajang Line",
          "MRT Sungai Buloh - Kajang Line",
          "MRT Sungai Buloh - Kajang Line",
          "MRT Sungai Buloh - Kajang Line",
          "MRT Sungai Buloh - Kajang Line",
          "MRT Sungai Buloh - Kajang Line",
          "MRT Sungai Buloh - Kajang Line",
          "MRT Sungai Buloh - Kajang Line",
          "MRT Sungai Buloh - Kajang Line",
          "MRT Sungai Buloh - Kajang Line",
          "MRT Sungai Buloh - Kajang Line",
          "MRT Sungai Buloh - Kajang Line",
          "MRT Sungai Buloh - Kajang Line",
          "Skypark Link",
          "Skypark Link",
          "Skypark Link",
          "BRT Sunway Line",
          "BRT Sunway Line",
          "BRT Sunway Line",
          "BRT Sunway Line",
          "BRT Sunway Line",
          "BRT Sunway Line",
          "BRT Sunway Line"
         ],
         "xaxis": "x",
         "y": [
          7370,
          7742,
          7295,
          5876,
          7057,
          5584,
          4808,
          5526,
          7451,
          8106,
          2928,
          3682,
          1209,
          1817,
          3129,
          2354,
          1101,
          747,
          1023,
          546,
          4073,
          2724,
          1792,
          1792,
          649,
          6918,
          2799,
          2155,
          3876,
          4820,
          6521,
          1897,
          2004,
          2399,
          1952,
          3696,
          1930,
          6250,
          3948,
          3000,
          1627,
          3961,
          791,
          7959,
          2905,
          8051,
          2443,
          4350,
          1217,
          316,
          4424,
          3841,
          6349,
          7144,
          3827,
          814,
          5526,
          7451,
          7120,
          6918,
          7710,
          5572,
          8555,
          9015,
          7814,
          7021,
          10523,
          5363,
          9011,
          7523,
          5440,
          4121,
          6732,
          6886,
          17935,
          14500,
          12773,
          11958,
          2387,
          9582,
          13636,
          8462,
          4341,
          8350,
          5500,
          5237,
          7929,
          7294,
          5837,
          5509,
          10726,
          7710,
          5572,
          8555,
          9015,
          7814,
          7021,
          10523,
          5363,
          9011,
          4385,
          6322,
          3682,
          7523,
          4063,
          4411,
          5440,
          702,
          1674,
          2513,
          4671,
          8706,
          6919,
          3654,
          2946,
          7783,
          8545,
          3721,
          2303,
          7382,
          7588,
          10379,
          5641,
          4550,
          4477,
          7870,
          9145,
          3827,
          7720,
          7646,
          7012,
          11635,
          6810,
          6545,
          8305,
          6811,
          17809,
          2927,
          3987,
          4834,
          9108,
          8618,
          8359,
          6286,
          106,
          137,
          6876,
          2459,
          106,
          137,
          3682,
          346,
          6876,
          6876,
          6492,
          7344,
          11278,
          9566,
          4607,
          9177,
          6558,
          9273,
          11360,
          10857,
          719,
          1116,
          3837,
          4860,
          2132,
          6108,
          8722,
          2452,
          7735,
          4223,
          5471,
          5398,
          4487,
          7663,
          6259,
          10833,
          3455,
          9109,
          9829,
          10667,
          8497,
          8274,
          3270,
          6190,
          3203,
          5933,
          5642,
          3502,
          5738,
          6762,
          4705,
          2042,
          1627,
          6876,
          7441,
          3301,
          6902,
          6760,
          6396,
          6050,
          4791
         ],
         "yaxis": "y"
        },
        {
         "alignmentgroup": "True",
         "bingroup": "x",
         "histfunc": "avg",
         "hovertemplate": "variable=15 Minute Population<br>Lines=%{x}<br>avg of Population Coverage=%{y}<extra></extra>",
         "legendgroup": "15 Minute Population",
         "marker": {
          "color": "#00cc96"
         },
         "name": "15 Minute Population",
         "offsetgroup": "15 Minute Population",
         "orientation": "v",
         "showlegend": true,
         "type": "histogram",
         "x": [
          "Seremban Line",
          "Seremban Line",
          "Seremban Line",
          "Seremban Line",
          "Seremban Line",
          "Seremban Line",
          "Seremban Line",
          "Seremban Line",
          "Seremban Line",
          "Seremban Line",
          "Seremban Line",
          "Seremban Line",
          "Seremban Line",
          "Seremban Line",
          "Seremban Line",
          "Seremban Line",
          "Seremban Line",
          "Seremban Line",
          "Seremban Line",
          "Seremban Line",
          "Seremban Line",
          "Seremban Line",
          "Seremban Line",
          "Seremban Line",
          "Seremban Line",
          "Seremban Line",
          "Port Klang Line",
          "Port Klang Line",
          "Port Klang Line",
          "Port Klang Line",
          "Port Klang Line",
          "Port Klang Line",
          "Port Klang Line",
          "Port Klang Line",
          "Port Klang Line",
          "Port Klang Line",
          "Port Klang Line",
          "Port Klang Line",
          "Port Klang Line",
          "Port Klang Line",
          "Port Klang Line",
          "Port Klang Line",
          "Port Klang Line",
          "Port Klang Line",
          "Port Klang Line",
          "Port Klang Line",
          "Port Klang Line",
          "Port Klang Line",
          "Port Klang Line",
          "Port Klang Line",
          "Port Klang Line",
          "Port Klang Line",
          "Port Klang Line",
          "Port Klang Line",
          "Port Klang Line",
          "Port Klang Line",
          "Port Klang Line",
          "Port Klang Line",
          "Port Klang Line",
          "Port Klang Line",
          "Ampang Line",
          "Ampang Line",
          "Ampang Line",
          "Ampang Line",
          "Ampang Line",
          "Ampang Line",
          "Ampang Line",
          "Ampang Line",
          "Ampang Line",
          "Ampang Line",
          "Ampang Line",
          "Ampang Line",
          "Ampang Line",
          "Ampang Line",
          "Ampang Line",
          "Ampang Line",
          "Ampang Line",
          "Ampang Line",
          "Sri Petaling Line",
          "Sri Petaling Line",
          "Sri Petaling Line",
          "Sri Petaling Line",
          "Sri Petaling Line",
          "Sri Petaling Line",
          "Sri Petaling Line",
          "Sri Petaling Line",
          "Sri Petaling Line",
          "Sri Petaling Line",
          "Sri Petaling Line",
          "Sri Petaling Line",
          "Sri Petaling Line",
          "Sri Petaling Line",
          "Sri Petaling Line",
          "Sri Petaling Line",
          "Sri Petaling Line",
          "Sri Petaling Line",
          "Sri Petaling Line",
          "Sri Petaling Line",
          "Sri Petaling Line",
          "Sri Petaling Line",
          "Sri Petaling Line",
          "Sri Petaling Line",
          "Sri Petaling Line",
          "Sri Petaling Line",
          "Sri Petaling Line",
          "Sri Petaling Line",
          "Sri Petaling Line",
          "Kelana Jaya Line",
          "Kelana Jaya Line",
          "Kelana Jaya Line",
          "Kelana Jaya Line",
          "Kelana Jaya Line",
          "Kelana Jaya Line",
          "Kelana Jaya Line",
          "Kelana Jaya Line",
          "Kelana Jaya Line",
          "Kelana Jaya Line",
          "Kelana Jaya Line",
          "Kelana Jaya Line",
          "Kelana Jaya Line",
          "Kelana Jaya Line",
          "Kelana Jaya Line",
          "Kelana Jaya Line",
          "Kelana Jaya Line",
          "Kelana Jaya Line",
          "Kelana Jaya Line",
          "Kelana Jaya Line",
          "Kelana Jaya Line",
          "Kelana Jaya Line",
          "Kelana Jaya Line",
          "Kelana Jaya Line",
          "Kelana Jaya Line",
          "Kelana Jaya Line",
          "Kelana Jaya Line",
          "Kelana Jaya Line",
          "Kelana Jaya Line",
          "Kelana Jaya Line",
          "Kelana Jaya Line",
          "Kelana Jaya Line",
          "Kelana Jaya Line",
          "Kelana Jaya Line",
          "Kelana Jaya Line",
          "Kelana Jaya Line",
          "Kelana Jaya Line",
          "KLIA Ekspres",
          "KLIA Ekspres",
          "KLIA Ekspres",
          "KLIA Transit",
          "KLIA Transit",
          "KLIA Transit",
          "KLIA Transit",
          "KLIA Transit",
          "KLIA Transit",
          "KL Monorail Line",
          "KL Monorail Line",
          "KL Monorail Line",
          "KL Monorail Line",
          "KL Monorail Line",
          "KL Monorail Line",
          "KL Monorail Line",
          "KL Monorail Line",
          "KL Monorail Line",
          "KL Monorail Line",
          "KL Monorail Line",
          "MRT Sungai Buloh - Kajang Line",
          "MRT Sungai Buloh - Kajang Line",
          "MRT Sungai Buloh - Kajang Line",
          "MRT Sungai Buloh - Kajang Line",
          "MRT Sungai Buloh - Kajang Line",
          "MRT Sungai Buloh - Kajang Line",
          "MRT Sungai Buloh - Kajang Line",
          "MRT Sungai Buloh - Kajang Line",
          "MRT Sungai Buloh - Kajang Line",
          "MRT Sungai Buloh - Kajang Line",
          "MRT Sungai Buloh - Kajang Line",
          "MRT Sungai Buloh - Kajang Line",
          "MRT Sungai Buloh - Kajang Line",
          "MRT Sungai Buloh - Kajang Line",
          "MRT Sungai Buloh - Kajang Line",
          "MRT Sungai Buloh - Kajang Line",
          "MRT Sungai Buloh - Kajang Line",
          "MRT Sungai Buloh - Kajang Line",
          "MRT Sungai Buloh - Kajang Line",
          "MRT Sungai Buloh - Kajang Line",
          "MRT Sungai Buloh - Kajang Line",
          "MRT Sungai Buloh - Kajang Line",
          "MRT Sungai Buloh - Kajang Line",
          "MRT Sungai Buloh - Kajang Line",
          "MRT Sungai Buloh - Kajang Line",
          "MRT Sungai Buloh - Kajang Line",
          "MRT Sungai Buloh - Kajang Line",
          "MRT Sungai Buloh - Kajang Line",
          "MRT Sungai Buloh - Kajang Line",
          "MRT Sungai Buloh - Kajang Line",
          "MRT Sungai Buloh - Kajang Line",
          "Skypark Link",
          "Skypark Link",
          "Skypark Link",
          "BRT Sunway Line",
          "BRT Sunway Line",
          "BRT Sunway Line",
          "BRT Sunway Line",
          "BRT Sunway Line",
          "BRT Sunway Line",
          "BRT Sunway Line"
         ],
         "xaxis": "x",
         "y": [
          12875,
          16314,
          16640,
          12777,
          17254,
          13698,
          14209,
          12034,
          15927,
          16499,
          5716,
          8635,
          2395,
          6771,
          6365,
          8480,
          2842,
          1321,
          2186,
          763,
          7385,
          7316,
          4290,
          4290,
          3013,
          14485,
          6143,
          6110,
          6422,
          9730,
          15181,
          6360,
          4103,
          5925,
          3949,
          8359,
          3458,
          14474,
          8766,
          7384,
          6225,
          10017,
          1958,
          20067,
          12339,
          16551,
          4381,
          12363,
          2095,
          854,
          13994,
          11079,
          17569,
          14282,
          12063,
          3284,
          12034,
          15927,
          16524,
          14485,
          16554,
          15104,
          20457,
          21377,
          16574,
          17712,
          22370,
          14307,
          21086,
          19977,
          15394,
          12314,
          18943,
          16566,
          40666,
          38505,
          34832,
          30937,
          5666,
          16990,
          25927,
          15410,
          8805,
          17657,
          12116,
          14465,
          14499,
          14781,
          10761,
          13889,
          17209,
          16554,
          15104,
          20457,
          21377,
          16574,
          17712,
          22370,
          14307,
          21086,
          8721,
          12776,
          9890,
          19977,
          8068,
          10629,
          15394,
          4281,
          3130,
          5894,
          10137,
          15830,
          16929,
          6935,
          7486,
          17231,
          17672,
          8260,
          7808,
          18028,
          18602,
          24796,
          17305,
          12033,
          11077,
          14232,
          17653,
          12063,
          19391,
          14774,
          18749,
          22995,
          17013,
          18467,
          19607,
          15524,
          37835,
          10573,
          13043,
          14998,
          19682,
          20997,
          19359,
          18481,
          163,
          351,
          15278,
          4990,
          163,
          351,
          9890,
          856,
          15278,
          15278,
          13569,
          19530,
          24638,
          20691,
          14554,
          22770,
          18375,
          22631,
          23057,
          23894,
          3570,
          4018,
          10650,
          13078,
          6188,
          15335,
          17932,
          8946,
          15286,
          9265,
          15246,
          12014,
          12526,
          19341,
          16047,
          23359,
          10160,
          19656,
          21947,
          21264,
          21709,
          20585,
          7640,
          12308,
          6703,
          11032,
          9647,
          8779,
          10854,
          18142,
          7102,
          5552,
          6225,
          15278,
          16916,
          7606,
          13703,
          13318,
          12805,
          12789,
          10436
         ],
         "yaxis": "y"
        }
       ],
       "layout": {
        "barmode": "group",
        "legend": {
         "title": {
          "text": "variable"
         },
         "tracegroupgap": 0
        },
        "template": {
         "data": {
          "bar": [
           {
            "error_x": {
             "color": "#2a3f5f"
            },
            "error_y": {
             "color": "#2a3f5f"
            },
            "marker": {
             "line": {
              "color": "#E5ECF6",
              "width": 0.5
             }
            },
            "type": "bar"
           }
          ],
          "barpolar": [
           {
            "marker": {
             "line": {
              "color": "#E5ECF6",
              "width": 0.5
             }
            },
            "type": "barpolar"
           }
          ],
          "carpet": [
           {
            "aaxis": {
             "endlinecolor": "#2a3f5f",
             "gridcolor": "white",
             "linecolor": "white",
             "minorgridcolor": "white",
             "startlinecolor": "#2a3f5f"
            },
            "baxis": {
             "endlinecolor": "#2a3f5f",
             "gridcolor": "white",
             "linecolor": "white",
             "minorgridcolor": "white",
             "startlinecolor": "#2a3f5f"
            },
            "type": "carpet"
           }
          ],
          "choropleth": [
           {
            "colorbar": {
             "outlinewidth": 0,
             "ticks": ""
            },
            "type": "choropleth"
           }
          ],
          "contour": [
           {
            "colorbar": {
             "outlinewidth": 0,
             "ticks": ""
            },
            "colorscale": [
             [
              0,
              "#0d0887"
             ],
             [
              0.1111111111111111,
              "#46039f"
             ],
             [
              0.2222222222222222,
              "#7201a8"
             ],
             [
              0.3333333333333333,
              "#9c179e"
             ],
             [
              0.4444444444444444,
              "#bd3786"
             ],
             [
              0.5555555555555556,
              "#d8576b"
             ],
             [
              0.6666666666666666,
              "#ed7953"
             ],
             [
              0.7777777777777778,
              "#fb9f3a"
             ],
             [
              0.8888888888888888,
              "#fdca26"
             ],
             [
              1,
              "#f0f921"
             ]
            ],
            "type": "contour"
           }
          ],
          "contourcarpet": [
           {
            "colorbar": {
             "outlinewidth": 0,
             "ticks": ""
            },
            "type": "contourcarpet"
           }
          ],
          "heatmap": [
           {
            "colorbar": {
             "outlinewidth": 0,
             "ticks": ""
            },
            "colorscale": [
             [
              0,
              "#0d0887"
             ],
             [
              0.1111111111111111,
              "#46039f"
             ],
             [
              0.2222222222222222,
              "#7201a8"
             ],
             [
              0.3333333333333333,
              "#9c179e"
             ],
             [
              0.4444444444444444,
              "#bd3786"
             ],
             [
              0.5555555555555556,
              "#d8576b"
             ],
             [
              0.6666666666666666,
              "#ed7953"
             ],
             [
              0.7777777777777778,
              "#fb9f3a"
             ],
             [
              0.8888888888888888,
              "#fdca26"
             ],
             [
              1,
              "#f0f921"
             ]
            ],
            "type": "heatmap"
           }
          ],
          "heatmapgl": [
           {
            "colorbar": {
             "outlinewidth": 0,
             "ticks": ""
            },
            "colorscale": [
             [
              0,
              "#0d0887"
             ],
             [
              0.1111111111111111,
              "#46039f"
             ],
             [
              0.2222222222222222,
              "#7201a8"
             ],
             [
              0.3333333333333333,
              "#9c179e"
             ],
             [
              0.4444444444444444,
              "#bd3786"
             ],
             [
              0.5555555555555556,
              "#d8576b"
             ],
             [
              0.6666666666666666,
              "#ed7953"
             ],
             [
              0.7777777777777778,
              "#fb9f3a"
             ],
             [
              0.8888888888888888,
              "#fdca26"
             ],
             [
              1,
              "#f0f921"
             ]
            ],
            "type": "heatmapgl"
           }
          ],
          "histogram": [
           {
            "marker": {
             "colorbar": {
              "outlinewidth": 0,
              "ticks": ""
             }
            },
            "type": "histogram"
           }
          ],
          "histogram2d": [
           {
            "colorbar": {
             "outlinewidth": 0,
             "ticks": ""
            },
            "colorscale": [
             [
              0,
              "#0d0887"
             ],
             [
              0.1111111111111111,
              "#46039f"
             ],
             [
              0.2222222222222222,
              "#7201a8"
             ],
             [
              0.3333333333333333,
              "#9c179e"
             ],
             [
              0.4444444444444444,
              "#bd3786"
             ],
             [
              0.5555555555555556,
              "#d8576b"
             ],
             [
              0.6666666666666666,
              "#ed7953"
             ],
             [
              0.7777777777777778,
              "#fb9f3a"
             ],
             [
              0.8888888888888888,
              "#fdca26"
             ],
             [
              1,
              "#f0f921"
             ]
            ],
            "type": "histogram2d"
           }
          ],
          "histogram2dcontour": [
           {
            "colorbar": {
             "outlinewidth": 0,
             "ticks": ""
            },
            "colorscale": [
             [
              0,
              "#0d0887"
             ],
             [
              0.1111111111111111,
              "#46039f"
             ],
             [
              0.2222222222222222,
              "#7201a8"
             ],
             [
              0.3333333333333333,
              "#9c179e"
             ],
             [
              0.4444444444444444,
              "#bd3786"
             ],
             [
              0.5555555555555556,
              "#d8576b"
             ],
             [
              0.6666666666666666,
              "#ed7953"
             ],
             [
              0.7777777777777778,
              "#fb9f3a"
             ],
             [
              0.8888888888888888,
              "#fdca26"
             ],
             [
              1,
              "#f0f921"
             ]
            ],
            "type": "histogram2dcontour"
           }
          ],
          "mesh3d": [
           {
            "colorbar": {
             "outlinewidth": 0,
             "ticks": ""
            },
            "type": "mesh3d"
           }
          ],
          "parcoords": [
           {
            "line": {
             "colorbar": {
              "outlinewidth": 0,
              "ticks": ""
             }
            },
            "type": "parcoords"
           }
          ],
          "pie": [
           {
            "automargin": true,
            "type": "pie"
           }
          ],
          "scatter": [
           {
            "marker": {
             "colorbar": {
              "outlinewidth": 0,
              "ticks": ""
             }
            },
            "type": "scatter"
           }
          ],
          "scatter3d": [
           {
            "line": {
             "colorbar": {
              "outlinewidth": 0,
              "ticks": ""
             }
            },
            "marker": {
             "colorbar": {
              "outlinewidth": 0,
              "ticks": ""
             }
            },
            "type": "scatter3d"
           }
          ],
          "scattercarpet": [
           {
            "marker": {
             "colorbar": {
              "outlinewidth": 0,
              "ticks": ""
             }
            },
            "type": "scattercarpet"
           }
          ],
          "scattergeo": [
           {
            "marker": {
             "colorbar": {
              "outlinewidth": 0,
              "ticks": ""
             }
            },
            "type": "scattergeo"
           }
          ],
          "scattergl": [
           {
            "marker": {
             "colorbar": {
              "outlinewidth": 0,
              "ticks": ""
             }
            },
            "type": "scattergl"
           }
          ],
          "scattermapbox": [
           {
            "marker": {
             "colorbar": {
              "outlinewidth": 0,
              "ticks": ""
             }
            },
            "type": "scattermapbox"
           }
          ],
          "scatterpolar": [
           {
            "marker": {
             "colorbar": {
              "outlinewidth": 0,
              "ticks": ""
             }
            },
            "type": "scatterpolar"
           }
          ],
          "scatterpolargl": [
           {
            "marker": {
             "colorbar": {
              "outlinewidth": 0,
              "ticks": ""
             }
            },
            "type": "scatterpolargl"
           }
          ],
          "scatterternary": [
           {
            "marker": {
             "colorbar": {
              "outlinewidth": 0,
              "ticks": ""
             }
            },
            "type": "scatterternary"
           }
          ],
          "surface": [
           {
            "colorbar": {
             "outlinewidth": 0,
             "ticks": ""
            },
            "colorscale": [
             [
              0,
              "#0d0887"
             ],
             [
              0.1111111111111111,
              "#46039f"
             ],
             [
              0.2222222222222222,
              "#7201a8"
             ],
             [
              0.3333333333333333,
              "#9c179e"
             ],
             [
              0.4444444444444444,
              "#bd3786"
             ],
             [
              0.5555555555555556,
              "#d8576b"
             ],
             [
              0.6666666666666666,
              "#ed7953"
             ],
             [
              0.7777777777777778,
              "#fb9f3a"
             ],
             [
              0.8888888888888888,
              "#fdca26"
             ],
             [
              1,
              "#f0f921"
             ]
            ],
            "type": "surface"
           }
          ],
          "table": [
           {
            "cells": {
             "fill": {
              "color": "#EBF0F8"
             },
             "line": {
              "color": "white"
             }
            },
            "header": {
             "fill": {
              "color": "#C8D4E3"
             },
             "line": {
              "color": "white"
             }
            },
            "type": "table"
           }
          ]
         },
         "layout": {
          "annotationdefaults": {
           "arrowcolor": "#2a3f5f",
           "arrowhead": 0,
           "arrowwidth": 1
          },
          "coloraxis": {
           "colorbar": {
            "outlinewidth": 0,
            "ticks": ""
           }
          },
          "colorscale": {
           "diverging": [
            [
             0,
             "#8e0152"
            ],
            [
             0.1,
             "#c51b7d"
            ],
            [
             0.2,
             "#de77ae"
            ],
            [
             0.3,
             "#f1b6da"
            ],
            [
             0.4,
             "#fde0ef"
            ],
            [
             0.5,
             "#f7f7f7"
            ],
            [
             0.6,
             "#e6f5d0"
            ],
            [
             0.7,
             "#b8e186"
            ],
            [
             0.8,
             "#7fbc41"
            ],
            [
             0.9,
             "#4d9221"
            ],
            [
             1,
             "#276419"
            ]
           ],
           "sequential": [
            [
             0,
             "#0d0887"
            ],
            [
             0.1111111111111111,
             "#46039f"
            ],
            [
             0.2222222222222222,
             "#7201a8"
            ],
            [
             0.3333333333333333,
             "#9c179e"
            ],
            [
             0.4444444444444444,
             "#bd3786"
            ],
            [
             0.5555555555555556,
             "#d8576b"
            ],
            [
             0.6666666666666666,
             "#ed7953"
            ],
            [
             0.7777777777777778,
             "#fb9f3a"
            ],
            [
             0.8888888888888888,
             "#fdca26"
            ],
            [
             1,
             "#f0f921"
            ]
           ],
           "sequentialminus": [
            [
             0,
             "#0d0887"
            ],
            [
             0.1111111111111111,
             "#46039f"
            ],
            [
             0.2222222222222222,
             "#7201a8"
            ],
            [
             0.3333333333333333,
             "#9c179e"
            ],
            [
             0.4444444444444444,
             "#bd3786"
            ],
            [
             0.5555555555555556,
             "#d8576b"
            ],
            [
             0.6666666666666666,
             "#ed7953"
            ],
            [
             0.7777777777777778,
             "#fb9f3a"
            ],
            [
             0.8888888888888888,
             "#fdca26"
            ],
            [
             1,
             "#f0f921"
            ]
           ]
          },
          "colorway": [
           "#636efa",
           "#EF553B",
           "#00cc96",
           "#ab63fa",
           "#FFA15A",
           "#19d3f3",
           "#FF6692",
           "#B6E880",
           "#FF97FF",
           "#FECB52"
          ],
          "font": {
           "color": "#2a3f5f"
          },
          "geo": {
           "bgcolor": "white",
           "lakecolor": "white",
           "landcolor": "#E5ECF6",
           "showlakes": true,
           "showland": true,
           "subunitcolor": "white"
          },
          "hoverlabel": {
           "align": "left"
          },
          "hovermode": "closest",
          "mapbox": {
           "style": "light"
          },
          "paper_bgcolor": "white",
          "plot_bgcolor": "#E5ECF6",
          "polar": {
           "angularaxis": {
            "gridcolor": "white",
            "linecolor": "white",
            "ticks": ""
           },
           "bgcolor": "#E5ECF6",
           "radialaxis": {
            "gridcolor": "white",
            "linecolor": "white",
            "ticks": ""
           }
          },
          "scene": {
           "xaxis": {
            "backgroundcolor": "#E5ECF6",
            "gridcolor": "white",
            "gridwidth": 2,
            "linecolor": "white",
            "showbackground": true,
            "ticks": "",
            "zerolinecolor": "white"
           },
           "yaxis": {
            "backgroundcolor": "#E5ECF6",
            "gridcolor": "white",
            "gridwidth": 2,
            "linecolor": "white",
            "showbackground": true,
            "ticks": "",
            "zerolinecolor": "white"
           },
           "zaxis": {
            "backgroundcolor": "#E5ECF6",
            "gridcolor": "white",
            "gridwidth": 2,
            "linecolor": "white",
            "showbackground": true,
            "ticks": "",
            "zerolinecolor": "white"
           }
          },
          "shapedefaults": {
           "line": {
            "color": "#2a3f5f"
           }
          },
          "ternary": {
           "aaxis": {
            "gridcolor": "white",
            "linecolor": "white",
            "ticks": ""
           },
           "baxis": {
            "gridcolor": "white",
            "linecolor": "white",
            "ticks": ""
           },
           "bgcolor": "#E5ECF6",
           "caxis": {
            "gridcolor": "white",
            "linecolor": "white",
            "ticks": ""
           }
          },
          "title": {
           "x": 0.05
          },
          "xaxis": {
           "automargin": true,
           "gridcolor": "white",
           "linecolor": "white",
           "ticks": "",
           "title": {
            "standoff": 15
           },
           "zerolinecolor": "white",
           "zerolinewidth": 2
          },
          "yaxis": {
           "automargin": true,
           "gridcolor": "white",
           "linecolor": "white",
           "ticks": "",
           "title": {
            "standoff": 15
           },
           "zerolinecolor": "white",
           "zerolinewidth": 2
          }
         }
        },
        "title": {
         "text": "Population coverage within walking times from station"
        },
        "xaxis": {
         "anchor": "y",
         "categoryorder": "total ascending",
         "domain": [
          0,
          1
         ],
         "title": {
          "text": "Lines"
         }
        },
        "yaxis": {
         "anchor": "x",
         "domain": [
          0,
          1
         ],
         "title": {
          "text": "avg of Population Coverage"
         }
        }
       }
      }
     },
     "metadata": {},
     "output_type": "display_data"
    }
   ],
   "source": [
    "# drawshistograms for RapidKL lines' 5 minute walking population coverage\n",
    "\n",
    "fig = px.histogram(data_all[(data_all[\"City\"]=='Kuala Lumpur')&(data_all[\"Service Provider Name\"]=='Rapid KL')]\n",
    "             ,x='Route Name'\n",
    "             ,y='5 Minute Population'\n",
    "             , barmode = 'group'\n",
    "             , title=\"Population covered within 5 minutes walk from station\"\n",
    "             , template='plotly'\n",
    "             , histfunc = 'avg'\n",
    "             ,labels={'Route Name': \"Lines\", '5 Minute Population' : \"Population Coverage\"}\n",
    "            ).update_xaxes(categoryorder='total ascending')\n",
    "fig.update_layout(showlegend=False)\n",
    "fig.show() \n",
    "\n",
    "# draws histograms for RapidKL lines' 10 minute walking population coverage\n",
    "\n",
    "fig = px.histogram(data_all[(data_all[\"City\"]=='Kuala Lumpur')&(data_all[\"Service Provider Name\"]=='Rapid KL')]\n",
    "             ,x='Route Name'\n",
    "             ,y='10 Minute Population'\n",
    "             , barmode = 'group'\n",
    "             , title=\"Population coverage within 10 minutes walk from station\"\n",
    "             , template='plotly'\n",
    "             , histfunc = 'avg'\n",
    "             ,labels={'Route Name': \"Lines\", '10 Minute Population' : \"Population Coverage\"}\n",
    "            ).update_xaxes(categoryorder='total ascending')\n",
    "fig.update_layout(showlegend=False)\n",
    "fig.show() \n",
    "\n",
    "# draws histograms for RapidKL lines' 15 minute walking population coverage\n",
    "\n",
    "fig = px.histogram(data_all[(data_all[\"City\"]=='Kuala Lumpur')&(data_all[\"Service Provider Name\"]=='Rapid KL')]\n",
    "             ,x='Route Name'\n",
    "             ,y='15 Minute Population'\n",
    "             , barmode = 'group'\n",
    "             , title=\"Population coverage within 15 minutes walk from station\"\n",
    "             , template='plotly'\n",
    "             , histfunc = 'avg'\n",
    "             ,labels={'Route Name': \"Lines\", '15 Minute Population' : \"Population Coverage\"}\n",
    "            ).update_xaxes(categoryorder='total ascending')\n",
    "fig.update_layout(showlegend=False)\n",
    "fig.show() \n",
    "\n",
    "# draws  histograms for RapidKL lines' 5,10,15 minute walking population coverage\n",
    "\n",
    "fig = px.histogram(data_all[data_all[\"City\"]=='Kuala Lumpur']\n",
    "             ,x='Route Name'\n",
    "             ,y=['5 Minute Population','10 Minute Population','15 Minute Population']\n",
    "             , barmode = 'group'\n",
    "             , title=\"Population coverage within walking times from station\"\n",
    "             , template='plotly'\n",
    "             , histfunc = 'avg'\n",
    "             ,labels={'Route Name': \"Lines\",'value' : \"Population Coverage\"}\n",
    "            ).update_xaxes(categoryorder='total ascending')\n",
    "\n",
    "fig.show()       "
   ]
  },
  {
   "cell_type": "code",
   "execution_count": 6,
   "metadata": {},
   "outputs": [
    {
     "data": {
      "application/vnd.plotly.v1+json": {
       "config": {
        "plotlyServerURL": "https://plot.ly"
       },
       "data": [
        {
         "alignmentgroup": "True",
         "bingroup": "x",
         "histfunc": "avg",
         "hovertemplate": "Name=%{x}<br>avg of 15 Minute Range Area=%{y}<extra></extra>",
         "legendgroup": "",
         "marker": {
          "color": "#636efa"
         },
         "name": "",
         "offsetgroup": "",
         "orientation": "v",
         "showlegend": false,
         "type": "histogram",
         "x": [
          "TAMAN WAHYU",
          "KAMPUNG BATU",
          "MID VALLEY",
          "BATU KENTOMEN",
          "BATU CAVES",
          "SEPUTEH",
          "SENTUL",
          "PUTRA",
          "BANK NEGARA",
          "KUALA LUMPUR",
          "SALAK SELATAN",
          "BANDAR TASIK SELATAN",
          "SERDANG",
          "BANGI",
          "UKM",
          "KAJANG",
          "NILAI",
          "LABU",
          "BATANG BENAR",
          "TIROI",
          "SEREMBAN",
          "SENAWANG",
          "SUNGAI GADUT",
          "REMBAU",
          "PULAU SEBANG/TAMPIN",
          "KL SENTRAL",
          "PORT KLANG",
          "JALAN KASTAM",
          "KAMPUNG RAJA UDA",
          "TELUK GADONG",
          "TELUK PULAI",
          "KLANG",
          "BUKIT BADAK",
          "PADANG JAWA",
          "TANJUNG MALIM",
          "SHAH ALAM",
          "KUANG",
          "BATU TIGA",
          "RAWANG",
          "SUNGAI BULOH",
          "SUBANG JAYA",
          "SETIA JAYA",
          "SERENDAH",
          "SERI SETIA",
          "KEPONG SENTRAL",
          "KAMPUNG DATO HARUN",
          "RASA",
          "KEPONG",
          "BATANG KALI",
          "KUALA KUBU BHARU",
          "JALAN TEMPLER",
          "PETALING",
          "SEGAMBUT",
          "PANTAI DALAM",
          "ABDULLAH HUKUM",
          "ANGKASAPURI",
          "PUTRA",
          "BANK NEGARA",
          "KUALA LUMPUR",
          "KL SENTRAL",
          "PWTC",
          "SULTAN ISMAIL",
          "BANDARAYA",
          "TITIWANGSA",
          "SENTUL TIMUR",
          "SENTUL",
          "MASJID JAMEK",
          "PLAZA RAKYAT",
          "HANG TUAH",
          "PUDU",
          "CHAN SOW LIN",
          "MIHARJA",
          "MALURI",
          "PANDAN JAYA",
          "PANDAN INDAH",
          "CEMPAKA",
          "CAHAYA",
          "AMPANG",
          "PUTRA HEIGHTS",
          "PUCHONG PRIMA",
          "PUCHONG PERDANA",
          "BANDAR PUTERI",
          "TAMAN PERINDUSTRIAN PUCHONG (TPP)",
          "PUSAT BANDAR PUCHONG",
          "IOI PUCHONG JAYA",
          "KINRARA",
          "ALAM SUTERA",
          "MUHIBBAH",
          "AWAN BESAR",
          "SRI PETALING",
          "BUKIT JALIL",
          "PWTC",
          "SULTAN ISMAIL",
          "BANDARAYA",
          "TITIWANGSA",
          "SENTUL TIMUR",
          "SENTUL",
          "MASJID JAMEK",
          "PLAZA RAKYAT",
          "HANG TUAH",
          "SALAK SELATAN",
          "SUNGAI BESI",
          "BANDAR TASIK SELATAN",
          "PUDU",
          "BANDAR TUN RAZAK",
          "CHERAS",
          "CHAN SOW LIN",
          "ALAM MEGAH",
          "SUBANG ALAM",
          "PUTRA HEIGHTS",
          "USJ21",
          "SS18",
          "SS15",
          "ARA DAMANSARA",
          "SUBANG JAYA",
          "WAWASAN",
          "TAIPAN",
          "GLENMARIE",
          "LEMBAH SUBANG",
          "USJ7",
          "KELANA JAYA",
          "TAMAN BAHAGIA",
          "TAMAN PARAMOUNT",
          "ASIA JAYA",
          "TAMAN JAYA",
          "UNIVERSITI",
          "KERINCHI",
          "ABDULLAH HUKUM",
          "BANGSAR",
          "KL SENTRAL",
          "PASAR SENI",
          "MASJID JAMEK",
          "DANG WANGI",
          "KAMPUNG BARU",
          "KLCC",
          "AMPANG PARK",
          "TAMAN MELATI",
          "GOMBAK",
          "DAMAI",
          "WANGSA MAJU",
          "DATO' KERAMAT",
          "JELATEK",
          "SETIAWANGSA",
          "SRI RAMPAI",
          "KLIA2",
          "KUALA LUMPUR INTERNATIONAL AIRPORT",
          "KL SENTRAL",
          "PUTRAJAYA & CYBERJAYA",
          "KLIA2",
          "KUALA LUMPUR INTERNATIONAL AIRPORT",
          "BANDAR TASIK SELATAN",
          "SALAK TINGGI",
          "KL SENTRAL",
          "KL SENTRAL",
          "TUN SAMBANTHAN",
          "TITIWANGSA",
          "CHOW KIT",
          "MEDAN TUANKU",
          "MAHARAJALELA",
          "BUKIT NANAS",
          "HANG TUAH",
          "IMBI",
          "RAJA CHULAN",
          "BUKIT BINTANG",
          "KWASA SENTRAL",
          "KWASA DAMANSARA",
          "KAMPUNG SELAMAT",
          "KOTA DAMANSARA",
          "SUNGAI BULOH",
          "SURIAN",
          "MUTIARA DAMANSARA",
          "BANDAR UTAMA",
          "TTDI",
          "PHILEO DAMANSARA",
          "PUSAT BANDAR DAMANSARA",
          "SEMANTAN",
          "MUZIUM NEGARA",
          "PASAR SENI",
          "MERDEKA",
          "BUKIT BINTANG",
          "TUN RAZAK EXCHANGE",
          "COCHRANE",
          "MALURI",
          "TAMAN PERTAMA",
          "TAMAN MIDAH",
          "TAMAN MUTIARA",
          "TAMAN CONNAUGHT",
          "TAMAN SUNTEX",
          "BUKIT DUKUNG",
          "SRI RAYA",
          "BATU 11 CHERAS",
          "BANDAR TUN HUSSIEN ONN",
          "SUNGAI JERNIH",
          "STADIUM KAJANG",
          "KAJANG",
          "TERMINAL SKYPARK",
          "SUBANG JAYA",
          "KL SENTRAL",
          "USJ7",
          "SOUTH QUAY-USJ1",
          "SUNU MONASH",
          "SUNMED",
          "MENTARI",
          "SUNWAY LAGOON",
          "SUNWAY-SETIA JAYA"
         ],
         "xaxis": "x",
         "y": [
          2.01372087,
          2.17127068,
          2.48414194,
          1.48011698,
          2.1961619100000003,
          2.04364832,
          2.1467981600000003,
          2.1587216,
          2.66303866,
          2.79807204,
          0.77668935,
          1.08777585,
          0.29188265,
          0.64270174,
          1.89625466,
          1.49313344,
          1.45951211,
          1.54205525,
          1.2556628,
          0.72429019,
          2.33026197,
          1.69244408,
          1.24454468,
          1.24454468,
          0.85267845,
          2.53606819,
          1.5478033100000002,
          1.29715947,
          1.3352201499999998,
          2.0227466,
          3.05769708,
          0.77981681,
          1.2065108,
          1.24413481,
          1.33726152,
          1.44101731,
          1.49972089,
          1.69686571,
          2.04634475,
          1.58638318,
          1.1513782,
          1.62531859,
          0.86404136,
          2.59634847,
          1.64602341,
          1.8300464,
          1.77151378,
          1.41677477,
          1.1314363,
          1.06013488,
          1.5269925800000002,
          1.20257125,
          2.17071255,
          2.2585546,
          1.5659501299999998,
          0.41799525,
          2.1587216,
          2.66329878,
          2.79773503,
          2.53606819,
          2.50320723,
          2.18713898,
          2.97553758,
          3.24989455,
          2.30154847,
          2.43804193,
          3.57417472,
          2.15523282,
          3.13635847,
          2.87843455,
          2.00438714,
          1.72766469,
          2.63536614,
          1.30700796,
          2.8398799300000004,
          2.6485886,
          2.36282791,
          2.18438939,
          2.15049166,
          2.21036431,
          2.92087017,
          1.70459228,
          0.99874736,
          2.31082803,
          1.46526333,
          2.00864547,
          1.96053364,
          1.99741613,
          1.4407928799999998,
          1.78729107,
          2.56875504,
          2.50320723,
          2.18713898,
          2.97553758,
          3.24989455,
          2.30154847,
          2.43804193,
          3.57417472,
          2.15523282,
          3.13635847,
          1.23613699,
          1.80755973,
          1.28215506,
          2.87843455,
          1.16625679,
          1.48917365,
          2.00438714,
          0.73848588,
          0.96879234,
          2.14291925,
          1.7670411,
          2.55634706,
          2.5685247400000004,
          1.36584476,
          1.4989333,
          3.05360071,
          3.07315564,
          2.30392579,
          1.33235855,
          3.0407064100000003,
          2.65852396,
          3.41690366,
          2.66858784,
          2.55299055,
          2.54116602,
          2.15266294,
          2.47394872,
          1.5659501299999998,
          2.91673712,
          2.47261526,
          2.97844454,
          3.47835279,
          2.55415807,
          2.67538928,
          2.9409497200000003,
          2.27835626,
          3.16651208,
          1.0854431299999998,
          1.63097096,
          1.25523608,
          2.80011178,
          2.85647793,
          2.3320872,
          1.84844813,
          0.7644734999999999,
          0.59148389,
          2.65349169,
          1.71205727,
          0.7644734999999999,
          0.59148389,
          1.28215506,
          0.80806759,
          2.65349169,
          2.65349169,
          2.4697297,
          2.8377076,
          3.4585355000000004,
          2.89450107,
          2.31622159,
          3.18113759,
          2.86908831,
          3.18807073,
          3.43811055,
          3.43721354,
          1.39431611,
          0.77787122,
          1.84313567,
          2.4039592,
          0.93031178,
          2.63810659,
          2.6266688300000003,
          1.1560063,
          2.21364998,
          1.7190148999999997,
          1.88394972,
          1.5214177,
          2.57465602,
          2.93804371,
          2.55486237,
          3.53382386,
          1.61326365,
          2.88430088,
          3.03546832,
          2.87970501,
          2.55413829,
          2.39006463,
          1.1586145,
          1.57184147,
          1.02247819,
          1.92063742,
          1.17586881,
          1.08940472,
          2.53917369,
          3.40544625,
          1.09995471,
          0.7546312900000001,
          1.1513782,
          2.65349169,
          2.84510193,
          1.19718294,
          2.25366035,
          2.12975314,
          2.1030639,
          1.89476671,
          1.70544332
         ],
         "yaxis": "y"
        }
       ],
       "layout": {
        "barmode": "relative",
        "legend": {
         "tracegroupgap": 0
        },
        "template": {
         "data": {
          "bar": [
           {
            "error_x": {
             "color": "#2a3f5f"
            },
            "error_y": {
             "color": "#2a3f5f"
            },
            "marker": {
             "line": {
              "color": "#E5ECF6",
              "width": 0.5
             }
            },
            "type": "bar"
           }
          ],
          "barpolar": [
           {
            "marker": {
             "line": {
              "color": "#E5ECF6",
              "width": 0.5
             }
            },
            "type": "barpolar"
           }
          ],
          "carpet": [
           {
            "aaxis": {
             "endlinecolor": "#2a3f5f",
             "gridcolor": "white",
             "linecolor": "white",
             "minorgridcolor": "white",
             "startlinecolor": "#2a3f5f"
            },
            "baxis": {
             "endlinecolor": "#2a3f5f",
             "gridcolor": "white",
             "linecolor": "white",
             "minorgridcolor": "white",
             "startlinecolor": "#2a3f5f"
            },
            "type": "carpet"
           }
          ],
          "choropleth": [
           {
            "colorbar": {
             "outlinewidth": 0,
             "ticks": ""
            },
            "type": "choropleth"
           }
          ],
          "contour": [
           {
            "colorbar": {
             "outlinewidth": 0,
             "ticks": ""
            },
            "colorscale": [
             [
              0,
              "#0d0887"
             ],
             [
              0.1111111111111111,
              "#46039f"
             ],
             [
              0.2222222222222222,
              "#7201a8"
             ],
             [
              0.3333333333333333,
              "#9c179e"
             ],
             [
              0.4444444444444444,
              "#bd3786"
             ],
             [
              0.5555555555555556,
              "#d8576b"
             ],
             [
              0.6666666666666666,
              "#ed7953"
             ],
             [
              0.7777777777777778,
              "#fb9f3a"
             ],
             [
              0.8888888888888888,
              "#fdca26"
             ],
             [
              1,
              "#f0f921"
             ]
            ],
            "type": "contour"
           }
          ],
          "contourcarpet": [
           {
            "colorbar": {
             "outlinewidth": 0,
             "ticks": ""
            },
            "type": "contourcarpet"
           }
          ],
          "heatmap": [
           {
            "colorbar": {
             "outlinewidth": 0,
             "ticks": ""
            },
            "colorscale": [
             [
              0,
              "#0d0887"
             ],
             [
              0.1111111111111111,
              "#46039f"
             ],
             [
              0.2222222222222222,
              "#7201a8"
             ],
             [
              0.3333333333333333,
              "#9c179e"
             ],
             [
              0.4444444444444444,
              "#bd3786"
             ],
             [
              0.5555555555555556,
              "#d8576b"
             ],
             [
              0.6666666666666666,
              "#ed7953"
             ],
             [
              0.7777777777777778,
              "#fb9f3a"
             ],
             [
              0.8888888888888888,
              "#fdca26"
             ],
             [
              1,
              "#f0f921"
             ]
            ],
            "type": "heatmap"
           }
          ],
          "heatmapgl": [
           {
            "colorbar": {
             "outlinewidth": 0,
             "ticks": ""
            },
            "colorscale": [
             [
              0,
              "#0d0887"
             ],
             [
              0.1111111111111111,
              "#46039f"
             ],
             [
              0.2222222222222222,
              "#7201a8"
             ],
             [
              0.3333333333333333,
              "#9c179e"
             ],
             [
              0.4444444444444444,
              "#bd3786"
             ],
             [
              0.5555555555555556,
              "#d8576b"
             ],
             [
              0.6666666666666666,
              "#ed7953"
             ],
             [
              0.7777777777777778,
              "#fb9f3a"
             ],
             [
              0.8888888888888888,
              "#fdca26"
             ],
             [
              1,
              "#f0f921"
             ]
            ],
            "type": "heatmapgl"
           }
          ],
          "histogram": [
           {
            "marker": {
             "colorbar": {
              "outlinewidth": 0,
              "ticks": ""
             }
            },
            "type": "histogram"
           }
          ],
          "histogram2d": [
           {
            "colorbar": {
             "outlinewidth": 0,
             "ticks": ""
            },
            "colorscale": [
             [
              0,
              "#0d0887"
             ],
             [
              0.1111111111111111,
              "#46039f"
             ],
             [
              0.2222222222222222,
              "#7201a8"
             ],
             [
              0.3333333333333333,
              "#9c179e"
             ],
             [
              0.4444444444444444,
              "#bd3786"
             ],
             [
              0.5555555555555556,
              "#d8576b"
             ],
             [
              0.6666666666666666,
              "#ed7953"
             ],
             [
              0.7777777777777778,
              "#fb9f3a"
             ],
             [
              0.8888888888888888,
              "#fdca26"
             ],
             [
              1,
              "#f0f921"
             ]
            ],
            "type": "histogram2d"
           }
          ],
          "histogram2dcontour": [
           {
            "colorbar": {
             "outlinewidth": 0,
             "ticks": ""
            },
            "colorscale": [
             [
              0,
              "#0d0887"
             ],
             [
              0.1111111111111111,
              "#46039f"
             ],
             [
              0.2222222222222222,
              "#7201a8"
             ],
             [
              0.3333333333333333,
              "#9c179e"
             ],
             [
              0.4444444444444444,
              "#bd3786"
             ],
             [
              0.5555555555555556,
              "#d8576b"
             ],
             [
              0.6666666666666666,
              "#ed7953"
             ],
             [
              0.7777777777777778,
              "#fb9f3a"
             ],
             [
              0.8888888888888888,
              "#fdca26"
             ],
             [
              1,
              "#f0f921"
             ]
            ],
            "type": "histogram2dcontour"
           }
          ],
          "mesh3d": [
           {
            "colorbar": {
             "outlinewidth": 0,
             "ticks": ""
            },
            "type": "mesh3d"
           }
          ],
          "parcoords": [
           {
            "line": {
             "colorbar": {
              "outlinewidth": 0,
              "ticks": ""
             }
            },
            "type": "parcoords"
           }
          ],
          "pie": [
           {
            "automargin": true,
            "type": "pie"
           }
          ],
          "scatter": [
           {
            "marker": {
             "colorbar": {
              "outlinewidth": 0,
              "ticks": ""
             }
            },
            "type": "scatter"
           }
          ],
          "scatter3d": [
           {
            "line": {
             "colorbar": {
              "outlinewidth": 0,
              "ticks": ""
             }
            },
            "marker": {
             "colorbar": {
              "outlinewidth": 0,
              "ticks": ""
             }
            },
            "type": "scatter3d"
           }
          ],
          "scattercarpet": [
           {
            "marker": {
             "colorbar": {
              "outlinewidth": 0,
              "ticks": ""
             }
            },
            "type": "scattercarpet"
           }
          ],
          "scattergeo": [
           {
            "marker": {
             "colorbar": {
              "outlinewidth": 0,
              "ticks": ""
             }
            },
            "type": "scattergeo"
           }
          ],
          "scattergl": [
           {
            "marker": {
             "colorbar": {
              "outlinewidth": 0,
              "ticks": ""
             }
            },
            "type": "scattergl"
           }
          ],
          "scattermapbox": [
           {
            "marker": {
             "colorbar": {
              "outlinewidth": 0,
              "ticks": ""
             }
            },
            "type": "scattermapbox"
           }
          ],
          "scatterpolar": [
           {
            "marker": {
             "colorbar": {
              "outlinewidth": 0,
              "ticks": ""
             }
            },
            "type": "scatterpolar"
           }
          ],
          "scatterpolargl": [
           {
            "marker": {
             "colorbar": {
              "outlinewidth": 0,
              "ticks": ""
             }
            },
            "type": "scatterpolargl"
           }
          ],
          "scatterternary": [
           {
            "marker": {
             "colorbar": {
              "outlinewidth": 0,
              "ticks": ""
             }
            },
            "type": "scatterternary"
           }
          ],
          "surface": [
           {
            "colorbar": {
             "outlinewidth": 0,
             "ticks": ""
            },
            "colorscale": [
             [
              0,
              "#0d0887"
             ],
             [
              0.1111111111111111,
              "#46039f"
             ],
             [
              0.2222222222222222,
              "#7201a8"
             ],
             [
              0.3333333333333333,
              "#9c179e"
             ],
             [
              0.4444444444444444,
              "#bd3786"
             ],
             [
              0.5555555555555556,
              "#d8576b"
             ],
             [
              0.6666666666666666,
              "#ed7953"
             ],
             [
              0.7777777777777778,
              "#fb9f3a"
             ],
             [
              0.8888888888888888,
              "#fdca26"
             ],
             [
              1,
              "#f0f921"
             ]
            ],
            "type": "surface"
           }
          ],
          "table": [
           {
            "cells": {
             "fill": {
              "color": "#EBF0F8"
             },
             "line": {
              "color": "white"
             }
            },
            "header": {
             "fill": {
              "color": "#C8D4E3"
             },
             "line": {
              "color": "white"
             }
            },
            "type": "table"
           }
          ]
         },
         "layout": {
          "annotationdefaults": {
           "arrowcolor": "#2a3f5f",
           "arrowhead": 0,
           "arrowwidth": 1
          },
          "coloraxis": {
           "colorbar": {
            "outlinewidth": 0,
            "ticks": ""
           }
          },
          "colorscale": {
           "diverging": [
            [
             0,
             "#8e0152"
            ],
            [
             0.1,
             "#c51b7d"
            ],
            [
             0.2,
             "#de77ae"
            ],
            [
             0.3,
             "#f1b6da"
            ],
            [
             0.4,
             "#fde0ef"
            ],
            [
             0.5,
             "#f7f7f7"
            ],
            [
             0.6,
             "#e6f5d0"
            ],
            [
             0.7,
             "#b8e186"
            ],
            [
             0.8,
             "#7fbc41"
            ],
            [
             0.9,
             "#4d9221"
            ],
            [
             1,
             "#276419"
            ]
           ],
           "sequential": [
            [
             0,
             "#0d0887"
            ],
            [
             0.1111111111111111,
             "#46039f"
            ],
            [
             0.2222222222222222,
             "#7201a8"
            ],
            [
             0.3333333333333333,
             "#9c179e"
            ],
            [
             0.4444444444444444,
             "#bd3786"
            ],
            [
             0.5555555555555556,
             "#d8576b"
            ],
            [
             0.6666666666666666,
             "#ed7953"
            ],
            [
             0.7777777777777778,
             "#fb9f3a"
            ],
            [
             0.8888888888888888,
             "#fdca26"
            ],
            [
             1,
             "#f0f921"
            ]
           ],
           "sequentialminus": [
            [
             0,
             "#0d0887"
            ],
            [
             0.1111111111111111,
             "#46039f"
            ],
            [
             0.2222222222222222,
             "#7201a8"
            ],
            [
             0.3333333333333333,
             "#9c179e"
            ],
            [
             0.4444444444444444,
             "#bd3786"
            ],
            [
             0.5555555555555556,
             "#d8576b"
            ],
            [
             0.6666666666666666,
             "#ed7953"
            ],
            [
             0.7777777777777778,
             "#fb9f3a"
            ],
            [
             0.8888888888888888,
             "#fdca26"
            ],
            [
             1,
             "#f0f921"
            ]
           ]
          },
          "colorway": [
           "#636efa",
           "#EF553B",
           "#00cc96",
           "#ab63fa",
           "#FFA15A",
           "#19d3f3",
           "#FF6692",
           "#B6E880",
           "#FF97FF",
           "#FECB52"
          ],
          "font": {
           "color": "#2a3f5f"
          },
          "geo": {
           "bgcolor": "white",
           "lakecolor": "white",
           "landcolor": "#E5ECF6",
           "showlakes": true,
           "showland": true,
           "subunitcolor": "white"
          },
          "hoverlabel": {
           "align": "left"
          },
          "hovermode": "closest",
          "mapbox": {
           "style": "light"
          },
          "paper_bgcolor": "white",
          "plot_bgcolor": "#E5ECF6",
          "polar": {
           "angularaxis": {
            "gridcolor": "white",
            "linecolor": "white",
            "ticks": ""
           },
           "bgcolor": "#E5ECF6",
           "radialaxis": {
            "gridcolor": "white",
            "linecolor": "white",
            "ticks": ""
           }
          },
          "scene": {
           "xaxis": {
            "backgroundcolor": "#E5ECF6",
            "gridcolor": "white",
            "gridwidth": 2,
            "linecolor": "white",
            "showbackground": true,
            "ticks": "",
            "zerolinecolor": "white"
           },
           "yaxis": {
            "backgroundcolor": "#E5ECF6",
            "gridcolor": "white",
            "gridwidth": 2,
            "linecolor": "white",
            "showbackground": true,
            "ticks": "",
            "zerolinecolor": "white"
           },
           "zaxis": {
            "backgroundcolor": "#E5ECF6",
            "gridcolor": "white",
            "gridwidth": 2,
            "linecolor": "white",
            "showbackground": true,
            "ticks": "",
            "zerolinecolor": "white"
           }
          },
          "shapedefaults": {
           "line": {
            "color": "#2a3f5f"
           }
          },
          "ternary": {
           "aaxis": {
            "gridcolor": "white",
            "linecolor": "white",
            "ticks": ""
           },
           "baxis": {
            "gridcolor": "white",
            "linecolor": "white",
            "ticks": ""
           },
           "bgcolor": "#E5ECF6",
           "caxis": {
            "gridcolor": "white",
            "linecolor": "white",
            "ticks": ""
           }
          },
          "title": {
           "x": 0.05
          },
          "xaxis": {
           "automargin": true,
           "gridcolor": "white",
           "linecolor": "white",
           "ticks": "",
           "title": {
            "standoff": 15
           },
           "zerolinecolor": "white",
           "zerolinewidth": 2
          },
          "yaxis": {
           "automargin": true,
           "gridcolor": "white",
           "linecolor": "white",
           "ticks": "",
           "title": {
            "standoff": 15
           },
           "zerolinecolor": "white",
           "zerolinewidth": 2
          }
         }
        },
        "title": {
         "text": "Average Area covered by 15 minute Walk"
        },
        "xaxis": {
         "anchor": "y",
         "categoryorder": "total ascending",
         "domain": [
          0,
          1
         ],
         "title": {
          "text": "Name"
         }
        },
        "yaxis": {
         "anchor": "x",
         "domain": [
          0,
          1
         ],
         "title": {
          "text": "avg of 15 Minute Range Area"
         }
        }
       }
      }
     },
     "metadata": {},
     "output_type": "display_data"
    }
   ],
   "source": [
    "#Thought it would be fun to draw the 15 minutes walking area coverage for each KL train station, Bukit Bintang is the best, Serdang the worst \n",
    "fig = px.histogram(data_all[data_all[\"City\"]=='Kuala Lumpur']\n",
    "             ,x='Name'\n",
    "             ,y='15 Minute Range Area'\n",
    "             #,color='Route Name'\n",
    "             , labels={'count':'Count of Heroes'}\n",
    "             , title=\"Average Area covered by 15 minute Walk\"\n",
    "             , template='plotly' \n",
    "             , histfunc = 'avg'\n",
    "            ).update_xaxes(categoryorder='total ascending')\n",
    "        \n",
    "fig.show()"
   ]
  },
  {
   "cell_type": "markdown",
   "metadata": {},
   "source": [
    "# Comparing KL with other cities\n",
    "The Singapore and Montreal dataset doesn't really include the equivalent of Komuter trains like KL so i thought it would be unfair to bundle them together because generally the coverage for those stations are not as great due to low density. So i excluded Komuter in the following averages so that we get purely metro style train stations"
   ]
  },
  {
   "cell_type": "code",
   "execution_count": 7,
   "metadata": {},
   "outputs": [
    {
     "data": {
      "text/plain": [
       "array(['Keretapi Tanah Melayu', 'Rapid KL', 'Express Rail Link',\n",
       "       'Rapid Bus'], dtype=object)"
      ]
     },
     "execution_count": 7,
     "metadata": {},
     "output_type": "execute_result"
    }
   ],
   "source": [
    "data_kl['Service Provider Name'].unique()"
   ]
  },
  {
   "cell_type": "code",
   "execution_count": 8,
   "metadata": {},
   "outputs": [],
   "source": [
    "non_rapidkl =['Keretapi Tanah Melayu', 'Express Rail Link','Rapid Bus']\n",
    "data_temp = data_all[(data_all[\"Service Provider Name\"]=='STM')|(data_all[\"Service Provider Name\"]=='Rapid KL')|(data_all[\"Service Provider Name\"]=='SMRT')]"
   ]
  },
  {
   "cell_type": "code",
   "execution_count": 9,
   "metadata": {},
   "outputs": [
    {
     "data": {
      "text/html": [
       "<div>\n",
       "<style scoped>\n",
       "    .dataframe tbody tr th:only-of-type {\n",
       "        vertical-align: middle;\n",
       "    }\n",
       "\n",
       "    .dataframe tbody tr th {\n",
       "        vertical-align: top;\n",
       "    }\n",
       "\n",
       "    .dataframe thead th {\n",
       "        text-align: right;\n",
       "    }\n",
       "</style>\n",
       "<table border=\"1\" class=\"dataframe\">\n",
       "  <thead>\n",
       "    <tr style=\"text-align: right;\">\n",
       "      <th></th>\n",
       "      <th>Name</th>\n",
       "      <th>Route Name</th>\n",
       "      <th>Latitude</th>\n",
       "      <th>Longitude</th>\n",
       "      <th>Line Colour</th>\n",
       "      <th>5 Minute Range Area</th>\n",
       "      <th>10 Minute Range Area</th>\n",
       "      <th>15 Minute Range Area</th>\n",
       "      <th>5 Minute Reach Factor</th>\n",
       "      <th>10 Minute Reach Factor</th>\n",
       "      <th>15 Minute Reach Factor</th>\n",
       "      <th>5 Minute Population</th>\n",
       "      <th>10 Minute Population</th>\n",
       "      <th>15 Minute Population</th>\n",
       "      <th>City</th>\n",
       "      <th>Service Provider Name</th>\n",
       "    </tr>\n",
       "  </thead>\n",
       "  <tbody>\n",
       "    <tr>\n",
       "      <th>60</th>\n",
       "      <td>PWTC</td>\n",
       "      <td>Ampang Line</td>\n",
       "      <td>3.166563</td>\n",
       "      <td>101.693594</td>\n",
       "      <td>Orange</td>\n",
       "      <td>0.337242</td>\n",
       "      <td>1.093349</td>\n",
       "      <td>2.503207</td>\n",
       "      <td>0.6183</td>\n",
       "      <td>0.5012</td>\n",
       "      <td>0.5099</td>\n",
       "      <td>2186.0</td>\n",
       "      <td>7710.0</td>\n",
       "      <td>16554.0</td>\n",
       "      <td>Kuala Lumpur</td>\n",
       "      <td>Rapid KL</td>\n",
       "    </tr>\n",
       "    <tr>\n",
       "      <th>61</th>\n",
       "      <td>SULTAN ISMAIL</td>\n",
       "      <td>Ampang Line</td>\n",
       "      <td>3.161185</td>\n",
       "      <td>101.694127</td>\n",
       "      <td>Orange</td>\n",
       "      <td>0.154666</td>\n",
       "      <td>0.802314</td>\n",
       "      <td>2.187139</td>\n",
       "      <td>0.2836</td>\n",
       "      <td>0.3678</td>\n",
       "      <td>0.4456</td>\n",
       "      <td>845.0</td>\n",
       "      <td>5572.0</td>\n",
       "      <td>15104.0</td>\n",
       "      <td>Kuala Lumpur</td>\n",
       "      <td>Rapid KL</td>\n",
       "    </tr>\n",
       "    <tr>\n",
       "      <th>62</th>\n",
       "      <td>BANDARAYA</td>\n",
       "      <td>Ampang Line</td>\n",
       "      <td>3.155548</td>\n",
       "      <td>101.694406</td>\n",
       "      <td>Orange</td>\n",
       "      <td>0.331767</td>\n",
       "      <td>1.329914</td>\n",
       "      <td>2.975538</td>\n",
       "      <td>0.6083</td>\n",
       "      <td>0.6096</td>\n",
       "      <td>0.6062</td>\n",
       "      <td>2141.0</td>\n",
       "      <td>8555.0</td>\n",
       "      <td>20457.0</td>\n",
       "      <td>Kuala Lumpur</td>\n",
       "      <td>Rapid KL</td>\n",
       "    </tr>\n",
       "    <tr>\n",
       "      <th>63</th>\n",
       "      <td>TITIWANGSA</td>\n",
       "      <td>Ampang Line</td>\n",
       "      <td>3.173591</td>\n",
       "      <td>101.695273</td>\n",
       "      <td>Orange</td>\n",
       "      <td>0.377274</td>\n",
       "      <td>1.317302</td>\n",
       "      <td>3.249895</td>\n",
       "      <td>0.6917</td>\n",
       "      <td>0.6038</td>\n",
       "      <td>0.6621</td>\n",
       "      <td>3133.0</td>\n",
       "      <td>9015.0</td>\n",
       "      <td>21377.0</td>\n",
       "      <td>Kuala Lumpur</td>\n",
       "      <td>Rapid KL</td>\n",
       "    </tr>\n",
       "    <tr>\n",
       "      <th>64</th>\n",
       "      <td>SENTUL TIMUR</td>\n",
       "      <td>Ampang Line</td>\n",
       "      <td>3.185821</td>\n",
       "      <td>101.695335</td>\n",
       "      <td>Orange</td>\n",
       "      <td>0.159329</td>\n",
       "      <td>0.980199</td>\n",
       "      <td>2.301548</td>\n",
       "      <td>0.2921</td>\n",
       "      <td>0.4493</td>\n",
       "      <td>0.4689</td>\n",
       "      <td>847.0</td>\n",
       "      <td>7814.0</td>\n",
       "      <td>16574.0</td>\n",
       "      <td>Kuala Lumpur</td>\n",
       "      <td>Rapid KL</td>\n",
       "    </tr>\n",
       "    <tr>\n",
       "      <th>...</th>\n",
       "      <td>...</td>\n",
       "      <td>...</td>\n",
       "      <td>...</td>\n",
       "      <td>...</td>\n",
       "      <td>...</td>\n",
       "      <td>...</td>\n",
       "      <td>...</td>\n",
       "      <td>...</td>\n",
       "      <td>...</td>\n",
       "      <td>...</td>\n",
       "      <td>...</td>\n",
       "      <td>...</td>\n",
       "      <td>...</td>\n",
       "      <td>...</td>\n",
       "      <td>...</td>\n",
       "      <td>...</td>\n",
       "    </tr>\n",
       "    <tr>\n",
       "      <th>68</th>\n",
       "      <td>D'Iberville</td>\n",
       "      <td>Blue Line</td>\n",
       "      <td>45.553078</td>\n",
       "      <td>-73.602270</td>\n",
       "      <td>Blue</td>\n",
       "      <td>0.392088</td>\n",
       "      <td>1.532228</td>\n",
       "      <td>3.482008</td>\n",
       "      <td>0.7189</td>\n",
       "      <td>0.7023</td>\n",
       "      <td>0.7093</td>\n",
       "      <td>4854.0</td>\n",
       "      <td>16359.0</td>\n",
       "      <td>40443.0</td>\n",
       "      <td>Montreal</td>\n",
       "      <td>STM</td>\n",
       "    </tr>\n",
       "    <tr>\n",
       "      <th>69</th>\n",
       "      <td>Saint-Michel</td>\n",
       "      <td>Blue Line</td>\n",
       "      <td>45.559813</td>\n",
       "      <td>-73.599940</td>\n",
       "      <td>Blue</td>\n",
       "      <td>0.375009</td>\n",
       "      <td>1.528195</td>\n",
       "      <td>3.478716</td>\n",
       "      <td>0.6876</td>\n",
       "      <td>0.7005</td>\n",
       "      <td>0.7087</td>\n",
       "      <td>3847.0</td>\n",
       "      <td>16371.0</td>\n",
       "      <td>30414.0</td>\n",
       "      <td>Montreal</td>\n",
       "      <td>STM</td>\n",
       "    </tr>\n",
       "    <tr>\n",
       "      <th>70</th>\n",
       "      <td>Berri–UQAM</td>\n",
       "      <td>Yellow Line</td>\n",
       "      <td>45.515027</td>\n",
       "      <td>-73.561260</td>\n",
       "      <td>Yellow</td>\n",
       "      <td>0.395714</td>\n",
       "      <td>1.521756</td>\n",
       "      <td>3.442349</td>\n",
       "      <td>0.7255</td>\n",
       "      <td>0.6975</td>\n",
       "      <td>0.7013</td>\n",
       "      <td>1952.0</td>\n",
       "      <td>16004.0</td>\n",
       "      <td>33577.0</td>\n",
       "      <td>Montreal</td>\n",
       "      <td>STM</td>\n",
       "    </tr>\n",
       "    <tr>\n",
       "      <th>71</th>\n",
       "      <td>Jean-Drapeau</td>\n",
       "      <td>Yellow Line</td>\n",
       "      <td>45.512435</td>\n",
       "      <td>-73.533170</td>\n",
       "      <td>Yellow</td>\n",
       "      <td>0.357867</td>\n",
       "      <td>1.249158</td>\n",
       "      <td>2.073656</td>\n",
       "      <td>0.6561</td>\n",
       "      <td>0.5726</td>\n",
       "      <td>0.4224</td>\n",
       "      <td>0.0</td>\n",
       "      <td>0.0</td>\n",
       "      <td>0.0</td>\n",
       "      <td>Montreal</td>\n",
       "      <td>STM</td>\n",
       "    </tr>\n",
       "    <tr>\n",
       "      <th>72</th>\n",
       "      <td>Longueuil–Université-de-Sherbrooke</td>\n",
       "      <td>Yellow Line</td>\n",
       "      <td>45.524966</td>\n",
       "      <td>-73.521970</td>\n",
       "      <td>Yellow</td>\n",
       "      <td>0.274063</td>\n",
       "      <td>0.869148</td>\n",
       "      <td>1.877722</td>\n",
       "      <td>0.5025</td>\n",
       "      <td>0.3984</td>\n",
       "      <td>0.3825</td>\n",
       "      <td>3288.0</td>\n",
       "      <td>4240.0</td>\n",
       "      <td>7946.0</td>\n",
       "      <td>Montreal</td>\n",
       "      <td>STM</td>\n",
       "    </tr>\n",
       "  </tbody>\n",
       "</table>\n",
       "<p>387 rows × 16 columns</p>\n",
       "</div>"
      ],
      "text/plain": [
       "                                  Name   Route Name   Latitude   Longitude  \\\n",
       "60                                PWTC  Ampang Line   3.166563  101.693594   \n",
       "61                       SULTAN ISMAIL  Ampang Line   3.161185  101.694127   \n",
       "62                           BANDARAYA  Ampang Line   3.155548  101.694406   \n",
       "63                          TITIWANGSA  Ampang Line   3.173591  101.695273   \n",
       "64                        SENTUL TIMUR  Ampang Line   3.185821  101.695335   \n",
       "..                                 ...          ...        ...         ...   \n",
       "68                         D'Iberville    Blue Line  45.553078  -73.602270   \n",
       "69                        Saint-Michel    Blue Line  45.559813  -73.599940   \n",
       "70                          Berri–UQAM  Yellow Line  45.515027  -73.561260   \n",
       "71                        Jean-Drapeau  Yellow Line  45.512435  -73.533170   \n",
       "72  Longueuil–Université-de-Sherbrooke  Yellow Line  45.524966  -73.521970   \n",
       "\n",
       "   Line Colour  5 Minute Range Area  10 Minute Range Area  \\\n",
       "60      Orange             0.337242              1.093349   \n",
       "61      Orange             0.154666              0.802314   \n",
       "62      Orange             0.331767              1.329914   \n",
       "63      Orange             0.377274              1.317302   \n",
       "64      Orange             0.159329              0.980199   \n",
       "..         ...                  ...                   ...   \n",
       "68        Blue             0.392088              1.532228   \n",
       "69        Blue             0.375009              1.528195   \n",
       "70      Yellow             0.395714              1.521756   \n",
       "71      Yellow             0.357867              1.249158   \n",
       "72      Yellow             0.274063              0.869148   \n",
       "\n",
       "    15 Minute Range Area  5 Minute Reach Factor  10 Minute Reach Factor  \\\n",
       "60              2.503207                 0.6183                  0.5012   \n",
       "61              2.187139                 0.2836                  0.3678   \n",
       "62              2.975538                 0.6083                  0.6096   \n",
       "63              3.249895                 0.6917                  0.6038   \n",
       "64              2.301548                 0.2921                  0.4493   \n",
       "..                   ...                    ...                     ...   \n",
       "68              3.482008                 0.7189                  0.7023   \n",
       "69              3.478716                 0.6876                  0.7005   \n",
       "70              3.442349                 0.7255                  0.6975   \n",
       "71              2.073656                 0.6561                  0.5726   \n",
       "72              1.877722                 0.5025                  0.3984   \n",
       "\n",
       "    15 Minute Reach Factor  5 Minute Population  10 Minute Population  \\\n",
       "60                  0.5099               2186.0                7710.0   \n",
       "61                  0.4456                845.0                5572.0   \n",
       "62                  0.6062               2141.0                8555.0   \n",
       "63                  0.6621               3133.0                9015.0   \n",
       "64                  0.4689                847.0                7814.0   \n",
       "..                     ...                  ...                   ...   \n",
       "68                  0.7093               4854.0               16359.0   \n",
       "69                  0.7087               3847.0               16371.0   \n",
       "70                  0.7013               1952.0               16004.0   \n",
       "71                  0.4224                  0.0                   0.0   \n",
       "72                  0.3825               3288.0                4240.0   \n",
       "\n",
       "    15 Minute Population          City Service Provider Name  \n",
       "60               16554.0  Kuala Lumpur              Rapid KL  \n",
       "61               15104.0  Kuala Lumpur              Rapid KL  \n",
       "62               20457.0  Kuala Lumpur              Rapid KL  \n",
       "63               21377.0  Kuala Lumpur              Rapid KL  \n",
       "64               16574.0  Kuala Lumpur              Rapid KL  \n",
       "..                   ...           ...                   ...  \n",
       "68               40443.0      Montreal                   STM  \n",
       "69               30414.0      Montreal                   STM  \n",
       "70               33577.0      Montreal                   STM  \n",
       "71                   0.0      Montreal                   STM  \n",
       "72                7946.0      Montreal                   STM  \n",
       "\n",
       "[387 rows x 16 columns]"
      ]
     },
     "execution_count": 9,
     "metadata": {},
     "output_type": "execute_result"
    }
   ],
   "source": [
    "data_temp"
   ]
  },
  {
   "cell_type": "code",
   "execution_count": 25,
   "metadata": {},
   "outputs": [
    {
     "data": {
      "application/vnd.plotly.v1+json": {
       "config": {
        "plotlyServerURL": "https://plot.ly"
       },
       "data": [
        {
         "alignmentgroup": "True",
         "bingroup": "x",
         "histfunc": "avg",
         "hovertemplate": "variable=5 Minute Range Area<br>City=%{x}<br>avg of Walkable Area Coverage(km^2)=%{y}<extra></extra>",
         "legendgroup": "5 Minute Range Area",
         "marker": {
          "color": "#636efa"
         },
         "name": "5 Minute Range Area",
         "offsetgroup": "5 Minute Range Area",
         "orientation": "v",
         "showlegend": true,
         "type": "histogram",
         "x": [
          "Kuala Lumpur",
          "Kuala Lumpur",
          "Kuala Lumpur",
          "Kuala Lumpur",
          "Kuala Lumpur",
          "Kuala Lumpur",
          "Kuala Lumpur",
          "Kuala Lumpur",
          "Kuala Lumpur",
          "Kuala Lumpur",
          "Kuala Lumpur",
          "Kuala Lumpur",
          "Kuala Lumpur",
          "Kuala Lumpur",
          "Kuala Lumpur",
          "Kuala Lumpur",
          "Kuala Lumpur",
          "Kuala Lumpur",
          "Kuala Lumpur",
          "Kuala Lumpur",
          "Kuala Lumpur",
          "Kuala Lumpur",
          "Kuala Lumpur",
          "Kuala Lumpur",
          "Kuala Lumpur",
          "Kuala Lumpur",
          "Kuala Lumpur",
          "Kuala Lumpur",
          "Kuala Lumpur",
          "Kuala Lumpur",
          "Kuala Lumpur",
          "Kuala Lumpur",
          "Kuala Lumpur",
          "Kuala Lumpur",
          "Kuala Lumpur",
          "Kuala Lumpur",
          "Kuala Lumpur",
          "Kuala Lumpur",
          "Kuala Lumpur",
          "Kuala Lumpur",
          "Kuala Lumpur",
          "Kuala Lumpur",
          "Kuala Lumpur",
          "Kuala Lumpur",
          "Kuala Lumpur",
          "Kuala Lumpur",
          "Kuala Lumpur",
          "Kuala Lumpur",
          "Kuala Lumpur",
          "Kuala Lumpur",
          "Kuala Lumpur",
          "Kuala Lumpur",
          "Kuala Lumpur",
          "Kuala Lumpur",
          "Kuala Lumpur",
          "Kuala Lumpur",
          "Kuala Lumpur",
          "Kuala Lumpur",
          "Kuala Lumpur",
          "Kuala Lumpur",
          "Kuala Lumpur",
          "Kuala Lumpur",
          "Kuala Lumpur",
          "Kuala Lumpur",
          "Kuala Lumpur",
          "Kuala Lumpur",
          "Kuala Lumpur",
          "Kuala Lumpur",
          "Kuala Lumpur",
          "Kuala Lumpur",
          "Kuala Lumpur",
          "Kuala Lumpur",
          "Kuala Lumpur",
          "Kuala Lumpur",
          "Kuala Lumpur",
          "Kuala Lumpur",
          "Kuala Lumpur",
          "Kuala Lumpur",
          "Kuala Lumpur",
          "Kuala Lumpur",
          "Kuala Lumpur",
          "Kuala Lumpur",
          "Kuala Lumpur",
          "Kuala Lumpur",
          "Kuala Lumpur",
          "Kuala Lumpur",
          "Kuala Lumpur",
          "Kuala Lumpur",
          "Kuala Lumpur",
          "Kuala Lumpur",
          "Kuala Lumpur",
          "Kuala Lumpur",
          "Kuala Lumpur",
          "Kuala Lumpur",
          "Kuala Lumpur",
          "Kuala Lumpur",
          "Kuala Lumpur",
          "Kuala Lumpur",
          "Kuala Lumpur",
          "Kuala Lumpur",
          "Kuala Lumpur",
          "Kuala Lumpur",
          "Kuala Lumpur",
          "Kuala Lumpur",
          "Kuala Lumpur",
          "Kuala Lumpur",
          "Kuala Lumpur",
          "Kuala Lumpur",
          "Kuala Lumpur",
          "Kuala Lumpur",
          "Kuala Lumpur",
          "Kuala Lumpur",
          "Kuala Lumpur",
          "Kuala Lumpur",
          "Kuala Lumpur",
          "Kuala Lumpur",
          "Kuala Lumpur",
          "Kuala Lumpur",
          "Kuala Lumpur",
          "Kuala Lumpur",
          "Kuala Lumpur",
          "Kuala Lumpur",
          "Kuala Lumpur",
          "Kuala Lumpur",
          "Kuala Lumpur",
          "Kuala Lumpur",
          "Singapore",
          "Singapore",
          "Singapore",
          "Singapore",
          "Singapore",
          "Singapore",
          "Singapore",
          "Singapore",
          "Singapore",
          "Singapore",
          "Singapore",
          "Singapore",
          "Singapore",
          "Singapore",
          "Singapore",
          "Singapore",
          "Singapore",
          "Singapore",
          "Singapore",
          "Singapore",
          "Singapore",
          "Singapore",
          "Singapore",
          "Singapore",
          "Singapore",
          "Singapore",
          "Singapore",
          "Singapore",
          "Singapore",
          "Singapore",
          "Singapore",
          "Singapore",
          "Singapore",
          "Singapore",
          "Singapore",
          "Singapore",
          "Singapore",
          "Singapore",
          "Singapore",
          "Singapore",
          "Singapore",
          "Singapore",
          "Singapore",
          "Singapore",
          "Singapore",
          "Singapore",
          "Singapore",
          "Singapore",
          "Singapore",
          "Singapore",
          "Singapore",
          "Singapore",
          "Singapore",
          "Singapore",
          "Singapore",
          "Singapore",
          "Singapore",
          "Singapore",
          "Singapore",
          "Singapore",
          "Singapore",
          "Singapore",
          "Singapore",
          "Singapore",
          "Singapore",
          "Singapore",
          "Singapore",
          "Singapore",
          "Singapore",
          "Singapore",
          "Singapore",
          "Singapore",
          "Singapore",
          "Singapore",
          "Singapore",
          "Singapore",
          "Singapore",
          "Singapore",
          "Singapore",
          "Singapore",
          "Singapore",
          "Singapore",
          "Singapore",
          "Singapore",
          "Singapore",
          "Singapore",
          "Singapore",
          "Singapore",
          "Singapore",
          "Singapore",
          "Singapore",
          "Singapore",
          "Singapore",
          "Singapore",
          "Singapore",
          "Singapore",
          "Singapore",
          "Singapore",
          "Singapore",
          "Singapore",
          "Singapore",
          "Singapore",
          "Singapore",
          "Singapore",
          "Singapore",
          "Singapore",
          "Singapore",
          "Singapore",
          "Singapore",
          "Singapore",
          "Singapore",
          "Singapore",
          "Singapore",
          "Singapore",
          "Singapore",
          "Singapore",
          "Singapore",
          "Singapore",
          "Singapore",
          "Singapore",
          "Singapore",
          "Singapore",
          "Singapore",
          "Singapore",
          "Singapore",
          "Singapore",
          "Singapore",
          "Singapore",
          "Singapore",
          "Singapore",
          "Singapore",
          "Singapore",
          "Singapore",
          "Singapore",
          "Singapore",
          "Singapore",
          "Singapore",
          "Singapore",
          "Singapore",
          "Singapore",
          "Singapore",
          "Singapore",
          "Singapore",
          "Singapore",
          "Singapore",
          "Singapore",
          "Singapore",
          "Singapore",
          "Singapore",
          "Singapore",
          "Singapore",
          "Singapore",
          "Singapore",
          "Singapore",
          "Singapore",
          "Singapore",
          "Singapore",
          "Singapore",
          "Singapore",
          "Singapore",
          "Singapore",
          "Singapore",
          "Singapore",
          "Singapore",
          "Singapore",
          "Singapore",
          "Singapore",
          "Singapore",
          "Singapore",
          "Singapore",
          "Singapore",
          "Singapore",
          "Singapore",
          "Singapore",
          "Singapore",
          "Singapore",
          "Singapore",
          "Singapore",
          "Singapore",
          "Singapore",
          "Singapore",
          "Singapore",
          "Singapore",
          "Singapore",
          "Singapore",
          "Singapore",
          "Singapore",
          "Singapore",
          "Montreal",
          "Montreal",
          "Montreal",
          "Montreal",
          "Montreal",
          "Montreal",
          "Montreal",
          "Montreal",
          "Montreal",
          "Montreal",
          "Montreal",
          "Montreal",
          "Montreal",
          "Montreal",
          "Montreal",
          "Montreal",
          "Montreal",
          "Montreal",
          "Montreal",
          "Montreal",
          "Montreal",
          "Montreal",
          "Montreal",
          "Montreal",
          "Montreal",
          "Montreal",
          "Montreal",
          "Montreal",
          "Montreal",
          "Montreal",
          "Montreal",
          "Montreal",
          "Montreal",
          "Montreal",
          "Montreal",
          "Montreal",
          "Montreal",
          "Montreal",
          "Montreal",
          "Montreal",
          "Montreal",
          "Montreal",
          "Montreal",
          "Montreal",
          "Montreal",
          "Montreal",
          "Montreal",
          "Montreal",
          "Montreal",
          "Montreal",
          "Montreal",
          "Montreal",
          "Montreal",
          "Montreal",
          "Montreal",
          "Montreal",
          "Montreal",
          "Montreal",
          "Montreal",
          "Montreal",
          "Montreal",
          "Montreal",
          "Montreal",
          "Montreal",
          "Montreal",
          "Montreal",
          "Montreal",
          "Montreal",
          "Montreal",
          "Montreal",
          "Montreal",
          "Montreal",
          "Montreal"
         ],
         "xaxis": "x",
         "y": [
          0.33724218,
          0.1546662,
          0.33176681,
          0.37727368,
          0.15932879,
          0.24879704,
          0.35354969,
          0.07686364,
          0.29995945,
          0.20698176,
          0.08520355,
          0.10908823,
          0.12765432000000002,
          0.10372052,
          0.30964279,
          0.21829926,
          0.14038832999999998,
          0.08700395,
          0.15914785,
          0.31987013000000003,
          0.36440737,
          0.28778113,
          0.18058166,
          0.25175232000000003,
          0.14368163,
          0.09205028,
          0.15237542,
          0.31456235,
          0.11328153,
          0.17176765,
          0.35933424,
          0.33724218,
          0.1546662,
          0.33176681,
          0.37727368,
          0.15932879,
          0.24879704,
          0.35354969,
          0.07686364,
          0.29995945,
          0.18159136,
          0.19527194,
          0.09621198,
          0.20698176,
          0.16106156,
          0.22306622,
          0.08520355,
          0.02267377,
          0.12847033,
          0.15774998999999998,
          0.16809358,
          0.28003389,
          0.19492496,
          0.22591129,
          0.11824999,
          0.28283391,
          0.35358716,
          0.14676751999999998,
          0.02152531,
          0.27510395,
          0.24235682,
          0.3222016,
          0.18799781,
          0.22266883,
          0.24884647,
          0.25081894,
          0.23236677,
          0.06879924000000001,
          0.28727626,
          0.26123897,
          0.29123198,
          0.32106086,
          0.21444045,
          0.17781184,
          0.33269748,
          0.20476568,
          0.32679448,
          0.0971136,
          0.16797594,
          0.020076300000000002,
          0.29868451,
          0.23714405,
          0.23981816,
          0.08149613,
          0.282571,
          0.32216819,
          0.19872931,
          0.40916697,
          0.23397354,
          0.18207893,
          0.30759115000000004,
          0.14989506,
          0.26908476000000003,
          0.32843958,
          0.36637874,
          0.08337092,
          0.14304667,
          0.10847691,
          0.24301521,
          0.06015653,
          0.18350335,
          0.2537391,
          0.05812919,
          0.21586482,
          0.11754646,
          0.16716919,
          0.18153927,
          0.21390516,
          0.30103121,
          0.20341446,
          0.40743421,
          0.09877055,
          0.32171969,
          0.22988957,
          0.30111587,
          0.24658695,
          0.15422356,
          0.10901780000000001,
          0.17065887,
          0.08552002,
          0.18767169,
          0.13546985,
          0.06215426,
          0.21858111,
          0.31359252000000004,
          0.12926258999999998,
          0.32083076,
          0.24974448,
          0.39122226,
          0.35549572,
          0.40423276,
          0.23860742,
          0.38141276,
          0.37592321,
          0.32682163000000003,
          0.38039419,
          0.22064463,
          0.27596921,
          0.4038661,
          0.29721442,
          0.04368641,
          0.37988838,
          0.33689349,
          0.30012209,
          0.35519624,
          0.21481487,
          0.10788819,
          0.25373975,
          0.37328935,
          0.36428131,
          0.33806044,
          0.35140752000000003,
          0.30217058,
          0.41911905,
          0.25963923,
          0.40034478,
          0.39344699,
          0.37079496,
          0.31394972,
          0.36673288,
          0.27050781,
          0.29378288,
          0.33596387,
          0.30124514,
          0.27060484999999995,
          0.39712975,
          0.26134764,
          0.28028084000000003,
          0.36694037,
          0.3469751,
          0.3237457,
          0.29145252,
          0.30467572,
          0.34119790000000005,
          0.30120607,
          0.29333324,
          0.22607003,
          0.32384003,
          0.29099093,
          0.27612154,
          0.28898696,
          0.27828554,
          0.39032676,
          0.17509821,
          0.29890735,
          0.34112614,
          0.24869253,
          0.31770639,
          0.38106891,
          0.16705035,
          0.40615219,
          0.39032676,
          0.39032676,
          0.17444122,
          0.30015401,
          0.23522243,
          0.26207781,
          0.13936781,
          0.44662694,
          0.21257505,
          0.36649291,
          0.39269192,
          0.31185648,
          0.05565127,
          0.35452717,
          0.12260258,
          0.39788734,
          0.20661844,
          0.33600344,
          0.28256859,
          0.43725735,
          0.25569524,
          0.30815654,
          0.30385473,
          0.32792069,
          0.24440502,
          0.36379326,
          0.38939618,
          0.23860742,
          0.23860742,
          0.16077712,
          0.01274809,
          0.08822469999999999,
          0.33049512,
          0.28049632,
          0.33406233,
          0.37923081,
          0.30792559,
          0.3003659,
          0.40118079,
          0.30786795,
          0.30988151,
          0.33830562,
          0.32408999,
          0.14790731,
          0.29842571999999995,
          0.31364039,
          0.03951637,
          0.40002796,
          0.27584246999999995,
          0.37443396,
          0.06117714,
          0.32973487,
          0.38721209,
          0.28670156,
          0.30587506,
          0.37675099,
          0.24746583,
          0.24919145,
          0.22610717,
          0.35356203,
          0.3965147,
          0.3473953,
          0.25624502,
          0.29428877000000003,
          0.40720284,
          0.26925827,
          0.15680152,
          0.39879008,
          0.37728026,
          0.31655628,
          0.14790731,
          0.14790731,
          0.30854023,
          0.33272704,
          0.31336999,
          0.31360144,
          0.20174143,
          0.35522732,
          0.22610717,
          0.22610717,
          0.31278875,
          0.26354590000000006,
          0.12733044999999998,
          0.29092321000000004,
          0.32774196,
          0.3105843,
          0.26222574,
          0.25356893,
          0.29428877000000003,
          0.29428877000000003,
          0.16151010000000002,
          0.20174942,
          0.12947608,
          0.32442305,
          0.14335177,
          0.19179456,
          0.35066585,
          0.23964457,
          0.32246328,
          0.27496883,
          0.34496908000000004,
          0.32175121,
          0.24434739000000005,
          0.27374774,
          0.26486935,
          0.15856835,
          0.316239,
          0.26796662,
          0.27538221,
          0.22809766,
          0.30385665,
          0.27795057,
          0.35497017,
          0.23677624,
          0.22940376,
          0.37261368,
          0.29435137,
          0.31078164,
          0.34631443,
          0.29890735,
          0.30945208,
          0.30660389,
          0.03287103,
          0.37383366,
          0.3914287,
          0.37632413,
          0.38748382,
          0.4035171,
          0.28849926000000004,
          0.42427207,
          0.37267480000000003,
          0.40749663,
          0.38254458,
          0.39522666,
          0.39400676,
          0.39505627,
          0.3986232,
          0.39571435,
          0.18676032,
          0.25110096,
          0.37973419,
          0.40275467,
          0.37726783,
          0.34685577,
          0.34242676,
          0.33127459000000004,
          0.38379295,
          0.39764963,
          0.37805018,
          0.39478023,
          0.409486,
          0.38677325,
          0.26703797,
          0.40911922,
          0.41268376,
          0.38813196,
          0.34906852,
          0.38260035,
          0.3500844,
          0.34186343,
          0.17970057,
          0.39934889,
          0.35178218,
          0.40195145,
          0.37601133,
          0.35873564,
          0.32598871999999995,
          0.32518096,
          0.36354624,
          0.29776519,
          0.08345632,
          0.3244336,
          0.34680237,
          0.38793811,
          0.39087348,
          0.3912551,
          0.41350870000000006,
          0.36868676,
          0.29508840000000003,
          0.34035555,
          0.35036949,
          0.34906852,
          0.39640117,
          0.29979778,
          0.34585941,
          0.37597107,
          0.38903384,
          0.33710517,
          0.40669168,
          0.38816969,
          0.39178688,
          0.39208831,
          0.3750088,
          0.39571435,
          0.35786694,
          0.27406334000000004
         ],
         "yaxis": "y"
        },
        {
         "alignmentgroup": "True",
         "bingroup": "x",
         "histfunc": "avg",
         "hovertemplate": "variable=10 Minute Range Area<br>City=%{x}<br>avg of Walkable Area Coverage(km^2)=%{y}<extra></extra>",
         "legendgroup": "10 Minute Range Area",
         "marker": {
          "color": "#EF553B"
         },
         "name": "10 Minute Range Area",
         "offsetgroup": "10 Minute Range Area",
         "orientation": "v",
         "showlegend": true,
         "type": "histogram",
         "x": [
          "Kuala Lumpur",
          "Kuala Lumpur",
          "Kuala Lumpur",
          "Kuala Lumpur",
          "Kuala Lumpur",
          "Kuala Lumpur",
          "Kuala Lumpur",
          "Kuala Lumpur",
          "Kuala Lumpur",
          "Kuala Lumpur",
          "Kuala Lumpur",
          "Kuala Lumpur",
          "Kuala Lumpur",
          "Kuala Lumpur",
          "Kuala Lumpur",
          "Kuala Lumpur",
          "Kuala Lumpur",
          "Kuala Lumpur",
          "Kuala Lumpur",
          "Kuala Lumpur",
          "Kuala Lumpur",
          "Kuala Lumpur",
          "Kuala Lumpur",
          "Kuala Lumpur",
          "Kuala Lumpur",
          "Kuala Lumpur",
          "Kuala Lumpur",
          "Kuala Lumpur",
          "Kuala Lumpur",
          "Kuala Lumpur",
          "Kuala Lumpur",
          "Kuala Lumpur",
          "Kuala Lumpur",
          "Kuala Lumpur",
          "Kuala Lumpur",
          "Kuala Lumpur",
          "Kuala Lumpur",
          "Kuala Lumpur",
          "Kuala Lumpur",
          "Kuala Lumpur",
          "Kuala Lumpur",
          "Kuala Lumpur",
          "Kuala Lumpur",
          "Kuala Lumpur",
          "Kuala Lumpur",
          "Kuala Lumpur",
          "Kuala Lumpur",
          "Kuala Lumpur",
          "Kuala Lumpur",
          "Kuala Lumpur",
          "Kuala Lumpur",
          "Kuala Lumpur",
          "Kuala Lumpur",
          "Kuala Lumpur",
          "Kuala Lumpur",
          "Kuala Lumpur",
          "Kuala Lumpur",
          "Kuala Lumpur",
          "Kuala Lumpur",
          "Kuala Lumpur",
          "Kuala Lumpur",
          "Kuala Lumpur",
          "Kuala Lumpur",
          "Kuala Lumpur",
          "Kuala Lumpur",
          "Kuala Lumpur",
          "Kuala Lumpur",
          "Kuala Lumpur",
          "Kuala Lumpur",
          "Kuala Lumpur",
          "Kuala Lumpur",
          "Kuala Lumpur",
          "Kuala Lumpur",
          "Kuala Lumpur",
          "Kuala Lumpur",
          "Kuala Lumpur",
          "Kuala Lumpur",
          "Kuala Lumpur",
          "Kuala Lumpur",
          "Kuala Lumpur",
          "Kuala Lumpur",
          "Kuala Lumpur",
          "Kuala Lumpur",
          "Kuala Lumpur",
          "Kuala Lumpur",
          "Kuala Lumpur",
          "Kuala Lumpur",
          "Kuala Lumpur",
          "Kuala Lumpur",
          "Kuala Lumpur",
          "Kuala Lumpur",
          "Kuala Lumpur",
          "Kuala Lumpur",
          "Kuala Lumpur",
          "Kuala Lumpur",
          "Kuala Lumpur",
          "Kuala Lumpur",
          "Kuala Lumpur",
          "Kuala Lumpur",
          "Kuala Lumpur",
          "Kuala Lumpur",
          "Kuala Lumpur",
          "Kuala Lumpur",
          "Kuala Lumpur",
          "Kuala Lumpur",
          "Kuala Lumpur",
          "Kuala Lumpur",
          "Kuala Lumpur",
          "Kuala Lumpur",
          "Kuala Lumpur",
          "Kuala Lumpur",
          "Kuala Lumpur",
          "Kuala Lumpur",
          "Kuala Lumpur",
          "Kuala Lumpur",
          "Kuala Lumpur",
          "Kuala Lumpur",
          "Kuala Lumpur",
          "Kuala Lumpur",
          "Kuala Lumpur",
          "Kuala Lumpur",
          "Kuala Lumpur",
          "Kuala Lumpur",
          "Kuala Lumpur",
          "Kuala Lumpur",
          "Kuala Lumpur",
          "Singapore",
          "Singapore",
          "Singapore",
          "Singapore",
          "Singapore",
          "Singapore",
          "Singapore",
          "Singapore",
          "Singapore",
          "Singapore",
          "Singapore",
          "Singapore",
          "Singapore",
          "Singapore",
          "Singapore",
          "Singapore",
          "Singapore",
          "Singapore",
          "Singapore",
          "Singapore",
          "Singapore",
          "Singapore",
          "Singapore",
          "Singapore",
          "Singapore",
          "Singapore",
          "Singapore",
          "Singapore",
          "Singapore",
          "Singapore",
          "Singapore",
          "Singapore",
          "Singapore",
          "Singapore",
          "Singapore",
          "Singapore",
          "Singapore",
          "Singapore",
          "Singapore",
          "Singapore",
          "Singapore",
          "Singapore",
          "Singapore",
          "Singapore",
          "Singapore",
          "Singapore",
          "Singapore",
          "Singapore",
          "Singapore",
          "Singapore",
          "Singapore",
          "Singapore",
          "Singapore",
          "Singapore",
          "Singapore",
          "Singapore",
          "Singapore",
          "Singapore",
          "Singapore",
          "Singapore",
          "Singapore",
          "Singapore",
          "Singapore",
          "Singapore",
          "Singapore",
          "Singapore",
          "Singapore",
          "Singapore",
          "Singapore",
          "Singapore",
          "Singapore",
          "Singapore",
          "Singapore",
          "Singapore",
          "Singapore",
          "Singapore",
          "Singapore",
          "Singapore",
          "Singapore",
          "Singapore",
          "Singapore",
          "Singapore",
          "Singapore",
          "Singapore",
          "Singapore",
          "Singapore",
          "Singapore",
          "Singapore",
          "Singapore",
          "Singapore",
          "Singapore",
          "Singapore",
          "Singapore",
          "Singapore",
          "Singapore",
          "Singapore",
          "Singapore",
          "Singapore",
          "Singapore",
          "Singapore",
          "Singapore",
          "Singapore",
          "Singapore",
          "Singapore",
          "Singapore",
          "Singapore",
          "Singapore",
          "Singapore",
          "Singapore",
          "Singapore",
          "Singapore",
          "Singapore",
          "Singapore",
          "Singapore",
          "Singapore",
          "Singapore",
          "Singapore",
          "Singapore",
          "Singapore",
          "Singapore",
          "Singapore",
          "Singapore",
          "Singapore",
          "Singapore",
          "Singapore",
          "Singapore",
          "Singapore",
          "Singapore",
          "Singapore",
          "Singapore",
          "Singapore",
          "Singapore",
          "Singapore",
          "Singapore",
          "Singapore",
          "Singapore",
          "Singapore",
          "Singapore",
          "Singapore",
          "Singapore",
          "Singapore",
          "Singapore",
          "Singapore",
          "Singapore",
          "Singapore",
          "Singapore",
          "Singapore",
          "Singapore",
          "Singapore",
          "Singapore",
          "Singapore",
          "Singapore",
          "Singapore",
          "Singapore",
          "Singapore",
          "Singapore",
          "Singapore",
          "Singapore",
          "Singapore",
          "Singapore",
          "Singapore",
          "Singapore",
          "Singapore",
          "Singapore",
          "Singapore",
          "Singapore",
          "Singapore",
          "Singapore",
          "Singapore",
          "Singapore",
          "Singapore",
          "Singapore",
          "Singapore",
          "Singapore",
          "Singapore",
          "Singapore",
          "Singapore",
          "Singapore",
          "Singapore",
          "Singapore",
          "Singapore",
          "Singapore",
          "Singapore",
          "Singapore",
          "Singapore",
          "Singapore",
          "Singapore",
          "Singapore",
          "Montreal",
          "Montreal",
          "Montreal",
          "Montreal",
          "Montreal",
          "Montreal",
          "Montreal",
          "Montreal",
          "Montreal",
          "Montreal",
          "Montreal",
          "Montreal",
          "Montreal",
          "Montreal",
          "Montreal",
          "Montreal",
          "Montreal",
          "Montreal",
          "Montreal",
          "Montreal",
          "Montreal",
          "Montreal",
          "Montreal",
          "Montreal",
          "Montreal",
          "Montreal",
          "Montreal",
          "Montreal",
          "Montreal",
          "Montreal",
          "Montreal",
          "Montreal",
          "Montreal",
          "Montreal",
          "Montreal",
          "Montreal",
          "Montreal",
          "Montreal",
          "Montreal",
          "Montreal",
          "Montreal",
          "Montreal",
          "Montreal",
          "Montreal",
          "Montreal",
          "Montreal",
          "Montreal",
          "Montreal",
          "Montreal",
          "Montreal",
          "Montreal",
          "Montreal",
          "Montreal",
          "Montreal",
          "Montreal",
          "Montreal",
          "Montreal",
          "Montreal",
          "Montreal",
          "Montreal",
          "Montreal",
          "Montreal",
          "Montreal",
          "Montreal",
          "Montreal",
          "Montreal",
          "Montreal",
          "Montreal",
          "Montreal",
          "Montreal",
          "Montreal",
          "Montreal",
          "Montreal"
         ],
         "xaxis": "x",
         "y": [
          1.09334887,
          0.80231439,
          1.3299142,
          1.31730172,
          0.98019944,
          0.9941378,
          1.5230143799999998,
          0.7287783299999999,
          1.3736323899999998,
          1.14943278,
          0.68970727,
          0.5937145500000001,
          0.9350726999999999,
          0.4834335,
          1.20690344,
          1.06719648,
          0.86601087,
          0.80194669,
          0.86313283,
          1.15664441,
          1.42769142,
          0.90251369,
          0.52016311,
          0.98766563,
          0.55619289,
          0.66678646,
          0.94313668,
          0.97527387,
          0.6901240799999999,
          0.6597359899999999,
          1.39635365,
          1.09334887,
          0.80231439,
          1.3299142,
          1.31730172,
          0.98019944,
          0.9941378,
          1.5230143799999998,
          0.7287783299999999,
          1.3736323899999998,
          0.6489337,
          0.86325234,
          0.4124528,
          1.14943278,
          0.51988839,
          0.6792649300000001,
          0.68970727,
          0.17516605999999998,
          0.55438652,
          0.86589967,
          0.84586189,
          1.28355542,
          1.19836021,
          0.70439516,
          0.50044574,
          1.38068874,
          1.38658291,
          1.09200724,
          0.39645643,
          1.27643156,
          1.1012631899999998,
          1.49388015,
          1.04064393,
          0.96485189,
          0.98989655,
          1.11638015,
          1.08560675,
          0.5238393,
          1.1931968700000002,
          1.03103308,
          1.24463438,
          1.54427346,
          1.0594265900000002,
          1.09898814,
          1.29000994,
          0.9643110999999999,
          1.3261784399999998,
          0.42379399999999995,
          0.6094221999999999,
          0.4053551,
          1.18938463,
          1.14565526,
          0.93928982,
          0.61438852,
          1.09211687,
          1.12171054,
          1.1069307,
          1.5978103899999998,
          1.367721,
          0.83609601,
          1.31818673,
          1.0102258,
          1.30095197,
          1.54870424,
          1.52258909,
          0.47777056,
          0.32680685,
          0.70574069,
          1.09880969,
          0.25483471,
          1.05479949,
          1.24189861,
          0.34321703000000003,
          1.03133178,
          0.81246512,
          0.792776,
          0.69851637,
          1.00576163,
          1.23598569,
          1.00091417,
          1.61694446,
          0.54084151,
          1.32363621,
          1.39069973,
          1.37199615,
          0.99480425,
          0.93110482,
          0.49464933,
          0.69375911,
          0.41850527,
          0.91200428,
          0.67322998,
          0.41825578,
          1.08586026,
          1.34582422,
          0.6108315799999999,
          1.53113113,
          1.07176247,
          1.5743571200000002,
          1.30611486,
          1.5836738899999998,
          1.1223221,
          1.52608661,
          1.43187952,
          1.3097426799999998,
          1.5553198899999998,
          1.23262706,
          1.29668335,
          1.5002853799999998,
          1.15940331,
          0.74180487,
          1.3721876000000002,
          1.26633734,
          1.1982833000000002,
          1.41948029,
          1.04635007,
          0.78198805,
          1.34657377,
          1.4337218,
          1.55276902,
          1.45506478,
          1.48998349,
          1.03790775,
          1.65000645,
          1.29902357,
          1.58489696,
          1.5840154199999998,
          1.47464092,
          1.17821185,
          1.45935521,
          1.16413859,
          1.05231065,
          1.36783022,
          1.36715596,
          1.03631906,
          1.32333344,
          1.25159535,
          1.2552633999999998,
          1.42343131,
          1.41338068,
          1.11811405,
          1.29016303,
          1.29359923,
          0.98764028,
          1.41934521,
          1.34265833,
          1.13276947,
          1.41821142,
          1.24609581,
          1.13293124,
          1.33398866,
          1.2181877,
          1.43861496,
          1.13605388,
          1.43264901,
          1.47659836,
          1.25530822,
          1.31416863,
          1.5580054,
          1.00376902,
          1.57922438,
          1.43861496,
          1.43861496,
          0.8835772900000001,
          1.29382706,
          1.0968311899999998,
          1.02459187,
          0.68698045,
          1.73175627,
          1.05561514,
          1.66048357,
          1.52046193,
          1.01592012,
          0.55248069,
          1.48035562,
          0.91170193,
          1.59739128,
          1.0772316599999998,
          1.40003077,
          0.87505462,
          1.41707594,
          0.91451141,
          1.14334468,
          1.35140745,
          1.39044743,
          1.14224964,
          1.46785597,
          1.40504356,
          1.1223221,
          1.1223221,
          0.92298066,
          0.33871851000000003,
          0.24268361,
          1.39045251,
          1.30823229,
          1.44840732,
          1.43075665,
          1.33720812,
          1.39628497,
          1.35593387,
          1.38960604,
          1.28243115,
          1.36701456,
          1.42235052,
          0.92021224,
          1.32171204,
          0.95943535,
          0.10312241,
          1.4076495,
          1.28775594,
          1.4869218400000002,
          0.68110763,
          1.29668647,
          1.59865882,
          1.23355012,
          1.3831632,
          1.35192101,
          1.1918581499999998,
          1.23903412,
          1.21292144,
          1.38939346,
          1.57972833,
          1.39108827,
          1.34925203,
          0.97678689,
          1.60258792,
          1.20658632,
          0.86126554,
          1.29953697,
          1.47846389,
          1.43361786,
          0.92021224,
          0.92021224,
          1.29702198,
          1.47306214,
          1.16793905,
          1.39614903,
          0.8396337700000001,
          1.40751916,
          1.21292144,
          1.21292144,
          1.33071668,
          1.29227145,
          0.85271489,
          1.29512364,
          1.41103514,
          1.09679385,
          1.38019256,
          1.05488899,
          0.97678689,
          0.97678689,
          1.13855996,
          1.17049947,
          0.6442948100000001,
          1.42185855,
          0.7980155,
          0.9556007,
          1.27480795,
          1.00123476,
          1.19727392,
          1.26116763,
          1.4444350700000002,
          1.1772221699999998,
          1.11620031,
          0.78895855,
          1.0214803,
          0.46731606,
          1.27100393,
          0.85439594,
          1.25187503,
          0.91093632,
          1.2909656399999998,
          1.29976231,
          1.3580285,
          1.1832616100000002,
          0.8548066400000001,
          1.32153549,
          1.0820693600000002,
          1.31420945,
          1.44305706,
          1.43264901,
          1.02912665,
          1.44749495,
          0.25182782,
          1.34705782,
          1.4375126100000002,
          1.47242364,
          1.4023828,
          1.52110845,
          1.19207575,
          1.47381578,
          1.52285143,
          1.53432354,
          1.52281176,
          1.53811805,
          1.57145841,
          1.55739985,
          1.57319796,
          1.52175602,
          1.01708063,
          1.14510239,
          1.40660781,
          1.46629808,
          1.51447504,
          1.42659356,
          1.10265227,
          1.34732547,
          1.50054257,
          1.53829174,
          1.46451219,
          1.43501709,
          1.5248205700000002,
          1.39950899,
          1.20764753,
          1.3594442,
          1.5466711599999998,
          1.5024729,
          1.4289938999999998,
          1.4343523,
          1.26544768,
          1.29122052,
          1.13618352,
          1.58929685,
          1.46389171,
          1.5246791000000002,
          1.53792079,
          1.4728685,
          1.39041645,
          1.42984118,
          1.4886983,
          1.36187953,
          0.80520038,
          1.3815727,
          1.41828756,
          1.51911249,
          1.5225503,
          1.56619971,
          1.52848107,
          1.44221315,
          1.15283976,
          1.43575701,
          1.28787609,
          1.4289938999999998,
          1.4847229,
          1.2891715700000002,
          1.39858267,
          1.48556951,
          1.5534956000000002,
          1.2365643400000002,
          1.50813383,
          1.5111252,
          1.5108191599999998,
          1.53222806,
          1.5281948,
          1.52175602,
          1.24915759,
          0.86914759
         ],
         "yaxis": "y"
        },
        {
         "alignmentgroup": "True",
         "bingroup": "x",
         "histfunc": "avg",
         "hovertemplate": "variable=15 Minute Range Area<br>City=%{x}<br>avg of Walkable Area Coverage(km^2)=%{y}<extra></extra>",
         "legendgroup": "15 Minute Range Area",
         "marker": {
          "color": "#00cc96"
         },
         "name": "15 Minute Range Area",
         "offsetgroup": "15 Minute Range Area",
         "orientation": "v",
         "showlegend": true,
         "type": "histogram",
         "x": [
          "Kuala Lumpur",
          "Kuala Lumpur",
          "Kuala Lumpur",
          "Kuala Lumpur",
          "Kuala Lumpur",
          "Kuala Lumpur",
          "Kuala Lumpur",
          "Kuala Lumpur",
          "Kuala Lumpur",
          "Kuala Lumpur",
          "Kuala Lumpur",
          "Kuala Lumpur",
          "Kuala Lumpur",
          "Kuala Lumpur",
          "Kuala Lumpur",
          "Kuala Lumpur",
          "Kuala Lumpur",
          "Kuala Lumpur",
          "Kuala Lumpur",
          "Kuala Lumpur",
          "Kuala Lumpur",
          "Kuala Lumpur",
          "Kuala Lumpur",
          "Kuala Lumpur",
          "Kuala Lumpur",
          "Kuala Lumpur",
          "Kuala Lumpur",
          "Kuala Lumpur",
          "Kuala Lumpur",
          "Kuala Lumpur",
          "Kuala Lumpur",
          "Kuala Lumpur",
          "Kuala Lumpur",
          "Kuala Lumpur",
          "Kuala Lumpur",
          "Kuala Lumpur",
          "Kuala Lumpur",
          "Kuala Lumpur",
          "Kuala Lumpur",
          "Kuala Lumpur",
          "Kuala Lumpur",
          "Kuala Lumpur",
          "Kuala Lumpur",
          "Kuala Lumpur",
          "Kuala Lumpur",
          "Kuala Lumpur",
          "Kuala Lumpur",
          "Kuala Lumpur",
          "Kuala Lumpur",
          "Kuala Lumpur",
          "Kuala Lumpur",
          "Kuala Lumpur",
          "Kuala Lumpur",
          "Kuala Lumpur",
          "Kuala Lumpur",
          "Kuala Lumpur",
          "Kuala Lumpur",
          "Kuala Lumpur",
          "Kuala Lumpur",
          "Kuala Lumpur",
          "Kuala Lumpur",
          "Kuala Lumpur",
          "Kuala Lumpur",
          "Kuala Lumpur",
          "Kuala Lumpur",
          "Kuala Lumpur",
          "Kuala Lumpur",
          "Kuala Lumpur",
          "Kuala Lumpur",
          "Kuala Lumpur",
          "Kuala Lumpur",
          "Kuala Lumpur",
          "Kuala Lumpur",
          "Kuala Lumpur",
          "Kuala Lumpur",
          "Kuala Lumpur",
          "Kuala Lumpur",
          "Kuala Lumpur",
          "Kuala Lumpur",
          "Kuala Lumpur",
          "Kuala Lumpur",
          "Kuala Lumpur",
          "Kuala Lumpur",
          "Kuala Lumpur",
          "Kuala Lumpur",
          "Kuala Lumpur",
          "Kuala Lumpur",
          "Kuala Lumpur",
          "Kuala Lumpur",
          "Kuala Lumpur",
          "Kuala Lumpur",
          "Kuala Lumpur",
          "Kuala Lumpur",
          "Kuala Lumpur",
          "Kuala Lumpur",
          "Kuala Lumpur",
          "Kuala Lumpur",
          "Kuala Lumpur",
          "Kuala Lumpur",
          "Kuala Lumpur",
          "Kuala Lumpur",
          "Kuala Lumpur",
          "Kuala Lumpur",
          "Kuala Lumpur",
          "Kuala Lumpur",
          "Kuala Lumpur",
          "Kuala Lumpur",
          "Kuala Lumpur",
          "Kuala Lumpur",
          "Kuala Lumpur",
          "Kuala Lumpur",
          "Kuala Lumpur",
          "Kuala Lumpur",
          "Kuala Lumpur",
          "Kuala Lumpur",
          "Kuala Lumpur",
          "Kuala Lumpur",
          "Kuala Lumpur",
          "Kuala Lumpur",
          "Kuala Lumpur",
          "Kuala Lumpur",
          "Kuala Lumpur",
          "Kuala Lumpur",
          "Kuala Lumpur",
          "Kuala Lumpur",
          "Kuala Lumpur",
          "Singapore",
          "Singapore",
          "Singapore",
          "Singapore",
          "Singapore",
          "Singapore",
          "Singapore",
          "Singapore",
          "Singapore",
          "Singapore",
          "Singapore",
          "Singapore",
          "Singapore",
          "Singapore",
          "Singapore",
          "Singapore",
          "Singapore",
          "Singapore",
          "Singapore",
          "Singapore",
          "Singapore",
          "Singapore",
          "Singapore",
          "Singapore",
          "Singapore",
          "Singapore",
          "Singapore",
          "Singapore",
          "Singapore",
          "Singapore",
          "Singapore",
          "Singapore",
          "Singapore",
          "Singapore",
          "Singapore",
          "Singapore",
          "Singapore",
          "Singapore",
          "Singapore",
          "Singapore",
          "Singapore",
          "Singapore",
          "Singapore",
          "Singapore",
          "Singapore",
          "Singapore",
          "Singapore",
          "Singapore",
          "Singapore",
          "Singapore",
          "Singapore",
          "Singapore",
          "Singapore",
          "Singapore",
          "Singapore",
          "Singapore",
          "Singapore",
          "Singapore",
          "Singapore",
          "Singapore",
          "Singapore",
          "Singapore",
          "Singapore",
          "Singapore",
          "Singapore",
          "Singapore",
          "Singapore",
          "Singapore",
          "Singapore",
          "Singapore",
          "Singapore",
          "Singapore",
          "Singapore",
          "Singapore",
          "Singapore",
          "Singapore",
          "Singapore",
          "Singapore",
          "Singapore",
          "Singapore",
          "Singapore",
          "Singapore",
          "Singapore",
          "Singapore",
          "Singapore",
          "Singapore",
          "Singapore",
          "Singapore",
          "Singapore",
          "Singapore",
          "Singapore",
          "Singapore",
          "Singapore",
          "Singapore",
          "Singapore",
          "Singapore",
          "Singapore",
          "Singapore",
          "Singapore",
          "Singapore",
          "Singapore",
          "Singapore",
          "Singapore",
          "Singapore",
          "Singapore",
          "Singapore",
          "Singapore",
          "Singapore",
          "Singapore",
          "Singapore",
          "Singapore",
          "Singapore",
          "Singapore",
          "Singapore",
          "Singapore",
          "Singapore",
          "Singapore",
          "Singapore",
          "Singapore",
          "Singapore",
          "Singapore",
          "Singapore",
          "Singapore",
          "Singapore",
          "Singapore",
          "Singapore",
          "Singapore",
          "Singapore",
          "Singapore",
          "Singapore",
          "Singapore",
          "Singapore",
          "Singapore",
          "Singapore",
          "Singapore",
          "Singapore",
          "Singapore",
          "Singapore",
          "Singapore",
          "Singapore",
          "Singapore",
          "Singapore",
          "Singapore",
          "Singapore",
          "Singapore",
          "Singapore",
          "Singapore",
          "Singapore",
          "Singapore",
          "Singapore",
          "Singapore",
          "Singapore",
          "Singapore",
          "Singapore",
          "Singapore",
          "Singapore",
          "Singapore",
          "Singapore",
          "Singapore",
          "Singapore",
          "Singapore",
          "Singapore",
          "Singapore",
          "Singapore",
          "Singapore",
          "Singapore",
          "Singapore",
          "Singapore",
          "Singapore",
          "Singapore",
          "Singapore",
          "Singapore",
          "Singapore",
          "Singapore",
          "Singapore",
          "Singapore",
          "Singapore",
          "Singapore",
          "Singapore",
          "Singapore",
          "Singapore",
          "Singapore",
          "Singapore",
          "Singapore",
          "Singapore",
          "Singapore",
          "Singapore",
          "Singapore",
          "Montreal",
          "Montreal",
          "Montreal",
          "Montreal",
          "Montreal",
          "Montreal",
          "Montreal",
          "Montreal",
          "Montreal",
          "Montreal",
          "Montreal",
          "Montreal",
          "Montreal",
          "Montreal",
          "Montreal",
          "Montreal",
          "Montreal",
          "Montreal",
          "Montreal",
          "Montreal",
          "Montreal",
          "Montreal",
          "Montreal",
          "Montreal",
          "Montreal",
          "Montreal",
          "Montreal",
          "Montreal",
          "Montreal",
          "Montreal",
          "Montreal",
          "Montreal",
          "Montreal",
          "Montreal",
          "Montreal",
          "Montreal",
          "Montreal",
          "Montreal",
          "Montreal",
          "Montreal",
          "Montreal",
          "Montreal",
          "Montreal",
          "Montreal",
          "Montreal",
          "Montreal",
          "Montreal",
          "Montreal",
          "Montreal",
          "Montreal",
          "Montreal",
          "Montreal",
          "Montreal",
          "Montreal",
          "Montreal",
          "Montreal",
          "Montreal",
          "Montreal",
          "Montreal",
          "Montreal",
          "Montreal",
          "Montreal",
          "Montreal",
          "Montreal",
          "Montreal",
          "Montreal",
          "Montreal",
          "Montreal",
          "Montreal",
          "Montreal",
          "Montreal",
          "Montreal",
          "Montreal"
         ],
         "xaxis": "x",
         "y": [
          2.50320723,
          2.18713898,
          2.97553758,
          3.24989455,
          2.30154847,
          2.43804193,
          3.57417472,
          2.15523282,
          3.13635847,
          2.87843455,
          2.00438714,
          1.72766469,
          2.63536614,
          1.30700796,
          2.8398799300000004,
          2.6485886,
          2.36282791,
          2.18438939,
          2.15049166,
          2.21036431,
          2.92087017,
          1.70459228,
          0.99874736,
          2.31082803,
          1.46526333,
          2.00864547,
          1.96053364,
          1.99741613,
          1.4407928799999998,
          1.78729107,
          2.56875504,
          2.50320723,
          2.18713898,
          2.97553758,
          3.24989455,
          2.30154847,
          2.43804193,
          3.57417472,
          2.15523282,
          3.13635847,
          1.23613699,
          1.80755973,
          1.28215506,
          2.87843455,
          1.16625679,
          1.48917365,
          2.00438714,
          0.73848588,
          0.96879234,
          2.14291925,
          1.7670411,
          2.55634706,
          2.5685247400000004,
          1.36584476,
          1.4989333,
          3.05360071,
          3.07315564,
          2.30392579,
          1.33235855,
          3.0407064100000003,
          2.65852396,
          3.41690366,
          2.66858784,
          2.55299055,
          2.54116602,
          2.15266294,
          2.47394872,
          1.5659501299999998,
          2.91673712,
          2.47261526,
          2.97844454,
          3.47835279,
          2.55415807,
          2.67538928,
          2.9409497200000003,
          2.27835626,
          3.16651208,
          1.0854431299999998,
          1.63097096,
          1.25523608,
          2.80011178,
          2.85647793,
          2.3320872,
          1.84844813,
          2.65349169,
          2.4697297,
          2.8377076,
          3.4585355000000004,
          2.89450107,
          2.31622159,
          3.18113759,
          2.86908831,
          3.18807073,
          3.43811055,
          3.43721354,
          1.39431611,
          0.77787122,
          1.84313567,
          2.4039592,
          0.93031178,
          2.63810659,
          2.6266688300000003,
          1.1560063,
          2.21364998,
          1.7190148999999997,
          1.88394972,
          1.5214177,
          2.57465602,
          2.93804371,
          2.55486237,
          3.53382386,
          1.61326365,
          2.88430088,
          3.03546832,
          2.87970501,
          2.55413829,
          2.39006463,
          1.1586145,
          1.57184147,
          1.02247819,
          1.92063742,
          1.17586881,
          1.08940472,
          2.53917369,
          3.40544625,
          1.09995471,
          3.41250644,
          2.54827031,
          3.5455191,
          3.0552604,
          3.59173937,
          2.69327547,
          3.42264795,
          2.79460143,
          3.20105883,
          3.59446692,
          3.05351361,
          2.93491671,
          2.86426427,
          2.60979625,
          2.16183052,
          2.81125044,
          3.06128666,
          2.83096345,
          3.35492784,
          2.63578254,
          2.19966486,
          3.28105116,
          3.20119296,
          3.3728589999999996,
          3.21415779,
          3.40376744,
          2.53479377,
          3.4771517000000003,
          2.85851892,
          3.43726859,
          3.20669763,
          3.2660547,
          2.81025303,
          3.2896859700000003,
          3.02794769,
          1.85520685,
          3.09185091,
          2.94481984,
          2.10411011,
          2.98010614,
          2.75727785,
          2.3699578,
          2.99781329,
          3.08381551,
          2.68331364,
          3.04527087,
          2.98146369,
          1.69756428,
          3.22636669,
          3.21398706,
          2.8947099900000004,
          3.15819882,
          2.93188419,
          2.61614835,
          3.0464307400000004,
          3.09801725,
          3.24143061,
          2.34825932,
          3.17496438,
          3.30029715,
          3.14910832,
          2.99991697,
          3.33615294,
          2.55771666,
          3.51898778,
          3.24143061,
          3.24143061,
          2.17739107,
          2.86401164,
          2.32848928,
          2.34972648,
          1.5747403400000002,
          3.83218467,
          2.65202319,
          3.48092844,
          3.35228514,
          2.4789492400000004,
          1.7026243600000002,
          2.77843279,
          2.4831644500000003,
          3.4487782200000003,
          2.62370187,
          3.28430663,
          1.77341498,
          3.08830592,
          1.78257608,
          2.53296727,
          3.18699557,
          3.31201172,
          2.59307099,
          3.38229841,
          3.0530792200000003,
          2.69327547,
          2.69327547,
          2.1973163,
          1.10625557,
          0.38469198,
          2.95437571,
          2.95505109,
          3.2333960999999998,
          3.18658514,
          3.1141616400000003,
          3.2023587000000004,
          2.90635469,
          3.15553639,
          2.71860243,
          3.11140538,
          3.16607077,
          1.93502788,
          2.73769014,
          1.70657243,
          0.88664949,
          2.95478059,
          3.02835661,
          3.17909082,
          2.10765067,
          3.04318807,
          3.31807505,
          2.90701663,
          3.23280639,
          2.55257744,
          2.85015809,
          2.97070154,
          2.78243146,
          2.7088249,
          3.63938158,
          3.10264381,
          3.14734666,
          2.1369849700000003,
          3.45740354,
          2.9191171,
          1.99135524,
          2.68572765,
          3.20809132,
          3.1851068700000003,
          1.93502788,
          1.93502788,
          3.1544526800000003,
          3.12327351,
          2.93288125,
          3.22490729,
          1.87384645,
          2.66392132,
          2.78243146,
          2.78243146,
          2.97167093,
          3.16877684,
          2.07733175,
          3.08215888,
          3.27523298,
          1.98969561,
          2.78268556,
          2.54900402,
          2.1369849700000003,
          2.1369849700000003,
          2.97244585,
          2.69343738,
          1.90827543,
          2.75608604,
          1.91409605,
          2.12567033,
          2.57647433,
          2.4546874,
          2.61928736,
          2.86620298,
          3.28628154,
          2.2495359500000003,
          2.7753887400000004,
          1.40382818,
          2.42954313,
          0.95571545,
          2.70756503,
          2.16476182,
          2.85653487,
          2.12365853,
          2.77706195,
          2.96387732,
          3.11319696,
          2.51546526,
          2.36933164,
          2.7270662000000003,
          2.39455926,
          3.02235158,
          3.20503196,
          3.17496438,
          1.8569794999999998,
          3.374736,
          0.72878146,
          3.1267422,
          3.36563703,
          3.34754866,
          3.1117759300000003,
          3.24703309,
          2.71295456,
          3.33296317,
          3.52111954,
          3.37244426,
          3.42647288,
          3.43075151,
          3.52888932,
          3.49611928,
          3.5464071,
          3.4423493,
          2.47379547,
          2.48993028,
          3.05483997,
          3.3481547000000003,
          3.44896379,
          3.31123949,
          2.81778716,
          2.94403075,
          3.31136883,
          3.37774206,
          3.1993252400000003,
          3.19089716,
          3.39038228,
          3.02870679,
          2.85681978,
          3.0451229100000003,
          3.46590275,
          3.40950132,
          3.21947551,
          3.30193938,
          2.72144646,
          2.69988571,
          2.93418013,
          3.35129379,
          3.42504677,
          3.4708597400000003,
          3.4253894500000004,
          3.25939242,
          3.10948983,
          3.34510542,
          3.4213247000000004,
          3.19636853,
          2.3192828,
          3.2565734500000003,
          3.19117851,
          3.41546281,
          3.45254993,
          3.51138988,
          3.4572342000000003,
          2.99464234,
          2.47120248,
          3.31174075,
          2.7090947,
          3.21947551,
          3.42398027,
          3.13866382,
          3.18270198,
          3.4172669300000003,
          3.37719553,
          2.96245959,
          3.32103431,
          3.42973777,
          3.35266966,
          3.4820076600000003,
          3.47871553,
          3.4423493,
          2.07365564,
          1.87772188
         ],
         "yaxis": "y"
        }
       ],
       "layout": {
        "barmode": "group",
        "legend": {
         "title": {
          "text": "variable"
         },
         "tracegroupgap": 0
        },
        "template": {
         "data": {
          "bar": [
           {
            "error_x": {
             "color": "#2a3f5f"
            },
            "error_y": {
             "color": "#2a3f5f"
            },
            "marker": {
             "line": {
              "color": "#E5ECF6",
              "width": 0.5
             }
            },
            "type": "bar"
           }
          ],
          "barpolar": [
           {
            "marker": {
             "line": {
              "color": "#E5ECF6",
              "width": 0.5
             }
            },
            "type": "barpolar"
           }
          ],
          "carpet": [
           {
            "aaxis": {
             "endlinecolor": "#2a3f5f",
             "gridcolor": "white",
             "linecolor": "white",
             "minorgridcolor": "white",
             "startlinecolor": "#2a3f5f"
            },
            "baxis": {
             "endlinecolor": "#2a3f5f",
             "gridcolor": "white",
             "linecolor": "white",
             "minorgridcolor": "white",
             "startlinecolor": "#2a3f5f"
            },
            "type": "carpet"
           }
          ],
          "choropleth": [
           {
            "colorbar": {
             "outlinewidth": 0,
             "ticks": ""
            },
            "type": "choropleth"
           }
          ],
          "contour": [
           {
            "colorbar": {
             "outlinewidth": 0,
             "ticks": ""
            },
            "colorscale": [
             [
              0,
              "#0d0887"
             ],
             [
              0.1111111111111111,
              "#46039f"
             ],
             [
              0.2222222222222222,
              "#7201a8"
             ],
             [
              0.3333333333333333,
              "#9c179e"
             ],
             [
              0.4444444444444444,
              "#bd3786"
             ],
             [
              0.5555555555555556,
              "#d8576b"
             ],
             [
              0.6666666666666666,
              "#ed7953"
             ],
             [
              0.7777777777777778,
              "#fb9f3a"
             ],
             [
              0.8888888888888888,
              "#fdca26"
             ],
             [
              1,
              "#f0f921"
             ]
            ],
            "type": "contour"
           }
          ],
          "contourcarpet": [
           {
            "colorbar": {
             "outlinewidth": 0,
             "ticks": ""
            },
            "type": "contourcarpet"
           }
          ],
          "heatmap": [
           {
            "colorbar": {
             "outlinewidth": 0,
             "ticks": ""
            },
            "colorscale": [
             [
              0,
              "#0d0887"
             ],
             [
              0.1111111111111111,
              "#46039f"
             ],
             [
              0.2222222222222222,
              "#7201a8"
             ],
             [
              0.3333333333333333,
              "#9c179e"
             ],
             [
              0.4444444444444444,
              "#bd3786"
             ],
             [
              0.5555555555555556,
              "#d8576b"
             ],
             [
              0.6666666666666666,
              "#ed7953"
             ],
             [
              0.7777777777777778,
              "#fb9f3a"
             ],
             [
              0.8888888888888888,
              "#fdca26"
             ],
             [
              1,
              "#f0f921"
             ]
            ],
            "type": "heatmap"
           }
          ],
          "heatmapgl": [
           {
            "colorbar": {
             "outlinewidth": 0,
             "ticks": ""
            },
            "colorscale": [
             [
              0,
              "#0d0887"
             ],
             [
              0.1111111111111111,
              "#46039f"
             ],
             [
              0.2222222222222222,
              "#7201a8"
             ],
             [
              0.3333333333333333,
              "#9c179e"
             ],
             [
              0.4444444444444444,
              "#bd3786"
             ],
             [
              0.5555555555555556,
              "#d8576b"
             ],
             [
              0.6666666666666666,
              "#ed7953"
             ],
             [
              0.7777777777777778,
              "#fb9f3a"
             ],
             [
              0.8888888888888888,
              "#fdca26"
             ],
             [
              1,
              "#f0f921"
             ]
            ],
            "type": "heatmapgl"
           }
          ],
          "histogram": [
           {
            "marker": {
             "colorbar": {
              "outlinewidth": 0,
              "ticks": ""
             }
            },
            "type": "histogram"
           }
          ],
          "histogram2d": [
           {
            "colorbar": {
             "outlinewidth": 0,
             "ticks": ""
            },
            "colorscale": [
             [
              0,
              "#0d0887"
             ],
             [
              0.1111111111111111,
              "#46039f"
             ],
             [
              0.2222222222222222,
              "#7201a8"
             ],
             [
              0.3333333333333333,
              "#9c179e"
             ],
             [
              0.4444444444444444,
              "#bd3786"
             ],
             [
              0.5555555555555556,
              "#d8576b"
             ],
             [
              0.6666666666666666,
              "#ed7953"
             ],
             [
              0.7777777777777778,
              "#fb9f3a"
             ],
             [
              0.8888888888888888,
              "#fdca26"
             ],
             [
              1,
              "#f0f921"
             ]
            ],
            "type": "histogram2d"
           }
          ],
          "histogram2dcontour": [
           {
            "colorbar": {
             "outlinewidth": 0,
             "ticks": ""
            },
            "colorscale": [
             [
              0,
              "#0d0887"
             ],
             [
              0.1111111111111111,
              "#46039f"
             ],
             [
              0.2222222222222222,
              "#7201a8"
             ],
             [
              0.3333333333333333,
              "#9c179e"
             ],
             [
              0.4444444444444444,
              "#bd3786"
             ],
             [
              0.5555555555555556,
              "#d8576b"
             ],
             [
              0.6666666666666666,
              "#ed7953"
             ],
             [
              0.7777777777777778,
              "#fb9f3a"
             ],
             [
              0.8888888888888888,
              "#fdca26"
             ],
             [
              1,
              "#f0f921"
             ]
            ],
            "type": "histogram2dcontour"
           }
          ],
          "mesh3d": [
           {
            "colorbar": {
             "outlinewidth": 0,
             "ticks": ""
            },
            "type": "mesh3d"
           }
          ],
          "parcoords": [
           {
            "line": {
             "colorbar": {
              "outlinewidth": 0,
              "ticks": ""
             }
            },
            "type": "parcoords"
           }
          ],
          "pie": [
           {
            "automargin": true,
            "type": "pie"
           }
          ],
          "scatter": [
           {
            "marker": {
             "colorbar": {
              "outlinewidth": 0,
              "ticks": ""
             }
            },
            "type": "scatter"
           }
          ],
          "scatter3d": [
           {
            "line": {
             "colorbar": {
              "outlinewidth": 0,
              "ticks": ""
             }
            },
            "marker": {
             "colorbar": {
              "outlinewidth": 0,
              "ticks": ""
             }
            },
            "type": "scatter3d"
           }
          ],
          "scattercarpet": [
           {
            "marker": {
             "colorbar": {
              "outlinewidth": 0,
              "ticks": ""
             }
            },
            "type": "scattercarpet"
           }
          ],
          "scattergeo": [
           {
            "marker": {
             "colorbar": {
              "outlinewidth": 0,
              "ticks": ""
             }
            },
            "type": "scattergeo"
           }
          ],
          "scattergl": [
           {
            "marker": {
             "colorbar": {
              "outlinewidth": 0,
              "ticks": ""
             }
            },
            "type": "scattergl"
           }
          ],
          "scattermapbox": [
           {
            "marker": {
             "colorbar": {
              "outlinewidth": 0,
              "ticks": ""
             }
            },
            "type": "scattermapbox"
           }
          ],
          "scatterpolar": [
           {
            "marker": {
             "colorbar": {
              "outlinewidth": 0,
              "ticks": ""
             }
            },
            "type": "scatterpolar"
           }
          ],
          "scatterpolargl": [
           {
            "marker": {
             "colorbar": {
              "outlinewidth": 0,
              "ticks": ""
             }
            },
            "type": "scatterpolargl"
           }
          ],
          "scatterternary": [
           {
            "marker": {
             "colorbar": {
              "outlinewidth": 0,
              "ticks": ""
             }
            },
            "type": "scatterternary"
           }
          ],
          "surface": [
           {
            "colorbar": {
             "outlinewidth": 0,
             "ticks": ""
            },
            "colorscale": [
             [
              0,
              "#0d0887"
             ],
             [
              0.1111111111111111,
              "#46039f"
             ],
             [
              0.2222222222222222,
              "#7201a8"
             ],
             [
              0.3333333333333333,
              "#9c179e"
             ],
             [
              0.4444444444444444,
              "#bd3786"
             ],
             [
              0.5555555555555556,
              "#d8576b"
             ],
             [
              0.6666666666666666,
              "#ed7953"
             ],
             [
              0.7777777777777778,
              "#fb9f3a"
             ],
             [
              0.8888888888888888,
              "#fdca26"
             ],
             [
              1,
              "#f0f921"
             ]
            ],
            "type": "surface"
           }
          ],
          "table": [
           {
            "cells": {
             "fill": {
              "color": "#EBF0F8"
             },
             "line": {
              "color": "white"
             }
            },
            "header": {
             "fill": {
              "color": "#C8D4E3"
             },
             "line": {
              "color": "white"
             }
            },
            "type": "table"
           }
          ]
         },
         "layout": {
          "annotationdefaults": {
           "arrowcolor": "#2a3f5f",
           "arrowhead": 0,
           "arrowwidth": 1
          },
          "coloraxis": {
           "colorbar": {
            "outlinewidth": 0,
            "ticks": ""
           }
          },
          "colorscale": {
           "diverging": [
            [
             0,
             "#8e0152"
            ],
            [
             0.1,
             "#c51b7d"
            ],
            [
             0.2,
             "#de77ae"
            ],
            [
             0.3,
             "#f1b6da"
            ],
            [
             0.4,
             "#fde0ef"
            ],
            [
             0.5,
             "#f7f7f7"
            ],
            [
             0.6,
             "#e6f5d0"
            ],
            [
             0.7,
             "#b8e186"
            ],
            [
             0.8,
             "#7fbc41"
            ],
            [
             0.9,
             "#4d9221"
            ],
            [
             1,
             "#276419"
            ]
           ],
           "sequential": [
            [
             0,
             "#0d0887"
            ],
            [
             0.1111111111111111,
             "#46039f"
            ],
            [
             0.2222222222222222,
             "#7201a8"
            ],
            [
             0.3333333333333333,
             "#9c179e"
            ],
            [
             0.4444444444444444,
             "#bd3786"
            ],
            [
             0.5555555555555556,
             "#d8576b"
            ],
            [
             0.6666666666666666,
             "#ed7953"
            ],
            [
             0.7777777777777778,
             "#fb9f3a"
            ],
            [
             0.8888888888888888,
             "#fdca26"
            ],
            [
             1,
             "#f0f921"
            ]
           ],
           "sequentialminus": [
            [
             0,
             "#0d0887"
            ],
            [
             0.1111111111111111,
             "#46039f"
            ],
            [
             0.2222222222222222,
             "#7201a8"
            ],
            [
             0.3333333333333333,
             "#9c179e"
            ],
            [
             0.4444444444444444,
             "#bd3786"
            ],
            [
             0.5555555555555556,
             "#d8576b"
            ],
            [
             0.6666666666666666,
             "#ed7953"
            ],
            [
             0.7777777777777778,
             "#fb9f3a"
            ],
            [
             0.8888888888888888,
             "#fdca26"
            ],
            [
             1,
             "#f0f921"
            ]
           ]
          },
          "colorway": [
           "#636efa",
           "#EF553B",
           "#00cc96",
           "#ab63fa",
           "#FFA15A",
           "#19d3f3",
           "#FF6692",
           "#B6E880",
           "#FF97FF",
           "#FECB52"
          ],
          "font": {
           "color": "#2a3f5f"
          },
          "geo": {
           "bgcolor": "white",
           "lakecolor": "white",
           "landcolor": "#E5ECF6",
           "showlakes": true,
           "showland": true,
           "subunitcolor": "white"
          },
          "hoverlabel": {
           "align": "left"
          },
          "hovermode": "closest",
          "mapbox": {
           "style": "light"
          },
          "paper_bgcolor": "white",
          "plot_bgcolor": "#E5ECF6",
          "polar": {
           "angularaxis": {
            "gridcolor": "white",
            "linecolor": "white",
            "ticks": ""
           },
           "bgcolor": "#E5ECF6",
           "radialaxis": {
            "gridcolor": "white",
            "linecolor": "white",
            "ticks": ""
           }
          },
          "scene": {
           "xaxis": {
            "backgroundcolor": "#E5ECF6",
            "gridcolor": "white",
            "gridwidth": 2,
            "linecolor": "white",
            "showbackground": true,
            "ticks": "",
            "zerolinecolor": "white"
           },
           "yaxis": {
            "backgroundcolor": "#E5ECF6",
            "gridcolor": "white",
            "gridwidth": 2,
            "linecolor": "white",
            "showbackground": true,
            "ticks": "",
            "zerolinecolor": "white"
           },
           "zaxis": {
            "backgroundcolor": "#E5ECF6",
            "gridcolor": "white",
            "gridwidth": 2,
            "linecolor": "white",
            "showbackground": true,
            "ticks": "",
            "zerolinecolor": "white"
           }
          },
          "shapedefaults": {
           "line": {
            "color": "#2a3f5f"
           }
          },
          "ternary": {
           "aaxis": {
            "gridcolor": "white",
            "linecolor": "white",
            "ticks": ""
           },
           "baxis": {
            "gridcolor": "white",
            "linecolor": "white",
            "ticks": ""
           },
           "bgcolor": "#E5ECF6",
           "caxis": {
            "gridcolor": "white",
            "linecolor": "white",
            "ticks": ""
           }
          },
          "title": {
           "x": 0.05
          },
          "xaxis": {
           "automargin": true,
           "gridcolor": "white",
           "linecolor": "white",
           "ticks": "",
           "title": {
            "standoff": 15
           },
           "zerolinecolor": "white",
           "zerolinewidth": 2
          },
          "yaxis": {
           "automargin": true,
           "gridcolor": "white",
           "linecolor": "white",
           "ticks": "",
           "title": {
            "standoff": 15
           },
           "zerolinecolor": "white",
           "zerolinewidth": 2
          }
         }
        },
        "title": {
         "text": "Area coverage within walking times from station"
        },
        "xaxis": {
         "anchor": "y",
         "categoryorder": "total ascending",
         "domain": [
          0,
          1
         ],
         "title": {
          "text": "City"
         }
        },
        "yaxis": {
         "anchor": "x",
         "domain": [
          0,
          1
         ],
         "title": {
          "text": "avg of Walkable Area Coverage(km^2)"
         }
        }
       }
      }
     },
     "metadata": {},
     "output_type": "display_data"
    }
   ],
   "source": [
    "#comparing walking area coverage averaged out for different cities this includes all our train lines\n",
    "fig = px.histogram(data_temp\n",
    "             ,x='City'\n",
    "             ,y=['5 Minute Range Area','10 Minute Range Area','15 Minute Range Area']\n",
    "             , barmode = 'group'\n",
    "             , title=\"Area coverage within walking times from station\"\n",
    "             , template='plotly'\n",
    "             , histfunc = 'avg'\n",
    "             ,labels={'Route Name': \"Lines\", 'value':'Walkable Area Coverage(km^2)'}\n",
    "            ).update_xaxes(categoryorder='total ascending')\n",
    "\n",
    "fig.show() "
   ]
  },
  {
   "cell_type": "code",
   "execution_count": 11,
   "metadata": {},
   "outputs": [
    {
     "data": {
      "application/vnd.plotly.v1+json": {
       "config": {
        "plotlyServerURL": "https://plot.ly"
       },
       "data": [
        {
         "alignmentgroup": "True",
         "bingroup": "x",
         "histfunc": "avg",
         "hovertemplate": "variable=5 Minute Population<br>City=%{x}<br>avg of Population Coverage=%{y}<extra></extra>",
         "legendgroup": "5 Minute Population",
         "marker": {
          "color": "#636efa"
         },
         "name": "5 Minute Population",
         "offsetgroup": "5 Minute Population",
         "orientation": "v",
         "showlegend": true,
         "type": "histogram",
         "x": [
          "Kuala Lumpur",
          "Kuala Lumpur",
          "Kuala Lumpur",
          "Kuala Lumpur",
          "Kuala Lumpur",
          "Kuala Lumpur",
          "Kuala Lumpur",
          "Kuala Lumpur",
          "Kuala Lumpur",
          "Kuala Lumpur",
          "Kuala Lumpur",
          "Kuala Lumpur",
          "Kuala Lumpur",
          "Kuala Lumpur",
          "Kuala Lumpur",
          "Kuala Lumpur",
          "Kuala Lumpur",
          "Kuala Lumpur",
          "Kuala Lumpur",
          "Kuala Lumpur",
          "Kuala Lumpur",
          "Kuala Lumpur",
          "Kuala Lumpur",
          "Kuala Lumpur",
          "Kuala Lumpur",
          "Kuala Lumpur",
          "Kuala Lumpur",
          "Kuala Lumpur",
          "Kuala Lumpur",
          "Kuala Lumpur",
          "Kuala Lumpur",
          "Kuala Lumpur",
          "Kuala Lumpur",
          "Kuala Lumpur",
          "Kuala Lumpur",
          "Kuala Lumpur",
          "Kuala Lumpur",
          "Kuala Lumpur",
          "Kuala Lumpur",
          "Kuala Lumpur",
          "Kuala Lumpur",
          "Kuala Lumpur",
          "Kuala Lumpur",
          "Kuala Lumpur",
          "Kuala Lumpur",
          "Kuala Lumpur",
          "Kuala Lumpur",
          "Kuala Lumpur",
          "Kuala Lumpur",
          "Kuala Lumpur",
          "Kuala Lumpur",
          "Kuala Lumpur",
          "Kuala Lumpur",
          "Kuala Lumpur",
          "Kuala Lumpur",
          "Kuala Lumpur",
          "Kuala Lumpur",
          "Kuala Lumpur",
          "Kuala Lumpur",
          "Kuala Lumpur",
          "Kuala Lumpur",
          "Kuala Lumpur",
          "Kuala Lumpur",
          "Kuala Lumpur",
          "Kuala Lumpur",
          "Kuala Lumpur",
          "Kuala Lumpur",
          "Kuala Lumpur",
          "Kuala Lumpur",
          "Kuala Lumpur",
          "Kuala Lumpur",
          "Kuala Lumpur",
          "Kuala Lumpur",
          "Kuala Lumpur",
          "Kuala Lumpur",
          "Kuala Lumpur",
          "Kuala Lumpur",
          "Kuala Lumpur",
          "Kuala Lumpur",
          "Kuala Lumpur",
          "Kuala Lumpur",
          "Kuala Lumpur",
          "Kuala Lumpur",
          "Kuala Lumpur",
          "Kuala Lumpur",
          "Kuala Lumpur",
          "Kuala Lumpur",
          "Kuala Lumpur",
          "Kuala Lumpur",
          "Kuala Lumpur",
          "Kuala Lumpur",
          "Kuala Lumpur",
          "Kuala Lumpur",
          "Kuala Lumpur",
          "Kuala Lumpur",
          "Kuala Lumpur",
          "Kuala Lumpur",
          "Kuala Lumpur",
          "Kuala Lumpur",
          "Kuala Lumpur",
          "Kuala Lumpur",
          "Kuala Lumpur",
          "Kuala Lumpur",
          "Kuala Lumpur",
          "Kuala Lumpur",
          "Kuala Lumpur",
          "Kuala Lumpur",
          "Kuala Lumpur",
          "Kuala Lumpur",
          "Kuala Lumpur",
          "Kuala Lumpur",
          "Kuala Lumpur",
          "Kuala Lumpur",
          "Kuala Lumpur",
          "Kuala Lumpur",
          "Kuala Lumpur",
          "Kuala Lumpur",
          "Kuala Lumpur",
          "Kuala Lumpur",
          "Kuala Lumpur",
          "Kuala Lumpur",
          "Kuala Lumpur",
          "Kuala Lumpur",
          "Kuala Lumpur",
          "Kuala Lumpur",
          "Kuala Lumpur",
          "Singapore",
          "Singapore",
          "Singapore",
          "Singapore",
          "Singapore",
          "Singapore",
          "Singapore",
          "Singapore",
          "Singapore",
          "Singapore",
          "Singapore",
          "Singapore",
          "Singapore",
          "Singapore",
          "Singapore",
          "Singapore",
          "Singapore",
          "Singapore",
          "Singapore",
          "Singapore",
          "Singapore",
          "Singapore",
          "Singapore",
          "Singapore",
          "Singapore",
          "Singapore",
          "Singapore",
          "Singapore",
          "Singapore",
          "Singapore",
          "Singapore",
          "Singapore",
          "Singapore",
          "Singapore",
          "Singapore",
          "Singapore",
          "Singapore",
          "Singapore",
          "Singapore",
          "Singapore",
          "Singapore",
          "Singapore",
          "Singapore",
          "Singapore",
          "Singapore",
          "Singapore",
          "Singapore",
          "Singapore",
          "Singapore",
          "Singapore",
          "Singapore",
          "Singapore",
          "Singapore",
          "Singapore",
          "Singapore",
          "Singapore",
          "Singapore",
          "Singapore",
          "Singapore",
          "Singapore",
          "Singapore",
          "Singapore",
          "Singapore",
          "Singapore",
          "Singapore",
          "Singapore",
          "Singapore",
          "Singapore",
          "Singapore",
          "Singapore",
          "Singapore",
          "Singapore",
          "Singapore",
          "Singapore",
          "Singapore",
          "Singapore",
          "Singapore",
          "Singapore",
          "Singapore",
          "Singapore",
          "Singapore",
          "Singapore",
          "Singapore",
          "Singapore",
          "Singapore",
          "Singapore",
          "Singapore",
          "Singapore",
          "Singapore",
          "Singapore",
          "Singapore",
          "Singapore",
          "Singapore",
          "Singapore",
          "Singapore",
          "Singapore",
          "Singapore",
          "Singapore",
          "Singapore",
          "Singapore",
          "Singapore",
          "Singapore",
          "Singapore",
          "Singapore",
          "Singapore",
          "Singapore",
          "Singapore",
          "Singapore",
          "Singapore",
          "Singapore",
          "Singapore",
          "Singapore",
          "Singapore",
          "Singapore",
          "Singapore",
          "Singapore",
          "Singapore",
          "Singapore",
          "Singapore",
          "Singapore",
          "Singapore",
          "Singapore",
          "Singapore",
          "Singapore",
          "Singapore",
          "Singapore",
          "Singapore",
          "Singapore",
          "Singapore",
          "Singapore",
          "Singapore",
          "Singapore",
          "Singapore",
          "Singapore",
          "Singapore",
          "Singapore",
          "Singapore",
          "Singapore",
          "Singapore",
          "Singapore",
          "Singapore",
          "Singapore",
          "Singapore",
          "Singapore",
          "Singapore",
          "Singapore",
          "Singapore",
          "Singapore",
          "Singapore",
          "Singapore",
          "Singapore",
          "Singapore",
          "Singapore",
          "Singapore",
          "Singapore",
          "Singapore",
          "Singapore",
          "Singapore",
          "Singapore",
          "Singapore",
          "Singapore",
          "Singapore",
          "Singapore",
          "Singapore",
          "Singapore",
          "Singapore",
          "Singapore",
          "Singapore",
          "Singapore",
          "Singapore",
          "Singapore",
          "Singapore",
          "Singapore",
          "Singapore",
          "Singapore",
          "Singapore",
          "Singapore",
          "Singapore",
          "Singapore",
          "Singapore",
          "Singapore",
          "Singapore",
          "Singapore",
          "Singapore",
          "Singapore",
          "Singapore",
          "Singapore",
          "Singapore",
          "Montreal",
          "Montreal",
          "Montreal",
          "Montreal",
          "Montreal",
          "Montreal",
          "Montreal",
          "Montreal",
          "Montreal",
          "Montreal",
          "Montreal",
          "Montreal",
          "Montreal",
          "Montreal",
          "Montreal",
          "Montreal",
          "Montreal",
          "Montreal",
          "Montreal",
          "Montreal",
          "Montreal",
          "Montreal",
          "Montreal",
          "Montreal",
          "Montreal",
          "Montreal",
          "Montreal",
          "Montreal",
          "Montreal",
          "Montreal",
          "Montreal",
          "Montreal",
          "Montreal",
          "Montreal",
          "Montreal",
          "Montreal",
          "Montreal",
          "Montreal",
          "Montreal",
          "Montreal",
          "Montreal",
          "Montreal",
          "Montreal",
          "Montreal",
          "Montreal",
          "Montreal",
          "Montreal",
          "Montreal",
          "Montreal",
          "Montreal",
          "Montreal",
          "Montreal",
          "Montreal",
          "Montreal",
          "Montreal",
          "Montreal",
          "Montreal",
          "Montreal",
          "Montreal",
          "Montreal",
          "Montreal",
          "Montreal",
          "Montreal",
          "Montreal",
          "Montreal",
          "Montreal",
          "Montreal",
          "Montreal",
          "Montreal",
          "Montreal",
          "Montreal",
          "Montreal",
          "Montreal"
         ],
         "xaxis": "x",
         "y": [
          2186,
          845,
          2141,
          3133,
          847,
          1729,
          2248,
          456,
          2779,
          1788,
          456,
          1020,
          892,
          814,
          3618,
          2741,
          1829,
          1832,
          764,
          2655,
          3544,
          2377,
          1288,
          2431,
          1617,
          619,
          1025,
          2955,
          495,
          629,
          2502,
          2186,
          845,
          2141,
          3133,
          847,
          1729,
          2248,
          456,
          2779,
          967,
          1694,
          606,
          1788,
          1076,
          930,
          456,
          0,
          0,
          501,
          754,
          1667,
          1245,
          1069,
          659,
          1939,
          1885,
          631,
          0,
          2002,
          1694,
          2101,
          606,
          1274,
          824,
          2000,
          1555,
          433,
          1785,
          1809,
          1803,
          2254,
          1360,
          910,
          2194,
          1285,
          3353,
          1060,
          906,
          834,
          1767,
          1369,
          2023,
          982,
          1822,
          2780,
          1353,
          3169,
          913,
          1053,
          1574,
          345,
          1808,
          1819,
          2258,
          75,
          339,
          443,
          867,
          335,
          1148,
          1333,
          512,
          1440,
          316,
          526,
          1122,
          1031,
          1803,
          1328,
          2258,
          456,
          2227,
          1348,
          2725,
          1124,
          1666,
          1915,
          515,
          502,
          1005,
          1532,
          485,
          1765,
          2222,
          1622,
          2610,
          227,
          1209,
          6351,
          6389,
          2751,
          513,
          6596,
          512,
          6759,
          1511,
          2036,
          9235,
          1383,
          902,
          6659,
          2407,
          9454,
          6207,
          6003,
          2088,
          1643,
          5035,
          6095,
          2086,
          16326,
          8971,
          3277,
          4078,
          3146,
          11972,
          7227,
          6275,
          7206,
          15121,
          12724,
          12211,
          9141,
          12115,
          17694,
          12639,
          12105,
          26115,
          17686,
          10671,
          11642,
          12636,
          12452,
          5047,
          709,
          0,
          4444,
          7670,
          6678,
          4608,
          13866,
          6464,
          3690,
          13912,
          10290,
          5168,
          4457,
          6716,
          3425,
          1814,
          6464,
          6464,
          1649,
          3323,
          6074,
          4416,
          0,
          7158,
          1822,
          3726,
          537,
          3282,
          1069,
          4682,
          2184,
          4689,
          3360,
          4867,
          2026,
          6943,
          2337,
          7066,
          0,
          7234,
          202,
          1940,
          3774,
          2751,
          2751,
          199,
          0,
          15,
          5764,
          1085,
          6425,
          13038,
          2913,
          5456,
          11624,
          8067,
          5488,
          5197,
          7003,
          6636,
          2833,
          0,
          0,
          0,
          4740,
          0,
          672,
          2647,
          11096,
          7193,
          7603,
          0,
          4323,
          2048,
          3247,
          392,
          1877,
          4050,
          4985,
          10811,
          7426,
          3501,
          0,
          20153,
          13210,
          9025,
          6636,
          6636,
          10972,
          4652,
          8716,
          7014,
          4183,
          13773,
          3247,
          3247,
          0,
          644,
          134,
          0,
          3949,
          0,
          5132,
          8202,
          10811,
          10811,
          634,
          5269,
          618,
          6063,
          303,
          3065,
          4751,
          4072,
          7664,
          3221,
          6174,
          6460,
          6170,
          2185,
          4932,
          173,
          13148,
          6382,
          16414,
          1970,
          10785,
          17789,
          22865,
          11988,
          10337,
          26676,
          11204,
          21654,
          24524,
          13912,
          8389,
          13305,
          72,
          1626,
          4098,
          2014,
          6780,
          5376,
          3857,
          3181,
          3969,
          2699,
          10093,
          4137,
          730,
          1698,
          3227,
          1952,
          2871,
          2023,
          2849,
          3116,
          5483,
          2531,
          1846,
          1545,
          4028,
          1930,
          1393,
          1321,
          4150,
          1548,
          366,
          265,
          5048,
          6763,
          3151,
          3527,
          1544,
          3349,
          2362,
          4012,
          2284,
          29,
          1257,
          1832,
          2105,
          1957,
          3924,
          4140,
          1187,
          1588,
          5552,
          5424,
          6278,
          3713,
          2133,
          1173,
          422,
          2508,
          151,
          3151,
          4261,
          1090,
          1417,
          3767,
          3071,
          5933,
          3149,
          4407,
          5007,
          4854,
          3847,
          1952,
          0,
          3288
         ],
         "yaxis": "y"
        },
        {
         "alignmentgroup": "True",
         "bingroup": "x",
         "histfunc": "avg",
         "hovertemplate": "variable=10 Minute Population<br>City=%{x}<br>avg of Population Coverage=%{y}<extra></extra>",
         "legendgroup": "10 Minute Population",
         "marker": {
          "color": "#EF553B"
         },
         "name": "10 Minute Population",
         "offsetgroup": "10 Minute Population",
         "orientation": "v",
         "showlegend": true,
         "type": "histogram",
         "x": [
          "Kuala Lumpur",
          "Kuala Lumpur",
          "Kuala Lumpur",
          "Kuala Lumpur",
          "Kuala Lumpur",
          "Kuala Lumpur",
          "Kuala Lumpur",
          "Kuala Lumpur",
          "Kuala Lumpur",
          "Kuala Lumpur",
          "Kuala Lumpur",
          "Kuala Lumpur",
          "Kuala Lumpur",
          "Kuala Lumpur",
          "Kuala Lumpur",
          "Kuala Lumpur",
          "Kuala Lumpur",
          "Kuala Lumpur",
          "Kuala Lumpur",
          "Kuala Lumpur",
          "Kuala Lumpur",
          "Kuala Lumpur",
          "Kuala Lumpur",
          "Kuala Lumpur",
          "Kuala Lumpur",
          "Kuala Lumpur",
          "Kuala Lumpur",
          "Kuala Lumpur",
          "Kuala Lumpur",
          "Kuala Lumpur",
          "Kuala Lumpur",
          "Kuala Lumpur",
          "Kuala Lumpur",
          "Kuala Lumpur",
          "Kuala Lumpur",
          "Kuala Lumpur",
          "Kuala Lumpur",
          "Kuala Lumpur",
          "Kuala Lumpur",
          "Kuala Lumpur",
          "Kuala Lumpur",
          "Kuala Lumpur",
          "Kuala Lumpur",
          "Kuala Lumpur",
          "Kuala Lumpur",
          "Kuala Lumpur",
          "Kuala Lumpur",
          "Kuala Lumpur",
          "Kuala Lumpur",
          "Kuala Lumpur",
          "Kuala Lumpur",
          "Kuala Lumpur",
          "Kuala Lumpur",
          "Kuala Lumpur",
          "Kuala Lumpur",
          "Kuala Lumpur",
          "Kuala Lumpur",
          "Kuala Lumpur",
          "Kuala Lumpur",
          "Kuala Lumpur",
          "Kuala Lumpur",
          "Kuala Lumpur",
          "Kuala Lumpur",
          "Kuala Lumpur",
          "Kuala Lumpur",
          "Kuala Lumpur",
          "Kuala Lumpur",
          "Kuala Lumpur",
          "Kuala Lumpur",
          "Kuala Lumpur",
          "Kuala Lumpur",
          "Kuala Lumpur",
          "Kuala Lumpur",
          "Kuala Lumpur",
          "Kuala Lumpur",
          "Kuala Lumpur",
          "Kuala Lumpur",
          "Kuala Lumpur",
          "Kuala Lumpur",
          "Kuala Lumpur",
          "Kuala Lumpur",
          "Kuala Lumpur",
          "Kuala Lumpur",
          "Kuala Lumpur",
          "Kuala Lumpur",
          "Kuala Lumpur",
          "Kuala Lumpur",
          "Kuala Lumpur",
          "Kuala Lumpur",
          "Kuala Lumpur",
          "Kuala Lumpur",
          "Kuala Lumpur",
          "Kuala Lumpur",
          "Kuala Lumpur",
          "Kuala Lumpur",
          "Kuala Lumpur",
          "Kuala Lumpur",
          "Kuala Lumpur",
          "Kuala Lumpur",
          "Kuala Lumpur",
          "Kuala Lumpur",
          "Kuala Lumpur",
          "Kuala Lumpur",
          "Kuala Lumpur",
          "Kuala Lumpur",
          "Kuala Lumpur",
          "Kuala Lumpur",
          "Kuala Lumpur",
          "Kuala Lumpur",
          "Kuala Lumpur",
          "Kuala Lumpur",
          "Kuala Lumpur",
          "Kuala Lumpur",
          "Kuala Lumpur",
          "Kuala Lumpur",
          "Kuala Lumpur",
          "Kuala Lumpur",
          "Kuala Lumpur",
          "Kuala Lumpur",
          "Kuala Lumpur",
          "Kuala Lumpur",
          "Kuala Lumpur",
          "Kuala Lumpur",
          "Kuala Lumpur",
          "Kuala Lumpur",
          "Kuala Lumpur",
          "Singapore",
          "Singapore",
          "Singapore",
          "Singapore",
          "Singapore",
          "Singapore",
          "Singapore",
          "Singapore",
          "Singapore",
          "Singapore",
          "Singapore",
          "Singapore",
          "Singapore",
          "Singapore",
          "Singapore",
          "Singapore",
          "Singapore",
          "Singapore",
          "Singapore",
          "Singapore",
          "Singapore",
          "Singapore",
          "Singapore",
          "Singapore",
          "Singapore",
          "Singapore",
          "Singapore",
          "Singapore",
          "Singapore",
          "Singapore",
          "Singapore",
          "Singapore",
          "Singapore",
          "Singapore",
          "Singapore",
          "Singapore",
          "Singapore",
          "Singapore",
          "Singapore",
          "Singapore",
          "Singapore",
          "Singapore",
          "Singapore",
          "Singapore",
          "Singapore",
          "Singapore",
          "Singapore",
          "Singapore",
          "Singapore",
          "Singapore",
          "Singapore",
          "Singapore",
          "Singapore",
          "Singapore",
          "Singapore",
          "Singapore",
          "Singapore",
          "Singapore",
          "Singapore",
          "Singapore",
          "Singapore",
          "Singapore",
          "Singapore",
          "Singapore",
          "Singapore",
          "Singapore",
          "Singapore",
          "Singapore",
          "Singapore",
          "Singapore",
          "Singapore",
          "Singapore",
          "Singapore",
          "Singapore",
          "Singapore",
          "Singapore",
          "Singapore",
          "Singapore",
          "Singapore",
          "Singapore",
          "Singapore",
          "Singapore",
          "Singapore",
          "Singapore",
          "Singapore",
          "Singapore",
          "Singapore",
          "Singapore",
          "Singapore",
          "Singapore",
          "Singapore",
          "Singapore",
          "Singapore",
          "Singapore",
          "Singapore",
          "Singapore",
          "Singapore",
          "Singapore",
          "Singapore",
          "Singapore",
          "Singapore",
          "Singapore",
          "Singapore",
          "Singapore",
          "Singapore",
          "Singapore",
          "Singapore",
          "Singapore",
          "Singapore",
          "Singapore",
          "Singapore",
          "Singapore",
          "Singapore",
          "Singapore",
          "Singapore",
          "Singapore",
          "Singapore",
          "Singapore",
          "Singapore",
          "Singapore",
          "Singapore",
          "Singapore",
          "Singapore",
          "Singapore",
          "Singapore",
          "Singapore",
          "Singapore",
          "Singapore",
          "Singapore",
          "Singapore",
          "Singapore",
          "Singapore",
          "Singapore",
          "Singapore",
          "Singapore",
          "Singapore",
          "Singapore",
          "Singapore",
          "Singapore",
          "Singapore",
          "Singapore",
          "Singapore",
          "Singapore",
          "Singapore",
          "Singapore",
          "Singapore",
          "Singapore",
          "Singapore",
          "Singapore",
          "Singapore",
          "Singapore",
          "Singapore",
          "Singapore",
          "Singapore",
          "Singapore",
          "Singapore",
          "Singapore",
          "Singapore",
          "Singapore",
          "Singapore",
          "Singapore",
          "Singapore",
          "Singapore",
          "Singapore",
          "Singapore",
          "Singapore",
          "Singapore",
          "Singapore",
          "Singapore",
          "Singapore",
          "Singapore",
          "Singapore",
          "Singapore",
          "Singapore",
          "Singapore",
          "Singapore",
          "Singapore",
          "Singapore",
          "Singapore",
          "Singapore",
          "Singapore",
          "Singapore",
          "Singapore",
          "Singapore",
          "Singapore",
          "Singapore",
          "Singapore",
          "Singapore",
          "Montreal",
          "Montreal",
          "Montreal",
          "Montreal",
          "Montreal",
          "Montreal",
          "Montreal",
          "Montreal",
          "Montreal",
          "Montreal",
          "Montreal",
          "Montreal",
          "Montreal",
          "Montreal",
          "Montreal",
          "Montreal",
          "Montreal",
          "Montreal",
          "Montreal",
          "Montreal",
          "Montreal",
          "Montreal",
          "Montreal",
          "Montreal",
          "Montreal",
          "Montreal",
          "Montreal",
          "Montreal",
          "Montreal",
          "Montreal",
          "Montreal",
          "Montreal",
          "Montreal",
          "Montreal",
          "Montreal",
          "Montreal",
          "Montreal",
          "Montreal",
          "Montreal",
          "Montreal",
          "Montreal",
          "Montreal",
          "Montreal",
          "Montreal",
          "Montreal",
          "Montreal",
          "Montreal",
          "Montreal",
          "Montreal",
          "Montreal",
          "Montreal",
          "Montreal",
          "Montreal",
          "Montreal",
          "Montreal",
          "Montreal",
          "Montreal",
          "Montreal",
          "Montreal",
          "Montreal",
          "Montreal",
          "Montreal",
          "Montreal",
          "Montreal",
          "Montreal",
          "Montreal",
          "Montreal",
          "Montreal",
          "Montreal",
          "Montreal",
          "Montreal",
          "Montreal",
          "Montreal"
         ],
         "xaxis": "x",
         "y": [
          7710,
          5572,
          8555,
          9015,
          7814,
          7021,
          10523,
          5363,
          9011,
          7523,
          5440,
          4121,
          6732,
          6886,
          17935,
          14500,
          12773,
          11958,
          2387,
          9582,
          13636,
          8462,
          4341,
          8350,
          5500,
          5237,
          7929,
          7294,
          5837,
          5509,
          10726,
          7710,
          5572,
          8555,
          9015,
          7814,
          7021,
          10523,
          5363,
          9011,
          4385,
          6322,
          3682,
          7523,
          4063,
          4411,
          5440,
          702,
          1674,
          2513,
          4671,
          8706,
          6919,
          3654,
          2946,
          7783,
          8545,
          3721,
          2303,
          7382,
          7588,
          10379,
          5641,
          4550,
          4477,
          7870,
          9145,
          3827,
          7720,
          7646,
          7012,
          11635,
          6810,
          6545,
          8305,
          6811,
          17809,
          2927,
          3987,
          4834,
          9108,
          8618,
          8359,
          6286,
          6876,
          6492,
          7344,
          11278,
          9566,
          4607,
          9177,
          6558,
          9273,
          11360,
          10857,
          719,
          1116,
          3837,
          4860,
          2132,
          6108,
          8722,
          2452,
          7735,
          4223,
          5471,
          5398,
          4487,
          7663,
          6259,
          10833,
          3455,
          9109,
          9829,
          10667,
          8497,
          8274,
          3270,
          6190,
          3203,
          5933,
          5642,
          3502,
          5738,
          6762,
          4705,
          9680,
          1938,
          11791,
          23395,
          23505,
          13246,
          6628,
          25491,
          3951,
          19441,
          8777,
          9941,
          34986,
          7821,
          12914,
          26290,
          11817,
          28168,
          33348,
          17756,
          14781,
          8685,
          17794,
          16793,
          7545,
          57673,
          36249,
          10764,
          24102,
          13365,
          42117,
          33254,
          24063,
          27319,
          49481,
          39662,
          60219,
          59751,
          40023,
          60648,
          46772,
          57397,
          60252,
          58084,
          47337,
          52170,
          53444,
          40019,
          23901,
          9681,
          3751,
          16092,
          26345,
          26414,
          22760,
          62448,
          28276,
          19301,
          73234,
          38611,
          20343,
          14744,
          30132,
          16109,
          5916,
          28276,
          28276,
          8279,
          11436,
          23626,
          12986,
          31,
          27544,
          7463,
          13975,
          2329,
          9801,
          6489,
          13652,
          16435,
          25697,
          13779,
          22940,
          9466,
          22476,
          9198,
          21830,
          4273,
          31602,
          2090,
          7992,
          12132,
          13246,
          13246,
          612,
          8193,
          46,
          27087,
          10176,
          24892,
          48282,
          13378,
          23548,
          35602,
          37943,
          16565,
          23325,
          23377,
          44680,
          14196,
          0,
          0,
          0,
          19677,
          0,
          5101,
          8593,
          39966,
          44422,
          33392,
          5201,
          31300,
          15086,
          20021,
          12093,
          15306,
          26334,
          19826,
          27782,
          29993,
          32082,
          0,
          66924,
          59130,
          35700,
          44680,
          44680,
          47135,
          20089,
          31660,
          33495,
          20131,
          34453,
          20021,
          20021,
          4469,
          4087,
          612,
          3751,
          16747,
          0,
          26317,
          26071,
          27782,
          27782,
          7145,
          24620,
          7704,
          25899,
          6923,
          11198,
          19467,
          21235,
          30189,
          19759,
          46765,
          16379,
          25679,
          3573,
          12659,
          2592,
          50718,
          17265,
          64704,
          18927,
          38528,
          62073,
          63417,
          38957,
          36951,
          68783,
          58621,
          75490,
          72921,
          73234,
          30391,
          53475,
          2492,
          7361,
          13981,
          12098,
          19348,
          18163,
          9739,
          10901,
          12373,
          20061,
          22646,
          8900,
          9766,
          15020,
          13222,
          16004,
          11166,
          9553,
          14259,
          15790,
          18122,
          10830,
          5794,
          4619,
          11568,
          11028,
          4679,
          6026,
          12391,
          5877,
          3037,
          5398,
          26210,
          22751,
          13931,
          14688,
          9057,
          11295,
          9310,
          18180,
          9733,
          6375,
          4064,
          6337,
          8294,
          16181,
          19788,
          17278,
          12713,
          12341,
          17909,
          20795,
          21940,
          14580,
          9822,
          8888,
          5505,
          8470,
          3410,
          13931,
          16444,
          8192,
          5897,
          14328,
          12996,
          16952,
          14514,
          19351,
          21516,
          16359,
          16371,
          16004,
          0,
          4240
         ],
         "yaxis": "y"
        },
        {
         "alignmentgroup": "True",
         "bingroup": "x",
         "histfunc": "avg",
         "hovertemplate": "variable=15 Minute Population<br>City=%{x}<br>avg of Population Coverage=%{y}<extra></extra>",
         "legendgroup": "15 Minute Population",
         "marker": {
          "color": "#00cc96"
         },
         "name": "15 Minute Population",
         "offsetgroup": "15 Minute Population",
         "orientation": "v",
         "showlegend": true,
         "type": "histogram",
         "x": [
          "Kuala Lumpur",
          "Kuala Lumpur",
          "Kuala Lumpur",
          "Kuala Lumpur",
          "Kuala Lumpur",
          "Kuala Lumpur",
          "Kuala Lumpur",
          "Kuala Lumpur",
          "Kuala Lumpur",
          "Kuala Lumpur",
          "Kuala Lumpur",
          "Kuala Lumpur",
          "Kuala Lumpur",
          "Kuala Lumpur",
          "Kuala Lumpur",
          "Kuala Lumpur",
          "Kuala Lumpur",
          "Kuala Lumpur",
          "Kuala Lumpur",
          "Kuala Lumpur",
          "Kuala Lumpur",
          "Kuala Lumpur",
          "Kuala Lumpur",
          "Kuala Lumpur",
          "Kuala Lumpur",
          "Kuala Lumpur",
          "Kuala Lumpur",
          "Kuala Lumpur",
          "Kuala Lumpur",
          "Kuala Lumpur",
          "Kuala Lumpur",
          "Kuala Lumpur",
          "Kuala Lumpur",
          "Kuala Lumpur",
          "Kuala Lumpur",
          "Kuala Lumpur",
          "Kuala Lumpur",
          "Kuala Lumpur",
          "Kuala Lumpur",
          "Kuala Lumpur",
          "Kuala Lumpur",
          "Kuala Lumpur",
          "Kuala Lumpur",
          "Kuala Lumpur",
          "Kuala Lumpur",
          "Kuala Lumpur",
          "Kuala Lumpur",
          "Kuala Lumpur",
          "Kuala Lumpur",
          "Kuala Lumpur",
          "Kuala Lumpur",
          "Kuala Lumpur",
          "Kuala Lumpur",
          "Kuala Lumpur",
          "Kuala Lumpur",
          "Kuala Lumpur",
          "Kuala Lumpur",
          "Kuala Lumpur",
          "Kuala Lumpur",
          "Kuala Lumpur",
          "Kuala Lumpur",
          "Kuala Lumpur",
          "Kuala Lumpur",
          "Kuala Lumpur",
          "Kuala Lumpur",
          "Kuala Lumpur",
          "Kuala Lumpur",
          "Kuala Lumpur",
          "Kuala Lumpur",
          "Kuala Lumpur",
          "Kuala Lumpur",
          "Kuala Lumpur",
          "Kuala Lumpur",
          "Kuala Lumpur",
          "Kuala Lumpur",
          "Kuala Lumpur",
          "Kuala Lumpur",
          "Kuala Lumpur",
          "Kuala Lumpur",
          "Kuala Lumpur",
          "Kuala Lumpur",
          "Kuala Lumpur",
          "Kuala Lumpur",
          "Kuala Lumpur",
          "Kuala Lumpur",
          "Kuala Lumpur",
          "Kuala Lumpur",
          "Kuala Lumpur",
          "Kuala Lumpur",
          "Kuala Lumpur",
          "Kuala Lumpur",
          "Kuala Lumpur",
          "Kuala Lumpur",
          "Kuala Lumpur",
          "Kuala Lumpur",
          "Kuala Lumpur",
          "Kuala Lumpur",
          "Kuala Lumpur",
          "Kuala Lumpur",
          "Kuala Lumpur",
          "Kuala Lumpur",
          "Kuala Lumpur",
          "Kuala Lumpur",
          "Kuala Lumpur",
          "Kuala Lumpur",
          "Kuala Lumpur",
          "Kuala Lumpur",
          "Kuala Lumpur",
          "Kuala Lumpur",
          "Kuala Lumpur",
          "Kuala Lumpur",
          "Kuala Lumpur",
          "Kuala Lumpur",
          "Kuala Lumpur",
          "Kuala Lumpur",
          "Kuala Lumpur",
          "Kuala Lumpur",
          "Kuala Lumpur",
          "Kuala Lumpur",
          "Kuala Lumpur",
          "Kuala Lumpur",
          "Kuala Lumpur",
          "Kuala Lumpur",
          "Kuala Lumpur",
          "Kuala Lumpur",
          "Kuala Lumpur",
          "Singapore",
          "Singapore",
          "Singapore",
          "Singapore",
          "Singapore",
          "Singapore",
          "Singapore",
          "Singapore",
          "Singapore",
          "Singapore",
          "Singapore",
          "Singapore",
          "Singapore",
          "Singapore",
          "Singapore",
          "Singapore",
          "Singapore",
          "Singapore",
          "Singapore",
          "Singapore",
          "Singapore",
          "Singapore",
          "Singapore",
          "Singapore",
          "Singapore",
          "Singapore",
          "Singapore",
          "Singapore",
          "Singapore",
          "Singapore",
          "Singapore",
          "Singapore",
          "Singapore",
          "Singapore",
          "Singapore",
          "Singapore",
          "Singapore",
          "Singapore",
          "Singapore",
          "Singapore",
          "Singapore",
          "Singapore",
          "Singapore",
          "Singapore",
          "Singapore",
          "Singapore",
          "Singapore",
          "Singapore",
          "Singapore",
          "Singapore",
          "Singapore",
          "Singapore",
          "Singapore",
          "Singapore",
          "Singapore",
          "Singapore",
          "Singapore",
          "Singapore",
          "Singapore",
          "Singapore",
          "Singapore",
          "Singapore",
          "Singapore",
          "Singapore",
          "Singapore",
          "Singapore",
          "Singapore",
          "Singapore",
          "Singapore",
          "Singapore",
          "Singapore",
          "Singapore",
          "Singapore",
          "Singapore",
          "Singapore",
          "Singapore",
          "Singapore",
          "Singapore",
          "Singapore",
          "Singapore",
          "Singapore",
          "Singapore",
          "Singapore",
          "Singapore",
          "Singapore",
          "Singapore",
          "Singapore",
          "Singapore",
          "Singapore",
          "Singapore",
          "Singapore",
          "Singapore",
          "Singapore",
          "Singapore",
          "Singapore",
          "Singapore",
          "Singapore",
          "Singapore",
          "Singapore",
          "Singapore",
          "Singapore",
          "Singapore",
          "Singapore",
          "Singapore",
          "Singapore",
          "Singapore",
          "Singapore",
          "Singapore",
          "Singapore",
          "Singapore",
          "Singapore",
          "Singapore",
          "Singapore",
          "Singapore",
          "Singapore",
          "Singapore",
          "Singapore",
          "Singapore",
          "Singapore",
          "Singapore",
          "Singapore",
          "Singapore",
          "Singapore",
          "Singapore",
          "Singapore",
          "Singapore",
          "Singapore",
          "Singapore",
          "Singapore",
          "Singapore",
          "Singapore",
          "Singapore",
          "Singapore",
          "Singapore",
          "Singapore",
          "Singapore",
          "Singapore",
          "Singapore",
          "Singapore",
          "Singapore",
          "Singapore",
          "Singapore",
          "Singapore",
          "Singapore",
          "Singapore",
          "Singapore",
          "Singapore",
          "Singapore",
          "Singapore",
          "Singapore",
          "Singapore",
          "Singapore",
          "Singapore",
          "Singapore",
          "Singapore",
          "Singapore",
          "Singapore",
          "Singapore",
          "Singapore",
          "Singapore",
          "Singapore",
          "Singapore",
          "Singapore",
          "Singapore",
          "Singapore",
          "Singapore",
          "Singapore",
          "Singapore",
          "Singapore",
          "Singapore",
          "Singapore",
          "Singapore",
          "Singapore",
          "Singapore",
          "Singapore",
          "Singapore",
          "Singapore",
          "Singapore",
          "Singapore",
          "Singapore",
          "Singapore",
          "Singapore",
          "Singapore",
          "Singapore",
          "Singapore",
          "Singapore",
          "Singapore",
          "Singapore",
          "Montreal",
          "Montreal",
          "Montreal",
          "Montreal",
          "Montreal",
          "Montreal",
          "Montreal",
          "Montreal",
          "Montreal",
          "Montreal",
          "Montreal",
          "Montreal",
          "Montreal",
          "Montreal",
          "Montreal",
          "Montreal",
          "Montreal",
          "Montreal",
          "Montreal",
          "Montreal",
          "Montreal",
          "Montreal",
          "Montreal",
          "Montreal",
          "Montreal",
          "Montreal",
          "Montreal",
          "Montreal",
          "Montreal",
          "Montreal",
          "Montreal",
          "Montreal",
          "Montreal",
          "Montreal",
          "Montreal",
          "Montreal",
          "Montreal",
          "Montreal",
          "Montreal",
          "Montreal",
          "Montreal",
          "Montreal",
          "Montreal",
          "Montreal",
          "Montreal",
          "Montreal",
          "Montreal",
          "Montreal",
          "Montreal",
          "Montreal",
          "Montreal",
          "Montreal",
          "Montreal",
          "Montreal",
          "Montreal",
          "Montreal",
          "Montreal",
          "Montreal",
          "Montreal",
          "Montreal",
          "Montreal",
          "Montreal",
          "Montreal",
          "Montreal",
          "Montreal",
          "Montreal",
          "Montreal",
          "Montreal",
          "Montreal",
          "Montreal",
          "Montreal",
          "Montreal",
          "Montreal"
         ],
         "xaxis": "x",
         "y": [
          16554,
          15104,
          20457,
          21377,
          16574,
          17712,
          22370,
          14307,
          21086,
          19977,
          15394,
          12314,
          18943,
          16566,
          40666,
          38505,
          34832,
          30937,
          5666,
          16990,
          25927,
          15410,
          8805,
          17657,
          12116,
          14465,
          14499,
          14781,
          10761,
          13889,
          17209,
          16554,
          15104,
          20457,
          21377,
          16574,
          17712,
          22370,
          14307,
          21086,
          8721,
          12776,
          9890,
          19977,
          8068,
          10629,
          15394,
          4281,
          3130,
          5894,
          10137,
          15830,
          16929,
          6935,
          7486,
          17231,
          17672,
          8260,
          7808,
          18028,
          18602,
          24796,
          17305,
          12033,
          11077,
          14232,
          17653,
          12063,
          19391,
          14774,
          18749,
          22995,
          17013,
          18467,
          19607,
          15524,
          37835,
          10573,
          13043,
          14998,
          19682,
          20997,
          19359,
          18481,
          15278,
          13569,
          19530,
          24638,
          20691,
          14554,
          22770,
          18375,
          22631,
          23057,
          23894,
          3570,
          4018,
          10650,
          13078,
          6188,
          15335,
          17932,
          8946,
          15286,
          9265,
          15246,
          12014,
          12526,
          19341,
          16047,
          23359,
          10160,
          19656,
          21947,
          21264,
          21709,
          20585,
          7640,
          12308,
          6703,
          11032,
          9647,
          8779,
          10854,
          18142,
          7102,
          20250,
          6922,
          33135,
          54090,
          49029,
          25840,
          15366,
          56518,
          10583,
          31876,
          23778,
          22384,
          60945,
          17618,
          41755,
          61588,
          24560,
          63748,
          81951,
          49113,
          39049,
          23051,
          40982,
          36927,
          18836,
          136086,
          77980,
          22713,
          54405,
          25414,
          82144,
          69668,
          51604,
          58778,
          121345,
          69215,
          118533,
          121248,
          92820,
          132070,
          93994,
          110467,
          119744,
          115321,
          91710,
          116242,
          108397,
          65417,
          47721,
          21129,
          13117,
          37902,
          56914,
          62610,
          57415,
          123521,
          59768,
          38108,
          164145,
          83114,
          36292,
          47183,
          57133,
          41904,
          16148,
          59768,
          59768,
          17982,
          23127,
          48193,
          28782,
          4019,
          58087,
          17065,
          28770,
          11569,
          21232,
          18483,
          25761,
          43073,
          59852,
          40550,
          51905,
          17657,
          52436,
          16829,
          45439,
          13778,
          68435,
          7677,
          21316,
          25348,
          25840,
          25840,
          1364,
          23777,
          111,
          63940,
          21874,
          49998,
          117226,
          24151,
          52265,
          67806,
          76190,
          34420,
          43521,
          53531,
          94690,
          31498,
          0,
          0,
          0,
          51339,
          0,
          17535,
          25142,
          77451,
          95692,
          78532,
          6994,
          73437,
          49299,
          53262,
          26985,
          33684,
          51646,
          46110,
          48930,
          51343,
          64271,
          1452,
          96799,
          116021,
          78984,
          94690,
          94690,
          117299,
          38212,
          72589,
          75209,
          39592,
          68053,
          53262,
          53262,
          10351,
          12587,
          1364,
          13778,
          38655,
          69,
          56758,
          54176,
          48930,
          48930,
          20232,
          49213,
          24340,
          44089,
          14857,
          20565,
          53951,
          39589,
          66488,
          42406,
          94864,
          38161,
          77476,
          8223,
          30718,
          5853,
          100347,
          62207,
          125535,
          53420,
          80017,
          120780,
          130932,
          65300,
          97627,
          123690,
          104793,
          143484,
          141644,
          164145,
          55205,
          122355,
          5110,
          12499,
          24154,
          34071,
          34945,
          30932,
          17807,
          26183,
          30443,
          35734,
          34705,
          30479,
          26541,
          27712,
          33387,
          33577,
          22879,
          21554,
          26828,
          32403,
          39727,
          25081,
          12442,
          10960,
          22627,
          20409,
          15992,
          15913,
          22654,
          11841,
          6518,
          15770,
          45848,
          47317,
          35180,
          29328,
          21409,
          19856,
          24105,
          34796,
          31775,
          17194,
          16993,
          14875,
          16071,
          34360,
          38751,
          41822,
          29056,
          31346,
          34880,
          43673,
          34746,
          30105,
          21634,
          19195,
          11520,
          19066,
          9675,
          35180,
          37030,
          22826,
          14457,
          29863,
          30986,
          28514,
          34692,
          42511,
          43712,
          40443,
          30414,
          33577,
          0,
          7946
         ],
         "yaxis": "y"
        }
       ],
       "layout": {
        "barmode": "group",
        "legend": {
         "title": {
          "text": "variable"
         },
         "tracegroupgap": 0
        },
        "template": {
         "data": {
          "bar": [
           {
            "error_x": {
             "color": "#2a3f5f"
            },
            "error_y": {
             "color": "#2a3f5f"
            },
            "marker": {
             "line": {
              "color": "#E5ECF6",
              "width": 0.5
             }
            },
            "type": "bar"
           }
          ],
          "barpolar": [
           {
            "marker": {
             "line": {
              "color": "#E5ECF6",
              "width": 0.5
             }
            },
            "type": "barpolar"
           }
          ],
          "carpet": [
           {
            "aaxis": {
             "endlinecolor": "#2a3f5f",
             "gridcolor": "white",
             "linecolor": "white",
             "minorgridcolor": "white",
             "startlinecolor": "#2a3f5f"
            },
            "baxis": {
             "endlinecolor": "#2a3f5f",
             "gridcolor": "white",
             "linecolor": "white",
             "minorgridcolor": "white",
             "startlinecolor": "#2a3f5f"
            },
            "type": "carpet"
           }
          ],
          "choropleth": [
           {
            "colorbar": {
             "outlinewidth": 0,
             "ticks": ""
            },
            "type": "choropleth"
           }
          ],
          "contour": [
           {
            "colorbar": {
             "outlinewidth": 0,
             "ticks": ""
            },
            "colorscale": [
             [
              0,
              "#0d0887"
             ],
             [
              0.1111111111111111,
              "#46039f"
             ],
             [
              0.2222222222222222,
              "#7201a8"
             ],
             [
              0.3333333333333333,
              "#9c179e"
             ],
             [
              0.4444444444444444,
              "#bd3786"
             ],
             [
              0.5555555555555556,
              "#d8576b"
             ],
             [
              0.6666666666666666,
              "#ed7953"
             ],
             [
              0.7777777777777778,
              "#fb9f3a"
             ],
             [
              0.8888888888888888,
              "#fdca26"
             ],
             [
              1,
              "#f0f921"
             ]
            ],
            "type": "contour"
           }
          ],
          "contourcarpet": [
           {
            "colorbar": {
             "outlinewidth": 0,
             "ticks": ""
            },
            "type": "contourcarpet"
           }
          ],
          "heatmap": [
           {
            "colorbar": {
             "outlinewidth": 0,
             "ticks": ""
            },
            "colorscale": [
             [
              0,
              "#0d0887"
             ],
             [
              0.1111111111111111,
              "#46039f"
             ],
             [
              0.2222222222222222,
              "#7201a8"
             ],
             [
              0.3333333333333333,
              "#9c179e"
             ],
             [
              0.4444444444444444,
              "#bd3786"
             ],
             [
              0.5555555555555556,
              "#d8576b"
             ],
             [
              0.6666666666666666,
              "#ed7953"
             ],
             [
              0.7777777777777778,
              "#fb9f3a"
             ],
             [
              0.8888888888888888,
              "#fdca26"
             ],
             [
              1,
              "#f0f921"
             ]
            ],
            "type": "heatmap"
           }
          ],
          "heatmapgl": [
           {
            "colorbar": {
             "outlinewidth": 0,
             "ticks": ""
            },
            "colorscale": [
             [
              0,
              "#0d0887"
             ],
             [
              0.1111111111111111,
              "#46039f"
             ],
             [
              0.2222222222222222,
              "#7201a8"
             ],
             [
              0.3333333333333333,
              "#9c179e"
             ],
             [
              0.4444444444444444,
              "#bd3786"
             ],
             [
              0.5555555555555556,
              "#d8576b"
             ],
             [
              0.6666666666666666,
              "#ed7953"
             ],
             [
              0.7777777777777778,
              "#fb9f3a"
             ],
             [
              0.8888888888888888,
              "#fdca26"
             ],
             [
              1,
              "#f0f921"
             ]
            ],
            "type": "heatmapgl"
           }
          ],
          "histogram": [
           {
            "marker": {
             "colorbar": {
              "outlinewidth": 0,
              "ticks": ""
             }
            },
            "type": "histogram"
           }
          ],
          "histogram2d": [
           {
            "colorbar": {
             "outlinewidth": 0,
             "ticks": ""
            },
            "colorscale": [
             [
              0,
              "#0d0887"
             ],
             [
              0.1111111111111111,
              "#46039f"
             ],
             [
              0.2222222222222222,
              "#7201a8"
             ],
             [
              0.3333333333333333,
              "#9c179e"
             ],
             [
              0.4444444444444444,
              "#bd3786"
             ],
             [
              0.5555555555555556,
              "#d8576b"
             ],
             [
              0.6666666666666666,
              "#ed7953"
             ],
             [
              0.7777777777777778,
              "#fb9f3a"
             ],
             [
              0.8888888888888888,
              "#fdca26"
             ],
             [
              1,
              "#f0f921"
             ]
            ],
            "type": "histogram2d"
           }
          ],
          "histogram2dcontour": [
           {
            "colorbar": {
             "outlinewidth": 0,
             "ticks": ""
            },
            "colorscale": [
             [
              0,
              "#0d0887"
             ],
             [
              0.1111111111111111,
              "#46039f"
             ],
             [
              0.2222222222222222,
              "#7201a8"
             ],
             [
              0.3333333333333333,
              "#9c179e"
             ],
             [
              0.4444444444444444,
              "#bd3786"
             ],
             [
              0.5555555555555556,
              "#d8576b"
             ],
             [
              0.6666666666666666,
              "#ed7953"
             ],
             [
              0.7777777777777778,
              "#fb9f3a"
             ],
             [
              0.8888888888888888,
              "#fdca26"
             ],
             [
              1,
              "#f0f921"
             ]
            ],
            "type": "histogram2dcontour"
           }
          ],
          "mesh3d": [
           {
            "colorbar": {
             "outlinewidth": 0,
             "ticks": ""
            },
            "type": "mesh3d"
           }
          ],
          "parcoords": [
           {
            "line": {
             "colorbar": {
              "outlinewidth": 0,
              "ticks": ""
             }
            },
            "type": "parcoords"
           }
          ],
          "pie": [
           {
            "automargin": true,
            "type": "pie"
           }
          ],
          "scatter": [
           {
            "marker": {
             "colorbar": {
              "outlinewidth": 0,
              "ticks": ""
             }
            },
            "type": "scatter"
           }
          ],
          "scatter3d": [
           {
            "line": {
             "colorbar": {
              "outlinewidth": 0,
              "ticks": ""
             }
            },
            "marker": {
             "colorbar": {
              "outlinewidth": 0,
              "ticks": ""
             }
            },
            "type": "scatter3d"
           }
          ],
          "scattercarpet": [
           {
            "marker": {
             "colorbar": {
              "outlinewidth": 0,
              "ticks": ""
             }
            },
            "type": "scattercarpet"
           }
          ],
          "scattergeo": [
           {
            "marker": {
             "colorbar": {
              "outlinewidth": 0,
              "ticks": ""
             }
            },
            "type": "scattergeo"
           }
          ],
          "scattergl": [
           {
            "marker": {
             "colorbar": {
              "outlinewidth": 0,
              "ticks": ""
             }
            },
            "type": "scattergl"
           }
          ],
          "scattermapbox": [
           {
            "marker": {
             "colorbar": {
              "outlinewidth": 0,
              "ticks": ""
             }
            },
            "type": "scattermapbox"
           }
          ],
          "scatterpolar": [
           {
            "marker": {
             "colorbar": {
              "outlinewidth": 0,
              "ticks": ""
             }
            },
            "type": "scatterpolar"
           }
          ],
          "scatterpolargl": [
           {
            "marker": {
             "colorbar": {
              "outlinewidth": 0,
              "ticks": ""
             }
            },
            "type": "scatterpolargl"
           }
          ],
          "scatterternary": [
           {
            "marker": {
             "colorbar": {
              "outlinewidth": 0,
              "ticks": ""
             }
            },
            "type": "scatterternary"
           }
          ],
          "surface": [
           {
            "colorbar": {
             "outlinewidth": 0,
             "ticks": ""
            },
            "colorscale": [
             [
              0,
              "#0d0887"
             ],
             [
              0.1111111111111111,
              "#46039f"
             ],
             [
              0.2222222222222222,
              "#7201a8"
             ],
             [
              0.3333333333333333,
              "#9c179e"
             ],
             [
              0.4444444444444444,
              "#bd3786"
             ],
             [
              0.5555555555555556,
              "#d8576b"
             ],
             [
              0.6666666666666666,
              "#ed7953"
             ],
             [
              0.7777777777777778,
              "#fb9f3a"
             ],
             [
              0.8888888888888888,
              "#fdca26"
             ],
             [
              1,
              "#f0f921"
             ]
            ],
            "type": "surface"
           }
          ],
          "table": [
           {
            "cells": {
             "fill": {
              "color": "#EBF0F8"
             },
             "line": {
              "color": "white"
             }
            },
            "header": {
             "fill": {
              "color": "#C8D4E3"
             },
             "line": {
              "color": "white"
             }
            },
            "type": "table"
           }
          ]
         },
         "layout": {
          "annotationdefaults": {
           "arrowcolor": "#2a3f5f",
           "arrowhead": 0,
           "arrowwidth": 1
          },
          "coloraxis": {
           "colorbar": {
            "outlinewidth": 0,
            "ticks": ""
           }
          },
          "colorscale": {
           "diverging": [
            [
             0,
             "#8e0152"
            ],
            [
             0.1,
             "#c51b7d"
            ],
            [
             0.2,
             "#de77ae"
            ],
            [
             0.3,
             "#f1b6da"
            ],
            [
             0.4,
             "#fde0ef"
            ],
            [
             0.5,
             "#f7f7f7"
            ],
            [
             0.6,
             "#e6f5d0"
            ],
            [
             0.7,
             "#b8e186"
            ],
            [
             0.8,
             "#7fbc41"
            ],
            [
             0.9,
             "#4d9221"
            ],
            [
             1,
             "#276419"
            ]
           ],
           "sequential": [
            [
             0,
             "#0d0887"
            ],
            [
             0.1111111111111111,
             "#46039f"
            ],
            [
             0.2222222222222222,
             "#7201a8"
            ],
            [
             0.3333333333333333,
             "#9c179e"
            ],
            [
             0.4444444444444444,
             "#bd3786"
            ],
            [
             0.5555555555555556,
             "#d8576b"
            ],
            [
             0.6666666666666666,
             "#ed7953"
            ],
            [
             0.7777777777777778,
             "#fb9f3a"
            ],
            [
             0.8888888888888888,
             "#fdca26"
            ],
            [
             1,
             "#f0f921"
            ]
           ],
           "sequentialminus": [
            [
             0,
             "#0d0887"
            ],
            [
             0.1111111111111111,
             "#46039f"
            ],
            [
             0.2222222222222222,
             "#7201a8"
            ],
            [
             0.3333333333333333,
             "#9c179e"
            ],
            [
             0.4444444444444444,
             "#bd3786"
            ],
            [
             0.5555555555555556,
             "#d8576b"
            ],
            [
             0.6666666666666666,
             "#ed7953"
            ],
            [
             0.7777777777777778,
             "#fb9f3a"
            ],
            [
             0.8888888888888888,
             "#fdca26"
            ],
            [
             1,
             "#f0f921"
            ]
           ]
          },
          "colorway": [
           "#636efa",
           "#EF553B",
           "#00cc96",
           "#ab63fa",
           "#FFA15A",
           "#19d3f3",
           "#FF6692",
           "#B6E880",
           "#FF97FF",
           "#FECB52"
          ],
          "font": {
           "color": "#2a3f5f"
          },
          "geo": {
           "bgcolor": "white",
           "lakecolor": "white",
           "landcolor": "#E5ECF6",
           "showlakes": true,
           "showland": true,
           "subunitcolor": "white"
          },
          "hoverlabel": {
           "align": "left"
          },
          "hovermode": "closest",
          "mapbox": {
           "style": "light"
          },
          "paper_bgcolor": "white",
          "plot_bgcolor": "#E5ECF6",
          "polar": {
           "angularaxis": {
            "gridcolor": "white",
            "linecolor": "white",
            "ticks": ""
           },
           "bgcolor": "#E5ECF6",
           "radialaxis": {
            "gridcolor": "white",
            "linecolor": "white",
            "ticks": ""
           }
          },
          "scene": {
           "xaxis": {
            "backgroundcolor": "#E5ECF6",
            "gridcolor": "white",
            "gridwidth": 2,
            "linecolor": "white",
            "showbackground": true,
            "ticks": "",
            "zerolinecolor": "white"
           },
           "yaxis": {
            "backgroundcolor": "#E5ECF6",
            "gridcolor": "white",
            "gridwidth": 2,
            "linecolor": "white",
            "showbackground": true,
            "ticks": "",
            "zerolinecolor": "white"
           },
           "zaxis": {
            "backgroundcolor": "#E5ECF6",
            "gridcolor": "white",
            "gridwidth": 2,
            "linecolor": "white",
            "showbackground": true,
            "ticks": "",
            "zerolinecolor": "white"
           }
          },
          "shapedefaults": {
           "line": {
            "color": "#2a3f5f"
           }
          },
          "ternary": {
           "aaxis": {
            "gridcolor": "white",
            "linecolor": "white",
            "ticks": ""
           },
           "baxis": {
            "gridcolor": "white",
            "linecolor": "white",
            "ticks": ""
           },
           "bgcolor": "#E5ECF6",
           "caxis": {
            "gridcolor": "white",
            "linecolor": "white",
            "ticks": ""
           }
          },
          "title": {
           "x": 0.05
          },
          "xaxis": {
           "automargin": true,
           "gridcolor": "white",
           "linecolor": "white",
           "ticks": "",
           "title": {
            "standoff": 15
           },
           "zerolinecolor": "white",
           "zerolinewidth": 2
          },
          "yaxis": {
           "automargin": true,
           "gridcolor": "white",
           "linecolor": "white",
           "ticks": "",
           "title": {
            "standoff": 15
           },
           "zerolinecolor": "white",
           "zerolinewidth": 2
          }
         }
        },
        "title": {
         "text": "Population coverage within walking times from station"
        },
        "xaxis": {
         "anchor": "y",
         "categoryorder": "total ascending",
         "domain": [
          0,
          1
         ],
         "title": {
          "text": "City"
         }
        },
        "yaxis": {
         "anchor": "x",
         "domain": [
          0,
          1
         ],
         "title": {
          "text": "avg of Population Coverage"
         }
        }
       }
      }
     },
     "metadata": {},
     "output_type": "display_data"
    }
   ],
   "source": [
    "fig = px.histogram(data_temp\n",
    "             ,x='City'\n",
    "             ,y=['5 Minute Population','10 Minute Population','15 Minute Population']\n",
    "             , barmode = 'group'\n",
    "             , title=\"Population coverage within walking times from station\"\n",
    "             , template='plotly'\n",
    "             , histfunc = 'avg'\n",
    "             ,labels={'Route Name': \"Lines\",'value':'Population Coverage'}\n",
    "            ).update_xaxes(categoryorder='total ascending')\n",
    "\n",
    "fig.show() "
   ]
  },
  {
   "cell_type": "code",
   "execution_count": 12,
   "metadata": {},
   "outputs": [
    {
     "data": {
      "text/html": [
       "<div>\n",
       "<style scoped>\n",
       "    .dataframe tbody tr th:only-of-type {\n",
       "        vertical-align: middle;\n",
       "    }\n",
       "\n",
       "    .dataframe tbody tr th {\n",
       "        vertical-align: top;\n",
       "    }\n",
       "\n",
       "    .dataframe thead th {\n",
       "        text-align: right;\n",
       "    }\n",
       "</style>\n",
       "<table border=\"1\" class=\"dataframe\">\n",
       "  <thead>\n",
       "    <tr style=\"text-align: right;\">\n",
       "      <th></th>\n",
       "      <th>Unnamed: 0</th>\n",
       "      <th>Object ID</th>\n",
       "      <th>Latitude</th>\n",
       "      <th>Longitude</th>\n",
       "      <th>5 Minute Range Area</th>\n",
       "      <th>10 Minute Range Area</th>\n",
       "      <th>15 Minute Range Area</th>\n",
       "      <th>5 Minute Reach Factor</th>\n",
       "      <th>10 Minute Reach Factor</th>\n",
       "      <th>15 Minute Reach Factor</th>\n",
       "      <th>5 Minute Population</th>\n",
       "      <th>10 Minute Population</th>\n",
       "      <th>15 Minute Population</th>\n",
       "    </tr>\n",
       "  </thead>\n",
       "  <tbody>\n",
       "    <tr>\n",
       "      <th>count</th>\n",
       "      <td>73.000000</td>\n",
       "      <td>73.000000</td>\n",
       "      <td>73.000000</td>\n",
       "      <td>73.000000</td>\n",
       "      <td>73.000000</td>\n",
       "      <td>73.000000</td>\n",
       "      <td>73.000000</td>\n",
       "      <td>73.000000</td>\n",
       "      <td>73.000000</td>\n",
       "      <td>73.000000</td>\n",
       "      <td>73.000000</td>\n",
       "      <td>73.000000</td>\n",
       "      <td>73.000000</td>\n",
       "    </tr>\n",
       "    <tr>\n",
       "      <th>mean</th>\n",
       "      <td>36.000000</td>\n",
       "      <td>37.000000</td>\n",
       "      <td>45.517212</td>\n",
       "      <td>-73.594474</td>\n",
       "      <td>0.358951</td>\n",
       "      <td>1.412011</td>\n",
       "      <td>3.182533</td>\n",
       "      <td>0.658122</td>\n",
       "      <td>0.647216</td>\n",
       "      <td>0.648342</td>\n",
       "      <td>3004.232877</td>\n",
       "      <td>12420.000000</td>\n",
       "      <td>26623.205479</td>\n",
       "    </tr>\n",
       "    <tr>\n",
       "      <th>std</th>\n",
       "      <td>21.217131</td>\n",
       "      <td>21.217131</td>\n",
       "      <td>0.033642</td>\n",
       "      <td>0.043131</td>\n",
       "      <td>0.057985</td>\n",
       "      <td>0.159607</td>\n",
       "      <td>0.350956</td>\n",
       "      <td>0.106314</td>\n",
       "      <td>0.073157</td>\n",
       "      <td>0.071500</td>\n",
       "      <td>1852.730009</td>\n",
       "      <td>5592.401089</td>\n",
       "      <td>10386.848176</td>\n",
       "    </tr>\n",
       "    <tr>\n",
       "      <th>min</th>\n",
       "      <td>0.000000</td>\n",
       "      <td>1.000000</td>\n",
       "      <td>45.446238</td>\n",
       "      <td>-73.721530</td>\n",
       "      <td>0.083456</td>\n",
       "      <td>0.805200</td>\n",
       "      <td>1.877722</td>\n",
       "      <td>0.153000</td>\n",
       "      <td>0.369100</td>\n",
       "      <td>0.382500</td>\n",
       "      <td>0.000000</td>\n",
       "      <td>0.000000</td>\n",
       "      <td>0.000000</td>\n",
       "    </tr>\n",
       "    <tr>\n",
       "      <th>25%</th>\n",
       "      <td>18.000000</td>\n",
       "      <td>19.000000</td>\n",
       "      <td>45.494891</td>\n",
       "      <td>-73.620030</td>\n",
       "      <td>0.345859</td>\n",
       "      <td>1.361880</td>\n",
       "      <td>3.054840</td>\n",
       "      <td>0.634100</td>\n",
       "      <td>0.624200</td>\n",
       "      <td>0.622300</td>\n",
       "      <td>1626.000000</td>\n",
       "      <td>8470.000000</td>\n",
       "      <td>19066.000000</td>\n",
       "    </tr>\n",
       "    <tr>\n",
       "      <th>50%</th>\n",
       "      <td>36.000000</td>\n",
       "      <td>37.000000</td>\n",
       "      <td>45.514946</td>\n",
       "      <td>-73.582060</td>\n",
       "      <td>0.377268</td>\n",
       "      <td>1.464512</td>\n",
       "      <td>3.311741</td>\n",
       "      <td>0.691700</td>\n",
       "      <td>0.671300</td>\n",
       "      <td>0.674700</td>\n",
       "      <td>2871.000000</td>\n",
       "      <td>12373.000000</td>\n",
       "      <td>28514.000000</td>\n",
       "    </tr>\n",
       "    <tr>\n",
       "      <th>75%</th>\n",
       "      <td>54.000000</td>\n",
       "      <td>55.000000</td>\n",
       "      <td>45.541717</td>\n",
       "      <td>-73.561780</td>\n",
       "      <td>0.394780</td>\n",
       "      <td>1.522550</td>\n",
       "      <td>3.425047</td>\n",
       "      <td>0.723800</td>\n",
       "      <td>0.697900</td>\n",
       "      <td>0.697700</td>\n",
       "      <td>4028.000000</td>\n",
       "      <td>16359.000000</td>\n",
       "      <td>34692.000000</td>\n",
       "    </tr>\n",
       "    <tr>\n",
       "      <th>max</th>\n",
       "      <td>72.000000</td>\n",
       "      <td>73.000000</td>\n",
       "      <td>45.596409</td>\n",
       "      <td>-73.521970</td>\n",
       "      <td>0.424272</td>\n",
       "      <td>1.589297</td>\n",
       "      <td>3.546407</td>\n",
       "      <td>0.777900</td>\n",
       "      <td>0.728500</td>\n",
       "      <td>0.722500</td>\n",
       "      <td>10093.000000</td>\n",
       "      <td>26210.000000</td>\n",
       "      <td>47317.000000</td>\n",
       "    </tr>\n",
       "  </tbody>\n",
       "</table>\n",
       "</div>"
      ],
      "text/plain": [
       "       Unnamed: 0  Object ID   Latitude  Longitude  5 Minute Range Area  \\\n",
       "count   73.000000  73.000000  73.000000  73.000000            73.000000   \n",
       "mean    36.000000  37.000000  45.517212 -73.594474             0.358951   \n",
       "std     21.217131  21.217131   0.033642   0.043131             0.057985   \n",
       "min      0.000000   1.000000  45.446238 -73.721530             0.083456   \n",
       "25%     18.000000  19.000000  45.494891 -73.620030             0.345859   \n",
       "50%     36.000000  37.000000  45.514946 -73.582060             0.377268   \n",
       "75%     54.000000  55.000000  45.541717 -73.561780             0.394780   \n",
       "max     72.000000  73.000000  45.596409 -73.521970             0.424272   \n",
       "\n",
       "       10 Minute Range Area  15 Minute Range Area  5 Minute Reach Factor  \\\n",
       "count             73.000000             73.000000              73.000000   \n",
       "mean               1.412011              3.182533               0.658122   \n",
       "std                0.159607              0.350956               0.106314   \n",
       "min                0.805200              1.877722               0.153000   \n",
       "25%                1.361880              3.054840               0.634100   \n",
       "50%                1.464512              3.311741               0.691700   \n",
       "75%                1.522550              3.425047               0.723800   \n",
       "max                1.589297              3.546407               0.777900   \n",
       "\n",
       "       10 Minute Reach Factor  15 Minute Reach Factor  5 Minute Population  \\\n",
       "count               73.000000               73.000000            73.000000   \n",
       "mean                 0.647216                0.648342          3004.232877   \n",
       "std                  0.073157                0.071500          1852.730009   \n",
       "min                  0.369100                0.382500             0.000000   \n",
       "25%                  0.624200                0.622300          1626.000000   \n",
       "50%                  0.671300                0.674700          2871.000000   \n",
       "75%                  0.697900                0.697700          4028.000000   \n",
       "max                  0.728500                0.722500         10093.000000   \n",
       "\n",
       "       10 Minute Population  15 Minute Population  \n",
       "count             73.000000             73.000000  \n",
       "mean           12420.000000          26623.205479  \n",
       "std             5592.401089          10386.848176  \n",
       "min                0.000000              0.000000  \n",
       "25%             8470.000000          19066.000000  \n",
       "50%            12373.000000          28514.000000  \n",
       "75%            16359.000000          34692.000000  \n",
       "max            26210.000000          47317.000000  "
      ]
     },
     "execution_count": 12,
     "metadata": {},
     "output_type": "execute_result"
    }
   ],
   "source": [
    "data_mtl.describe()"
   ]
  },
  {
   "cell_type": "markdown",
   "metadata": {},
   "source": [
    "# Conclusions\n",
    "Well as we suspect we dont seem to maximize our train stations for the users compared to other cities like Montreal where our population number is similar or Singapore where our culture and weather are similar. The reasons for that could definitely be further analyzed by looking at individual stations and understanding why it may be so."
   ]
  },
  {
   "cell_type": "markdown",
   "metadata": {},
   "source": [
    "## Appendix\n",
    "### Maps with isochrones of Each KL Line as reference"
   ]
  },
  {
   "cell_type": "code",
   "execution_count": 19,
   "metadata": {},
   "outputs": [
    {
     "name": "stdout",
     "output_type": "stream",
     "text": [
      "Done!\n",
      "Done!\n",
      "Done!\n",
      "Done!\n",
      "Done!\n",
      "Done!\n",
      "Done!\n",
      "Done!\n",
      "Done!\n",
      "Done!\n",
      "Done!\n"
     ]
    }
   ],
   "source": [
    "lines_kl = list(data_kl['Route Name'].unique())\n",
    "maps_kl = []\n",
    "location = data_kl['Latitude'].iloc[0],data_kl['Longitude'].iloc[0]\n",
    "station_kl_dict = dictSetup(data_kl)\n",
    "for line in lines_kl:\n",
    "    map_temp = folium.Map(tiles='OpenStreetMap',location=location ,zoom_start=11)\n",
    "    temp_line = list(data_kl[data_kl['Route Name']==line].index)\n",
    "    temp_dict = stationSubset(station_kl_dict,temp_line)\n",
    "    isoVisualizer(map_temp,temp_dict)\n",
    "    maps_kl.append((map_temp,line))"
   ]
  },
  {
   "cell_type": "markdown",
   "metadata": {},
   "source": [
    "## Saving isochrone maps images and html\n",
    "\n",
    "We define a function where we can save an isochrone map into HTML and PNG files.\n",
    "\n",
    "\n",
    "The HTML file can be opened with a browser that will lead to an OSM map with the isochrone polygons overlaid on it\n",
    "\n",
    "\n",
    "After function is run, a temporary browser with the map will open for 10 seconds. Navigate within the timeframe to the part of the map that you wish to screenshot. It will be captured at the end of the 10 seconds.\n",
    "\n",
    "\n",
    "Note that it may be necessary to install Firefox in the file directory.\n"
   ]
  },
  {
   "cell_type": "code",
   "execution_count": 1,
   "metadata": {},
   "outputs": [],
   "source": [
    "def saveMap(temp_map):\n",
    "    import os\n",
    "    import time\n",
    "    from selenium import webdriver\n",
    "    delay=10\n",
    "    #Save the map as an HTML file\n",
    "    map_name = '{}.png'.format(temp_map[1])\n",
    "    html_name = '{}.html'.format(temp_map[1])\n",
    "    tmpurl='file://{path}/{mapfile}'.format(path=os.getcwd(),mapfile=html_name)\n",
    "    temp_map[0].save(html_name)\n",
    "\n",
    "    #Open a browser window...\n",
    "    browser = webdriver.Firefox()\n",
    "    #..that displays the map...\n",
    "    browser.get(tmpurl)\n",
    "    #Give the map tiles some time to load\n",
    "    time.sleep(delay)\n",
    "    #Grab the screenshot\n",
    "\n",
    "    browser.save_screenshot(map_name)\n",
    "    #Close the browser\n",
    "    browser.quit()\n",
    "    return"
   ]
  },
  {
   "cell_type": "code",
   "execution_count": 22,
   "metadata": {},
   "outputs": [],
   "source": [
    "for kl_map  in maps_kl:\n",
    "    saveMap(kl_map)"
   ]
  },
  {
   "cell_type": "code",
   "execution_count": null,
   "metadata": {},
   "outputs": [],
   "source": []
  }
 ],
 "metadata": {
  "interpreter": {
   "hash": "89fae134e3601c1aaefc44c89a39110891ae3df6097ca8def977a5a623df3662"
  },
  "kernelspec": {
   "display_name": "Python 3.7.9 64-bit ('ors': conda)",
   "name": "python3"
  },
  "language_info": {
   "codemirror_mode": {
    "name": "ipython",
    "version": 3
   },
   "file_extension": ".py",
   "mimetype": "text/x-python",
   "name": "python",
   "nbconvert_exporter": "python",
   "pygments_lexer": "ipython3",
   "version": "3.7.9"
  },
  "orig_nbformat": 2
 },
 "nbformat": 4,
 "nbformat_minor": 2
}