{
 "cells": [
  {
   "cell_type": "markdown",
   "metadata": {},
   "source": [
    "# Visualizing Isochrone data\n",
    "We'll be looking at the average data of walking area accessibility and the population coverage of the train stations. We'll compare different Klang Valley lines and then different cities with KL.\n",
    "This notebook assumes that the rapidkl_isochrones notebook has been run and isochrone data is available in csv form. \n",
    "Or isochrones data has been gathered via other means."
   ]
  },
  {
   "cell_type": "code",
   "execution_count": 1,
   "metadata": {},
   "outputs": [],
   "source": [
    "import pandas as pd\n",
    "import plotly.express as px\n",
    "from plotly.subplots import make_subplots\n",
    "import plotly.graph_objects as go\n",
    "from isochrones import * \n",
    "import folium\n"
   ]
  },
  {
   "cell_type": "code",
   "execution_count": 2,
   "metadata": {},
   "outputs": [],
   "source": [
    "# Calling csv files containing isochrones data from all metros of KL, Singapore and Montreal into dataframes\n",
    "\n",
    "file_kl = '../resources/data/klang_valley_stations_isochrones_2021-07-29.csv'\n",
    "file_sg = '../resources/data/mrtsg_iso.csv'\n",
    "file_mtl = '../resources/data/montreal_metro_iso.csv'\n",
    "\n",
    "#each city are assigned a separate unique dataframe\n",
    "data_kl = pd.read_csv(file_kl)\n",
    "data_sg = pd.read_csv(file_sg)\n",
    "data_mtl = pd.read_csv(file_mtl)\n"
   ]
  },
  {
   "cell_type": "markdown",
   "metadata": {},
   "source": [
    "# Data preprocessing\n",
    "Requires some understanding of the imported dataframes. <br>\n",
    "We would want to combine the individual dataframes into one dataframe so that we can easily compare and visual the data. <br>\n",
    "However each metro station don't have any identifier to determine which city the station is from. We will create a column called \"City\" an assign the correct city to each metro station. "
   ]
  },
  {
   "cell_type": "code",
   "execution_count": 3,
   "metadata": {},
   "outputs": [
    {
     "name": "stdout",
     "output_type": "stream",
     "text": [
      "Index(['Unnamed: 0', 'Stop ID', 'Name', 'Service Provider Name', 'Latitude',\n",
      "       'Longitude', 'ROUTE ID', 'Route Name', 'Line Number', 'Line Colour',\n",
      "       'Colour Hex Code', 'iso', '5 Minute Range Area', '10 Minute Range Area',\n",
      "       '15 Minute Range Area', '5 Minute Reach Factor',\n",
      "       '10 Minute Reach Factor', '15 Minute Reach Factor',\n",
      "       '5 Minute Population', '10 Minute Population', '15 Minute Population'],\n",
      "      dtype='object')\n",
      "Index(['OBJECTID', 'Name', 'STN_NO', 'X', 'Y', 'Latitude', 'Longitude',\n",
      "       'Line Colour', 'Colour Hex Code', 'Route Name', 'Unnamed: 10', 'iso',\n",
      "       '5 Minute Range Area', '10 Minute Range Area', '15 Minute Range Area',\n",
      "       '5 Minute Reach Factor', '10 Minute Reach Factor',\n",
      "       '15 Minute Reach Factor', '5 Minute Population', '10 Minute Population',\n",
      "       '15 Minute Population'],\n",
      "      dtype='object')\n",
      "Index(['Unnamed: 0', 'Stop ID', 'Object ID', 'Name', 'Odonym', 'Namesake',\n",
      "       'Opened', 'Latitude', 'Longitude', 'Route Name', 'Line Colour',\n",
      "       'Colour Hex Code', 'iso', '5 Minute Range Area', '10 Minute Range Area',\n",
      "       '15 Minute Range Area', '5 Minute Reach Factor',\n",
      "       '10 Minute Reach Factor', '15 Minute Reach Factor',\n",
      "       '5 Minute Population', '10 Minute Population', '15 Minute Population'],\n",
      "      dtype='object')\n"
     ]
    }
   ],
   "source": [
    "\n",
    "print(data_kl.columns)\n",
    "print(data_sg.columns)\n",
    "print(data_mtl.columns)\n",
    "\n",
    "#Assigning each city dataframe a column to represent their city\n",
    "data_kl['City']=\"Kuala Lumpur\"\n",
    "data_sg['City']=\"Singapore\"\n",
    "data_mtl['City']=\"Montreal\"\n",
    "\n",
    "#only Kl has the 'Service Provider Name' column. We will add one for montreal and singapore\n",
    "data_sg['Service Provider Name']=\"SMRT\"\n",
    "data_mtl['Service Provider Name']=\"STM\"\n",
    "\n",
    "#we don't actually need every column for the overall dataframe. so we will select a few relevant columns\n",
    "columns = ['Name','Route Name','Latitude','Longitude','Line Colour',\n",
    "            '5 Minute Range Area', '10 Minute Range Area','15 Minute Range Area', \n",
    "            '5 Minute Reach Factor','10 Minute Reach Factor', '15 Minute Reach Factor',\n",
    "            '5 Minute Population', '10 Minute Population', '15 Minute Population','City','Service Provider Name']\n",
    "\n",
    "#combining the kl, singapore and montreal dataframes\n",
    "data_all = pd.concat([data_kl[columns],data_sg[columns],data_mtl[columns]])"
   ]
  },
  {
   "cell_type": "markdown",
   "metadata": {},
   "source": [
    "## Visualize walkable area within different timeframes from KL train stations\n",
    "We will visualize data in the three following aspects\n",
    "- Area coverage \n",
    "- Population (ORS uses data from https://ghsl.jrc.ec.europa.eu/visLanding.php .and open data project by the European Union)\n",
    "- Reach factor (how circular an isochrone is on a scale of 0 to 1, where 1 is perfectly circle meaning maximum reachability)"
   ]
  },
  {
   "cell_type": "code",
   "execution_count": 4,
   "metadata": {},
   "outputs": [
    {
     "data": {
      "application/vnd.plotly.v1+json": {
       "config": {
        "plotlyServerURL": "https://plot.ly"
       },
       "data": [
        {
         "alignmentgroup": "True",
         "bingroup": "x",
         "histfunc": "avg",
         "hovertemplate": "Lines=%{x}<br>avg of 5 Minutes Walk Area(km^2)=%{y}<extra></extra>",
         "legendgroup": "",
         "marker": {
          "color": "#636efa"
         },
         "name": "",
         "offsetgroup": "",
         "orientation": "v",
         "showlegend": false,
         "type": "histogram",
         "x": [
          "Ampang Line",
          "Ampang Line",
          "Ampang Line",
          "Ampang Line",
          "Ampang Line",
          "Ampang Line",
          "Ampang Line",
          "Ampang Line",
          "Ampang Line",
          "Ampang Line",
          "Ampang Line",
          "Ampang Line",
          "Ampang Line",
          "Ampang Line",
          "Ampang Line",
          "Ampang Line",
          "Ampang Line",
          "Ampang Line",
          "Sri Petaling Line",
          "Sri Petaling Line",
          "Sri Petaling Line",
          "Sri Petaling Line",
          "Sri Petaling Line",
          "Sri Petaling Line",
          "Sri Petaling Line",
          "Sri Petaling Line",
          "Sri Petaling Line",
          "Sri Petaling Line",
          "Sri Petaling Line",
          "Sri Petaling Line",
          "Sri Petaling Line",
          "Sri Petaling Line",
          "Sri Petaling Line",
          "Sri Petaling Line",
          "Sri Petaling Line",
          "Sri Petaling Line",
          "Sri Petaling Line",
          "Sri Petaling Line",
          "Sri Petaling Line",
          "Sri Petaling Line",
          "Sri Petaling Line",
          "Sri Petaling Line",
          "Sri Petaling Line",
          "Sri Petaling Line",
          "Sri Petaling Line",
          "Sri Petaling Line",
          "Sri Petaling Line",
          "Kelana Jaya Line",
          "Kelana Jaya Line",
          "Kelana Jaya Line",
          "Kelana Jaya Line",
          "Kelana Jaya Line",
          "Kelana Jaya Line",
          "Kelana Jaya Line",
          "Kelana Jaya Line",
          "Kelana Jaya Line",
          "Kelana Jaya Line",
          "Kelana Jaya Line",
          "Kelana Jaya Line",
          "Kelana Jaya Line",
          "Kelana Jaya Line",
          "Kelana Jaya Line",
          "Kelana Jaya Line",
          "Kelana Jaya Line",
          "Kelana Jaya Line",
          "Kelana Jaya Line",
          "Kelana Jaya Line",
          "Kelana Jaya Line",
          "Kelana Jaya Line",
          "Kelana Jaya Line",
          "Kelana Jaya Line",
          "Kelana Jaya Line",
          "Kelana Jaya Line",
          "Kelana Jaya Line",
          "Kelana Jaya Line",
          "Kelana Jaya Line",
          "Kelana Jaya Line",
          "Kelana Jaya Line",
          "Kelana Jaya Line",
          "Kelana Jaya Line",
          "Kelana Jaya Line",
          "Kelana Jaya Line",
          "Kelana Jaya Line",
          "Kelana Jaya Line",
          "KL Monorail Line",
          "KL Monorail Line",
          "KL Monorail Line",
          "KL Monorail Line",
          "KL Monorail Line",
          "KL Monorail Line",
          "KL Monorail Line",
          "KL Monorail Line",
          "KL Monorail Line",
          "KL Monorail Line",
          "KL Monorail Line",
          "MRT Sungai Buloh - Kajang Line",
          "MRT Sungai Buloh - Kajang Line",
          "MRT Sungai Buloh - Kajang Line",
          "MRT Sungai Buloh - Kajang Line",
          "MRT Sungai Buloh - Kajang Line",
          "MRT Sungai Buloh - Kajang Line",
          "MRT Sungai Buloh - Kajang Line",
          "MRT Sungai Buloh - Kajang Line",
          "MRT Sungai Buloh - Kajang Line",
          "MRT Sungai Buloh - Kajang Line",
          "MRT Sungai Buloh - Kajang Line",
          "MRT Sungai Buloh - Kajang Line",
          "MRT Sungai Buloh - Kajang Line",
          "MRT Sungai Buloh - Kajang Line",
          "MRT Sungai Buloh - Kajang Line",
          "MRT Sungai Buloh - Kajang Line",
          "MRT Sungai Buloh - Kajang Line",
          "MRT Sungai Buloh - Kajang Line",
          "MRT Sungai Buloh - Kajang Line",
          "MRT Sungai Buloh - Kajang Line",
          "MRT Sungai Buloh - Kajang Line",
          "MRT Sungai Buloh - Kajang Line",
          "MRT Sungai Buloh - Kajang Line",
          "MRT Sungai Buloh - Kajang Line",
          "MRT Sungai Buloh - Kajang Line",
          "MRT Sungai Buloh - Kajang Line",
          "MRT Sungai Buloh - Kajang Line",
          "MRT Sungai Buloh - Kajang Line",
          "MRT Sungai Buloh - Kajang Line",
          "MRT Sungai Buloh - Kajang Line",
          "MRT Sungai Buloh - Kajang Line"
         ],
         "xaxis": "x",
         "y": [
          0.33724218,
          0.1546662,
          0.33176681,
          0.37727368,
          0.15932879,
          0.24879704,
          0.35354969,
          0.07686364,
          0.29995945,
          0.20698176,
          0.08520355,
          0.10908823,
          0.12765432000000002,
          0.10372052,
          0.30964279,
          0.21829926,
          0.14038832999999998,
          0.08700395,
          0.15914785,
          0.31987013000000003,
          0.36440737,
          0.28778113,
          0.18058166,
          0.25175232000000003,
          0.14368163,
          0.09205028,
          0.15237542,
          0.31456235,
          0.11328153,
          0.17176765,
          0.35933424,
          0.33724218,
          0.1546662,
          0.33176681,
          0.37727368,
          0.15932879,
          0.24879704,
          0.35354969,
          0.07686364,
          0.29995945,
          0.18159136,
          0.19527194,
          0.09621198,
          0.20698176,
          0.16106156,
          0.22306622,
          0.08520355,
          0.02267377,
          0.12847033,
          0.15774998999999998,
          0.16809358,
          0.28003389,
          0.19492496,
          0.22591129,
          0.11824999,
          0.28283391,
          0.35358716,
          0.14676751999999998,
          0.02152531,
          0.27510395,
          0.24235682,
          0.3222016,
          0.18799781,
          0.22266883,
          0.24884647,
          0.25081894,
          0.23236677,
          0.06879924000000001,
          0.28727626,
          0.26123897,
          0.29123198,
          0.32106086,
          0.21444045,
          0.17781184,
          0.33269748,
          0.20476568,
          0.32679448,
          0.0971136,
          0.16797594,
          0.020076300000000002,
          0.29868451,
          0.23714405,
          0.23981816,
          0.08149613,
          0.282571,
          0.32216819,
          0.19872931,
          0.40916697,
          0.23397354,
          0.18207893,
          0.30759115000000004,
          0.14989506,
          0.26908476000000003,
          0.32843958,
          0.36637874,
          0.08337092,
          0.14304667,
          0.10847691,
          0.24301521,
          0.06015653,
          0.18350335,
          0.2537391,
          0.05812919,
          0.21586482,
          0.11754646,
          0.16716919,
          0.18153927,
          0.21390516,
          0.30103121,
          0.20341446,
          0.40743421,
          0.09877055,
          0.32171969,
          0.22988957,
          0.30111587,
          0.24658695,
          0.15422356,
          0.10901780000000001,
          0.17065887,
          0.08552002,
          0.18767169,
          0.13546985,
          0.06215426,
          0.21858111,
          0.31359252000000004,
          0.12926258999999998
         ],
         "yaxis": "y"
        }
       ],
       "layout": {
        "barmode": "group",
        "legend": {
         "tracegroupgap": 0
        },
        "showlegend": false,
        "template": {
         "data": {
          "bar": [
           {
            "error_x": {
             "color": "#2a3f5f"
            },
            "error_y": {
             "color": "#2a3f5f"
            },
            "marker": {
             "line": {
              "color": "#E5ECF6",
              "width": 0.5
             }
            },
            "type": "bar"
           }
          ],
          "barpolar": [
           {
            "marker": {
             "line": {
              "color": "#E5ECF6",
              "width": 0.5
             }
            },
            "type": "barpolar"
           }
          ],
          "carpet": [
           {
            "aaxis": {
             "endlinecolor": "#2a3f5f",
             "gridcolor": "white",
             "linecolor": "white",
             "minorgridcolor": "white",
             "startlinecolor": "#2a3f5f"
            },
            "baxis": {
             "endlinecolor": "#2a3f5f",
             "gridcolor": "white",
             "linecolor": "white",
             "minorgridcolor": "white",
             "startlinecolor": "#2a3f5f"
            },
            "type": "carpet"
           }
          ],
          "choropleth": [
           {
            "colorbar": {
             "outlinewidth": 0,
             "ticks": ""
            },
            "type": "choropleth"
           }
          ],
          "contour": [
           {
            "colorbar": {
             "outlinewidth": 0,
             "ticks": ""
            },
            "colorscale": [
             [
              0,
              "#0d0887"
             ],
             [
              0.1111111111111111,
              "#46039f"
             ],
             [
              0.2222222222222222,
              "#7201a8"
             ],
             [
              0.3333333333333333,
              "#9c179e"
             ],
             [
              0.4444444444444444,
              "#bd3786"
             ],
             [
              0.5555555555555556,
              "#d8576b"
             ],
             [
              0.6666666666666666,
              "#ed7953"
             ],
             [
              0.7777777777777778,
              "#fb9f3a"
             ],
             [
              0.8888888888888888,
              "#fdca26"
             ],
             [
              1,
              "#f0f921"
             ]
            ],
            "type": "contour"
           }
          ],
          "contourcarpet": [
           {
            "colorbar": {
             "outlinewidth": 0,
             "ticks": ""
            },
            "type": "contourcarpet"
           }
          ],
          "heatmap": [
           {
            "colorbar": {
             "outlinewidth": 0,
             "ticks": ""
            },
            "colorscale": [
             [
              0,
              "#0d0887"
             ],
             [
              0.1111111111111111,
              "#46039f"
             ],
             [
              0.2222222222222222,
              "#7201a8"
             ],
             [
              0.3333333333333333,
              "#9c179e"
             ],
             [
              0.4444444444444444,
              "#bd3786"
             ],
             [
              0.5555555555555556,
              "#d8576b"
             ],
             [
              0.6666666666666666,
              "#ed7953"
             ],
             [
              0.7777777777777778,
              "#fb9f3a"
             ],
             [
              0.8888888888888888,
              "#fdca26"
             ],
             [
              1,
              "#f0f921"
             ]
            ],
            "type": "heatmap"
           }
          ],
          "heatmapgl": [
           {
            "colorbar": {
             "outlinewidth": 0,
             "ticks": ""
            },
            "colorscale": [
             [
              0,
              "#0d0887"
             ],
             [
              0.1111111111111111,
              "#46039f"
             ],
             [
              0.2222222222222222,
              "#7201a8"
             ],
             [
              0.3333333333333333,
              "#9c179e"
             ],
             [
              0.4444444444444444,
              "#bd3786"
             ],
             [
              0.5555555555555556,
              "#d8576b"
             ],
             [
              0.6666666666666666,
              "#ed7953"
             ],
             [
              0.7777777777777778,
              "#fb9f3a"
             ],
             [
              0.8888888888888888,
              "#fdca26"
             ],
             [
              1,
              "#f0f921"
             ]
            ],
            "type": "heatmapgl"
           }
          ],
          "histogram": [
           {
            "marker": {
             "colorbar": {
              "outlinewidth": 0,
              "ticks": ""
             }
            },
            "type": "histogram"
           }
          ],
          "histogram2d": [
           {
            "colorbar": {
             "outlinewidth": 0,
             "ticks": ""
            },
            "colorscale": [
             [
              0,
              "#0d0887"
             ],
             [
              0.1111111111111111,
              "#46039f"
             ],
             [
              0.2222222222222222,
              "#7201a8"
             ],
             [
              0.3333333333333333,
              "#9c179e"
             ],
             [
              0.4444444444444444,
              "#bd3786"
             ],
             [
              0.5555555555555556,
              "#d8576b"
             ],
             [
              0.6666666666666666,
              "#ed7953"
             ],
             [
              0.7777777777777778,
              "#fb9f3a"
             ],
             [
              0.8888888888888888,
              "#fdca26"
             ],
             [
              1,
              "#f0f921"
             ]
            ],
            "type": "histogram2d"
           }
          ],
          "histogram2dcontour": [
           {
            "colorbar": {
             "outlinewidth": 0,
             "ticks": ""
            },
            "colorscale": [
             [
              0,
              "#0d0887"
             ],
             [
              0.1111111111111111,
              "#46039f"
             ],
             [
              0.2222222222222222,
              "#7201a8"
             ],
             [
              0.3333333333333333,
              "#9c179e"
             ],
             [
              0.4444444444444444,
              "#bd3786"
             ],
             [
              0.5555555555555556,
              "#d8576b"
             ],
             [
              0.6666666666666666,
              "#ed7953"
             ],
             [
              0.7777777777777778,
              "#fb9f3a"
             ],
             [
              0.8888888888888888,
              "#fdca26"
             ],
             [
              1,
              "#f0f921"
             ]
            ],
            "type": "histogram2dcontour"
           }
          ],
          "mesh3d": [
           {
            "colorbar": {
             "outlinewidth": 0,
             "ticks": ""
            },
            "type": "mesh3d"
           }
          ],
          "parcoords": [
           {
            "line": {
             "colorbar": {
              "outlinewidth": 0,
              "ticks": ""
             }
            },
            "type": "parcoords"
           }
          ],
          "pie": [
           {
            "automargin": true,
            "type": "pie"
           }
          ],
          "scatter": [
           {
            "marker": {
             "colorbar": {
              "outlinewidth": 0,
              "ticks": ""
             }
            },
            "type": "scatter"
           }
          ],
          "scatter3d": [
           {
            "line": {
             "colorbar": {
              "outlinewidth": 0,
              "ticks": ""
             }
            },
            "marker": {
             "colorbar": {
              "outlinewidth": 0,
              "ticks": ""
             }
            },
            "type": "scatter3d"
           }
          ],
          "scattercarpet": [
           {
            "marker": {
             "colorbar": {
              "outlinewidth": 0,
              "ticks": ""
             }
            },
            "type": "scattercarpet"
           }
          ],
          "scattergeo": [
           {
            "marker": {
             "colorbar": {
              "outlinewidth": 0,
              "ticks": ""
             }
            },
            "type": "scattergeo"
           }
          ],
          "scattergl": [
           {
            "marker": {
             "colorbar": {
              "outlinewidth": 0,
              "ticks": ""
             }
            },
            "type": "scattergl"
           }
          ],
          "scattermapbox": [
           {
            "marker": {
             "colorbar": {
              "outlinewidth": 0,
              "ticks": ""
             }
            },
            "type": "scattermapbox"
           }
          ],
          "scatterpolar": [
           {
            "marker": {
             "colorbar": {
              "outlinewidth": 0,
              "ticks": ""
             }
            },
            "type": "scatterpolar"
           }
          ],
          "scatterpolargl": [
           {
            "marker": {
             "colorbar": {
              "outlinewidth": 0,
              "ticks": ""
             }
            },
            "type": "scatterpolargl"
           }
          ],
          "scatterternary": [
           {
            "marker": {
             "colorbar": {
              "outlinewidth": 0,
              "ticks": ""
             }
            },
            "type": "scatterternary"
           }
          ],
          "surface": [
           {
            "colorbar": {
             "outlinewidth": 0,
             "ticks": ""
            },
            "colorscale": [
             [
              0,
              "#0d0887"
             ],
             [
              0.1111111111111111,
              "#46039f"
             ],
             [
              0.2222222222222222,
              "#7201a8"
             ],
             [
              0.3333333333333333,
              "#9c179e"
             ],
             [
              0.4444444444444444,
              "#bd3786"
             ],
             [
              0.5555555555555556,
              "#d8576b"
             ],
             [
              0.6666666666666666,
              "#ed7953"
             ],
             [
              0.7777777777777778,
              "#fb9f3a"
             ],
             [
              0.8888888888888888,
              "#fdca26"
             ],
             [
              1,
              "#f0f921"
             ]
            ],
            "type": "surface"
           }
          ],
          "table": [
           {
            "cells": {
             "fill": {
              "color": "#EBF0F8"
             },
             "line": {
              "color": "white"
             }
            },
            "header": {
             "fill": {
              "color": "#C8D4E3"
             },
             "line": {
              "color": "white"
             }
            },
            "type": "table"
           }
          ]
         },
         "layout": {
          "annotationdefaults": {
           "arrowcolor": "#2a3f5f",
           "arrowhead": 0,
           "arrowwidth": 1
          },
          "coloraxis": {
           "colorbar": {
            "outlinewidth": 0,
            "ticks": ""
           }
          },
          "colorscale": {
           "diverging": [
            [
             0,
             "#8e0152"
            ],
            [
             0.1,
             "#c51b7d"
            ],
            [
             0.2,
             "#de77ae"
            ],
            [
             0.3,
             "#f1b6da"
            ],
            [
             0.4,
             "#fde0ef"
            ],
            [
             0.5,
             "#f7f7f7"
            ],
            [
             0.6,
             "#e6f5d0"
            ],
            [
             0.7,
             "#b8e186"
            ],
            [
             0.8,
             "#7fbc41"
            ],
            [
             0.9,
             "#4d9221"
            ],
            [
             1,
             "#276419"
            ]
           ],
           "sequential": [
            [
             0,
             "#0d0887"
            ],
            [
             0.1111111111111111,
             "#46039f"
            ],
            [
             0.2222222222222222,
             "#7201a8"
            ],
            [
             0.3333333333333333,
             "#9c179e"
            ],
            [
             0.4444444444444444,
             "#bd3786"
            ],
            [
             0.5555555555555556,
             "#d8576b"
            ],
            [
             0.6666666666666666,
             "#ed7953"
            ],
            [
             0.7777777777777778,
             "#fb9f3a"
            ],
            [
             0.8888888888888888,
             "#fdca26"
            ],
            [
             1,
             "#f0f921"
            ]
           ],
           "sequentialminus": [
            [
             0,
             "#0d0887"
            ],
            [
             0.1111111111111111,
             "#46039f"
            ],
            [
             0.2222222222222222,
             "#7201a8"
            ],
            [
             0.3333333333333333,
             "#9c179e"
            ],
            [
             0.4444444444444444,
             "#bd3786"
            ],
            [
             0.5555555555555556,
             "#d8576b"
            ],
            [
             0.6666666666666666,
             "#ed7953"
            ],
            [
             0.7777777777777778,
             "#fb9f3a"
            ],
            [
             0.8888888888888888,
             "#fdca26"
            ],
            [
             1,
             "#f0f921"
            ]
           ]
          },
          "colorway": [
           "#636efa",
           "#EF553B",
           "#00cc96",
           "#ab63fa",
           "#FFA15A",
           "#19d3f3",
           "#FF6692",
           "#B6E880",
           "#FF97FF",
           "#FECB52"
          ],
          "font": {
           "color": "#2a3f5f"
          },
          "geo": {
           "bgcolor": "white",
           "lakecolor": "white",
           "landcolor": "#E5ECF6",
           "showlakes": true,
           "showland": true,
           "subunitcolor": "white"
          },
          "hoverlabel": {
           "align": "left"
          },
          "hovermode": "closest",
          "mapbox": {
           "style": "light"
          },
          "paper_bgcolor": "white",
          "plot_bgcolor": "#E5ECF6",
          "polar": {
           "angularaxis": {
            "gridcolor": "white",
            "linecolor": "white",
            "ticks": ""
           },
           "bgcolor": "#E5ECF6",
           "radialaxis": {
            "gridcolor": "white",
            "linecolor": "white",
            "ticks": ""
           }
          },
          "scene": {
           "xaxis": {
            "backgroundcolor": "#E5ECF6",
            "gridcolor": "white",
            "gridwidth": 2,
            "linecolor": "white",
            "showbackground": true,
            "ticks": "",
            "zerolinecolor": "white"
           },
           "yaxis": {
            "backgroundcolor": "#E5ECF6",
            "gridcolor": "white",
            "gridwidth": 2,
            "linecolor": "white",
            "showbackground": true,
            "ticks": "",
            "zerolinecolor": "white"
           },
           "zaxis": {
            "backgroundcolor": "#E5ECF6",
            "gridcolor": "white",
            "gridwidth": 2,
            "linecolor": "white",
            "showbackground": true,
            "ticks": "",
            "zerolinecolor": "white"
           }
          },
          "shapedefaults": {
           "line": {
            "color": "#2a3f5f"
           }
          },
          "ternary": {
           "aaxis": {
            "gridcolor": "white",
            "linecolor": "white",
            "ticks": ""
           },
           "baxis": {
            "gridcolor": "white",
            "linecolor": "white",
            "ticks": ""
           },
           "bgcolor": "#E5ECF6",
           "caxis": {
            "gridcolor": "white",
            "linecolor": "white",
            "ticks": ""
           }
          },
          "title": {
           "x": 0.05
          },
          "xaxis": {
           "automargin": true,
           "gridcolor": "white",
           "linecolor": "white",
           "ticks": "",
           "title": {
            "standoff": 15
           },
           "zerolinecolor": "white",
           "zerolinewidth": 2
          },
          "yaxis": {
           "automargin": true,
           "gridcolor": "white",
           "linecolor": "white",
           "ticks": "",
           "title": {
            "standoff": 15
           },
           "zerolinecolor": "white",
           "zerolinewidth": 2
          }
         }
        },
        "title": {
         "text": "Area coverage within 5 minutes walk from station"
        },
        "xaxis": {
         "anchor": "y",
         "categoryorder": "total ascending",
         "domain": [
          0,
          1
         ],
         "title": {
          "text": "Lines"
         }
        },
        "yaxis": {
         "anchor": "x",
         "domain": [
          0,
          1
         ],
         "title": {
          "text": "avg of 5 Minutes Walk Area(km^2)"
         }
        }
       }
      }
     },
     "metadata": {},
     "output_type": "display_data"
    },
    {
     "data": {
      "application/vnd.plotly.v1+json": {
       "config": {
        "plotlyServerURL": "https://plot.ly"
       },
       "data": [
        {
         "alignmentgroup": "True",
         "bingroup": "x",
         "histfunc": "avg",
         "hovertemplate": "Lines=%{x}<br>avg of 10 Minutes Walk Area(km^2)=%{y}<extra></extra>",
         "legendgroup": "",
         "marker": {
          "color": "#636efa"
         },
         "name": "",
         "offsetgroup": "",
         "orientation": "v",
         "showlegend": false,
         "type": "histogram",
         "x": [
          "Ampang Line",
          "Ampang Line",
          "Ampang Line",
          "Ampang Line",
          "Ampang Line",
          "Ampang Line",
          "Ampang Line",
          "Ampang Line",
          "Ampang Line",
          "Ampang Line",
          "Ampang Line",
          "Ampang Line",
          "Ampang Line",
          "Ampang Line",
          "Ampang Line",
          "Ampang Line",
          "Ampang Line",
          "Ampang Line",
          "Sri Petaling Line",
          "Sri Petaling Line",
          "Sri Petaling Line",
          "Sri Petaling Line",
          "Sri Petaling Line",
          "Sri Petaling Line",
          "Sri Petaling Line",
          "Sri Petaling Line",
          "Sri Petaling Line",
          "Sri Petaling Line",
          "Sri Petaling Line",
          "Sri Petaling Line",
          "Sri Petaling Line",
          "Sri Petaling Line",
          "Sri Petaling Line",
          "Sri Petaling Line",
          "Sri Petaling Line",
          "Sri Petaling Line",
          "Sri Petaling Line",
          "Sri Petaling Line",
          "Sri Petaling Line",
          "Sri Petaling Line",
          "Sri Petaling Line",
          "Sri Petaling Line",
          "Sri Petaling Line",
          "Sri Petaling Line",
          "Sri Petaling Line",
          "Sri Petaling Line",
          "Sri Petaling Line",
          "Kelana Jaya Line",
          "Kelana Jaya Line",
          "Kelana Jaya Line",
          "Kelana Jaya Line",
          "Kelana Jaya Line",
          "Kelana Jaya Line",
          "Kelana Jaya Line",
          "Kelana Jaya Line",
          "Kelana Jaya Line",
          "Kelana Jaya Line",
          "Kelana Jaya Line",
          "Kelana Jaya Line",
          "Kelana Jaya Line",
          "Kelana Jaya Line",
          "Kelana Jaya Line",
          "Kelana Jaya Line",
          "Kelana Jaya Line",
          "Kelana Jaya Line",
          "Kelana Jaya Line",
          "Kelana Jaya Line",
          "Kelana Jaya Line",
          "Kelana Jaya Line",
          "Kelana Jaya Line",
          "Kelana Jaya Line",
          "Kelana Jaya Line",
          "Kelana Jaya Line",
          "Kelana Jaya Line",
          "Kelana Jaya Line",
          "Kelana Jaya Line",
          "Kelana Jaya Line",
          "Kelana Jaya Line",
          "Kelana Jaya Line",
          "Kelana Jaya Line",
          "Kelana Jaya Line",
          "Kelana Jaya Line",
          "Kelana Jaya Line",
          "Kelana Jaya Line",
          "KL Monorail Line",
          "KL Monorail Line",
          "KL Monorail Line",
          "KL Monorail Line",
          "KL Monorail Line",
          "KL Monorail Line",
          "KL Monorail Line",
          "KL Monorail Line",
          "KL Monorail Line",
          "KL Monorail Line",
          "KL Monorail Line",
          "MRT Sungai Buloh - Kajang Line",
          "MRT Sungai Buloh - Kajang Line",
          "MRT Sungai Buloh - Kajang Line",
          "MRT Sungai Buloh - Kajang Line",
          "MRT Sungai Buloh - Kajang Line",
          "MRT Sungai Buloh - Kajang Line",
          "MRT Sungai Buloh - Kajang Line",
          "MRT Sungai Buloh - Kajang Line",
          "MRT Sungai Buloh - Kajang Line",
          "MRT Sungai Buloh - Kajang Line",
          "MRT Sungai Buloh - Kajang Line",
          "MRT Sungai Buloh - Kajang Line",
          "MRT Sungai Buloh - Kajang Line",
          "MRT Sungai Buloh - Kajang Line",
          "MRT Sungai Buloh - Kajang Line",
          "MRT Sungai Buloh - Kajang Line",
          "MRT Sungai Buloh - Kajang Line",
          "MRT Sungai Buloh - Kajang Line",
          "MRT Sungai Buloh - Kajang Line",
          "MRT Sungai Buloh - Kajang Line",
          "MRT Sungai Buloh - Kajang Line",
          "MRT Sungai Buloh - Kajang Line",
          "MRT Sungai Buloh - Kajang Line",
          "MRT Sungai Buloh - Kajang Line",
          "MRT Sungai Buloh - Kajang Line",
          "MRT Sungai Buloh - Kajang Line",
          "MRT Sungai Buloh - Kajang Line",
          "MRT Sungai Buloh - Kajang Line",
          "MRT Sungai Buloh - Kajang Line",
          "MRT Sungai Buloh - Kajang Line",
          "MRT Sungai Buloh - Kajang Line"
         ],
         "xaxis": "x",
         "y": [
          1.09334887,
          0.80231439,
          1.3299142,
          1.31730172,
          0.98019944,
          0.9941378,
          1.5230143799999998,
          0.7287783299999999,
          1.3736323899999998,
          1.14943278,
          0.68970727,
          0.5937145500000001,
          0.9350726999999999,
          0.4834335,
          1.20690344,
          1.06719648,
          0.86601087,
          0.80194669,
          0.86313283,
          1.15664441,
          1.42769142,
          0.90251369,
          0.52016311,
          0.98766563,
          0.55619289,
          0.66678646,
          0.94313668,
          0.97527387,
          0.6901240799999999,
          0.6597359899999999,
          1.39635365,
          1.09334887,
          0.80231439,
          1.3299142,
          1.31730172,
          0.98019944,
          0.9941378,
          1.5230143799999998,
          0.7287783299999999,
          1.3736323899999998,
          0.6489337,
          0.86325234,
          0.4124528,
          1.14943278,
          0.51988839,
          0.6792649300000001,
          0.68970727,
          0.17516605999999998,
          0.55438652,
          0.86589967,
          0.84586189,
          1.28355542,
          1.19836021,
          0.70439516,
          0.50044574,
          1.38068874,
          1.38658291,
          1.09200724,
          0.39645643,
          1.27643156,
          1.1012631899999998,
          1.49388015,
          1.04064393,
          0.96485189,
          0.98989655,
          1.11638015,
          1.08560675,
          0.5238393,
          1.1931968700000002,
          1.03103308,
          1.24463438,
          1.54427346,
          1.0594265900000002,
          1.09898814,
          1.29000994,
          0.9643110999999999,
          1.3261784399999998,
          0.42379399999999995,
          0.6094221999999999,
          0.4053551,
          1.18938463,
          1.14565526,
          0.93928982,
          0.61438852,
          1.09211687,
          1.12171054,
          1.1069307,
          1.5978103899999998,
          1.367721,
          0.83609601,
          1.31818673,
          1.0102258,
          1.30095197,
          1.54870424,
          1.52258909,
          0.47777056,
          0.32680685,
          0.70574069,
          1.09880969,
          0.25483471,
          1.05479949,
          1.24189861,
          0.34321703000000003,
          1.03133178,
          0.81246512,
          0.792776,
          0.69851637,
          1.00576163,
          1.23598569,
          1.00091417,
          1.61694446,
          0.54084151,
          1.32363621,
          1.39069973,
          1.37199615,
          0.99480425,
          0.93110482,
          0.49464933,
          0.69375911,
          0.41850527,
          0.91200428,
          0.67322998,
          0.41825578,
          1.08586026,
          1.34582422,
          0.6108315799999999
         ],
         "yaxis": "y"
        }
       ],
       "layout": {
        "barmode": "group",
        "legend": {
         "tracegroupgap": 0
        },
        "showlegend": false,
        "template": {
         "data": {
          "bar": [
           {
            "error_x": {
             "color": "#2a3f5f"
            },
            "error_y": {
             "color": "#2a3f5f"
            },
            "marker": {
             "line": {
              "color": "#E5ECF6",
              "width": 0.5
             }
            },
            "type": "bar"
           }
          ],
          "barpolar": [
           {
            "marker": {
             "line": {
              "color": "#E5ECF6",
              "width": 0.5
             }
            },
            "type": "barpolar"
           }
          ],
          "carpet": [
           {
            "aaxis": {
             "endlinecolor": "#2a3f5f",
             "gridcolor": "white",
             "linecolor": "white",
             "minorgridcolor": "white",
             "startlinecolor": "#2a3f5f"
            },
            "baxis": {
             "endlinecolor": "#2a3f5f",
             "gridcolor": "white",
             "linecolor": "white",
             "minorgridcolor": "white",
             "startlinecolor": "#2a3f5f"
            },
            "type": "carpet"
           }
          ],
          "choropleth": [
           {
            "colorbar": {
             "outlinewidth": 0,
             "ticks": ""
            },
            "type": "choropleth"
           }
          ],
          "contour": [
           {
            "colorbar": {
             "outlinewidth": 0,
             "ticks": ""
            },
            "colorscale": [
             [
              0,
              "#0d0887"
             ],
             [
              0.1111111111111111,
              "#46039f"
             ],
             [
              0.2222222222222222,
              "#7201a8"
             ],
             [
              0.3333333333333333,
              "#9c179e"
             ],
             [
              0.4444444444444444,
              "#bd3786"
             ],
             [
              0.5555555555555556,
              "#d8576b"
             ],
             [
              0.6666666666666666,
              "#ed7953"
             ],
             [
              0.7777777777777778,
              "#fb9f3a"
             ],
             [
              0.8888888888888888,
              "#fdca26"
             ],
             [
              1,
              "#f0f921"
             ]
            ],
            "type": "contour"
           }
          ],
          "contourcarpet": [
           {
            "colorbar": {
             "outlinewidth": 0,
             "ticks": ""
            },
            "type": "contourcarpet"
           }
          ],
          "heatmap": [
           {
            "colorbar": {
             "outlinewidth": 0,
             "ticks": ""
            },
            "colorscale": [
             [
              0,
              "#0d0887"
             ],
             [
              0.1111111111111111,
              "#46039f"
             ],
             [
              0.2222222222222222,
              "#7201a8"
             ],
             [
              0.3333333333333333,
              "#9c179e"
             ],
             [
              0.4444444444444444,
              "#bd3786"
             ],
             [
              0.5555555555555556,
              "#d8576b"
             ],
             [
              0.6666666666666666,
              "#ed7953"
             ],
             [
              0.7777777777777778,
              "#fb9f3a"
             ],
             [
              0.8888888888888888,
              "#fdca26"
             ],
             [
              1,
              "#f0f921"
             ]
            ],
            "type": "heatmap"
           }
          ],
          "heatmapgl": [
           {
            "colorbar": {
             "outlinewidth": 0,
             "ticks": ""
            },
            "colorscale": [
             [
              0,
              "#0d0887"
             ],
             [
              0.1111111111111111,
              "#46039f"
             ],
             [
              0.2222222222222222,
              "#7201a8"
             ],
             [
              0.3333333333333333,
              "#9c179e"
             ],
             [
              0.4444444444444444,
              "#bd3786"
             ],
             [
              0.5555555555555556,
              "#d8576b"
             ],
             [
              0.6666666666666666,
              "#ed7953"
             ],
             [
              0.7777777777777778,
              "#fb9f3a"
             ],
             [
              0.8888888888888888,
              "#fdca26"
             ],
             [
              1,
              "#f0f921"
             ]
            ],
            "type": "heatmapgl"
           }
          ],
          "histogram": [
           {
            "marker": {
             "colorbar": {
              "outlinewidth": 0,
              "ticks": ""
             }
            },
            "type": "histogram"
           }
          ],
          "histogram2d": [
           {
            "colorbar": {
             "outlinewidth": 0,
             "ticks": ""
            },
            "colorscale": [
             [
              0,
              "#0d0887"
             ],
             [
              0.1111111111111111,
              "#46039f"
             ],
             [
              0.2222222222222222,
              "#7201a8"
             ],
             [
              0.3333333333333333,
              "#9c179e"
             ],
             [
              0.4444444444444444,
              "#bd3786"
             ],
             [
              0.5555555555555556,
              "#d8576b"
             ],
             [
              0.6666666666666666,
              "#ed7953"
             ],
             [
              0.7777777777777778,
              "#fb9f3a"
             ],
             [
              0.8888888888888888,
              "#fdca26"
             ],
             [
              1,
              "#f0f921"
             ]
            ],
            "type": "histogram2d"
           }
          ],
          "histogram2dcontour": [
           {
            "colorbar": {
             "outlinewidth": 0,
             "ticks": ""
            },
            "colorscale": [
             [
              0,
              "#0d0887"
             ],
             [
              0.1111111111111111,
              "#46039f"
             ],
             [
              0.2222222222222222,
              "#7201a8"
             ],
             [
              0.3333333333333333,
              "#9c179e"
             ],
             [
              0.4444444444444444,
              "#bd3786"
             ],
             [
              0.5555555555555556,
              "#d8576b"
             ],
             [
              0.6666666666666666,
              "#ed7953"
             ],
             [
              0.7777777777777778,
              "#fb9f3a"
             ],
             [
              0.8888888888888888,
              "#fdca26"
             ],
             [
              1,
              "#f0f921"
             ]
            ],
            "type": "histogram2dcontour"
           }
          ],
          "mesh3d": [
           {
            "colorbar": {
             "outlinewidth": 0,
             "ticks": ""
            },
            "type": "mesh3d"
           }
          ],
          "parcoords": [
           {
            "line": {
             "colorbar": {
              "outlinewidth": 0,
              "ticks": ""
             }
            },
            "type": "parcoords"
           }
          ],
          "pie": [
           {
            "automargin": true,
            "type": "pie"
           }
          ],
          "scatter": [
           {
            "marker": {
             "colorbar": {
              "outlinewidth": 0,
              "ticks": ""
             }
            },
            "type": "scatter"
           }
          ],
          "scatter3d": [
           {
            "line": {
             "colorbar": {
              "outlinewidth": 0,
              "ticks": ""
             }
            },
            "marker": {
             "colorbar": {
              "outlinewidth": 0,
              "ticks": ""
             }
            },
            "type": "scatter3d"
           }
          ],
          "scattercarpet": [
           {
            "marker": {
             "colorbar": {
              "outlinewidth": 0,
              "ticks": ""
             }
            },
            "type": "scattercarpet"
           }
          ],
          "scattergeo": [
           {
            "marker": {
             "colorbar": {
              "outlinewidth": 0,
              "ticks": ""
             }
            },
            "type": "scattergeo"
           }
          ],
          "scattergl": [
           {
            "marker": {
             "colorbar": {
              "outlinewidth": 0,
              "ticks": ""
             }
            },
            "type": "scattergl"
           }
          ],
          "scattermapbox": [
           {
            "marker": {
             "colorbar": {
              "outlinewidth": 0,
              "ticks": ""
             }
            },
            "type": "scattermapbox"
           }
          ],
          "scatterpolar": [
           {
            "marker": {
             "colorbar": {
              "outlinewidth": 0,
              "ticks": ""
             }
            },
            "type": "scatterpolar"
           }
          ],
          "scatterpolargl": [
           {
            "marker": {
             "colorbar": {
              "outlinewidth": 0,
              "ticks": ""
             }
            },
            "type": "scatterpolargl"
           }
          ],
          "scatterternary": [
           {
            "marker": {
             "colorbar": {
              "outlinewidth": 0,
              "ticks": ""
             }
            },
            "type": "scatterternary"
           }
          ],
          "surface": [
           {
            "colorbar": {
             "outlinewidth": 0,
             "ticks": ""
            },
            "colorscale": [
             [
              0,
              "#0d0887"
             ],
             [
              0.1111111111111111,
              "#46039f"
             ],
             [
              0.2222222222222222,
              "#7201a8"
             ],
             [
              0.3333333333333333,
              "#9c179e"
             ],
             [
              0.4444444444444444,
              "#bd3786"
             ],
             [
              0.5555555555555556,
              "#d8576b"
             ],
             [
              0.6666666666666666,
              "#ed7953"
             ],
             [
              0.7777777777777778,
              "#fb9f3a"
             ],
             [
              0.8888888888888888,
              "#fdca26"
             ],
             [
              1,
              "#f0f921"
             ]
            ],
            "type": "surface"
           }
          ],
          "table": [
           {
            "cells": {
             "fill": {
              "color": "#EBF0F8"
             },
             "line": {
              "color": "white"
             }
            },
            "header": {
             "fill": {
              "color": "#C8D4E3"
             },
             "line": {
              "color": "white"
             }
            },
            "type": "table"
           }
          ]
         },
         "layout": {
          "annotationdefaults": {
           "arrowcolor": "#2a3f5f",
           "arrowhead": 0,
           "arrowwidth": 1
          },
          "coloraxis": {
           "colorbar": {
            "outlinewidth": 0,
            "ticks": ""
           }
          },
          "colorscale": {
           "diverging": [
            [
             0,
             "#8e0152"
            ],
            [
             0.1,
             "#c51b7d"
            ],
            [
             0.2,
             "#de77ae"
            ],
            [
             0.3,
             "#f1b6da"
            ],
            [
             0.4,
             "#fde0ef"
            ],
            [
             0.5,
             "#f7f7f7"
            ],
            [
             0.6,
             "#e6f5d0"
            ],
            [
             0.7,
             "#b8e186"
            ],
            [
             0.8,
             "#7fbc41"
            ],
            [
             0.9,
             "#4d9221"
            ],
            [
             1,
             "#276419"
            ]
           ],
           "sequential": [
            [
             0,
             "#0d0887"
            ],
            [
             0.1111111111111111,
             "#46039f"
            ],
            [
             0.2222222222222222,
             "#7201a8"
            ],
            [
             0.3333333333333333,
             "#9c179e"
            ],
            [
             0.4444444444444444,
             "#bd3786"
            ],
            [
             0.5555555555555556,
             "#d8576b"
            ],
            [
             0.6666666666666666,
             "#ed7953"
            ],
            [
             0.7777777777777778,
             "#fb9f3a"
            ],
            [
             0.8888888888888888,
             "#fdca26"
            ],
            [
             1,
             "#f0f921"
            ]
           ],
           "sequentialminus": [
            [
             0,
             "#0d0887"
            ],
            [
             0.1111111111111111,
             "#46039f"
            ],
            [
             0.2222222222222222,
             "#7201a8"
            ],
            [
             0.3333333333333333,
             "#9c179e"
            ],
            [
             0.4444444444444444,
             "#bd3786"
            ],
            [
             0.5555555555555556,
             "#d8576b"
            ],
            [
             0.6666666666666666,
             "#ed7953"
            ],
            [
             0.7777777777777778,
             "#fb9f3a"
            ],
            [
             0.8888888888888888,
             "#fdca26"
            ],
            [
             1,
             "#f0f921"
            ]
           ]
          },
          "colorway": [
           "#636efa",
           "#EF553B",
           "#00cc96",
           "#ab63fa",
           "#FFA15A",
           "#19d3f3",
           "#FF6692",
           "#B6E880",
           "#FF97FF",
           "#FECB52"
          ],
          "font": {
           "color": "#2a3f5f"
          },
          "geo": {
           "bgcolor": "white",
           "lakecolor": "white",
           "landcolor": "#E5ECF6",
           "showlakes": true,
           "showland": true,
           "subunitcolor": "white"
          },
          "hoverlabel": {
           "align": "left"
          },
          "hovermode": "closest",
          "mapbox": {
           "style": "light"
          },
          "paper_bgcolor": "white",
          "plot_bgcolor": "#E5ECF6",
          "polar": {
           "angularaxis": {
            "gridcolor": "white",
            "linecolor": "white",
            "ticks": ""
           },
           "bgcolor": "#E5ECF6",
           "radialaxis": {
            "gridcolor": "white",
            "linecolor": "white",
            "ticks": ""
           }
          },
          "scene": {
           "xaxis": {
            "backgroundcolor": "#E5ECF6",
            "gridcolor": "white",
            "gridwidth": 2,
            "linecolor": "white",
            "showbackground": true,
            "ticks": "",
            "zerolinecolor": "white"
           },
           "yaxis": {
            "backgroundcolor": "#E5ECF6",
            "gridcolor": "white",
            "gridwidth": 2,
            "linecolor": "white",
            "showbackground": true,
            "ticks": "",
            "zerolinecolor": "white"
           },
           "zaxis": {
            "backgroundcolor": "#E5ECF6",
            "gridcolor": "white",
            "gridwidth": 2,
            "linecolor": "white",
            "showbackground": true,
            "ticks": "",
            "zerolinecolor": "white"
           }
          },
          "shapedefaults": {
           "line": {
            "color": "#2a3f5f"
           }
          },
          "ternary": {
           "aaxis": {
            "gridcolor": "white",
            "linecolor": "white",
            "ticks": ""
           },
           "baxis": {
            "gridcolor": "white",
            "linecolor": "white",
            "ticks": ""
           },
           "bgcolor": "#E5ECF6",
           "caxis": {
            "gridcolor": "white",
            "linecolor": "white",
            "ticks": ""
           }
          },
          "title": {
           "x": 0.05
          },
          "xaxis": {
           "automargin": true,
           "gridcolor": "white",
           "linecolor": "white",
           "ticks": "",
           "title": {
            "standoff": 15
           },
           "zerolinecolor": "white",
           "zerolinewidth": 2
          },
          "yaxis": {
           "automargin": true,
           "gridcolor": "white",
           "linecolor": "white",
           "ticks": "",
           "title": {
            "standoff": 15
           },
           "zerolinecolor": "white",
           "zerolinewidth": 2
          }
         }
        },
        "title": {
         "text": "Area coverage within 10 minutes walk from station"
        },
        "xaxis": {
         "anchor": "y",
         "categoryorder": "total ascending",
         "domain": [
          0,
          1
         ],
         "title": {
          "text": "Lines"
         }
        },
        "yaxis": {
         "anchor": "x",
         "domain": [
          0,
          1
         ],
         "title": {
          "text": "avg of 10 Minutes Walk Area(km^2)"
         }
        }
       }
      }
     },
     "metadata": {},
     "output_type": "display_data"
    },
    {
     "data": {
      "application/vnd.plotly.v1+json": {
       "config": {
        "plotlyServerURL": "https://plot.ly"
       },
       "data": [
        {
         "alignmentgroup": "True",
         "bingroup": "x",
         "histfunc": "avg",
         "hovertemplate": "Lines=%{x}<br>avg of 15 Minutes Walk Area(km^2)=%{y}<extra></extra>",
         "legendgroup": "",
         "marker": {
          "color": "#636efa"
         },
         "name": "",
         "offsetgroup": "",
         "orientation": "v",
         "showlegend": false,
         "type": "histogram",
         "x": [
          "Ampang Line",
          "Ampang Line",
          "Ampang Line",
          "Ampang Line",
          "Ampang Line",
          "Ampang Line",
          "Ampang Line",
          "Ampang Line",
          "Ampang Line",
          "Ampang Line",
          "Ampang Line",
          "Ampang Line",
          "Ampang Line",
          "Ampang Line",
          "Ampang Line",
          "Ampang Line",
          "Ampang Line",
          "Ampang Line",
          "Sri Petaling Line",
          "Sri Petaling Line",
          "Sri Petaling Line",
          "Sri Petaling Line",
          "Sri Petaling Line",
          "Sri Petaling Line",
          "Sri Petaling Line",
          "Sri Petaling Line",
          "Sri Petaling Line",
          "Sri Petaling Line",
          "Sri Petaling Line",
          "Sri Petaling Line",
          "Sri Petaling Line",
          "Sri Petaling Line",
          "Sri Petaling Line",
          "Sri Petaling Line",
          "Sri Petaling Line",
          "Sri Petaling Line",
          "Sri Petaling Line",
          "Sri Petaling Line",
          "Sri Petaling Line",
          "Sri Petaling Line",
          "Sri Petaling Line",
          "Sri Petaling Line",
          "Sri Petaling Line",
          "Sri Petaling Line",
          "Sri Petaling Line",
          "Sri Petaling Line",
          "Sri Petaling Line",
          "Kelana Jaya Line",
          "Kelana Jaya Line",
          "Kelana Jaya Line",
          "Kelana Jaya Line",
          "Kelana Jaya Line",
          "Kelana Jaya Line",
          "Kelana Jaya Line",
          "Kelana Jaya Line",
          "Kelana Jaya Line",
          "Kelana Jaya Line",
          "Kelana Jaya Line",
          "Kelana Jaya Line",
          "Kelana Jaya Line",
          "Kelana Jaya Line",
          "Kelana Jaya Line",
          "Kelana Jaya Line",
          "Kelana Jaya Line",
          "Kelana Jaya Line",
          "Kelana Jaya Line",
          "Kelana Jaya Line",
          "Kelana Jaya Line",
          "Kelana Jaya Line",
          "Kelana Jaya Line",
          "Kelana Jaya Line",
          "Kelana Jaya Line",
          "Kelana Jaya Line",
          "Kelana Jaya Line",
          "Kelana Jaya Line",
          "Kelana Jaya Line",
          "Kelana Jaya Line",
          "Kelana Jaya Line",
          "Kelana Jaya Line",
          "Kelana Jaya Line",
          "Kelana Jaya Line",
          "Kelana Jaya Line",
          "Kelana Jaya Line",
          "Kelana Jaya Line",
          "KL Monorail Line",
          "KL Monorail Line",
          "KL Monorail Line",
          "KL Monorail Line",
          "KL Monorail Line",
          "KL Monorail Line",
          "KL Monorail Line",
          "KL Monorail Line",
          "KL Monorail Line",
          "KL Monorail Line",
          "KL Monorail Line",
          "MRT Sungai Buloh - Kajang Line",
          "MRT Sungai Buloh - Kajang Line",
          "MRT Sungai Buloh - Kajang Line",
          "MRT Sungai Buloh - Kajang Line",
          "MRT Sungai Buloh - Kajang Line",
          "MRT Sungai Buloh - Kajang Line",
          "MRT Sungai Buloh - Kajang Line",
          "MRT Sungai Buloh - Kajang Line",
          "MRT Sungai Buloh - Kajang Line",
          "MRT Sungai Buloh - Kajang Line",
          "MRT Sungai Buloh - Kajang Line",
          "MRT Sungai Buloh - Kajang Line",
          "MRT Sungai Buloh - Kajang Line",
          "MRT Sungai Buloh - Kajang Line",
          "MRT Sungai Buloh - Kajang Line",
          "MRT Sungai Buloh - Kajang Line",
          "MRT Sungai Buloh - Kajang Line",
          "MRT Sungai Buloh - Kajang Line",
          "MRT Sungai Buloh - Kajang Line",
          "MRT Sungai Buloh - Kajang Line",
          "MRT Sungai Buloh - Kajang Line",
          "MRT Sungai Buloh - Kajang Line",
          "MRT Sungai Buloh - Kajang Line",
          "MRT Sungai Buloh - Kajang Line",
          "MRT Sungai Buloh - Kajang Line",
          "MRT Sungai Buloh - Kajang Line",
          "MRT Sungai Buloh - Kajang Line",
          "MRT Sungai Buloh - Kajang Line",
          "MRT Sungai Buloh - Kajang Line",
          "MRT Sungai Buloh - Kajang Line",
          "MRT Sungai Buloh - Kajang Line"
         ],
         "xaxis": "x",
         "y": [
          2.50320723,
          2.18713898,
          2.97553758,
          3.24989455,
          2.30154847,
          2.43804193,
          3.57417472,
          2.15523282,
          3.13635847,
          2.87843455,
          2.00438714,
          1.72766469,
          2.63536614,
          1.30700796,
          2.8398799300000004,
          2.6485886,
          2.36282791,
          2.18438939,
          2.15049166,
          2.21036431,
          2.92087017,
          1.70459228,
          0.99874736,
          2.31082803,
          1.46526333,
          2.00864547,
          1.96053364,
          1.99741613,
          1.4407928799999998,
          1.78729107,
          2.56875504,
          2.50320723,
          2.18713898,
          2.97553758,
          3.24989455,
          2.30154847,
          2.43804193,
          3.57417472,
          2.15523282,
          3.13635847,
          1.23613699,
          1.80755973,
          1.28215506,
          2.87843455,
          1.16625679,
          1.48917365,
          2.00438714,
          0.73848588,
          0.96879234,
          2.14291925,
          1.7670411,
          2.55634706,
          2.5685247400000004,
          1.36584476,
          1.4989333,
          3.05360071,
          3.07315564,
          2.30392579,
          1.33235855,
          3.0407064100000003,
          2.65852396,
          3.41690366,
          2.66858784,
          2.55299055,
          2.54116602,
          2.15266294,
          2.47394872,
          1.5659501299999998,
          2.91673712,
          2.47261526,
          2.97844454,
          3.47835279,
          2.55415807,
          2.67538928,
          2.9409497200000003,
          2.27835626,
          3.16651208,
          1.0854431299999998,
          1.63097096,
          1.25523608,
          2.80011178,
          2.85647793,
          2.3320872,
          1.84844813,
          2.65349169,
          2.4697297,
          2.8377076,
          3.4585355000000004,
          2.89450107,
          2.31622159,
          3.18113759,
          2.86908831,
          3.18807073,
          3.43811055,
          3.43721354,
          1.39431611,
          0.77787122,
          1.84313567,
          2.4039592,
          0.93031178,
          2.63810659,
          2.6266688300000003,
          1.1560063,
          2.21364998,
          1.7190148999999997,
          1.88394972,
          1.5214177,
          2.57465602,
          2.93804371,
          2.55486237,
          3.53382386,
          1.61326365,
          2.88430088,
          3.03546832,
          2.87970501,
          2.55413829,
          2.39006463,
          1.1586145,
          1.57184147,
          1.02247819,
          1.92063742,
          1.17586881,
          1.08940472,
          2.53917369,
          3.40544625,
          1.09995471
         ],
         "yaxis": "y"
        }
       ],
       "layout": {
        "barmode": "group",
        "legend": {
         "tracegroupgap": 0
        },
        "showlegend": false,
        "template": {
         "data": {
          "bar": [
           {
            "error_x": {
             "color": "#2a3f5f"
            },
            "error_y": {
             "color": "#2a3f5f"
            },
            "marker": {
             "line": {
              "color": "#E5ECF6",
              "width": 0.5
             }
            },
            "type": "bar"
           }
          ],
          "barpolar": [
           {
            "marker": {
             "line": {
              "color": "#E5ECF6",
              "width": 0.5
             }
            },
            "type": "barpolar"
           }
          ],
          "carpet": [
           {
            "aaxis": {
             "endlinecolor": "#2a3f5f",
             "gridcolor": "white",
             "linecolor": "white",
             "minorgridcolor": "white",
             "startlinecolor": "#2a3f5f"
            },
            "baxis": {
             "endlinecolor": "#2a3f5f",
             "gridcolor": "white",
             "linecolor": "white",
             "minorgridcolor": "white",
             "startlinecolor": "#2a3f5f"
            },
            "type": "carpet"
           }
          ],
          "choropleth": [
           {
            "colorbar": {
             "outlinewidth": 0,
             "ticks": ""
            },
            "type": "choropleth"
           }
          ],
          "contour": [
           {
            "colorbar": {
             "outlinewidth": 0,
             "ticks": ""
            },
            "colorscale": [
             [
              0,
              "#0d0887"
             ],
             [
              0.1111111111111111,
              "#46039f"
             ],
             [
              0.2222222222222222,
              "#7201a8"
             ],
             [
              0.3333333333333333,
              "#9c179e"
             ],
             [
              0.4444444444444444,
              "#bd3786"
             ],
             [
              0.5555555555555556,
              "#d8576b"
             ],
             [
              0.6666666666666666,
              "#ed7953"
             ],
             [
              0.7777777777777778,
              "#fb9f3a"
             ],
             [
              0.8888888888888888,
              "#fdca26"
             ],
             [
              1,
              "#f0f921"
             ]
            ],
            "type": "contour"
           }
          ],
          "contourcarpet": [
           {
            "colorbar": {
             "outlinewidth": 0,
             "ticks": ""
            },
            "type": "contourcarpet"
           }
          ],
          "heatmap": [
           {
            "colorbar": {
             "outlinewidth": 0,
             "ticks": ""
            },
            "colorscale": [
             [
              0,
              "#0d0887"
             ],
             [
              0.1111111111111111,
              "#46039f"
             ],
             [
              0.2222222222222222,
              "#7201a8"
             ],
             [
              0.3333333333333333,
              "#9c179e"
             ],
             [
              0.4444444444444444,
              "#bd3786"
             ],
             [
              0.5555555555555556,
              "#d8576b"
             ],
             [
              0.6666666666666666,
              "#ed7953"
             ],
             [
              0.7777777777777778,
              "#fb9f3a"
             ],
             [
              0.8888888888888888,
              "#fdca26"
             ],
             [
              1,
              "#f0f921"
             ]
            ],
            "type": "heatmap"
           }
          ],
          "heatmapgl": [
           {
            "colorbar": {
             "outlinewidth": 0,
             "ticks": ""
            },
            "colorscale": [
             [
              0,
              "#0d0887"
             ],
             [
              0.1111111111111111,
              "#46039f"
             ],
             [
              0.2222222222222222,
              "#7201a8"
             ],
             [
              0.3333333333333333,
              "#9c179e"
             ],
             [
              0.4444444444444444,
              "#bd3786"
             ],
             [
              0.5555555555555556,
              "#d8576b"
             ],
             [
              0.6666666666666666,
              "#ed7953"
             ],
             [
              0.7777777777777778,
              "#fb9f3a"
             ],
             [
              0.8888888888888888,
              "#fdca26"
             ],
             [
              1,
              "#f0f921"
             ]
            ],
            "type": "heatmapgl"
           }
          ],
          "histogram": [
           {
            "marker": {
             "colorbar": {
              "outlinewidth": 0,
              "ticks": ""
             }
            },
            "type": "histogram"
           }
          ],
          "histogram2d": [
           {
            "colorbar": {
             "outlinewidth": 0,
             "ticks": ""
            },
            "colorscale": [
             [
              0,
              "#0d0887"
             ],
             [
              0.1111111111111111,
              "#46039f"
             ],
             [
              0.2222222222222222,
              "#7201a8"
             ],
             [
              0.3333333333333333,
              "#9c179e"
             ],
             [
              0.4444444444444444,
              "#bd3786"
             ],
             [
              0.5555555555555556,
              "#d8576b"
             ],
             [
              0.6666666666666666,
              "#ed7953"
             ],
             [
              0.7777777777777778,
              "#fb9f3a"
             ],
             [
              0.8888888888888888,
              "#fdca26"
             ],
             [
              1,
              "#f0f921"
             ]
            ],
            "type": "histogram2d"
           }
          ],
          "histogram2dcontour": [
           {
            "colorbar": {
             "outlinewidth": 0,
             "ticks": ""
            },
            "colorscale": [
             [
              0,
              "#0d0887"
             ],
             [
              0.1111111111111111,
              "#46039f"
             ],
             [
              0.2222222222222222,
              "#7201a8"
             ],
             [
              0.3333333333333333,
              "#9c179e"
             ],
             [
              0.4444444444444444,
              "#bd3786"
             ],
             [
              0.5555555555555556,
              "#d8576b"
             ],
             [
              0.6666666666666666,
              "#ed7953"
             ],
             [
              0.7777777777777778,
              "#fb9f3a"
             ],
             [
              0.8888888888888888,
              "#fdca26"
             ],
             [
              1,
              "#f0f921"
             ]
            ],
            "type": "histogram2dcontour"
           }
          ],
          "mesh3d": [
           {
            "colorbar": {
             "outlinewidth": 0,
             "ticks": ""
            },
            "type": "mesh3d"
           }
          ],
          "parcoords": [
           {
            "line": {
             "colorbar": {
              "outlinewidth": 0,
              "ticks": ""
             }
            },
            "type": "parcoords"
           }
          ],
          "pie": [
           {
            "automargin": true,
            "type": "pie"
           }
          ],
          "scatter": [
           {
            "marker": {
             "colorbar": {
              "outlinewidth": 0,
              "ticks": ""
             }
            },
            "type": "scatter"
           }
          ],
          "scatter3d": [
           {
            "line": {
             "colorbar": {
              "outlinewidth": 0,
              "ticks": ""
             }
            },
            "marker": {
             "colorbar": {
              "outlinewidth": 0,
              "ticks": ""
             }
            },
            "type": "scatter3d"
           }
          ],
          "scattercarpet": [
           {
            "marker": {
             "colorbar": {
              "outlinewidth": 0,
              "ticks": ""
             }
            },
            "type": "scattercarpet"
           }
          ],
          "scattergeo": [
           {
            "marker": {
             "colorbar": {
              "outlinewidth": 0,
              "ticks": ""
             }
            },
            "type": "scattergeo"
           }
          ],
          "scattergl": [
           {
            "marker": {
             "colorbar": {
              "outlinewidth": 0,
              "ticks": ""
             }
            },
            "type": "scattergl"
           }
          ],
          "scattermapbox": [
           {
            "marker": {
             "colorbar": {
              "outlinewidth": 0,
              "ticks": ""
             }
            },
            "type": "scattermapbox"
           }
          ],
          "scatterpolar": [
           {
            "marker": {
             "colorbar": {
              "outlinewidth": 0,
              "ticks": ""
             }
            },
            "type": "scatterpolar"
           }
          ],
          "scatterpolargl": [
           {
            "marker": {
             "colorbar": {
              "outlinewidth": 0,
              "ticks": ""
             }
            },
            "type": "scatterpolargl"
           }
          ],
          "scatterternary": [
           {
            "marker": {
             "colorbar": {
              "outlinewidth": 0,
              "ticks": ""
             }
            },
            "type": "scatterternary"
           }
          ],
          "surface": [
           {
            "colorbar": {
             "outlinewidth": 0,
             "ticks": ""
            },
            "colorscale": [
             [
              0,
              "#0d0887"
             ],
             [
              0.1111111111111111,
              "#46039f"
             ],
             [
              0.2222222222222222,
              "#7201a8"
             ],
             [
              0.3333333333333333,
              "#9c179e"
             ],
             [
              0.4444444444444444,
              "#bd3786"
             ],
             [
              0.5555555555555556,
              "#d8576b"
             ],
             [
              0.6666666666666666,
              "#ed7953"
             ],
             [
              0.7777777777777778,
              "#fb9f3a"
             ],
             [
              0.8888888888888888,
              "#fdca26"
             ],
             [
              1,
              "#f0f921"
             ]
            ],
            "type": "surface"
           }
          ],
          "table": [
           {
            "cells": {
             "fill": {
              "color": "#EBF0F8"
             },
             "line": {
              "color": "white"
             }
            },
            "header": {
             "fill": {
              "color": "#C8D4E3"
             },
             "line": {
              "color": "white"
             }
            },
            "type": "table"
           }
          ]
         },
         "layout": {
          "annotationdefaults": {
           "arrowcolor": "#2a3f5f",
           "arrowhead": 0,
           "arrowwidth": 1
          },
          "coloraxis": {
           "colorbar": {
            "outlinewidth": 0,
            "ticks": ""
           }
          },
          "colorscale": {
           "diverging": [
            [
             0,
             "#8e0152"
            ],
            [
             0.1,
             "#c51b7d"
            ],
            [
             0.2,
             "#de77ae"
            ],
            [
             0.3,
             "#f1b6da"
            ],
            [
             0.4,
             "#fde0ef"
            ],
            [
             0.5,
             "#f7f7f7"
            ],
            [
             0.6,
             "#e6f5d0"
            ],
            [
             0.7,
             "#b8e186"
            ],
            [
             0.8,
             "#7fbc41"
            ],
            [
             0.9,
             "#4d9221"
            ],
            [
             1,
             "#276419"
            ]
           ],
           "sequential": [
            [
             0,
             "#0d0887"
            ],
            [
             0.1111111111111111,
             "#46039f"
            ],
            [
             0.2222222222222222,
             "#7201a8"
            ],
            [
             0.3333333333333333,
             "#9c179e"
            ],
            [
             0.4444444444444444,
             "#bd3786"
            ],
            [
             0.5555555555555556,
             "#d8576b"
            ],
            [
             0.6666666666666666,
             "#ed7953"
            ],
            [
             0.7777777777777778,
             "#fb9f3a"
            ],
            [
             0.8888888888888888,
             "#fdca26"
            ],
            [
             1,
             "#f0f921"
            ]
           ],
           "sequentialminus": [
            [
             0,
             "#0d0887"
            ],
            [
             0.1111111111111111,
             "#46039f"
            ],
            [
             0.2222222222222222,
             "#7201a8"
            ],
            [
             0.3333333333333333,
             "#9c179e"
            ],
            [
             0.4444444444444444,
             "#bd3786"
            ],
            [
             0.5555555555555556,
             "#d8576b"
            ],
            [
             0.6666666666666666,
             "#ed7953"
            ],
            [
             0.7777777777777778,
             "#fb9f3a"
            ],
            [
             0.8888888888888888,
             "#fdca26"
            ],
            [
             1,
             "#f0f921"
            ]
           ]
          },
          "colorway": [
           "#636efa",
           "#EF553B",
           "#00cc96",
           "#ab63fa",
           "#FFA15A",
           "#19d3f3",
           "#FF6692",
           "#B6E880",
           "#FF97FF",
           "#FECB52"
          ],
          "font": {
           "color": "#2a3f5f"
          },
          "geo": {
           "bgcolor": "white",
           "lakecolor": "white",
           "landcolor": "#E5ECF6",
           "showlakes": true,
           "showland": true,
           "subunitcolor": "white"
          },
          "hoverlabel": {
           "align": "left"
          },
          "hovermode": "closest",
          "mapbox": {
           "style": "light"
          },
          "paper_bgcolor": "white",
          "plot_bgcolor": "#E5ECF6",
          "polar": {
           "angularaxis": {
            "gridcolor": "white",
            "linecolor": "white",
            "ticks": ""
           },
           "bgcolor": "#E5ECF6",
           "radialaxis": {
            "gridcolor": "white",
            "linecolor": "white",
            "ticks": ""
           }
          },
          "scene": {
           "xaxis": {
            "backgroundcolor": "#E5ECF6",
            "gridcolor": "white",
            "gridwidth": 2,
            "linecolor": "white",
            "showbackground": true,
            "ticks": "",
            "zerolinecolor": "white"
           },
           "yaxis": {
            "backgroundcolor": "#E5ECF6",
            "gridcolor": "white",
            "gridwidth": 2,
            "linecolor": "white",
            "showbackground": true,
            "ticks": "",
            "zerolinecolor": "white"
           },
           "zaxis": {
            "backgroundcolor": "#E5ECF6",
            "gridcolor": "white",
            "gridwidth": 2,
            "linecolor": "white",
            "showbackground": true,
            "ticks": "",
            "zerolinecolor": "white"
           }
          },
          "shapedefaults": {
           "line": {
            "color": "#2a3f5f"
           }
          },
          "ternary": {
           "aaxis": {
            "gridcolor": "white",
            "linecolor": "white",
            "ticks": ""
           },
           "baxis": {
            "gridcolor": "white",
            "linecolor": "white",
            "ticks": ""
           },
           "bgcolor": "#E5ECF6",
           "caxis": {
            "gridcolor": "white",
            "linecolor": "white",
            "ticks": ""
           }
          },
          "title": {
           "x": 0.05
          },
          "xaxis": {
           "automargin": true,
           "gridcolor": "white",
           "linecolor": "white",
           "ticks": "",
           "title": {
            "standoff": 15
           },
           "zerolinecolor": "white",
           "zerolinewidth": 2
          },
          "yaxis": {
           "automargin": true,
           "gridcolor": "white",
           "linecolor": "white",
           "ticks": "",
           "title": {
            "standoff": 15
           },
           "zerolinecolor": "white",
           "zerolinewidth": 2
          }
         }
        },
        "title": {
         "text": "Area coverage within 15 minutes walk from station"
        },
        "xaxis": {
         "anchor": "y",
         "categoryorder": "total ascending",
         "domain": [
          0,
          1
         ],
         "title": {
          "text": "Lines"
         }
        },
        "yaxis": {
         "anchor": "x",
         "domain": [
          0,
          1
         ],
         "title": {
          "text": "avg of 15 Minutes Walk Area(km^2)"
         }
        }
       }
      }
     },
     "metadata": {},
     "output_type": "display_data"
    },
    {
     "data": {
      "application/vnd.plotly.v1+json": {
       "config": {
        "plotlyServerURL": "https://plot.ly"
       },
       "data": [
        {
         "alignmentgroup": "True",
         "bingroup": "x",
         "histfunc": "avg",
         "hovertemplate": "variable=5 Minute Range Area<br>Lines=%{x}<br>avg of Walk Area Coverage(km^2)=%{y}<extra></extra>",
         "legendgroup": "5 Minute Range Area",
         "marker": {
          "color": "#636efa"
         },
         "name": "5 Minute Range Area",
         "offsetgroup": "5 Minute Range Area",
         "orientation": "v",
         "showlegend": true,
         "type": "histogram",
         "x": [
          "Seremban Line",
          "Seremban Line",
          "Seremban Line",
          "Seremban Line",
          "Seremban Line",
          "Seremban Line",
          "Seremban Line",
          "Seremban Line",
          "Seremban Line",
          "Seremban Line",
          "Seremban Line",
          "Seremban Line",
          "Seremban Line",
          "Seremban Line",
          "Seremban Line",
          "Seremban Line",
          "Seremban Line",
          "Seremban Line",
          "Seremban Line",
          "Seremban Line",
          "Seremban Line",
          "Seremban Line",
          "Seremban Line",
          "Seremban Line",
          "Seremban Line",
          "Seremban Line",
          "Port Klang Line",
          "Port Klang Line",
          "Port Klang Line",
          "Port Klang Line",
          "Port Klang Line",
          "Port Klang Line",
          "Port Klang Line",
          "Port Klang Line",
          "Port Klang Line",
          "Port Klang Line",
          "Port Klang Line",
          "Port Klang Line",
          "Port Klang Line",
          "Port Klang Line",
          "Port Klang Line",
          "Port Klang Line",
          "Port Klang Line",
          "Port Klang Line",
          "Port Klang Line",
          "Port Klang Line",
          "Port Klang Line",
          "Port Klang Line",
          "Port Klang Line",
          "Port Klang Line",
          "Port Klang Line",
          "Port Klang Line",
          "Port Klang Line",
          "Port Klang Line",
          "Port Klang Line",
          "Port Klang Line",
          "Port Klang Line",
          "Port Klang Line",
          "Port Klang Line",
          "Port Klang Line",
          "Ampang Line",
          "Ampang Line",
          "Ampang Line",
          "Ampang Line",
          "Ampang Line",
          "Ampang Line",
          "Ampang Line",
          "Ampang Line",
          "Ampang Line",
          "Ampang Line",
          "Ampang Line",
          "Ampang Line",
          "Ampang Line",
          "Ampang Line",
          "Ampang Line",
          "Ampang Line",
          "Ampang Line",
          "Ampang Line",
          "Sri Petaling Line",
          "Sri Petaling Line",
          "Sri Petaling Line",
          "Sri Petaling Line",
          "Sri Petaling Line",
          "Sri Petaling Line",
          "Sri Petaling Line",
          "Sri Petaling Line",
          "Sri Petaling Line",
          "Sri Petaling Line",
          "Sri Petaling Line",
          "Sri Petaling Line",
          "Sri Petaling Line",
          "Sri Petaling Line",
          "Sri Petaling Line",
          "Sri Petaling Line",
          "Sri Petaling Line",
          "Sri Petaling Line",
          "Sri Petaling Line",
          "Sri Petaling Line",
          "Sri Petaling Line",
          "Sri Petaling Line",
          "Sri Petaling Line",
          "Sri Petaling Line",
          "Sri Petaling Line",
          "Sri Petaling Line",
          "Sri Petaling Line",
          "Sri Petaling Line",
          "Sri Petaling Line",
          "Kelana Jaya Line",
          "Kelana Jaya Line",
          "Kelana Jaya Line",
          "Kelana Jaya Line",
          "Kelana Jaya Line",
          "Kelana Jaya Line",
          "Kelana Jaya Line",
          "Kelana Jaya Line",
          "Kelana Jaya Line",
          "Kelana Jaya Line",
          "Kelana Jaya Line",
          "Kelana Jaya Line",
          "Kelana Jaya Line",
          "Kelana Jaya Line",
          "Kelana Jaya Line",
          "Kelana Jaya Line",
          "Kelana Jaya Line",
          "Kelana Jaya Line",
          "Kelana Jaya Line",
          "Kelana Jaya Line",
          "Kelana Jaya Line",
          "Kelana Jaya Line",
          "Kelana Jaya Line",
          "Kelana Jaya Line",
          "Kelana Jaya Line",
          "Kelana Jaya Line",
          "Kelana Jaya Line",
          "Kelana Jaya Line",
          "Kelana Jaya Line",
          "Kelana Jaya Line",
          "Kelana Jaya Line",
          "Kelana Jaya Line",
          "Kelana Jaya Line",
          "Kelana Jaya Line",
          "Kelana Jaya Line",
          "Kelana Jaya Line",
          "Kelana Jaya Line",
          "KLIA Ekspres",
          "KLIA Ekspres",
          "KLIA Ekspres",
          "KLIA Transit",
          "KLIA Transit",
          "KLIA Transit",
          "KLIA Transit",
          "KLIA Transit",
          "KLIA Transit",
          "KL Monorail Line",
          "KL Monorail Line",
          "KL Monorail Line",
          "KL Monorail Line",
          "KL Monorail Line",
          "KL Monorail Line",
          "KL Monorail Line",
          "KL Monorail Line",
          "KL Monorail Line",
          "KL Monorail Line",
          "KL Monorail Line",
          "MRT Sungai Buloh - Kajang Line",
          "MRT Sungai Buloh - Kajang Line",
          "MRT Sungai Buloh - Kajang Line",
          "MRT Sungai Buloh - Kajang Line",
          "MRT Sungai Buloh - Kajang Line",
          "MRT Sungai Buloh - Kajang Line",
          "MRT Sungai Buloh - Kajang Line",
          "MRT Sungai Buloh - Kajang Line",
          "MRT Sungai Buloh - Kajang Line",
          "MRT Sungai Buloh - Kajang Line",
          "MRT Sungai Buloh - Kajang Line",
          "MRT Sungai Buloh - Kajang Line",
          "MRT Sungai Buloh - Kajang Line",
          "MRT Sungai Buloh - Kajang Line",
          "MRT Sungai Buloh - Kajang Line",
          "MRT Sungai Buloh - Kajang Line",
          "MRT Sungai Buloh - Kajang Line",
          "MRT Sungai Buloh - Kajang Line",
          "MRT Sungai Buloh - Kajang Line",
          "MRT Sungai Buloh - Kajang Line",
          "MRT Sungai Buloh - Kajang Line",
          "MRT Sungai Buloh - Kajang Line",
          "MRT Sungai Buloh - Kajang Line",
          "MRT Sungai Buloh - Kajang Line",
          "MRT Sungai Buloh - Kajang Line",
          "MRT Sungai Buloh - Kajang Line",
          "MRT Sungai Buloh - Kajang Line",
          "MRT Sungai Buloh - Kajang Line",
          "MRT Sungai Buloh - Kajang Line",
          "MRT Sungai Buloh - Kajang Line",
          "MRT Sungai Buloh - Kajang Line",
          "Skypark Link",
          "Skypark Link",
          "Skypark Link",
          "BRT Sunway Line",
          "BRT Sunway Line",
          "BRT Sunway Line",
          "BRT Sunway Line",
          "BRT Sunway Line",
          "BRT Sunway Line",
          "BRT Sunway Line"
         ],
         "xaxis": "x",
         "y": [
          0.32502953,
          0.16784903,
          0.27048784000000003,
          0.12951717999999998,
          0.22497591,
          0.24695309,
          0.14691288,
          0.24300364,
          0.26691009000000004,
          0.2173759,
          0.14826303,
          0.07591764999999999,
          0.06805375,
          0.07905383,
          0.17442169,
          0.12741632,
          0.13816735,
          0.18085449,
          0.14079759,
          0.10197641,
          0.17407785,
          0.13489618,
          0.11370632,
          0.11370632,
          0.01762412,
          0.27823226,
          0.32621006,
          0.11046878,
          0.10660750000000001,
          0.20198707,
          0.24395129,
          0.03707489,
          0.15379572,
          0.08884778,
          0.1070488,
          0.18660114000000005,
          0.18361411,
          0.10761164,
          0.13660521,
          0.17313678,
          0.09203497,
          0.17371794000000002,
          0.04604104,
          0.21055564,
          0.07511641000000001,
          0.18488481,
          0.21241443,
          0.11611197,
          0.25350275,
          0.05376949,
          0.07807717,
          0.14296140000000002,
          0.15579032999999998,
          0.25485059,
          0.06879924000000001,
          0.02821196,
          0.24300364,
          0.27001568,
          0.24957902,
          0.27823226,
          0.33724218,
          0.1546662,
          0.33176681,
          0.37727368,
          0.15932879,
          0.24879704,
          0.35354969,
          0.07686364,
          0.29995945,
          0.20698176,
          0.08520355,
          0.10908823,
          0.12765432000000002,
          0.10372052,
          0.30964279,
          0.21829926,
          0.14038832999999998,
          0.08700395,
          0.15914785,
          0.31987013000000003,
          0.36440737,
          0.28778113,
          0.18058166,
          0.25175232000000003,
          0.14368163,
          0.09205028,
          0.15237542,
          0.31456235,
          0.11328153,
          0.17176765,
          0.35933424,
          0.33724218,
          0.1546662,
          0.33176681,
          0.37727368,
          0.15932879,
          0.24879704,
          0.35354969,
          0.07686364,
          0.29995945,
          0.18159136,
          0.19527194,
          0.09621198,
          0.20698176,
          0.16106156,
          0.22306622,
          0.08520355,
          0.02267377,
          0.12847033,
          0.15774998999999998,
          0.16809358,
          0.28003389,
          0.19492496,
          0.22591129,
          0.11824999,
          0.28283391,
          0.35358716,
          0.14676751999999998,
          0.02152531,
          0.27510395,
          0.24235682,
          0.3222016,
          0.18799781,
          0.22266883,
          0.24884647,
          0.25081894,
          0.23236677,
          0.06879924000000001,
          0.28727626,
          0.26123897,
          0.29123198,
          0.32106086,
          0.21444045,
          0.17781184,
          0.33269748,
          0.20476568,
          0.32679448,
          0.0971136,
          0.16797594,
          0.020076300000000002,
          0.29868451,
          0.23714405,
          0.23981816,
          0.08149613,
          0.13592358999999998,
          0.049920660000000006,
          0.282571,
          0.28080876,
          0.13592358999999998,
          0.049920660000000006,
          0.09621198,
          0.13187564999999998,
          0.282571,
          0.282571,
          0.32216819,
          0.19872931,
          0.40916697,
          0.23397354,
          0.18207893,
          0.30759115000000004,
          0.14989506,
          0.26908476000000003,
          0.32843958,
          0.36637874,
          0.08337092,
          0.14304667,
          0.10847691,
          0.24301521,
          0.06015653,
          0.18350335,
          0.2537391,
          0.05812919,
          0.21586482,
          0.11754646,
          0.16716919,
          0.18153927,
          0.21390516,
          0.30103121,
          0.20341446,
          0.40743421,
          0.09877055,
          0.32171969,
          0.22988957,
          0.30111587,
          0.24658695,
          0.15422356,
          0.10901780000000001,
          0.17065887,
          0.08552002,
          0.18767169,
          0.13546985,
          0.06215426,
          0.21858111,
          0.31359252000000004,
          0.12926258999999998,
          0.06272664,
          0.09203497,
          0.282571,
          0.2911925,
          0.21232131,
          0.32477513,
          0.23819861,
          0.31464996,
          0.25319603,
          0.21011433
         ],
         "yaxis": "y"
        },
        {
         "alignmentgroup": "True",
         "bingroup": "x",
         "histfunc": "avg",
         "hovertemplate": "variable=10 Minute Range Area<br>Lines=%{x}<br>avg of Walk Area Coverage(km^2)=%{y}<extra></extra>",
         "legendgroup": "10 Minute Range Area",
         "marker": {
          "color": "#EF553B"
         },
         "name": "10 Minute Range Area",
         "offsetgroup": "10 Minute Range Area",
         "orientation": "v",
         "showlegend": true,
         "type": "histogram",
         "x": [
          "Seremban Line",
          "Seremban Line",
          "Seremban Line",
          "Seremban Line",
          "Seremban Line",
          "Seremban Line",
          "Seremban Line",
          "Seremban Line",
          "Seremban Line",
          "Seremban Line",
          "Seremban Line",
          "Seremban Line",
          "Seremban Line",
          "Seremban Line",
          "Seremban Line",
          "Seremban Line",
          "Seremban Line",
          "Seremban Line",
          "Seremban Line",
          "Seremban Line",
          "Seremban Line",
          "Seremban Line",
          "Seremban Line",
          "Seremban Line",
          "Seremban Line",
          "Seremban Line",
          "Port Klang Line",
          "Port Klang Line",
          "Port Klang Line",
          "Port Klang Line",
          "Port Klang Line",
          "Port Klang Line",
          "Port Klang Line",
          "Port Klang Line",
          "Port Klang Line",
          "Port Klang Line",
          "Port Klang Line",
          "Port Klang Line",
          "Port Klang Line",
          "Port Klang Line",
          "Port Klang Line",
          "Port Klang Line",
          "Port Klang Line",
          "Port Klang Line",
          "Port Klang Line",
          "Port Klang Line",
          "Port Klang Line",
          "Port Klang Line",
          "Port Klang Line",
          "Port Klang Line",
          "Port Klang Line",
          "Port Klang Line",
          "Port Klang Line",
          "Port Klang Line",
          "Port Klang Line",
          "Port Klang Line",
          "Port Klang Line",
          "Port Klang Line",
          "Port Klang Line",
          "Port Klang Line",
          "Ampang Line",
          "Ampang Line",
          "Ampang Line",
          "Ampang Line",
          "Ampang Line",
          "Ampang Line",
          "Ampang Line",
          "Ampang Line",
          "Ampang Line",
          "Ampang Line",
          "Ampang Line",
          "Ampang Line",
          "Ampang Line",
          "Ampang Line",
          "Ampang Line",
          "Ampang Line",
          "Ampang Line",
          "Ampang Line",
          "Sri Petaling Line",
          "Sri Petaling Line",
          "Sri Petaling Line",
          "Sri Petaling Line",
          "Sri Petaling Line",
          "Sri Petaling Line",
          "Sri Petaling Line",
          "Sri Petaling Line",
          "Sri Petaling Line",
          "Sri Petaling Line",
          "Sri Petaling Line",
          "Sri Petaling Line",
          "Sri Petaling Line",
          "Sri Petaling Line",
          "Sri Petaling Line",
          "Sri Petaling Line",
          "Sri Petaling Line",
          "Sri Petaling Line",
          "Sri Petaling Line",
          "Sri Petaling Line",
          "Sri Petaling Line",
          "Sri Petaling Line",
          "Sri Petaling Line",
          "Sri Petaling Line",
          "Sri Petaling Line",
          "Sri Petaling Line",
          "Sri Petaling Line",
          "Sri Petaling Line",
          "Sri Petaling Line",
          "Kelana Jaya Line",
          "Kelana Jaya Line",
          "Kelana Jaya Line",
          "Kelana Jaya Line",
          "Kelana Jaya Line",
          "Kelana Jaya Line",
          "Kelana Jaya Line",
          "Kelana Jaya Line",
          "Kelana Jaya Line",
          "Kelana Jaya Line",
          "Kelana Jaya Line",
          "Kelana Jaya Line",
          "Kelana Jaya Line",
          "Kelana Jaya Line",
          "Kelana Jaya Line",
          "Kelana Jaya Line",
          "Kelana Jaya Line",
          "Kelana Jaya Line",
          "Kelana Jaya Line",
          "Kelana Jaya Line",
          "Kelana Jaya Line",
          "Kelana Jaya Line",
          "Kelana Jaya Line",
          "Kelana Jaya Line",
          "Kelana Jaya Line",
          "Kelana Jaya Line",
          "Kelana Jaya Line",
          "Kelana Jaya Line",
          "Kelana Jaya Line",
          "Kelana Jaya Line",
          "Kelana Jaya Line",
          "Kelana Jaya Line",
          "Kelana Jaya Line",
          "Kelana Jaya Line",
          "Kelana Jaya Line",
          "Kelana Jaya Line",
          "Kelana Jaya Line",
          "KLIA Ekspres",
          "KLIA Ekspres",
          "KLIA Ekspres",
          "KLIA Transit",
          "KLIA Transit",
          "KLIA Transit",
          "KLIA Transit",
          "KLIA Transit",
          "KLIA Transit",
          "KL Monorail Line",
          "KL Monorail Line",
          "KL Monorail Line",
          "KL Monorail Line",
          "KL Monorail Line",
          "KL Monorail Line",
          "KL Monorail Line",
          "KL Monorail Line",
          "KL Monorail Line",
          "KL Monorail Line",
          "KL Monorail Line",
          "MRT Sungai Buloh - Kajang Line",
          "MRT Sungai Buloh - Kajang Line",
          "MRT Sungai Buloh - Kajang Line",
          "MRT Sungai Buloh - Kajang Line",
          "MRT Sungai Buloh - Kajang Line",
          "MRT Sungai Buloh - Kajang Line",
          "MRT Sungai Buloh - Kajang Line",
          "MRT Sungai Buloh - Kajang Line",
          "MRT Sungai Buloh - Kajang Line",
          "MRT Sungai Buloh - Kajang Line",
          "MRT Sungai Buloh - Kajang Line",
          "MRT Sungai Buloh - Kajang Line",
          "MRT Sungai Buloh - Kajang Line",
          "MRT Sungai Buloh - Kajang Line",
          "MRT Sungai Buloh - Kajang Line",
          "MRT Sungai Buloh - Kajang Line",
          "MRT Sungai Buloh - Kajang Line",
          "MRT Sungai Buloh - Kajang Line",
          "MRT Sungai Buloh - Kajang Line",
          "MRT Sungai Buloh - Kajang Line",
          "MRT Sungai Buloh - Kajang Line",
          "MRT Sungai Buloh - Kajang Line",
          "MRT Sungai Buloh - Kajang Line",
          "MRT Sungai Buloh - Kajang Line",
          "MRT Sungai Buloh - Kajang Line",
          "MRT Sungai Buloh - Kajang Line",
          "MRT Sungai Buloh - Kajang Line",
          "MRT Sungai Buloh - Kajang Line",
          "MRT Sungai Buloh - Kajang Line",
          "MRT Sungai Buloh - Kajang Line",
          "MRT Sungai Buloh - Kajang Line",
          "Skypark Link",
          "Skypark Link",
          "Skypark Link",
          "BRT Sunway Line",
          "BRT Sunway Line",
          "BRT Sunway Line",
          "BRT Sunway Line",
          "BRT Sunway Line",
          "BRT Sunway Line",
          "BRT Sunway Line"
         ],
         "xaxis": "x",
         "y": [
          1.21931523,
          0.93091182,
          1.20720364,
          0.6638396999999999,
          1.02597001,
          0.9032924999999999,
          0.77416673,
          0.8685140699999999,
          1.13775825,
          1.11858001,
          0.40280231,
          0.37747057,
          0.18251768,
          0.25101196,
          0.7785853100000001,
          0.5337569799999999,
          0.67900321,
          0.58214818,
          0.56711463,
          0.37310711,
          0.98667713,
          0.5932754499999999,
          0.5405813100000001,
          0.5405813100000001,
          0.17022995000000002,
          1.01348749,
          0.7971475100000001,
          0.53795601,
          0.64384983,
          0.8918127299999999,
          1.30960395,
          0.22108196,
          0.59910964,
          0.40536444,
          0.6258474399999999,
          0.6558845799999999,
          0.67504321,
          0.71811103,
          0.85441038,
          0.80285747,
          0.321812,
          0.6461156899999999,
          0.34027096,
          0.95838971,
          0.39256715,
          0.79374341,
          0.8763598100000001,
          0.48630316,
          0.5826496,
          0.39222133,
          0.57097745,
          0.53032784,
          0.8921458299999999,
          1.004872,
          0.5238393,
          0.12340055,
          0.8685140699999999,
          1.1410543,
          1.1359266499999998,
          1.01348749,
          1.09334887,
          0.80231439,
          1.3299142,
          1.31730172,
          0.98019944,
          0.9941378,
          1.5230143799999998,
          0.7287783299999999,
          1.3736323899999998,
          1.14943278,
          0.68970727,
          0.5937145500000001,
          0.9350726999999999,
          0.4834335,
          1.20690344,
          1.06719648,
          0.86601087,
          0.80194669,
          0.86313283,
          1.15664441,
          1.42769142,
          0.90251369,
          0.52016311,
          0.98766563,
          0.55619289,
          0.66678646,
          0.94313668,
          0.97527387,
          0.6901240799999999,
          0.6597359899999999,
          1.39635365,
          1.09334887,
          0.80231439,
          1.3299142,
          1.31730172,
          0.98019944,
          0.9941378,
          1.5230143799999998,
          0.7287783299999999,
          1.3736323899999998,
          0.6489337,
          0.86325234,
          0.4124528,
          1.14943278,
          0.51988839,
          0.6792649300000001,
          0.68970727,
          0.17516605999999998,
          0.55438652,
          0.86589967,
          0.84586189,
          1.28355542,
          1.19836021,
          0.70439516,
          0.50044574,
          1.38068874,
          1.38658291,
          1.09200724,
          0.39645643,
          1.27643156,
          1.1012631899999998,
          1.49388015,
          1.04064393,
          0.96485189,
          0.98989655,
          1.11638015,
          1.08560675,
          0.5238393,
          1.1931968700000002,
          1.03103308,
          1.24463438,
          1.54427346,
          1.0594265900000002,
          1.09898814,
          1.29000994,
          0.9643110999999999,
          1.3261784399999998,
          0.42379399999999995,
          0.6094221999999999,
          0.4053551,
          1.18938463,
          1.14565526,
          0.93928982,
          0.61438852,
          0.44272923,
          0.1887088,
          1.09211687,
          0.90935294,
          0.44272923,
          0.1887088,
          0.4124528,
          0.38223419,
          1.09211687,
          1.09211687,
          1.12171054,
          1.1069307,
          1.5978103899999998,
          1.367721,
          0.83609601,
          1.31818673,
          1.0102258,
          1.30095197,
          1.54870424,
          1.52258909,
          0.47777056,
          0.32680685,
          0.70574069,
          1.09880969,
          0.25483471,
          1.05479949,
          1.24189861,
          0.34321703000000003,
          1.03133178,
          0.81246512,
          0.792776,
          0.69851637,
          1.00576163,
          1.23598569,
          1.00091417,
          1.61694446,
          0.54084151,
          1.32363621,
          1.39069973,
          1.37199615,
          0.99480425,
          0.93110482,
          0.49464933,
          0.69375911,
          0.41850527,
          0.91200428,
          0.67322998,
          0.41825578,
          1.08586026,
          1.34582422,
          0.6108315799999999,
          0.33009262,
          0.321812,
          1.09211687,
          1.10423381,
          0.47774563,
          1.18945482,
          0.9588839,
          0.99985214,
          0.80817385,
          0.71166428
         ],
         "yaxis": "y"
        },
        {
         "alignmentgroup": "True",
         "bingroup": "x",
         "histfunc": "avg",
         "hovertemplate": "variable=15 Minute Range Area<br>Lines=%{x}<br>avg of Walk Area Coverage(km^2)=%{y}<extra></extra>",
         "legendgroup": "15 Minute Range Area",
         "marker": {
          "color": "#00cc96"
         },
         "name": "15 Minute Range Area",
         "offsetgroup": "15 Minute Range Area",
         "orientation": "v",
         "showlegend": true,
         "type": "histogram",
         "x": [
          "Seremban Line",
          "Seremban Line",
          "Seremban Line",
          "Seremban Line",
          "Seremban Line",
          "Seremban Line",
          "Seremban Line",
          "Seremban Line",
          "Seremban Line",
          "Seremban Line",
          "Seremban Line",
          "Seremban Line",
          "Seremban Line",
          "Seremban Line",
          "Seremban Line",
          "Seremban Line",
          "Seremban Line",
          "Seremban Line",
          "Seremban Line",
          "Seremban Line",
          "Seremban Line",
          "Seremban Line",
          "Seremban Line",
          "Seremban Line",
          "Seremban Line",
          "Seremban Line",
          "Port Klang Line",
          "Port Klang Line",
          "Port Klang Line",
          "Port Klang Line",
          "Port Klang Line",
          "Port Klang Line",
          "Port Klang Line",
          "Port Klang Line",
          "Port Klang Line",
          "Port Klang Line",
          "Port Klang Line",
          "Port Klang Line",
          "Port Klang Line",
          "Port Klang Line",
          "Port Klang Line",
          "Port Klang Line",
          "Port Klang Line",
          "Port Klang Line",
          "Port Klang Line",
          "Port Klang Line",
          "Port Klang Line",
          "Port Klang Line",
          "Port Klang Line",
          "Port Klang Line",
          "Port Klang Line",
          "Port Klang Line",
          "Port Klang Line",
          "Port Klang Line",
          "Port Klang Line",
          "Port Klang Line",
          "Port Klang Line",
          "Port Klang Line",
          "Port Klang Line",
          "Port Klang Line",
          "Ampang Line",
          "Ampang Line",
          "Ampang Line",
          "Ampang Line",
          "Ampang Line",
          "Ampang Line",
          "Ampang Line",
          "Ampang Line",
          "Ampang Line",
          "Ampang Line",
          "Ampang Line",
          "Ampang Line",
          "Ampang Line",
          "Ampang Line",
          "Ampang Line",
          "Ampang Line",
          "Ampang Line",
          "Ampang Line",
          "Sri Petaling Line",
          "Sri Petaling Line",
          "Sri Petaling Line",
          "Sri Petaling Line",
          "Sri Petaling Line",
          "Sri Petaling Line",
          "Sri Petaling Line",
          "Sri Petaling Line",
          "Sri Petaling Line",
          "Sri Petaling Line",
          "Sri Petaling Line",
          "Sri Petaling Line",
          "Sri Petaling Line",
          "Sri Petaling Line",
          "Sri Petaling Line",
          "Sri Petaling Line",
          "Sri Petaling Line",
          "Sri Petaling Line",
          "Sri Petaling Line",
          "Sri Petaling Line",
          "Sri Petaling Line",
          "Sri Petaling Line",
          "Sri Petaling Line",
          "Sri Petaling Line",
          "Sri Petaling Line",
          "Sri Petaling Line",
          "Sri Petaling Line",
          "Sri Petaling Line",
          "Sri Petaling Line",
          "Kelana Jaya Line",
          "Kelana Jaya Line",
          "Kelana Jaya Line",
          "Kelana Jaya Line",
          "Kelana Jaya Line",
          "Kelana Jaya Line",
          "Kelana Jaya Line",
          "Kelana Jaya Line",
          "Kelana Jaya Line",
          "Kelana Jaya Line",
          "Kelana Jaya Line",
          "Kelana Jaya Line",
          "Kelana Jaya Line",
          "Kelana Jaya Line",
          "Kelana Jaya Line",
          "Kelana Jaya Line",
          "Kelana Jaya Line",
          "Kelana Jaya Line",
          "Kelana Jaya Line",
          "Kelana Jaya Line",
          "Kelana Jaya Line",
          "Kelana Jaya Line",
          "Kelana Jaya Line",
          "Kelana Jaya Line",
          "Kelana Jaya Line",
          "Kelana Jaya Line",
          "Kelana Jaya Line",
          "Kelana Jaya Line",
          "Kelana Jaya Line",
          "Kelana Jaya Line",
          "Kelana Jaya Line",
          "Kelana Jaya Line",
          "Kelana Jaya Line",
          "Kelana Jaya Line",
          "Kelana Jaya Line",
          "Kelana Jaya Line",
          "Kelana Jaya Line",
          "KLIA Ekspres",
          "KLIA Ekspres",
          "KLIA Ekspres",
          "KLIA Transit",
          "KLIA Transit",
          "KLIA Transit",
          "KLIA Transit",
          "KLIA Transit",
          "KLIA Transit",
          "KL Monorail Line",
          "KL Monorail Line",
          "KL Monorail Line",
          "KL Monorail Line",
          "KL Monorail Line",
          "KL Monorail Line",
          "KL Monorail Line",
          "KL Monorail Line",
          "KL Monorail Line",
          "KL Monorail Line",
          "KL Monorail Line",
          "MRT Sungai Buloh - Kajang Line",
          "MRT Sungai Buloh - Kajang Line",
          "MRT Sungai Buloh - Kajang Line",
          "MRT Sungai Buloh - Kajang Line",
          "MRT Sungai Buloh - Kajang Line",
          "MRT Sungai Buloh - Kajang Line",
          "MRT Sungai Buloh - Kajang Line",
          "MRT Sungai Buloh - Kajang Line",
          "MRT Sungai Buloh - Kajang Line",
          "MRT Sungai Buloh - Kajang Line",
          "MRT Sungai Buloh - Kajang Line",
          "MRT Sungai Buloh - Kajang Line",
          "MRT Sungai Buloh - Kajang Line",
          "MRT Sungai Buloh - Kajang Line",
          "MRT Sungai Buloh - Kajang Line",
          "MRT Sungai Buloh - Kajang Line",
          "MRT Sungai Buloh - Kajang Line",
          "MRT Sungai Buloh - Kajang Line",
          "MRT Sungai Buloh - Kajang Line",
          "MRT Sungai Buloh - Kajang Line",
          "MRT Sungai Buloh - Kajang Line",
          "MRT Sungai Buloh - Kajang Line",
          "MRT Sungai Buloh - Kajang Line",
          "MRT Sungai Buloh - Kajang Line",
          "MRT Sungai Buloh - Kajang Line",
          "MRT Sungai Buloh - Kajang Line",
          "MRT Sungai Buloh - Kajang Line",
          "MRT Sungai Buloh - Kajang Line",
          "MRT Sungai Buloh - Kajang Line",
          "MRT Sungai Buloh - Kajang Line",
          "MRT Sungai Buloh - Kajang Line",
          "Skypark Link",
          "Skypark Link",
          "Skypark Link",
          "BRT Sunway Line",
          "BRT Sunway Line",
          "BRT Sunway Line",
          "BRT Sunway Line",
          "BRT Sunway Line",
          "BRT Sunway Line",
          "BRT Sunway Line"
         ],
         "xaxis": "x",
         "y": [
          2.01372087,
          2.17127068,
          2.48414194,
          1.48011698,
          2.1961619100000003,
          2.04364832,
          2.1467981600000003,
          2.1587216,
          2.66303866,
          2.79807204,
          0.77668935,
          1.08777585,
          0.29188265,
          0.64270174,
          1.89625466,
          1.49313344,
          1.45951211,
          1.54205525,
          1.2556628,
          0.72429019,
          2.33026197,
          1.69244408,
          1.24454468,
          1.24454468,
          0.85267845,
          2.53606819,
          1.5478033100000002,
          1.29715947,
          1.3352201499999998,
          2.0227466,
          3.05769708,
          0.77981681,
          1.2065108,
          1.24413481,
          1.33726152,
          1.44101731,
          1.49972089,
          1.69686571,
          2.04634475,
          1.58638318,
          1.1513782,
          1.62531859,
          0.86404136,
          2.59634847,
          1.64602341,
          1.8300464,
          1.77151378,
          1.41677477,
          1.1314363,
          1.06013488,
          1.5269925800000002,
          1.20257125,
          2.17071255,
          2.2585546,
          1.5659501299999998,
          0.41799525,
          2.1587216,
          2.66329878,
          2.79773503,
          2.53606819,
          2.50320723,
          2.18713898,
          2.97553758,
          3.24989455,
          2.30154847,
          2.43804193,
          3.57417472,
          2.15523282,
          3.13635847,
          2.87843455,
          2.00438714,
          1.72766469,
          2.63536614,
          1.30700796,
          2.8398799300000004,
          2.6485886,
          2.36282791,
          2.18438939,
          2.15049166,
          2.21036431,
          2.92087017,
          1.70459228,
          0.99874736,
          2.31082803,
          1.46526333,
          2.00864547,
          1.96053364,
          1.99741613,
          1.4407928799999998,
          1.78729107,
          2.56875504,
          2.50320723,
          2.18713898,
          2.97553758,
          3.24989455,
          2.30154847,
          2.43804193,
          3.57417472,
          2.15523282,
          3.13635847,
          1.23613699,
          1.80755973,
          1.28215506,
          2.87843455,
          1.16625679,
          1.48917365,
          2.00438714,
          0.73848588,
          0.96879234,
          2.14291925,
          1.7670411,
          2.55634706,
          2.5685247400000004,
          1.36584476,
          1.4989333,
          3.05360071,
          3.07315564,
          2.30392579,
          1.33235855,
          3.0407064100000003,
          2.65852396,
          3.41690366,
          2.66858784,
          2.55299055,
          2.54116602,
          2.15266294,
          2.47394872,
          1.5659501299999998,
          2.91673712,
          2.47261526,
          2.97844454,
          3.47835279,
          2.55415807,
          2.67538928,
          2.9409497200000003,
          2.27835626,
          3.16651208,
          1.0854431299999998,
          1.63097096,
          1.25523608,
          2.80011178,
          2.85647793,
          2.3320872,
          1.84844813,
          0.7644734999999999,
          0.59148389,
          2.65349169,
          1.71205727,
          0.7644734999999999,
          0.59148389,
          1.28215506,
          0.80806759,
          2.65349169,
          2.65349169,
          2.4697297,
          2.8377076,
          3.4585355000000004,
          2.89450107,
          2.31622159,
          3.18113759,
          2.86908831,
          3.18807073,
          3.43811055,
          3.43721354,
          1.39431611,
          0.77787122,
          1.84313567,
          2.4039592,
          0.93031178,
          2.63810659,
          2.6266688300000003,
          1.1560063,
          2.21364998,
          1.7190148999999997,
          1.88394972,
          1.5214177,
          2.57465602,
          2.93804371,
          2.55486237,
          3.53382386,
          1.61326365,
          2.88430088,
          3.03546832,
          2.87970501,
          2.55413829,
          2.39006463,
          1.1586145,
          1.57184147,
          1.02247819,
          1.92063742,
          1.17586881,
          1.08940472,
          2.53917369,
          3.40544625,
          1.09995471,
          0.7546312900000001,
          1.1513782,
          2.65349169,
          2.84510193,
          1.19718294,
          2.25366035,
          2.12975314,
          2.1030639,
          1.89476671,
          1.70544332
         ],
         "yaxis": "y"
        }
       ],
       "layout": {
        "barmode": "group",
        "legend": {
         "title": {
          "text": "variable"
         },
         "tracegroupgap": 0
        },
        "template": {
         "data": {
          "bar": [
           {
            "error_x": {
             "color": "#2a3f5f"
            },
            "error_y": {
             "color": "#2a3f5f"
            },
            "marker": {
             "line": {
              "color": "#E5ECF6",
              "width": 0.5
             }
            },
            "type": "bar"
           }
          ],
          "barpolar": [
           {
            "marker": {
             "line": {
              "color": "#E5ECF6",
              "width": 0.5
             }
            },
            "type": "barpolar"
           }
          ],
          "carpet": [
           {
            "aaxis": {
             "endlinecolor": "#2a3f5f",
             "gridcolor": "white",
             "linecolor": "white",
             "minorgridcolor": "white",
             "startlinecolor": "#2a3f5f"
            },
            "baxis": {
             "endlinecolor": "#2a3f5f",
             "gridcolor": "white",
             "linecolor": "white",
             "minorgridcolor": "white",
             "startlinecolor": "#2a3f5f"
            },
            "type": "carpet"
           }
          ],
          "choropleth": [
           {
            "colorbar": {
             "outlinewidth": 0,
             "ticks": ""
            },
            "type": "choropleth"
           }
          ],
          "contour": [
           {
            "colorbar": {
             "outlinewidth": 0,
             "ticks": ""
            },
            "colorscale": [
             [
              0,
              "#0d0887"
             ],
             [
              0.1111111111111111,
              "#46039f"
             ],
             [
              0.2222222222222222,
              "#7201a8"
             ],
             [
              0.3333333333333333,
              "#9c179e"
             ],
             [
              0.4444444444444444,
              "#bd3786"
             ],
             [
              0.5555555555555556,
              "#d8576b"
             ],
             [
              0.6666666666666666,
              "#ed7953"
             ],
             [
              0.7777777777777778,
              "#fb9f3a"
             ],
             [
              0.8888888888888888,
              "#fdca26"
             ],
             [
              1,
              "#f0f921"
             ]
            ],
            "type": "contour"
           }
          ],
          "contourcarpet": [
           {
            "colorbar": {
             "outlinewidth": 0,
             "ticks": ""
            },
            "type": "contourcarpet"
           }
          ],
          "heatmap": [
           {
            "colorbar": {
             "outlinewidth": 0,
             "ticks": ""
            },
            "colorscale": [
             [
              0,
              "#0d0887"
             ],
             [
              0.1111111111111111,
              "#46039f"
             ],
             [
              0.2222222222222222,
              "#7201a8"
             ],
             [
              0.3333333333333333,
              "#9c179e"
             ],
             [
              0.4444444444444444,
              "#bd3786"
             ],
             [
              0.5555555555555556,
              "#d8576b"
             ],
             [
              0.6666666666666666,
              "#ed7953"
             ],
             [
              0.7777777777777778,
              "#fb9f3a"
             ],
             [
              0.8888888888888888,
              "#fdca26"
             ],
             [
              1,
              "#f0f921"
             ]
            ],
            "type": "heatmap"
           }
          ],
          "heatmapgl": [
           {
            "colorbar": {
             "outlinewidth": 0,
             "ticks": ""
            },
            "colorscale": [
             [
              0,
              "#0d0887"
             ],
             [
              0.1111111111111111,
              "#46039f"
             ],
             [
              0.2222222222222222,
              "#7201a8"
             ],
             [
              0.3333333333333333,
              "#9c179e"
             ],
             [
              0.4444444444444444,
              "#bd3786"
             ],
             [
              0.5555555555555556,
              "#d8576b"
             ],
             [
              0.6666666666666666,
              "#ed7953"
             ],
             [
              0.7777777777777778,
              "#fb9f3a"
             ],
             [
              0.8888888888888888,
              "#fdca26"
             ],
             [
              1,
              "#f0f921"
             ]
            ],
            "type": "heatmapgl"
           }
          ],
          "histogram": [
           {
            "marker": {
             "colorbar": {
              "outlinewidth": 0,
              "ticks": ""
             }
            },
            "type": "histogram"
           }
          ],
          "histogram2d": [
           {
            "colorbar": {
             "outlinewidth": 0,
             "ticks": ""
            },
            "colorscale": [
             [
              0,
              "#0d0887"
             ],
             [
              0.1111111111111111,
              "#46039f"
             ],
             [
              0.2222222222222222,
              "#7201a8"
             ],
             [
              0.3333333333333333,
              "#9c179e"
             ],
             [
              0.4444444444444444,
              "#bd3786"
             ],
             [
              0.5555555555555556,
              "#d8576b"
             ],
             [
              0.6666666666666666,
              "#ed7953"
             ],
             [
              0.7777777777777778,
              "#fb9f3a"
             ],
             [
              0.8888888888888888,
              "#fdca26"
             ],
             [
              1,
              "#f0f921"
             ]
            ],
            "type": "histogram2d"
           }
          ],
          "histogram2dcontour": [
           {
            "colorbar": {
             "outlinewidth": 0,
             "ticks": ""
            },
            "colorscale": [
             [
              0,
              "#0d0887"
             ],
             [
              0.1111111111111111,
              "#46039f"
             ],
             [
              0.2222222222222222,
              "#7201a8"
             ],
             [
              0.3333333333333333,
              "#9c179e"
             ],
             [
              0.4444444444444444,
              "#bd3786"
             ],
             [
              0.5555555555555556,
              "#d8576b"
             ],
             [
              0.6666666666666666,
              "#ed7953"
             ],
             [
              0.7777777777777778,
              "#fb9f3a"
             ],
             [
              0.8888888888888888,
              "#fdca26"
             ],
             [
              1,
              "#f0f921"
             ]
            ],
            "type": "histogram2dcontour"
           }
          ],
          "mesh3d": [
           {
            "colorbar": {
             "outlinewidth": 0,
             "ticks": ""
            },
            "type": "mesh3d"
           }
          ],
          "parcoords": [
           {
            "line": {
             "colorbar": {
              "outlinewidth": 0,
              "ticks": ""
             }
            },
            "type": "parcoords"
           }
          ],
          "pie": [
           {
            "automargin": true,
            "type": "pie"
           }
          ],
          "scatter": [
           {
            "marker": {
             "colorbar": {
              "outlinewidth": 0,
              "ticks": ""
             }
            },
            "type": "scatter"
           }
          ],
          "scatter3d": [
           {
            "line": {
             "colorbar": {
              "outlinewidth": 0,
              "ticks": ""
             }
            },
            "marker": {
             "colorbar": {
              "outlinewidth": 0,
              "ticks": ""
             }
            },
            "type": "scatter3d"
           }
          ],
          "scattercarpet": [
           {
            "marker": {
             "colorbar": {
              "outlinewidth": 0,
              "ticks": ""
             }
            },
            "type": "scattercarpet"
           }
          ],
          "scattergeo": [
           {
            "marker": {
             "colorbar": {
              "outlinewidth": 0,
              "ticks": ""
             }
            },
            "type": "scattergeo"
           }
          ],
          "scattergl": [
           {
            "marker": {
             "colorbar": {
              "outlinewidth": 0,
              "ticks": ""
             }
            },
            "type": "scattergl"
           }
          ],
          "scattermapbox": [
           {
            "marker": {
             "colorbar": {
              "outlinewidth": 0,
              "ticks": ""
             }
            },
            "type": "scattermapbox"
           }
          ],
          "scatterpolar": [
           {
            "marker": {
             "colorbar": {
              "outlinewidth": 0,
              "ticks": ""
             }
            },
            "type": "scatterpolar"
           }
          ],
          "scatterpolargl": [
           {
            "marker": {
             "colorbar": {
              "outlinewidth": 0,
              "ticks": ""
             }
            },
            "type": "scatterpolargl"
           }
          ],
          "scatterternary": [
           {
            "marker": {
             "colorbar": {
              "outlinewidth": 0,
              "ticks": ""
             }
            },
            "type": "scatterternary"
           }
          ],
          "surface": [
           {
            "colorbar": {
             "outlinewidth": 0,
             "ticks": ""
            },
            "colorscale": [
             [
              0,
              "#0d0887"
             ],
             [
              0.1111111111111111,
              "#46039f"
             ],
             [
              0.2222222222222222,
              "#7201a8"
             ],
             [
              0.3333333333333333,
              "#9c179e"
             ],
             [
              0.4444444444444444,
              "#bd3786"
             ],
             [
              0.5555555555555556,
              "#d8576b"
             ],
             [
              0.6666666666666666,
              "#ed7953"
             ],
             [
              0.7777777777777778,
              "#fb9f3a"
             ],
             [
              0.8888888888888888,
              "#fdca26"
             ],
             [
              1,
              "#f0f921"
             ]
            ],
            "type": "surface"
           }
          ],
          "table": [
           {
            "cells": {
             "fill": {
              "color": "#EBF0F8"
             },
             "line": {
              "color": "white"
             }
            },
            "header": {
             "fill": {
              "color": "#C8D4E3"
             },
             "line": {
              "color": "white"
             }
            },
            "type": "table"
           }
          ]
         },
         "layout": {
          "annotationdefaults": {
           "arrowcolor": "#2a3f5f",
           "arrowhead": 0,
           "arrowwidth": 1
          },
          "coloraxis": {
           "colorbar": {
            "outlinewidth": 0,
            "ticks": ""
           }
          },
          "colorscale": {
           "diverging": [
            [
             0,
             "#8e0152"
            ],
            [
             0.1,
             "#c51b7d"
            ],
            [
             0.2,
             "#de77ae"
            ],
            [
             0.3,
             "#f1b6da"
            ],
            [
             0.4,
             "#fde0ef"
            ],
            [
             0.5,
             "#f7f7f7"
            ],
            [
             0.6,
             "#e6f5d0"
            ],
            [
             0.7,
             "#b8e186"
            ],
            [
             0.8,
             "#7fbc41"
            ],
            [
             0.9,
             "#4d9221"
            ],
            [
             1,
             "#276419"
            ]
           ],
           "sequential": [
            [
             0,
             "#0d0887"
            ],
            [
             0.1111111111111111,
             "#46039f"
            ],
            [
             0.2222222222222222,
             "#7201a8"
            ],
            [
             0.3333333333333333,
             "#9c179e"
            ],
            [
             0.4444444444444444,
             "#bd3786"
            ],
            [
             0.5555555555555556,
             "#d8576b"
            ],
            [
             0.6666666666666666,
             "#ed7953"
            ],
            [
             0.7777777777777778,
             "#fb9f3a"
            ],
            [
             0.8888888888888888,
             "#fdca26"
            ],
            [
             1,
             "#f0f921"
            ]
           ],
           "sequentialminus": [
            [
             0,
             "#0d0887"
            ],
            [
             0.1111111111111111,
             "#46039f"
            ],
            [
             0.2222222222222222,
             "#7201a8"
            ],
            [
             0.3333333333333333,
             "#9c179e"
            ],
            [
             0.4444444444444444,
             "#bd3786"
            ],
            [
             0.5555555555555556,
             "#d8576b"
            ],
            [
             0.6666666666666666,
             "#ed7953"
            ],
            [
             0.7777777777777778,
             "#fb9f3a"
            ],
            [
             0.8888888888888888,
             "#fdca26"
            ],
            [
             1,
             "#f0f921"
            ]
           ]
          },
          "colorway": [
           "#636efa",
           "#EF553B",
           "#00cc96",
           "#ab63fa",
           "#FFA15A",
           "#19d3f3",
           "#FF6692",
           "#B6E880",
           "#FF97FF",
           "#FECB52"
          ],
          "font": {
           "color": "#2a3f5f"
          },
          "geo": {
           "bgcolor": "white",
           "lakecolor": "white",
           "landcolor": "#E5ECF6",
           "showlakes": true,
           "showland": true,
           "subunitcolor": "white"
          },
          "hoverlabel": {
           "align": "left"
          },
          "hovermode": "closest",
          "mapbox": {
           "style": "light"
          },
          "paper_bgcolor": "white",
          "plot_bgcolor": "#E5ECF6",
          "polar": {
           "angularaxis": {
            "gridcolor": "white",
            "linecolor": "white",
            "ticks": ""
           },
           "bgcolor": "#E5ECF6",
           "radialaxis": {
            "gridcolor": "white",
            "linecolor": "white",
            "ticks": ""
           }
          },
          "scene": {
           "xaxis": {
            "backgroundcolor": "#E5ECF6",
            "gridcolor": "white",
            "gridwidth": 2,
            "linecolor": "white",
            "showbackground": true,
            "ticks": "",
            "zerolinecolor": "white"
           },
           "yaxis": {
            "backgroundcolor": "#E5ECF6",
            "gridcolor": "white",
            "gridwidth": 2,
            "linecolor": "white",
            "showbackground": true,
            "ticks": "",
            "zerolinecolor": "white"
           },
           "zaxis": {
            "backgroundcolor": "#E5ECF6",
            "gridcolor": "white",
            "gridwidth": 2,
            "linecolor": "white",
            "showbackground": true,
            "ticks": "",
            "zerolinecolor": "white"
           }
          },
          "shapedefaults": {
           "line": {
            "color": "#2a3f5f"
           }
          },
          "ternary": {
           "aaxis": {
            "gridcolor": "white",
            "linecolor": "white",
            "ticks": ""
           },
           "baxis": {
            "gridcolor": "white",
            "linecolor": "white",
            "ticks": ""
           },
           "bgcolor": "#E5ECF6",
           "caxis": {
            "gridcolor": "white",
            "linecolor": "white",
            "ticks": ""
           }
          },
          "title": {
           "x": 0.05
          },
          "xaxis": {
           "automargin": true,
           "gridcolor": "white",
           "linecolor": "white",
           "ticks": "",
           "title": {
            "standoff": 15
           },
           "zerolinecolor": "white",
           "zerolinewidth": 2
          },
          "yaxis": {
           "automargin": true,
           "gridcolor": "white",
           "linecolor": "white",
           "ticks": "",
           "title": {
            "standoff": 15
           },
           "zerolinecolor": "white",
           "zerolinewidth": 2
          }
         }
        },
        "title": {
         "text": "Area coverage within walking times from station"
        },
        "xaxis": {
         "anchor": "y",
         "categoryorder": "total ascending",
         "domain": [
          0,
          1
         ],
         "title": {
          "text": "Lines"
         }
        },
        "yaxis": {
         "anchor": "x",
         "domain": [
          0,
          1
         ],
         "title": {
          "text": "avg of Walk Area Coverage(km^2)"
         }
        }
       }
      }
     },
     "metadata": {},
     "output_type": "display_data"
    }
   ],
   "source": [
    "# draws histograms for RapidKL lines' 5 minute walking area coverage\n",
    "fig = px.histogram(data_all[(data_all[\"City\"]=='Kuala Lumpur') &(data_all[\"Service Provider Name\"]=='Rapid KL')]\n",
    "             ,x='Route Name'\n",
    "             ,y='5 Minute Range Area'\n",
    "             , barmode = 'group'\n",
    "             , title=\"Area coverage within 5 minutes walk from station\"\n",
    "             , template='plotly'\n",
    "             , histfunc = 'avg'\n",
    "             ,labels={'Route Name': \"Lines\", '5 Minute Range Area' : \"5 Minutes Walk Area(km^2)\"}\n",
    "            ).update_xaxes(categoryorder='total ascending')\n",
    "fig.update_layout(showlegend=False)\n",
    "fig.show() \n",
    "\n",
    "# draws histograms for RapidKL lines' 10 minute walking area coverage\n",
    "fig = px.histogram(data_all[(data_all[\"City\"]=='Kuala Lumpur') &(data_all[\"Service Provider Name\"]=='Rapid KL')]\n",
    "             ,x='Route Name'\n",
    "             ,y='10 Minute Range Area'\n",
    "             , barmode = 'group'\n",
    "             , title=\"Area coverage within 10 minutes walk from station\"\n",
    "             , template='plotly'\n",
    "             , histfunc = 'avg'\n",
    "             ,labels={'Route Name': \"Lines\", '10 Minute Range Area' : \"10 Minutes Walk Area(km^2)\"}\n",
    "            ).update_xaxes(categoryorder='total ascending')\n",
    "fig.update_layout(showlegend=False)\n",
    "fig.show()\n",
    "\n",
    "# draws histograms for RapidKL lines' 15 minute walking area coverage\n",
    "fig = px.histogram(data_all[(data_all[\"City\"]=='Kuala Lumpur') &(data_all[\"Service Provider Name\"]=='Rapid KL')]\n",
    "             ,x='Route Name'\n",
    "             ,y='15 Minute Range Area'\n",
    "             , barmode = 'group'\n",
    "             , title=\"Area coverage within 15 minutes walk from station\"\n",
    "             , template='plotly'\n",
    "             , histfunc = 'avg'\n",
    "             ,labels={'Route Name': \"Lines\", '15 Minute Range Area' : \"15 Minutes Walk Area(km^2)\"}\n",
    "            ).update_xaxes(categoryorder='total ascending')\n",
    "fig.update_layout(showlegend=False)\n",
    "fig.show() \n",
    "\n",
    "# draws all coverage in one chart along with all train lines\n",
    "fig = px.histogram(data_all[(data_all[\"City\"]=='Kuala Lumpur') ]\n",
    "             ,x='Route Name'\n",
    "             ,y=['5 Minute Range Area','10 Minute Range Area','15 Minute Range Area']\n",
    "             , barmode = 'group'\n",
    "             , title=\"Area coverage within walking times from station\"\n",
    "             , template='plotly'\n",
    "             , histfunc = 'avg'\n",
    "             ,labels={'Route Name': \"Lines\",'value' : \"Walk Area Coverage(km^2)\"}\n",
    "            ).update_xaxes(categoryorder='total ascending')\n",
    "\n",
    "fig.show()       "
   ]
  },
  {
   "cell_type": "code",
   "execution_count": 5,
   "metadata": {},
   "outputs": [
    {
     "data": {
      "application/vnd.plotly.v1+json": {
       "config": {
        "plotlyServerURL": "https://plot.ly"
       },
       "data": [
        {
         "alignmentgroup": "True",
         "bingroup": "x",
         "histfunc": "avg",
         "hovertemplate": "Lines=%{x}<br>avg of Population Coverage=%{y}<extra></extra>",
         "legendgroup": "",
         "marker": {
          "color": "#636efa"
         },
         "name": "",
         "offsetgroup": "",
         "orientation": "v",
         "showlegend": false,
         "type": "histogram",
         "x": [
          "Ampang Line",
          "Ampang Line",
          "Ampang Line",
          "Ampang Line",
          "Ampang Line",
          "Ampang Line",
          "Ampang Line",
          "Ampang Line",
          "Ampang Line",
          "Ampang Line",
          "Ampang Line",
          "Ampang Line",
          "Ampang Line",
          "Ampang Line",
          "Ampang Line",
          "Ampang Line",
          "Ampang Line",
          "Ampang Line",
          "Sri Petaling Line",
          "Sri Petaling Line",
          "Sri Petaling Line",
          "Sri Petaling Line",
          "Sri Petaling Line",
          "Sri Petaling Line",
          "Sri Petaling Line",
          "Sri Petaling Line",
          "Sri Petaling Line",
          "Sri Petaling Line",
          "Sri Petaling Line",
          "Sri Petaling Line",
          "Sri Petaling Line",
          "Sri Petaling Line",
          "Sri Petaling Line",
          "Sri Petaling Line",
          "Sri Petaling Line",
          "Sri Petaling Line",
          "Sri Petaling Line",
          "Sri Petaling Line",
          "Sri Petaling Line",
          "Sri Petaling Line",
          "Sri Petaling Line",
          "Sri Petaling Line",
          "Sri Petaling Line",
          "Sri Petaling Line",
          "Sri Petaling Line",
          "Sri Petaling Line",
          "Sri Petaling Line",
          "Kelana Jaya Line",
          "Kelana Jaya Line",
          "Kelana Jaya Line",
          "Kelana Jaya Line",
          "Kelana Jaya Line",
          "Kelana Jaya Line",
          "Kelana Jaya Line",
          "Kelana Jaya Line",
          "Kelana Jaya Line",
          "Kelana Jaya Line",
          "Kelana Jaya Line",
          "Kelana Jaya Line",
          "Kelana Jaya Line",
          "Kelana Jaya Line",
          "Kelana Jaya Line",
          "Kelana Jaya Line",
          "Kelana Jaya Line",
          "Kelana Jaya Line",
          "Kelana Jaya Line",
          "Kelana Jaya Line",
          "Kelana Jaya Line",
          "Kelana Jaya Line",
          "Kelana Jaya Line",
          "Kelana Jaya Line",
          "Kelana Jaya Line",
          "Kelana Jaya Line",
          "Kelana Jaya Line",
          "Kelana Jaya Line",
          "Kelana Jaya Line",
          "Kelana Jaya Line",
          "Kelana Jaya Line",
          "Kelana Jaya Line",
          "Kelana Jaya Line",
          "Kelana Jaya Line",
          "Kelana Jaya Line",
          "Kelana Jaya Line",
          "Kelana Jaya Line",
          "KL Monorail Line",
          "KL Monorail Line",
          "KL Monorail Line",
          "KL Monorail Line",
          "KL Monorail Line",
          "KL Monorail Line",
          "KL Monorail Line",
          "KL Monorail Line",
          "KL Monorail Line",
          "KL Monorail Line",
          "KL Monorail Line",
          "MRT Sungai Buloh - Kajang Line",
          "MRT Sungai Buloh - Kajang Line",
          "MRT Sungai Buloh - Kajang Line",
          "MRT Sungai Buloh - Kajang Line",
          "MRT Sungai Buloh - Kajang Line",
          "MRT Sungai Buloh - Kajang Line",
          "MRT Sungai Buloh - Kajang Line",
          "MRT Sungai Buloh - Kajang Line",
          "MRT Sungai Buloh - Kajang Line",
          "MRT Sungai Buloh - Kajang Line",
          "MRT Sungai Buloh - Kajang Line",
          "MRT Sungai Buloh - Kajang Line",
          "MRT Sungai Buloh - Kajang Line",
          "MRT Sungai Buloh - Kajang Line",
          "MRT Sungai Buloh - Kajang Line",
          "MRT Sungai Buloh - Kajang Line",
          "MRT Sungai Buloh - Kajang Line",
          "MRT Sungai Buloh - Kajang Line",
          "MRT Sungai Buloh - Kajang Line",
          "MRT Sungai Buloh - Kajang Line",
          "MRT Sungai Buloh - Kajang Line",
          "MRT Sungai Buloh - Kajang Line",
          "MRT Sungai Buloh - Kajang Line",
          "MRT Sungai Buloh - Kajang Line",
          "MRT Sungai Buloh - Kajang Line",
          "MRT Sungai Buloh - Kajang Line",
          "MRT Sungai Buloh - Kajang Line",
          "MRT Sungai Buloh - Kajang Line",
          "MRT Sungai Buloh - Kajang Line",
          "MRT Sungai Buloh - Kajang Line",
          "MRT Sungai Buloh - Kajang Line"
         ],
         "xaxis": "x",
         "y": [
          2186,
          845,
          2141,
          3133,
          847,
          1729,
          2248,
          456,
          2779,
          1788,
          456,
          1020,
          892,
          814,
          3618,
          2741,
          1829,
          1832,
          764,
          2655,
          3544,
          2377,
          1288,
          2431,
          1617,
          619,
          1025,
          2955,
          495,
          629,
          2502,
          2186,
          845,
          2141,
          3133,
          847,
          1729,
          2248,
          456,
          2779,
          967,
          1694,
          606,
          1788,
          1076,
          930,
          456,
          0,
          0,
          501,
          754,
          1667,
          1245,
          1069,
          659,
          1939,
          1885,
          631,
          0,
          2002,
          1694,
          2101,
          606,
          1274,
          824,
          2000,
          1555,
          433,
          1785,
          1809,
          1803,
          2254,
          1360,
          910,
          2194,
          1285,
          3353,
          1060,
          906,
          834,
          1767,
          1369,
          2023,
          982,
          1822,
          2780,
          1353,
          3169,
          913,
          1053,
          1574,
          345,
          1808,
          1819,
          2258,
          75,
          339,
          443,
          867,
          335,
          1148,
          1333,
          512,
          1440,
          316,
          526,
          1122,
          1031,
          1803,
          1328,
          2258,
          456,
          2227,
          1348,
          2725,
          1124,
          1666,
          1915,
          515,
          502,
          1005,
          1532,
          485,
          1765,
          2222,
          1622
         ],
         "yaxis": "y"
        }
       ],
       "layout": {
        "barmode": "group",
        "legend": {
         "tracegroupgap": 0
        },
        "showlegend": false,
        "template": {
         "data": {
          "bar": [
           {
            "error_x": {
             "color": "#2a3f5f"
            },
            "error_y": {
             "color": "#2a3f5f"
            },
            "marker": {
             "line": {
              "color": "#E5ECF6",
              "width": 0.5
             }
            },
            "type": "bar"
           }
          ],
          "barpolar": [
           {
            "marker": {
             "line": {
              "color": "#E5ECF6",
              "width": 0.5
             }
            },
            "type": "barpolar"
           }
          ],
          "carpet": [
           {
            "aaxis": {
             "endlinecolor": "#2a3f5f",
             "gridcolor": "white",
             "linecolor": "white",
             "minorgridcolor": "white",
             "startlinecolor": "#2a3f5f"
            },
            "baxis": {
             "endlinecolor": "#2a3f5f",
             "gridcolor": "white",
             "linecolor": "white",
             "minorgridcolor": "white",
             "startlinecolor": "#2a3f5f"
            },
            "type": "carpet"
           }
          ],
          "choropleth": [
           {
            "colorbar": {
             "outlinewidth": 0,
             "ticks": ""
            },
            "type": "choropleth"
           }
          ],
          "contour": [
           {
            "colorbar": {
             "outlinewidth": 0,
             "ticks": ""
            },
            "colorscale": [
             [
              0,
              "#0d0887"
             ],
             [
              0.1111111111111111,
              "#46039f"
             ],
             [
              0.2222222222222222,
              "#7201a8"
             ],
             [
              0.3333333333333333,
              "#9c179e"
             ],
             [
              0.4444444444444444,
              "#bd3786"
             ],
             [
              0.5555555555555556,
              "#d8576b"
             ],
             [
              0.6666666666666666,
              "#ed7953"
             ],
             [
              0.7777777777777778,
              "#fb9f3a"
             ],
             [
              0.8888888888888888,
              "#fdca26"
             ],
             [
              1,
              "#f0f921"
             ]
            ],
            "type": "contour"
           }
          ],
          "contourcarpet": [
           {
            "colorbar": {
             "outlinewidth": 0,
             "ticks": ""
            },
            "type": "contourcarpet"
           }
          ],
          "heatmap": [
           {
            "colorbar": {
             "outlinewidth": 0,
             "ticks": ""
            },
            "colorscale": [
             [
              0,
              "#0d0887"
             ],
             [
              0.1111111111111111,
              "#46039f"
             ],
             [
              0.2222222222222222,
              "#7201a8"
             ],
             [
              0.3333333333333333,
              "#9c179e"
             ],
             [
              0.4444444444444444,
              "#bd3786"
             ],
             [
              0.5555555555555556,
              "#d8576b"
             ],
             [
              0.6666666666666666,
              "#ed7953"
             ],
             [
              0.7777777777777778,
              "#fb9f3a"
             ],
             [
              0.8888888888888888,
              "#fdca26"
             ],
             [
              1,
              "#f0f921"
             ]
            ],
            "type": "heatmap"
           }
          ],
          "heatmapgl": [
           {
            "colorbar": {
             "outlinewidth": 0,
             "ticks": ""
            },
            "colorscale": [
             [
              0,
              "#0d0887"
             ],
             [
              0.1111111111111111,
              "#46039f"
             ],
             [
              0.2222222222222222,
              "#7201a8"
             ],
             [
              0.3333333333333333,
              "#9c179e"
             ],
             [
              0.4444444444444444,
              "#bd3786"
             ],
             [
              0.5555555555555556,
              "#d8576b"
             ],
             [
              0.6666666666666666,
              "#ed7953"
             ],
             [
              0.7777777777777778,
              "#fb9f3a"
             ],
             [
              0.8888888888888888,
              "#fdca26"
             ],
             [
              1,
              "#f0f921"
             ]
            ],
            "type": "heatmapgl"
           }
          ],
          "histogram": [
           {
            "marker": {
             "colorbar": {
              "outlinewidth": 0,
              "ticks": ""
             }
            },
            "type": "histogram"
           }
          ],
          "histogram2d": [
           {
            "colorbar": {
             "outlinewidth": 0,
             "ticks": ""
            },
            "colorscale": [
             [
              0,
              "#0d0887"
             ],
             [
              0.1111111111111111,
              "#46039f"
             ],
             [
              0.2222222222222222,
              "#7201a8"
             ],
             [
              0.3333333333333333,
              "#9c179e"
             ],
             [
              0.4444444444444444,
              "#bd3786"
             ],
             [
              0.5555555555555556,
              "#d8576b"
             ],
             [
              0.6666666666666666,
              "#ed7953"
             ],
             [
              0.7777777777777778,
              "#fb9f3a"
             ],
             [
              0.8888888888888888,
              "#fdca26"
             ],
             [
              1,
              "#f0f921"
             ]
            ],
            "type": "histogram2d"
           }
          ],
          "histogram2dcontour": [
           {
            "colorbar": {
             "outlinewidth": 0,
             "ticks": ""
            },
            "colorscale": [
             [
              0,
              "#0d0887"
             ],
             [
              0.1111111111111111,
              "#46039f"
             ],
             [
              0.2222222222222222,
              "#7201a8"
             ],
             [
              0.3333333333333333,
              "#9c179e"
             ],
             [
              0.4444444444444444,
              "#bd3786"
             ],
             [
              0.5555555555555556,
              "#d8576b"
             ],
             [
              0.6666666666666666,
              "#ed7953"
             ],
             [
              0.7777777777777778,
              "#fb9f3a"
             ],
             [
              0.8888888888888888,
              "#fdca26"
             ],
             [
              1,
              "#f0f921"
             ]
            ],
            "type": "histogram2dcontour"
           }
          ],
          "mesh3d": [
           {
            "colorbar": {
             "outlinewidth": 0,
             "ticks": ""
            },
            "type": "mesh3d"
           }
          ],
          "parcoords": [
           {
            "line": {
             "colorbar": {
              "outlinewidth": 0,
              "ticks": ""
             }
            },
            "type": "parcoords"
           }
          ],
          "pie": [
           {
            "automargin": true,
            "type": "pie"
           }
          ],
          "scatter": [
           {
            "marker": {
             "colorbar": {
              "outlinewidth": 0,
              "ticks": ""
             }
            },
            "type": "scatter"
           }
          ],
          "scatter3d": [
           {
            "line": {
             "colorbar": {
              "outlinewidth": 0,
              "ticks": ""
             }
            },
            "marker": {
             "colorbar": {
              "outlinewidth": 0,
              "ticks": ""
             }
            },
            "type": "scatter3d"
           }
          ],
          "scattercarpet": [
           {
            "marker": {
             "colorbar": {
              "outlinewidth": 0,
              "ticks": ""
             }
            },
            "type": "scattercarpet"
           }
          ],
          "scattergeo": [
           {
            "marker": {
             "colorbar": {
              "outlinewidth": 0,
              "ticks": ""
             }
            },
            "type": "scattergeo"
           }
          ],
          "scattergl": [
           {
            "marker": {
             "colorbar": {
              "outlinewidth": 0,
              "ticks": ""
             }
            },
            "type": "scattergl"
           }
          ],
          "scattermapbox": [
           {
            "marker": {
             "colorbar": {
              "outlinewidth": 0,
              "ticks": ""
             }
            },
            "type": "scattermapbox"
           }
          ],
          "scatterpolar": [
           {
            "marker": {
             "colorbar": {
              "outlinewidth": 0,
              "ticks": ""
             }
            },
            "type": "scatterpolar"
           }
          ],
          "scatterpolargl": [
           {
            "marker": {
             "colorbar": {
              "outlinewidth": 0,
              "ticks": ""
             }
            },
            "type": "scatterpolargl"
           }
          ],
          "scatterternary": [
           {
            "marker": {
             "colorbar": {
              "outlinewidth": 0,
              "ticks": ""
             }
            },
            "type": "scatterternary"
           }
          ],
          "surface": [
           {
            "colorbar": {
             "outlinewidth": 0,
             "ticks": ""
            },
            "colorscale": [
             [
              0,
              "#0d0887"
             ],
             [
              0.1111111111111111,
              "#46039f"
             ],
             [
              0.2222222222222222,
              "#7201a8"
             ],
             [
              0.3333333333333333,
              "#9c179e"
             ],
             [
              0.4444444444444444,
              "#bd3786"
             ],
             [
              0.5555555555555556,
              "#d8576b"
             ],
             [
              0.6666666666666666,
              "#ed7953"
             ],
             [
              0.7777777777777778,
              "#fb9f3a"
             ],
             [
              0.8888888888888888,
              "#fdca26"
             ],
             [
              1,
              "#f0f921"
             ]
            ],
            "type": "surface"
           }
          ],
          "table": [
           {
            "cells": {
             "fill": {
              "color": "#EBF0F8"
             },
             "line": {
              "color": "white"
             }
            },
            "header": {
             "fill": {
              "color": "#C8D4E3"
             },
             "line": {
              "color": "white"
             }
            },
            "type": "table"
           }
          ]
         },
         "layout": {
          "annotationdefaults": {
           "arrowcolor": "#2a3f5f",
           "arrowhead": 0,
           "arrowwidth": 1
          },
          "coloraxis": {
           "colorbar": {
            "outlinewidth": 0,
            "ticks": ""
           }
          },
          "colorscale": {
           "diverging": [
            [
             0,
             "#8e0152"
            ],
            [
             0.1,
             "#c51b7d"
            ],
            [
             0.2,
             "#de77ae"
            ],
            [
             0.3,
             "#f1b6da"
            ],
            [
             0.4,
             "#fde0ef"
            ],
            [
             0.5,
             "#f7f7f7"
            ],
            [
             0.6,
             "#e6f5d0"
            ],
            [
             0.7,
             "#b8e186"
            ],
            [
             0.8,
             "#7fbc41"
            ],
            [
             0.9,
             "#4d9221"
            ],
            [
             1,
             "#276419"
            ]
           ],
           "sequential": [
            [
             0,
             "#0d0887"
            ],
            [
             0.1111111111111111,
             "#46039f"
            ],
            [
             0.2222222222222222,
             "#7201a8"
            ],
            [
             0.3333333333333333,
             "#9c179e"
            ],
            [
             0.4444444444444444,
             "#bd3786"
            ],
            [
             0.5555555555555556,
             "#d8576b"
            ],
            [
             0.6666666666666666,
             "#ed7953"
            ],
            [
             0.7777777777777778,
             "#fb9f3a"
            ],
            [
             0.8888888888888888,
             "#fdca26"
            ],
            [
             1,
             "#f0f921"
            ]
           ],
           "sequentialminus": [
            [
             0,
             "#0d0887"
            ],
            [
             0.1111111111111111,
             "#46039f"
            ],
            [
             0.2222222222222222,
             "#7201a8"
            ],
            [
             0.3333333333333333,
             "#9c179e"
            ],
            [
             0.4444444444444444,
             "#bd3786"
            ],
            [
             0.5555555555555556,
             "#d8576b"
            ],
            [
             0.6666666666666666,
             "#ed7953"
            ],
            [
             0.7777777777777778,
             "#fb9f3a"
            ],
            [
             0.8888888888888888,
             "#fdca26"
            ],
            [
             1,
             "#f0f921"
            ]
           ]
          },
          "colorway": [
           "#636efa",
           "#EF553B",
           "#00cc96",
           "#ab63fa",
           "#FFA15A",
           "#19d3f3",
           "#FF6692",
           "#B6E880",
           "#FF97FF",
           "#FECB52"
          ],
          "font": {
           "color": "#2a3f5f"
          },
          "geo": {
           "bgcolor": "white",
           "lakecolor": "white",
           "landcolor": "#E5ECF6",
           "showlakes": true,
           "showland": true,
           "subunitcolor": "white"
          },
          "hoverlabel": {
           "align": "left"
          },
          "hovermode": "closest",
          "mapbox": {
           "style": "light"
          },
          "paper_bgcolor": "white",
          "plot_bgcolor": "#E5ECF6",
          "polar": {
           "angularaxis": {
            "gridcolor": "white",
            "linecolor": "white",
            "ticks": ""
           },
           "bgcolor": "#E5ECF6",
           "radialaxis": {
            "gridcolor": "white",
            "linecolor": "white",
            "ticks": ""
           }
          },
          "scene": {
           "xaxis": {
            "backgroundcolor": "#E5ECF6",
            "gridcolor": "white",
            "gridwidth": 2,
            "linecolor": "white",
            "showbackground": true,
            "ticks": "",
            "zerolinecolor": "white"
           },
           "yaxis": {
            "backgroundcolor": "#E5ECF6",
            "gridcolor": "white",
            "gridwidth": 2,
            "linecolor": "white",
            "showbackground": true,
            "ticks": "",
            "zerolinecolor": "white"
           },
           "zaxis": {
            "backgroundcolor": "#E5ECF6",
            "gridcolor": "white",
            "gridwidth": 2,
            "linecolor": "white",
            "showbackground": true,
            "ticks": "",
            "zerolinecolor": "white"
           }
          },
          "shapedefaults": {
           "line": {
            "color": "#2a3f5f"
           }
          },
          "ternary": {
           "aaxis": {
            "gridcolor": "white",
            "linecolor": "white",
            "ticks": ""
           },
           "baxis": {
            "gridcolor": "white",
            "linecolor": "white",
            "ticks": ""
           },
           "bgcolor": "#E5ECF6",
           "caxis": {
            "gridcolor": "white",
            "linecolor": "white",
            "ticks": ""
           }
          },
          "title": {
           "x": 0.05
          },
          "xaxis": {
           "automargin": true,
           "gridcolor": "white",
           "linecolor": "white",
           "ticks": "",
           "title": {
            "standoff": 15
           },
           "zerolinecolor": "white",
           "zerolinewidth": 2
          },
          "yaxis": {
           "automargin": true,
           "gridcolor": "white",
           "linecolor": "white",
           "ticks": "",
           "title": {
            "standoff": 15
           },
           "zerolinecolor": "white",
           "zerolinewidth": 2
          }
         }
        },
        "title": {
         "text": "Population covered within 5 minutes walk from station"
        },
        "xaxis": {
         "anchor": "y",
         "categoryorder": "total ascending",
         "domain": [
          0,
          1
         ],
         "title": {
          "text": "Lines"
         }
        },
        "yaxis": {
         "anchor": "x",
         "domain": [
          0,
          1
         ],
         "title": {
          "text": "avg of Population Coverage"
         }
        }
       }
      }
     },
     "metadata": {},
     "output_type": "display_data"
    },
    {
     "data": {
      "application/vnd.plotly.v1+json": {
       "config": {
        "plotlyServerURL": "https://plot.ly"
       },
       "data": [
        {
         "alignmentgroup": "True",
         "bingroup": "x",
         "histfunc": "avg",
         "hovertemplate": "Lines=%{x}<br>avg of Population Coverage=%{y}<extra></extra>",
         "legendgroup": "",
         "marker": {
          "color": "#636efa"
         },
         "name": "",
         "offsetgroup": "",
         "orientation": "v",
         "showlegend": false,
         "type": "histogram",
         "x": [
          "Ampang Line",
          "Ampang Line",
          "Ampang Line",
          "Ampang Line",
          "Ampang Line",
          "Ampang Line",
          "Ampang Line",
          "Ampang Line",
          "Ampang Line",
          "Ampang Line",
          "Ampang Line",
          "Ampang Line",
          "Ampang Line",
          "Ampang Line",
          "Ampang Line",
          "Ampang Line",
          "Ampang Line",
          "Ampang Line",
          "Sri Petaling Line",
          "Sri Petaling Line",
          "Sri Petaling Line",
          "Sri Petaling Line",
          "Sri Petaling Line",
          "Sri Petaling Line",
          "Sri Petaling Line",
          "Sri Petaling Line",
          "Sri Petaling Line",
          "Sri Petaling Line",
          "Sri Petaling Line",
          "Sri Petaling Line",
          "Sri Petaling Line",
          "Sri Petaling Line",
          "Sri Petaling Line",
          "Sri Petaling Line",
          "Sri Petaling Line",
          "Sri Petaling Line",
          "Sri Petaling Line",
          "Sri Petaling Line",
          "Sri Petaling Line",
          "Sri Petaling Line",
          "Sri Petaling Line",
          "Sri Petaling Line",
          "Sri Petaling Line",
          "Sri Petaling Line",
          "Sri Petaling Line",
          "Sri Petaling Line",
          "Sri Petaling Line",
          "Kelana Jaya Line",
          "Kelana Jaya Line",
          "Kelana Jaya Line",
          "Kelana Jaya Line",
          "Kelana Jaya Line",
          "Kelana Jaya Line",
          "Kelana Jaya Line",
          "Kelana Jaya Line",
          "Kelana Jaya Line",
          "Kelana Jaya Line",
          "Kelana Jaya Line",
          "Kelana Jaya Line",
          "Kelana Jaya Line",
          "Kelana Jaya Line",
          "Kelana Jaya Line",
          "Kelana Jaya Line",
          "Kelana Jaya Line",
          "Kelana Jaya Line",
          "Kelana Jaya Line",
          "Kelana Jaya Line",
          "Kelana Jaya Line",
          "Kelana Jaya Line",
          "Kelana Jaya Line",
          "Kelana Jaya Line",
          "Kelana Jaya Line",
          "Kelana Jaya Line",
          "Kelana Jaya Line",
          "Kelana Jaya Line",
          "Kelana Jaya Line",
          "Kelana Jaya Line",
          "Kelana Jaya Line",
          "Kelana Jaya Line",
          "Kelana Jaya Line",
          "Kelana Jaya Line",
          "Kelana Jaya Line",
          "Kelana Jaya Line",
          "Kelana Jaya Line",
          "KL Monorail Line",
          "KL Monorail Line",
          "KL Monorail Line",
          "KL Monorail Line",
          "KL Monorail Line",
          "KL Monorail Line",
          "KL Monorail Line",
          "KL Monorail Line",
          "KL Monorail Line",
          "KL Monorail Line",
          "KL Monorail Line",
          "MRT Sungai Buloh - Kajang Line",
          "MRT Sungai Buloh - Kajang Line",
          "MRT Sungai Buloh - Kajang Line",
          "MRT Sungai Buloh - Kajang Line",
          "MRT Sungai Buloh - Kajang Line",
          "MRT Sungai Buloh - Kajang Line",
          "MRT Sungai Buloh - Kajang Line",
          "MRT Sungai Buloh - Kajang Line",
          "MRT Sungai Buloh - Kajang Line",
          "MRT Sungai Buloh - Kajang Line",
          "MRT Sungai Buloh - Kajang Line",
          "MRT Sungai Buloh - Kajang Line",
          "MRT Sungai Buloh - Kajang Line",
          "MRT Sungai Buloh - Kajang Line",
          "MRT Sungai Buloh - Kajang Line",
          "MRT Sungai Buloh - Kajang Line",
          "MRT Sungai Buloh - Kajang Line",
          "MRT Sungai Buloh - Kajang Line",
          "MRT Sungai Buloh - Kajang Line",
          "MRT Sungai Buloh - Kajang Line",
          "MRT Sungai Buloh - Kajang Line",
          "MRT Sungai Buloh - Kajang Line",
          "MRT Sungai Buloh - Kajang Line",
          "MRT Sungai Buloh - Kajang Line",
          "MRT Sungai Buloh - Kajang Line",
          "MRT Sungai Buloh - Kajang Line",
          "MRT Sungai Buloh - Kajang Line",
          "MRT Sungai Buloh - Kajang Line",
          "MRT Sungai Buloh - Kajang Line",
          "MRT Sungai Buloh - Kajang Line",
          "MRT Sungai Buloh - Kajang Line"
         ],
         "xaxis": "x",
         "y": [
          7710,
          5572,
          8555,
          9015,
          7814,
          7021,
          10523,
          5363,
          9011,
          7523,
          5440,
          4121,
          6732,
          6886,
          17935,
          14500,
          12773,
          11958,
          2387,
          9582,
          13636,
          8462,
          4341,
          8350,
          5500,
          5237,
          7929,
          7294,
          5837,
          5509,
          10726,
          7710,
          5572,
          8555,
          9015,
          7814,
          7021,
          10523,
          5363,
          9011,
          4385,
          6322,
          3682,
          7523,
          4063,
          4411,
          5440,
          702,
          1674,
          2513,
          4671,
          8706,
          6919,
          3654,
          2946,
          7783,
          8545,
          3721,
          2303,
          7382,
          7588,
          10379,
          5641,
          4550,
          4477,
          7870,
          9145,
          3827,
          7720,
          7646,
          7012,
          11635,
          6810,
          6545,
          8305,
          6811,
          17809,
          2927,
          3987,
          4834,
          9108,
          8618,
          8359,
          6286,
          6876,
          6492,
          7344,
          11278,
          9566,
          4607,
          9177,
          6558,
          9273,
          11360,
          10857,
          719,
          1116,
          3837,
          4860,
          2132,
          6108,
          8722,
          2452,
          7735,
          4223,
          5471,
          5398,
          4487,
          7663,
          6259,
          10833,
          3455,
          9109,
          9829,
          10667,
          8497,
          8274,
          3270,
          6190,
          3203,
          5933,
          5642,
          3502,
          5738,
          6762,
          4705
         ],
         "yaxis": "y"
        }
       ],
       "layout": {
        "barmode": "group",
        "legend": {
         "tracegroupgap": 0
        },
        "showlegend": false,
        "template": {
         "data": {
          "bar": [
           {
            "error_x": {
             "color": "#2a3f5f"
            },
            "error_y": {
             "color": "#2a3f5f"
            },
            "marker": {
             "line": {
              "color": "#E5ECF6",
              "width": 0.5
             }
            },
            "type": "bar"
           }
          ],
          "barpolar": [
           {
            "marker": {
             "line": {
              "color": "#E5ECF6",
              "width": 0.5
             }
            },
            "type": "barpolar"
           }
          ],
          "carpet": [
           {
            "aaxis": {
             "endlinecolor": "#2a3f5f",
             "gridcolor": "white",
             "linecolor": "white",
             "minorgridcolor": "white",
             "startlinecolor": "#2a3f5f"
            },
            "baxis": {
             "endlinecolor": "#2a3f5f",
             "gridcolor": "white",
             "linecolor": "white",
             "minorgridcolor": "white",
             "startlinecolor": "#2a3f5f"
            },
            "type": "carpet"
           }
          ],
          "choropleth": [
           {
            "colorbar": {
             "outlinewidth": 0,
             "ticks": ""
            },
            "type": "choropleth"
           }
          ],
          "contour": [
           {
            "colorbar": {
             "outlinewidth": 0,
             "ticks": ""
            },
            "colorscale": [
             [
              0,
              "#0d0887"
             ],
             [
              0.1111111111111111,
              "#46039f"
             ],
             [
              0.2222222222222222,
              "#7201a8"
             ],
             [
              0.3333333333333333,
              "#9c179e"
             ],
             [
              0.4444444444444444,
              "#bd3786"
             ],
             [
              0.5555555555555556,
              "#d8576b"
             ],
             [
              0.6666666666666666,
              "#ed7953"
             ],
             [
              0.7777777777777778,
              "#fb9f3a"
             ],
             [
              0.8888888888888888,
              "#fdca26"
             ],
             [
              1,
              "#f0f921"
             ]
            ],
            "type": "contour"
           }
          ],
          "contourcarpet": [
           {
            "colorbar": {
             "outlinewidth": 0,
             "ticks": ""
            },
            "type": "contourcarpet"
           }
          ],
          "heatmap": [
           {
            "colorbar": {
             "outlinewidth": 0,
             "ticks": ""
            },
            "colorscale": [
             [
              0,
              "#0d0887"
             ],
             [
              0.1111111111111111,
              "#46039f"
             ],
             [
              0.2222222222222222,
              "#7201a8"
             ],
             [
              0.3333333333333333,
              "#9c179e"
             ],
             [
              0.4444444444444444,
              "#bd3786"
             ],
             [
              0.5555555555555556,
              "#d8576b"
             ],
             [
              0.6666666666666666,
              "#ed7953"
             ],
             [
              0.7777777777777778,
              "#fb9f3a"
             ],
             [
              0.8888888888888888,
              "#fdca26"
             ],
             [
              1,
              "#f0f921"
             ]
            ],
            "type": "heatmap"
           }
          ],
          "heatmapgl": [
           {
            "colorbar": {
             "outlinewidth": 0,
             "ticks": ""
            },
            "colorscale": [
             [
              0,
              "#0d0887"
             ],
             [
              0.1111111111111111,
              "#46039f"
             ],
             [
              0.2222222222222222,
              "#7201a8"
             ],
             [
              0.3333333333333333,
              "#9c179e"
             ],
             [
              0.4444444444444444,
              "#bd3786"
             ],
             [
              0.5555555555555556,
              "#d8576b"
             ],
             [
              0.6666666666666666,
              "#ed7953"
             ],
             [
              0.7777777777777778,
              "#fb9f3a"
             ],
             [
              0.8888888888888888,
              "#fdca26"
             ],
             [
              1,
              "#f0f921"
             ]
            ],
            "type": "heatmapgl"
           }
          ],
          "histogram": [
           {
            "marker": {
             "colorbar": {
              "outlinewidth": 0,
              "ticks": ""
             }
            },
            "type": "histogram"
           }
          ],
          "histogram2d": [
           {
            "colorbar": {
             "outlinewidth": 0,
             "ticks": ""
            },
            "colorscale": [
             [
              0,
              "#0d0887"
             ],
             [
              0.1111111111111111,
              "#46039f"
             ],
             [
              0.2222222222222222,
              "#7201a8"
             ],
             [
              0.3333333333333333,
              "#9c179e"
             ],
             [
              0.4444444444444444,
              "#bd3786"
             ],
             [
              0.5555555555555556,
              "#d8576b"
             ],
             [
              0.6666666666666666,
              "#ed7953"
             ],
             [
              0.7777777777777778,
              "#fb9f3a"
             ],
             [
              0.8888888888888888,
              "#fdca26"
             ],
             [
              1,
              "#f0f921"
             ]
            ],
            "type": "histogram2d"
           }
          ],
          "histogram2dcontour": [
           {
            "colorbar": {
             "outlinewidth": 0,
             "ticks": ""
            },
            "colorscale": [
             [
              0,
              "#0d0887"
             ],
             [
              0.1111111111111111,
              "#46039f"
             ],
             [
              0.2222222222222222,
              "#7201a8"
             ],
             [
              0.3333333333333333,
              "#9c179e"
             ],
             [
              0.4444444444444444,
              "#bd3786"
             ],
             [
              0.5555555555555556,
              "#d8576b"
             ],
             [
              0.6666666666666666,
              "#ed7953"
             ],
             [
              0.7777777777777778,
              "#fb9f3a"
             ],
             [
              0.8888888888888888,
              "#fdca26"
             ],
             [
              1,
              "#f0f921"
             ]
            ],
            "type": "histogram2dcontour"
           }
          ],
          "mesh3d": [
           {
            "colorbar": {
             "outlinewidth": 0,
             "ticks": ""
            },
            "type": "mesh3d"
           }
          ],
          "parcoords": [
           {
            "line": {
             "colorbar": {
              "outlinewidth": 0,
              "ticks": ""
             }
            },
            "type": "parcoords"
           }
          ],
          "pie": [
           {
            "automargin": true,
            "type": "pie"
           }
          ],
          "scatter": [
           {
            "marker": {
             "colorbar": {
              "outlinewidth": 0,
              "ticks": ""
             }
            },
            "type": "scatter"
           }
          ],
          "scatter3d": [
           {
            "line": {
             "colorbar": {
              "outlinewidth": 0,
              "ticks": ""
             }
            },
            "marker": {
             "colorbar": {
              "outlinewidth": 0,
              "ticks": ""
             }
            },
            "type": "scatter3d"
           }
          ],
          "scattercarpet": [
           {
            "marker": {
             "colorbar": {
              "outlinewidth": 0,
              "ticks": ""
             }
            },
            "type": "scattercarpet"
           }
          ],
          "scattergeo": [
           {
            "marker": {
             "colorbar": {
              "outlinewidth": 0,
              "ticks": ""
             }
            },
            "type": "scattergeo"
           }
          ],
          "scattergl": [
           {
            "marker": {
             "colorbar": {
              "outlinewidth": 0,
              "ticks": ""
             }
            },
            "type": "scattergl"
           }
          ],
          "scattermapbox": [
           {
            "marker": {
             "colorbar": {
              "outlinewidth": 0,
              "ticks": ""
             }
            },
            "type": "scattermapbox"
           }
          ],
          "scatterpolar": [
           {
            "marker": {
             "colorbar": {
              "outlinewidth": 0,
              "ticks": ""
             }
            },
            "type": "scatterpolar"
           }
          ],
          "scatterpolargl": [
           {
            "marker": {
             "colorbar": {
              "outlinewidth": 0,
              "ticks": ""
             }
            },
            "type": "scatterpolargl"
           }
          ],
          "scatterternary": [
           {
            "marker": {
             "colorbar": {
              "outlinewidth": 0,
              "ticks": ""
             }
            },
            "type": "scatterternary"
           }
          ],
          "surface": [
           {
            "colorbar": {
             "outlinewidth": 0,
             "ticks": ""
            },
            "colorscale": [
             [
              0,
              "#0d0887"
             ],
             [
              0.1111111111111111,
              "#46039f"
             ],
             [
              0.2222222222222222,
              "#7201a8"
             ],
             [
              0.3333333333333333,
              "#9c179e"
             ],
             [
              0.4444444444444444,
              "#bd3786"
             ],
             [
              0.5555555555555556,
              "#d8576b"
             ],
             [
              0.6666666666666666,
              "#ed7953"
             ],
             [
              0.7777777777777778,
              "#fb9f3a"
             ],
             [
              0.8888888888888888,
              "#fdca26"
             ],
             [
              1,
              "#f0f921"
             ]
            ],
            "type": "surface"
           }
          ],
          "table": [
           {
            "cells": {
             "fill": {
              "color": "#EBF0F8"
             },
             "line": {
              "color": "white"
             }
            },
            "header": {
             "fill": {
              "color": "#C8D4E3"
             },
             "line": {
              "color": "white"
             }
            },
            "type": "table"
           }
          ]
         },
         "layout": {
          "annotationdefaults": {
           "arrowcolor": "#2a3f5f",
           "arrowhead": 0,
           "arrowwidth": 1
          },
          "coloraxis": {
           "colorbar": {
            "outlinewidth": 0,
            "ticks": ""
           }
          },
          "colorscale": {
           "diverging": [
            [
             0,
             "#8e0152"
            ],
            [
             0.1,
             "#c51b7d"
            ],
            [
             0.2,
             "#de77ae"
            ],
            [
             0.3,
             "#f1b6da"
            ],
            [
             0.4,
             "#fde0ef"
            ],
            [
             0.5,
             "#f7f7f7"
            ],
            [
             0.6,
             "#e6f5d0"
            ],
            [
             0.7,
             "#b8e186"
            ],
            [
             0.8,
             "#7fbc41"
            ],
            [
             0.9,
             "#4d9221"
            ],
            [
             1,
             "#276419"
            ]
           ],
           "sequential": [
            [
             0,
             "#0d0887"
            ],
            [
             0.1111111111111111,
             "#46039f"
            ],
            [
             0.2222222222222222,
             "#7201a8"
            ],
            [
             0.3333333333333333,
             "#9c179e"
            ],
            [
             0.4444444444444444,
             "#bd3786"
            ],
            [
             0.5555555555555556,
             "#d8576b"
            ],
            [
             0.6666666666666666,
             "#ed7953"
            ],
            [
             0.7777777777777778,
             "#fb9f3a"
            ],
            [
             0.8888888888888888,
             "#fdca26"
            ],
            [
             1,
             "#f0f921"
            ]
           ],
           "sequentialminus": [
            [
             0,
             "#0d0887"
            ],
            [
             0.1111111111111111,
             "#46039f"
            ],
            [
             0.2222222222222222,
             "#7201a8"
            ],
            [
             0.3333333333333333,
             "#9c179e"
            ],
            [
             0.4444444444444444,
             "#bd3786"
            ],
            [
             0.5555555555555556,
             "#d8576b"
            ],
            [
             0.6666666666666666,
             "#ed7953"
            ],
            [
             0.7777777777777778,
             "#fb9f3a"
            ],
            [
             0.8888888888888888,
             "#fdca26"
            ],
            [
             1,
             "#f0f921"
            ]
           ]
          },
          "colorway": [
           "#636efa",
           "#EF553B",
           "#00cc96",
           "#ab63fa",
           "#FFA15A",
           "#19d3f3",
           "#FF6692",
           "#B6E880",
           "#FF97FF",
           "#FECB52"
          ],
          "font": {
           "color": "#2a3f5f"
          },
          "geo": {
           "bgcolor": "white",
           "lakecolor": "white",
           "landcolor": "#E5ECF6",
           "showlakes": true,
           "showland": true,
           "subunitcolor": "white"
          },
          "hoverlabel": {
           "align": "left"
          },
          "hovermode": "closest",
          "mapbox": {
           "style": "light"
          },
          "paper_bgcolor": "white",
          "plot_bgcolor": "#E5ECF6",
          "polar": {
           "angularaxis": {
            "gridcolor": "white",
            "linecolor": "white",
            "ticks": ""
           },
           "bgcolor": "#E5ECF6",
           "radialaxis": {
            "gridcolor": "white",
            "linecolor": "white",
            "ticks": ""
           }
          },
          "scene": {
           "xaxis": {
            "backgroundcolor": "#E5ECF6",
            "gridcolor": "white",
            "gridwidth": 2,
            "linecolor": "white",
            "showbackground": true,
            "ticks": "",
            "zerolinecolor": "white"
           },
           "yaxis": {
            "backgroundcolor": "#E5ECF6",
            "gridcolor": "white",
            "gridwidth": 2,
            "linecolor": "white",
            "showbackground": true,
            "ticks": "",
            "zerolinecolor": "white"
           },
           "zaxis": {
            "backgroundcolor": "#E5ECF6",
            "gridcolor": "white",
            "gridwidth": 2,
            "linecolor": "white",
            "showbackground": true,
            "ticks": "",
            "zerolinecolor": "white"
           }
          },
          "shapedefaults": {
           "line": {
            "color": "#2a3f5f"
           }
          },
          "ternary": {
           "aaxis": {
            "gridcolor": "white",
            "linecolor": "white",
            "ticks": ""
           },
           "baxis": {
            "gridcolor": "white",
            "linecolor": "white",
            "ticks": ""
           },
           "bgcolor": "#E5ECF6",
           "caxis": {
            "gridcolor": "white",
            "linecolor": "white",
            "ticks": ""
           }
          },
          "title": {
           "x": 0.05
          },
          "xaxis": {
           "automargin": true,
           "gridcolor": "white",
           "linecolor": "white",
           "ticks": "",
           "title": {
            "standoff": 15
           },
           "zerolinecolor": "white",
           "zerolinewidth": 2
          },
          "yaxis": {
           "automargin": true,
           "gridcolor": "white",
           "linecolor": "white",
           "ticks": "",
           "title": {
            "standoff": 15
           },
           "zerolinecolor": "white",
           "zerolinewidth": 2
          }
         }
        },
        "title": {
         "text": "Population coverage within 10 minutes walk from station"
        },
        "xaxis": {
         "anchor": "y",
         "categoryorder": "total ascending",
         "domain": [
          0,
          1
         ],
         "title": {
          "text": "Lines"
         }
        },
        "yaxis": {
         "anchor": "x",
         "domain": [
          0,
          1
         ],
         "title": {
          "text": "avg of Population Coverage"
         }
        }
       }
      }
     },
     "metadata": {},
     "output_type": "display_data"
    },
    {
     "data": {
      "application/vnd.plotly.v1+json": {
       "config": {
        "plotlyServerURL": "https://plot.ly"
       },
       "data": [
        {
         "alignmentgroup": "True",
         "bingroup": "x",
         "histfunc": "avg",
         "hovertemplate": "Lines=%{x}<br>avg of Population Coverage=%{y}<extra></extra>",
         "legendgroup": "",
         "marker": {
          "color": "#636efa"
         },
         "name": "",
         "offsetgroup": "",
         "orientation": "v",
         "showlegend": false,
         "type": "histogram",
         "x": [
          "Ampang Line",
          "Ampang Line",
          "Ampang Line",
          "Ampang Line",
          "Ampang Line",
          "Ampang Line",
          "Ampang Line",
          "Ampang Line",
          "Ampang Line",
          "Ampang Line",
          "Ampang Line",
          "Ampang Line",
          "Ampang Line",
          "Ampang Line",
          "Ampang Line",
          "Ampang Line",
          "Ampang Line",
          "Ampang Line",
          "Sri Petaling Line",
          "Sri Petaling Line",
          "Sri Petaling Line",
          "Sri Petaling Line",
          "Sri Petaling Line",
          "Sri Petaling Line",
          "Sri Petaling Line",
          "Sri Petaling Line",
          "Sri Petaling Line",
          "Sri Petaling Line",
          "Sri Petaling Line",
          "Sri Petaling Line",
          "Sri Petaling Line",
          "Sri Petaling Line",
          "Sri Petaling Line",
          "Sri Petaling Line",
          "Sri Petaling Line",
          "Sri Petaling Line",
          "Sri Petaling Line",
          "Sri Petaling Line",
          "Sri Petaling Line",
          "Sri Petaling Line",
          "Sri Petaling Line",
          "Sri Petaling Line",
          "Sri Petaling Line",
          "Sri Petaling Line",
          "Sri Petaling Line",
          "Sri Petaling Line",
          "Sri Petaling Line",
          "Kelana Jaya Line",
          "Kelana Jaya Line",
          "Kelana Jaya Line",
          "Kelana Jaya Line",
          "Kelana Jaya Line",
          "Kelana Jaya Line",
          "Kelana Jaya Line",
          "Kelana Jaya Line",
          "Kelana Jaya Line",
          "Kelana Jaya Line",
          "Kelana Jaya Line",
          "Kelana Jaya Line",
          "Kelana Jaya Line",
          "Kelana Jaya Line",
          "Kelana Jaya Line",
          "Kelana Jaya Line",
          "Kelana Jaya Line",
          "Kelana Jaya Line",
          "Kelana Jaya Line",
          "Kelana Jaya Line",
          "Kelana Jaya Line",
          "Kelana Jaya Line",
          "Kelana Jaya Line",
          "Kelana Jaya Line",
          "Kelana Jaya Line",
          "Kelana Jaya Line",
          "Kelana Jaya Line",
          "Kelana Jaya Line",
          "Kelana Jaya Line",
          "Kelana Jaya Line",
          "Kelana Jaya Line",
          "Kelana Jaya Line",
          "Kelana Jaya Line",
          "Kelana Jaya Line",
          "Kelana Jaya Line",
          "Kelana Jaya Line",
          "Kelana Jaya Line",
          "KL Monorail Line",
          "KL Monorail Line",
          "KL Monorail Line",
          "KL Monorail Line",
          "KL Monorail Line",
          "KL Monorail Line",
          "KL Monorail Line",
          "KL Monorail Line",
          "KL Monorail Line",
          "KL Monorail Line",
          "KL Monorail Line",
          "MRT Sungai Buloh - Kajang Line",
          "MRT Sungai Buloh - Kajang Line",
          "MRT Sungai Buloh - Kajang Line",
          "MRT Sungai Buloh - Kajang Line",
          "MRT Sungai Buloh - Kajang Line",
          "MRT Sungai Buloh - Kajang Line",
          "MRT Sungai Buloh - Kajang Line",
          "MRT Sungai Buloh - Kajang Line",
          "MRT Sungai Buloh - Kajang Line",
          "MRT Sungai Buloh - Kajang Line",
          "MRT Sungai Buloh - Kajang Line",
          "MRT Sungai Buloh - Kajang Line",
          "MRT Sungai Buloh - Kajang Line",
          "MRT Sungai Buloh - Kajang Line",
          "MRT Sungai Buloh - Kajang Line",
          "MRT Sungai Buloh - Kajang Line",
          "MRT Sungai Buloh - Kajang Line",
          "MRT Sungai Buloh - Kajang Line",
          "MRT Sungai Buloh - Kajang Line",
          "MRT Sungai Buloh - Kajang Line",
          "MRT Sungai Buloh - Kajang Line",
          "MRT Sungai Buloh - Kajang Line",
          "MRT Sungai Buloh - Kajang Line",
          "MRT Sungai Buloh - Kajang Line",
          "MRT Sungai Buloh - Kajang Line",
          "MRT Sungai Buloh - Kajang Line",
          "MRT Sungai Buloh - Kajang Line",
          "MRT Sungai Buloh - Kajang Line",
          "MRT Sungai Buloh - Kajang Line",
          "MRT Sungai Buloh - Kajang Line",
          "MRT Sungai Buloh - Kajang Line"
         ],
         "xaxis": "x",
         "y": [
          16554,
          15104,
          20457,
          21377,
          16574,
          17712,
          22370,
          14307,
          21086,
          19977,
          15394,
          12314,
          18943,
          16566,
          40666,
          38505,
          34832,
          30937,
          5666,
          16990,
          25927,
          15410,
          8805,
          17657,
          12116,
          14465,
          14499,
          14781,
          10761,
          13889,
          17209,
          16554,
          15104,
          20457,
          21377,
          16574,
          17712,
          22370,
          14307,
          21086,
          8721,
          12776,
          9890,
          19977,
          8068,
          10629,
          15394,
          4281,
          3130,
          5894,
          10137,
          15830,
          16929,
          6935,
          7486,
          17231,
          17672,
          8260,
          7808,
          18028,
          18602,
          24796,
          17305,
          12033,
          11077,
          14232,
          17653,
          12063,
          19391,
          14774,
          18749,
          22995,
          17013,
          18467,
          19607,
          15524,
          37835,
          10573,
          13043,
          14998,
          19682,
          20997,
          19359,
          18481,
          15278,
          13569,
          19530,
          24638,
          20691,
          14554,
          22770,
          18375,
          22631,
          23057,
          23894,
          3570,
          4018,
          10650,
          13078,
          6188,
          15335,
          17932,
          8946,
          15286,
          9265,
          15246,
          12014,
          12526,
          19341,
          16047,
          23359,
          10160,
          19656,
          21947,
          21264,
          21709,
          20585,
          7640,
          12308,
          6703,
          11032,
          9647,
          8779,
          10854,
          18142,
          7102
         ],
         "yaxis": "y"
        }
       ],
       "layout": {
        "barmode": "group",
        "legend": {
         "tracegroupgap": 0
        },
        "showlegend": false,
        "template": {
         "data": {
          "bar": [
           {
            "error_x": {
             "color": "#2a3f5f"
            },
            "error_y": {
             "color": "#2a3f5f"
            },
            "marker": {
             "line": {
              "color": "#E5ECF6",
              "width": 0.5
             }
            },
            "type": "bar"
           }
          ],
          "barpolar": [
           {
            "marker": {
             "line": {
              "color": "#E5ECF6",
              "width": 0.5
             }
            },
            "type": "barpolar"
           }
          ],
          "carpet": [
           {
            "aaxis": {
             "endlinecolor": "#2a3f5f",
             "gridcolor": "white",
             "linecolor": "white",
             "minorgridcolor": "white",
             "startlinecolor": "#2a3f5f"
            },
            "baxis": {
             "endlinecolor": "#2a3f5f",
             "gridcolor": "white",
             "linecolor": "white",
             "minorgridcolor": "white",
             "startlinecolor": "#2a3f5f"
            },
            "type": "carpet"
           }
          ],
          "choropleth": [
           {
            "colorbar": {
             "outlinewidth": 0,
             "ticks": ""
            },
            "type": "choropleth"
           }
          ],
          "contour": [
           {
            "colorbar": {
             "outlinewidth": 0,
             "ticks": ""
            },
            "colorscale": [
             [
              0,
              "#0d0887"
             ],
             [
              0.1111111111111111,
              "#46039f"
             ],
             [
              0.2222222222222222,
              "#7201a8"
             ],
             [
              0.3333333333333333,
              "#9c179e"
             ],
             [
              0.4444444444444444,
              "#bd3786"
             ],
             [
              0.5555555555555556,
              "#d8576b"
             ],
             [
              0.6666666666666666,
              "#ed7953"
             ],
             [
              0.7777777777777778,
              "#fb9f3a"
             ],
             [
              0.8888888888888888,
              "#fdca26"
             ],
             [
              1,
              "#f0f921"
             ]
            ],
            "type": "contour"
           }
          ],
          "contourcarpet": [
           {
            "colorbar": {
             "outlinewidth": 0,
             "ticks": ""
            },
            "type": "contourcarpet"
           }
          ],
          "heatmap": [
           {
            "colorbar": {
             "outlinewidth": 0,
             "ticks": ""
            },
            "colorscale": [
             [
              0,
              "#0d0887"
             ],
             [
              0.1111111111111111,
              "#46039f"
             ],
             [
              0.2222222222222222,
              "#7201a8"
             ],
             [
              0.3333333333333333,
              "#9c179e"
             ],
             [
              0.4444444444444444,
              "#bd3786"
             ],
             [
              0.5555555555555556,
              "#d8576b"
             ],
             [
              0.6666666666666666,
              "#ed7953"
             ],
             [
              0.7777777777777778,
              "#fb9f3a"
             ],
             [
              0.8888888888888888,
              "#fdca26"
             ],
             [
              1,
              "#f0f921"
             ]
            ],
            "type": "heatmap"
           }
          ],
          "heatmapgl": [
           {
            "colorbar": {
             "outlinewidth": 0,
             "ticks": ""
            },
            "colorscale": [
             [
              0,
              "#0d0887"
             ],
             [
              0.1111111111111111,
              "#46039f"
             ],
             [
              0.2222222222222222,
              "#7201a8"
             ],
             [
              0.3333333333333333,
              "#9c179e"
             ],
             [
              0.4444444444444444,
              "#bd3786"
             ],
             [
              0.5555555555555556,
              "#d8576b"
             ],
             [
              0.6666666666666666,
              "#ed7953"
             ],
             [
              0.7777777777777778,
              "#fb9f3a"
             ],
             [
              0.8888888888888888,
              "#fdca26"
             ],
             [
              1,
              "#f0f921"
             ]
            ],
            "type": "heatmapgl"
           }
          ],
          "histogram": [
           {
            "marker": {
             "colorbar": {
              "outlinewidth": 0,
              "ticks": ""
             }
            },
            "type": "histogram"
           }
          ],
          "histogram2d": [
           {
            "colorbar": {
             "outlinewidth": 0,
             "ticks": ""
            },
            "colorscale": [
             [
              0,
              "#0d0887"
             ],
             [
              0.1111111111111111,
              "#46039f"
             ],
             [
              0.2222222222222222,
              "#7201a8"
             ],
             [
              0.3333333333333333,
              "#9c179e"
             ],
             [
              0.4444444444444444,
              "#bd3786"
             ],
             [
              0.5555555555555556,
              "#d8576b"
             ],
             [
              0.6666666666666666,
              "#ed7953"
             ],
             [
              0.7777777777777778,
              "#fb9f3a"
             ],
             [
              0.8888888888888888,
              "#fdca26"
             ],
             [
              1,
              "#f0f921"
             ]
            ],
            "type": "histogram2d"
           }
          ],
          "histogram2dcontour": [
           {
            "colorbar": {
             "outlinewidth": 0,
             "ticks": ""
            },
            "colorscale": [
             [
              0,
              "#0d0887"
             ],
             [
              0.1111111111111111,
              "#46039f"
             ],
             [
              0.2222222222222222,
              "#7201a8"
             ],
             [
              0.3333333333333333,
              "#9c179e"
             ],
             [
              0.4444444444444444,
              "#bd3786"
             ],
             [
              0.5555555555555556,
              "#d8576b"
             ],
             [
              0.6666666666666666,
              "#ed7953"
             ],
             [
              0.7777777777777778,
              "#fb9f3a"
             ],
             [
              0.8888888888888888,
              "#fdca26"
             ],
             [
              1,
              "#f0f921"
             ]
            ],
            "type": "histogram2dcontour"
           }
          ],
          "mesh3d": [
           {
            "colorbar": {
             "outlinewidth": 0,
             "ticks": ""
            },
            "type": "mesh3d"
           }
          ],
          "parcoords": [
           {
            "line": {
             "colorbar": {
              "outlinewidth": 0,
              "ticks": ""
             }
            },
            "type": "parcoords"
           }
          ],
          "pie": [
           {
            "automargin": true,
            "type": "pie"
           }
          ],
          "scatter": [
           {
            "marker": {
             "colorbar": {
              "outlinewidth": 0,
              "ticks": ""
             }
            },
            "type": "scatter"
           }
          ],
          "scatter3d": [
           {
            "line": {
             "colorbar": {
              "outlinewidth": 0,
              "ticks": ""
             }
            },
            "marker": {
             "colorbar": {
              "outlinewidth": 0,
              "ticks": ""
             }
            },
            "type": "scatter3d"
           }
          ],
          "scattercarpet": [
           {
            "marker": {
             "colorbar": {
              "outlinewidth": 0,
              "ticks": ""
             }
            },
            "type": "scattercarpet"
           }
          ],
          "scattergeo": [
           {
            "marker": {
             "colorbar": {
              "outlinewidth": 0,
              "ticks": ""
             }
            },
            "type": "scattergeo"
           }
          ],
          "scattergl": [
           {
            "marker": {
             "colorbar": {
              "outlinewidth": 0,
              "ticks": ""
             }
            },
            "type": "scattergl"
           }
          ],
          "scattermapbox": [
           {
            "marker": {
             "colorbar": {
              "outlinewidth": 0,
              "ticks": ""
             }
            },
            "type": "scattermapbox"
           }
          ],
          "scatterpolar": [
           {
            "marker": {
             "colorbar": {
              "outlinewidth": 0,
              "ticks": ""
             }
            },
            "type": "scatterpolar"
           }
          ],
          "scatterpolargl": [
           {
            "marker": {
             "colorbar": {
              "outlinewidth": 0,
              "ticks": ""
             }
            },
            "type": "scatterpolargl"
           }
          ],
          "scatterternary": [
           {
            "marker": {
             "colorbar": {
              "outlinewidth": 0,
              "ticks": ""
             }
            },
            "type": "scatterternary"
           }
          ],
          "surface": [
           {
            "colorbar": {
             "outlinewidth": 0,
             "ticks": ""
            },
            "colorscale": [
             [
              0,
              "#0d0887"
             ],
             [
              0.1111111111111111,
              "#46039f"
             ],
             [
              0.2222222222222222,
              "#7201a8"
             ],
             [
              0.3333333333333333,
              "#9c179e"
             ],
             [
              0.4444444444444444,
              "#bd3786"
             ],
             [
              0.5555555555555556,
              "#d8576b"
             ],
             [
              0.6666666666666666,
              "#ed7953"
             ],
             [
              0.7777777777777778,
              "#fb9f3a"
             ],
             [
              0.8888888888888888,
              "#fdca26"
             ],
             [
              1,
              "#f0f921"
             ]
            ],
            "type": "surface"
           }
          ],
          "table": [
           {
            "cells": {
             "fill": {
              "color": "#EBF0F8"
             },
             "line": {
              "color": "white"
             }
            },
            "header": {
             "fill": {
              "color": "#C8D4E3"
             },
             "line": {
              "color": "white"
             }
            },
            "type": "table"
           }
          ]
         },
         "layout": {
          "annotationdefaults": {
           "arrowcolor": "#2a3f5f",
           "arrowhead": 0,
           "arrowwidth": 1
          },
          "coloraxis": {
           "colorbar": {
            "outlinewidth": 0,
            "ticks": ""
           }
          },
          "colorscale": {
           "diverging": [
            [
             0,
             "#8e0152"
            ],
            [
             0.1,
             "#c51b7d"
            ],
            [
             0.2,
             "#de77ae"
            ],
            [
             0.3,
             "#f1b6da"
            ],
            [
             0.4,
             "#fde0ef"
            ],
            [
             0.5,
             "#f7f7f7"
            ],
            [
             0.6,
             "#e6f5d0"
            ],
            [
             0.7,
             "#b8e186"
            ],
            [
             0.8,
             "#7fbc41"
            ],
            [
             0.9,
             "#4d9221"
            ],
            [
             1,
             "#276419"
            ]
           ],
           "sequential": [
            [
             0,
             "#0d0887"
            ],
            [
             0.1111111111111111,
             "#46039f"
            ],
            [
             0.2222222222222222,
             "#7201a8"
            ],
            [
             0.3333333333333333,
             "#9c179e"
            ],
            [
             0.4444444444444444,
             "#bd3786"
            ],
            [
             0.5555555555555556,
             "#d8576b"
            ],
            [
             0.6666666666666666,
             "#ed7953"
            ],
            [
             0.7777777777777778,
             "#fb9f3a"
            ],
            [
             0.8888888888888888,
             "#fdca26"
            ],
            [
             1,
             "#f0f921"
            ]
           ],
           "sequentialminus": [
            [
             0,
             "#0d0887"
            ],
            [
             0.1111111111111111,
             "#46039f"
            ],
            [
             0.2222222222222222,
             "#7201a8"
            ],
            [
             0.3333333333333333,
             "#9c179e"
            ],
            [
             0.4444444444444444,
             "#bd3786"
            ],
            [
             0.5555555555555556,
             "#d8576b"
            ],
            [
             0.6666666666666666,
             "#ed7953"
            ],
            [
             0.7777777777777778,
             "#fb9f3a"
            ],
            [
             0.8888888888888888,
             "#fdca26"
            ],
            [
             1,
             "#f0f921"
            ]
           ]
          },
          "colorway": [
           "#636efa",
           "#EF553B",
           "#00cc96",
           "#ab63fa",
           "#FFA15A",
           "#19d3f3",
           "#FF6692",
           "#B6E880",
           "#FF97FF",
           "#FECB52"
          ],
          "font": {
           "color": "#2a3f5f"
          },
          "geo": {
           "bgcolor": "white",
           "lakecolor": "white",
           "landcolor": "#E5ECF6",
           "showlakes": true,
           "showland": true,
           "subunitcolor": "white"
          },
          "hoverlabel": {
           "align": "left"
          },
          "hovermode": "closest",
          "mapbox": {
           "style": "light"
          },
          "paper_bgcolor": "white",
          "plot_bgcolor": "#E5ECF6",
          "polar": {
           "angularaxis": {
            "gridcolor": "white",
            "linecolor": "white",
            "ticks": ""
           },
           "bgcolor": "#E5ECF6",
           "radialaxis": {
            "gridcolor": "white",
            "linecolor": "white",
            "ticks": ""
           }
          },
          "scene": {
           "xaxis": {
            "backgroundcolor": "#E5ECF6",
            "gridcolor": "white",
            "gridwidth": 2,
            "linecolor": "white",
            "showbackground": true,
            "ticks": "",
            "zerolinecolor": "white"
           },
           "yaxis": {
            "backgroundcolor": "#E5ECF6",
            "gridcolor": "white",
            "gridwidth": 2,
            "linecolor": "white",
            "showbackground": true,
            "ticks": "",
            "zerolinecolor": "white"
           },
           "zaxis": {
            "backgroundcolor": "#E5ECF6",
            "gridcolor": "white",
            "gridwidth": 2,
            "linecolor": "white",
            "showbackground": true,
            "ticks": "",
            "zerolinecolor": "white"
           }
          },
          "shapedefaults": {
           "line": {
            "color": "#2a3f5f"
           }
          },
          "ternary": {
           "aaxis": {
            "gridcolor": "white",
            "linecolor": "white",
            "ticks": ""
           },
           "baxis": {
            "gridcolor": "white",
            "linecolor": "white",
            "ticks": ""
           },
           "bgcolor": "#E5ECF6",
           "caxis": {
            "gridcolor": "white",
            "linecolor": "white",
            "ticks": ""
           }
          },
          "title": {
           "x": 0.05
          },
          "xaxis": {
           "automargin": true,
           "gridcolor": "white",
           "linecolor": "white",
           "ticks": "",
           "title": {
            "standoff": 15
           },
           "zerolinecolor": "white",
           "zerolinewidth": 2
          },
          "yaxis": {
           "automargin": true,
           "gridcolor": "white",
           "linecolor": "white",
           "ticks": "",
           "title": {
            "standoff": 15
           },
           "zerolinecolor": "white",
           "zerolinewidth": 2
          }
         }
        },
        "title": {
         "text": "Population coverage within 15 minutes walk from station"
        },
        "xaxis": {
         "anchor": "y",
         "categoryorder": "total ascending",
         "domain": [
          0,
          1
         ],
         "title": {
          "text": "Lines"
         }
        },
        "yaxis": {
         "anchor": "x",
         "domain": [
          0,
          1
         ],
         "title": {
          "text": "avg of Population Coverage"
         }
        }
       }
      }
     },
     "metadata": {},
     "output_type": "display_data"
    },
    {
     "data": {
      "application/vnd.plotly.v1+json": {
       "config": {
        "plotlyServerURL": "https://plot.ly"
       },
       "data": [
        {
         "alignmentgroup": "True",
         "bingroup": "x",
         "histfunc": "avg",
         "hovertemplate": "variable=5 Minute Population<br>Lines=%{x}<br>avg of Population Coverage=%{y}<extra></extra>",
         "legendgroup": "5 Minute Population",
         "marker": {
          "color": "#636efa"
         },
         "name": "5 Minute Population",
         "offsetgroup": "5 Minute Population",
         "orientation": "v",
         "showlegend": true,
         "type": "histogram",
         "x": [
          "Seremban Line",
          "Seremban Line",
          "Seremban Line",
          "Seremban Line",
          "Seremban Line",
          "Seremban Line",
          "Seremban Line",
          "Seremban Line",
          "Seremban Line",
          "Seremban Line",
          "Seremban Line",
          "Seremban Line",
          "Seremban Line",
          "Seremban Line",
          "Seremban Line",
          "Seremban Line",
          "Seremban Line",
          "Seremban Line",
          "Seremban Line",
          "Seremban Line",
          "Seremban Line",
          "Seremban Line",
          "Seremban Line",
          "Seremban Line",
          "Seremban Line",
          "Seremban Line",
          "Port Klang Line",
          "Port Klang Line",
          "Port Klang Line",
          "Port Klang Line",
          "Port Klang Line",
          "Port Klang Line",
          "Port Klang Line",
          "Port Klang Line",
          "Port Klang Line",
          "Port Klang Line",
          "Port Klang Line",
          "Port Klang Line",
          "Port Klang Line",
          "Port Klang Line",
          "Port Klang Line",
          "Port Klang Line",
          "Port Klang Line",
          "Port Klang Line",
          "Port Klang Line",
          "Port Klang Line",
          "Port Klang Line",
          "Port Klang Line",
          "Port Klang Line",
          "Port Klang Line",
          "Port Klang Line",
          "Port Klang Line",
          "Port Klang Line",
          "Port Klang Line",
          "Port Klang Line",
          "Port Klang Line",
          "Port Klang Line",
          "Port Klang Line",
          "Port Klang Line",
          "Port Klang Line",
          "Ampang Line",
          "Ampang Line",
          "Ampang Line",
          "Ampang Line",
          "Ampang Line",
          "Ampang Line",
          "Ampang Line",
          "Ampang Line",
          "Ampang Line",
          "Ampang Line",
          "Ampang Line",
          "Ampang Line",
          "Ampang Line",
          "Ampang Line",
          "Ampang Line",
          "Ampang Line",
          "Ampang Line",
          "Ampang Line",
          "Sri Petaling Line",
          "Sri Petaling Line",
          "Sri Petaling Line",
          "Sri Petaling Line",
          "Sri Petaling Line",
          "Sri Petaling Line",
          "Sri Petaling Line",
          "Sri Petaling Line",
          "Sri Petaling Line",
          "Sri Petaling Line",
          "Sri Petaling Line",
          "Sri Petaling Line",
          "Sri Petaling Line",
          "Sri Petaling Line",
          "Sri Petaling Line",
          "Sri Petaling Line",
          "Sri Petaling Line",
          "Sri Petaling Line",
          "Sri Petaling Line",
          "Sri Petaling Line",
          "Sri Petaling Line",
          "Sri Petaling Line",
          "Sri Petaling Line",
          "Sri Petaling Line",
          "Sri Petaling Line",
          "Sri Petaling Line",
          "Sri Petaling Line",
          "Sri Petaling Line",
          "Sri Petaling Line",
          "Kelana Jaya Line",
          "Kelana Jaya Line",
          "Kelana Jaya Line",
          "Kelana Jaya Line",
          "Kelana Jaya Line",
          "Kelana Jaya Line",
          "Kelana Jaya Line",
          "Kelana Jaya Line",
          "Kelana Jaya Line",
          "Kelana Jaya Line",
          "Kelana Jaya Line",
          "Kelana Jaya Line",
          "Kelana Jaya Line",
          "Kelana Jaya Line",
          "Kelana Jaya Line",
          "Kelana Jaya Line",
          "Kelana Jaya Line",
          "Kelana Jaya Line",
          "Kelana Jaya Line",
          "Kelana Jaya Line",
          "Kelana Jaya Line",
          "Kelana Jaya Line",
          "Kelana Jaya Line",
          "Kelana Jaya Line",
          "Kelana Jaya Line",
          "Kelana Jaya Line",
          "Kelana Jaya Line",
          "Kelana Jaya Line",
          "Kelana Jaya Line",
          "Kelana Jaya Line",
          "Kelana Jaya Line",
          "Kelana Jaya Line",
          "Kelana Jaya Line",
          "Kelana Jaya Line",
          "Kelana Jaya Line",
          "Kelana Jaya Line",
          "Kelana Jaya Line",
          "KLIA Ekspres",
          "KLIA Ekspres",
          "KLIA Ekspres",
          "KLIA Transit",
          "KLIA Transit",
          "KLIA Transit",
          "KLIA Transit",
          "KLIA Transit",
          "KLIA Transit",
          "KL Monorail Line",
          "KL Monorail Line",
          "KL Monorail Line",
          "KL Monorail Line",
          "KL Monorail Line",
          "KL Monorail Line",
          "KL Monorail Line",
          "KL Monorail Line",
          "KL Monorail Line",
          "KL Monorail Line",
          "KL Monorail Line",
          "MRT Sungai Buloh - Kajang Line",
          "MRT Sungai Buloh - Kajang Line",
          "MRT Sungai Buloh - Kajang Line",
          "MRT Sungai Buloh - Kajang Line",
          "MRT Sungai Buloh - Kajang Line",
          "MRT Sungai Buloh - Kajang Line",
          "MRT Sungai Buloh - Kajang Line",
          "MRT Sungai Buloh - Kajang Line",
          "MRT Sungai Buloh - Kajang Line",
          "MRT Sungai Buloh - Kajang Line",
          "MRT Sungai Buloh - Kajang Line",
          "MRT Sungai Buloh - Kajang Line",
          "MRT Sungai Buloh - Kajang Line",
          "MRT Sungai Buloh - Kajang Line",
          "MRT Sungai Buloh - Kajang Line",
          "MRT Sungai Buloh - Kajang Line",
          "MRT Sungai Buloh - Kajang Line",
          "MRT Sungai Buloh - Kajang Line",
          "MRT Sungai Buloh - Kajang Line",
          "MRT Sungai Buloh - Kajang Line",
          "MRT Sungai Buloh - Kajang Line",
          "MRT Sungai Buloh - Kajang Line",
          "MRT Sungai Buloh - Kajang Line",
          "MRT Sungai Buloh - Kajang Line",
          "MRT Sungai Buloh - Kajang Line",
          "MRT Sungai Buloh - Kajang Line",
          "MRT Sungai Buloh - Kajang Line",
          "MRT Sungai Buloh - Kajang Line",
          "MRT Sungai Buloh - Kajang Line",
          "MRT Sungai Buloh - Kajang Line",
          "MRT Sungai Buloh - Kajang Line",
          "Skypark Link",
          "Skypark Link",
          "Skypark Link",
          "BRT Sunway Line",
          "BRT Sunway Line",
          "BRT Sunway Line",
          "BRT Sunway Line",
          "BRT Sunway Line",
          "BRT Sunway Line",
          "BRT Sunway Line"
         ],
         "xaxis": "x",
         "y": [
          2980,
          1635,
          1951,
          1097,
          1969,
          1815,
          817,
          756,
          1988,
          1712,
          1024,
          606,
          560,
          630,
          565,
          0,
          301,
          347,
          301,
          300,
          723,
          1170,
          496,
          496,
          0,
          1747,
          967,
          428,
          360,
          1004,
          1028,
          629,
          266,
          968,
          167,
          1061,
          716,
          942,
          1003,
          592,
          328,
          837,
          0,
          2539,
          953,
          2603,
          473,
          1066,
          519,
          35,
          325,
          1138,
          1254,
          2267,
          433,
          0,
          756,
          1988,
          1701,
          1747,
          2186,
          845,
          2141,
          3133,
          847,
          1729,
          2248,
          456,
          2779,
          1788,
          456,
          1020,
          892,
          814,
          3618,
          2741,
          1829,
          1832,
          764,
          2655,
          3544,
          2377,
          1288,
          2431,
          1617,
          619,
          1025,
          2955,
          495,
          629,
          2502,
          2186,
          845,
          2141,
          3133,
          847,
          1729,
          2248,
          456,
          2779,
          967,
          1694,
          606,
          1788,
          1076,
          930,
          456,
          0,
          0,
          501,
          754,
          1667,
          1245,
          1069,
          659,
          1939,
          1885,
          631,
          0,
          2002,
          1694,
          2101,
          606,
          1274,
          824,
          2000,
          1555,
          433,
          1785,
          1809,
          1803,
          2254,
          1360,
          910,
          2194,
          1285,
          3353,
          1060,
          906,
          834,
          1767,
          1369,
          2023,
          982,
          4,
          95,
          1822,
          824,
          4,
          95,
          606,
          0,
          1822,
          1822,
          2780,
          1353,
          3169,
          913,
          1053,
          1574,
          345,
          1808,
          1819,
          2258,
          75,
          339,
          443,
          867,
          335,
          1148,
          1333,
          512,
          1440,
          316,
          526,
          1122,
          1031,
          1803,
          1328,
          2258,
          456,
          2227,
          1348,
          2725,
          1124,
          1666,
          1915,
          515,
          502,
          1005,
          1532,
          485,
          1765,
          2222,
          1622,
          515,
          328,
          1822,
          1633,
          1243,
          1338,
          1413,
          2827,
          1134,
          1668
         ],
         "yaxis": "y"
        },
        {
         "alignmentgroup": "True",
         "bingroup": "x",
         "histfunc": "avg",
         "hovertemplate": "variable=10 Minute Population<br>Lines=%{x}<br>avg of Population Coverage=%{y}<extra></extra>",
         "legendgroup": "10 Minute Population",
         "marker": {
          "color": "#EF553B"
         },
         "name": "10 Minute Population",
         "offsetgroup": "10 Minute Population",
         "orientation": "v",
         "showlegend": true,
         "type": "histogram",
         "x": [
          "Seremban Line",
          "Seremban Line",
          "Seremban Line",
          "Seremban Line",
          "Seremban Line",
          "Seremban Line",
          "Seremban Line",
          "Seremban Line",
          "Seremban Line",
          "Seremban Line",
          "Seremban Line",
          "Seremban Line",
          "Seremban Line",
          "Seremban Line",
          "Seremban Line",
          "Seremban Line",
          "Seremban Line",
          "Seremban Line",
          "Seremban Line",
          "Seremban Line",
          "Seremban Line",
          "Seremban Line",
          "Seremban Line",
          "Seremban Line",
          "Seremban Line",
          "Seremban Line",
          "Port Klang Line",
          "Port Klang Line",
          "Port Klang Line",
          "Port Klang Line",
          "Port Klang Line",
          "Port Klang Line",
          "Port Klang Line",
          "Port Klang Line",
          "Port Klang Line",
          "Port Klang Line",
          "Port Klang Line",
          "Port Klang Line",
          "Port Klang Line",
          "Port Klang Line",
          "Port Klang Line",
          "Port Klang Line",
          "Port Klang Line",
          "Port Klang Line",
          "Port Klang Line",
          "Port Klang Line",
          "Port Klang Line",
          "Port Klang Line",
          "Port Klang Line",
          "Port Klang Line",
          "Port Klang Line",
          "Port Klang Line",
          "Port Klang Line",
          "Port Klang Line",
          "Port Klang Line",
          "Port Klang Line",
          "Port Klang Line",
          "Port Klang Line",
          "Port Klang Line",
          "Port Klang Line",
          "Ampang Line",
          "Ampang Line",
          "Ampang Line",
          "Ampang Line",
          "Ampang Line",
          "Ampang Line",
          "Ampang Line",
          "Ampang Line",
          "Ampang Line",
          "Ampang Line",
          "Ampang Line",
          "Ampang Line",
          "Ampang Line",
          "Ampang Line",
          "Ampang Line",
          "Ampang Line",
          "Ampang Line",
          "Ampang Line",
          "Sri Petaling Line",
          "Sri Petaling Line",
          "Sri Petaling Line",
          "Sri Petaling Line",
          "Sri Petaling Line",
          "Sri Petaling Line",
          "Sri Petaling Line",
          "Sri Petaling Line",
          "Sri Petaling Line",
          "Sri Petaling Line",
          "Sri Petaling Line",
          "Sri Petaling Line",
          "Sri Petaling Line",
          "Sri Petaling Line",
          "Sri Petaling Line",
          "Sri Petaling Line",
          "Sri Petaling Line",
          "Sri Petaling Line",
          "Sri Petaling Line",
          "Sri Petaling Line",
          "Sri Petaling Line",
          "Sri Petaling Line",
          "Sri Petaling Line",
          "Sri Petaling Line",
          "Sri Petaling Line",
          "Sri Petaling Line",
          "Sri Petaling Line",
          "Sri Petaling Line",
          "Sri Petaling Line",
          "Kelana Jaya Line",
          "Kelana Jaya Line",
          "Kelana Jaya Line",
          "Kelana Jaya Line",
          "Kelana Jaya Line",
          "Kelana Jaya Line",
          "Kelana Jaya Line",
          "Kelana Jaya Line",
          "Kelana Jaya Line",
          "Kelana Jaya Line",
          "Kelana Jaya Line",
          "Kelana Jaya Line",
          "Kelana Jaya Line",
          "Kelana Jaya Line",
          "Kelana Jaya Line",
          "Kelana Jaya Line",
          "Kelana Jaya Line",
          "Kelana Jaya Line",
          "Kelana Jaya Line",
          "Kelana Jaya Line",
          "Kelana Jaya Line",
          "Kelana Jaya Line",
          "Kelana Jaya Line",
          "Kelana Jaya Line",
          "Kelana Jaya Line",
          "Kelana Jaya Line",
          "Kelana Jaya Line",
          "Kelana Jaya Line",
          "Kelana Jaya Line",
          "Kelana Jaya Line",
          "Kelana Jaya Line",
          "Kelana Jaya Line",
          "Kelana Jaya Line",
          "Kelana Jaya Line",
          "Kelana Jaya Line",
          "Kelana Jaya Line",
          "Kelana Jaya Line",
          "KLIA Ekspres",
          "KLIA Ekspres",
          "KLIA Ekspres",
          "KLIA Transit",
          "KLIA Transit",
          "KLIA Transit",
          "KLIA Transit",
          "KLIA Transit",
          "KLIA Transit",
          "KL Monorail Line",
          "KL Monorail Line",
          "KL Monorail Line",
          "KL Monorail Line",
          "KL Monorail Line",
          "KL Monorail Line",
          "KL Monorail Line",
          "KL Monorail Line",
          "KL Monorail Line",
          "KL Monorail Line",
          "KL Monorail Line",
          "MRT Sungai Buloh - Kajang Line",
          "MRT Sungai Buloh - Kajang Line",
          "MRT Sungai Buloh - Kajang Line",
          "MRT Sungai Buloh - Kajang Line",
          "MRT Sungai Buloh - Kajang Line",
          "MRT Sungai Buloh - Kajang Line",
          "MRT Sungai Buloh - Kajang Line",
          "MRT Sungai Buloh - Kajang Line",
          "MRT Sungai Buloh - Kajang Line",
          "MRT Sungai Buloh - Kajang Line",
          "MRT Sungai Buloh - Kajang Line",
          "MRT Sungai Buloh - Kajang Line",
          "MRT Sungai Buloh - Kajang Line",
          "MRT Sungai Buloh - Kajang Line",
          "MRT Sungai Buloh - Kajang Line",
          "MRT Sungai Buloh - Kajang Line",
          "MRT Sungai Buloh - Kajang Line",
          "MRT Sungai Buloh - Kajang Line",
          "MRT Sungai Buloh - Kajang Line",
          "MRT Sungai Buloh - Kajang Line",
          "MRT Sungai Buloh - Kajang Line",
          "MRT Sungai Buloh - Kajang Line",
          "MRT Sungai Buloh - Kajang Line",
          "MRT Sungai Buloh - Kajang Line",
          "MRT Sungai Buloh - Kajang Line",
          "MRT Sungai Buloh - Kajang Line",
          "MRT Sungai Buloh - Kajang Line",
          "MRT Sungai Buloh - Kajang Line",
          "MRT Sungai Buloh - Kajang Line",
          "MRT Sungai Buloh - Kajang Line",
          "MRT Sungai Buloh - Kajang Line",
          "Skypark Link",
          "Skypark Link",
          "Skypark Link",
          "BRT Sunway Line",
          "BRT Sunway Line",
          "BRT Sunway Line",
          "BRT Sunway Line",
          "BRT Sunway Line",
          "BRT Sunway Line",
          "BRT Sunway Line"
         ],
         "xaxis": "x",
         "y": [
          7370,
          7742,
          7295,
          5876,
          7057,
          5584,
          4808,
          5526,
          7451,
          8106,
          2928,
          3682,
          1209,
          1817,
          3129,
          2354,
          1101,
          747,
          1023,
          546,
          4073,
          2724,
          1792,
          1792,
          649,
          6918,
          2799,
          2155,
          3876,
          4820,
          6521,
          1897,
          2004,
          2399,
          1952,
          3696,
          1930,
          6250,
          3948,
          3000,
          1627,
          3961,
          791,
          7959,
          2905,
          8051,
          2443,
          4350,
          1217,
          316,
          4424,
          3841,
          6349,
          7144,
          3827,
          814,
          5526,
          7451,
          7120,
          6918,
          7710,
          5572,
          8555,
          9015,
          7814,
          7021,
          10523,
          5363,
          9011,
          7523,
          5440,
          4121,
          6732,
          6886,
          17935,
          14500,
          12773,
          11958,
          2387,
          9582,
          13636,
          8462,
          4341,
          8350,
          5500,
          5237,
          7929,
          7294,
          5837,
          5509,
          10726,
          7710,
          5572,
          8555,
          9015,
          7814,
          7021,
          10523,
          5363,
          9011,
          4385,
          6322,
          3682,
          7523,
          4063,
          4411,
          5440,
          702,
          1674,
          2513,
          4671,
          8706,
          6919,
          3654,
          2946,
          7783,
          8545,
          3721,
          2303,
          7382,
          7588,
          10379,
          5641,
          4550,
          4477,
          7870,
          9145,
          3827,
          7720,
          7646,
          7012,
          11635,
          6810,
          6545,
          8305,
          6811,
          17809,
          2927,
          3987,
          4834,
          9108,
          8618,
          8359,
          6286,
          106,
          137,
          6876,
          2459,
          106,
          137,
          3682,
          346,
          6876,
          6876,
          6492,
          7344,
          11278,
          9566,
          4607,
          9177,
          6558,
          9273,
          11360,
          10857,
          719,
          1116,
          3837,
          4860,
          2132,
          6108,
          8722,
          2452,
          7735,
          4223,
          5471,
          5398,
          4487,
          7663,
          6259,
          10833,
          3455,
          9109,
          9829,
          10667,
          8497,
          8274,
          3270,
          6190,
          3203,
          5933,
          5642,
          3502,
          5738,
          6762,
          4705,
          2042,
          1627,
          6876,
          7441,
          3301,
          6902,
          6760,
          6396,
          6050,
          4791
         ],
         "yaxis": "y"
        },
        {
         "alignmentgroup": "True",
         "bingroup": "x",
         "histfunc": "avg",
         "hovertemplate": "variable=15 Minute Population<br>Lines=%{x}<br>avg of Population Coverage=%{y}<extra></extra>",
         "legendgroup": "15 Minute Population",
         "marker": {
          "color": "#00cc96"
         },
         "name": "15 Minute Population",
         "offsetgroup": "15 Minute Population",
         "orientation": "v",
         "showlegend": true,
         "type": "histogram",
         "x": [
          "Seremban Line",
          "Seremban Line",
          "Seremban Line",
          "Seremban Line",
          "Seremban Line",
          "Seremban Line",
          "Seremban Line",
          "Seremban Line",
          "Seremban Line",
          "Seremban Line",
          "Seremban Line",
          "Seremban Line",
          "Seremban Line",
          "Seremban Line",
          "Seremban Line",
          "Seremban Line",
          "Seremban Line",
          "Seremban Line",
          "Seremban Line",
          "Seremban Line",
          "Seremban Line",
          "Seremban Line",
          "Seremban Line",
          "Seremban Line",
          "Seremban Line",
          "Seremban Line",
          "Port Klang Line",
          "Port Klang Line",
          "Port Klang Line",
          "Port Klang Line",
          "Port Klang Line",
          "Port Klang Line",
          "Port Klang Line",
          "Port Klang Line",
          "Port Klang Line",
          "Port Klang Line",
          "Port Klang Line",
          "Port Klang Line",
          "Port Klang Line",
          "Port Klang Line",
          "Port Klang Line",
          "Port Klang Line",
          "Port Klang Line",
          "Port Klang Line",
          "Port Klang Line",
          "Port Klang Line",
          "Port Klang Line",
          "Port Klang Line",
          "Port Klang Line",
          "Port Klang Line",
          "Port Klang Line",
          "Port Klang Line",
          "Port Klang Line",
          "Port Klang Line",
          "Port Klang Line",
          "Port Klang Line",
          "Port Klang Line",
          "Port Klang Line",
          "Port Klang Line",
          "Port Klang Line",
          "Ampang Line",
          "Ampang Line",
          "Ampang Line",
          "Ampang Line",
          "Ampang Line",
          "Ampang Line",
          "Ampang Line",
          "Ampang Line",
          "Ampang Line",
          "Ampang Line",
          "Ampang Line",
          "Ampang Line",
          "Ampang Line",
          "Ampang Line",
          "Ampang Line",
          "Ampang Line",
          "Ampang Line",
          "Ampang Line",
          "Sri Petaling Line",
          "Sri Petaling Line",
          "Sri Petaling Line",
          "Sri Petaling Line",
          "Sri Petaling Line",
          "Sri Petaling Line",
          "Sri Petaling Line",
          "Sri Petaling Line",
          "Sri Petaling Line",
          "Sri Petaling Line",
          "Sri Petaling Line",
          "Sri Petaling Line",
          "Sri Petaling Line",
          "Sri Petaling Line",
          "Sri Petaling Line",
          "Sri Petaling Line",
          "Sri Petaling Line",
          "Sri Petaling Line",
          "Sri Petaling Line",
          "Sri Petaling Line",
          "Sri Petaling Line",
          "Sri Petaling Line",
          "Sri Petaling Line",
          "Sri Petaling Line",
          "Sri Petaling Line",
          "Sri Petaling Line",
          "Sri Petaling Line",
          "Sri Petaling Line",
          "Sri Petaling Line",
          "Kelana Jaya Line",
          "Kelana Jaya Line",
          "Kelana Jaya Line",
          "Kelana Jaya Line",
          "Kelana Jaya Line",
          "Kelana Jaya Line",
          "Kelana Jaya Line",
          "Kelana Jaya Line",
          "Kelana Jaya Line",
          "Kelana Jaya Line",
          "Kelana Jaya Line",
          "Kelana Jaya Line",
          "Kelana Jaya Line",
          "Kelana Jaya Line",
          "Kelana Jaya Line",
          "Kelana Jaya Line",
          "Kelana Jaya Line",
          "Kelana Jaya Line",
          "Kelana Jaya Line",
          "Kelana Jaya Line",
          "Kelana Jaya Line",
          "Kelana Jaya Line",
          "Kelana Jaya Line",
          "Kelana Jaya Line",
          "Kelana Jaya Line",
          "Kelana Jaya Line",
          "Kelana Jaya Line",
          "Kelana Jaya Line",
          "Kelana Jaya Line",
          "Kelana Jaya Line",
          "Kelana Jaya Line",
          "Kelana Jaya Line",
          "Kelana Jaya Line",
          "Kelana Jaya Line",
          "Kelana Jaya Line",
          "Kelana Jaya Line",
          "Kelana Jaya Line",
          "KLIA Ekspres",
          "KLIA Ekspres",
          "KLIA Ekspres",
          "KLIA Transit",
          "KLIA Transit",
          "KLIA Transit",
          "KLIA Transit",
          "KLIA Transit",
          "KLIA Transit",
          "KL Monorail Line",
          "KL Monorail Line",
          "KL Monorail Line",
          "KL Monorail Line",
          "KL Monorail Line",
          "KL Monorail Line",
          "KL Monorail Line",
          "KL Monorail Line",
          "KL Monorail Line",
          "KL Monorail Line",
          "KL Monorail Line",
          "MRT Sungai Buloh - Kajang Line",
          "MRT Sungai Buloh - Kajang Line",
          "MRT Sungai Buloh - Kajang Line",
          "MRT Sungai Buloh - Kajang Line",
          "MRT Sungai Buloh - Kajang Line",
          "MRT Sungai Buloh - Kajang Line",
          "MRT Sungai Buloh - Kajang Line",
          "MRT Sungai Buloh - Kajang Line",
          "MRT Sungai Buloh - Kajang Line",
          "MRT Sungai Buloh - Kajang Line",
          "MRT Sungai Buloh - Kajang Line",
          "MRT Sungai Buloh - Kajang Line",
          "MRT Sungai Buloh - Kajang Line",
          "MRT Sungai Buloh - Kajang Line",
          "MRT Sungai Buloh - Kajang Line",
          "MRT Sungai Buloh - Kajang Line",
          "MRT Sungai Buloh - Kajang Line",
          "MRT Sungai Buloh - Kajang Line",
          "MRT Sungai Buloh - Kajang Line",
          "MRT Sungai Buloh - Kajang Line",
          "MRT Sungai Buloh - Kajang Line",
          "MRT Sungai Buloh - Kajang Line",
          "MRT Sungai Buloh - Kajang Line",
          "MRT Sungai Buloh - Kajang Line",
          "MRT Sungai Buloh - Kajang Line",
          "MRT Sungai Buloh - Kajang Line",
          "MRT Sungai Buloh - Kajang Line",
          "MRT Sungai Buloh - Kajang Line",
          "MRT Sungai Buloh - Kajang Line",
          "MRT Sungai Buloh - Kajang Line",
          "MRT Sungai Buloh - Kajang Line",
          "Skypark Link",
          "Skypark Link",
          "Skypark Link",
          "BRT Sunway Line",
          "BRT Sunway Line",
          "BRT Sunway Line",
          "BRT Sunway Line",
          "BRT Sunway Line",
          "BRT Sunway Line",
          "BRT Sunway Line"
         ],
         "xaxis": "x",
         "y": [
          12875,
          16314,
          16640,
          12777,
          17254,
          13698,
          14209,
          12034,
          15927,
          16499,
          5716,
          8635,
          2395,
          6771,
          6365,
          8480,
          2842,
          1321,
          2186,
          763,
          7385,
          7316,
          4290,
          4290,
          3013,
          14485,
          6143,
          6110,
          6422,
          9730,
          15181,
          6360,
          4103,
          5925,
          3949,
          8359,
          3458,
          14474,
          8766,
          7384,
          6225,
          10017,
          1958,
          20067,
          12339,
          16551,
          4381,
          12363,
          2095,
          854,
          13994,
          11079,
          17569,
          14282,
          12063,
          3284,
          12034,
          15927,
          16524,
          14485,
          16554,
          15104,
          20457,
          21377,
          16574,
          17712,
          22370,
          14307,
          21086,
          19977,
          15394,
          12314,
          18943,
          16566,
          40666,
          38505,
          34832,
          30937,
          5666,
          16990,
          25927,
          15410,
          8805,
          17657,
          12116,
          14465,
          14499,
          14781,
          10761,
          13889,
          17209,
          16554,
          15104,
          20457,
          21377,
          16574,
          17712,
          22370,
          14307,
          21086,
          8721,
          12776,
          9890,
          19977,
          8068,
          10629,
          15394,
          4281,
          3130,
          5894,
          10137,
          15830,
          16929,
          6935,
          7486,
          17231,
          17672,
          8260,
          7808,
          18028,
          18602,
          24796,
          17305,
          12033,
          11077,
          14232,
          17653,
          12063,
          19391,
          14774,
          18749,
          22995,
          17013,
          18467,
          19607,
          15524,
          37835,
          10573,
          13043,
          14998,
          19682,
          20997,
          19359,
          18481,
          163,
          351,
          15278,
          4990,
          163,
          351,
          9890,
          856,
          15278,
          15278,
          13569,
          19530,
          24638,
          20691,
          14554,
          22770,
          18375,
          22631,
          23057,
          23894,
          3570,
          4018,
          10650,
          13078,
          6188,
          15335,
          17932,
          8946,
          15286,
          9265,
          15246,
          12014,
          12526,
          19341,
          16047,
          23359,
          10160,
          19656,
          21947,
          21264,
          21709,
          20585,
          7640,
          12308,
          6703,
          11032,
          9647,
          8779,
          10854,
          18142,
          7102,
          5552,
          6225,
          15278,
          16916,
          7606,
          13703,
          13318,
          12805,
          12789,
          10436
         ],
         "yaxis": "y"
        }
       ],
       "layout": {
        "barmode": "group",
        "legend": {
         "title": {
          "text": "variable"
         },
         "tracegroupgap": 0
        },
        "template": {
         "data": {
          "bar": [
           {
            "error_x": {
             "color": "#2a3f5f"
            },
            "error_y": {
             "color": "#2a3f5f"
            },
            "marker": {
             "line": {
              "color": "#E5ECF6",
              "width": 0.5
             }
            },
            "type": "bar"
           }
          ],
          "barpolar": [
           {
            "marker": {
             "line": {
              "color": "#E5ECF6",
              "width": 0.5
             }
            },
            "type": "barpolar"
           }
          ],
          "carpet": [
           {
            "aaxis": {
             "endlinecolor": "#2a3f5f",
             "gridcolor": "white",
             "linecolor": "white",
             "minorgridcolor": "white",
             "startlinecolor": "#2a3f5f"
            },
            "baxis": {
             "endlinecolor": "#2a3f5f",
             "gridcolor": "white",
             "linecolor": "white",
             "minorgridcolor": "white",
             "startlinecolor": "#2a3f5f"
            },
            "type": "carpet"
           }
          ],
          "choropleth": [
           {
            "colorbar": {
             "outlinewidth": 0,
             "ticks": ""
            },
            "type": "choropleth"
           }
          ],
          "contour": [
           {
            "colorbar": {
             "outlinewidth": 0,
             "ticks": ""
            },
            "colorscale": [
             [
              0,
              "#0d0887"
             ],
             [
              0.1111111111111111,
              "#46039f"
             ],
             [
              0.2222222222222222,
              "#7201a8"
             ],
             [
              0.3333333333333333,
              "#9c179e"
             ],
             [
              0.4444444444444444,
              "#bd3786"
             ],
             [
              0.5555555555555556,
              "#d8576b"
             ],
             [
              0.6666666666666666,
              "#ed7953"
             ],
             [
              0.7777777777777778,
              "#fb9f3a"
             ],
             [
              0.8888888888888888,
              "#fdca26"
             ],
             [
              1,
              "#f0f921"
             ]
            ],
            "type": "contour"
           }
          ],
          "contourcarpet": [
           {
            "colorbar": {
             "outlinewidth": 0,
             "ticks": ""
            },
            "type": "contourcarpet"
           }
          ],
          "heatmap": [
           {
            "colorbar": {
             "outlinewidth": 0,
             "ticks": ""
            },
            "colorscale": [
             [
              0,
              "#0d0887"
             ],
             [
              0.1111111111111111,
              "#46039f"
             ],
             [
              0.2222222222222222,
              "#7201a8"
             ],
             [
              0.3333333333333333,
              "#9c179e"
             ],
             [
              0.4444444444444444,
              "#bd3786"
             ],
             [
              0.5555555555555556,
              "#d8576b"
             ],
             [
              0.6666666666666666,
              "#ed7953"
             ],
             [
              0.7777777777777778,
              "#fb9f3a"
             ],
             [
              0.8888888888888888,
              "#fdca26"
             ],
             [
              1,
              "#f0f921"
             ]
            ],
            "type": "heatmap"
           }
          ],
          "heatmapgl": [
           {
            "colorbar": {
             "outlinewidth": 0,
             "ticks": ""
            },
            "colorscale": [
             [
              0,
              "#0d0887"
             ],
             [
              0.1111111111111111,
              "#46039f"
             ],
             [
              0.2222222222222222,
              "#7201a8"
             ],
             [
              0.3333333333333333,
              "#9c179e"
             ],
             [
              0.4444444444444444,
              "#bd3786"
             ],
             [
              0.5555555555555556,
              "#d8576b"
             ],
             [
              0.6666666666666666,
              "#ed7953"
             ],
             [
              0.7777777777777778,
              "#fb9f3a"
             ],
             [
              0.8888888888888888,
              "#fdca26"
             ],
             [
              1,
              "#f0f921"
             ]
            ],
            "type": "heatmapgl"
           }
          ],
          "histogram": [
           {
            "marker": {
             "colorbar": {
              "outlinewidth": 0,
              "ticks": ""
             }
            },
            "type": "histogram"
           }
          ],
          "histogram2d": [
           {
            "colorbar": {
             "outlinewidth": 0,
             "ticks": ""
            },
            "colorscale": [
             [
              0,
              "#0d0887"
             ],
             [
              0.1111111111111111,
              "#46039f"
             ],
             [
              0.2222222222222222,
              "#7201a8"
             ],
             [
              0.3333333333333333,
              "#9c179e"
             ],
             [
              0.4444444444444444,
              "#bd3786"
             ],
             [
              0.5555555555555556,
              "#d8576b"
             ],
             [
              0.6666666666666666,
              "#ed7953"
             ],
             [
              0.7777777777777778,
              "#fb9f3a"
             ],
             [
              0.8888888888888888,
              "#fdca26"
             ],
             [
              1,
              "#f0f921"
             ]
            ],
            "type": "histogram2d"
           }
          ],
          "histogram2dcontour": [
           {
            "colorbar": {
             "outlinewidth": 0,
             "ticks": ""
            },
            "colorscale": [
             [
              0,
              "#0d0887"
             ],
             [
              0.1111111111111111,
              "#46039f"
             ],
             [
              0.2222222222222222,
              "#7201a8"
             ],
             [
              0.3333333333333333,
              "#9c179e"
             ],
             [
              0.4444444444444444,
              "#bd3786"
             ],
             [
              0.5555555555555556,
              "#d8576b"
             ],
             [
              0.6666666666666666,
              "#ed7953"
             ],
             [
              0.7777777777777778,
              "#fb9f3a"
             ],
             [
              0.8888888888888888,
              "#fdca26"
             ],
             [
              1,
              "#f0f921"
             ]
            ],
            "type": "histogram2dcontour"
           }
          ],
          "mesh3d": [
           {
            "colorbar": {
             "outlinewidth": 0,
             "ticks": ""
            },
            "type": "mesh3d"
           }
          ],
          "parcoords": [
           {
            "line": {
             "colorbar": {
              "outlinewidth": 0,
              "ticks": ""
             }
            },
            "type": "parcoords"
           }
          ],
          "pie": [
           {
            "automargin": true,
            "type": "pie"
           }
          ],
          "scatter": [
           {
            "marker": {
             "colorbar": {
              "outlinewidth": 0,
              "ticks": ""
             }
            },
            "type": "scatter"
           }
          ],
          "scatter3d": [
           {
            "line": {
             "colorbar": {
              "outlinewidth": 0,
              "ticks": ""
             }
            },
            "marker": {
             "colorbar": {
              "outlinewidth": 0,
              "ticks": ""
             }
            },
            "type": "scatter3d"
           }
          ],
          "scattercarpet": [
           {
            "marker": {
             "colorbar": {
              "outlinewidth": 0,
              "ticks": ""
             }
            },
            "type": "scattercarpet"
           }
          ],
          "scattergeo": [
           {
            "marker": {
             "colorbar": {
              "outlinewidth": 0,
              "ticks": ""
             }
            },
            "type": "scattergeo"
           }
          ],
          "scattergl": [
           {
            "marker": {
             "colorbar": {
              "outlinewidth": 0,
              "ticks": ""
             }
            },
            "type": "scattergl"
           }
          ],
          "scattermapbox": [
           {
            "marker": {
             "colorbar": {
              "outlinewidth": 0,
              "ticks": ""
             }
            },
            "type": "scattermapbox"
           }
          ],
          "scatterpolar": [
           {
            "marker": {
             "colorbar": {
              "outlinewidth": 0,
              "ticks": ""
             }
            },
            "type": "scatterpolar"
           }
          ],
          "scatterpolargl": [
           {
            "marker": {
             "colorbar": {
              "outlinewidth": 0,
              "ticks": ""
             }
            },
            "type": "scatterpolargl"
           }
          ],
          "scatterternary": [
           {
            "marker": {
             "colorbar": {
              "outlinewidth": 0,
              "ticks": ""
             }
            },
            "type": "scatterternary"
           }
          ],
          "surface": [
           {
            "colorbar": {
             "outlinewidth": 0,
             "ticks": ""
            },
            "colorscale": [
             [
              0,
              "#0d0887"
             ],
             [
              0.1111111111111111,
              "#46039f"
             ],
             [
              0.2222222222222222,
              "#7201a8"
             ],
             [
              0.3333333333333333,
              "#9c179e"
             ],
             [
              0.4444444444444444,
              "#bd3786"
             ],
             [
              0.5555555555555556,
              "#d8576b"
             ],
             [
              0.6666666666666666,
              "#ed7953"
             ],
             [
              0.7777777777777778,
              "#fb9f3a"
             ],
             [
              0.8888888888888888,
              "#fdca26"
             ],
             [
              1,
              "#f0f921"
             ]
            ],
            "type": "surface"
           }
          ],
          "table": [
           {
            "cells": {
             "fill": {
              "color": "#EBF0F8"
             },
             "line": {
              "color": "white"
             }
            },
            "header": {
             "fill": {
              "color": "#C8D4E3"
             },
             "line": {
              "color": "white"
             }
            },
            "type": "table"
           }
          ]
         },
         "layout": {
          "annotationdefaults": {
           "arrowcolor": "#2a3f5f",
           "arrowhead": 0,
           "arrowwidth": 1
          },
          "coloraxis": {
           "colorbar": {
            "outlinewidth": 0,
            "ticks": ""
           }
          },
          "colorscale": {
           "diverging": [
            [
             0,
             "#8e0152"
            ],
            [
             0.1,
             "#c51b7d"
            ],
            [
             0.2,
             "#de77ae"
            ],
            [
             0.3,
             "#f1b6da"
            ],
            [
             0.4,
             "#fde0ef"
            ],
            [
             0.5,
             "#f7f7f7"
            ],
            [
             0.6,
             "#e6f5d0"
            ],
            [
             0.7,
             "#b8e186"
            ],
            [
             0.8,
             "#7fbc41"
            ],
            [
             0.9,
             "#4d9221"
            ],
            [
             1,
             "#276419"
            ]
           ],
           "sequential": [
            [
             0,
             "#0d0887"
            ],
            [
             0.1111111111111111,
             "#46039f"
            ],
            [
             0.2222222222222222,
             "#7201a8"
            ],
            [
             0.3333333333333333,
             "#9c179e"
            ],
            [
             0.4444444444444444,
             "#bd3786"
            ],
            [
             0.5555555555555556,
             "#d8576b"
            ],
            [
             0.6666666666666666,
             "#ed7953"
            ],
            [
             0.7777777777777778,
             "#fb9f3a"
            ],
            [
             0.8888888888888888,
             "#fdca26"
            ],
            [
             1,
             "#f0f921"
            ]
           ],
           "sequentialminus": [
            [
             0,
             "#0d0887"
            ],
            [
             0.1111111111111111,
             "#46039f"
            ],
            [
             0.2222222222222222,
             "#7201a8"
            ],
            [
             0.3333333333333333,
             "#9c179e"
            ],
            [
             0.4444444444444444,
             "#bd3786"
            ],
            [
             0.5555555555555556,
             "#d8576b"
            ],
            [
             0.6666666666666666,
             "#ed7953"
            ],
            [
             0.7777777777777778,
             "#fb9f3a"
            ],
            [
             0.8888888888888888,
             "#fdca26"
            ],
            [
             1,
             "#f0f921"
            ]
           ]
          },
          "colorway": [
           "#636efa",
           "#EF553B",
           "#00cc96",
           "#ab63fa",
           "#FFA15A",
           "#19d3f3",
           "#FF6692",
           "#B6E880",
           "#FF97FF",
           "#FECB52"
          ],
          "font": {
           "color": "#2a3f5f"
          },
          "geo": {
           "bgcolor": "white",
           "lakecolor": "white",
           "landcolor": "#E5ECF6",
           "showlakes": true,
           "showland": true,
           "subunitcolor": "white"
          },
          "hoverlabel": {
           "align": "left"
          },
          "hovermode": "closest",
          "mapbox": {
           "style": "light"
          },
          "paper_bgcolor": "white",
          "plot_bgcolor": "#E5ECF6",
          "polar": {
           "angularaxis": {
            "gridcolor": "white",
            "linecolor": "white",
            "ticks": ""
           },
           "bgcolor": "#E5ECF6",
           "radialaxis": {
            "gridcolor": "white",
            "linecolor": "white",
            "ticks": ""
           }
          },
          "scene": {
           "xaxis": {
            "backgroundcolor": "#E5ECF6",
            "gridcolor": "white",
            "gridwidth": 2,
            "linecolor": "white",
            "showbackground": true,
            "ticks": "",
            "zerolinecolor": "white"
           },
           "yaxis": {
            "backgroundcolor": "#E5ECF6",
            "gridcolor": "white",
            "gridwidth": 2,
            "linecolor": "white",
            "showbackground": true,
            "ticks": "",
            "zerolinecolor": "white"
           },
           "zaxis": {
            "backgroundcolor": "#E5ECF6",
            "gridcolor": "white",
            "gridwidth": 2,
            "linecolor": "white",
            "showbackground": true,
            "ticks": "",
            "zerolinecolor": "white"
           }
          },
          "shapedefaults": {
           "line": {
            "color": "#2a3f5f"
           }
          },
          "ternary": {
           "aaxis": {
            "gridcolor": "white",
            "linecolor": "white",
            "ticks": ""
           },
           "baxis": {
            "gridcolor": "white",
            "linecolor": "white",
            "ticks": ""
           },
           "bgcolor": "#E5ECF6",
           "caxis": {
            "gridcolor": "white",
            "linecolor": "white",
            "ticks": ""
           }
          },
          "title": {
           "x": 0.05
          },
          "xaxis": {
           "automargin": true,
           "gridcolor": "white",
           "linecolor": "white",
           "ticks": "",
           "title": {
            "standoff": 15
           },
           "zerolinecolor": "white",
           "zerolinewidth": 2
          },
          "yaxis": {
           "automargin": true,
           "gridcolor": "white",
           "linecolor": "white",
           "ticks": "",
           "title": {
            "standoff": 15
           },
           "zerolinecolor": "white",
           "zerolinewidth": 2
          }
         }
        },
        "title": {
         "text": "Population coverage within walking times from station"
        },
        "xaxis": {
         "anchor": "y",
         "categoryorder": "total ascending",
         "domain": [
          0,
          1
         ],
         "title": {
          "text": "Lines"
         }
        },
        "yaxis": {
         "anchor": "x",
         "domain": [
          0,
          1
         ],
         "title": {
          "text": "avg of Population Coverage"
         }
        }
       }
      }
     },
     "metadata": {},
     "output_type": "display_data"
    }
   ],
   "source": [
    "# drawshistograms for RapidKL lines' 5 minute walking population coverage\n",
    "\n",
    "fig = px.histogram(data_all[(data_all[\"City\"]=='Kuala Lumpur')&(data_all[\"Service Provider Name\"]=='Rapid KL')]\n",
    "             ,x='Route Name'\n",
    "             ,y='5 Minute Population'\n",
    "             , barmode = 'group'\n",
    "             , title=\"Population covered within 5 minutes walk from station\"\n",
    "             , template='plotly'\n",
    "             , histfunc = 'avg'\n",
    "             ,labels={'Route Name': \"Lines\", '5 Minute Population' : \"Population Coverage\"}\n",
    "            ).update_xaxes(categoryorder='total ascending')\n",
    "fig.update_layout(showlegend=False)\n",
    "fig.show() \n",
    "\n",
    "# draws histograms for RapidKL lines' 10 minute walking population coverage\n",
    "\n",
    "fig = px.histogram(data_all[(data_all[\"City\"]=='Kuala Lumpur')&(data_all[\"Service Provider Name\"]=='Rapid KL')]\n",
    "             ,x='Route Name'\n",
    "             ,y='10 Minute Population'\n",
    "             , barmode = 'group'\n",
    "             , title=\"Population coverage within 10 minutes walk from station\"\n",
    "             , template='plotly'\n",
    "             , histfunc = 'avg'\n",
    "             ,labels={'Route Name': \"Lines\", '10 Minute Population' : \"Population Coverage\"}\n",
    "            ).update_xaxes(categoryorder='total ascending')\n",
    "fig.update_layout(showlegend=False)\n",
    "fig.show() \n",
    "\n",
    "# draws histograms for RapidKL lines' 15 minute walking population coverage\n",
    "\n",
    "fig = px.histogram(data_all[(data_all[\"City\"]=='Kuala Lumpur')&(data_all[\"Service Provider Name\"]=='Rapid KL')]\n",
    "             ,x='Route Name'\n",
    "             ,y='15 Minute Population'\n",
    "             , barmode = 'group'\n",
    "             , title=\"Population coverage within 15 minutes walk from station\"\n",
    "             , template='plotly'\n",
    "             , histfunc = 'avg'\n",
    "             ,labels={'Route Name': \"Lines\", '15 Minute Population' : \"Population Coverage\"}\n",
    "            ).update_xaxes(categoryorder='total ascending')\n",
    "fig.update_layout(showlegend=False)\n",
    "fig.show() \n",
    "\n",
    "# draws  histograms for RapidKL lines' 5,10,15 minute walking population coverage\n",
    "\n",
    "fig = px.histogram(data_all[data_all[\"City\"]=='Kuala Lumpur']\n",
    "             ,x='Route Name'\n",
    "             ,y=['5 Minute Population','10 Minute Population','15 Minute Population']\n",
    "             , barmode = 'group'\n",
    "             , title=\"Population coverage within walking times from station\"\n",
    "             , template='plotly'\n",
    "             , histfunc = 'avg'\n",
    "             ,labels={'Route Name': \"Lines\",'value' : \"Population Coverage\"}\n",
    "            ).update_xaxes(categoryorder='total ascending')\n",
    "\n",
    "fig.show()       "
   ]
  },
  {
   "cell_type": "code",
   "execution_count": 6,
   "metadata": {},
   "outputs": [
    {
     "data": {
      "application/vnd.plotly.v1+json": {
       "config": {
        "plotlyServerURL": "https://plot.ly"
       },
       "data": [
        {
         "alignmentgroup": "True",
         "bingroup": "x",
         "histfunc": "avg",
         "hovertemplate": "Name=%{x}<br>avg of 15 Minute Range Area=%{y}<extra></extra>",
         "legendgroup": "",
         "marker": {
          "color": "#636efa"
         },
         "name": "",
         "offsetgroup": "",
         "orientation": "v",
         "showlegend": false,
         "type": "histogram",
         "x": [
          "TAMAN WAHYU",
          "KAMPUNG BATU",
          "MID VALLEY",
          "BATU KENTOMEN",
          "BATU CAVES",
          "SEPUTEH",
          "SENTUL",
          "PUTRA",
          "BANK NEGARA",
          "KUALA LUMPUR",
          "SALAK SELATAN",
          "BANDAR TASIK SELATAN",
          "SERDANG",
          "BANGI",
          "UKM",
          "KAJANG",
          "NILAI",
          "LABU",
          "BATANG BENAR",
          "TIROI",
          "SEREMBAN",
          "SENAWANG",
          "SUNGAI GADUT",
          "REMBAU",
          "PULAU SEBANG/TAMPIN",
          "KL SENTRAL",
          "PORT KLANG",
          "JALAN KASTAM",
          "KAMPUNG RAJA UDA",
          "TELUK GADONG",
          "TELUK PULAI",
          "KLANG",
          "BUKIT BADAK",
          "PADANG JAWA",
          "TANJUNG MALIM",
          "SHAH ALAM",
          "KUANG",
          "BATU TIGA",
          "RAWANG",
          "SUNGAI BULOH",
          "SUBANG JAYA",
          "SETIA JAYA",
          "SERENDAH",
          "SERI SETIA",
          "KEPONG SENTRAL",
          "KAMPUNG DATO HARUN",
          "RASA",
          "KEPONG",
          "BATANG KALI",
          "KUALA KUBU BHARU",
          "JALAN TEMPLER",
          "PETALING",
          "SEGAMBUT",
          "PANTAI DALAM",
          "ABDULLAH HUKUM",
          "ANGKASAPURI",
          "PUTRA",
          "BANK NEGARA",
          "KUALA LUMPUR",
          "KL SENTRAL",
          "PWTC",
          "SULTAN ISMAIL",
          "BANDARAYA",
          "TITIWANGSA",
          "SENTUL TIMUR",
          "SENTUL",
          "MASJID JAMEK",
          "PLAZA RAKYAT",
          "HANG TUAH",
          "PUDU",
          "CHAN SOW LIN",
          "MIHARJA",
          "MALURI",
          "PANDAN JAYA",
          "PANDAN INDAH",
          "CEMPAKA",
          "CAHAYA",
          "AMPANG",
          "PUTRA HEIGHTS",
          "PUCHONG PRIMA",
          "PUCHONG PERDANA",
          "BANDAR PUTERI",
          "TAMAN PERINDUSTRIAN PUCHONG (TPP)",
          "PUSAT BANDAR PUCHONG",
          "IOI PUCHONG JAYA",
          "KINRARA",
          "ALAM SUTERA",
          "MUHIBBAH",
          "AWAN BESAR",
          "SRI PETALING",
          "BUKIT JALIL",
          "PWTC",
          "SULTAN ISMAIL",
          "BANDARAYA",
          "TITIWANGSA",
          "SENTUL TIMUR",
          "SENTUL",
          "MASJID JAMEK",
          "PLAZA RAKYAT",
          "HANG TUAH",
          "SALAK SELATAN",
          "SUNGAI BESI",
          "BANDAR TASIK SELATAN",
          "PUDU",
          "BANDAR TUN RAZAK",
          "CHERAS",
          "CHAN SOW LIN",
          "ALAM MEGAH",
          "SUBANG ALAM",
          "PUTRA HEIGHTS",
          "USJ21",
          "SS18",
          "SS15",
          "ARA DAMANSARA",
          "SUBANG JAYA",
          "WAWASAN",
          "TAIPAN",
          "GLENMARIE",
          "LEMBAH SUBANG",
          "USJ7",
          "KELANA JAYA",
          "TAMAN BAHAGIA",
          "TAMAN PARAMOUNT",
          "ASIA JAYA",
          "TAMAN JAYA",
          "UNIVERSITI",
          "KERINCHI",
          "ABDULLAH HUKUM",
          "BANGSAR",
          "KL SENTRAL",
          "PASAR SENI",
          "MASJID JAMEK",
          "DANG WANGI",
          "KAMPUNG BARU",
          "KLCC",
          "AMPANG PARK",
          "TAMAN MELATI",
          "GOMBAK",
          "DAMAI",
          "WANGSA MAJU",
          "DATO' KERAMAT",
          "JELATEK",
          "SETIAWANGSA",
          "SRI RAMPAI",
          "KLIA2",
          "KUALA LUMPUR INTERNATIONAL AIRPORT",
          "KL SENTRAL",
          "PUTRAJAYA & CYBERJAYA",
          "KLIA2",
          "KUALA LUMPUR INTERNATIONAL AIRPORT",
          "BANDAR TASIK SELATAN",
          "SALAK TINGGI",
          "KL SENTRAL",
          "KL SENTRAL",
          "TUN SAMBANTHAN",
          "TITIWANGSA",
          "CHOW KIT",
          "MEDAN TUANKU",
          "MAHARAJALELA",
          "BUKIT NANAS",
          "HANG TUAH",
          "IMBI",
          "RAJA CHULAN",
          "BUKIT BINTANG",
          "KWASA SENTRAL",
          "KWASA DAMANSARA",
          "KAMPUNG SELAMAT",
          "KOTA DAMANSARA",
          "SUNGAI BULOH",
          "SURIAN",
          "MUTIARA DAMANSARA",
          "BANDAR UTAMA",
          "TTDI",
          "PHILEO DAMANSARA",
          "PUSAT BANDAR DAMANSARA",
          "SEMANTAN",
          "MUZIUM NEGARA",
          "PASAR SENI",
          "MERDEKA",
          "BUKIT BINTANG",
          "TUN RAZAK EXCHANGE",
          "COCHRANE",
          "MALURI",
          "TAMAN PERTAMA",
          "TAMAN MIDAH",
          "TAMAN MUTIARA",
          "TAMAN CONNAUGHT",
          "TAMAN SUNTEX",
          "BUKIT DUKUNG",
          "SRI RAYA",
          "BATU 11 CHERAS",
          "BANDAR TUN HUSSIEN ONN",
          "SUNGAI JERNIH",
          "STADIUM KAJANG",
          "KAJANG",
          "TERMINAL SKYPARK",
          "SUBANG JAYA",
          "KL SENTRAL",
          "USJ7",
          "SOUTH QUAY-USJ1",
          "SUNU MONASH",
          "SUNMED",
          "MENTARI",
          "SUNWAY LAGOON",
          "SUNWAY-SETIA JAYA"
         ],
         "xaxis": "x",
         "y": [
          2.01372087,
          2.17127068,
          2.48414194,
          1.48011698,
          2.1961619100000003,
          2.04364832,
          2.1467981600000003,
          2.1587216,
          2.66303866,
          2.79807204,
          0.77668935,
          1.08777585,
          0.29188265,
          0.64270174,
          1.89625466,
          1.49313344,
          1.45951211,
          1.54205525,
          1.2556628,
          0.72429019,
          2.33026197,
          1.69244408,
          1.24454468,
          1.24454468,
          0.85267845,
          2.53606819,
          1.5478033100000002,
          1.29715947,
          1.3352201499999998,
          2.0227466,
          3.05769708,
          0.77981681,
          1.2065108,
          1.24413481,
          1.33726152,
          1.44101731,
          1.49972089,
          1.69686571,
          2.04634475,
          1.58638318,
          1.1513782,
          1.62531859,
          0.86404136,
          2.59634847,
          1.64602341,
          1.8300464,
          1.77151378,
          1.41677477,
          1.1314363,
          1.06013488,
          1.5269925800000002,
          1.20257125,
          2.17071255,
          2.2585546,
          1.5659501299999998,
          0.41799525,
          2.1587216,
          2.66329878,
          2.79773503,
          2.53606819,
          2.50320723,
          2.18713898,
          2.97553758,
          3.24989455,
          2.30154847,
          2.43804193,
          3.57417472,
          2.15523282,
          3.13635847,
          2.87843455,
          2.00438714,
          1.72766469,
          2.63536614,
          1.30700796,
          2.8398799300000004,
          2.6485886,
          2.36282791,
          2.18438939,
          2.15049166,
          2.21036431,
          2.92087017,
          1.70459228,
          0.99874736,
          2.31082803,
          1.46526333,
          2.00864547,
          1.96053364,
          1.99741613,
          1.4407928799999998,
          1.78729107,
          2.56875504,
          2.50320723,
          2.18713898,
          2.97553758,
          3.24989455,
          2.30154847,
          2.43804193,
          3.57417472,
          2.15523282,
          3.13635847,
          1.23613699,
          1.80755973,
          1.28215506,
          2.87843455,
          1.16625679,
          1.48917365,
          2.00438714,
          0.73848588,
          0.96879234,
          2.14291925,
          1.7670411,
          2.55634706,
          2.5685247400000004,
          1.36584476,
          1.4989333,
          3.05360071,
          3.07315564,
          2.30392579,
          1.33235855,
          3.0407064100000003,
          2.65852396,
          3.41690366,
          2.66858784,
          2.55299055,
          2.54116602,
          2.15266294,
          2.47394872,
          1.5659501299999998,
          2.91673712,
          2.47261526,
          2.97844454,
          3.47835279,
          2.55415807,
          2.67538928,
          2.9409497200000003,
          2.27835626,
          3.16651208,
          1.0854431299999998,
          1.63097096,
          1.25523608,
          2.80011178,
          2.85647793,
          2.3320872,
          1.84844813,
          0.7644734999999999,
          0.59148389,
          2.65349169,
          1.71205727,
          0.7644734999999999,
          0.59148389,
          1.28215506,
          0.80806759,
          2.65349169,
          2.65349169,
          2.4697297,
          2.8377076,
          3.4585355000000004,
          2.89450107,
          2.31622159,
          3.18113759,
          2.86908831,
          3.18807073,
          3.43811055,
          3.43721354,
          1.39431611,
          0.77787122,
          1.84313567,
          2.4039592,
          0.93031178,
          2.63810659,
          2.6266688300000003,
          1.1560063,
          2.21364998,
          1.7190148999999997,
          1.88394972,
          1.5214177,
          2.57465602,
          2.93804371,
          2.55486237,
          3.53382386,
          1.61326365,
          2.88430088,
          3.03546832,
          2.87970501,
          2.55413829,
          2.39006463,
          1.1586145,
          1.57184147,
          1.02247819,
          1.92063742,
          1.17586881,
          1.08940472,
          2.53917369,
          3.40544625,
          1.09995471,
          0.7546312900000001,
          1.1513782,
          2.65349169,
          2.84510193,
          1.19718294,
          2.25366035,
          2.12975314,
          2.1030639,
          1.89476671,
          1.70544332
         ],
         "yaxis": "y"
        }
       ],
       "layout": {
        "barmode": "relative",
        "legend": {
         "tracegroupgap": 0
        },
        "template": {
         "data": {
          "bar": [
           {
            "error_x": {
             "color": "#2a3f5f"
            },
            "error_y": {
             "color": "#2a3f5f"
            },
            "marker": {
             "line": {
              "color": "#E5ECF6",
              "width": 0.5
             }
            },
            "type": "bar"
           }
          ],
          "barpolar": [
           {
            "marker": {
             "line": {
              "color": "#E5ECF6",
              "width": 0.5
             }
            },
            "type": "barpolar"
           }
          ],
          "carpet": [
           {
            "aaxis": {
             "endlinecolor": "#2a3f5f",
             "gridcolor": "white",
             "linecolor": "white",
             "minorgridcolor": "white",
             "startlinecolor": "#2a3f5f"
            },
            "baxis": {
             "endlinecolor": "#2a3f5f",
             "gridcolor": "white",
             "linecolor": "white",
             "minorgridcolor": "white",
             "startlinecolor": "#2a3f5f"
            },
            "type": "carpet"
           }
          ],
          "choropleth": [
           {
            "colorbar": {
             "outlinewidth": 0,
             "ticks": ""
            },
            "type": "choropleth"
           }
          ],
          "contour": [
           {
            "colorbar": {
             "outlinewidth": 0,
             "ticks": ""
            },
            "colorscale": [
             [
              0,
              "#0d0887"
             ],
             [
              0.1111111111111111,
              "#46039f"
             ],
             [
              0.2222222222222222,
              "#7201a8"
             ],
             [
              0.3333333333333333,
              "#9c179e"
             ],
             [
              0.4444444444444444,
              "#bd3786"
             ],
             [
              0.5555555555555556,
              "#d8576b"
             ],
             [
              0.6666666666666666,
              "#ed7953"
             ],
             [
              0.7777777777777778,
              "#fb9f3a"
             ],
             [
              0.8888888888888888,
              "#fdca26"
             ],
             [
              1,
              "#f0f921"
             ]
            ],
            "type": "contour"
           }
          ],
          "contourcarpet": [
           {
            "colorbar": {
             "outlinewidth": 0,
             "ticks": ""
            },
            "type": "contourcarpet"
           }
          ],
          "heatmap": [
           {
            "colorbar": {
             "outlinewidth": 0,
             "ticks": ""
            },
            "colorscale": [
             [
              0,
              "#0d0887"
             ],
             [
              0.1111111111111111,
              "#46039f"
             ],
             [
              0.2222222222222222,
              "#7201a8"
             ],
             [
              0.3333333333333333,
              "#9c179e"
             ],
             [
              0.4444444444444444,
              "#bd3786"
             ],
             [
              0.5555555555555556,
              "#d8576b"
             ],
             [
              0.6666666666666666,
              "#ed7953"
             ],
             [
              0.7777777777777778,
              "#fb9f3a"
             ],
             [
              0.8888888888888888,
              "#fdca26"
             ],
             [
              1,
              "#f0f921"
             ]
            ],
            "type": "heatmap"
           }
          ],
          "heatmapgl": [
           {
            "colorbar": {
             "outlinewidth": 0,
             "ticks": ""
            },
            "colorscale": [
             [
              0,
              "#0d0887"
             ],
             [
              0.1111111111111111,
              "#46039f"
             ],
             [
              0.2222222222222222,
              "#7201a8"
             ],
             [
              0.3333333333333333,
              "#9c179e"
             ],
             [
              0.4444444444444444,
              "#bd3786"
             ],
             [
              0.5555555555555556,
              "#d8576b"
             ],
             [
              0.6666666666666666,
              "#ed7953"
             ],
             [
              0.7777777777777778,
              "#fb9f3a"
             ],
             [
              0.8888888888888888,
              "#fdca26"
             ],
             [
              1,
              "#f0f921"
             ]
            ],
            "type": "heatmapgl"
           }
          ],
          "histogram": [
           {
            "marker": {
             "colorbar": {
              "outlinewidth": 0,
              "ticks": ""
             }
            },
            "type": "histogram"
           }
          ],
          "histogram2d": [
           {
            "colorbar": {
             "outlinewidth": 0,
             "ticks": ""
            },
            "colorscale": [
             [
              0,
              "#0d0887"
             ],
             [
              0.1111111111111111,
              "#46039f"
             ],
             [
              0.2222222222222222,
              "#7201a8"
             ],
             [
              0.3333333333333333,
              "#9c179e"
             ],
             [
              0.4444444444444444,
              "#bd3786"
             ],
             [
              0.5555555555555556,
              "#d8576b"
             ],
             [
              0.6666666666666666,
              "#ed7953"
             ],
             [
              0.7777777777777778,
              "#fb9f3a"
             ],
             [
              0.8888888888888888,
              "#fdca26"
             ],
             [
              1,
              "#f0f921"
             ]
            ],
            "type": "histogram2d"
           }
          ],
          "histogram2dcontour": [
           {
            "colorbar": {
             "outlinewidth": 0,
             "ticks": ""
            },
            "colorscale": [
             [
              0,
              "#0d0887"
             ],
             [
              0.1111111111111111,
              "#46039f"
             ],
             [
              0.2222222222222222,
              "#7201a8"
             ],
             [
              0.3333333333333333,
              "#9c179e"
             ],
             [
              0.4444444444444444,
              "#bd3786"
             ],
             [
              0.5555555555555556,
              "#d8576b"
             ],
             [
              0.6666666666666666,
              "#ed7953"
             ],
             [
              0.7777777777777778,
              "#fb9f3a"
             ],
             [
              0.8888888888888888,
              "#fdca26"
             ],
             [
              1,
              "#f0f921"
             ]
            ],
            "type": "histogram2dcontour"
           }
          ],
          "mesh3d": [
           {
            "colorbar": {
             "outlinewidth": 0,
             "ticks": ""
            },
            "type": "mesh3d"
           }
          ],
          "parcoords": [
           {
            "line": {
             "colorbar": {
              "outlinewidth": 0,
              "ticks": ""
             }
            },
            "type": "parcoords"
           }
          ],
          "pie": [
           {
            "automargin": true,
            "type": "pie"
           }
          ],
          "scatter": [
           {
            "marker": {
             "colorbar": {
              "outlinewidth": 0,
              "ticks": ""
             }
            },
            "type": "scatter"
           }
          ],
          "scatter3d": [
           {
            "line": {
             "colorbar": {
              "outlinewidth": 0,
              "ticks": ""
             }
            },
            "marker": {
             "colorbar": {
              "outlinewidth": 0,
              "ticks": ""
             }
            },
            "type": "scatter3d"
           }
          ],
          "scattercarpet": [
           {
            "marker": {
             "colorbar": {
              "outlinewidth": 0,
              "ticks": ""
             }
            },
            "type": "scattercarpet"
           }
          ],
          "scattergeo": [
           {
            "marker": {
             "colorbar": {
              "outlinewidth": 0,
              "ticks": ""
             }
            },
            "type": "scattergeo"
           }
          ],
          "scattergl": [
           {
            "marker": {
             "colorbar": {
              "outlinewidth": 0,
              "ticks": ""
             }
            },
            "type": "scattergl"
           }
          ],
          "scattermapbox": [
           {
            "marker": {
             "colorbar": {
              "outlinewidth": 0,
              "ticks": ""
             }
            },
            "type": "scattermapbox"
           }
          ],
          "scatterpolar": [
           {
            "marker": {
             "colorbar": {
              "outlinewidth": 0,
              "ticks": ""
             }
            },
            "type": "scatterpolar"
           }
          ],
          "scatterpolargl": [
           {
            "marker": {
             "colorbar": {
              "outlinewidth": 0,
              "ticks": ""
             }
            },
            "type": "scatterpolargl"
           }
          ],
          "scatterternary": [
           {
            "marker": {
             "colorbar": {
              "outlinewidth": 0,
              "ticks": ""
             }
            },
            "type": "scatterternary"
           }
          ],
          "surface": [
           {
            "colorbar": {
             "outlinewidth": 0,
             "ticks": ""
            },
            "colorscale": [
             [
              0,
              "#0d0887"
             ],
             [
              0.1111111111111111,
              "#46039f"
             ],
             [
              0.2222222222222222,
              "#7201a8"
             ],
             [
              0.3333333333333333,
              "#9c179e"
             ],
             [
              0.4444444444444444,
              "#bd3786"
             ],
             [
              0.5555555555555556,
              "#d8576b"
             ],
             [
              0.6666666666666666,
              "#ed7953"
             ],
             [
              0.7777777777777778,
              "#fb9f3a"
             ],
             [
              0.8888888888888888,
              "#fdca26"
             ],
             [
              1,
              "#f0f921"
             ]
            ],
            "type": "surface"
           }
          ],
          "table": [
           {
            "cells": {
             "fill": {
              "color": "#EBF0F8"
             },
             "line": {
              "color": "white"
             }
            },
            "header": {
             "fill": {
              "color": "#C8D4E3"
             },
             "line": {
              "color": "white"
             }
            },
            "type": "table"
           }
          ]
         },
         "layout": {
          "annotationdefaults": {
           "arrowcolor": "#2a3f5f",
           "arrowhead": 0,
           "arrowwidth": 1
          },
          "coloraxis": {
           "colorbar": {
            "outlinewidth": 0,
            "ticks": ""
           }
          },
          "colorscale": {
           "diverging": [
            [
             0,
             "#8e0152"
            ],
            [
             0.1,
             "#c51b7d"
            ],
            [
             0.2,
             "#de77ae"
            ],
            [
             0.3,
             "#f1b6da"
            ],
            [
             0.4,
             "#fde0ef"
            ],
            [
             0.5,
             "#f7f7f7"
            ],
            [
             0.6,
             "#e6f5d0"
            ],
            [
             0.7,
             "#b8e186"
            ],
            [
             0.8,
             "#7fbc41"
            ],
            [
             0.9,
             "#4d9221"
            ],
            [
             1,
             "#276419"
            ]
           ],
           "sequential": [
            [
             0,
             "#0d0887"
            ],
            [
             0.1111111111111111,
             "#46039f"
            ],
            [
             0.2222222222222222,
             "#7201a8"
            ],
            [
             0.3333333333333333,
             "#9c179e"
            ],
            [
             0.4444444444444444,
             "#bd3786"
            ],
            [
             0.5555555555555556,
             "#d8576b"
            ],
            [
             0.6666666666666666,
             "#ed7953"
            ],
            [
             0.7777777777777778,
             "#fb9f3a"
            ],
            [
             0.8888888888888888,
             "#fdca26"
            ],
            [
             1,
             "#f0f921"
            ]
           ],
           "sequentialminus": [
            [
             0,
             "#0d0887"
            ],
            [
             0.1111111111111111,
             "#46039f"
            ],
            [
             0.2222222222222222,
             "#7201a8"
            ],
            [
             0.3333333333333333,
             "#9c179e"
            ],
            [
             0.4444444444444444,
             "#bd3786"
            ],
            [
             0.5555555555555556,
             "#d8576b"
            ],
            [
             0.6666666666666666,
             "#ed7953"
            ],
            [
             0.7777777777777778,
             "#fb9f3a"
            ],
            [
             0.8888888888888888,
             "#fdca26"
            ],
            [
             1,
             "#f0f921"
            ]
           ]
          },
          "colorway": [
           "#636efa",
           "#EF553B",
           "#00cc96",
           "#ab63fa",
           "#FFA15A",
           "#19d3f3",
           "#FF6692",
           "#B6E880",
           "#FF97FF",
           "#FECB52"
          ],
          "font": {
           "color": "#2a3f5f"
          },
          "geo": {
           "bgcolor": "white",
           "lakecolor": "white",
           "landcolor": "#E5ECF6",
           "showlakes": true,
           "showland": true,
           "subunitcolor": "white"
          },
          "hoverlabel": {
           "align": "left"
          },
          "hovermode": "closest",
          "mapbox": {
           "style": "light"
          },
          "paper_bgcolor": "white",
          "plot_bgcolor": "#E5ECF6",
          "polar": {
           "angularaxis": {
            "gridcolor": "white",
            "linecolor": "white",
            "ticks": ""
           },
           "bgcolor": "#E5ECF6",
           "radialaxis": {
            "gridcolor": "white",
            "linecolor": "white",
            "ticks": ""
           }
          },
          "scene": {
           "xaxis": {
            "backgroundcolor": "#E5ECF6",
            "gridcolor": "white",
            "gridwidth": 2,
            "linecolor": "white",
            "showbackground": true,
            "ticks": "",
            "zerolinecolor": "white"
           },
           "yaxis": {
            "backgroundcolor": "#E5ECF6",
            "gridcolor": "white",
            "gridwidth": 2,
            "linecolor": "white",
            "showbackground": true,
            "ticks": "",
            "zerolinecolor": "white"
           },
           "zaxis": {
            "backgroundcolor": "#E5ECF6",
            "gridcolor": "white",
            "gridwidth": 2,
            "linecolor": "white",
            "showbackground": true,
            "ticks": "",
            "zerolinecolor": "white"
           }
          },
          "shapedefaults": {
           "line": {
            "color": "#2a3f5f"
           }
          },
          "ternary": {
           "aaxis": {
            "gridcolor": "white",
            "linecolor": "white",
            "ticks": ""
           },
           "baxis": {
            "gridcolor": "white",
            "linecolor": "white",
            "ticks": ""
           },
           "bgcolor": "#E5ECF6",
           "caxis": {
            "gridcolor": "white",
            "linecolor": "white",
            "ticks": ""
           }
          },
          "title": {
           "x": 0.05
          },
          "xaxis": {
           "automargin": true,
           "gridcolor": "white",
           "linecolor": "white",
           "ticks": "",
           "title": {
            "standoff": 15
           },
           "zerolinecolor": "white",
           "zerolinewidth": 2
          },
          "yaxis": {
           "automargin": true,
           "gridcolor": "white",
           "linecolor": "white",
           "ticks": "",
           "title": {
            "standoff": 15
           },
           "zerolinecolor": "white",
           "zerolinewidth": 2
          }
         }
        },
        "title": {
         "text": "Average Area covered by 15 minute Walk"
        },
        "xaxis": {
         "anchor": "y",
         "categoryorder": "total ascending",
         "domain": [
          0,
          1
         ],
         "title": {
          "text": "Name"
         }
        },
        "yaxis": {
         "anchor": "x",
         "domain": [
          0,
          1
         ],
         "title": {
          "text": "avg of 15 Minute Range Area"
         }
        }
       }
      }
     },
     "metadata": {},
     "output_type": "display_data"
    }
   ],
   "source": [
    "#Thought it would be fun to draw the 15 minutes walking area coverage for each KL train station, Bukit Bintang is the best, Serdang the worst \n",
    "fig = px.histogram(data_all[data_all[\"City\"]=='Kuala Lumpur']\n",
    "             ,x='Name'\n",
    "             ,y='15 Minute Range Area'\n",
    "             #,color='Route Name'\n",
    "             , labels={'count':'Count of Heroes'}\n",
    "             , title=\"Average Area covered by 15 minute Walk\"\n",
    "             , template='plotly' \n",
    "             , histfunc = 'avg'\n",
    "            ).update_xaxes(categoryorder='total ascending')\n",
    "        \n",
    "fig.show()"
   ]
  },
  {
   "cell_type": "markdown",
   "metadata": {},
   "source": [
    "# Comparing KL with other cities\n",
    "The Singapore and Montreal dataset doesn't really include the equivalent of Komuter trains like KL so i thought it would be unfair to bundle them together because generally the coverage for those stations are not as great due to low density. So i excluded Komuter in the following averages so that we get purely metro style train stations"
   ]
  },
  {
   "cell_type": "code",
   "execution_count": 7,
   "metadata": {},
   "outputs": [
    {
     "data": {
      "text/plain": [
       "array(['Keretapi Tanah Melayu', 'Rapid KL', 'Express Rail Link',\n",
       "       'Rapid Bus'], dtype=object)"
      ]
     },
     "execution_count": 7,
     "metadata": {},
     "output_type": "execute_result"
    }
   ],
   "source": [
    "data_kl['Service Provider Name'].unique()"
   ]
  },
  {
   "cell_type": "code",
   "execution_count": 8,
   "metadata": {},
   "outputs": [],
   "source": [
    "non_rapidkl =['Keretapi Tanah Melayu', 'Express Rail Link','Rapid Bus']\n",
    "data_temp = data_all[(data_all[\"Service Provider Name\"]=='STM')|(data_all[\"Service Provider Name\"]=='Rapid KL')|(data_all[\"Service Provider Name\"]=='SMRT')]"
   ]
  },
  {
   "cell_type": "code",
   "execution_count": 9,
   "metadata": {},
   "outputs": [
    {
     "data": {
      "text/html": [
       "<div>\n",
       "<style scoped>\n",
       "    .dataframe tbody tr th:only-of-type {\n",
       "        vertical-align: middle;\n",
       "    }\n",
       "\n",
       "    .dataframe tbody tr th {\n",
       "        vertical-align: top;\n",
       "    }\n",
       "\n",
       "    .dataframe thead th {\n",
       "        text-align: right;\n",
       "    }\n",
       "</style>\n",
       "<table border=\"1\" class=\"dataframe\">\n",
       "  <thead>\n",
       "    <tr style=\"text-align: right;\">\n",
       "      <th></th>\n",
       "      <th>Name</th>\n",
       "      <th>Route Name</th>\n",
       "      <th>Latitude</th>\n",
       "      <th>Longitude</th>\n",
       "      <th>Line Colour</th>\n",
       "      <th>5 Minute Range Area</th>\n",
       "      <th>10 Minute Range Area</th>\n",
       "      <th>15 Minute Range Area</th>\n",
       "      <th>5 Minute Reach Factor</th>\n",
       "      <th>10 Minute Reach Factor</th>\n",
       "      <th>15 Minute Reach Factor</th>\n",
       "      <th>5 Minute Population</th>\n",
       "      <th>10 Minute Population</th>\n",
       "      <th>15 Minute Population</th>\n",
       "      <th>City</th>\n",
       "      <th>Service Provider Name</th>\n",
       "    </tr>\n",
       "  </thead>\n",
       "  <tbody>\n",
       "    <tr>\n",
       "      <th>60</th>\n",
       "      <td>PWTC</td>\n",
       "      <td>Ampang Line</td>\n",
       "      <td>3.166563</td>\n",
       "      <td>101.693594</td>\n",
       "      <td>Orange</td>\n",
       "      <td>0.337242</td>\n",
       "      <td>1.093349</td>\n",
       "      <td>2.503207</td>\n",
       "      <td>0.6183</td>\n",
       "      <td>0.5012</td>\n",
       "      <td>0.5099</td>\n",
       "      <td>2186.0</td>\n",
       "      <td>7710.0</td>\n",
       "      <td>16554.0</td>\n",
       "      <td>Kuala Lumpur</td>\n",
       "      <td>Rapid KL</td>\n",
       "    </tr>\n",
       "    <tr>\n",
       "      <th>61</th>\n",
       "      <td>SULTAN ISMAIL</td>\n",
       "      <td>Ampang Line</td>\n",
       "      <td>3.161185</td>\n",
       "      <td>101.694127</td>\n",
       "      <td>Orange</td>\n",
       "      <td>0.154666</td>\n",
       "      <td>0.802314</td>\n",
       "      <td>2.187139</td>\n",
       "      <td>0.2836</td>\n",
       "      <td>0.3678</td>\n",
       "      <td>0.4456</td>\n",
       "      <td>845.0</td>\n",
       "      <td>5572.0</td>\n",
       "      <td>15104.0</td>\n",
       "      <td>Kuala Lumpur</td>\n",
       "      <td>Rapid KL</td>\n",
       "    </tr>\n",
       "    <tr>\n",
       "      <th>62</th>\n",
       "      <td>BANDARAYA</td>\n",
       "      <td>Ampang Line</td>\n",
       "      <td>3.155548</td>\n",
       "      <td>101.694406</td>\n",
       "      <td>Orange</td>\n",
       "      <td>0.331767</td>\n",
       "      <td>1.329914</td>\n",
       "      <td>2.975538</td>\n",
       "      <td>0.6083</td>\n",
       "      <td>0.6096</td>\n",
       "      <td>0.6062</td>\n",
       "      <td>2141.0</td>\n",
       "      <td>8555.0</td>\n",
       "      <td>20457.0</td>\n",
       "      <td>Kuala Lumpur</td>\n",
       "      <td>Rapid KL</td>\n",
       "    </tr>\n",
       "    <tr>\n",
       "      <th>63</th>\n",
       "      <td>TITIWANGSA</td>\n",
       "      <td>Ampang Line</td>\n",
       "      <td>3.173591</td>\n",
       "      <td>101.695273</td>\n",
       "      <td>Orange</td>\n",
       "      <td>0.377274</td>\n",
       "      <td>1.317302</td>\n",
       "      <td>3.249895</td>\n",
       "      <td>0.6917</td>\n",
       "      <td>0.6038</td>\n",
       "      <td>0.6621</td>\n",
       "      <td>3133.0</td>\n",
       "      <td>9015.0</td>\n",
       "      <td>21377.0</td>\n",
       "      <td>Kuala Lumpur</td>\n",
       "      <td>Rapid KL</td>\n",
       "    </tr>\n",
       "    <tr>\n",
       "      <th>64</th>\n",
       "      <td>SENTUL TIMUR</td>\n",
       "      <td>Ampang Line</td>\n",
       "      <td>3.185821</td>\n",
       "      <td>101.695335</td>\n",
       "      <td>Orange</td>\n",
       "      <td>0.159329</td>\n",
       "      <td>0.980199</td>\n",
       "      <td>2.301548</td>\n",
       "      <td>0.2921</td>\n",
       "      <td>0.4493</td>\n",
       "      <td>0.4689</td>\n",
       "      <td>847.0</td>\n",
       "      <td>7814.0</td>\n",
       "      <td>16574.0</td>\n",
       "      <td>Kuala Lumpur</td>\n",
       "      <td>Rapid KL</td>\n",
       "    </tr>\n",
       "    <tr>\n",
       "      <th>...</th>\n",
       "      <td>...</td>\n",
       "      <td>...</td>\n",
       "      <td>...</td>\n",
       "      <td>...</td>\n",
       "      <td>...</td>\n",
       "      <td>...</td>\n",
       "      <td>...</td>\n",
       "      <td>...</td>\n",
       "      <td>...</td>\n",
       "      <td>...</td>\n",
       "      <td>...</td>\n",
       "      <td>...</td>\n",
       "      <td>...</td>\n",
       "      <td>...</td>\n",
       "      <td>...</td>\n",
       "      <td>...</td>\n",
       "    </tr>\n",
       "    <tr>\n",
       "      <th>68</th>\n",
       "      <td>D'Iberville</td>\n",
       "      <td>Blue Line</td>\n",
       "      <td>45.553078</td>\n",
       "      <td>-73.602270</td>\n",
       "      <td>Blue</td>\n",
       "      <td>0.392088</td>\n",
       "      <td>1.532228</td>\n",
       "      <td>3.482008</td>\n",
       "      <td>0.7189</td>\n",
       "      <td>0.7023</td>\n",
       "      <td>0.7093</td>\n",
       "      <td>4854.0</td>\n",
       "      <td>16359.0</td>\n",
       "      <td>40443.0</td>\n",
       "      <td>Montreal</td>\n",
       "      <td>STM</td>\n",
       "    </tr>\n",
       "    <tr>\n",
       "      <th>69</th>\n",
       "      <td>Saint-Michel</td>\n",
       "      <td>Blue Line</td>\n",
       "      <td>45.559813</td>\n",
       "      <td>-73.599940</td>\n",
       "      <td>Blue</td>\n",
       "      <td>0.375009</td>\n",
       "      <td>1.528195</td>\n",
       "      <td>3.478716</td>\n",
       "      <td>0.6876</td>\n",
       "      <td>0.7005</td>\n",
       "      <td>0.7087</td>\n",
       "      <td>3847.0</td>\n",
       "      <td>16371.0</td>\n",
       "      <td>30414.0</td>\n",
       "      <td>Montreal</td>\n",
       "      <td>STM</td>\n",
       "    </tr>\n",
       "    <tr>\n",
       "      <th>70</th>\n",
       "      <td>Berri–UQAM</td>\n",
       "      <td>Yellow Line</td>\n",
       "      <td>45.515027</td>\n",
       "      <td>-73.561260</td>\n",
       "      <td>Yellow</td>\n",
       "      <td>0.395714</td>\n",
       "      <td>1.521756</td>\n",
       "      <td>3.442349</td>\n",
       "      <td>0.7255</td>\n",
       "      <td>0.6975</td>\n",
       "      <td>0.7013</td>\n",
       "      <td>1952.0</td>\n",
       "      <td>16004.0</td>\n",
       "      <td>33577.0</td>\n",
       "      <td>Montreal</td>\n",
       "      <td>STM</td>\n",
       "    </tr>\n",
       "    <tr>\n",
       "      <th>71</th>\n",
       "      <td>Jean-Drapeau</td>\n",
       "      <td>Yellow Line</td>\n",
       "      <td>45.512435</td>\n",
       "      <td>-73.533170</td>\n",
       "      <td>Yellow</td>\n",
       "      <td>0.357867</td>\n",
       "      <td>1.249158</td>\n",
       "      <td>2.073656</td>\n",
       "      <td>0.6561</td>\n",
       "      <td>0.5726</td>\n",
       "      <td>0.4224</td>\n",
       "      <td>0.0</td>\n",
       "      <td>0.0</td>\n",
       "      <td>0.0</td>\n",
       "      <td>Montreal</td>\n",
       "      <td>STM</td>\n",
       "    </tr>\n",
       "    <tr>\n",
       "      <th>72</th>\n",
       "      <td>Longueuil–Université-de-Sherbrooke</td>\n",
       "      <td>Yellow Line</td>\n",
       "      <td>45.524966</td>\n",
       "      <td>-73.521970</td>\n",
       "      <td>Yellow</td>\n",
       "      <td>0.274063</td>\n",
       "      <td>0.869148</td>\n",
       "      <td>1.877722</td>\n",
       "      <td>0.5025</td>\n",
       "      <td>0.3984</td>\n",
       "      <td>0.3825</td>\n",
       "      <td>3288.0</td>\n",
       "      <td>4240.0</td>\n",
       "      <td>7946.0</td>\n",
       "      <td>Montreal</td>\n",
       "      <td>STM</td>\n",
       "    </tr>\n",
       "  </tbody>\n",
       "</table>\n",
       "<p>387 rows × 16 columns</p>\n",
       "</div>"
      ],
      "text/plain": [
       "                                  Name   Route Name   Latitude   Longitude  \\\n",
       "60                                PWTC  Ampang Line   3.166563  101.693594   \n",
       "61                       SULTAN ISMAIL  Ampang Line   3.161185  101.694127   \n",
       "62                           BANDARAYA  Ampang Line   3.155548  101.694406   \n",
       "63                          TITIWANGSA  Ampang Line   3.173591  101.695273   \n",
       "64                        SENTUL TIMUR  Ampang Line   3.185821  101.695335   \n",
       "..                                 ...          ...        ...         ...   \n",
       "68                         D'Iberville    Blue Line  45.553078  -73.602270   \n",
       "69                        Saint-Michel    Blue Line  45.559813  -73.599940   \n",
       "70                          Berri–UQAM  Yellow Line  45.515027  -73.561260   \n",
       "71                        Jean-Drapeau  Yellow Line  45.512435  -73.533170   \n",
       "72  Longueuil–Université-de-Sherbrooke  Yellow Line  45.524966  -73.521970   \n",
       "\n",
       "   Line Colour  5 Minute Range Area  10 Minute Range Area  \\\n",
       "60      Orange             0.337242              1.093349   \n",
       "61      Orange             0.154666              0.802314   \n",
       "62      Orange             0.331767              1.329914   \n",
       "63      Orange             0.377274              1.317302   \n",
       "64      Orange             0.159329              0.980199   \n",
       "..         ...                  ...                   ...   \n",
       "68        Blue             0.392088              1.532228   \n",
       "69        Blue             0.375009              1.528195   \n",
       "70      Yellow             0.395714              1.521756   \n",
       "71      Yellow             0.357867              1.249158   \n",
       "72      Yellow             0.274063              0.869148   \n",
       "\n",
       "    15 Minute Range Area  5 Minute Reach Factor  10 Minute Reach Factor  \\\n",
       "60              2.503207                 0.6183                  0.5012   \n",
       "61              2.187139                 0.2836                  0.3678   \n",
       "62              2.975538                 0.6083                  0.6096   \n",
       "63              3.249895                 0.6917                  0.6038   \n",
       "64              2.301548                 0.2921                  0.4493   \n",
       "..                   ...                    ...                     ...   \n",
       "68              3.482008                 0.7189                  0.7023   \n",
       "69              3.478716                 0.6876                  0.7005   \n",
       "70              3.442349                 0.7255                  0.6975   \n",
       "71              2.073656                 0.6561                  0.5726   \n",
       "72              1.877722                 0.5025                  0.3984   \n",
       "\n",
       "    15 Minute Reach Factor  5 Minute Population  10 Minute Population  \\\n",
       "60                  0.5099               2186.0                7710.0   \n",
       "61                  0.4456                845.0                5572.0   \n",
       "62                  0.6062               2141.0                8555.0   \n",
       "63                  0.6621               3133.0                9015.0   \n",
       "64                  0.4689                847.0                7814.0   \n",
       "..                     ...                  ...                   ...   \n",
       "68                  0.7093               4854.0               16359.0   \n",
       "69                  0.7087               3847.0               16371.0   \n",
       "70                  0.7013               1952.0               16004.0   \n",
       "71                  0.4224                  0.0                   0.0   \n",
       "72                  0.3825               3288.0                4240.0   \n",
       "\n",
       "    15 Minute Population          City Service Provider Name  \n",
       "60               16554.0  Kuala Lumpur              Rapid KL  \n",
       "61               15104.0  Kuala Lumpur              Rapid KL  \n",
       "62               20457.0  Kuala Lumpur              Rapid KL  \n",
       "63               21377.0  Kuala Lumpur              Rapid KL  \n",
       "64               16574.0  Kuala Lumpur              Rapid KL  \n",
       "..                   ...           ...                   ...  \n",
       "68               40443.0      Montreal                   STM  \n",
       "69               30414.0      Montreal                   STM  \n",
       "70               33577.0      Montreal                   STM  \n",
       "71                   0.0      Montreal                   STM  \n",
       "72                7946.0      Montreal                   STM  \n",
       "\n",
       "[387 rows x 16 columns]"
      ]
     },
     "execution_count": 9,
     "metadata": {},
     "output_type": "execute_result"
    }
   ],
   "source": [
    "data_temp"
   ]
  },
  {
   "cell_type": "code",
   "execution_count": 25,
   "metadata": {},
   "outputs": [
    {
     "data": {
      "application/vnd.plotly.v1+json": {
       "config": {
        "plotlyServerURL": "https://plot.ly"
       },
       "data": [
        {
         "alignmentgroup": "True",
         "bingroup": "x",
         "histfunc": "avg",
         "hovertemplate": "variable=5 Minute Range Area<br>City=%{x}<br>avg of Walkable Area Coverage(km^2)=%{y}<extra></extra>",
         "legendgroup": "5 Minute Range Area",
         "marker": {
          "color": "#636efa"
         },
         "name": "5 Minute Range Area",
         "offsetgroup": "5 Minute Range Area",
         "orientation": "v",
         "showlegend": true,
         "type": "histogram",
         "x": [
          "Kuala Lumpur",
          "Kuala Lumpur",
          "Kuala Lumpur",
          "Kuala Lumpur",
          "Kuala Lumpur",
          "Kuala Lumpur",
          "Kuala Lumpur",
          "Kuala Lumpur",
          "Kuala Lumpur",
          "Kuala Lumpur",
          "Kuala Lumpur",
          "Kuala Lumpur",
          "Kuala Lumpur",
          "Kuala Lumpur",
          "Kuala Lumpur",
          "Kuala Lumpur",
          "Kuala Lumpur",
          "Kuala Lumpur",
          "Kuala Lumpur",
          "Kuala Lumpur",
          "Kuala Lumpur",
          "Kuala Lumpur",
          "Kuala Lumpur",
          "Kuala Lumpur",
          "Kuala Lumpur",
          "Kuala Lumpur",
          "Kuala Lumpur",
          "Kuala Lumpur",
          "Kuala Lumpur",
          "Kuala Lumpur",
          "Kuala Lumpur",
          "Kuala Lumpur",
          "Kuala Lumpur",
          "Kuala Lumpur",
          "Kuala Lumpur",
          "Kuala Lumpur",
          "Kuala Lumpur",
          "Kuala Lumpur",
          "Kuala Lumpur",
          "Kuala Lumpur",
          "Kuala Lumpur",
          "Kuala Lumpur",
          "Kuala Lumpur",
          "Kuala Lumpur",
          "Kuala Lumpur",
          "Kuala Lumpur",
          "Kuala Lumpur",
          "Kuala Lumpur",
          "Kuala Lumpur",
          "Kuala Lumpur",
          "Kuala Lumpur",
          "Kuala Lumpur",
          "Kuala Lumpur",
          "Kuala Lumpur",
          "Kuala Lumpur",
          "Kuala Lumpur",
          "Kuala Lumpur",
          "Kuala Lumpur",
          "Kuala Lumpur",
          "Kuala Lumpur",
          "Kuala Lumpur",
          "Kuala Lumpur",
          "Kuala Lumpur",
          "Kuala Lumpur",
          "Kuala Lumpur",
          "Kuala Lumpur",
          "Kuala Lumpur",
          "Kuala Lumpur",
          "Kuala Lumpur",
          "Kuala Lumpur",
          "Kuala Lumpur",
          "Kuala Lumpur",
          "Kuala Lumpur",
          "Kuala Lumpur",
          "Kuala Lumpur",
          "Kuala Lumpur",
          "Kuala Lumpur",
          "Kuala Lumpur",
          "Kuala Lumpur",
          "Kuala Lumpur",
          "Kuala Lumpur",
          "Kuala Lumpur",
          "Kuala Lumpur",
          "Kuala Lumpur",
          "Kuala Lumpur",
          "Kuala Lumpur",
          "Kuala Lumpur",
          "Kuala Lumpur",
          "Kuala Lumpur",
          "Kuala Lumpur",
          "Kuala Lumpur",
          "Kuala Lumpur",
          "Kuala Lumpur",
          "Kuala Lumpur",
          "Kuala Lumpur",
          "Kuala Lumpur",
          "Kuala Lumpur",
          "Kuala Lumpur",
          "Kuala Lumpur",
          "Kuala Lumpur",
          "Kuala Lumpur",
          "Kuala Lumpur",
          "Kuala Lumpur",
          "Kuala Lumpur",
          "Kuala Lumpur",
          "Kuala Lumpur",
          "Kuala Lumpur",
          "Kuala Lumpur",
          "Kuala Lumpur",
          "Kuala Lumpur",
          "Kuala Lumpur",
          "Kuala Lumpur",
          "Kuala Lumpur",
          "Kuala Lumpur",
          "Kuala Lumpur",
          "Kuala Lumpur",
          "Kuala Lumpur",
          "Kuala Lumpur",
          "Kuala Lumpur",
          "Kuala Lumpur",
          "Kuala Lumpur",
          "Kuala Lumpur",
          "Kuala Lumpur",
          "Kuala Lumpur",
          "Kuala Lumpur",
          "Kuala Lumpur",
          "Singapore",
          "Singapore",
          "Singapore",
          "Singapore",
          "Singapore",
          "Singapore",
          "Singapore",
          "Singapore",
          "Singapore",
          "Singapore",
          "Singapore",
          "Singapore",
          "Singapore",
          "Singapore",
          "Singapore",
          "Singapore",
          "Singapore",
          "Singapore",
          "Singapore",
          "Singapore",
          "Singapore",
          "Singapore",
          "Singapore",
          "Singapore",
          "Singapore",
          "Singapore",
          "Singapore",
          "Singapore",
          "Singapore",
          "Singapore",
          "Singapore",
          "Singapore",
          "Singapore",
          "Singapore",
          "Singapore",
          "Singapore",
          "Singapore",
          "Singapore",
          "Singapore",
          "Singapore",
          "Singapore",
          "Singapore",
          "Singapore",
          "Singapore",
          "Singapore",
          "Singapore",
          "Singapore",
          "Singapore",
          "Singapore",
          "Singapore",
          "Singapore",
          "Singapore",
          "Singapore",
          "Singapore",
          "Singapore",
          "Singapore",
          "Singapore",
          "Singapore",
          "Singapore",
          "Singapore",
          "Singapore",
          "Singapore",
          "Singapore",
          "Singapore",
          "Singapore",
          "Singapore",
          "Singapore",
          "Singapore",
          "Singapore",
          "Singapore",
          "Singapore",
          "Singapore",
          "Singapore",
          "Singapore",
          "Singapore",
          "Singapore",
          "Singapore",
          "Singapore",
          "Singapore",
          "Singapore",
          "Singapore",
          "Singapore",
          "Singapore",
          "Singapore",
          "Singapore",
          "Singapore",
          "Singapore",
          "Singapore",
          "Singapore",
          "Singapore",
          "Singapore",
          "Singapore",
          "Singapore",
          "Singapore",
          "Singapore",
          "Singapore",
          "Singapore",
          "Singapore",
          "Singapore",
          "Singapore",
          "Singapore",
          "Singapore",
          "Singapore",
          "Singapore",
          "Singapore",
          "Singapore",
          "Singapore",
          "Singapore",
          "Singapore",
          "Singapore",
          "Singapore",
          "Singapore",
          "Singapore",
          "Singapore",
          "Singapore",
          "Singapore",
          "Singapore",
          "Singapore",
          "Singapore",
          "Singapore",
          "Singapore",
          "Singapore",
          "Singapore",
          "Singapore",
          "Singapore",
          "Singapore",
          "Singapore",
          "Singapore",
          "Singapore",
          "Singapore",
          "Singapore",
          "Singapore",
          "Singapore",
          "Singapore",
          "Singapore",
          "Singapore",
          "Singapore",
          "Singapore",
          "Singapore",
          "Singapore",
          "Singapore",
          "Singapore",
          "Singapore",
          "Singapore",
          "Singapore",
          "Singapore",
          "Singapore",
          "Singapore",
          "Singapore",
          "Singapore",
          "Singapore",
          "Singapore",
          "Singapore",
          "Singapore",
          "Singapore",
          "Singapore",
          "Singapore",
          "Singapore",
          "Singapore",
          "Singapore",
          "Singapore",
          "Singapore",
          "Singapore",
          "Singapore",
          "Singapore",
          "Singapore",
          "Singapore",
          "Singapore",
          "Singapore",
          "Singapore",
          "Singapore",
          "Singapore",
          "Singapore",
          "Singapore",
          "Singapore",
          "Singapore",
          "Singapore",
          "Singapore",
          "Singapore",
          "Singapore",
          "Singapore",
          "Singapore",
          "Singapore",
          "Singapore",
          "Singapore",
          "Singapore",
          "Singapore",
          "Singapore",
          "Montreal",
          "Montreal",
          "Montreal",
          "Montreal",
          "Montreal",
          "Montreal",
          "Montreal",
          "Montreal",
          "Montreal",
          "Montreal",
          "Montreal",
          "Montreal",
          "Montreal",
          "Montreal",
          "Montreal",
          "Montreal",
          "Montreal",
          "Montreal",
          "Montreal",
          "Montreal",
          "Montreal",
          "Montreal",
          "Montreal",
          "Montreal",
          "Montreal",
          "Montreal",
          "Montreal",
          "Montreal",
          "Montreal",
          "Montreal",
          "Montreal",
          "Montreal",
          "Montreal",
          "Montreal",
          "Montreal",
          "Montreal",
          "Montreal",
          "Montreal",
          "Montreal",
          "Montreal",
          "Montreal",
          "Montreal",
          "Montreal",
          "Montreal",
          "Montreal",
          "Montreal",
          "Montreal",
          "Montreal",
          "Montreal",
          "Montreal",
          "Montreal",
          "Montreal",
          "Montreal",
          "Montreal",
          "Montreal",
          "Montreal",
          "Montreal",
          "Montreal",
          "Montreal",
          "Montreal",
          "Montreal",
          "Montreal",
          "Montreal",
          "Montreal",
          "Montreal",
          "Montreal",
          "Montreal",
          "Montreal",
          "Montreal",
          "Montreal",
          "Montreal",
          "Montreal",
          "Montreal"
         ],
         "xaxis": "x",
         "y": [
          0.33724218,
          0.1546662,
          0.33176681,
          0.37727368,
          0.15932879,
          0.24879704,
          0.35354969,
          0.07686364,
          0.29995945,
          0.20698176,
          0.08520355,
          0.10908823,
          0.12765432000000002,
          0.10372052,
          0.30964279,
          0.21829926,
          0.14038832999999998,
          0.08700395,
          0.15914785,
          0.31987013000000003,
          0.36440737,
          0.28778113,
          0.18058166,
          0.25175232000000003,
          0.14368163,
          0.09205028,
          0.15237542,
          0.31456235,
          0.11328153,
          0.17176765,
          0.35933424,
          0.33724218,
          0.1546662,
          0.33176681,
          0.37727368,
          0.15932879,
          0.24879704,
          0.35354969,
          0.07686364,
          0.29995945,
          0.18159136,
          0.19527194,
          0.09621198,
          0.20698176,
          0.16106156,
          0.22306622,
          0.08520355,
          0.02267377,
          0.12847033,
          0.15774998999999998,
          0.16809358,
          0.28003389,
          0.19492496,
          0.22591129,
          0.11824999,
          0.28283391,
          0.35358716,
          0.14676751999999998,
          0.02152531,
          0.27510395,
          0.24235682,
          0.3222016,
          0.18799781,
          0.22266883,
          0.24884647,
          0.25081894,
          0.23236677,
          0.06879924000000001,
          0.28727626,
          0.26123897,
          0.29123198,
          0.32106086,
          0.21444045,
          0.17781184,
          0.33269748,
          0.20476568,
          0.32679448,
          0.0971136,
          0.16797594,
          0.020076300000000002,
          0.29868451,
          0.23714405,
          0.23981816,
          0.08149613,
          0.282571,
          0.32216819,
          0.19872931,
          0.40916697,
          0.23397354,
          0.18207893,
          0.30759115000000004,
          0.14989506,
          0.26908476000000003,
          0.32843958,
          0.36637874,
          0.08337092,
          0.14304667,
          0.10847691,
          0.24301521,
          0.06015653,
          0.18350335,
          0.2537391,
          0.05812919,
          0.21586482,
          0.11754646,
          0.16716919,
          0.18153927,
          0.21390516,
          0.30103121,
          0.20341446,
          0.40743421,
          0.09877055,
          0.32171969,
          0.22988957,
          0.30111587,
          0.24658695,
          0.15422356,
          0.10901780000000001,
          0.17065887,
          0.08552002,
          0.18767169,
          0.13546985,
          0.06215426,
          0.21858111,
          0.31359252000000004,
          0.12926258999999998,
          0.32083076,
          0.24974448,
          0.39122226,
          0.35549572,
          0.40423276,
          0.23860742,
          0.38141276,
          0.37592321,
          0.32682163000000003,
          0.38039419,
          0.22064463,
          0.27596921,
          0.4038661,
          0.29721442,
          0.04368641,
          0.37988838,
          0.33689349,
          0.30012209,
          0.35519624,
          0.21481487,
          0.10788819,
          0.25373975,
          0.37328935,
          0.36428131,
          0.33806044,
          0.35140752000000003,
          0.30217058,
          0.41911905,
          0.25963923,
          0.40034478,
          0.39344699,
          0.37079496,
          0.31394972,
          0.36673288,
          0.27050781,
          0.29378288,
          0.33596387,
          0.30124514,
          0.27060484999999995,
          0.39712975,
          0.26134764,
          0.28028084000000003,
          0.36694037,
          0.3469751,
          0.3237457,
          0.29145252,
          0.30467572,
          0.34119790000000005,
          0.30120607,
          0.29333324,
          0.22607003,
          0.32384003,
          0.29099093,
          0.27612154,
          0.28898696,
          0.27828554,
          0.39032676,
          0.17509821,
          0.29890735,
          0.34112614,
          0.24869253,
          0.31770639,
          0.38106891,
          0.16705035,
          0.40615219,
          0.39032676,
          0.39032676,
          0.17444122,
          0.30015401,
          0.23522243,
          0.26207781,
          0.13936781,
          0.44662694,
          0.21257505,
          0.36649291,
          0.39269192,
          0.31185648,
          0.05565127,
          0.35452717,
          0.12260258,
          0.39788734,
          0.20661844,
          0.33600344,
          0.28256859,
          0.43725735,
          0.25569524,
          0.30815654,
          0.30385473,
          0.32792069,
          0.24440502,
          0.36379326,
          0.38939618,
          0.23860742,
          0.23860742,
          0.16077712,
          0.01274809,
          0.08822469999999999,
          0.33049512,
          0.28049632,
          0.33406233,
          0.37923081,
          0.30792559,
          0.3003659,
          0.40118079,
          0.30786795,
          0.30988151,
          0.33830562,
          0.32408999,
          0.14790731,
          0.29842571999999995,
          0.31364039,
          0.03951637,
          0.40002796,
          0.27584246999999995,
          0.37443396,
          0.06117714,
          0.32973487,
          0.38721209,
          0.28670156,
          0.30587506,
          0.37675099,
          0.24746583,
          0.24919145,
          0.22610717,
          0.35356203,
          0.3965147,
          0.3473953,
          0.25624502,
          0.29428877000000003,
          0.40720284,
          0.26925827,
          0.15680152,
          0.39879008,
          0.37728026,
          0.31655628,
          0.14790731,
          0.14790731,
          0.30854023,
          0.33272704,
          0.31336999,
          0.31360144,
          0.20174143,
          0.35522732,
          0.22610717,
          0.22610717,
          0.31278875,
          0.26354590000000006,
          0.12733044999999998,
          0.29092321000000004,
          0.32774196,
          0.3105843,
          0.26222574,
          0.25356893,
          0.29428877000000003,
          0.29428877000000003,
          0.16151010000000002,
          0.20174942,
          0.12947608,
          0.32442305,
          0.14335177,
          0.19179456,
          0.35066585,
          0.23964457,
          0.32246328,
          0.27496883,
          0.34496908000000004,
          0.32175121,
          0.24434739000000005,
          0.27374774,
          0.26486935,
          0.15856835,
          0.316239,
          0.26796662,
          0.27538221,
          0.22809766,
          0.30385665,
          0.27795057,
          0.35497017,
          0.23677624,
          0.22940376,
          0.37261368,
          0.29435137,
          0.31078164,
          0.34631443,
          0.29890735,
          0.30945208,
          0.30660389,
          0.03287103,
          0.37383366,
          0.3914287,
          0.37632413,
          0.38748382,
          0.4035171,
          0.28849926000000004,
          0.42427207,
          0.37267480000000003,
          0.40749663,
          0.38254458,
          0.39522666,
          0.39400676,
          0.39505627,
          0.3986232,
          0.39571435,
          0.18676032,
          0.25110096,
          0.37973419,
          0.40275467,
          0.37726783,
          0.34685577,
          0.34242676,
          0.33127459000000004,
          0.38379295,
          0.39764963,
          0.37805018,
          0.39478023,
          0.409486,
          0.38677325,
          0.26703797,
          0.40911922,
          0.41268376,
          0.38813196,
          0.34906852,
          0.38260035,
          0.3500844,
          0.34186343,
          0.17970057,
          0.39934889,
          0.35178218,
          0.40195145,
          0.37601133,
          0.35873564,
          0.32598871999999995,
          0.32518096,
          0.36354624,
          0.29776519,
          0.08345632,
          0.3244336,
          0.34680237,
          0.38793811,
          0.39087348,
          0.3912551,
          0.41350870000000006,
          0.36868676,
          0.29508840000000003,
          0.34035555,
          0.35036949,
          0.34906852,
          0.39640117,
          0.29979778,
          0.34585941,
          0.37597107,
          0.38903384,
          0.33710517,
          0.40669168,
          0.38816969,
          0.39178688,
          0.39208831,
          0.3750088,
          0.39571435,
          0.35786694,
          0.27406334000000004
         ],
         "yaxis": "y"
        },
        {
         "alignmentgroup": "True",
         "bingroup": "x",
         "histfunc": "avg",
         "hovertemplate": "variable=10 Minute Range Area<br>City=%{x}<br>avg of Walkable Area Coverage(km^2)=%{y}<extra></extra>",
         "legendgroup": "10 Minute Range Area",
         "marker": {
          "color": "#EF553B"
         },
         "name": "10 Minute Range Area",
         "offsetgroup": "10 Minute Range Area",
         "orientation": "v",
         "showlegend": true,
         "type": "histogram",
         "x": [
          "Kuala Lumpur",
          "Kuala Lumpur",
          "Kuala Lumpur",
          "Kuala Lumpur",
          "Kuala Lumpur",
          "Kuala Lumpur",
          "Kuala Lumpur",
          "Kuala Lumpur",
          "Kuala Lumpur",
          "Kuala Lumpur",
          "Kuala Lumpur",
          "Kuala Lumpur",
          "Kuala Lumpur",
          "Kuala Lumpur",
          "Kuala Lumpur",
          "Kuala Lumpur",
          "Kuala Lumpur",
          "Kuala Lumpur",
          "Kuala Lumpur",
          "Kuala Lumpur",
          "Kuala Lumpur",
          "Kuala Lumpur",
          "Kuala Lumpur",
          "Kuala Lumpur",
          "Kuala Lumpur",
          "Kuala Lumpur",
          "Kuala Lumpur",
          "Kuala Lumpur",
          "Kuala Lumpur",
          "Kuala Lumpur",
          "Kuala Lumpur",
          "Kuala Lumpur",
          "Kuala Lumpur",
          "Kuala Lumpur",
          "Kuala Lumpur",
          "Kuala Lumpur",
          "Kuala Lumpur",
          "Kuala Lumpur",
          "Kuala Lumpur",
          "Kuala Lumpur",
          "Kuala Lumpur",
          "Kuala Lumpur",
          "Kuala Lumpur",
          "Kuala Lumpur",
          "Kuala Lumpur",
          "Kuala Lumpur",
          "Kuala Lumpur",
          "Kuala Lumpur",
          "Kuala Lumpur",
          "Kuala Lumpur",
          "Kuala Lumpur",
          "Kuala Lumpur",
          "Kuala Lumpur",
          "Kuala Lumpur",
          "Kuala Lumpur",
          "Kuala Lumpur",
          "Kuala Lumpur",
          "Kuala Lumpur",
          "Kuala Lumpur",
          "Kuala Lumpur",
          "Kuala Lumpur",
          "Kuala Lumpur",
          "Kuala Lumpur",
          "Kuala Lumpur",
          "Kuala Lumpur",
          "Kuala Lumpur",
          "Kuala Lumpur",
          "Kuala Lumpur",
          "Kuala Lumpur",
          "Kuala Lumpur",
          "Kuala Lumpur",
          "Kuala Lumpur",
          "Kuala Lumpur",
          "Kuala Lumpur",
          "Kuala Lumpur",
          "Kuala Lumpur",
          "Kuala Lumpur",
          "Kuala Lumpur",
          "Kuala Lumpur",
          "Kuala Lumpur",
          "Kuala Lumpur",
          "Kuala Lumpur",
          "Kuala Lumpur",
          "Kuala Lumpur",
          "Kuala Lumpur",
          "Kuala Lumpur",
          "Kuala Lumpur",
          "Kuala Lumpur",
          "Kuala Lumpur",
          "Kuala Lumpur",
          "Kuala Lumpur",
          "Kuala Lumpur",
          "Kuala Lumpur",
          "Kuala Lumpur",
          "Kuala Lumpur",
          "Kuala Lumpur",
          "Kuala Lumpur",
          "Kuala Lumpur",
          "Kuala Lumpur",
          "Kuala Lumpur",
          "Kuala Lumpur",
          "Kuala Lumpur",
          "Kuala Lumpur",
          "Kuala Lumpur",
          "Kuala Lumpur",
          "Kuala Lumpur",
          "Kuala Lumpur",
          "Kuala Lumpur",
          "Kuala Lumpur",
          "Kuala Lumpur",
          "Kuala Lumpur",
          "Kuala Lumpur",
          "Kuala Lumpur",
          "Kuala Lumpur",
          "Kuala Lumpur",
          "Kuala Lumpur",
          "Kuala Lumpur",
          "Kuala Lumpur",
          "Kuala Lumpur",
          "Kuala Lumpur",
          "Kuala Lumpur",
          "Kuala Lumpur",
          "Kuala Lumpur",
          "Kuala Lumpur",
          "Kuala Lumpur",
          "Kuala Lumpur",
          "Singapore",
          "Singapore",
          "Singapore",
          "Singapore",
          "Singapore",
          "Singapore",
          "Singapore",
          "Singapore",
          "Singapore",
          "Singapore",
          "Singapore",
          "Singapore",
          "Singapore",
          "Singapore",
          "Singapore",
          "Singapore",
          "Singapore",
          "Singapore",
          "Singapore",
          "Singapore",
          "Singapore",
          "Singapore",
          "Singapore",
          "Singapore",
          "Singapore",
          "Singapore",
          "Singapore",
          "Singapore",
          "Singapore",
          "Singapore",
          "Singapore",
          "Singapore",
          "Singapore",
          "Singapore",
          "Singapore",
          "Singapore",
          "Singapore",
          "Singapore",
          "Singapore",
          "Singapore",
          "Singapore",
          "Singapore",
          "Singapore",
          "Singapore",
          "Singapore",
          "Singapore",
          "Singapore",
          "Singapore",
          "Singapore",
          "Singapore",
          "Singapore",
          "Singapore",
          "Singapore",
          "Singapore",
          "Singapore",
          "Singapore",
          "Singapore",
          "Singapore",
          "Singapore",
          "Singapore",
          "Singapore",
          "Singapore",
          "Singapore",
          "Singapore",
          "Singapore",
          "Singapore",
          "Singapore",
          "Singapore",
          "Singapore",
          "Singapore",
          "Singapore",
          "Singapore",
          "Singapore",
          "Singapore",
          "Singapore",
          "Singapore",
          "Singapore",
          "Singapore",
          "Singapore",
          "Singapore",
          "Singapore",
          "Singapore",
          "Singapore",
          "Singapore",
          "Singapore",
          "Singapore",
          "Singapore",
          "Singapore",
          "Singapore",
          "Singapore",
          "Singapore",
          "Singapore",
          "Singapore",
          "Singapore",
          "Singapore",
          "Singapore",
          "Singapore",
          "Singapore",
          "Singapore",
          "Singapore",
          "Singapore",
          "Singapore",
          "Singapore",
          "Singapore",
          "Singapore",
          "Singapore",
          "Singapore",
          "Singapore",
          "Singapore",
          "Singapore",
          "Singapore",
          "Singapore",
          "Singapore",
          "Singapore",
          "Singapore",
          "Singapore",
          "Singapore",
          "Singapore",
          "Singapore",
          "Singapore",
          "Singapore",
          "Singapore",
          "Singapore",
          "Singapore",
          "Singapore",
          "Singapore",
          "Singapore",
          "Singapore",
          "Singapore",
          "Singapore",
          "Singapore",
          "Singapore",
          "Singapore",
          "Singapore",
          "Singapore",
          "Singapore",
          "Singapore",
          "Singapore",
          "Singapore",
          "Singapore",
          "Singapore",
          "Singapore",
          "Singapore",
          "Singapore",
          "Singapore",
          "Singapore",
          "Singapore",
          "Singapore",
          "Singapore",
          "Singapore",
          "Singapore",
          "Singapore",
          "Singapore",
          "Singapore",
          "Singapore",
          "Singapore",
          "Singapore",
          "Singapore",
          "Singapore",
          "Singapore",
          "Singapore",
          "Singapore",
          "Singapore",
          "Singapore",
          "Singapore",
          "Singapore",
          "Singapore",
          "Singapore",
          "Singapore",
          "Singapore",
          "Singapore",
          "Singapore",
          "Singapore",
          "Singapore",
          "Singapore",
          "Singapore",
          "Singapore",
          "Singapore",
          "Singapore",
          "Singapore",
          "Singapore",
          "Singapore",
          "Singapore",
          "Singapore",
          "Singapore",
          "Singapore",
          "Singapore",
          "Singapore",
          "Montreal",
          "Montreal",
          "Montreal",
          "Montreal",
          "Montreal",
          "Montreal",
          "Montreal",
          "Montreal",
          "Montreal",
          "Montreal",
          "Montreal",
          "Montreal",
          "Montreal",
          "Montreal",
          "Montreal",
          "Montreal",
          "Montreal",
          "Montreal",
          "Montreal",
          "Montreal",
          "Montreal",
          "Montreal",
          "Montreal",
          "Montreal",
          "Montreal",
          "Montreal",
          "Montreal",
          "Montreal",
          "Montreal",
          "Montreal",
          "Montreal",
          "Montreal",
          "Montreal",
          "Montreal",
          "Montreal",
          "Montreal",
          "Montreal",
          "Montreal",
          "Montreal",
          "Montreal",
          "Montreal",
          "Montreal",
          "Montreal",
          "Montreal",
          "Montreal",
          "Montreal",
          "Montreal",
          "Montreal",
          "Montreal",
          "Montreal",
          "Montreal",
          "Montreal",
          "Montreal",
          "Montreal",
          "Montreal",
          "Montreal",
          "Montreal",
          "Montreal",
          "Montreal",
          "Montreal",
          "Montreal",
          "Montreal",
          "Montreal",
          "Montreal",
          "Montreal",
          "Montreal",
          "Montreal",
          "Montreal",
          "Montreal",
          "Montreal",
          "Montreal",
          "Montreal",
          "Montreal"
         ],
         "xaxis": "x",
         "y": [
          1.09334887,
          0.80231439,
          1.3299142,
          1.31730172,
          0.98019944,
          0.9941378,
          1.5230143799999998,
          0.7287783299999999,
          1.3736323899999998,
          1.14943278,
          0.68970727,
          0.5937145500000001,
          0.9350726999999999,
          0.4834335,
          1.20690344,
          1.06719648,
          0.86601087,
          0.80194669,
          0.86313283,
          1.15664441,
          1.42769142,
          0.90251369,
          0.52016311,
          0.98766563,
          0.55619289,
          0.66678646,
          0.94313668,
          0.97527387,
          0.6901240799999999,
          0.6597359899999999,
          1.39635365,
          1.09334887,
          0.80231439,
          1.3299142,
          1.31730172,
          0.98019944,
          0.9941378,
          1.5230143799999998,
          0.7287783299999999,
          1.3736323899999998,
          0.6489337,
          0.86325234,
          0.4124528,
          1.14943278,
          0.51988839,
          0.6792649300000001,
          0.68970727,
          0.17516605999999998,
          0.55438652,
          0.86589967,
          0.84586189,
          1.28355542,
          1.19836021,
          0.70439516,
          0.50044574,
          1.38068874,
          1.38658291,
          1.09200724,
          0.39645643,
          1.27643156,
          1.1012631899999998,
          1.49388015,
          1.04064393,
          0.96485189,
          0.98989655,
          1.11638015,
          1.08560675,
          0.5238393,
          1.1931968700000002,
          1.03103308,
          1.24463438,
          1.54427346,
          1.0594265900000002,
          1.09898814,
          1.29000994,
          0.9643110999999999,
          1.3261784399999998,
          0.42379399999999995,
          0.6094221999999999,
          0.4053551,
          1.18938463,
          1.14565526,
          0.93928982,
          0.61438852,
          1.09211687,
          1.12171054,
          1.1069307,
          1.5978103899999998,
          1.367721,
          0.83609601,
          1.31818673,
          1.0102258,
          1.30095197,
          1.54870424,
          1.52258909,
          0.47777056,
          0.32680685,
          0.70574069,
          1.09880969,
          0.25483471,
          1.05479949,
          1.24189861,
          0.34321703000000003,
          1.03133178,
          0.81246512,
          0.792776,
          0.69851637,
          1.00576163,
          1.23598569,
          1.00091417,
          1.61694446,
          0.54084151,
          1.32363621,
          1.39069973,
          1.37199615,
          0.99480425,
          0.93110482,
          0.49464933,
          0.69375911,
          0.41850527,
          0.91200428,
          0.67322998,
          0.41825578,
          1.08586026,
          1.34582422,
          0.6108315799999999,
          1.53113113,
          1.07176247,
          1.5743571200000002,
          1.30611486,
          1.5836738899999998,
          1.1223221,
          1.52608661,
          1.43187952,
          1.3097426799999998,
          1.5553198899999998,
          1.23262706,
          1.29668335,
          1.5002853799999998,
          1.15940331,
          0.74180487,
          1.3721876000000002,
          1.26633734,
          1.1982833000000002,
          1.41948029,
          1.04635007,
          0.78198805,
          1.34657377,
          1.4337218,
          1.55276902,
          1.45506478,
          1.48998349,
          1.03790775,
          1.65000645,
          1.29902357,
          1.58489696,
          1.5840154199999998,
          1.47464092,
          1.17821185,
          1.45935521,
          1.16413859,
          1.05231065,
          1.36783022,
          1.36715596,
          1.03631906,
          1.32333344,
          1.25159535,
          1.2552633999999998,
          1.42343131,
          1.41338068,
          1.11811405,
          1.29016303,
          1.29359923,
          0.98764028,
          1.41934521,
          1.34265833,
          1.13276947,
          1.41821142,
          1.24609581,
          1.13293124,
          1.33398866,
          1.2181877,
          1.43861496,
          1.13605388,
          1.43264901,
          1.47659836,
          1.25530822,
          1.31416863,
          1.5580054,
          1.00376902,
          1.57922438,
          1.43861496,
          1.43861496,
          0.8835772900000001,
          1.29382706,
          1.0968311899999998,
          1.02459187,
          0.68698045,
          1.73175627,
          1.05561514,
          1.66048357,
          1.52046193,
          1.01592012,
          0.55248069,
          1.48035562,
          0.91170193,
          1.59739128,
          1.0772316599999998,
          1.40003077,
          0.87505462,
          1.41707594,
          0.91451141,
          1.14334468,
          1.35140745,
          1.39044743,
          1.14224964,
          1.46785597,
          1.40504356,
          1.1223221,
          1.1223221,
          0.92298066,
          0.33871851000000003,
          0.24268361,
          1.39045251,
          1.30823229,
          1.44840732,
          1.43075665,
          1.33720812,
          1.39628497,
          1.35593387,
          1.38960604,
          1.28243115,
          1.36701456,
          1.42235052,
          0.92021224,
          1.32171204,
          0.95943535,
          0.10312241,
          1.4076495,
          1.28775594,
          1.4869218400000002,
          0.68110763,
          1.29668647,
          1.59865882,
          1.23355012,
          1.3831632,
          1.35192101,
          1.1918581499999998,
          1.23903412,
          1.21292144,
          1.38939346,
          1.57972833,
          1.39108827,
          1.34925203,
          0.97678689,
          1.60258792,
          1.20658632,
          0.86126554,
          1.29953697,
          1.47846389,
          1.43361786,
          0.92021224,
          0.92021224,
          1.29702198,
          1.47306214,
          1.16793905,
          1.39614903,
          0.8396337700000001,
          1.40751916,
          1.21292144,
          1.21292144,
          1.33071668,
          1.29227145,
          0.85271489,
          1.29512364,
          1.41103514,
          1.09679385,
          1.38019256,
          1.05488899,
          0.97678689,
          0.97678689,
          1.13855996,
          1.17049947,
          0.6442948100000001,
          1.42185855,
          0.7980155,
          0.9556007,
          1.27480795,
          1.00123476,
          1.19727392,
          1.26116763,
          1.4444350700000002,
          1.1772221699999998,
          1.11620031,
          0.78895855,
          1.0214803,
          0.46731606,
          1.27100393,
          0.85439594,
          1.25187503,
          0.91093632,
          1.2909656399999998,
          1.29976231,
          1.3580285,
          1.1832616100000002,
          0.8548066400000001,
          1.32153549,
          1.0820693600000002,
          1.31420945,
          1.44305706,
          1.43264901,
          1.02912665,
          1.44749495,
          0.25182782,
          1.34705782,
          1.4375126100000002,
          1.47242364,
          1.4023828,
          1.52110845,
          1.19207575,
          1.47381578,
          1.52285143,
          1.53432354,
          1.52281176,
          1.53811805,
          1.57145841,
          1.55739985,
          1.57319796,
          1.52175602,
          1.01708063,
          1.14510239,
          1.40660781,
          1.46629808,
          1.51447504,
          1.42659356,
          1.10265227,
          1.34732547,
          1.50054257,
          1.53829174,
          1.46451219,
          1.43501709,
          1.5248205700000002,
          1.39950899,
          1.20764753,
          1.3594442,
          1.5466711599999998,
          1.5024729,
          1.4289938999999998,
          1.4343523,
          1.26544768,
          1.29122052,
          1.13618352,
          1.58929685,
          1.46389171,
          1.5246791000000002,
          1.53792079,
          1.4728685,
          1.39041645,
          1.42984118,
          1.4886983,
          1.36187953,
          0.80520038,
          1.3815727,
          1.41828756,
          1.51911249,
          1.5225503,
          1.56619971,
          1.52848107,
          1.44221315,
          1.15283976,
          1.43575701,
          1.28787609,
          1.4289938999999998,
          1.4847229,
          1.2891715700000002,
          1.39858267,
          1.48556951,
          1.5534956000000002,
          1.2365643400000002,
          1.50813383,
          1.5111252,
          1.5108191599999998,
          1.53222806,
          1.5281948,
          1.52175602,
          1.24915759,
          0.86914759
         ],
         "yaxis": "y"
        },
        {
         "alignmentgroup": "True",
         "bingroup": "x",
         "histfunc": "avg",
         "hovertemplate": "variable=15 Minute Range Area<br>City=%{x}<br>avg of Walkable Area Coverage(km^2)=%{y}<extra></extra>",
         "legendgroup": "15 Minute Range Area",
         "marker": {
          "color": "#00cc96"
         },
         "name": "15 Minute Range Area",
         "offsetgroup": "15 Minute Range Area",
         "orientation": "v",
         "showlegend": true,
         "type": "histogram",
         "x": [
          "Kuala Lumpur",
          "Kuala Lumpur",
          "Kuala Lumpur",
          "Kuala Lumpur",
          "Kuala Lumpur",
          "Kuala Lumpur",
          "Kuala Lumpur",
          "Kuala Lumpur",
          "Kuala Lumpur",
          "Kuala Lumpur",
          "Kuala Lumpur",
          "Kuala Lumpur",
          "Kuala Lumpur",
          "Kuala Lumpur",
          "Kuala Lumpur",
          "Kuala Lumpur",
          "Kuala Lumpur",
          "Kuala Lumpur",
          "Kuala Lumpur",
          "Kuala Lumpur",
          "Kuala Lumpur",
          "Kuala Lumpur",
          "Kuala Lumpur",
          "Kuala Lumpur",
          "Kuala Lumpur",
          "Kuala Lumpur",
          "Kuala Lumpur",
          "Kuala Lumpur",
          "Kuala Lumpur",
          "Kuala Lumpur",
          "Kuala Lumpur",
          "Kuala Lumpur",
          "Kuala Lumpur",
          "Kuala Lumpur",
          "Kuala Lumpur",
          "Kuala Lumpur",
          "Kuala Lumpur",
          "Kuala Lumpur",
          "Kuala Lumpur",
          "Kuala Lumpur",
          "Kuala Lumpur",
          "Kuala Lumpur",
          "Kuala Lumpur",
          "Kuala Lumpur",
          "Kuala Lumpur",
          "Kuala Lumpur",
          "Kuala Lumpur",
          "Kuala Lumpur",
          "Kuala Lumpur",
          "Kuala Lumpur",
          "Kuala Lumpur",
          "Kuala Lumpur",
          "Kuala Lumpur",
          "Kuala Lumpur",
          "Kuala Lumpur",
          "Kuala Lumpur",
          "Kuala Lumpur",
          "Kuala Lumpur",
          "Kuala Lumpur",
          "Kuala Lumpur",
          "Kuala Lumpur",
          "Kuala Lumpur",
          "Kuala Lumpur",
          "Kuala Lumpur",
          "Kuala Lumpur",
          "Kuala Lumpur",
          "Kuala Lumpur",
          "Kuala Lumpur",
          "Kuala Lumpur",
          "Kuala Lumpur",
          "Kuala Lumpur",
          "Kuala Lumpur",
          "Kuala Lumpur",
          "Kuala Lumpur",
          "Kuala Lumpur",
          "Kuala Lumpur",
          "Kuala Lumpur",
          "Kuala Lumpur",
          "Kuala Lumpur",
          "Kuala Lumpur",
          "Kuala Lumpur",
          "Kuala Lumpur",
          "Kuala Lumpur",
          "Kuala Lumpur",
          "Kuala Lumpur",
          "Kuala Lumpur",
          "Kuala Lumpur",
          "Kuala Lumpur",
          "Kuala Lumpur",
          "Kuala Lumpur",
          "Kuala Lumpur",
          "Kuala Lumpur",
          "Kuala Lumpur",
          "Kuala Lumpur",
          "Kuala Lumpur",
          "Kuala Lumpur",
          "Kuala Lumpur",
          "Kuala Lumpur",
          "Kuala Lumpur",
          "Kuala Lumpur",
          "Kuala Lumpur",
          "Kuala Lumpur",
          "Kuala Lumpur",
          "Kuala Lumpur",
          "Kuala Lumpur",
          "Kuala Lumpur",
          "Kuala Lumpur",
          "Kuala Lumpur",
          "Kuala Lumpur",
          "Kuala Lumpur",
          "Kuala Lumpur",
          "Kuala Lumpur",
          "Kuala Lumpur",
          "Kuala Lumpur",
          "Kuala Lumpur",
          "Kuala Lumpur",
          "Kuala Lumpur",
          "Kuala Lumpur",
          "Kuala Lumpur",
          "Kuala Lumpur",
          "Kuala Lumpur",
          "Kuala Lumpur",
          "Kuala Lumpur",
          "Kuala Lumpur",
          "Kuala Lumpur",
          "Kuala Lumpur",
          "Singapore",
          "Singapore",
          "Singapore",
          "Singapore",
          "Singapore",
          "Singapore",
          "Singapore",
          "Singapore",
          "Singapore",
          "Singapore",
          "Singapore",
          "Singapore",
          "Singapore",
          "Singapore",
          "Singapore",
          "Singapore",
          "Singapore",
          "Singapore",
          "Singapore",
          "Singapore",
          "Singapore",
          "Singapore",
          "Singapore",
          "Singapore",
          "Singapore",
          "Singapore",
          "Singapore",
          "Singapore",
          "Singapore",
          "Singapore",
          "Singapore",
          "Singapore",
          "Singapore",
          "Singapore",
          "Singapore",
          "Singapore",
          "Singapore",
          "Singapore",
          "Singapore",
          "Singapore",
          "Singapore",
          "Singapore",
          "Singapore",
          "Singapore",
          "Singapore",
          "Singapore",
          "Singapore",
          "Singapore",
          "Singapore",
          "Singapore",
          "Singapore",
          "Singapore",
          "Singapore",
          "Singapore",
          "Singapore",
          "Singapore",
          "Singapore",
          "Singapore",
          "Singapore",
          "Singapore",
          "Singapore",
          "Singapore",
          "Singapore",
          "Singapore",
          "Singapore",
          "Singapore",
          "Singapore",
          "Singapore",
          "Singapore",
          "Singapore",
          "Singapore",
          "Singapore",
          "Singapore",
          "Singapore",
          "Singapore",
          "Singapore",
          "Singapore",
          "Singapore",
          "Singapore",
          "Singapore",
          "Singapore",
          "Singapore",
          "Singapore",
          "Singapore",
          "Singapore",
          "Singapore",
          "Singapore",
          "Singapore",
          "Singapore",
          "Singapore",
          "Singapore",
          "Singapore",
          "Singapore",
          "Singapore",
          "Singapore",
          "Singapore",
          "Singapore",
          "Singapore",
          "Singapore",
          "Singapore",
          "Singapore",
          "Singapore",
          "Singapore",
          "Singapore",
          "Singapore",
          "Singapore",
          "Singapore",
          "Singapore",
          "Singapore",
          "Singapore",
          "Singapore",
          "Singapore",
          "Singapore",
          "Singapore",
          "Singapore",
          "Singapore",
          "Singapore",
          "Singapore",
          "Singapore",
          "Singapore",
          "Singapore",
          "Singapore",
          "Singapore",
          "Singapore",
          "Singapore",
          "Singapore",
          "Singapore",
          "Singapore",
          "Singapore",
          "Singapore",
          "Singapore",
          "Singapore",
          "Singapore",
          "Singapore",
          "Singapore",
          "Singapore",
          "Singapore",
          "Singapore",
          "Singapore",
          "Singapore",
          "Singapore",
          "Singapore",
          "Singapore",
          "Singapore",
          "Singapore",
          "Singapore",
          "Singapore",
          "Singapore",
          "Singapore",
          "Singapore",
          "Singapore",
          "Singapore",
          "Singapore",
          "Singapore",
          "Singapore",
          "Singapore",
          "Singapore",
          "Singapore",
          "Singapore",
          "Singapore",
          "Singapore",
          "Singapore",
          "Singapore",
          "Singapore",
          "Singapore",
          "Singapore",
          "Singapore",
          "Singapore",
          "Singapore",
          "Singapore",
          "Singapore",
          "Singapore",
          "Singapore",
          "Singapore",
          "Singapore",
          "Singapore",
          "Singapore",
          "Singapore",
          "Singapore",
          "Singapore",
          "Singapore",
          "Singapore",
          "Singapore",
          "Singapore",
          "Singapore",
          "Singapore",
          "Singapore",
          "Singapore",
          "Montreal",
          "Montreal",
          "Montreal",
          "Montreal",
          "Montreal",
          "Montreal",
          "Montreal",
          "Montreal",
          "Montreal",
          "Montreal",
          "Montreal",
          "Montreal",
          "Montreal",
          "Montreal",
          "Montreal",
          "Montreal",
          "Montreal",
          "Montreal",
          "Montreal",
          "Montreal",
          "Montreal",
          "Montreal",
          "Montreal",
          "Montreal",
          "Montreal",
          "Montreal",
          "Montreal",
          "Montreal",
          "Montreal",
          "Montreal",
          "Montreal",
          "Montreal",
          "Montreal",
          "Montreal",
          "Montreal",
          "Montreal",
          "Montreal",
          "Montreal",
          "Montreal",
          "Montreal",
          "Montreal",
          "Montreal",
          "Montreal",
          "Montreal",
          "Montreal",
          "Montreal",
          "Montreal",
          "Montreal",
          "Montreal",
          "Montreal",
          "Montreal",
          "Montreal",
          "Montreal",
          "Montreal",
          "Montreal",
          "Montreal",
          "Montreal",
          "Montreal",
          "Montreal",
          "Montreal",
          "Montreal",
          "Montreal",
          "Montreal",
          "Montreal",
          "Montreal",
          "Montreal",
          "Montreal",
          "Montreal",
          "Montreal",
          "Montreal",
          "Montreal",
          "Montreal",
          "Montreal"
         ],
         "xaxis": "x",
         "y": [
          2.50320723,
          2.18713898,
          2.97553758,
          3.24989455,
          2.30154847,
          2.43804193,
          3.57417472,
          2.15523282,
          3.13635847,
          2.87843455,
          2.00438714,
          1.72766469,
          2.63536614,
          1.30700796,
          2.8398799300000004,
          2.6485886,
          2.36282791,
          2.18438939,
          2.15049166,
          2.21036431,
          2.92087017,
          1.70459228,
          0.99874736,
          2.31082803,
          1.46526333,
          2.00864547,
          1.96053364,
          1.99741613,
          1.4407928799999998,
          1.78729107,
          2.56875504,
          2.50320723,
          2.18713898,
          2.97553758,
          3.24989455,
          2.30154847,
          2.43804193,
          3.57417472,
          2.15523282,
          3.13635847,
          1.23613699,
          1.80755973,
          1.28215506,
          2.87843455,
          1.16625679,
          1.48917365,
          2.00438714,
          0.73848588,
          0.96879234,
          2.14291925,
          1.7670411,
          2.55634706,
          2.5685247400000004,
          1.36584476,
          1.4989333,
          3.05360071,
          3.07315564,
          2.30392579,
          1.33235855,
          3.0407064100000003,
          2.65852396,
          3.41690366,
          2.66858784,
          2.55299055,
          2.54116602,
          2.15266294,
          2.47394872,
          1.5659501299999998,
          2.91673712,
          2.47261526,
          2.97844454,
          3.47835279,
          2.55415807,
          2.67538928,
          2.9409497200000003,
          2.27835626,
          3.16651208,
          1.0854431299999998,
          1.63097096,
          1.25523608,
          2.80011178,
          2.85647793,
          2.3320872,
          1.84844813,
          2.65349169,
          2.4697297,
          2.8377076,
          3.4585355000000004,
          2.89450107,
          2.31622159,
          3.18113759,
          2.86908831,
          3.18807073,
          3.43811055,
          3.43721354,
          1.39431611,
          0.77787122,
          1.84313567,
          2.4039592,
          0.93031178,
          2.63810659,
          2.6266688300000003,
          1.1560063,
          2.21364998,
          1.7190148999999997,
          1.88394972,
          1.5214177,
          2.57465602,
          2.93804371,
          2.55486237,
          3.53382386,
          1.61326365,
          2.88430088,
          3.03546832,
          2.87970501,
          2.55413829,
          2.39006463,
          1.1586145,
          1.57184147,
          1.02247819,
          1.92063742,
          1.17586881,
          1.08940472,
          2.53917369,
          3.40544625,
          1.09995471,
          3.41250644,
          2.54827031,
          3.5455191,
          3.0552604,
          3.59173937,
          2.69327547,
          3.42264795,
          2.79460143,
          3.20105883,
          3.59446692,
          3.05351361,
          2.93491671,
          2.86426427,
          2.60979625,
          2.16183052,
          2.81125044,
          3.06128666,
          2.83096345,
          3.35492784,
          2.63578254,
          2.19966486,
          3.28105116,
          3.20119296,
          3.3728589999999996,
          3.21415779,
          3.40376744,
          2.53479377,
          3.4771517000000003,
          2.85851892,
          3.43726859,
          3.20669763,
          3.2660547,
          2.81025303,
          3.2896859700000003,
          3.02794769,
          1.85520685,
          3.09185091,
          2.94481984,
          2.10411011,
          2.98010614,
          2.75727785,
          2.3699578,
          2.99781329,
          3.08381551,
          2.68331364,
          3.04527087,
          2.98146369,
          1.69756428,
          3.22636669,
          3.21398706,
          2.8947099900000004,
          3.15819882,
          2.93188419,
          2.61614835,
          3.0464307400000004,
          3.09801725,
          3.24143061,
          2.34825932,
          3.17496438,
          3.30029715,
          3.14910832,
          2.99991697,
          3.33615294,
          2.55771666,
          3.51898778,
          3.24143061,
          3.24143061,
          2.17739107,
          2.86401164,
          2.32848928,
          2.34972648,
          1.5747403400000002,
          3.83218467,
          2.65202319,
          3.48092844,
          3.35228514,
          2.4789492400000004,
          1.7026243600000002,
          2.77843279,
          2.4831644500000003,
          3.4487782200000003,
          2.62370187,
          3.28430663,
          1.77341498,
          3.08830592,
          1.78257608,
          2.53296727,
          3.18699557,
          3.31201172,
          2.59307099,
          3.38229841,
          3.0530792200000003,
          2.69327547,
          2.69327547,
          2.1973163,
          1.10625557,
          0.38469198,
          2.95437571,
          2.95505109,
          3.2333960999999998,
          3.18658514,
          3.1141616400000003,
          3.2023587000000004,
          2.90635469,
          3.15553639,
          2.71860243,
          3.11140538,
          3.16607077,
          1.93502788,
          2.73769014,
          1.70657243,
          0.88664949,
          2.95478059,
          3.02835661,
          3.17909082,
          2.10765067,
          3.04318807,
          3.31807505,
          2.90701663,
          3.23280639,
          2.55257744,
          2.85015809,
          2.97070154,
          2.78243146,
          2.7088249,
          3.63938158,
          3.10264381,
          3.14734666,
          2.1369849700000003,
          3.45740354,
          2.9191171,
          1.99135524,
          2.68572765,
          3.20809132,
          3.1851068700000003,
          1.93502788,
          1.93502788,
          3.1544526800000003,
          3.12327351,
          2.93288125,
          3.22490729,
          1.87384645,
          2.66392132,
          2.78243146,
          2.78243146,
          2.97167093,
          3.16877684,
          2.07733175,
          3.08215888,
          3.27523298,
          1.98969561,
          2.78268556,
          2.54900402,
          2.1369849700000003,
          2.1369849700000003,
          2.97244585,
          2.69343738,
          1.90827543,
          2.75608604,
          1.91409605,
          2.12567033,
          2.57647433,
          2.4546874,
          2.61928736,
          2.86620298,
          3.28628154,
          2.2495359500000003,
          2.7753887400000004,
          1.40382818,
          2.42954313,
          0.95571545,
          2.70756503,
          2.16476182,
          2.85653487,
          2.12365853,
          2.77706195,
          2.96387732,
          3.11319696,
          2.51546526,
          2.36933164,
          2.7270662000000003,
          2.39455926,
          3.02235158,
          3.20503196,
          3.17496438,
          1.8569794999999998,
          3.374736,
          0.72878146,
          3.1267422,
          3.36563703,
          3.34754866,
          3.1117759300000003,
          3.24703309,
          2.71295456,
          3.33296317,
          3.52111954,
          3.37244426,
          3.42647288,
          3.43075151,
          3.52888932,
          3.49611928,
          3.5464071,
          3.4423493,
          2.47379547,
          2.48993028,
          3.05483997,
          3.3481547000000003,
          3.44896379,
          3.31123949,
          2.81778716,
          2.94403075,
          3.31136883,
          3.37774206,
          3.1993252400000003,
          3.19089716,
          3.39038228,
          3.02870679,
          2.85681978,
          3.0451229100000003,
          3.46590275,
          3.40950132,
          3.21947551,
          3.30193938,
          2.72144646,
          2.69988571,
          2.93418013,
          3.35129379,
          3.42504677,
          3.4708597400000003,
          3.4253894500000004,
          3.25939242,
          3.10948983,
          3.34510542,
          3.4213247000000004,
          3.19636853,
          2.3192828,
          3.2565734500000003,
          3.19117851,
          3.41546281,
          3.45254993,
          3.51138988,
          3.4572342000000003,
          2.99464234,
          2.47120248,
          3.31174075,
          2.7090947,
          3.21947551,
          3.42398027,
          3.13866382,
          3.18270198,
          3.4172669300000003,
          3.37719553,
          2.96245959,
          3.32103431,
          3.42973777,
          3.35266966,
          3.4820076600000003,
          3.47871553,
          3.4423493,
          2.07365564,
          1.87772188
         ],
         "yaxis": "y"
        }
       ],
       "layout": {
        "barmode": "group",
        "legend": {
         "title": {
          "text": "variable"
         },
         "tracegroupgap": 0
        },
        "template": {
         "data": {
          "bar": [
           {
            "error_x": {
             "color": "#2a3f5f"
            },
            "error_y": {
             "color": "#2a3f5f"
            },
            "marker": {
             "line": {
              "color": "#E5ECF6",
              "width": 0.5
             }
            },
            "type": "bar"
           }
          ],
          "barpolar": [
           {
            "marker": {
             "line": {
              "color": "#E5ECF6",
              "width": 0.5
             }
            },
            "type": "barpolar"
           }
          ],
          "carpet": [
           {
            "aaxis": {
             "endlinecolor": "#2a3f5f",
             "gridcolor": "white",
             "linecolor": "white",
             "minorgridcolor": "white",
             "startlinecolor": "#2a3f5f"
            },
            "baxis": {
             "endlinecolor": "#2a3f5f",
             "gridcolor": "white",
             "linecolor": "white",
             "minorgridcolor": "white",
             "startlinecolor": "#2a3f5f"
            },
            "type": "carpet"
           }
          ],
          "choropleth": [
           {
            "colorbar": {
             "outlinewidth": 0,
             "ticks": ""
            },
            "type": "choropleth"
           }
          ],
          "contour": [
           {
            "colorbar": {
             "outlinewidth": 0,
             "ticks": ""
            },
            "colorscale": [
             [
              0,
              "#0d0887"
             ],
             [
              0.1111111111111111,
              "#46039f"
             ],
             [
              0.2222222222222222,
              "#7201a8"
             ],
             [
              0.3333333333333333,
              "#9c179e"
             ],
             [
              0.4444444444444444,
              "#bd3786"
             ],
             [
              0.5555555555555556,
              "#d8576b"
             ],
             [
              0.6666666666666666,
              "#ed7953"
             ],
             [
              0.7777777777777778,
              "#fb9f3a"
             ],
             [
              0.8888888888888888,
              "#fdca26"
             ],
             [
              1,
              "#f0f921"
             ]
            ],
            "type": "contour"
           }
          ],
          "contourcarpet": [
           {
            "colorbar": {
             "outlinewidth": 0,
             "ticks": ""
            },
            "type": "contourcarpet"
           }
          ],
          "heatmap": [
           {
            "colorbar": {
             "outlinewidth": 0,
             "ticks": ""
            },
            "colorscale": [
             [
              0,
              "#0d0887"
             ],
             [
              0.1111111111111111,
              "#46039f"
             ],
             [
              0.2222222222222222,
              "#7201a8"
             ],
             [
              0.3333333333333333,
              "#9c179e"
             ],
             [
              0.4444444444444444,
              "#bd3786"
             ],
             [
              0.5555555555555556,
              "#d8576b"
             ],
             [
              0.6666666666666666,
              "#ed7953"
             ],
             [
              0.7777777777777778,
              "#fb9f3a"
             ],
             [
              0.8888888888888888,
              "#fdca26"
             ],
             [
              1,
              "#f0f921"
             ]
            ],
            "type": "heatmap"
           }
          ],
          "heatmapgl": [
           {
            "colorbar": {
             "outlinewidth": 0,
             "ticks": ""
            },
            "colorscale": [
             [
              0,
              "#0d0887"
             ],
             [
              0.1111111111111111,
              "#46039f"
             ],
             [
              0.2222222222222222,
              "#7201a8"
             ],
             [
              0.3333333333333333,
              "#9c179e"
             ],
             [
              0.4444444444444444,
              "#bd3786"
             ],
             [
              0.5555555555555556,
              "#d8576b"
             ],
             [
              0.6666666666666666,
              "#ed7953"
             ],
             [
              0.7777777777777778,
              "#fb9f3a"
             ],
             [
              0.8888888888888888,
              "#fdca26"
             ],
             [
              1,
              "#f0f921"
             ]
            ],
            "type": "heatmapgl"
           }
          ],
          "histogram": [
           {
            "marker": {
             "colorbar": {
              "outlinewidth": 0,
              "ticks": ""
             }
            },
            "type": "histogram"
           }
          ],
          "histogram2d": [
           {
            "colorbar": {
             "outlinewidth": 0,
             "ticks": ""
            },
            "colorscale": [
             [
              0,
              "#0d0887"
             ],
             [
              0.1111111111111111,
              "#46039f"
             ],
             [
              0.2222222222222222,
              "#7201a8"
             ],
             [
              0.3333333333333333,
              "#9c179e"
             ],
             [
              0.4444444444444444,
              "#bd3786"
             ],
             [
              0.5555555555555556,
              "#d8576b"
             ],
             [
              0.6666666666666666,
              "#ed7953"
             ],
             [
              0.7777777777777778,
              "#fb9f3a"
             ],
             [
              0.8888888888888888,
              "#fdca26"
             ],
             [
              1,
              "#f0f921"
             ]
            ],
            "type": "histogram2d"
           }
          ],
          "histogram2dcontour": [
           {
            "colorbar": {
             "outlinewidth": 0,
             "ticks": ""
            },
            "colorscale": [
             [
              0,
              "#0d0887"
             ],
             [
              0.1111111111111111,
              "#46039f"
             ],
             [
              0.2222222222222222,
              "#7201a8"
             ],
             [
              0.3333333333333333,
              "#9c179e"
             ],
             [
              0.4444444444444444,
              "#bd3786"
             ],
             [
              0.5555555555555556,
              "#d8576b"
             ],
             [
              0.6666666666666666,
              "#ed7953"
             ],
             [
              0.7777777777777778,
              "#fb9f3a"
             ],
             [
              0.8888888888888888,
              "#fdca26"
             ],
             [
              1,
              "#f0f921"
             ]
            ],
            "type": "histogram2dcontour"
           }
          ],
          "mesh3d": [
           {
            "colorbar": {
             "outlinewidth": 0,
             "ticks": ""
            },
            "type": "mesh3d"
           }
          ],
          "parcoords": [
           {
            "line": {
             "colorbar": {
              "outlinewidth": 0,
              "ticks": ""
             }
            },
            "type": "parcoords"
           }
          ],
          "pie": [
           {
            "automargin": true,
            "type": "pie"
           }
          ],
          "scatter": [
           {
            "marker": {
             "colorbar": {
              "outlinewidth": 0,
              "ticks": ""
             }
            },
            "type": "scatter"
           }
          ],
          "scatter3d": [
           {
            "line": {
             "colorbar": {
              "outlinewidth": 0,
              "ticks": ""
             }
            },
            "marker": {
             "colorbar": {
              "outlinewidth": 0,
              "ticks": ""
             }
            },
            "type": "scatter3d"
           }
          ],
          "scattercarpet": [
           {
            "marker": {
             "colorbar": {
              "outlinewidth": 0,
              "ticks": ""
             }
            },
            "type": "scattercarpet"
           }
          ],
          "scattergeo": [
           {
            "marker": {
             "colorbar": {
              "outlinewidth": 0,
              "ticks": ""
             }
            },
            "type": "scattergeo"
           }
          ],
          "scattergl": [
           {
            "marker": {
             "colorbar": {
              "outlinewidth": 0,
              "ticks": ""
             }
            },
            "type": "scattergl"
           }
          ],
          "scattermapbox": [
           {
            "marker": {
             "colorbar": {
              "outlinewidth": 0,
              "ticks": ""
             }
            },
            "type": "scattermapbox"
           }
          ],
          "scatterpolar": [
           {
            "marker": {
             "colorbar": {
              "outlinewidth": 0,
              "ticks": ""
             }
            },
            "type": "scatterpolar"
           }
          ],
          "scatterpolargl": [
           {
            "marker": {
             "colorbar": {
              "outlinewidth": 0,
              "ticks": ""
             }
            },
            "type": "scatterpolargl"
           }
          ],
          "scatterternary": [
           {
            "marker": {
             "colorbar": {
              "outlinewidth": 0,
              "ticks": ""
             }
            },
            "type": "scatterternary"
           }
          ],
          "surface": [
           {
            "colorbar": {
             "outlinewidth": 0,
             "ticks": ""
            },
            "colorscale": [
             [
              0,
              "#0d0887"
             ],
             [
              0.1111111111111111,
              "#46039f"
             ],
             [
              0.2222222222222222,
              "#7201a8"
             ],
             [
              0.3333333333333333,
              "#9c179e"
             ],
             [
              0.4444444444444444,
              "#bd3786"
             ],
             [
              0.5555555555555556,
              "#d8576b"
             ],
             [
              0.6666666666666666,
              "#ed7953"
             ],
             [
              0.7777777777777778,
              "#fb9f3a"
             ],
             [
              0.8888888888888888,
              "#fdca26"
             ],
             [
              1,
              "#f0f921"
             ]
            ],
            "type": "surface"
           }
          ],
          "table": [
           {
            "cells": {
             "fill": {
              "color": "#EBF0F8"
             },
             "line": {
              "color": "white"
             }
            },
            "header": {
             "fill": {
              "color": "#C8D4E3"
             },
             "line": {
              "color": "white"
             }
            },
            "type": "table"
           }
          ]
         },
         "layout": {
          "annotationdefaults": {
           "arrowcolor": "#2a3f5f",
           "arrowhead": 0,
           "arrowwidth": 1
          },
          "coloraxis": {
           "colorbar": {
            "outlinewidth": 0,
            "ticks": ""
           }
          },
          "colorscale": {
           "diverging": [
            [
             0,
             "#8e0152"
            ],
            [
             0.1,
             "#c51b7d"
            ],
            [
             0.2,
             "#de77ae"
            ],
            [
             0.3,
             "#f1b6da"
            ],
            [
             0.4,
             "#fde0ef"
            ],
            [
             0.5,
             "#f7f7f7"
            ],
            [
             0.6,
             "#e6f5d0"
            ],
            [
             0.7,
             "#b8e186"
            ],
            [
             0.8,
             "#7fbc41"
            ],
            [
             0.9,
             "#4d9221"
            ],
            [
             1,
             "#276419"
            ]
           ],
           "sequential": [
            [
             0,
             "#0d0887"
            ],
            [
             0.1111111111111111,
             "#46039f"
            ],
            [
             0.2222222222222222,
             "#7201a8"
            ],
            [
             0.3333333333333333,
             "#9c179e"
            ],
            [
             0.4444444444444444,
             "#bd3786"
            ],
            [
             0.5555555555555556,
             "#d8576b"
            ],
            [
             0.6666666666666666,
             "#ed7953"
            ],
            [
             0.7777777777777778,
             "#fb9f3a"
            ],
            [
             0.8888888888888888,
             "#fdca26"
            ],
            [
             1,
             "#f0f921"
            ]
           ],
           "sequentialminus": [
            [
             0,
             "#0d0887"
            ],
            [
             0.1111111111111111,
             "#46039f"
            ],
            [
             0.2222222222222222,
             "#7201a8"
            ],
            [
             0.3333333333333333,
             "#9c179e"
            ],
            [
             0.4444444444444444,
             "#bd3786"
            ],
            [
             0.5555555555555556,
             "#d8576b"
            ],
            [
             0.6666666666666666,
             "#ed7953"
            ],
            [
             0.7777777777777778,
             "#fb9f3a"
            ],
            [
             0.8888888888888888,
             "#fdca26"
            ],
            [
             1,
             "#f0f921"
            ]
           ]
          },
          "colorway": [
           "#636efa",
           "#EF553B",
           "#00cc96",
           "#ab63fa",
           "#FFA15A",
           "#19d3f3",
           "#FF6692",
           "#B6E880",
           "#FF97FF",
           "#FECB52"
          ],
          "font": {
           "color": "#2a3f5f"
          },
          "geo": {
           "bgcolor": "white",
           "lakecolor": "white",
           "landcolor": "#E5ECF6",
           "showlakes": true,
           "showland": true,
           "subunitcolor": "white"
          },
          "hoverlabel": {
           "align": "left"
          },
          "hovermode": "closest",
          "mapbox": {
           "style": "light"
          },
          "paper_bgcolor": "white",
          "plot_bgcolor": "#E5ECF6",
          "polar": {
           "angularaxis": {
            "gridcolor": "white",
            "linecolor": "white",
            "ticks": ""
           },
           "bgcolor": "#E5ECF6",
           "radialaxis": {
            "gridcolor": "white",
            "linecolor": "white",
            "ticks": ""
           }
          },
          "scene": {
           "xaxis": {
            "backgroundcolor": "#E5ECF6",
            "gridcolor": "white",
            "gridwidth": 2,
            "linecolor": "white",
            "showbackground": true,
            "ticks": "",
            "zerolinecolor": "white"
           },
           "yaxis": {
            "backgroundcolor": "#E5ECF6",
            "gridcolor": "white",
            "gridwidth": 2,
            "linecolor": "white",
            "showbackground": true,
            "ticks": "",
            "zerolinecolor": "white"
           },
           "zaxis": {
            "backgroundcolor": "#E5ECF6",
            "gridcolor": "white",
            "gridwidth": 2,
            "linecolor": "white",
            "showbackground": true,
            "ticks": "",
            "zerolinecolor": "white"
           }
          },
          "shapedefaults": {
           "line": {
            "color": "#2a3f5f"
           }
          },
          "ternary": {
           "aaxis": {
            "gridcolor": "white",
            "linecolor": "white",
            "ticks": ""
           },
           "baxis": {
            "gridcolor": "white",
            "linecolor": "white",
            "ticks": ""
           },
           "bgcolor": "#E5ECF6",
           "caxis": {
            "gridcolor": "white",
            "linecolor": "white",
            "ticks": ""
           }
          },
          "title": {
           "x": 0.05
          },
          "xaxis": {
           "automargin": true,
           "gridcolor": "white",
           "linecolor": "white",
           "ticks": "",
           "title": {
            "standoff": 15
           },
           "zerolinecolor": "white",
           "zerolinewidth": 2
          },
          "yaxis": {
           "automargin": true,
           "gridcolor": "white",
           "linecolor": "white",
           "ticks": "",
           "title": {
            "standoff": 15
           },
           "zerolinecolor": "white",
           "zerolinewidth": 2
          }
         }
        },
        "title": {
         "text": "Area coverage within walking times from station"
        },
        "xaxis": {
         "anchor": "y",
         "categoryorder": "total ascending",
         "domain": [
          0,
          1
         ],
         "title": {
          "text": "City"
         }
        },
        "yaxis": {
         "anchor": "x",
         "domain": [
          0,
          1
         ],
         "title": {
          "text": "avg of Walkable Area Coverage(km^2)"
         }
        }
       }
      }
     },
     "metadata": {},
     "output_type": "display_data"
    }
   ],
   "source": [
    "#comparing walking area coverage averaged out for different cities this includes all our train lines\n",
    "fig = px.histogram(data_temp\n",
    "             ,x='City'\n",
    "             ,y=['5 Minute Range Area','10 Minute Range Area','15 Minute Range Area']\n",
    "             , barmode = 'group'\n",
    "             , title=\"Area coverage within walking times from station\"\n",
    "             , template='plotly'\n",
    "             , histfunc = 'avg'\n",
    "             ,labels={'Route Name': \"Lines\", 'value':'Walkable Area Coverage(km^2)'}\n",
    "            ).update_xaxes(categoryorder='total ascending')\n",
    "\n",
    "fig.show() "
   ]
  },
  {
   "cell_type": "code",
   "execution_count": 11,
   "metadata": {},
   "outputs": [
    {
     "data": {
      "application/vnd.plotly.v1+json": {
       "config": {
        "plotlyServerURL": "https://plot.ly"
       },
       "data": [
        {
         "alignmentgroup": "True",
         "bingroup": "x",
         "histfunc": "avg",
         "hovertemplate": "variable=5 Minute Population<br>City=%{x}<br>avg of Population Coverage=%{y}<extra></extra>",
         "legendgroup": "5 Minute Population",
         "marker": {
          "color": "#636efa"
         },
         "name": "5 Minute Population",
         "offsetgroup": "5 Minute Population",
         "orientation": "v",
         "showlegend": true,
         "type": "histogram",
         "x": [
          "Kuala Lumpur",
          "Kuala Lumpur",
          "Kuala Lumpur",
          "Kuala Lumpur",
          "Kuala Lumpur",
          "Kuala Lumpur",
          "Kuala Lumpur",
          "Kuala Lumpur",
          "Kuala Lumpur",
          "Kuala Lumpur",
          "Kuala Lumpur",
          "Kuala Lumpur",
          "Kuala Lumpur",
          "Kuala Lumpur",
          "Kuala Lumpur",
          "Kuala Lumpur",
          "Kuala Lumpur",
          "Kuala Lumpur",
          "Kuala Lumpur",
          "Kuala Lumpur",
          "Kuala Lumpur",
          "Kuala Lumpur",
          "Kuala Lumpur",
          "Kuala Lumpur",
          "Kuala Lumpur",
          "Kuala Lumpur",
          "Kuala Lumpur",
          "Kuala Lumpur",
          "Kuala Lumpur",
          "Kuala Lumpur",
          "Kuala Lumpur",
          "Kuala Lumpur",
          "Kuala Lumpur",
          "Kuala Lumpur",
          "Kuala Lumpur",
          "Kuala Lumpur",
          "Kuala Lumpur",
          "Kuala Lumpur",
          "Kuala Lumpur",
          "Kuala Lumpur",
          "Kuala Lumpur",
          "Kuala Lumpur",
          "Kuala Lumpur",
          "Kuala Lumpur",
          "Kuala Lumpur",
          "Kuala Lumpur",
          "Kuala Lumpur",
          "Kuala Lumpur",
          "Kuala Lumpur",
          "Kuala Lumpur",
          "Kuala Lumpur",
          "Kuala Lumpur",
          "Kuala Lumpur",
          "Kuala Lumpur",
          "Kuala Lumpur",
          "Kuala Lumpur",
          "Kuala Lumpur",
          "Kuala Lumpur",
          "Kuala Lumpur",
          "Kuala Lumpur",
          "Kuala Lumpur",
          "Kuala Lumpur",
          "Kuala Lumpur",
          "Kuala Lumpur",
          "Kuala Lumpur",
          "Kuala Lumpur",
          "Kuala Lumpur",
          "Kuala Lumpur",
          "Kuala Lumpur",
          "Kuala Lumpur",
          "Kuala Lumpur",
          "Kuala Lumpur",
          "Kuala Lumpur",
          "Kuala Lumpur",
          "Kuala Lumpur",
          "Kuala Lumpur",
          "Kuala Lumpur",
          "Kuala Lumpur",
          "Kuala Lumpur",
          "Kuala Lumpur",
          "Kuala Lumpur",
          "Kuala Lumpur",
          "Kuala Lumpur",
          "Kuala Lumpur",
          "Kuala Lumpur",
          "Kuala Lumpur",
          "Kuala Lumpur",
          "Kuala Lumpur",
          "Kuala Lumpur",
          "Kuala Lumpur",
          "Kuala Lumpur",
          "Kuala Lumpur",
          "Kuala Lumpur",
          "Kuala Lumpur",
          "Kuala Lumpur",
          "Kuala Lumpur",
          "Kuala Lumpur",
          "Kuala Lumpur",
          "Kuala Lumpur",
          "Kuala Lumpur",
          "Kuala Lumpur",
          "Kuala Lumpur",
          "Kuala Lumpur",
          "Kuala Lumpur",
          "Kuala Lumpur",
          "Kuala Lumpur",
          "Kuala Lumpur",
          "Kuala Lumpur",
          "Kuala Lumpur",
          "Kuala Lumpur",
          "Kuala Lumpur",
          "Kuala Lumpur",
          "Kuala Lumpur",
          "Kuala Lumpur",
          "Kuala Lumpur",
          "Kuala Lumpur",
          "Kuala Lumpur",
          "Kuala Lumpur",
          "Kuala Lumpur",
          "Kuala Lumpur",
          "Kuala Lumpur",
          "Kuala Lumpur",
          "Kuala Lumpur",
          "Kuala Lumpur",
          "Kuala Lumpur",
          "Kuala Lumpur",
          "Singapore",
          "Singapore",
          "Singapore",
          "Singapore",
          "Singapore",
          "Singapore",
          "Singapore",
          "Singapore",
          "Singapore",
          "Singapore",
          "Singapore",
          "Singapore",
          "Singapore",
          "Singapore",
          "Singapore",
          "Singapore",
          "Singapore",
          "Singapore",
          "Singapore",
          "Singapore",
          "Singapore",
          "Singapore",
          "Singapore",
          "Singapore",
          "Singapore",
          "Singapore",
          "Singapore",
          "Singapore",
          "Singapore",
          "Singapore",
          "Singapore",
          "Singapore",
          "Singapore",
          "Singapore",
          "Singapore",
          "Singapore",
          "Singapore",
          "Singapore",
          "Singapore",
          "Singapore",
          "Singapore",
          "Singapore",
          "Singapore",
          "Singapore",
          "Singapore",
          "Singapore",
          "Singapore",
          "Singapore",
          "Singapore",
          "Singapore",
          "Singapore",
          "Singapore",
          "Singapore",
          "Singapore",
          "Singapore",
          "Singapore",
          "Singapore",
          "Singapore",
          "Singapore",
          "Singapore",
          "Singapore",
          "Singapore",
          "Singapore",
          "Singapore",
          "Singapore",
          "Singapore",
          "Singapore",
          "Singapore",
          "Singapore",
          "Singapore",
          "Singapore",
          "Singapore",
          "Singapore",
          "Singapore",
          "Singapore",
          "Singapore",
          "Singapore",
          "Singapore",
          "Singapore",
          "Singapore",
          "Singapore",
          "Singapore",
          "Singapore",
          "Singapore",
          "Singapore",
          "Singapore",
          "Singapore",
          "Singapore",
          "Singapore",
          "Singapore",
          "Singapore",
          "Singapore",
          "Singapore",
          "Singapore",
          "Singapore",
          "Singapore",
          "Singapore",
          "Singapore",
          "Singapore",
          "Singapore",
          "Singapore",
          "Singapore",
          "Singapore",
          "Singapore",
          "Singapore",
          "Singapore",
          "Singapore",
          "Singapore",
          "Singapore",
          "Singapore",
          "Singapore",
          "Singapore",
          "Singapore",
          "Singapore",
          "Singapore",
          "Singapore",
          "Singapore",
          "Singapore",
          "Singapore",
          "Singapore",
          "Singapore",
          "Singapore",
          "Singapore",
          "Singapore",
          "Singapore",
          "Singapore",
          "Singapore",
          "Singapore",
          "Singapore",
          "Singapore",
          "Singapore",
          "Singapore",
          "Singapore",
          "Singapore",
          "Singapore",
          "Singapore",
          "Singapore",
          "Singapore",
          "Singapore",
          "Singapore",
          "Singapore",
          "Singapore",
          "Singapore",
          "Singapore",
          "Singapore",
          "Singapore",
          "Singapore",
          "Singapore",
          "Singapore",
          "Singapore",
          "Singapore",
          "Singapore",
          "Singapore",
          "Singapore",
          "Singapore",
          "Singapore",
          "Singapore",
          "Singapore",
          "Singapore",
          "Singapore",
          "Singapore",
          "Singapore",
          "Singapore",
          "Singapore",
          "Singapore",
          "Singapore",
          "Singapore",
          "Singapore",
          "Singapore",
          "Singapore",
          "Singapore",
          "Singapore",
          "Singapore",
          "Singapore",
          "Singapore",
          "Singapore",
          "Singapore",
          "Singapore",
          "Singapore",
          "Singapore",
          "Singapore",
          "Singapore",
          "Singapore",
          "Singapore",
          "Singapore",
          "Singapore",
          "Singapore",
          "Singapore",
          "Montreal",
          "Montreal",
          "Montreal",
          "Montreal",
          "Montreal",
          "Montreal",
          "Montreal",
          "Montreal",
          "Montreal",
          "Montreal",
          "Montreal",
          "Montreal",
          "Montreal",
          "Montreal",
          "Montreal",
          "Montreal",
          "Montreal",
          "Montreal",
          "Montreal",
          "Montreal",
          "Montreal",
          "Montreal",
          "Montreal",
          "Montreal",
          "Montreal",
          "Montreal",
          "Montreal",
          "Montreal",
          "Montreal",
          "Montreal",
          "Montreal",
          "Montreal",
          "Montreal",
          "Montreal",
          "Montreal",
          "Montreal",
          "Montreal",
          "Montreal",
          "Montreal",
          "Montreal",
          "Montreal",
          "Montreal",
          "Montreal",
          "Montreal",
          "Montreal",
          "Montreal",
          "Montreal",
          "Montreal",
          "Montreal",
          "Montreal",
          "Montreal",
          "Montreal",
          "Montreal",
          "Montreal",
          "Montreal",
          "Montreal",
          "Montreal",
          "Montreal",
          "Montreal",
          "Montreal",
          "Montreal",
          "Montreal",
          "Montreal",
          "Montreal",
          "Montreal",
          "Montreal",
          "Montreal",
          "Montreal",
          "Montreal",
          "Montreal",
          "Montreal",
          "Montreal",
          "Montreal"
         ],
         "xaxis": "x",
         "y": [
          2186,
          845,
          2141,
          3133,
          847,
          1729,
          2248,
          456,
          2779,
          1788,
          456,
          1020,
          892,
          814,
          3618,
          2741,
          1829,
          1832,
          764,
          2655,
          3544,
          2377,
          1288,
          2431,
          1617,
          619,
          1025,
          2955,
          495,
          629,
          2502,
          2186,
          845,
          2141,
          3133,
          847,
          1729,
          2248,
          456,
          2779,
          967,
          1694,
          606,
          1788,
          1076,
          930,
          456,
          0,
          0,
          501,
          754,
          1667,
          1245,
          1069,
          659,
          1939,
          1885,
          631,
          0,
          2002,
          1694,
          2101,
          606,
          1274,
          824,
          2000,
          1555,
          433,
          1785,
          1809,
          1803,
          2254,
          1360,
          910,
          2194,
          1285,
          3353,
          1060,
          906,
          834,
          1767,
          1369,
          2023,
          982,
          1822,
          2780,
          1353,
          3169,
          913,
          1053,
          1574,
          345,
          1808,
          1819,
          2258,
          75,
          339,
          443,
          867,
          335,
          1148,
          1333,
          512,
          1440,
          316,
          526,
          1122,
          1031,
          1803,
          1328,
          2258,
          456,
          2227,
          1348,
          2725,
          1124,
          1666,
          1915,
          515,
          502,
          1005,
          1532,
          485,
          1765,
          2222,
          1622,
          2610,
          227,
          1209,
          6351,
          6389,
          2751,
          513,
          6596,
          512,
          6759,
          1511,
          2036,
          9235,
          1383,
          902,
          6659,
          2407,
          9454,
          6207,
          6003,
          2088,
          1643,
          5035,
          6095,
          2086,
          16326,
          8971,
          3277,
          4078,
          3146,
          11972,
          7227,
          6275,
          7206,
          15121,
          12724,
          12211,
          9141,
          12115,
          17694,
          12639,
          12105,
          26115,
          17686,
          10671,
          11642,
          12636,
          12452,
          5047,
          709,
          0,
          4444,
          7670,
          6678,
          4608,
          13866,
          6464,
          3690,
          13912,
          10290,
          5168,
          4457,
          6716,
          3425,
          1814,
          6464,
          6464,
          1649,
          3323,
          6074,
          4416,
          0,
          7158,
          1822,
          3726,
          537,
          3282,
          1069,
          4682,
          2184,
          4689,
          3360,
          4867,
          2026,
          6943,
          2337,
          7066,
          0,
          7234,
          202,
          1940,
          3774,
          2751,
          2751,
          199,
          0,
          15,
          5764,
          1085,
          6425,
          13038,
          2913,
          5456,
          11624,
          8067,
          5488,
          5197,
          7003,
          6636,
          2833,
          0,
          0,
          0,
          4740,
          0,
          672,
          2647,
          11096,
          7193,
          7603,
          0,
          4323,
          2048,
          3247,
          392,
          1877,
          4050,
          4985,
          10811,
          7426,
          3501,
          0,
          20153,
          13210,
          9025,
          6636,
          6636,
          10972,
          4652,
          8716,
          7014,
          4183,
          13773,
          3247,
          3247,
          0,
          644,
          134,
          0,
          3949,
          0,
          5132,
          8202,
          10811,
          10811,
          634,
          5269,
          618,
          6063,
          303,
          3065,
          4751,
          4072,
          7664,
          3221,
          6174,
          6460,
          6170,
          2185,
          4932,
          173,
          13148,
          6382,
          16414,
          1970,
          10785,
          17789,
          22865,
          11988,
          10337,
          26676,
          11204,
          21654,
          24524,
          13912,
          8389,
          13305,
          72,
          1626,
          4098,
          2014,
          6780,
          5376,
          3857,
          3181,
          3969,
          2699,
          10093,
          4137,
          730,
          1698,
          3227,
          1952,
          2871,
          2023,
          2849,
          3116,
          5483,
          2531,
          1846,
          1545,
          4028,
          1930,
          1393,
          1321,
          4150,
          1548,
          366,
          265,
          5048,
          6763,
          3151,
          3527,
          1544,
          3349,
          2362,
          4012,
          2284,
          29,
          1257,
          1832,
          2105,
          1957,
          3924,
          4140,
          1187,
          1588,
          5552,
          5424,
          6278,
          3713,
          2133,
          1173,
          422,
          2508,
          151,
          3151,
          4261,
          1090,
          1417,
          3767,
          3071,
          5933,
          3149,
          4407,
          5007,
          4854,
          3847,
          1952,
          0,
          3288
         ],
         "yaxis": "y"
        },
        {
         "alignmentgroup": "True",
         "bingroup": "x",
         "histfunc": "avg",
         "hovertemplate": "variable=10 Minute Population<br>City=%{x}<br>avg of Population Coverage=%{y}<extra></extra>",
         "legendgroup": "10 Minute Population",
         "marker": {
          "color": "#EF553B"
         },
         "name": "10 Minute Population",
         "offsetgroup": "10 Minute Population",
         "orientation": "v",
         "showlegend": true,
         "type": "histogram",
         "x": [
          "Kuala Lumpur",
          "Kuala Lumpur",
          "Kuala Lumpur",
          "Kuala Lumpur",
          "Kuala Lumpur",
          "Kuala Lumpur",
          "Kuala Lumpur",
          "Kuala Lumpur",
          "Kuala Lumpur",
          "Kuala Lumpur",
          "Kuala Lumpur",
          "Kuala Lumpur",
          "Kuala Lumpur",
          "Kuala Lumpur",
          "Kuala Lumpur",
          "Kuala Lumpur",
          "Kuala Lumpur",
          "Kuala Lumpur",
          "Kuala Lumpur",
          "Kuala Lumpur",
          "Kuala Lumpur",
          "Kuala Lumpur",
          "Kuala Lumpur",
          "Kuala Lumpur",
          "Kuala Lumpur",
          "Kuala Lumpur",
          "Kuala Lumpur",
          "Kuala Lumpur",
          "Kuala Lumpur",
          "Kuala Lumpur",
          "Kuala Lumpur",
          "Kuala Lumpur",
          "Kuala Lumpur",
          "Kuala Lumpur",
          "Kuala Lumpur",
          "Kuala Lumpur",
          "Kuala Lumpur",
          "Kuala Lumpur",
          "Kuala Lumpur",
          "Kuala Lumpur",
          "Kuala Lumpur",
          "Kuala Lumpur",
          "Kuala Lumpur",
          "Kuala Lumpur",
          "Kuala Lumpur",
          "Kuala Lumpur",
          "Kuala Lumpur",
          "Kuala Lumpur",
          "Kuala Lumpur",
          "Kuala Lumpur",
          "Kuala Lumpur",
          "Kuala Lumpur",
          "Kuala Lumpur",
          "Kuala Lumpur",
          "Kuala Lumpur",
          "Kuala Lumpur",
          "Kuala Lumpur",
          "Kuala Lumpur",
          "Kuala Lumpur",
          "Kuala Lumpur",
          "Kuala Lumpur",
          "Kuala Lumpur",
          "Kuala Lumpur",
          "Kuala Lumpur",
          "Kuala Lumpur",
          "Kuala Lumpur",
          "Kuala Lumpur",
          "Kuala Lumpur",
          "Kuala Lumpur",
          "Kuala Lumpur",
          "Kuala Lumpur",
          "Kuala Lumpur",
          "Kuala Lumpur",
          "Kuala Lumpur",
          "Kuala Lumpur",
          "Kuala Lumpur",
          "Kuala Lumpur",
          "Kuala Lumpur",
          "Kuala Lumpur",
          "Kuala Lumpur",
          "Kuala Lumpur",
          "Kuala Lumpur",
          "Kuala Lumpur",
          "Kuala Lumpur",
          "Kuala Lumpur",
          "Kuala Lumpur",
          "Kuala Lumpur",
          "Kuala Lumpur",
          "Kuala Lumpur",
          "Kuala Lumpur",
          "Kuala Lumpur",
          "Kuala Lumpur",
          "Kuala Lumpur",
          "Kuala Lumpur",
          "Kuala Lumpur",
          "Kuala Lumpur",
          "Kuala Lumpur",
          "Kuala Lumpur",
          "Kuala Lumpur",
          "Kuala Lumpur",
          "Kuala Lumpur",
          "Kuala Lumpur",
          "Kuala Lumpur",
          "Kuala Lumpur",
          "Kuala Lumpur",
          "Kuala Lumpur",
          "Kuala Lumpur",
          "Kuala Lumpur",
          "Kuala Lumpur",
          "Kuala Lumpur",
          "Kuala Lumpur",
          "Kuala Lumpur",
          "Kuala Lumpur",
          "Kuala Lumpur",
          "Kuala Lumpur",
          "Kuala Lumpur",
          "Kuala Lumpur",
          "Kuala Lumpur",
          "Kuala Lumpur",
          "Kuala Lumpur",
          "Kuala Lumpur",
          "Kuala Lumpur",
          "Kuala Lumpur",
          "Kuala Lumpur",
          "Kuala Lumpur",
          "Kuala Lumpur",
          "Singapore",
          "Singapore",
          "Singapore",
          "Singapore",
          "Singapore",
          "Singapore",
          "Singapore",
          "Singapore",
          "Singapore",
          "Singapore",
          "Singapore",
          "Singapore",
          "Singapore",
          "Singapore",
          "Singapore",
          "Singapore",
          "Singapore",
          "Singapore",
          "Singapore",
          "Singapore",
          "Singapore",
          "Singapore",
          "Singapore",
          "Singapore",
          "Singapore",
          "Singapore",
          "Singapore",
          "Singapore",
          "Singapore",
          "Singapore",
          "Singapore",
          "Singapore",
          "Singapore",
          "Singapore",
          "Singapore",
          "Singapore",
          "Singapore",
          "Singapore",
          "Singapore",
          "Singapore",
          "Singapore",
          "Singapore",
          "Singapore",
          "Singapore",
          "Singapore",
          "Singapore",
          "Singapore",
          "Singapore",
          "Singapore",
          "Singapore",
          "Singapore",
          "Singapore",
          "Singapore",
          "Singapore",
          "Singapore",
          "Singapore",
          "Singapore",
          "Singapore",
          "Singapore",
          "Singapore",
          "Singapore",
          "Singapore",
          "Singapore",
          "Singapore",
          "Singapore",
          "Singapore",
          "Singapore",
          "Singapore",
          "Singapore",
          "Singapore",
          "Singapore",
          "Singapore",
          "Singapore",
          "Singapore",
          "Singapore",
          "Singapore",
          "Singapore",
          "Singapore",
          "Singapore",
          "Singapore",
          "Singapore",
          "Singapore",
          "Singapore",
          "Singapore",
          "Singapore",
          "Singapore",
          "Singapore",
          "Singapore",
          "Singapore",
          "Singapore",
          "Singapore",
          "Singapore",
          "Singapore",
          "Singapore",
          "Singapore",
          "Singapore",
          "Singapore",
          "Singapore",
          "Singapore",
          "Singapore",
          "Singapore",
          "Singapore",
          "Singapore",
          "Singapore",
          "Singapore",
          "Singapore",
          "Singapore",
          "Singapore",
          "Singapore",
          "Singapore",
          "Singapore",
          "Singapore",
          "Singapore",
          "Singapore",
          "Singapore",
          "Singapore",
          "Singapore",
          "Singapore",
          "Singapore",
          "Singapore",
          "Singapore",
          "Singapore",
          "Singapore",
          "Singapore",
          "Singapore",
          "Singapore",
          "Singapore",
          "Singapore",
          "Singapore",
          "Singapore",
          "Singapore",
          "Singapore",
          "Singapore",
          "Singapore",
          "Singapore",
          "Singapore",
          "Singapore",
          "Singapore",
          "Singapore",
          "Singapore",
          "Singapore",
          "Singapore",
          "Singapore",
          "Singapore",
          "Singapore",
          "Singapore",
          "Singapore",
          "Singapore",
          "Singapore",
          "Singapore",
          "Singapore",
          "Singapore",
          "Singapore",
          "Singapore",
          "Singapore",
          "Singapore",
          "Singapore",
          "Singapore",
          "Singapore",
          "Singapore",
          "Singapore",
          "Singapore",
          "Singapore",
          "Singapore",
          "Singapore",
          "Singapore",
          "Singapore",
          "Singapore",
          "Singapore",
          "Singapore",
          "Singapore",
          "Singapore",
          "Singapore",
          "Singapore",
          "Singapore",
          "Singapore",
          "Singapore",
          "Singapore",
          "Singapore",
          "Singapore",
          "Singapore",
          "Singapore",
          "Singapore",
          "Singapore",
          "Singapore",
          "Singapore",
          "Singapore",
          "Singapore",
          "Montreal",
          "Montreal",
          "Montreal",
          "Montreal",
          "Montreal",
          "Montreal",
          "Montreal",
          "Montreal",
          "Montreal",
          "Montreal",
          "Montreal",
          "Montreal",
          "Montreal",
          "Montreal",
          "Montreal",
          "Montreal",
          "Montreal",
          "Montreal",
          "Montreal",
          "Montreal",
          "Montreal",
          "Montreal",
          "Montreal",
          "Montreal",
          "Montreal",
          "Montreal",
          "Montreal",
          "Montreal",
          "Montreal",
          "Montreal",
          "Montreal",
          "Montreal",
          "Montreal",
          "Montreal",
          "Montreal",
          "Montreal",
          "Montreal",
          "Montreal",
          "Montreal",
          "Montreal",
          "Montreal",
          "Montreal",
          "Montreal",
          "Montreal",
          "Montreal",
          "Montreal",
          "Montreal",
          "Montreal",
          "Montreal",
          "Montreal",
          "Montreal",
          "Montreal",
          "Montreal",
          "Montreal",
          "Montreal",
          "Montreal",
          "Montreal",
          "Montreal",
          "Montreal",
          "Montreal",
          "Montreal",
          "Montreal",
          "Montreal",
          "Montreal",
          "Montreal",
          "Montreal",
          "Montreal",
          "Montreal",
          "Montreal",
          "Montreal",
          "Montreal",
          "Montreal",
          "Montreal"
         ],
         "xaxis": "x",
         "y": [
          7710,
          5572,
          8555,
          9015,
          7814,
          7021,
          10523,
          5363,
          9011,
          7523,
          5440,
          4121,
          6732,
          6886,
          17935,
          14500,
          12773,
          11958,
          2387,
          9582,
          13636,
          8462,
          4341,
          8350,
          5500,
          5237,
          7929,
          7294,
          5837,
          5509,
          10726,
          7710,
          5572,
          8555,
          9015,
          7814,
          7021,
          10523,
          5363,
          9011,
          4385,
          6322,
          3682,
          7523,
          4063,
          4411,
          5440,
          702,
          1674,
          2513,
          4671,
          8706,
          6919,
          3654,
          2946,
          7783,
          8545,
          3721,
          2303,
          7382,
          7588,
          10379,
          5641,
          4550,
          4477,
          7870,
          9145,
          3827,
          7720,
          7646,
          7012,
          11635,
          6810,
          6545,
          8305,
          6811,
          17809,
          2927,
          3987,
          4834,
          9108,
          8618,
          8359,
          6286,
          6876,
          6492,
          7344,
          11278,
          9566,
          4607,
          9177,
          6558,
          9273,
          11360,
          10857,
          719,
          1116,
          3837,
          4860,
          2132,
          6108,
          8722,
          2452,
          7735,
          4223,
          5471,
          5398,
          4487,
          7663,
          6259,
          10833,
          3455,
          9109,
          9829,
          10667,
          8497,
          8274,
          3270,
          6190,
          3203,
          5933,
          5642,
          3502,
          5738,
          6762,
          4705,
          9680,
          1938,
          11791,
          23395,
          23505,
          13246,
          6628,
          25491,
          3951,
          19441,
          8777,
          9941,
          34986,
          7821,
          12914,
          26290,
          11817,
          28168,
          33348,
          17756,
          14781,
          8685,
          17794,
          16793,
          7545,
          57673,
          36249,
          10764,
          24102,
          13365,
          42117,
          33254,
          24063,
          27319,
          49481,
          39662,
          60219,
          59751,
          40023,
          60648,
          46772,
          57397,
          60252,
          58084,
          47337,
          52170,
          53444,
          40019,
          23901,
          9681,
          3751,
          16092,
          26345,
          26414,
          22760,
          62448,
          28276,
          19301,
          73234,
          38611,
          20343,
          14744,
          30132,
          16109,
          5916,
          28276,
          28276,
          8279,
          11436,
          23626,
          12986,
          31,
          27544,
          7463,
          13975,
          2329,
          9801,
          6489,
          13652,
          16435,
          25697,
          13779,
          22940,
          9466,
          22476,
          9198,
          21830,
          4273,
          31602,
          2090,
          7992,
          12132,
          13246,
          13246,
          612,
          8193,
          46,
          27087,
          10176,
          24892,
          48282,
          13378,
          23548,
          35602,
          37943,
          16565,
          23325,
          23377,
          44680,
          14196,
          0,
          0,
          0,
          19677,
          0,
          5101,
          8593,
          39966,
          44422,
          33392,
          5201,
          31300,
          15086,
          20021,
          12093,
          15306,
          26334,
          19826,
          27782,
          29993,
          32082,
          0,
          66924,
          59130,
          35700,
          44680,
          44680,
          47135,
          20089,
          31660,
          33495,
          20131,
          34453,
          20021,
          20021,
          4469,
          4087,
          612,
          3751,
          16747,
          0,
          26317,
          26071,
          27782,
          27782,
          7145,
          24620,
          7704,
          25899,
          6923,
          11198,
          19467,
          21235,
          30189,
          19759,
          46765,
          16379,
          25679,
          3573,
          12659,
          2592,
          50718,
          17265,
          64704,
          18927,
          38528,
          62073,
          63417,
          38957,
          36951,
          68783,
          58621,
          75490,
          72921,
          73234,
          30391,
          53475,
          2492,
          7361,
          13981,
          12098,
          19348,
          18163,
          9739,
          10901,
          12373,
          20061,
          22646,
          8900,
          9766,
          15020,
          13222,
          16004,
          11166,
          9553,
          14259,
          15790,
          18122,
          10830,
          5794,
          4619,
          11568,
          11028,
          4679,
          6026,
          12391,
          5877,
          3037,
          5398,
          26210,
          22751,
          13931,
          14688,
          9057,
          11295,
          9310,
          18180,
          9733,
          6375,
          4064,
          6337,
          8294,
          16181,
          19788,
          17278,
          12713,
          12341,
          17909,
          20795,
          21940,
          14580,
          9822,
          8888,
          5505,
          8470,
          3410,
          13931,
          16444,
          8192,
          5897,
          14328,
          12996,
          16952,
          14514,
          19351,
          21516,
          16359,
          16371,
          16004,
          0,
          4240
         ],
         "yaxis": "y"
        },
        {
         "alignmentgroup": "True",
         "bingroup": "x",
         "histfunc": "avg",
         "hovertemplate": "variable=15 Minute Population<br>City=%{x}<br>avg of Population Coverage=%{y}<extra></extra>",
         "legendgroup": "15 Minute Population",
         "marker": {
          "color": "#00cc96"
         },
         "name": "15 Minute Population",
         "offsetgroup": "15 Minute Population",
         "orientation": "v",
         "showlegend": true,
         "type": "histogram",
         "x": [
          "Kuala Lumpur",
          "Kuala Lumpur",
          "Kuala Lumpur",
          "Kuala Lumpur",
          "Kuala Lumpur",
          "Kuala Lumpur",
          "Kuala Lumpur",
          "Kuala Lumpur",
          "Kuala Lumpur",
          "Kuala Lumpur",
          "Kuala Lumpur",
          "Kuala Lumpur",
          "Kuala Lumpur",
          "Kuala Lumpur",
          "Kuala Lumpur",
          "Kuala Lumpur",
          "Kuala Lumpur",
          "Kuala Lumpur",
          "Kuala Lumpur",
          "Kuala Lumpur",
          "Kuala Lumpur",
          "Kuala Lumpur",
          "Kuala Lumpur",
          "Kuala Lumpur",
          "Kuala Lumpur",
          "Kuala Lumpur",
          "Kuala Lumpur",
          "Kuala Lumpur",
          "Kuala Lumpur",
          "Kuala Lumpur",
          "Kuala Lumpur",
          "Kuala Lumpur",
          "Kuala Lumpur",
          "Kuala Lumpur",
          "Kuala Lumpur",
          "Kuala Lumpur",
          "Kuala Lumpur",
          "Kuala Lumpur",
          "Kuala Lumpur",
          "Kuala Lumpur",
          "Kuala Lumpur",
          "Kuala Lumpur",
          "Kuala Lumpur",
          "Kuala Lumpur",
          "Kuala Lumpur",
          "Kuala Lumpur",
          "Kuala Lumpur",
          "Kuala Lumpur",
          "Kuala Lumpur",
          "Kuala Lumpur",
          "Kuala Lumpur",
          "Kuala Lumpur",
          "Kuala Lumpur",
          "Kuala Lumpur",
          "Kuala Lumpur",
          "Kuala Lumpur",
          "Kuala Lumpur",
          "Kuala Lumpur",
          "Kuala Lumpur",
          "Kuala Lumpur",
          "Kuala Lumpur",
          "Kuala Lumpur",
          "Kuala Lumpur",
          "Kuala Lumpur",
          "Kuala Lumpur",
          "Kuala Lumpur",
          "Kuala Lumpur",
          "Kuala Lumpur",
          "Kuala Lumpur",
          "Kuala Lumpur",
          "Kuala Lumpur",
          "Kuala Lumpur",
          "Kuala Lumpur",
          "Kuala Lumpur",
          "Kuala Lumpur",
          "Kuala Lumpur",
          "Kuala Lumpur",
          "Kuala Lumpur",
          "Kuala Lumpur",
          "Kuala Lumpur",
          "Kuala Lumpur",
          "Kuala Lumpur",
          "Kuala Lumpur",
          "Kuala Lumpur",
          "Kuala Lumpur",
          "Kuala Lumpur",
          "Kuala Lumpur",
          "Kuala Lumpur",
          "Kuala Lumpur",
          "Kuala Lumpur",
          "Kuala Lumpur",
          "Kuala Lumpur",
          "Kuala Lumpur",
          "Kuala Lumpur",
          "Kuala Lumpur",
          "Kuala Lumpur",
          "Kuala Lumpur",
          "Kuala Lumpur",
          "Kuala Lumpur",
          "Kuala Lumpur",
          "Kuala Lumpur",
          "Kuala Lumpur",
          "Kuala Lumpur",
          "Kuala Lumpur",
          "Kuala Lumpur",
          "Kuala Lumpur",
          "Kuala Lumpur",
          "Kuala Lumpur",
          "Kuala Lumpur",
          "Kuala Lumpur",
          "Kuala Lumpur",
          "Kuala Lumpur",
          "Kuala Lumpur",
          "Kuala Lumpur",
          "Kuala Lumpur",
          "Kuala Lumpur",
          "Kuala Lumpur",
          "Kuala Lumpur",
          "Kuala Lumpur",
          "Kuala Lumpur",
          "Kuala Lumpur",
          "Kuala Lumpur",
          "Kuala Lumpur",
          "Kuala Lumpur",
          "Kuala Lumpur",
          "Kuala Lumpur",
          "Singapore",
          "Singapore",
          "Singapore",
          "Singapore",
          "Singapore",
          "Singapore",
          "Singapore",
          "Singapore",
          "Singapore",
          "Singapore",
          "Singapore",
          "Singapore",
          "Singapore",
          "Singapore",
          "Singapore",
          "Singapore",
          "Singapore",
          "Singapore",
          "Singapore",
          "Singapore",
          "Singapore",
          "Singapore",
          "Singapore",
          "Singapore",
          "Singapore",
          "Singapore",
          "Singapore",
          "Singapore",
          "Singapore",
          "Singapore",
          "Singapore",
          "Singapore",
          "Singapore",
          "Singapore",
          "Singapore",
          "Singapore",
          "Singapore",
          "Singapore",
          "Singapore",
          "Singapore",
          "Singapore",
          "Singapore",
          "Singapore",
          "Singapore",
          "Singapore",
          "Singapore",
          "Singapore",
          "Singapore",
          "Singapore",
          "Singapore",
          "Singapore",
          "Singapore",
          "Singapore",
          "Singapore",
          "Singapore",
          "Singapore",
          "Singapore",
          "Singapore",
          "Singapore",
          "Singapore",
          "Singapore",
          "Singapore",
          "Singapore",
          "Singapore",
          "Singapore",
          "Singapore",
          "Singapore",
          "Singapore",
          "Singapore",
          "Singapore",
          "Singapore",
          "Singapore",
          "Singapore",
          "Singapore",
          "Singapore",
          "Singapore",
          "Singapore",
          "Singapore",
          "Singapore",
          "Singapore",
          "Singapore",
          "Singapore",
          "Singapore",
          "Singapore",
          "Singapore",
          "Singapore",
          "Singapore",
          "Singapore",
          "Singapore",
          "Singapore",
          "Singapore",
          "Singapore",
          "Singapore",
          "Singapore",
          "Singapore",
          "Singapore",
          "Singapore",
          "Singapore",
          "Singapore",
          "Singapore",
          "Singapore",
          "Singapore",
          "Singapore",
          "Singapore",
          "Singapore",
          "Singapore",
          "Singapore",
          "Singapore",
          "Singapore",
          "Singapore",
          "Singapore",
          "Singapore",
          "Singapore",
          "Singapore",
          "Singapore",
          "Singapore",
          "Singapore",
          "Singapore",
          "Singapore",
          "Singapore",
          "Singapore",
          "Singapore",
          "Singapore",
          "Singapore",
          "Singapore",
          "Singapore",
          "Singapore",
          "Singapore",
          "Singapore",
          "Singapore",
          "Singapore",
          "Singapore",
          "Singapore",
          "Singapore",
          "Singapore",
          "Singapore",
          "Singapore",
          "Singapore",
          "Singapore",
          "Singapore",
          "Singapore",
          "Singapore",
          "Singapore",
          "Singapore",
          "Singapore",
          "Singapore",
          "Singapore",
          "Singapore",
          "Singapore",
          "Singapore",
          "Singapore",
          "Singapore",
          "Singapore",
          "Singapore",
          "Singapore",
          "Singapore",
          "Singapore",
          "Singapore",
          "Singapore",
          "Singapore",
          "Singapore",
          "Singapore",
          "Singapore",
          "Singapore",
          "Singapore",
          "Singapore",
          "Singapore",
          "Singapore",
          "Singapore",
          "Singapore",
          "Singapore",
          "Singapore",
          "Singapore",
          "Singapore",
          "Singapore",
          "Singapore",
          "Singapore",
          "Singapore",
          "Singapore",
          "Singapore",
          "Singapore",
          "Singapore",
          "Singapore",
          "Singapore",
          "Singapore",
          "Singapore",
          "Singapore",
          "Singapore",
          "Montreal",
          "Montreal",
          "Montreal",
          "Montreal",
          "Montreal",
          "Montreal",
          "Montreal",
          "Montreal",
          "Montreal",
          "Montreal",
          "Montreal",
          "Montreal",
          "Montreal",
          "Montreal",
          "Montreal",
          "Montreal",
          "Montreal",
          "Montreal",
          "Montreal",
          "Montreal",
          "Montreal",
          "Montreal",
          "Montreal",
          "Montreal",
          "Montreal",
          "Montreal",
          "Montreal",
          "Montreal",
          "Montreal",
          "Montreal",
          "Montreal",
          "Montreal",
          "Montreal",
          "Montreal",
          "Montreal",
          "Montreal",
          "Montreal",
          "Montreal",
          "Montreal",
          "Montreal",
          "Montreal",
          "Montreal",
          "Montreal",
          "Montreal",
          "Montreal",
          "Montreal",
          "Montreal",
          "Montreal",
          "Montreal",
          "Montreal",
          "Montreal",
          "Montreal",
          "Montreal",
          "Montreal",
          "Montreal",
          "Montreal",
          "Montreal",
          "Montreal",
          "Montreal",
          "Montreal",
          "Montreal",
          "Montreal",
          "Montreal",
          "Montreal",
          "Montreal",
          "Montreal",
          "Montreal",
          "Montreal",
          "Montreal",
          "Montreal",
          "Montreal",
          "Montreal",
          "Montreal"
         ],
         "xaxis": "x",
         "y": [
          16554,
          15104,
          20457,
          21377,
          16574,
          17712,
          22370,
          14307,
          21086,
          19977,
          15394,
          12314,
          18943,
          16566,
          40666,
          38505,
          34832,
          30937,
          5666,
          16990,
          25927,
          15410,
          8805,
          17657,
          12116,
          14465,
          14499,
          14781,
          10761,
          13889,
          17209,
          16554,
          15104,
          20457,
          21377,
          16574,
          17712,
          22370,
          14307,
          21086,
          8721,
          12776,
          9890,
          19977,
          8068,
          10629,
          15394,
          4281,
          3130,
          5894,
          10137,
          15830,
          16929,
          6935,
          7486,
          17231,
          17672,
          8260,
          7808,
          18028,
          18602,
          24796,
          17305,
          12033,
          11077,
          14232,
          17653,
          12063,
          19391,
          14774,
          18749,
          22995,
          17013,
          18467,
          19607,
          15524,
          37835,
          10573,
          13043,
          14998,
          19682,
          20997,
          19359,
          18481,
          15278,
          13569,
          19530,
          24638,
          20691,
          14554,
          22770,
          18375,
          22631,
          23057,
          23894,
          3570,
          4018,
          10650,
          13078,
          6188,
          15335,
          17932,
          8946,
          15286,
          9265,
          15246,
          12014,
          12526,
          19341,
          16047,
          23359,
          10160,
          19656,
          21947,
          21264,
          21709,
          20585,
          7640,
          12308,
          6703,
          11032,
          9647,
          8779,
          10854,
          18142,
          7102,
          20250,
          6922,
          33135,
          54090,
          49029,
          25840,
          15366,
          56518,
          10583,
          31876,
          23778,
          22384,
          60945,
          17618,
          41755,
          61588,
          24560,
          63748,
          81951,
          49113,
          39049,
          23051,
          40982,
          36927,
          18836,
          136086,
          77980,
          22713,
          54405,
          25414,
          82144,
          69668,
          51604,
          58778,
          121345,
          69215,
          118533,
          121248,
          92820,
          132070,
          93994,
          110467,
          119744,
          115321,
          91710,
          116242,
          108397,
          65417,
          47721,
          21129,
          13117,
          37902,
          56914,
          62610,
          57415,
          123521,
          59768,
          38108,
          164145,
          83114,
          36292,
          47183,
          57133,
          41904,
          16148,
          59768,
          59768,
          17982,
          23127,
          48193,
          28782,
          4019,
          58087,
          17065,
          28770,
          11569,
          21232,
          18483,
          25761,
          43073,
          59852,
          40550,
          51905,
          17657,
          52436,
          16829,
          45439,
          13778,
          68435,
          7677,
          21316,
          25348,
          25840,
          25840,
          1364,
          23777,
          111,
          63940,
          21874,
          49998,
          117226,
          24151,
          52265,
          67806,
          76190,
          34420,
          43521,
          53531,
          94690,
          31498,
          0,
          0,
          0,
          51339,
          0,
          17535,
          25142,
          77451,
          95692,
          78532,
          6994,
          73437,
          49299,
          53262,
          26985,
          33684,
          51646,
          46110,
          48930,
          51343,
          64271,
          1452,
          96799,
          116021,
          78984,
          94690,
          94690,
          117299,
          38212,
          72589,
          75209,
          39592,
          68053,
          53262,
          53262,
          10351,
          12587,
          1364,
          13778,
          38655,
          69,
          56758,
          54176,
          48930,
          48930,
          20232,
          49213,
          24340,
          44089,
          14857,
          20565,
          53951,
          39589,
          66488,
          42406,
          94864,
          38161,
          77476,
          8223,
          30718,
          5853,
          100347,
          62207,
          125535,
          53420,
          80017,
          120780,
          130932,
          65300,
          97627,
          123690,
          104793,
          143484,
          141644,
          164145,
          55205,
          122355,
          5110,
          12499,
          24154,
          34071,
          34945,
          30932,
          17807,
          26183,
          30443,
          35734,
          34705,
          30479,
          26541,
          27712,
          33387,
          33577,
          22879,
          21554,
          26828,
          32403,
          39727,
          25081,
          12442,
          10960,
          22627,
          20409,
          15992,
          15913,
          22654,
          11841,
          6518,
          15770,
          45848,
          47317,
          35180,
          29328,
          21409,
          19856,
          24105,
          34796,
          31775,
          17194,
          16993,
          14875,
          16071,
          34360,
          38751,
          41822,
          29056,
          31346,
          34880,
          43673,
          34746,
          30105,
          21634,
          19195,
          11520,
          19066,
          9675,
          35180,
          37030,
          22826,
          14457,
          29863,
          30986,
          28514,
          34692,
          42511,
          43712,
          40443,
          30414,
          33577,
          0,
          7946
         ],
         "yaxis": "y"
        }
       ],
       "layout": {
        "barmode": "group",
        "legend": {
         "title": {
          "text": "variable"
         },
         "tracegroupgap": 0
        },
        "template": {
         "data": {
          "bar": [
           {
            "error_x": {
             "color": "#2a3f5f"
            },
            "error_y": {
             "color": "#2a3f5f"
            },
            "marker": {
             "line": {
              "color": "#E5ECF6",
              "width": 0.5
             }
            },
            "type": "bar"
           }
          ],
          "barpolar": [
           {
            "marker": {
             "line": {
              "color": "#E5ECF6",
              "width": 0.5
             }
            },
            "type": "barpolar"
           }
          ],
          "carpet": [
           {
            "aaxis": {
             "endlinecolor": "#2a3f5f",
             "gridcolor": "white",
             "linecolor": "white",
             "minorgridcolor": "white",
             "startlinecolor": "#2a3f5f"
            },
            "baxis": {
             "endlinecolor": "#2a3f5f",
             "gridcolor": "white",
             "linecolor": "white",
             "minorgridcolor": "white",
             "startlinecolor": "#2a3f5f"
            },
            "type": "carpet"
           }
          ],
          "choropleth": [
           {
            "colorbar": {
             "outlinewidth": 0,
             "ticks": ""
            },
            "type": "choropleth"
           }
          ],
          "contour": [
           {
            "colorbar": {
             "outlinewidth": 0,
             "ticks": ""
            },
            "colorscale": [
             [
              0,
              "#0d0887"
             ],
             [
              0.1111111111111111,
              "#46039f"
             ],
             [
              0.2222222222222222,
              "#7201a8"
             ],
             [
              0.3333333333333333,
              "#9c179e"
             ],
             [
              0.4444444444444444,
              "#bd3786"
             ],
             [
              0.5555555555555556,
              "#d8576b"
             ],
             [
              0.6666666666666666,
              "#ed7953"
             ],
             [
              0.7777777777777778,
              "#fb9f3a"
             ],
             [
              0.8888888888888888,
              "#fdca26"
             ],
             [
              1,
              "#f0f921"
             ]
            ],
            "type": "contour"
           }
          ],
          "contourcarpet": [
           {
            "colorbar": {
             "outlinewidth": 0,
             "ticks": ""
            },
            "type": "contourcarpet"
           }
          ],
          "heatmap": [
           {
            "colorbar": {
             "outlinewidth": 0,
             "ticks": ""
            },
            "colorscale": [
             [
              0,
              "#0d0887"
             ],
             [
              0.1111111111111111,
              "#46039f"
             ],
             [
              0.2222222222222222,
              "#7201a8"
             ],
             [
              0.3333333333333333,
              "#9c179e"
             ],
             [
              0.4444444444444444,
              "#bd3786"
             ],
             [
              0.5555555555555556,
              "#d8576b"
             ],
             [
              0.6666666666666666,
              "#ed7953"
             ],
             [
              0.7777777777777778,
              "#fb9f3a"
             ],
             [
              0.8888888888888888,
              "#fdca26"
             ],
             [
              1,
              "#f0f921"
             ]
            ],
            "type": "heatmap"
           }
          ],
          "heatmapgl": [
           {
            "colorbar": {
             "outlinewidth": 0,
             "ticks": ""
            },
            "colorscale": [
             [
              0,
              "#0d0887"
             ],
             [
              0.1111111111111111,
              "#46039f"
             ],
             [
              0.2222222222222222,
              "#7201a8"
             ],
             [
              0.3333333333333333,
              "#9c179e"
             ],
             [
              0.4444444444444444,
              "#bd3786"
             ],
             [
              0.5555555555555556,
              "#d8576b"
             ],
             [
              0.6666666666666666,
              "#ed7953"
             ],
             [
              0.7777777777777778,
              "#fb9f3a"
             ],
             [
              0.8888888888888888,
              "#fdca26"
             ],
             [
              1,
              "#f0f921"
             ]
            ],
            "type": "heatmapgl"
           }
          ],
          "histogram": [
           {
            "marker": {
             "colorbar": {
              "outlinewidth": 0,
              "ticks": ""
             }
            },
            "type": "histogram"
           }
          ],
          "histogram2d": [
           {
            "colorbar": {
             "outlinewidth": 0,
             "ticks": ""
            },
            "colorscale": [
             [
              0,
              "#0d0887"
             ],
             [
              0.1111111111111111,
              "#46039f"
             ],
             [
              0.2222222222222222,
              "#7201a8"
             ],
             [
              0.3333333333333333,
              "#9c179e"
             ],
             [
              0.4444444444444444,
              "#bd3786"
             ],
             [
              0.5555555555555556,
              "#d8576b"
             ],
             [
              0.6666666666666666,
              "#ed7953"
             ],
             [
              0.7777777777777778,
              "#fb9f3a"
             ],
             [
              0.8888888888888888,
              "#fdca26"
             ],
             [
              1,
              "#f0f921"
             ]
            ],
            "type": "histogram2d"
           }
          ],
          "histogram2dcontour": [
           {
            "colorbar": {
             "outlinewidth": 0,
             "ticks": ""
            },
            "colorscale": [
             [
              0,
              "#0d0887"
             ],
             [
              0.1111111111111111,
              "#46039f"
             ],
             [
              0.2222222222222222,
              "#7201a8"
             ],
             [
              0.3333333333333333,
              "#9c179e"
             ],
             [
              0.4444444444444444,
              "#bd3786"
             ],
             [
              0.5555555555555556,
              "#d8576b"
             ],
             [
              0.6666666666666666,
              "#ed7953"
             ],
             [
              0.7777777777777778,
              "#fb9f3a"
             ],
             [
              0.8888888888888888,
              "#fdca26"
             ],
             [
              1,
              "#f0f921"
             ]
            ],
            "type": "histogram2dcontour"
           }
          ],
          "mesh3d": [
           {
            "colorbar": {
             "outlinewidth": 0,
             "ticks": ""
            },
            "type": "mesh3d"
           }
          ],
          "parcoords": [
           {
            "line": {
             "colorbar": {
              "outlinewidth": 0,
              "ticks": ""
             }
            },
            "type": "parcoords"
           }
          ],
          "pie": [
           {
            "automargin": true,
            "type": "pie"
           }
          ],
          "scatter": [
           {
            "marker": {
             "colorbar": {
              "outlinewidth": 0,
              "ticks": ""
             }
            },
            "type": "scatter"
           }
          ],
          "scatter3d": [
           {
            "line": {
             "colorbar": {
              "outlinewidth": 0,
              "ticks": ""
             }
            },
            "marker": {
             "colorbar": {
              "outlinewidth": 0,
              "ticks": ""
             }
            },
            "type": "scatter3d"
           }
          ],
          "scattercarpet": [
           {
            "marker": {
             "colorbar": {
              "outlinewidth": 0,
              "ticks": ""
             }
            },
            "type": "scattercarpet"
           }
          ],
          "scattergeo": [
           {
            "marker": {
             "colorbar": {
              "outlinewidth": 0,
              "ticks": ""
             }
            },
            "type": "scattergeo"
           }
          ],
          "scattergl": [
           {
            "marker": {
             "colorbar": {
              "outlinewidth": 0,
              "ticks": ""
             }
            },
            "type": "scattergl"
           }
          ],
          "scattermapbox": [
           {
            "marker": {
             "colorbar": {
              "outlinewidth": 0,
              "ticks": ""
             }
            },
            "type": "scattermapbox"
           }
          ],
          "scatterpolar": [
           {
            "marker": {
             "colorbar": {
              "outlinewidth": 0,
              "ticks": ""
             }
            },
            "type": "scatterpolar"
           }
          ],
          "scatterpolargl": [
           {
            "marker": {
             "colorbar": {
              "outlinewidth": 0,
              "ticks": ""
             }
            },
            "type": "scatterpolargl"
           }
          ],
          "scatterternary": [
           {
            "marker": {
             "colorbar": {
              "outlinewidth": 0,
              "ticks": ""
             }
            },
            "type": "scatterternary"
           }
          ],
          "surface": [
           {
            "colorbar": {
             "outlinewidth": 0,
             "ticks": ""
            },
            "colorscale": [
             [
              0,
              "#0d0887"
             ],
             [
              0.1111111111111111,
              "#46039f"
             ],
             [
              0.2222222222222222,
              "#7201a8"
             ],
             [
              0.3333333333333333,
              "#9c179e"
             ],
             [
              0.4444444444444444,
              "#bd3786"
             ],
             [
              0.5555555555555556,
              "#d8576b"
             ],
             [
              0.6666666666666666,
              "#ed7953"
             ],
             [
              0.7777777777777778,
              "#fb9f3a"
             ],
             [
              0.8888888888888888,
              "#fdca26"
             ],
             [
              1,
              "#f0f921"
             ]
            ],
            "type": "surface"
           }
          ],
          "table": [
           {
            "cells": {
             "fill": {
              "color": "#EBF0F8"
             },
             "line": {
              "color": "white"
             }
            },
            "header": {
             "fill": {
              "color": "#C8D4E3"
             },
             "line": {
              "color": "white"
             }
            },
            "type": "table"
           }
          ]
         },
         "layout": {
          "annotationdefaults": {
           "arrowcolor": "#2a3f5f",
           "arrowhead": 0,
           "arrowwidth": 1
          },
          "coloraxis": {
           "colorbar": {
            "outlinewidth": 0,
            "ticks": ""
           }
          },
          "colorscale": {
           "diverging": [
            [
             0,
             "#8e0152"
            ],
            [
             0.1,
             "#c51b7d"
            ],
            [
             0.2,
             "#de77ae"
            ],
            [
             0.3,
             "#f1b6da"
            ],
            [
             0.4,
             "#fde0ef"
            ],
            [
             0.5,
             "#f7f7f7"
            ],
            [
             0.6,
             "#e6f5d0"
            ],
            [
             0.7,
             "#b8e186"
            ],
            [
             0.8,
             "#7fbc41"
            ],
            [
             0.9,
             "#4d9221"
            ],
            [
             1,
             "#276419"
            ]
           ],
           "sequential": [
            [
             0,
             "#0d0887"
            ],
            [
             0.1111111111111111,
             "#46039f"
            ],
            [
             0.2222222222222222,
             "#7201a8"
            ],
            [
             0.3333333333333333,
             "#9c179e"
            ],
            [
             0.4444444444444444,
             "#bd3786"
            ],
            [
             0.5555555555555556,
             "#d8576b"
            ],
            [
             0.6666666666666666,
             "#ed7953"
            ],
            [
             0.7777777777777778,
             "#fb9f3a"
            ],
            [
             0.8888888888888888,
             "#fdca26"
            ],
            [
             1,
             "#f0f921"
            ]
           ],
           "sequentialminus": [
            [
             0,
             "#0d0887"
            ],
            [
             0.1111111111111111,
             "#46039f"
            ],
            [
             0.2222222222222222,
             "#7201a8"
            ],
            [
             0.3333333333333333,
             "#9c179e"
            ],
            [
             0.4444444444444444,
             "#bd3786"
            ],
            [
             0.5555555555555556,
             "#d8576b"
            ],
            [
             0.6666666666666666,
             "#ed7953"
            ],
            [
             0.7777777777777778,
             "#fb9f3a"
            ],
            [
             0.8888888888888888,
             "#fdca26"
            ],
            [
             1,
             "#f0f921"
            ]
           ]
          },
          "colorway": [
           "#636efa",
           "#EF553B",
           "#00cc96",
           "#ab63fa",
           "#FFA15A",
           "#19d3f3",
           "#FF6692",
           "#B6E880",
           "#FF97FF",
           "#FECB52"
          ],
          "font": {
           "color": "#2a3f5f"
          },
          "geo": {
           "bgcolor": "white",
           "lakecolor": "white",
           "landcolor": "#E5ECF6",
           "showlakes": true,
           "showland": true,
           "subunitcolor": "white"
          },
          "hoverlabel": {
           "align": "left"
          },
          "hovermode": "closest",
          "mapbox": {
           "style": "light"
          },
          "paper_bgcolor": "white",
          "plot_bgcolor": "#E5ECF6",
          "polar": {
           "angularaxis": {
            "gridcolor": "white",
            "linecolor": "white",
            "ticks": ""
           },
           "bgcolor": "#E5ECF6",
           "radialaxis": {
            "gridcolor": "white",
            "linecolor": "white",
            "ticks": ""
           }
          },
          "scene": {
           "xaxis": {
            "backgroundcolor": "#E5ECF6",
            "gridcolor": "white",
            "gridwidth": 2,
            "linecolor": "white",
            "showbackground": true,
            "ticks": "",
            "zerolinecolor": "white"
           },
           "yaxis": {
            "backgroundcolor": "#E5ECF6",
            "gridcolor": "white",
            "gridwidth": 2,
            "linecolor": "white",
            "showbackground": true,
            "ticks": "",
            "zerolinecolor": "white"
           },
           "zaxis": {
            "backgroundcolor": "#E5ECF6",
            "gridcolor": "white",
            "gridwidth": 2,
            "linecolor": "white",
            "showbackground": true,
            "ticks": "",
            "zerolinecolor": "white"
           }
          },
          "shapedefaults": {
           "line": {
            "color": "#2a3f5f"
           }
          },
          "ternary": {
           "aaxis": {
            "gridcolor": "white",
            "linecolor": "white",
            "ticks": ""
           },
           "baxis": {
            "gridcolor": "white",
            "linecolor": "white",
            "ticks": ""
           },
           "bgcolor": "#E5ECF6",
           "caxis": {
            "gridcolor": "white",
            "linecolor": "white",
            "ticks": ""
           }
          },
          "title": {
           "x": 0.05
          },
          "xaxis": {
           "automargin": true,
           "gridcolor": "white",
           "linecolor": "white",
           "ticks": "",
           "title": {
            "standoff": 15
           },
           "zerolinecolor": "white",
           "zerolinewidth": 2
          },
          "yaxis": {
           "automargin": true,
           "gridcolor": "white",
           "linecolor": "white",
           "ticks": "",
           "title": {
            "standoff": 15
           },
           "zerolinecolor": "white",
           "zerolinewidth": 2
          }
         }
        },
        "title": {
         "text": "Population coverage within walking times from station"
        },
        "xaxis": {
         "anchor": "y",
         "categoryorder": "total ascending",
         "domain": [
          0,
          1
         ],
         "title": {
          "text": "City"
         }
        },
        "yaxis": {
         "anchor": "x",
         "domain": [
          0,
          1
         ],
         "title": {
          "text": "avg of Population Coverage"
         }
        }
       }
      }
     },
     "metadata": {},
     "output_type": "display_data"
    }
   ],
   "source": [
    "fig = px.histogram(data_temp\n",
    "             ,x='City'\n",
    "             ,y=['5 Minute Population','10 Minute Population','15 Minute Population']\n",
    "             , barmode = 'group'\n",
    "             , title=\"Population coverage within walking times from station\"\n",
    "             , template='plotly'\n",
    "             , histfunc = 'avg'\n",
    "             ,labels={'Route Name': \"Lines\",'value':'Population Coverage'}\n",
    "            ).update_xaxes(categoryorder='total ascending')\n",
    "\n",
    "fig.show() "
   ]
  },
  {
   "cell_type": "code",
   "execution_count": 12,
   "metadata": {},
   "outputs": [
    {
     "data": {
      "text/html": [
       "<div>\n",
       "<style scoped>\n",
       "    .dataframe tbody tr th:only-of-type {\n",
       "        vertical-align: middle;\n",
       "    }\n",
       "\n",
       "    .dataframe tbody tr th {\n",
       "        vertical-align: top;\n",
       "    }\n",
       "\n",
       "    .dataframe thead th {\n",
       "        text-align: right;\n",
       "    }\n",
       "</style>\n",
       "<table border=\"1\" class=\"dataframe\">\n",
       "  <thead>\n",
       "    <tr style=\"text-align: right;\">\n",
       "      <th></th>\n",
       "      <th>Unnamed: 0</th>\n",
       "      <th>Object ID</th>\n",
       "      <th>Latitude</th>\n",
       "      <th>Longitude</th>\n",
       "      <th>5 Minute Range Area</th>\n",
       "      <th>10 Minute Range Area</th>\n",
       "      <th>15 Minute Range Area</th>\n",
       "      <th>5 Minute Reach Factor</th>\n",
       "      <th>10 Minute Reach Factor</th>\n",
       "      <th>15 Minute Reach Factor</th>\n",
       "      <th>5 Minute Population</th>\n",
       "      <th>10 Minute Population</th>\n",
       "      <th>15 Minute Population</th>\n",
       "    </tr>\n",
       "  </thead>\n",
       "  <tbody>\n",
       "    <tr>\n",
       "      <th>count</th>\n",
       "      <td>73.000000</td>\n",
       "      <td>73.000000</td>\n",
       "      <td>73.000000</td>\n",
       "      <td>73.000000</td>\n",
       "      <td>73.000000</td>\n",
       "      <td>73.000000</td>\n",
       "      <td>73.000000</td>\n",
       "      <td>73.000000</td>\n",
       "      <td>73.000000</td>\n",
       "      <td>73.000000</td>\n",
       "      <td>73.000000</td>\n",
       "      <td>73.000000</td>\n",
       "      <td>73.000000</td>\n",
       "    </tr>\n",
       "    <tr>\n",
       "      <th>mean</th>\n",
       "      <td>36.000000</td>\n",
       "      <td>37.000000</td>\n",
       "      <td>45.517212</td>\n",
       "      <td>-73.594474</td>\n",
       "      <td>0.358951</td>\n",
       "      <td>1.412011</td>\n",
       "      <td>3.182533</td>\n",
       "      <td>0.658122</td>\n",
       "      <td>0.647216</td>\n",
       "      <td>0.648342</td>\n",
       "      <td>3004.232877</td>\n",
       "      <td>12420.000000</td>\n",
       "      <td>26623.205479</td>\n",
       "    </tr>\n",
       "    <tr>\n",
       "      <th>std</th>\n",
       "      <td>21.217131</td>\n",
       "      <td>21.217131</td>\n",
       "      <td>0.033642</td>\n",
       "      <td>0.043131</td>\n",
       "      <td>0.057985</td>\n",
       "      <td>0.159607</td>\n",
       "      <td>0.350956</td>\n",
       "      <td>0.106314</td>\n",
       "      <td>0.073157</td>\n",
       "      <td>0.071500</td>\n",
       "      <td>1852.730009</td>\n",
       "      <td>5592.401089</td>\n",
       "      <td>10386.848176</td>\n",
       "    </tr>\n",
       "    <tr>\n",
       "      <th>min</th>\n",
       "      <td>0.000000</td>\n",
       "      <td>1.000000</td>\n",
       "      <td>45.446238</td>\n",
       "      <td>-73.721530</td>\n",
       "      <td>0.083456</td>\n",
       "      <td>0.805200</td>\n",
       "      <td>1.877722</td>\n",
       "      <td>0.153000</td>\n",
       "      <td>0.369100</td>\n",
       "      <td>0.382500</td>\n",
       "      <td>0.000000</td>\n",
       "      <td>0.000000</td>\n",
       "      <td>0.000000</td>\n",
       "    </tr>\n",
       "    <tr>\n",
       "      <th>25%</th>\n",
       "      <td>18.000000</td>\n",
       "      <td>19.000000</td>\n",
       "      <td>45.494891</td>\n",
       "      <td>-73.620030</td>\n",
       "      <td>0.345859</td>\n",
       "      <td>1.361880</td>\n",
       "      <td>3.054840</td>\n",
       "      <td>0.634100</td>\n",
       "      <td>0.624200</td>\n",
       "      <td>0.622300</td>\n",
       "      <td>1626.000000</td>\n",
       "      <td>8470.000000</td>\n",
       "      <td>19066.000000</td>\n",
       "    </tr>\n",
       "    <tr>\n",
       "      <th>50%</th>\n",
       "      <td>36.000000</td>\n",
       "      <td>37.000000</td>\n",
       "      <td>45.514946</td>\n",
       "      <td>-73.582060</td>\n",
       "      <td>0.377268</td>\n",
       "      <td>1.464512</td>\n",
       "      <td>3.311741</td>\n",
       "      <td>0.691700</td>\n",
       "      <td>0.671300</td>\n",
       "      <td>0.674700</td>\n",
       "      <td>2871.000000</td>\n",
       "      <td>12373.000000</td>\n",
       "      <td>28514.000000</td>\n",
       "    </tr>\n",
       "    <tr>\n",
       "      <th>75%</th>\n",
       "      <td>54.000000</td>\n",
       "      <td>55.000000</td>\n",
       "      <td>45.541717</td>\n",
       "      <td>-73.561780</td>\n",
       "      <td>0.394780</td>\n",
       "      <td>1.522550</td>\n",
       "      <td>3.425047</td>\n",
       "      <td>0.723800</td>\n",
       "      <td>0.697900</td>\n",
       "      <td>0.697700</td>\n",
       "      <td>4028.000000</td>\n",
       "      <td>16359.000000</td>\n",
       "      <td>34692.000000</td>\n",
       "    </tr>\n",
       "    <tr>\n",
       "      <th>max</th>\n",
       "      <td>72.000000</td>\n",
       "      <td>73.000000</td>\n",
       "      <td>45.596409</td>\n",
       "      <td>-73.521970</td>\n",
       "      <td>0.424272</td>\n",
       "      <td>1.589297</td>\n",
       "      <td>3.546407</td>\n",
       "      <td>0.777900</td>\n",
       "      <td>0.728500</td>\n",
       "      <td>0.722500</td>\n",
       "      <td>10093.000000</td>\n",
       "      <td>26210.000000</td>\n",
       "      <td>47317.000000</td>\n",
       "    </tr>\n",
       "  </tbody>\n",
       "</table>\n",
       "</div>"
      ],
      "text/plain": [
       "       Unnamed: 0  Object ID   Latitude  Longitude  5 Minute Range Area  \\\n",
       "count   73.000000  73.000000  73.000000  73.000000            73.000000   \n",
       "mean    36.000000  37.000000  45.517212 -73.594474             0.358951   \n",
       "std     21.217131  21.217131   0.033642   0.043131             0.057985   \n",
       "min      0.000000   1.000000  45.446238 -73.721530             0.083456   \n",
       "25%     18.000000  19.000000  45.494891 -73.620030             0.345859   \n",
       "50%     36.000000  37.000000  45.514946 -73.582060             0.377268   \n",
       "75%     54.000000  55.000000  45.541717 -73.561780             0.394780   \n",
       "max     72.000000  73.000000  45.596409 -73.521970             0.424272   \n",
       "\n",
       "       10 Minute Range Area  15 Minute Range Area  5 Minute Reach Factor  \\\n",
       "count             73.000000             73.000000              73.000000   \n",
       "mean               1.412011              3.182533               0.658122   \n",
       "std                0.159607              0.350956               0.106314   \n",
       "min                0.805200              1.877722               0.153000   \n",
       "25%                1.361880              3.054840               0.634100   \n",
       "50%                1.464512              3.311741               0.691700   \n",
       "75%                1.522550              3.425047               0.723800   \n",
       "max                1.589297              3.546407               0.777900   \n",
       "\n",
       "       10 Minute Reach Factor  15 Minute Reach Factor  5 Minute Population  \\\n",
       "count               73.000000               73.000000            73.000000   \n",
       "mean                 0.647216                0.648342          3004.232877   \n",
       "std                  0.073157                0.071500          1852.730009   \n",
       "min                  0.369100                0.382500             0.000000   \n",
       "25%                  0.624200                0.622300          1626.000000   \n",
       "50%                  0.671300                0.674700          2871.000000   \n",
       "75%                  0.697900                0.697700          4028.000000   \n",
       "max                  0.728500                0.722500         10093.000000   \n",
       "\n",
       "       10 Minute Population  15 Minute Population  \n",
       "count             73.000000             73.000000  \n",
       "mean           12420.000000          26623.205479  \n",
       "std             5592.401089          10386.848176  \n",
       "min                0.000000              0.000000  \n",
       "25%             8470.000000          19066.000000  \n",
       "50%            12373.000000          28514.000000  \n",
       "75%            16359.000000          34692.000000  \n",
       "max            26210.000000          47317.000000  "
      ]
     },
     "execution_count": 12,
     "metadata": {},
     "output_type": "execute_result"
    }
   ],
   "source": [
    "data_mtl.describe()"
   ]
  },
  {
   "cell_type": "markdown",
   "metadata": {},
   "source": [
    "# Conclusions\n",
    "Well as we suspect we dont seem to maximize our train stations for the users compared to other cities like Montreal where our population number is similar or Singapore where our culture and weather are similar. The reasons for that could definitely be further analyzed by looking at individual stations and understanding why it may be so."
   ]
  },
  {
   "cell_type": "markdown",
   "metadata": {},
   "source": [
    "## Appendix\n",
    "### Maps with isochrones of Each KL Line as reference"
   ]
  },
  {
   "cell_type": "code",
   "execution_count": 19,
   "metadata": {},
   "outputs": [
    {
     "name": "stdout",
     "output_type": "stream",
     "text": [
      "Done!\n",
      "Done!\n",
      "Done!\n",
      "Done!\n",
      "Done!\n",
      "Done!\n",
      "Done!\n",
      "Done!\n",
      "Done!\n",
      "Done!\n",
      "Done!\n"
     ]
    }
   ],
   "source": [
    "lines_kl = list(data_kl['Route Name'].unique())\n",
    "maps_kl = []\n",
    "location = data_kl['Latitude'].iloc[0],data_kl['Longitude'].iloc[0]\n",
    "station_kl_dict = dictSetup(data_kl)\n",
    "for line in lines_kl:\n",
    "    map_temp = folium.Map(tiles='OpenStreetMap',location=location ,zoom_start=11)\n",
    "    temp_line = list(data_kl[data_kl['Route Name']==line].index)\n",
    "    temp_dict = stationSubset(station_kl_dict,temp_line)\n",
    "    isoVisualizer(map_temp,temp_dict)\n",
    "    maps_kl.append((map_temp,line))"
   ]
  },
  {
   "cell_type": "code",
   "execution_count": 20,
   "metadata": {},
   "outputs": [
    {
     "data": {
      "text/html": [
       "<div style=\"width:100%;\"><div style=\"position:relative;width:100%;height:0;padding-bottom:60%;\"><span style=\"color:#565656\">Make this Notebook Trusted to load map: File -> Trust Notebook</span><iframe src=\"about:blank\" style=\"position:absolute;width:100%;height:100%;left:0;top:0;border:none !important;\" data-html=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 onload=\"this.contentDocument.open();this.contentDocument.write(atob(this.getAttribute('data-html')));this.contentDocument.close();\" allowfullscreen webkitallowfullscreen mozallowfullscreen></iframe></div></div>"
      ],
      "text/plain": [
       "<folium.folium.Map at 0x7f39625ff850>"
      ]
     },
     "execution_count": 20,
     "metadata": {},
     "output_type": "execute_result"
    }
   ],
   "source": [
    "maps_kl[0][0]"
   ]
  },
  {
   "cell_type": "code",
   "execution_count": 21,
   "metadata": {},
   "outputs": [],
   "source": [
    "def saveMapMultiple(temp_map):\n",
    "    import os\n",
    "    import time\n",
    "    from selenium import webdriver\n",
    "    delay=10\n",
    "    #Save the map as an HTML file\n",
    "    map_name = '{}.png'.format(temp_map[1])\n",
    "    html_name = '{}.html'.format(temp_map[1])\n",
    "    tmpurl='file://{path}/{mapfile}'.format(path=os.getcwd(),mapfile=html_name)\n",
    "    temp_map[0].save(html_name)\n",
    "\n",
    "    #Open a browser window...\n",
    "    browser = webdriver.Firefox()\n",
    "    #..that displays the map...\n",
    "    browser.get(tmpurl)\n",
    "    #Give the map tiles some time to load\n",
    "    time.sleep(delay)\n",
    "    #Grab the screenshot\n",
    "\n",
    "    browser.save_screenshot(map_name)\n",
    "    #Close the browser\n",
    "    browser.quit()\n",
    "    return"
   ]
  },
  {
   "cell_type": "code",
   "execution_count": 22,
   "metadata": {},
   "outputs": [],
   "source": [
    "for kl_map  in maps_kl:\n",
    "    saveMapMultiple(kl_map)"
   ]
  },
  {
   "cell_type": "code",
   "execution_count": null,
   "metadata": {},
   "outputs": [],
   "source": []
  }
 ],
 "metadata": {
  "interpreter": {
   "hash": "89fae134e3601c1aaefc44c89a39110891ae3df6097ca8def977a5a623df3662"
  },
  "kernelspec": {
   "display_name": "Python 3.7.9 64-bit ('ors': conda)",
   "name": "python3"
  },
  "language_info": {
   "name": "python",
   "version": ""
  },
  "orig_nbformat": 2
 },
 "nbformat": 4,
 "nbformat_minor": 2
}